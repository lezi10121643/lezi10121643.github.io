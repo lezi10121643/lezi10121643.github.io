{
 "cells": [
  {
   "cell_type": "code",
   "execution_count": 1,
   "metadata": {
    "collapsed": true
   },
   "outputs": [],
   "source": [
    "from array import array"
   ]
  },
  {
   "cell_type": "markdown",
   "metadata": {},
   "source": [
    "array使用方法： \n",
    "Type code C Type Minimum size in bytes \n",
    "‘c’ character 　　　 　　　　 1 \n",
    "‘b’ signed integer 　　　　　 1 \n",
    "‘B’ unsigned integer 　　　　　 1 \n",
    "‘u’ Unicode character 　　　　　 2 \n",
    "‘h’ signed integer 　　　　　　 2 \n",
    "‘H’ unsigned integer 　　　　　 2 \n",
    "‘i’ signed integer 　　　　　　 2 \n",
    "‘I’ unsigned integer 　　　　　　 2 \n",
    "‘l’ signed integer 　　　　　　　4 \n",
    "‘L’ unsigned integer 　　　　　　 4 \n",
    "‘f’ floating point 　　　　　　　 4 \n",
    "‘d’ floating point 　　　　　　　 8"
   ]
  },
  {
   "cell_type": "code",
   "execution_count": 20,
   "metadata": {},
   "outputs": [
    {
     "data": {
      "text/plain": [
       "array('b', [1, 2, 3, 4])"
      ]
     },
     "execution_count": 20,
     "metadata": {},
     "output_type": "execute_result"
    }
   ],
   "source": [
    "array1 = array('b',[1,2,3,4]) #表示创建一个8位二进制表示的整型数组 -127~128\n",
    "array1"
   ]
  },
  {
   "cell_type": "code",
   "execution_count": 21,
   "metadata": {},
   "outputs": [
    {
     "data": {
      "text/plain": [
       "array.array"
      ]
     },
     "execution_count": 21,
     "metadata": {},
     "output_type": "execute_result"
    }
   ],
   "source": [
    "type(array1)"
   ]
  },
  {
   "cell_type": "code",
   "execution_count": 22,
   "metadata": {},
   "outputs": [
    {
     "data": {
      "text/plain": [
       "array('b', [1, 2, 3, 4, 2])"
      ]
     },
     "execution_count": 22,
     "metadata": {},
     "output_type": "execute_result"
    }
   ],
   "source": [
    "array1.append(2)\n",
    "array1"
   ]
  },
  {
   "cell_type": "code",
   "execution_count": 23,
   "metadata": {},
   "outputs": [
    {
     "data": {
      "text/plain": [
       "array('b', [1, 2, 3, 4, 2, 127])"
      ]
     },
     "execution_count": 23,
     "metadata": {},
     "output_type": "execute_result"
    }
   ],
   "source": [
    "array1.append(127)\n",
    "array1"
   ]
  },
  {
   "cell_type": "code",
   "execution_count": 24,
   "metadata": {},
   "outputs": [
    {
     "ename": "OverflowError",
     "evalue": "signed char is greater than maximum",
     "output_type": "error",
     "traceback": [
      "\u001b[1;31m---------------------------------------------------------------------------\u001b[0m",
      "\u001b[1;31mOverflowError\u001b[0m                             Traceback (most recent call last)",
      "\u001b[1;32m<ipython-input-24-f57f91a03db7>\u001b[0m in \u001b[0;36m<module>\u001b[1;34m()\u001b[0m\n\u001b[1;32m----> 1\u001b[1;33m \u001b[0marray1\u001b[0m\u001b[1;33m.\u001b[0m\u001b[0mappend\u001b[0m\u001b[1;33m(\u001b[0m\u001b[1;36m128\u001b[0m\u001b[1;33m)\u001b[0m\u001b[1;33m\u001b[0m\u001b[0m\n\u001b[0m\u001b[0;32m      2\u001b[0m \u001b[0marray1\u001b[0m\u001b[1;33m\u001b[0m\u001b[0m\n",
      "\u001b[1;31mOverflowError\u001b[0m: signed char is greater than maximum"
     ]
    }
   ],
   "source": [
    "array1.append(128)\n",
    "array1"
   ]
  },
  {
   "cell_type": "code",
   "execution_count": 25,
   "metadata": {},
   "outputs": [
    {
     "data": {
      "text/plain": [
       "array('b', [1, 2, 3, 4, 2, 127, -127])"
      ]
     },
     "execution_count": 25,
     "metadata": {},
     "output_type": "execute_result"
    }
   ],
   "source": [
    "array1.append(-127)\n",
    "array1"
   ]
  },
  {
   "cell_type": "code",
   "execution_count": 26,
   "metadata": {},
   "outputs": [
    {
     "data": {
      "text/plain": [
       "array('b', [1, 2, 3, 4, 2, 127, -127, -128])"
      ]
     },
     "execution_count": 26,
     "metadata": {},
     "output_type": "execute_result"
    }
   ],
   "source": [
    "array1.append(-128)\n",
    "array1"
   ]
  },
  {
   "cell_type": "code",
   "execution_count": 27,
   "metadata": {},
   "outputs": [
    {
     "ename": "OverflowError",
     "evalue": "signed char is less than minimum",
     "output_type": "error",
     "traceback": [
      "\u001b[1;31m---------------------------------------------------------------------------\u001b[0m",
      "\u001b[1;31mOverflowError\u001b[0m                             Traceback (most recent call last)",
      "\u001b[1;32m<ipython-input-27-a2ae0f722ad4>\u001b[0m in \u001b[0;36m<module>\u001b[1;34m()\u001b[0m\n\u001b[1;32m----> 1\u001b[1;33m \u001b[0marray1\u001b[0m\u001b[1;33m.\u001b[0m\u001b[0mappend\u001b[0m\u001b[1;33m(\u001b[0m\u001b[1;33m-\u001b[0m\u001b[1;36m129\u001b[0m\u001b[1;33m)\u001b[0m\u001b[1;33m\u001b[0m\u001b[0m\n\u001b[0m\u001b[0;32m      2\u001b[0m \u001b[0marray1\u001b[0m\u001b[1;33m\u001b[0m\u001b[0m\n",
      "\u001b[1;31mOverflowError\u001b[0m: signed char is less than minimum"
     ]
    }
   ],
   "source": [
    "array1.append(-129)\n",
    "array1"
   ]
  },
  {
   "cell_type": "code",
   "execution_count": 9,
   "metadata": {
    "collapsed": true
   },
   "outputs": [],
   "source": [
    "?array"
   ]
  },
  {
   "cell_type": "markdown",
   "metadata": {},
   "source": [
    "Init signature: array(self, /, *args, **kwargs)\n",
    "Docstring:     \n",
    "array(typecode [, initializer]) -> array\n",
    "\n",
    "Return a new array whose items are restricted by typecode, and\n",
    "initialized from the optional initializer value, which must be a list,\n",
    "string or iterable over elements of the appropriate type.\n",
    "\n",
    "Arrays represent basic values and behave very much like lists, except\n",
    "the type of objects stored in them is constrained. The type is specified\n",
    "at object creation time by using a type code, which is a single character.\n",
    "The following type codes are defined:\n",
    "\n",
    "    Type code   C Type             Minimum size in bytes \n",
    "    'b'         signed integer     1 \n",
    "    'B'         unsigned integer   1 \n",
    "    'u'         Unicode character  2 (see note) \n",
    "    'h'         signed integer     2 \n",
    "    'H'         unsigned integer   2 \n",
    "    'i'         signed integer     2 \n",
    "    'I'         unsigned integer   2 \n",
    "    'l'         signed integer     4 \n",
    "    'L'         unsigned integer   4 \n",
    "    'q'         signed integer     8 (see note) \n",
    "    'Q'         unsigned integer   8 (see note) \n",
    "    'f'         floating point     4 \n",
    "    'd'         floating point     8 \n",
    "\n",
    "NOTE: The 'u' typecode corresponds to Python's unicode character. On \n",
    "narrow builds this is 2-bytes on wide builds this is 4-bytes.\n",
    "\n",
    "NOTE: The 'q' and 'Q' type codes are only available if the platform \n",
    "C compiler used to build Python supports 'long long', or, on Windows, \n",
    "'__int64'.\n",
    "\n",
    "Methods:\n",
    "\n",
    "append() -- append a new item to the end of the array\n",
    "buffer_info() -- return information giving the current memory info\n",
    "byteswap() -- byteswap all the items of the array\n",
    "count() -- return number of occurrences of an object\n",
    "extend() -- extend array by appending multiple elements from an iterable\n",
    "fromfile() -- read items from a file object\n",
    "fromlist() -- append items from the list\n",
    "frombytes() -- append items from the string\n",
    "index() -- return index of first occurrence of an object\n",
    "insert() -- insert a new item into the array at a provided position\n",
    "pop() -- remove and return item (default last)\n",
    "remove() -- remove first occurrence of an object\n",
    "reverse() -- reverse the order of the items in the array\n",
    "tofile() -- write all items to a file object\n",
    "tolist() -- return the array converted to an ordinary list\n",
    "tobytes() -- return the array converted to a string\n",
    "\n",
    "Attributes:\n",
    "\n",
    "typecode -- the typecode character used to create the array\n",
    "itemsize -- the length in bytes of one array item\n",
    "Type:           type"
   ]
  },
  {
   "cell_type": "code",
   "execution_count": 36,
   "metadata": {},
   "outputs": [
    {
     "data": {
      "text/plain": [
       "array('B', [0, 1, 2, 129])"
      ]
     },
     "execution_count": 36,
     "metadata": {},
     "output_type": "execute_result"
    }
   ],
   "source": [
    "array2 = array('B',[0,1,2,129])\n",
    "array2"
   ]
  },
  {
   "cell_type": "code",
   "execution_count": 39,
   "metadata": {},
   "outputs": [
    {
     "ename": "OverflowError",
     "evalue": "unsigned byte integer is less than minimum",
     "output_type": "error",
     "traceback": [
      "\u001b[1;31m---------------------------------------------------------------------------\u001b[0m",
      "\u001b[1;31mOverflowError\u001b[0m                             Traceback (most recent call last)",
      "\u001b[1;32m<ipython-input-39-d50cf5ff6547>\u001b[0m in \u001b[0;36m<module>\u001b[1;34m()\u001b[0m\n\u001b[1;32m----> 1\u001b[1;33m \u001b[0marray2\u001b[0m\u001b[1;33m.\u001b[0m\u001b[0mappend\u001b[0m\u001b[1;33m(\u001b[0m\u001b[1;33m-\u001b[0m\u001b[1;36m1\u001b[0m\u001b[1;33m)\u001b[0m\u001b[1;33m\u001b[0m\u001b[0m\n\u001b[0m",
      "\u001b[1;31mOverflowError\u001b[0m: unsigned byte integer is less than minimum"
     ]
    }
   ],
   "source": [
    "array2.append(-1)"
   ]
  },
  {
   "cell_type": "code",
   "execution_count": 40,
   "metadata": {},
   "outputs": [
    {
     "data": {
      "text/plain": [
       "4"
      ]
     },
     "execution_count": 40,
     "metadata": {},
     "output_type": "execute_result"
    }
   ],
   "source": [
    "len(array2)"
   ]
  },
  {
   "cell_type": "code",
   "execution_count": 41,
   "metadata": {},
   "outputs": [
    {
     "ename": "TypeError",
     "evalue": "count() takes exactly one argument (0 given)",
     "output_type": "error",
     "traceback": [
      "\u001b[1;31m---------------------------------------------------------------------------\u001b[0m",
      "\u001b[1;31mTypeError\u001b[0m                                 Traceback (most recent call last)",
      "\u001b[1;32m<ipython-input-41-2d75e757674f>\u001b[0m in \u001b[0;36m<module>\u001b[1;34m()\u001b[0m\n\u001b[1;32m----> 1\u001b[1;33m \u001b[0marray2\u001b[0m\u001b[1;33m.\u001b[0m\u001b[0mcount\u001b[0m\u001b[1;33m(\u001b[0m\u001b[1;33m)\u001b[0m\u001b[1;33m\u001b[0m\u001b[0m\n\u001b[0m",
      "\u001b[1;31mTypeError\u001b[0m: count() takes exactly one argument (0 given)"
     ]
    }
   ],
   "source": []
  },
  {
   "cell_type": "code",
   "execution_count": 33,
   "metadata": {},
   "outputs": [],
   "source": []
  },
  {
   "cell_type": "code",
   "execution_count": 34,
   "metadata": {},
   "outputs": [
    {
     "data": {
      "text/plain": [
       "(57364400, 5)"
      ]
     },
     "execution_count": 34,
     "metadata": {},
     "output_type": "execute_result"
    }
   ],
   "source": []
  },
  {
   "cell_type": "code",
   "execution_count": 35,
   "metadata": {},
   "outputs": [
    {
     "data": {
      "text/plain": [
       "83733168"
      ]
     },
     "execution_count": 35,
     "metadata": {},
     "output_type": "execute_result"
    }
   ],
   "source": []
  },
  {
   "cell_type": "code",
   "execution_count": null,
   "metadata": {
    "collapsed": true
   },
   "outputs": [],
   "source": []
  }
 ],
 "metadata": {
  "kernelspec": {
   "display_name": "Python 3",
   "language": "python",
   "name": "python3"
  },
  "language_info": {
   "codemirror_mode": {
    "name": "ipython",
    "version": 3
   },
   "file_extension": ".py",
   "mimetype": "text/x-python",
   "name": "python",
   "nbconvert_exporter": "python",
   "pygments_lexer": "ipython3",
   "version": "3.6.1"
  }
 },
 "nbformat": 4,
 "nbformat_minor": 2
}
