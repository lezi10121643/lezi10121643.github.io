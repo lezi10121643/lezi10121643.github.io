{
 "cells": [
  {
   "cell_type": "code",
   "execution_count": 1,
   "metadata": {
    "collapsed": true
   },
   "outputs": [],
   "source": [
    "a,b = 2.33,'a'#复合赋值语句"
   ]
  },
  {
   "cell_type": "code",
   "execution_count": 2,
   "metadata": {},
   "outputs": [
    {
     "name": "stdout",
     "output_type": "stream",
     "text": [
      "2.33 a\n"
     ]
    }
   ],
   "source": [
    "print(a,b)"
   ]
  },
  {
   "cell_type": "code",
   "execution_count": 3,
   "metadata": {
    "collapsed": true
   },
   "outputs": [],
   "source": [
    "b,c,d,e,f,g = 'Python'#将'Python'这个字符串按照字符拆成6个字符，按顺序分给b,c,d,e,f,g变量"
   ]
  },
  {
   "cell_type": "code",
   "execution_count": 4,
   "metadata": {},
   "outputs": [
    {
     "name": "stdout",
     "output_type": "stream",
     "text": [
      "P\n"
     ]
    }
   ],
   "source": [
    "print(b)"
   ]
  },
  {
   "cell_type": "code",
   "execution_count": 5,
   "metadata": {
    "collapsed": true
   },
   "outputs": [],
   "source": [
    "age_1 = 'male'#转换性别\n",
    "age_2 = 'female'"
   ]
  },
  {
   "cell_type": "code",
   "execution_count": 6,
   "metadata": {
    "collapsed": true
   },
   "outputs": [],
   "source": [
    "age_1,age_2 = age_2,age_1#age_1,age_2 = age_2,age_1这种操作是Python独有的，不用第三者temp"
   ]
  },
  {
   "cell_type": "code",
   "execution_count": 8,
   "metadata": {},
   "outputs": [
    {
     "name": "stdout",
     "output_type": "stream",
     "text": [
      "female male\n"
     ]
    }
   ],
   "source": [
    "print(age_1,age_2)"
   ]
  },
  {
   "cell_type": "code",
   "execution_count": 10,
   "metadata": {
    "collapsed": true
   },
   "outputs": [],
   "source": [
    "a = b = c = '233'#是给变量同时赋值为一个值"
   ]
  },
  {
   "cell_type": "code",
   "execution_count": 15,
   "metadata": {},
   "outputs": [
    {
     "name": "stdout",
     "output_type": "stream",
     "text": [
      "233 233 233\n"
     ]
    }
   ],
   "source": [
    "print(a,b,c)"
   ]
  },
  {
   "cell_type": "code",
   "execution_count": 16,
   "metadata": {
    "collapsed": true
   },
   "outputs": [],
   "source": [
    "length = 18"
   ]
  },
  {
   "cell_type": "code",
   "execution_count": 17,
   "metadata": {
    "collapsed": true
   },
   "outputs": [],
   "source": [
    "length += 2 #支持运算操作和赋值操作结合的操作（官方称为复合赋值）"
   ]
  },
  {
   "cell_type": "code",
   "execution_count": 18,
   "metadata": {},
   "outputs": [
    {
     "data": {
      "text/plain": [
       "20"
      ]
     },
     "execution_count": 18,
     "metadata": {},
     "output_type": "execute_result"
    }
   ],
   "source": [
    "length"
   ]
  },
  {
   "cell_type": "code",
   "execution_count": 21,
   "metadata": {
    "collapsed": true
   },
   "outputs": [],
   "source": [
    "length -= 3 # 可以理解为 length = length - 3（但两者操作还是有区别的，现在不说哦,初学者不用了解~）"
   ]
  },
  {
   "cell_type": "code",
   "execution_count": 22,
   "metadata": {},
   "outputs": [
    {
     "data": {
      "text/plain": [
       "14"
      ]
     },
     "execution_count": 22,
     "metadata": {},
     "output_type": "execute_result"
    }
   ],
   "source": [
    "length"
   ]
  },
  {
   "cell_type": "code",
   "execution_count": 33,
   "metadata": {},
   "outputs": [
    {
     "data": {
      "text/plain": [
       "68"
      ]
     },
     "execution_count": 33,
     "metadata": {},
     "output_type": "execute_result"
    }
   ],
   "source": [
    "length *= 4  \n",
    "length"
   ]
  },
  {
   "cell_type": "code",
   "execution_count": 34,
   "metadata": {},
   "outputs": [
    {
     "data": {
      "text/plain": [
       "17.0"
      ]
     },
     "execution_count": 34,
     "metadata": {},
     "output_type": "execute_result"
    }
   ],
   "source": [
    "length /= 4\n",
    "length"
   ]
  },
  {
   "cell_type": "code",
   "execution_count": 35,
   "metadata": {
    "collapsed": true
   },
   "outputs": [],
   "source": [
    "length **= 2"
   ]
  },
  {
   "cell_type": "code",
   "execution_count": 36,
   "metadata": {},
   "outputs": [
    {
     "data": {
      "text/plain": [
       "289.0"
      ]
     },
     "execution_count": 36,
     "metadata": {},
     "output_type": "execute_result"
    }
   ],
   "source": [
    "length"
   ]
  },
  {
   "cell_type": "code",
   "execution_count": 37,
   "metadata": {},
   "outputs": [
    {
     "data": {
      "text/plain": [
       "4.0"
      ]
     },
     "execution_count": 37,
     "metadata": {},
     "output_type": "execute_result"
    }
   ],
   "source": [
    "length %= 5\n",
    "length"
   ]
  },
  {
   "cell_type": "markdown",
   "metadata": {
    "collapsed": true
   },
   "source": [
    "# 顺序结构"
   ]
  },
  {
   "cell_type": "code",
   "execution_count": 43,
   "metadata": {},
   "outputs": [
    {
     "name": "stdout",
     "output_type": "stream",
     "text": [
      "请输入圆的半径：5\n",
      "圆的面积是78.5\n"
     ]
    }
   ],
   "source": [
    "r = float(input('请输入圆的半径：'))\n",
    "area = 3.14*r**2\n",
    "print('圆的面积是%s'%area)"
   ]
  },
  {
   "cell_type": "code",
   "execution_count": 44,
   "metadata": {
    "collapsed": true
   },
   "outputs": [],
   "source": [
    "import calendar"
   ]
  },
  {
   "cell_type": "code",
   "execution_count": 45,
   "metadata": {},
   "outputs": [
    {
     "name": "stdout",
     "output_type": "stream",
     "text": [
      "请输入年份：2017\n",
      "                                  2017\n",
      "\n",
      "      January                   February                   March\n",
      "Mo Tu We Th Fr Sa Su      Mo Tu We Th Fr Sa Su      Mo Tu We Th Fr Sa Su\n",
      "                   1             1  2  3  4  5             1  2  3  4  5\n",
      " 2  3  4  5  6  7  8       6  7  8  9 10 11 12       6  7  8  9 10 11 12\n",
      " 9 10 11 12 13 14 15      13 14 15 16 17 18 19      13 14 15 16 17 18 19\n",
      "16 17 18 19 20 21 22      20 21 22 23 24 25 26      20 21 22 23 24 25 26\n",
      "23 24 25 26 27 28 29      27 28                     27 28 29 30 31\n",
      "30 31\n",
      "\n",
      "       April                      May                       June\n",
      "Mo Tu We Th Fr Sa Su      Mo Tu We Th Fr Sa Su      Mo Tu We Th Fr Sa Su\n",
      "                1  2       1  2  3  4  5  6  7                1  2  3  4\n",
      " 3  4  5  6  7  8  9       8  9 10 11 12 13 14       5  6  7  8  9 10 11\n",
      "10 11 12 13 14 15 16      15 16 17 18 19 20 21      12 13 14 15 16 17 18\n",
      "17 18 19 20 21 22 23      22 23 24 25 26 27 28      19 20 21 22 23 24 25\n",
      "24 25 26 27 28 29 30      29 30 31                  26 27 28 29 30\n",
      "\n",
      "        July                     August                  September\n",
      "Mo Tu We Th Fr Sa Su      Mo Tu We Th Fr Sa Su      Mo Tu We Th Fr Sa Su\n",
      "                1  2          1  2  3  4  5  6                   1  2  3\n",
      " 3  4  5  6  7  8  9       7  8  9 10 11 12 13       4  5  6  7  8  9 10\n",
      "10 11 12 13 14 15 16      14 15 16 17 18 19 20      11 12 13 14 15 16 17\n",
      "17 18 19 20 21 22 23      21 22 23 24 25 26 27      18 19 20 21 22 23 24\n",
      "24 25 26 27 28 29 30      28 29 30 31               25 26 27 28 29 30\n",
      "31\n",
      "\n",
      "      October                   November                  December\n",
      "Mo Tu We Th Fr Sa Su      Mo Tu We Th Fr Sa Su      Mo Tu We Th Fr Sa Su\n",
      "                   1             1  2  3  4  5                   1  2  3\n",
      " 2  3  4  5  6  7  8       6  7  8  9 10 11 12       4  5  6  7  8  9 10\n",
      " 9 10 11 12 13 14 15      13 14 15 16 17 18 19      11 12 13 14 15 16 17\n",
      "16 17 18 19 20 21 22      20 21 22 23 24 25 26      18 19 20 21 22 23 24\n",
      "23 24 25 26 27 28 29      27 28 29 30               25 26 27 28 29 30 31\n",
      "30 31\n",
      "\n"
     ]
    }
   ],
   "source": [
    "year = int(input('请输入年份：')) #输出指定某年的日历\n",
    "tab = calendar.calendar(year) \n",
    "print(tab)"
   ]
  },
  {
   "cell_type": "markdown",
   "metadata": {
    "collapsed": true
   },
   "source": [
    "# 分支结构"
   ]
  },
  {
   "cell_type": "code",
   "execution_count": 2,
   "metadata": {},
   "outputs": [
    {
     "name": "stdout",
     "output_type": "stream",
     "text": [
      "今天下雨么？：（如果下雨请填写yes）yes\n",
      "今天不去踢球\n"
     ]
    }
   ],
   "source": [
    "ans = input('今天下雨么？：（如果下雨请填写yes）')\n",
    "if ans == 'yes':\n",
    "    print('今天不去踢球')"
   ]
  },
  {
   "cell_type": "code",
   "execution_count": 3,
   "metadata": {},
   "outputs": [
    {
     "name": "stdout",
     "output_type": "stream",
     "text": [
      "今天下雨么？：（如果下雨请填写yes）啥？\n"
     ]
    }
   ],
   "source": [
    "ans = input('今天下雨么？：（如果下雨请填写yes）')\n",
    "if ans == 'yes':\n",
    "    print('今天不去踢球')"
   ]
  },
  {
   "cell_type": "code",
   "execution_count": 6,
   "metadata": {},
   "outputs": [
    {
     "name": "stdout",
     "output_type": "stream",
     "text": [
      "今天下雨么？：（如果下雨请填写yes）yes\n",
      "今天去踢球\n"
     ]
    }
   ],
   "source": [
    "ans = input('今天下雨么？：（如果下雨请填写yes）')\n",
    "if ans == 'yes':\n",
    "    print('今天去踢球')\n",
    "else:\n",
    "    print('那明天就不踢球了吧')"
   ]
  },
  {
   "cell_type": "code",
   "execution_count": 4,
   "metadata": {},
   "outputs": [
    {
     "name": "stdout",
     "output_type": "stream",
     "text": [
      "今天下雨么？：（如果下雨请填写yes）no\n",
      "过两天天气好再去踢球\n"
     ]
    }
   ],
   "source": [
    "ans = input('今天下雨么？：（如果下雨请填写yes）')\n",
    "if ans == 'yes':\n",
    "    print('今天不去踢球')\n",
    "else:\n",
    "    print('过两天天气好再去踢球')"
   ]
  },
  {
   "cell_type": "code",
   "execution_count": 11,
   "metadata": {},
   "outputs": [
    {
     "name": "stdout",
     "output_type": "stream",
     "text": [
      "请输入你的身高：180\n",
      "王子身高\n"
     ]
    }
   ],
   "source": [
    "ans = int(input('请输入你的身高：'))\n",
    "if ans < 180:\n",
    "    print('一般身高')\n",
    "elif 180 <= ans < 185:\n",
    "    print('王子身高')\n",
    "elif 185 <= ans < 190:\n",
    "    print('男神身高')\n",
    "else:\n",
    "    print('巨人身高')"
   ]
  },
  {
   "cell_type": "code",
   "execution_count": 12,
   "metadata": {},
   "outputs": [
    {
     "name": "stdout",
     "output_type": "stream",
     "text": [
      "请输入你的身高：呵呵\n"
     ]
    },
    {
     "ename": "ValueError",
     "evalue": "invalid literal for int() with base 10: '呵呵'",
     "output_type": "error",
     "traceback": [
      "\u001b[1;31m---------------------------------------------------------------------------\u001b[0m",
      "\u001b[1;31mValueError\u001b[0m                                Traceback (most recent call last)",
      "\u001b[1;32m<ipython-input-12-42dcd1bd0410>\u001b[0m in \u001b[0;36m<module>\u001b[1;34m()\u001b[0m\n\u001b[1;32m----> 1\u001b[1;33m \u001b[0mans\u001b[0m \u001b[1;33m=\u001b[0m \u001b[0mint\u001b[0m\u001b[1;33m(\u001b[0m\u001b[0minput\u001b[0m\u001b[1;33m(\u001b[0m\u001b[1;34m'请输入你的身高：'\u001b[0m\u001b[1;33m)\u001b[0m\u001b[1;33m)\u001b[0m\u001b[1;33m\u001b[0m\u001b[0m\n\u001b[0m\u001b[0;32m      2\u001b[0m \u001b[1;32mif\u001b[0m \u001b[0mans\u001b[0m \u001b[1;33m<\u001b[0m \u001b[1;36m180\u001b[0m\u001b[1;33m:\u001b[0m\u001b[1;33m\u001b[0m\u001b[0m\n\u001b[0;32m      3\u001b[0m     \u001b[0mprint\u001b[0m\u001b[1;33m(\u001b[0m\u001b[1;34m'一般身高'\u001b[0m\u001b[1;33m)\u001b[0m\u001b[1;33m\u001b[0m\u001b[0m\n\u001b[0;32m      4\u001b[0m \u001b[1;32melif\u001b[0m \u001b[1;36m180\u001b[0m \u001b[1;33m<=\u001b[0m \u001b[0mans\u001b[0m \u001b[1;33m<\u001b[0m \u001b[1;36m185\u001b[0m\u001b[1;33m:\u001b[0m\u001b[1;33m\u001b[0m\u001b[0m\n\u001b[0;32m      5\u001b[0m     \u001b[0mprint\u001b[0m\u001b[1;33m(\u001b[0m\u001b[1;34m'王子身高'\u001b[0m\u001b[1;33m)\u001b[0m\u001b[1;33m\u001b[0m\u001b[0m\n",
      "\u001b[1;31mValueError\u001b[0m: invalid literal for int() with base 10: '呵呵'"
     ]
    }
   ],
   "source": [
    "ans = int(input('请输入你的身高：'))\n",
    "if ans < 180:\n",
    "    print('一般身高')\n",
    "elif 180 <= ans < 185:\n",
    "    print('王子身高')\n",
    "elif 185 <= ans < 190:\n",
    "    print('男神身高')\n",
    "else:\n",
    "    print('巨人身高')"
   ]
  },
  {
   "cell_type": "code",
   "execution_count": 14,
   "metadata": {},
   "outputs": [
    {
     "name": "stdout",
     "output_type": "stream",
     "text": [
      "请输入你的身高：666\n",
      "巨人身高\n"
     ]
    }
   ],
   "source": [
    "ans = int(input('请输入你的身高：'))\n",
    "if ans < 180:\n",
    "    print('一般身高')\n",
    "elif 180 <= ans < 185:\n",
    "    print('王子身高')\n",
    "elif 185 <= ans < 190:\n",
    "    print('男神身高')\n",
    "else:\n",
    "    print('巨人身高')"
   ]
  },
  {
   "cell_type": "code",
   "execution_count": 22,
   "metadata": {},
   "outputs": [
    {
     "name": "stdout",
     "output_type": "stream",
     "text": [
      "请输入你的性别（M或者F）：M\n",
      "请输入你的年龄（1-130）：24\n",
      "你已经达到合法结婚年龄，有对象了没？\n",
      "没有？男的也行啊！还不去相亲？！！\n"
     ]
    }
   ],
   "source": [
    "gender = input('请输入你的性别（M或者F）：')\n",
    "age = int(input('请输入你的年龄（1-130）：'))\n",
    "if gender == 'M':\n",
    "    if age >= 22:\n",
    "        print('你已经达到合法结婚年龄，有对象了没？\\n没有？男的也行啊！还不去相亲？！！')\n",
    "    else:\n",
    "        print('你还是个可爱的男孩子')\n",
    "else:\n",
    "    if age >= 20:\n",
    "        print('你已经达到合法结婚年龄，有男票了没？\\n没有？还不去相亲？！！')\n",
    "    else:\n",
    "        print('你还是个美腻的女孩子')"
   ]
  },
  {
   "cell_type": "code",
   "execution_count": 23,
   "metadata": {},
   "outputs": [
    {
     "name": "stdout",
     "output_type": "stream",
     "text": [
      "请输入你的性别（M或者F）：F\n",
      "请输入你的年龄（1-130）：1\n",
      "你还是个美腻的女孩子\n"
     ]
    }
   ],
   "source": [
    "gender = input('请输入你的性别（M或者F）：')\n",
    "age = int(input('请输入你的年龄（1-130）：'))\n",
    "if gender == 'M':\n",
    "    if age >= 22:\n",
    "        print('你已经达到合法结婚年龄，有对象了没？\\n没有？男的也行啊！还不去相亲？！！')\n",
    "    else:\n",
    "        print('你还是个可爱的男孩子')\n",
    "else:\n",
    "    if age >= 20:\n",
    "        print('你已经达到合法结婚年龄，有男票了没？\\n没有？还不去相亲？！！')\n",
    "    else:\n",
    "        print('你还是个美腻的女孩子')"
   ]
  },
  {
   "cell_type": "markdown",
   "metadata": {},
   "source": [
    "# 循环结构"
   ]
  },
  {
   "cell_type": "code",
   "execution_count": 5,
   "metadata": {},
   "outputs": [
    {
     "name": "stdout",
     "output_type": "stream",
     "text": [
      "sum = 1,count = 1\n",
      "sum = 3,count = 2\n",
      "sum = 6,count = 3\n",
      "sum = 10,count = 4\n",
      "sum = 15,count = 5\n",
      "sum = 21,count = 6\n",
      "sum = 28,count = 7\n",
      "sum = 36,count = 8\n",
      "sum = 45,count = 9\n",
      "sum = 55,count = 10\n"
     ]
    }
   ],
   "source": [
    "count = 1\n",
    "sum = 0\n",
    "while count < 11:\n",
    "    sum = sum + count\n",
    "    print('sum = %d,count = %d'%(sum,count))\n",
    "    count += 1"
   ]
  },
  {
   "cell_type": "code",
   "execution_count": 2,
   "metadata": {},
   "outputs": [],
   "source": [
    "#while True:\n",
    "#    print('我会重复的')"
   ]
  },
  {
   "cell_type": "code",
   "execution_count": 1,
   "metadata": {
    "collapsed": true
   },
   "outputs": [],
   "source": [
    "#while 'a':\n",
    "#    print('我会重复的')"
   ]
  },
  {
   "cell_type": "code",
   "execution_count": 5,
   "metadata": {},
   "outputs": [
    {
     "name": "stdout",
     "output_type": "stream",
     "text": [
      "P\n",
      "y\n",
      "t\n",
      "h\n",
      "o\n",
      "n\n"
     ]
    }
   ],
   "source": [
    "for i in 'Python':\n",
    "    print(i)"
   ]
  },
  {
   "cell_type": "code",
   "execution_count": 6,
   "metadata": {},
   "outputs": [
    {
     "name": "stdout",
     "output_type": "stream",
     "text": [
      "P\n",
      "y\n",
      "t\n",
      "h\n",
      "o\n",
      "n\n"
     ]
    }
   ],
   "source": [
    "for iphonex in 'Python':\n",
    "    print(iphonex)"
   ]
  },
  {
   "cell_type": "code",
   "execution_count": 7,
   "metadata": {},
   "outputs": [
    {
     "name": "stdout",
     "output_type": "stream",
     "text": [
      "0\n",
      "2\n",
      "4\n",
      "6\n",
      "8\n"
     ]
    }
   ],
   "source": [
    "for i in range(0,10,2):\n",
    "    print(i)"
   ]
  },
  {
   "cell_type": "code",
   "execution_count": 5,
   "metadata": {},
   "outputs": [
    {
     "name": "stdout",
     "output_type": "stream",
     "text": [
      "i*j = 1\n",
      "i*j = 2\n",
      "i*j = 4\n",
      "i*j = 3\n",
      "i*j = 6\n",
      "i*j = 9\n",
      "i*j = 4\n",
      "i*j = 8\n",
      "i*j = 12\n",
      "i*j = 16\n",
      "i*j = 5\n",
      "i*j = 10\n",
      "i*j = 15\n",
      "i*j = 20\n",
      "i*j = 25\n",
      "i*j = 6\n",
      "i*j = 12\n",
      "i*j = 18\n",
      "i*j = 24\n",
      "i*j = 30\n",
      "i*j = 36\n",
      "i*j = 7\n",
      "i*j = 14\n",
      "i*j = 21\n",
      "i*j = 28\n",
      "i*j = 35\n",
      "i*j = 42\n",
      "i*j = 49\n",
      "i*j = 8\n",
      "i*j = 16\n",
      "i*j = 24\n",
      "i*j = 32\n",
      "i*j = 40\n",
      "i*j = 48\n",
      "i*j = 56\n",
      "i*j = 64\n",
      "i*j = 9\n",
      "i*j = 18\n",
      "i*j = 27\n",
      "i*j = 36\n",
      "i*j = 45\n",
      "i*j = 54\n",
      "i*j = 63\n",
      "i*j = 72\n",
      "i*j = 81\n"
     ]
    }
   ],
   "source": [
    "#打印99乘法表\n",
    "for i in range(1,10):\n",
    "    for j in range(1,i+1):\n",
    "        q = i*j\n",
    "        print('i*j = %d'%q)"
   ]
  },
  {
   "cell_type": "code",
   "execution_count": 4,
   "metadata": {},
   "outputs": [
    {
     "name": "stdout",
     "output_type": "stream",
     "text": [
      "i*j = 1i*j = 2i*j = 4i*j = 3i*j = 6i*j = 9i*j = 4i*j = 8i*j = 12i*j = 16i*j = 5i*j = 10i*j = 15i*j = 20i*j = 25i*j = 6i*j = 12i*j = 18i*j = 24i*j = 30i*j = 36i*j = 7i*j = 14i*j = 21i*j = 28i*j = 35i*j = 42i*j = 49i*j = 8i*j = 16i*j = 24i*j = 32i*j = 40i*j = 48i*j = 56i*j = 64i*j = 9i*j = 18i*j = 27i*j = 36i*j = 45i*j = 54i*j = 63i*j = 72i*j = 81"
     ]
    }
   ],
   "source": [
    "for i in range(1,10):\n",
    "    for j in range(1,i+1):\n",
    "        q = i*j\n",
    "        print('i*j = %d'%q,end='')"
   ]
  },
  {
   "cell_type": "code",
   "execution_count": 6,
   "metadata": {},
   "outputs": [
    {
     "name": "stdout",
     "output_type": "stream",
     "text": [
      "i*j = 1\n",
      "\n",
      "i*j = 2i*j = 4\n",
      "\n",
      "i*j = 3i*j = 6i*j = 9\n",
      "\n",
      "i*j = 4i*j = 8i*j = 12i*j = 16\n",
      "\n",
      "i*j = 5i*j = 10i*j = 15i*j = 20i*j = 25\n",
      "\n",
      "i*j = 6i*j = 12i*j = 18i*j = 24i*j = 30i*j = 36\n",
      "\n",
      "i*j = 7i*j = 14i*j = 21i*j = 28i*j = 35i*j = 42i*j = 49\n",
      "\n",
      "i*j = 8i*j = 16i*j = 24i*j = 32i*j = 40i*j = 48i*j = 56i*j = 64\n",
      "\n",
      "i*j = 9i*j = 18i*j = 27i*j = 36i*j = 45i*j = 54i*j = 63i*j = 72i*j = 81\n",
      "\n"
     ]
    }
   ],
   "source": [
    "for i in range(1,10):\n",
    "    for j in range(1,i+1):\n",
    "        q = i*j\n",
    "        print('i*j = %d'%q,end='')\n",
    "    print('\\n')"
   ]
  },
  {
   "cell_type": "code",
   "execution_count": 9,
   "metadata": {},
   "outputs": [
    {
     "name": "stdout",
     "output_type": "stream",
     "text": [
      "i*j = 1    \n",
      "\n",
      "i*j = 2    i*j = 4    \n",
      "\n",
      "i*j = 3    i*j = 6    i*j = 9    \n",
      "\n",
      "i*j = 4    i*j = 8    i*j = 12    i*j = 16    \n",
      "\n",
      "i*j = 5    i*j = 10    i*j = 15    i*j = 20    i*j = 25    \n",
      "\n",
      "i*j = 6    i*j = 12    i*j = 18    i*j = 24    i*j = 30    i*j = 36    \n",
      "\n",
      "i*j = 7    i*j = 14    i*j = 21    i*j = 28    i*j = 35    i*j = 42    i*j = 49    \n",
      "\n",
      "i*j = 8    i*j = 16    i*j = 24    i*j = 32    i*j = 40    i*j = 48    i*j = 56    i*j = 64    \n",
      "\n",
      "i*j = 9    i*j = 18    i*j = 27    i*j = 36    i*j = 45    i*j = 54    i*j = 63    i*j = 72    i*j = 81    \n",
      "\n"
     ]
    }
   ],
   "source": [
    "for i in range(1,10):\n",
    "    for j in range(1,i+1):\n",
    "        q = i*j\n",
    "        print('i*j = %d    '%q,end='')\n",
    "    print('\\n')"
   ]
  },
  {
   "cell_type": "code",
   "execution_count": 11,
   "metadata": {},
   "outputs": [
    {
     "name": "stdout",
     "output_type": "stream",
     "text": [
      "这是第0次循环\n",
      "这是第1次循环\n",
      "这是第2次循环\n",
      "这是第3次循环\n",
      "这是第4次循环\n",
      "这是第5次循环\n"
     ]
    }
   ],
   "source": [
    "i = 0\n",
    "while 1:\n",
    "    print('这是第%d次循环'%i)\n",
    "    i += 1\n",
    "    if i >5:\n",
    "        break\n",
    "    "
   ]
  },
  {
   "cell_type": "code",
   "execution_count": 14,
   "metadata": {},
   "outputs": [
    {
     "name": "stdout",
     "output_type": "stream",
     "text": [
      "请输入你本次抓娃娃需要多少秒（1~60秒）:15\n",
      "你本次用了15秒抓了一下\n",
      "请输入你本次抓娃娃需要多少秒（1~60秒）:40\n",
      "时间到啦，机器自动给你抓了！\n",
      "请输入你本次抓娃娃需要多少秒（1~60秒）:70\n",
      "时间到啦，机器自动给你抓了！\n",
      "请输入你本次抓娃娃需要多少秒（1~60秒）:1\n",
      "你本次用了1秒抓了一下\n",
      "请输入你本次抓娃娃需要多少秒（1~60秒）:5\n",
      "你本次用了5秒抓了一下\n"
     ]
    }
   ],
   "source": [
    "for i in range(0,5):\n",
    "    num = int(input('请输入你本次抓娃娃需要多少秒（1~60秒）:'))\n",
    "    if num > 30:\n",
    "        print('时间到啦，机器自动给你抓了！')\n",
    "    else:\n",
    "        print('你本次用了%d秒抓了一下'%num)"
   ]
  },
  {
   "cell_type": "code",
   "execution_count": 1,
   "metadata": {},
   "outputs": [
    {
     "name": "stdout",
     "output_type": "stream",
     "text": [
      "请输入你本次抓娃娃需要多少秒（1~60秒）:4\n",
      "你本次用了4秒抓了一下\n",
      "请输入你本次抓娃娃需要多少秒（1~60秒）:34\n",
      "时间到啦，机器自动给你抓了！\n",
      "请输入你本次抓娃娃需要多少秒（1~60秒）:1\n",
      "你本次用了1秒抓了一下\n",
      "请输入你本次抓娃娃需要多少秒（1~60秒）:7\n",
      "你本次用了7秒抓了一下\n",
      "请输入你本次抓娃娃需要多少秒（1~60秒）:45\n",
      "时间到啦，机器自动给你抓了！\n"
     ]
    }
   ],
   "source": [
    "for i in range(0,5):\n",
    "    num = int(input('请输入你本次抓娃娃需要多少秒（1~60秒）:'))\n",
    "    if num > 30:\n",
    "        print('时间到啦，机器自动给你抓了！')\n",
    "        continue\n",
    "    print('你本次用了%d秒抓了一下'%num)"
   ]
  }
 ],
 "metadata": {
  "kernelspec": {
   "display_name": "Python 3",
   "language": "python",
   "name": "python3"
  },
  "language_info": {
   "codemirror_mode": {
    "name": "ipython",
    "version": 3
   },
   "file_extension": ".py",
   "mimetype": "text/x-python",
   "name": "python",
   "nbconvert_exporter": "python",
   "pygments_lexer": "ipython3",
   "version": "3.6.1"
  }
 },
 "nbformat": 4,
 "nbformat_minor": 2
}
