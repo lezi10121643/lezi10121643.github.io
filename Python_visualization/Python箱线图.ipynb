{
 "cells": [
  {
   "cell_type": "markdown",
   "metadata": {},
   "source": [
    "前言\n",
    "\n",
    "       今天继续我们的python绘图系列，针对离散变量我们可以使用常见的条形图和饼图完成数据的可视化工作，那么，针对数值型变量，我们也有很多可视化的方法，例如箱线图、直方图、折线图、面积图、散点图等等。这一期，我们就先来介绍一下数值型变量的箱线图绘制。箱线图一般用来展现数据的分布（如上下四分位值、中位数等），同时，也可以用箱线图来反映数据的异常情况。\n",
    "\n",
    "boxplot函数的参数解读\n",
    "\n",
    "       绘图之前，我们先来讲解一下matplotlib包中boxplot函数的参数含义及使用方法："
   ]
  },
  {
   "cell_type": "code",
   "execution_count": null,
   "metadata": {
    "collapsed": true
   },
   "outputs": [],
   "source": [
    "plt.boxplot(x, notch=None, sym=None, vert=None, \n",
    "             whis=None, positions=None, widths=None, \n",
    "             patch_artist=None, meanline=None, showmeans=None, \n",
    "             showcaps=None, showbox=None, showfliers=None, \n",
    "             boxprops=None, labels=None, flierprops=None, \n",
    "             medianprops=None, meanprops=None, \n",
    "             capprops=None, whiskerprops=None)"
   ]
  },
  {
   "cell_type": "markdown",
   "metadata": {},
   "source": [
    "x：指定要绘制箱线图的数据；\n",
    "notch：是否是凹口的形式展现箱线图，默认非凹口；\n",
    "sym：指定异常点的形状，默认为+号显示；\n",
    "vert：是否需要将箱线图垂直摆放，默认垂直摆放；\n",
    "whis：指定上下须与上下四分位的距离，默认为1.5倍的四分位差；\n",
    "positions：指定箱线图的位置，默认为[0,1,2…]；\n",
    "widths：指定箱线图的宽度，默认为0.5；\n",
    "patch_artist：是否填充箱体的颜色；\n",
    "meanline：是否用线的形式表示均值，默认用点来表示；\n",
    "showmeans：是否显示均值，默认不显示；\n",
    "showcaps：是否显示箱线图顶端和末端的两条线，默认显示；\n",
    "showbox：是否显示箱线图的箱体，默认显示；\n",
    "showfliers：是否显示异常值，默认显示；\n",
    "boxprops：设置箱体的属性，如边框色，填充色等；\n",
    "labels：为箱线图添加标签，类似于图例的作用；\n",
    "filerprops：设置异常值的属性，如异常点的形状、大小、填充色等；\n",
    "medianprops：设置中位数的属性，如线的类型、粗细等；\n",
    "meanprops：设置均值的属性，如点的大小、颜色等；\n",
    "capprops：设置箱线图顶端和末端线条的属性，如颜色、粗细等；\n",
    "whiskerprops：设置须的属性，如颜色、粗细、线的类型等；"
   ]
  },
  {
   "cell_type": "markdown",
   "metadata": {},
   "source": [
    "箱线图的绘制\n",
    "\n",
    "案例：titanic：不同等级仓位的年龄箱线图\n",
    "\n",
    "整体乘客的年龄箱线图"
   ]
  },
  {
   "cell_type": "code",
   "execution_count": 1,
   "metadata": {},
   "outputs": [
    {
     "data": {
      "image/png": "[encoded data removed]",
      "text/plain": [
       "<matplotlib.figure.Figure at 0x9fbac18>"
      ]
     },
     "metadata": {},
     "output_type": "display_data"
    }
   ],
   "source": [
    "# 导入第三方模块\n",
    "import pandas as pd\n",
    "import matplotlib.pyplot as plt\n",
    "\n",
    "# 读取Titanic数据集\n",
    "titanic = pd.read_csv('titanic_train.csv')\n",
    "# 检查年龄是否有缺失\n",
    "any(titanic.Age.isnull())\n",
    "# 不妨删除含有缺失年龄的观察\n",
    "titanic.dropna(subset=['Age'], inplace=True)\n",
    "\n",
    "# 设置图形的显示风格\n",
    "plt.style.use('ggplot')\n",
    "\n",
    "# 设置中文和负号正常显示\n",
    "plt.rcParams['font.sans-serif'] = 'Microsoft YaHei'\n",
    "plt.rcParams['axes.unicode_minus'] = False\n",
    "\n",
    "# 绘图：整体乘客的年龄箱线图\n",
    "plt.boxplot(x = titanic.Age, # 指定绘图数据\n",
    "            patch_artist=True, # 要求用自定义颜色填充盒形图，默认白色填充\n",
    "            showmeans=True, # 以点的形式显示均值\n",
    "            boxprops = {'color':'black','facecolor':'#9999ff'}, # 设置箱体属性，填充色和边框色\n",
    "            flierprops = {'marker':'o','markerfacecolor':'red','color':'black'}, # 设置异常值属性，点的形状、填充色和边框色\n",
    "            meanprops = {'marker':'D','markerfacecolor':'indianred'}, # 设置均值点的属性，点的形状、填充色\n",
    "            medianprops = {'linestyle':'--','color':'orange'}) # 设置中位数线的属性，线的类型和颜色\n",
    "# 设置y轴的范围\n",
    "plt.ylim(0,85)\n",
    "\n",
    "# 去除箱线图的上边框与右边框的刻度标签\n",
    "plt.tick_params(top='off', right='off')\n",
    "# 显示图形\n",
    "plt.show()"
   ]
  },
  {
   "cell_type": "markdown",
   "metadata": {},
   "source": [
    "对于所有乘客而言，从图中容易发现，乘客的平均年龄在30岁，有四分之一的人低于20岁，另有四分之一的人超过38岁，换句话说，有一半的人，年龄落在20~38岁之间；从均值（红色的菱形）略高于中位数（黄色虚线）来看，说明年龄是有偏的，并且是右偏；同时，我们也会发现一些红色的异常值，这些异常值的年龄均在64岁以上。"
   ]
  },
  {
   "cell_type": "markdown",
   "metadata": {},
   "source": [
    "不同等级仓的年龄箱线图"
   ]
  },
  {
   "cell_type": "code",
   "execution_count": 2,
   "metadata": {},
   "outputs": [
    {
     "data": {
      "image/png": "[encoded data removed]",
      "text/plain": [
       "<matplotlib.figure.Figure at 0xa41a780>"
      ]
     },
     "metadata": {},
     "output_type": "display_data"
    }
   ],
   "source": [
    "# 按舱级排序，为了后面正常显示分组盒形图的顺序\n",
    "titanic.sort_values(by = 'Pclass', inplace=True)\n",
    "\n",
    "# 通过for循环将不同仓位的年龄人群分别存储到列表Age变量中\n",
    "Age = []\n",
    "Levels = titanic.Pclass.unique()\n",
    "for Pclass in Levels:\n",
    "    Age.append(titanic.loc[titanic.Pclass==Pclass,'Age'])\n",
    "\n",
    "# 绘图\n",
    "plt.boxplot(x = Age, \n",
    "            patch_artist=True,\n",
    "            labels = ['一等舱','二等舱','三等舱'], # 添加具体的标签名称\n",
    "            showmeans=True, \n",
    "            boxprops = {'color':'black','facecolor':'#9999ff'}, \n",
    "            flierprops = {'marker':'o','markerfacecolor':'red','color':'black'},\n",
    "            meanprops = {'marker':'D','markerfacecolor':'indianred'},\n",
    "            medianprops = {'linestyle':'--','color':'orange'})\n",
    "\n",
    "# 显示图形\n",
    "plt.show()"
   ]
  },
  {
   "cell_type": "markdown",
   "metadata": {},
   "source": [
    "如果对人群的年龄按不同的舱位来看，我们会发现一个明显的趋势，就是舱位等级越高的乘客，他们的年龄越高，三种舱位的平均年龄为38、30和25，说明年龄越是偏大一点，他们的经济能力会越强一些，所买的舱位等级可能就会越高一些。同时，在二等舱和三等舱内，乘客的年龄上存在一些异常用户。"
   ]
  },
  {
   "cell_type": "code",
   "execution_count": null,
   "metadata": {
    "collapsed": true
   },
   "outputs": [],
   "source": []
  }
 ],
 "metadata": {
  "kernelspec": {
   "display_name": "Python 3",
   "language": "python",
   "name": "python3"
  },
  "language_info": {
   "codemirror_mode": {
    "name": "ipython",
    "version": 3
   },
   "file_extension": ".py",
   "mimetype": "text/x-python",
   "name": "python",
   "nbconvert_exporter": "python",
   "pygments_lexer": "ipython3",
   "version": "3.6.1"
  }
 },
 "nbformat": 4,
 "nbformat_minor": 2
}
