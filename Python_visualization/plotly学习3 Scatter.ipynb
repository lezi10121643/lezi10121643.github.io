{
 "cells": [
  {
   "cell_type": "code",
   "execution_count": 20,
   "metadata": {
    "collapsed": true
   },
   "outputs": [],
   "source": [
    "import plotly.plotly as py\n",
    "import plotly.graph_objs as go"
   ]
  },
  {
   "cell_type": "code",
   "execution_count": 21,
   "metadata": {
    "collapsed": false
   },
   "outputs": [],
   "source": [
    "?go.Scatter()"
   ]
  },
  {
   "cell_type": "markdown",
   "metadata": {},
   "source": [
    "Init signature: go.Scatter(self, *args, **kwargs)\n",
    "Docstring:\n",
    "Valid attributes for 'scatter' at path [] under parents ():\n",
    "\n",
    "    ['connectgaps', 'customdata', 'customdatasrc', 'dx', 'dy', 'error_x',\n",
    "    'error_y', 'fill', 'fillcolor', 'hoverinfo', 'hoverinfosrc',\n",
    "    'hoverlabel', 'hoveron', 'hovertext', 'hovertextsrc', 'ids', 'idssrc',\n",
    "    'legendgroup', 'line', 'marker', 'mode', 'name', 'opacity', 'r',\n",
    "    'rsrc', 'showlegend', 'stream', 't', 'text', 'textfont',\n",
    "    'textposition', 'textpositionsrc', 'textsrc', 'tsrc', 'type', 'uid',\n",
    "    'visible', 'x', 'x0', 'xaxis', 'xcalendar', 'xsrc', 'y', 'y0', 'yaxis',\n",
    "    'ycalendar', 'ysrc']\n",
    "\n",
    "Run `<scatter-object>.help('attribute')` on any of the above.\n",
    "'<scatter-object>' is the object at []\n",
    "File:           c:\\anaconda3\\lib\\site-packages\\plotly\\graph_objs\\graph_objs.py\n",
    "Type:           type"
   ]
  },
  {
   "cell_type": "code",
   "execution_count": 29,
   "metadata": {
    "collapsed": false
   },
   "outputs": [
    {
     "name": "stdout",
     "output_type": "stream",
     "text": [
      "High five! You successfuly sent some data to your account on plotly. View your plot in your browser at https://plot.ly/~450670642/0 or inside your plot.ly account where it is named 'basic-scatter'\n"
     ]
    },
    {
     "data": {
      "text/html": [
       "<iframe id=\"igraph\" scrolling=\"no\" style=\"border:none;\" seamless=\"seamless\" src=\"https://plot.ly/~450670642/0.embed\" height=\"525px\" width=\"100%\"></iframe>"
      ],
      "text/plain": [
       "<plotly.tools.PlotlyDisplay object>"
      ]
     },
     "execution_count": 29,
     "metadata": {},
     "output_type": "execute_result"
    }
   ],
   "source": [
    "import plotly.plotly as py\n",
    "import plotly.graph_objs as go\n",
    "\n",
    "# Create random data with numpy\n",
    "import numpy as np\n",
    "\n",
    "N = 1000\n",
    "random_x = np.random.randn(N)\n",
    "random_y = np.random.randn(N)\n",
    "\n",
    "# Create a trace\n",
    "trace = go.Scatter(\n",
    "    x = random_x,\n",
    "    y = random_y,\n",
    "    mode = 'markers',#只显示散点\n",
    "    name = 'markers1'\n",
    ")\n",
    "\n",
    "data = [trace]\n",
    "\n",
    "# Plot and embed in ipython notebook!\n",
    "py.iplot(data, filename='basic-scatter')#绘图并且显示图片\n",
    "\n",
    "# or plot with: plot_url = py.plot(data, filename='basic-line')"
   ]
  },
  {
   "cell_type": "code",
   "execution_count": 67,
   "metadata": {
    "collapsed": false
   },
   "outputs": [
    {
     "ename": "SyntaxError",
     "evalue": "invalid syntax (<ipython-input-67-d85f81d8d03f>, line 20)",
     "output_type": "error",
     "traceback": [
      "\u001b[1;36m  File \u001b[1;32m\"<ipython-input-67-d85f81d8d03f>\"\u001b[1;36m, line \u001b[1;32m20\u001b[0m\n\u001b[1;33m    )\u001b[0m\n\u001b[1;37m    ^\u001b[0m\n\u001b[1;31mSyntaxError\u001b[0m\u001b[1;31m:\u001b[0m invalid syntax\n"
     ]
    }
   ],
   "source": [
    "\n",
    "\n",
    "import plotly.plotly as py\n",
    "import plotly.graph_objs as go\n",
    "\n",
    "trace1 = go.Scatter(\n",
    "    x = [1,2],\n",
    "    y = [1,2],\n",
    "    mode = 'markers',#只显示散点\n",
    "    opacity = 0.5,#不透明度，默认不透明，为1，范围0-1\n",
    "    #name = 'David Wang'\n",
    "    hoverlabel =dict (\n",
    "        bgcolor = 'blue',#设置此跟踪的悬停标签的背景颜色\n",
    "        color = 'green',\n",
    "        bordercolor = 'yellow'#设置此跟踪的悬停标签的边框颜色\n",
    "        )\n",
    "    \n",
    "    )\n",
    "    \n",
    ")\n",
    "\n",
    "py.iplot([trace1])"
   ]
  },
  {
   "cell_type": "code",
   "execution_count": 73,
   "metadata": {
    "collapsed": false
   },
   "outputs": [
    {
     "name": "stdout",
     "output_type": "stream",
     "text": [
      "High five! You successfuly sent some data to your account on plotly. View your plot in your browser at https://plot.ly/~450670642/0 or inside your plot.ly account where it is named 'basic-scatter'\n"
     ]
    },
    {
     "data": {
      "text/html": [
       "<iframe id=\"igraph\" scrolling=\"no\" style=\"border:none;\" seamless=\"seamless\" src=\"https://plot.ly/~450670642/0.embed\" height=\"525px\" width=\"100%\"></iframe>"
      ],
      "text/plain": [
       "<plotly.tools.PlotlyDisplay object>"
      ]
     },
     "execution_count": 73,
     "metadata": {},
     "output_type": "execute_result"
    }
   ],
   "source": [
    "import plotly.plotly as py\n",
    "import plotly.graph_objs as go\n",
    "\n",
    "# Create random data with numpy\n",
    "import numpy as np\n",
    "\n",
    "N = 1000\n",
    "random_x = np.random.randn(N)\n",
    "random_y = np.random.randn(N)\n",
    "\n",
    "# Create a trace\n",
    "trace = go.Scatter(\n",
    "    x = random_x,\n",
    "    y = random_y,\n",
    "    mode = 'markers',#只显示散点\n",
    "    name = 'markers1',\n",
    "    opacity = 0.5,#不透明度，默认不透明，为1，范围0-1\n",
    "    #name = 'David Wang'\n",
    "    hoverlabel =dict(\n",
    "        bgcolor = 'blue',#设置此跟踪的悬停标签的背景颜色\n",
    "        #color = 'red',\n",
    "        bordercolor = dict(\n",
    "            bordercolor = 'red',#设置此跟踪的悬停标签的边框颜色\n",
    "        )\n",
    "    ),\n",
    "    line = dict(\n",
    "        color = 'red'\n",
    "    \n",
    "    )\n",
    ")\n",
    "\n",
    "data = [trace]\n",
    "\n",
    "# Plot and embed in ipython notebook!\n",
    "py.iplot(data, filename='basic-scatter')#绘图并且显示图片\n",
    "\n",
    "# or plot with: plot_url = py.plot(data, filename='basic-line')"
   ]
  },
  {
   "cell_type": "code",
   "execution_count": 72,
   "metadata": {
    "collapsed": false
   },
   "outputs": [],
   "source": [
    "# Get figure documentation: https://plot.ly/python/get-requests/\n",
    "# Add data documentation: https://plot.ly/python/file-options/\n",
    "\n",
    "# If you're using unicode in your file, you may need to specify the encoding.\n",
    "# You can reproduce this figure in Python with the following code!\n",
    "\n",
    "# Learn about API authentication here: https://plot.ly/python/getting-started\n",
    "# Find your api_key here: https://plot.ly/settings/api\n",
    "\n",
    "import plotly.plotly as py\n",
    "from plotly.graph_objs import *\n",
    "py.sign_in('450670642', '81kUzyO0N64DYEAciS1L') # Replace the username, and API key with your credentials.\n",
    "\n",
    "trace1 = {\n",
    "  \"x\": [0.12946723219, 0.955938545934, 0.215412346755, 0.865705720535, 0.686838613643, 0.114953086166, 0.140317259879, 0.782297507423, 0.999888205526, 0.853262801192, 0.434270052098, 0.929207495715, 0.645380248463, 0.824100738031, 0.362199744294, 0.048783915979, 0.340920180632, 0.0154271690945, 0.14709344782, 0.999781517049, 0.565830845815, 0.753152116791, 0.864846402101, 0.844832248455, 0.158835108339, 0.963560151602, 0.875484526528, 0.309697519051, 0.436019382204, 0.61949788771, 0.521381145323, 0.784351381455, 0.461614740256, 0.575865186634, 0.0762981047977, 0.968998685469, 0.812464672091, 0.917005638147, 0.60885940619, 0.667399686095, 0.646785712608, 0.373405208161, 0.982423483713, 0.0144820459474, 0.512683508259, 0.204444969664, 0.504849309874, 0.556315752144, 0.458826137649, 0.56808860302], \n",
    "  \"y\": [0.271652499547, 0.871007712979, 0.492675426929, 0.878283488611, 0.146876849687, 0.387270478535, 0.812556969492, 0.3731350299, 0.475854896918, 0.749905359408, 0.979713650534, 0.72663114569, 0.496695972892, 0.602002535895, 0.467878239469, 0.891557890811, 0.749014947687, 0.545287345971, 0.6128208533, 0.596086953434, 0.526149514829, 0.441529233119, 0.240400266696, 0.160915170343, 0.532795933072, 0.257918575002, 0.175994265868, 0.711827851776, 0.977387129109, 0.805317774842, 0.921606553922, 0.391345522633, 0.63215859315, 0.705852674698, 0.822812749902, 0.995170147514, 0.635371700591, 0.39864789235, 0.997533244049, 0.410681235819, 0.400189535998, 0.522952676709, 0.267116764127, 0.502777153806, 0.0308754426512, 0.304499777973, 0.200034162961, 0.599644957114, 0.62409006048, 0.819260757658], \n",
    "  \"marker\": {\n",
    "    \"color\": [\"rgba(243,7,235,0.0656433932009)\", \"rgba(176,4,244,0.0043302369359)\", \"rgba(25,61,23,0.291397057582)\", \"rgba(56,76,90,0.845235625808)\", \"rgba(215,200,178,0.355879238134)\", \"rgba(163,164,145,0.582610495709)\", \"rgba(134,91,213,0.468284465231)\", \"rgba(133,147,29,0.500473975078)\", \"rgba(69,103,133,0.167661595466)\", \"rgba(112,29,178,0.629932948074)\", \"rgba(150,12,53,0.629223010548)\", \"rgba(161,154,124,0.256840478168)\", \"rgba(122,187,210,0.861637393378)\", \"rgba(74,192,137,0.358204588527)\", \"rgba(183,60,35,0.521834692238)\", \"rgba(13,232,83,0.705812052104)\", \"rgba(125,32,250,0.620878352226)\", \"rgba(14,51,208,0.98589626992)\", \"rgba(100,183,118,0.687645003676)\", \"rgba(111,149,229,0.197452665243)\", \"rgba(191,25,111,0.546145730085)\", \"rgba(211,135,54,0.596635858844)\", \"rgba(251,6,17,0.950597436445)\", \"rgba(88,100,221,0.0199872237066)\", \"rgba(178,99,108,0.507559749675)\", \"rgba(34,57,210,0.667782885738)\", \"rgba(140,197,127,0.456876911586)\", \"rgba(189,46,185,0.548987460657)\", \"rgba(235,28,161,0.378190830633)\", \"rgba(126,198,27,0.00873152671852)\", \"rgba(80,219,148,0.803598830531)\", \"rgba(13,103,169,0.673124349807)\", \"rgba(235,199,172,0.765910195209)\", \"rgba(205,218,198,0.899231969675)\", \"rgba(244,61,11,0.769968966551)\", \"rgba(123,147,2,0.333271425032)\", \"rgba(177,89,131,0.358079971377)\", \"rgba(210,38,86,0.667911460432)\", \"rgba(206,248,178,0.364825541221)\", \"rgba(197,120,169,0.549264227616)\", \"rgba(185,204,145,0.0270262397548)\", \"rgba(4,251,196,0.975161957537)\", \"rgba(207,243,6,0.314784094882)\", \"rgba(97,14,123,0.00639409270842)\", \"rgba(215,43,40,0.944845741719)\", \"rgba(216,103,28,0.0569825369725)\", \"rgba(52,212,74,0.115237185512)\", \"rgba(131,223,199,0.501413686102)\", \"rgba(198,249,215,0.555528222923)\", \"rgba(12,66,158,0.82865931596)\"], \n",
    "    \"line\": {\n",
    "      \"color\": [\"rgba(198,168,228,0.671579923619)\", \"rgba(162,107,186,0.207318825942)\", \"rgba(126,211,42,0.0957119040752)\", \"rgba(247,223,158,0.14322457189)\", \"rgba(7,222,36,0.988119338036)\", \"rgba(92,107,240,0.655734379928)\", \"rgba(104,208,27,0.378661083463)\", \"rgba(211,122,79,0.390259069849)\", \"rgba(177,20,113,0.540792661773)\", \"rgba(135,206,245,0.703097429341)\", \"rgba(124,50,89,0.400759876277)\", \"rgba(204,174,170,0.767424076019)\", \"rgba(3,20,92,0.498836754773)\", \"rgba(0,85,243,0.701426435479)\", \"rgba(33,216,195,0.636140467034)\", \"rgba(153,51,119,0.302406785808)\", \"rgba(220,52,86,0.445210634438)\", \"rgba(201,113,25,0.126243484454)\", \"rgba(28,81,226,0.469356554209)\", \"rgba(236,227,164,0.849476302202)\", \"rgba(54,124,39,0.553429740064)\", \"rgba(32,112,119,0.695748721797)\", \"rgba(234,5,24,0.354457804581)\", \"rgba(73,104,15,0.179916591927)\", \"rgba(136,237,130,0.519597866987)\", \"rgba(40,122,56,0.523519314219)\", \"rgba(75,128,10,0.370047333803)\", \"rgba(147,130,130,0.632283293414)\", \"rgba(17,210,11,0.654641264828)\", \"rgba(122,53,34,0.114154305198)\", \"rgba(213,68,138,0.0672133851355)\", \"rgba(158,42,113,0.863603012427)\", \"rgba(145,233,240,0.820343790969)\", \"rgba(241,253,188,0.599861013006)\", \"rgba(226,190,144,0.937161816167)\", \"rgba(114,152,201,0.16398324835)\", \"rgba(195,65,168,0.700855148787)\", \"rgba(102,23,107,0.0985223566113)\", \"rgba(33,123,210,0.489744711924)\", \"rgba(79,55,118,0.852616687324)\", \"rgba(164,242,8,0.190181843212)\", \"rgba(83,149,117,0.999234193778)\", \"rgba(64,79,143,0.00377126445451)\", \"rgba(76,229,47,0.0537291563127)\", \"rgba(185,83,150,0.185351636617)\", \"rgba(118,59,240,0.892210245636)\", \"rgba(19,26,52,0.231931340742)\", \"rgba(244,37,24,0.205802378083)\", \"rgba(17,190,61,0.990245977682)\", \"rgba(116,80,230,0.10080338137)\"], \n",
    "      \"width\": [4.45698685591, 3.32524360154, 3.70176613924, 2.10724920232, 0.499628525598, 4.1165517478, 1.09400315574, 1.31063781031, 2.65677899557, 1.56370009771, 3.02414353129, 4.36238527096, 4.74770074731, 4.68677626686, 2.30887262434, 0.262937990557, 2.85321815246, 1.54243433077, 0.0568209290755, 0.669632895034, 1.01841945063, 2.39312535223, 3.81106440061, 0.976914964142, 1.73317875289, 1.10469097981, 2.81863047548, 3.7472395977, 3.43716780871, 2.82424012447, 1.19948531101, 2.9098136491, 2.58524529211, 0.238786867423, 3.9466265099, 2.33598444152, 3.34056649604, 0.497477371446, 2.05166493518, 4.7086869888, 0.162392752704, 2.23780723041, 3.10373386733, 3.31599121719, 3.14228859621, 1.2000235921, 2.13357717498, 2.0035852428, 1.04165252955, 4.75464974136]\n",
    "    }, \n",
    "    \"size\": [12.1973960092, 3.94609618967, 1.67042085893, 17.7470391767, 6.97421247635, 16.89691745, 3.05561933058, 9.86511599875, 5.33850660108, 1.27080941324, 13.9626009945, 13.0075174463, 5.86127621064, 9.43480558829, 15.6134111489, 18.7276807034, 12.4062526829, 13.3757493361, 8.46381534959, 5.68562063733, 7.19544335519, 20.8062224917, 17.4370312602, 17.517205893, 21.6338540719, 5.61463978581, 5.70739426156, 14.4850561708, 0.279196158789, 19.0832638399, 8.63384571509, 16.4400110659, 1.74430971496, 0.939729979485, 11.1418213157, 8.18881878165, 19.5183858908, 12.4055212465, 21.8929155631, 15.0287498464, 1.05320975351, 3.46453543421, 12.1706513601, 14.1300340078, 3.61361691757, 16.5664625369, 19.9006288801, 12.2682578326, 0.385853700345, 5.95524380816], \n",
    "    \"symbol\": \"dot\"\n",
    "  }, \n",
    "  \"mode\": \"markers\", \n",
    "  \"name\": \"trace 0\", \n",
    "  \"type\": \"scatter\", \n",
    "  \"uid\": \"e72c62\", \n",
    "  \"xaxis\": \"x\", \n",
    "  \"yaxis\": \"y\"\n",
    "}\n",
    "data = Data([trace1])\n",
    "layout = {\n",
    "  \"autosize\": False, \n",
    "  \"bargap\": 0.2, \n",
    "  \"bargroupgap\": 0, \n",
    "  \"barmode\": \"group\", \n",
    "  \"boxgap\": 0.3, \n",
    "  \"boxgroupgap\": 0.3, \n",
    "  \"boxmode\": \"overlay\", \n",
    "  \"dragmode\": \"zoom\", \n",
    "  \"font\": {\n",
    "    \"color\": \"#444\", \n",
    "    \"family\": \"\\\"Open sans\\\", verdana, arial, sans-serif\", \n",
    "    \"size\": 12\n",
    "  }, \n",
    "  \"height\": 462, \n",
    "  \"hidesources\": False, \n",
    "  \"hovermode\": \"closest\", \n",
    "  \"legend\": {\n",
    "    \"bgcolor\": \"#fff\", \n",
    "    \"bordercolor\": \"#444\", \n",
    "    \"borderwidth\": 0, \n",
    "    \"font\": {\n",
    "      \"color\": \"\", \n",
    "      \"family\": \"\", \n",
    "      \"size\": 0\n",
    "    }, \n",
    "    \"traceorder\": \"normal\"\n",
    "  }, \n",
    "  \"margin\": {\n",
    "    \"r\": 30, \n",
    "    \"t\": 50, \n",
    "    \"autoexpand\": True, \n",
    "    \"b\": 40, \n",
    "    \"l\": 30, \n",
    "    \"pad\": 0\n",
    "  }, \n",
    "  \"paper_bgcolor\": \"#fff\", \n",
    "  \"plot_bgcolor\": \"#fff\", \n",
    "  \"separators\": \".,\", \n",
    "  \"showlegend\": False, \n",
    "  \"smith\": False, \n",
    "  \"title\": \"Click to enter Plot title\", \n",
    "  \"titlefont\": {\n",
    "    \"color\": \"\", \n",
    "    \"family\": \"\", \n",
    "    \"size\": 0\n",
    "  }, \n",
    "  \"width\": 412, \n",
    "  \"xaxis\": {\n",
    "    \"anchor\": \"y\", \n",
    "    \"autorange\": True, \n",
    "    \"autotick\": True, \n",
    "    \"domain\": [0, 1], \n",
    "    \"dtick\": 0.2, \n",
    "    \"exponentformat\": \"B\", \n",
    "    \"gridcolor\": \"#eee\", \n",
    "    \"gridwidth\": 1, \n",
    "    \"linecolor\": \"#444\", \n",
    "    \"linewidth\": 1, \n",
    "    \"mirror\": \"ticks\", \n",
    "    \"nticks\": 9, \n",
    "    \"overlaying\": False, \n",
    "    \"position\": 0, \n",
    "    \"range\": [-0.071067940493, 1.06824900483], \n",
    "    \"rangemode\": \"normal\", \n",
    "    \"showexponent\": \"all\", \n",
    "    \"showgrid\": True, \n",
    "    \"showline\": True, \n",
    "    \"showticklabels\": True, \n",
    "    \"side\": \"bottom\", \n",
    "    \"tick0\": 0, \n",
    "    \"tickangle\": \"auto\", \n",
    "    \"tickcolor\": \"#444\", \n",
    "    \"tickfont\": {\n",
    "      \"color\": \"\", \n",
    "      \"family\": \"\", \n",
    "      \"size\": 12\n",
    "    }, \n",
    "    \"ticklen\": 5, \n",
    "    \"ticks\": \"inside\", \n",
    "    \"tickwidth\": 1, \n",
    "    \"title\": \"Click to enter X axis title\", \n",
    "    \"titlefont\": {\n",
    "      \"color\": \"\", \n",
    "      \"family\": \"\", \n",
    "      \"size\": 0\n",
    "    }, \n",
    "    \"type\": \"linear\", \n",
    "    \"zeroline\": False, \n",
    "    \"zerolinecolor\": \"#444\", \n",
    "    \"zerolinewidth\": 1\n",
    "  }, \n",
    "  \"yaxis\": {\n",
    "    \"anchor\": \"x\", \n",
    "    \"autorange\": True, \n",
    "    \"autotick\": True, \n",
    "    \"domain\": [0, 1], \n",
    "    \"dtick\": 0.2, \n",
    "    \"exponentformat\": \"B\", \n",
    "    \"gridcolor\": \"#eee\", \n",
    "    \"gridwidth\": 1, \n",
    "    \"linecolor\": \"#444\", \n",
    "    \"linewidth\": 1, \n",
    "    \"mirror\": \"ticks\", \n",
    "    \"nticks\": 9, \n",
    "    \"overlaying\": False, \n",
    "    \"position\": 0, \n",
    "    \"range\": [-0.0347601984835, 1.09563139884], \n",
    "    \"rangemode\": \"normal\", \n",
    "    \"showexponent\": \"all\", \n",
    "    \"showgrid\": True, \n",
    "    \"showline\": True, \n",
    "    \"showticklabels\": True, \n",
    "    \"side\": \"left\", \n",
    "    \"tick0\": 0, \n",
    "    \"tickangle\": \"auto\", \n",
    "    \"tickcolor\": \"#444\", \n",
    "    \"tickfont\": {\n",
    "      \"color\": \"\", \n",
    "      \"family\": \"\", \n",
    "      \"size\": 12\n",
    "    }, \n",
    "    \"ticklen\": 5, \n",
    "    \"ticks\": \"inside\", \n",
    "    \"tickwidth\": 1, \n",
    "    \"title\": \"Click to enter Y axis title\", \n",
    "    \"titlefont\": {\n",
    "      \"color\": \"\", \n",
    "      \"family\": \"\", \n",
    "      \"size\": 0\n",
    "    }, \n",
    "    \"type\": \"linear\", \n",
    "    \"zeroline\": False, \n",
    "    \"zerolinecolor\": \"#444\", \n",
    "    \"zerolinewidth\": 1\n",
    "  }\n",
    "}\n",
    "fig = Figure(data=data, layout=layout)\n",
    "plot_url = py.plot(fig)"
   ]
  },
  {
   "cell_type": "code",
   "execution_count": 85,
   "metadata": {
    "collapsed": false
   },
   "outputs": [
    {
     "name": "stdout",
     "output_type": "stream",
     "text": [
      "High five! You successfuly sent some data to your account on plotly. View your plot in your browser at https://plot.ly/~450670642/0 or inside your plot.ly account where it is named 'basic-scatter'\n"
     ]
    },
    {
     "data": {
      "text/html": [
       "<iframe id=\"igraph\" scrolling=\"no\" style=\"border:none;\" seamless=\"seamless\" src=\"https://plot.ly/~450670642/0.embed\" height=\"525px\" width=\"100%\"></iframe>"
      ],
      "text/plain": [
       "<plotly.tools.PlotlyDisplay object>"
      ]
     },
     "execution_count": 85,
     "metadata": {},
     "output_type": "execute_result"
    }
   ],
   "source": [
    "import plotly.plotly as py\n",
    "import plotly.graph_objs as go\n",
    "\n",
    "# Create random data with numpy\n",
    "import numpy as np\n",
    "\n",
    "N = 100\n",
    "random_x = np.random.randn(N)\n",
    "random_y = np.random.randn(N)\n",
    "\n",
    "# Create a trace\n",
    "trace = go.Scatter(\n",
    "    x = random_x,\n",
    "    y = random_y,\n",
    "    mode = 'markers',#只显示散点\n",
    "    #mode = 'line',#只显示线\n",
    "    name = 'markers1',\n",
    "    opacity = 0.5,#不透明度，默认不透明，为1，范围0-1\n",
    "    #name = 'David Wang'\n",
    "    hoverlabel =dict(\n",
    "        bgcolor = 'blue',#设置此跟踪的悬停标签的背景颜色\n",
    "        #color = 'red',\n",
    "        bordercolor = dict(\n",
    "            bordercolor = 'red',#设置此跟踪的悬停标签的边框颜色\n",
    "        )\n",
    "    ),\n",
    "    line = dict(\n",
    "        color = 'red',#点和线的颜色\n",
    "        width = '3',#线的粗细默认是2，要求大于等于0\n",
    "        shape = 'spline',#线的样式默认为线，spline:曲线\n",
    "        dash = 'dot'#默认连续实心的线，这里是虚线       \n",
    "    ),\n",
    "    fill = 'tonexty',#填充\n",
    "    fillcolor = 'yellow'#默认是line的颜色一半透明度\n",
    ")\n",
    "\n",
    "data = [trace]\n",
    "\n",
    "# Plot and embed in ipython notebook!\n",
    "py.iplot(data, filename='basic-scatter')#绘图并且显示图片\n",
    "\n",
    "# or plot with: plot_url = py.plot(data, filename='basic-line')"
   ]
  },
  {
   "cell_type": "code",
   "execution_count": null,
   "metadata": {
    "collapsed": true
   },
   "outputs": [],
   "source": []
  }
 ],
 "metadata": {
  "kernelspec": {
   "display_name": "Python [Root]",
   "language": "python",
   "name": "Python [Root]"
  },
  "language_info": {
   "codemirror_mode": {
    "name": "ipython",
    "version": 3
   },
   "file_extension": ".py",
   "mimetype": "text/x-python",
   "name": "python",
   "nbconvert_exporter": "python",
   "pygments_lexer": "ipython3",
   "version": "3.5.2"
  }
 },
 "nbformat": 4,
 "nbformat_minor": 0
}
