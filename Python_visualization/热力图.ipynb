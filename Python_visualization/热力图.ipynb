{
 "cells": [
  {
   "cell_type": "code",
   "execution_count": 6,
   "metadata": {
    "collapsed": true
   },
   "outputs": [],
   "source": [
    "from pyheatmap.heatmap import HeatMap"
   ]
  },
  {
   "cell_type": "code",
   "execution_count": 5,
   "metadata": {
    "collapsed": true
   },
   "outputs": [],
   "source": [
    "from PIL import Image"
   ]
  },
  {
   "cell_type": "code",
   "execution_count": null,
   "metadata": {
    "collapsed": true
   },
   "outputs": [],
   "source": []
  },
  {
   "cell_type": "code",
   "execution_count": 15,
   "metadata": {
    "collapsed": true
   },
   "outputs": [],
   "source": [
    "import json\n",
    "from urllib.request import urlopen, quote\n",
    "import requests,csv\n",
    "import pandas as pd #导入这些库后边都要用到\n",
    "\n",
    "def getlnglat(address):\n",
    "    url = 'http://api.map.baidu.com/geocoder/v2/'\n",
    "    output = 'json'\n",
    "    ak = 'h9HL9Mx7HUmpqi1KnWZfyxb3Z8HVHkM0'\n",
    "    add = quote(address) #由于本文城市变量为中文，为防止乱码，先用quote进行编码\n",
    "    uri = url + '?' + 'address=' + add  + '&output=' + output + '&ak=' + ak\n",
    "    req = urlopen(uri)\n",
    "    res = req.read().decode() #将其他编码的字符串解码成unicode\n",
    "    temp = json.loads(res) #对json数据进行解析\n",
    "    return temp "
   ]
  },
  {
   "cell_type": "code",
   "execution_count": 16,
   "metadata": {},
   "outputs": [],
   "source": [
    "file = open(r'E:\\房地产开发投资额2015.json','w') #建立json数据文件\n",
    "with open(r'E:\\房地产开发投资额2015.csv', 'r') as csvfile: #打开csv\n",
    "    reader = csv.reader(csvfile)\n",
    "    for line in reader: #读取csv里的数据\n",
    "        # 忽略第一行\n",
    "        if reader.line_num == 1: #由于第一行为变量名称，故忽略掉\n",
    "            continue\n",
    "            # line是个list，取得所有需要的值\n",
    "        b = line[0].strip() #将第一列city读取出来并清除不需要字符\n",
    "        c = line[1].strip()#将第二列price读取出来并清除不需要字符\n",
    "        lng = getlnglat(b)['result']['location']['lng'] #采用构造的函数来获取经度\n",
    "        lat = getlnglat(b)['result']['location']['lat'] #获取纬度\n",
    "        str_temp = '{\"lat\":' + str(lat) + ',\"lng\":' + str(lng) + ',\"count\":' + str(c) +'},'\n",
    "        #print(str_temp) #也可以通过打印出来，把数据copy到百度热力地图api的相应位置上\n",
    "        file.write(str_temp) #写入文档\n",
    "file.close() #保存"
   ]
  },
  {
   "cell_type": "code",
   "execution_count": 17,
   "metadata": {},
   "outputs": [
    {
     "name": "stdout",
     "output_type": "stream",
     "text": [
      "四川省银河化学股份有限公司\n"
     ]
    }
   ],
   "source": [
    "print(u'\\u56DB\\u5DDD\\u7701\\u94F6\\u6CB3\\u5316\\u5B66\\u80A1\\u4EFD\\u6709\\u9650\\u516C\\u53F8')"
   ]
  },
  {
   "cell_type": "code",
   "execution_count": null,
   "metadata": {
    "collapsed": true
   },
   "outputs": [],
   "source": []
  }
 ],
 "metadata": {
  "kernelspec": {
   "display_name": "Python 3",
   "language": "python",
   "name": "python3"
  },
  "language_info": {
   "codemirror_mode": {
    "name": "ipython",
    "version": 3
   },
   "file_extension": ".py",
   "mimetype": "text/x-python",
   "name": "python",
   "nbconvert_exporter": "python",
   "pygments_lexer": "ipython3",
   "version": "3.6.1"
  }
 },
 "nbformat": 4,
 "nbformat_minor": 2
}
