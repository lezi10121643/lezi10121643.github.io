{
 "cells": [
  {
   "cell_type": "code",
   "execution_count": null,
   "metadata": {
    "collapsed": true
   },
   "outputs": [],
   "source": [
    "import random\n",
    "from numpy import *  \n",
    "import matplotlib  \n",
    "import matplotlib.pyplot as plt  \n",
    "\n",
    "\n",
    "x = random.rand(50,30)  \n",
    "\n",
    "#basic  \n",
    "f1 = plt.figure(1)  \n",
    "plt.subplot(211)  \n",
    "plt.scatter(x[:,1],x[:,0])  \n",
    "  \n",
    "# with label  \n",
    "plt.subplot(212)  \n",
    "label = list(ones(20))+list(2*ones(15))+list(3*ones(15))  \n",
    "label = array(label)  \n",
    "plt.scatter(x[:,1],x[:,0],15.0*label,15.0*label)  \n",
    "  \n",
    "# with legend  \n",
    "f2 = plt.figure(2)  \n",
    "idx_1 = find(label==1)  \n",
    "p1 = plt.scatter(x[idx_1,1], x[idx_1,0], marker = 'x', color = 'm', label='1', s = 30)  \n",
    "idx_2 = find(label==2)  \n",
    "p2 = plt.scatter(x[idx_2,1], x[idx_2,0], marker = '+', color = 'c', label='2', s = 50)  \n",
    "idx_3 = find(label==3)  \n",
    "p3 = plt.scatter(x[idx_3,1], x[idx_3,0], marker = 'o', color = 'r', label='3', s = 15)  \n",
    "plt.legend(loc = 'upper right')  "
   ]
  },
  {
   "cell_type": "code",
   "execution_count": null,
   "metadata": {
    "collapsed": true
   },
   "outputs": [],
   "source": [
    "#导入必要的模块  \n",
    "import numpy as np  \n",
    "import matplotlib.pyplot as plt  \n",
    "#产生测试数据  \n",
    "x = np.arange(1,10)  \n",
    "y = x  \n",
    "fig = plt.figure()  \n",
    "ax1 = fig.add_subplot(111)  \n",
    "#设置标题  \n",
    "ax1.set_title('Scatter Plot')  \n",
    "#设置X轴标签  \n",
    "plt.xlabel('X')  \n",
    "#设置Y轴标签  \n",
    "plt.ylabel('Y')  \n",
    "#画散点图  \n",
    "ax1.scatter(x,y,c = 'r',marker = 'o')  \n",
    "#设置图标  \n",
    "plt.legend('x1')  \n",
    "#显示所画的图  \n",
    "plt.show()  "
   ]
  },
  {
   "cell_type": "code",
   "execution_count": 1,
   "metadata": {
    "collapsed": true
   },
   "outputs": [],
   "source": [
    "import pandas as pd"
   ]
  },
  {
   "cell_type": "code",
   "execution_count": 2,
   "metadata": {
    "collapsed": true
   },
   "outputs": [],
   "source": [
    "data = pd.read_excel('data_9_16.xls')"
   ]
  },
  {
   "cell_type": "code",
   "execution_count": 3,
   "metadata": {},
   "outputs": [
    {
     "data": {
      "text/html": [
       "<div>\n",
       "<style>\n",
       "    .dataframe thead tr:only-child th {\n",
       "        text-align: right;\n",
       "    }\n",
       "\n",
       "    .dataframe thead th {\n",
       "        text-align: left;\n",
       "    }\n",
       "\n",
       "    .dataframe tbody tr th {\n",
       "        vertical-align: top;\n",
       "    }\n",
       "</style>\n",
       "<table border=\"1\" class=\"dataframe\">\n",
       "  <thead>\n",
       "    <tr style=\"text-align: right;\">\n",
       "      <th></th>\n",
       "      <th>任务号码</th>\n",
       "      <th>任务gps 纬度</th>\n",
       "      <th>任务gps经度</th>\n",
       "      <th>任务标价</th>\n",
       "      <th>任务执行情况</th>\n",
       "    </tr>\n",
       "  </thead>\n",
       "  <tbody>\n",
       "    <tr>\n",
       "      <th>0</th>\n",
       "      <td>A0001</td>\n",
       "      <td>22.566142</td>\n",
       "      <td>113.980837</td>\n",
       "      <td>66.0</td>\n",
       "      <td>0</td>\n",
       "    </tr>\n",
       "    <tr>\n",
       "      <th>1</th>\n",
       "      <td>A0002</td>\n",
       "      <td>22.686205</td>\n",
       "      <td>113.940525</td>\n",
       "      <td>65.5</td>\n",
       "      <td>0</td>\n",
       "    </tr>\n",
       "    <tr>\n",
       "      <th>2</th>\n",
       "      <td>A0003</td>\n",
       "      <td>22.576512</td>\n",
       "      <td>113.957198</td>\n",
       "      <td>65.5</td>\n",
       "      <td>1</td>\n",
       "    </tr>\n",
       "    <tr>\n",
       "      <th>3</th>\n",
       "      <td>A0004</td>\n",
       "      <td>22.564841</td>\n",
       "      <td>114.244571</td>\n",
       "      <td>75.0</td>\n",
       "      <td>0</td>\n",
       "    </tr>\n",
       "    <tr>\n",
       "      <th>4</th>\n",
       "      <td>A0005</td>\n",
       "      <td>22.558888</td>\n",
       "      <td>113.950723</td>\n",
       "      <td>65.5</td>\n",
       "      <td>0</td>\n",
       "    </tr>\n",
       "  </tbody>\n",
       "</table>\n",
       "</div>"
      ],
      "text/plain": [
       "    任务号码   任务gps 纬度     任务gps经度  任务标价  任务执行情况\n",
       "0  A0001  22.566142  113.980837  66.0       0\n",
       "1  A0002  22.686205  113.940525  65.5       0\n",
       "2  A0003  22.576512  113.957198  65.5       1\n",
       "3  A0004  22.564841  114.244571  75.0       0\n",
       "4  A0005  22.558888  113.950723  65.5       0"
      ]
     },
     "execution_count": 3,
     "metadata": {},
     "output_type": "execute_result"
    }
   ],
   "source": [
    "data.head()"
   ]
  },
  {
   "cell_type": "code",
   "execution_count": 4,
   "metadata": {},
   "outputs": [
    {
     "data": {
      "text/html": [
       "<div>\n",
       "<style>\n",
       "    .dataframe thead tr:only-child th {\n",
       "        text-align: right;\n",
       "    }\n",
       "\n",
       "    .dataframe thead th {\n",
       "        text-align: left;\n",
       "    }\n",
       "\n",
       "    .dataframe tbody tr th {\n",
       "        vertical-align: top;\n",
       "    }\n",
       "</style>\n",
       "<table border=\"1\" class=\"dataframe\">\n",
       "  <thead>\n",
       "    <tr style=\"text-align: right;\">\n",
       "      <th></th>\n",
       "      <th>任务号码</th>\n",
       "      <th>任务gps 纬度</th>\n",
       "      <th>任务gps经度</th>\n",
       "      <th>任务标价</th>\n",
       "      <th>任务执行情况</th>\n",
       "    </tr>\n",
       "  </thead>\n",
       "  <tbody>\n",
       "    <tr>\n",
       "      <th>21</th>\n",
       "      <td>A0022</td>\n",
       "      <td>22.515920</td>\n",
       "      <td>113.935677</td>\n",
       "      <td>65.0</td>\n",
       "      <td>1</td>\n",
       "    </tr>\n",
       "    <tr>\n",
       "      <th>120</th>\n",
       "      <td>A0121</td>\n",
       "      <td>22.735652</td>\n",
       "      <td>114.280464</td>\n",
       "      <td>65.0</td>\n",
       "      <td>1</td>\n",
       "    </tr>\n",
       "    <tr>\n",
       "      <th>219</th>\n",
       "      <td>A0220</td>\n",
       "      <td>23.392864</td>\n",
       "      <td>113.216877</td>\n",
       "      <td>65.0</td>\n",
       "      <td>1</td>\n",
       "    </tr>\n",
       "    <tr>\n",
       "      <th>238</th>\n",
       "      <td>A0239</td>\n",
       "      <td>23.091871</td>\n",
       "      <td>113.337876</td>\n",
       "      <td>65.0</td>\n",
       "      <td>1</td>\n",
       "    </tr>\n",
       "    <tr>\n",
       "      <th>252</th>\n",
       "      <td>A0253</td>\n",
       "      <td>23.086863</td>\n",
       "      <td>113.332467</td>\n",
       "      <td>65.0</td>\n",
       "      <td>1</td>\n",
       "    </tr>\n",
       "  </tbody>\n",
       "</table>\n",
       "</div>"
      ],
      "text/plain": [
       "      任务号码   任务gps 纬度     任务gps经度  任务标价  任务执行情况\n",
       "21   A0022  22.515920  113.935677  65.0       1\n",
       "120  A0121  22.735652  114.280464  65.0       1\n",
       "219  A0220  23.392864  113.216877  65.0       1\n",
       "238  A0239  23.091871  113.337876  65.0       1\n",
       "252  A0253  23.086863  113.332467  65.0       1"
      ]
     },
     "execution_count": 4,
     "metadata": {},
     "output_type": "execute_result"
    }
   ],
   "source": [
    "data_65_1 = data[(data['任务标价'] == 65) & (data['任务执行情况']== 1)]\n",
    "data_65_1.head()"
   ]
  },
  {
   "cell_type": "code",
   "execution_count": 8,
   "metadata": {
    "collapsed": true
   },
   "outputs": [],
   "source": [
    "x_65_1 = data_65_1['任务gps经度']\n",
    "y_65_1 = data_65_1['任务gps 纬度']"
   ]
  },
  {
   "cell_type": "code",
   "execution_count": 9,
   "metadata": {
    "collapsed": true
   },
   "outputs": [],
   "source": [
    "data_65_0 = data[(data['任务标价'] == 65) & (data['任务执行情况']== 0)]\n",
    "x_65_0 = data_65_0['任务gps经度']\n",
    "y_65_0 = data_65_0['任务gps 纬度']"
   ]
  },
  {
   "cell_type": "code",
   "execution_count": 10,
   "metadata": {
    "collapsed": true
   },
   "outputs": [],
   "source": [
    "data_70_0 = data[(data['任务标价'] == 70) & (data['任务执行情况']== 0)]\n",
    "x_70_0 = data_70_0['任务gps经度']\n",
    "y_70_0 = data_70_0['任务gps 纬度']"
   ]
  },
  {
   "cell_type": "code",
   "execution_count": 11,
   "metadata": {
    "collapsed": true
   },
   "outputs": [],
   "source": [
    "data_70_1 = data[(data['任务标价'] == 70) & (data['任务执行情况']== 1)]\n",
    "x_70_1 = data_70_1['任务gps经度']\n",
    "y_70_1 = data_70_1['任务gps 纬度']"
   ]
  },
  {
   "cell_type": "code",
   "execution_count": 12,
   "metadata": {
    "collapsed": true
   },
   "outputs": [],
   "source": [
    "data_75_0 = data[(data['任务标价'] == 75) & (data['任务执行情况']== 0)]\n",
    "x_75_0 = data_75_0['任务gps经度']\n",
    "y_75_0 = data_75_0['任务gps 纬度']"
   ]
  },
  {
   "cell_type": "code",
   "execution_count": 13,
   "metadata": {
    "collapsed": true
   },
   "outputs": [],
   "source": [
    "data_75_1 = data[(data['任务标价'] == 75) & (data['任务执行情况']== 1)]\n",
    "x_75_1 = data_75_1['任务gps经度']\n",
    "y_75_1 = data_75_1['任务gps 纬度']"
   ]
  },
  {
   "cell_type": "code",
   "execution_count": null,
   "metadata": {
    "collapsed": true
   },
   "outputs": [],
   "source": []
  },
  {
   "cell_type": "code",
   "execution_count": 14,
   "metadata": {
    "collapsed": true
   },
   "outputs": [],
   "source": [
    "data_80_0 = data[(data['任务标价'] == 80) & (data['任务执行情况']== 0)]\n",
    "x_80_0 = data_80_0['任务gps经度']\n",
    "y_80_0 = data_80_0['任务gps 纬度']"
   ]
  },
  {
   "cell_type": "code",
   "execution_count": 15,
   "metadata": {
    "collapsed": true
   },
   "outputs": [],
   "source": [
    "data_80_1 = data[(data['任务标价'] == 80) & (data['任务执行情况']== 1)]\n",
    "x_80_1 = data_80_1['任务gps经度']\n",
    "y_80_1 = data_80_1['任务gps 纬度']"
   ]
  },
  {
   "cell_type": "code",
   "execution_count": 16,
   "metadata": {
    "collapsed": true
   },
   "outputs": [],
   "source": [
    "data_85_0 = data[(data['任务标价'] == 85) & (data['任务执行情况']== 0)]\n",
    "x_85_0 = data_85_0['任务gps经度']\n",
    "y_85_0 = data_85_0['任务gps 纬度']"
   ]
  },
  {
   "cell_type": "code",
   "execution_count": 17,
   "metadata": {
    "collapsed": true
   },
   "outputs": [],
   "source": [
    "data_85_1 = data[(data['任务标价'] == 85) & (data['任务执行情况']== 1)]\n",
    "x_85_1 = data_85_1['任务gps经度']\n",
    "y_85_1 = data_85_1['任务gps 纬度']"
   ]
  },
  {
   "cell_type": "code",
   "execution_count": 18,
   "metadata": {},
   "outputs": [
    {
     "data": {
      "image/png": "[encoded data removed]",
      "text/plain": [
       "<matplotlib.figure.Figure at 0x5fe7cf8>"
      ]
     },
     "metadata": {},
     "output_type": "display_data"
    }
   ],
   "source": [
    "%matplotlib inline\n",
    "import matplotlib.pyplot as plt\n",
    "\n",
    "\n",
    "plt.scatter(x_65_1, y_65_1, marker = 'o', color = 'g', label='65_1', s = 10, alpha=0.3)\n",
    "plt.scatter(x_65_0, y_65_0, marker = 'o', color = 'r', label='65_0', s = 10, alpha=0.3)\n",
    "plt.scatter(x_70_1, y_70_1, marker = 'o', color = 'g', label='70_1', s = 20, alpha=0.3)\n",
    "plt.scatter(x_70_0, y_70_0, marker = 'o', color = 'r', label='70_0', s = 20, alpha=0.3)\n",
    "plt.scatter(x_75_1, y_75_1, marker = 'o', color = 'g', label='75_1', s = 30, alpha=0.3)\n",
    "plt.scatter(x_75_0, y_75_0, marker = 'o', color = 'r', label='75_0', s = 30, alpha=0.3)\n",
    "plt.scatter(x_80_1, y_80_1, marker = 'o', color = 'g', label='80_1', s = 40, alpha=0.3)\n",
    "plt.scatter(x_80_0, y_80_0, marker = 'o', color = 'r', label='80_0', s = 40, alpha=0.3)\n",
    "plt.scatter(x_85_1, y_85_1, marker = 'o', color = 'g', label='85_1', s = 50, alpha=0.3)\n",
    "plt.scatter(x_85_0, y_85_0, marker = 'o', color = 'r', label='85_0', s = 50, alpha=0.3)\n",
    "\n",
    "plt.legend(loc = 'lower right')\n",
    "plt.text(114.25,23.65,'Price tag')\n",
    "plt.xlabel('Task GPS longitude')  \n",
    "plt.ylabel('Task GPS latitude')  \n",
    "\n",
    "plt.show()"
   ]
  },
  {
   "cell_type": "code",
   "execution_count": 19,
   "metadata": {
    "collapsed": true
   },
   "outputs": [],
   "source": [
    "?plt.scatter"
   ]
  },
  {
   "cell_type": "code",
   "execution_count": 21,
   "metadata": {},
   "outputs": [],
   "source": [
    "import matplotlib  \n",
    "?matplotlib.markers"
   ]
  },
  {
   "cell_type": "code",
   "execution_count": null,
   "metadata": {
    "collapsed": true
   },
   "outputs": [],
   "source": []
  }
 ],
 "metadata": {
  "kernelspec": {
   "display_name": "Python 3",
   "language": "python",
   "name": "python3"
  },
  "language_info": {
   "codemirror_mode": {
    "name": "ipython",
    "version": 3
   },
   "file_extension": ".py",
   "mimetype": "text/x-python",
   "name": "python",
   "nbconvert_exporter": "python",
   "pygments_lexer": "ipython3",
   "version": "3.6.1"
  }
 },
 "nbformat": 4,
 "nbformat_minor": 2
}
