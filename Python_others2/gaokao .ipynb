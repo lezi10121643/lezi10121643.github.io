{
 "cells": [
  {
   "cell_type": "code",
   "execution_count": 36,
   "metadata": {
    "collapsed": false
   },
   "outputs": [
    {
     "data": {
      "text/plain": [
       "[]"
      ]
     },
     "execution_count": 36,
     "metadata": {},
     "output_type": "execute_result"
    }
   ],
   "source": [
    "import requests\n",
    "import urllib\n",
    "import json\n",
    "from bs4 import BeautifulSoup\n",
    "base=\"http://gkcx.eol.cn/soudaxue/queryschoolgufen.html\"\n",
    "data={\n",
    "    \"mark\":450,\n",
    "    \"fsxxxS\":\"山西\",\n",
    "    \"examineeType\":\"理科\",\n",
    "    \"page\":1\n",
    "}\n",
    "headers={\n",
    "    \"Cookie\":\"tool_ipuse=171.117.60.64; tool_ipprovince=14; tool_iparea=1\",\n",
    "    \"Host\":\"gkcx.eol.cn\",\n",
    "    \"Referer\":\"http://gkcx.eol.cn/soudaxue/queryschoolgufen.html?&mark=450&fsxxxS=%E5%8C%97%E4%BA%AC&examineeType=%E7%90%86%E7%A7%91\",\n",
    "    \"Upgrade-Insecure-Requests\":\"1\",\n",
    "    \"User-Agent\":\"Mozilla/5.0 (Windows NT 10.0; WOW64) AppleWebKit/537.36 (KHTML, like Gecko) Chrome/59.0.3071.104 Safari/537.36\"\n",
    "}\n",
    "a=urllib.parse.urlencode(data)\n",
    "url=base+\"?\"+a\n",
    "response=requests.get(url,headers=headers)\n",
    "response.encoding=\"utf-8\"\n",
    "html=response.text\n",
    "soup=BeautifulSoup(html,'lxml')\n",
    "soup.find_all(\"tr\")"
   ]
  },
  {
   "cell_type": "code",
   "execution_count": null,
   "metadata": {
    "collapsed": false
   },
   "outputs": [],
   "source": []
  },
  {
   "cell_type": "code",
   "execution_count": null,
   "metadata": {
    "collapsed": false
   },
   "outputs": [],
   "source": []
  }
 ],
 "metadata": {
  "kernelspec": {
   "display_name": "Python 3",
   "language": "python",
   "name": "python3"
  },
  "language_info": {
   "codemirror_mode": {
    "name": "ipython",
    "version": 3
   },
   "file_extension": ".py",
   "mimetype": "text/x-python",
   "name": "python",
   "nbconvert_exporter": "python",
   "pygments_lexer": "ipython3",
   "version": "3.6.0"
  }
 },
 "nbformat": 4,
 "nbformat_minor": 2
}
