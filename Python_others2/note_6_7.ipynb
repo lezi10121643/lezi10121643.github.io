{
 "cells": [
  {
   "cell_type": "code",
   "execution_count": 1,
   "metadata": {
    "collapsed": false
   },
   "outputs": [
    {
     "data": {
      "text/plain": [
       "'<b><i>hello world-3</i></b>'"
      ]
     },
     "execution_count": 1,
     "metadata": {},
     "output_type": "execute_result"
    }
   ],
   "source": [
    "#两个装饰器\n",
    "def makeBold(fn):\n",
    "    def wrapped():\n",
    "        return '<b>' + fn() + '</b>'\n",
    "    return wrapped\n",
    "\n",
    "def makeItalic(fn):\n",
    "    def wrapped():\n",
    "        return '<i>' + fn() + '</i>'\n",
    "    return wrapped\n",
    "\n",
    "@makeBold\n",
    "@makeItalic\n",
    "\n",
    "def test3():\n",
    "    return 'hello world-3'\n",
    "\n",
    "test3()"
   ]
  },
  {
   "cell_type": "code",
   "execution_count": 5,
   "metadata": {
    "collapsed": false
   },
   "outputs": [
    {
     "name": "stdout",
     "output_type": "stream",
     "text": [
      "-----1-----\n",
      "-----2-----\n",
      "-----3-----\n",
      "<b><i>hello world-3</i></b>\n"
     ]
    }
   ],
   "source": [
    "#两个装饰器\n",
    "def makeBold(fn):\n",
    "    def wrapped():\n",
    "        print('-----1-----')\n",
    "        return '<b>' + fn() + '</b>'\n",
    "    return wrapped\n",
    "\n",
    "def makeItalic(fn):\n",
    "    def wrapped():\n",
    "        print('-----2-----')\n",
    "        return '<i>' + fn() + '</i>'\n",
    "    return wrapped\n",
    "\n",
    "@makeBold # test3 = makeBold(test3)\n",
    "@makeItalic# test3 =makeItalic(test3) \n",
    "#层层调用，递归的感觉\n",
    "\n",
    "def test3():\n",
    "    print('-----3-----')\n",
    "    return 'hello world-3'\n",
    "\n",
    "ret = test3()\n",
    "print(ret)"
   ]
  },
  {
   "cell_type": "code",
   "execution_count": 6,
   "metadata": {
    "collapsed": true
   },
   "outputs": [],
   "source": [
    "#结果是先加i，后加b，"
   ]
  },
  {
   "cell_type": "code",
   "execution_count": 7,
   "metadata": {
    "collapsed": false
   },
   "outputs": [
    {
     "name": "stdout",
     "output_type": "stream",
     "text": [
      "---正在装饰---\n"
     ]
    }
   ],
   "source": [
    "#装饰器什么时候开始装饰\n",
    "def w1(func):\n",
    "    print('---正在装饰---')\n",
    "    def inner():\n",
    "        print('-----正在验证权限-----')\n",
    "        func()\n",
    "    return inner\n",
    "\n",
    "@w1  #等价于f1 = w1(f1)    写在f1()前面\n",
    "def f1():\n",
    "    print('-----f1-----')\n",
    "    "
   ]
  },
  {
   "cell_type": "code",
   "execution_count": 8,
   "metadata": {
    "collapsed": true
   },
   "outputs": [],
   "source": [
    "# @ 会执行"
   ]
  },
  {
   "cell_type": "code",
   "execution_count": 10,
   "metadata": {
    "collapsed": false
   },
   "outputs": [
    {
     "name": "stdout",
     "output_type": "stream",
     "text": [
      "---正在装饰---\n",
      "-----正在验证权限-----\n",
      "-----f1-----\n"
     ]
    }
   ],
   "source": [
    "#装饰器什么时候开始装饰\n",
    "def w1(func):\n",
    "    print('---正在装饰---')\n",
    "    def inner():\n",
    "        print('-----正在验证权限-----')\n",
    "        func()\n",
    "    return inner\n",
    "#只要python解释器执行到了这个代码，那么就会自动的进行装饰，而不是等到调用的时候才装饰的\n",
    "@w1  #等价于f1 = w1(f1)    写在f1()前面\n",
    "def f1():\n",
    "    print('-----f1-----')\n",
    "    \n",
    "#在调用f1之前，已经进行装饰了\n",
    "f1()\n",
    "    \n",
    "#调用是从上往下调用，装饰是从下往上装饰"
   ]
  },
  {
   "cell_type": "code",
   "execution_count": 11,
   "metadata": {
    "collapsed": false
   },
   "outputs": [
    {
     "name": "stdout",
     "output_type": "stream",
     "text": [
      "---正在装饰2---\n",
      "---正在装饰1---\n",
      "-----正在验证权限1-----\n",
      "-----正在验证权限2-----\n",
      "-----f1-----\n"
     ]
    }
   ],
   "source": [
    "#装饰器什么时候开始装饰\n",
    "def w1(func):\n",
    "    print('---正在装饰1---')\n",
    "    def inner():\n",
    "        print('-----正在验证权限1-----')\n",
    "        func()\n",
    "    return inner\n",
    "\n",
    "def w2(func):\n",
    "    print('---正在装饰2---')\n",
    "    def inner():\n",
    "        print('-----正在验证权限2-----')\n",
    "        func()\n",
    "    return inner\n",
    "\n",
    "\n",
    "#只要python解释器执行到了这个代码，那么就会自动的进行装饰，而不是等到调用的时候才装饰的\n",
    "@w1  #等价于f1 = w1(f1)    写在f1()前面\n",
    "@w2\n",
    "def f1():\n",
    "    print('-----f1-----')\n",
    "    \n",
    "#在调用f1之前，已经进行装饰了\n",
    "f1()\n",
    "    \n",
    "#调用是从上往下调用，装饰是从下往上装饰"
   ]
  },
  {
   "cell_type": "code",
   "execution_count": 12,
   "metadata": {
    "collapsed": true
   },
   "outputs": [],
   "source": [
    "#所以是装饰从内往外，包装包裹一样，调用从外往里"
   ]
  },
  {
   "cell_type": "code",
   "execution_count": 14,
   "metadata": {
    "collapsed": false
   },
   "outputs": [
    {
     "name": "stdout",
     "output_type": "stream",
     "text": [
      "----func---1-----\n",
      "---func---2-----\n",
      "---func_in---1---\n",
      "-----test-----\n",
      "---func---2-----\n"
     ]
    }
   ],
   "source": [
    "#装饰器装饰无参数的函数\n",
    "\n",
    "def func(functionName):\n",
    "    print('----func---1-----')\n",
    "    def func_in():\n",
    "        print('---func_in---1---')\n",
    "        functionName()\n",
    "        print('---func---2-----')\n",
    "        \n",
    "    print('---func---2-----')\n",
    "    return func_in\n",
    "\n",
    "def test():\n",
    "    print('-----test-----')\n",
    "\n",
    "test = func(test)\n",
    "    \n",
    "test()"
   ]
  },
  {
   "cell_type": "code",
   "execution_count": 15,
   "metadata": {
    "collapsed": false
   },
   "outputs": [
    {
     "name": "stdout",
     "output_type": "stream",
     "text": [
      "----func---1-----\n",
      "---func---2-----\n",
      "---func_in---1---\n",
      "-----test-----\n",
      "---func---2-----\n"
     ]
    }
   ],
   "source": [
    "#装饰器装饰无参数的函数\n",
    "\n",
    "def func(functionName):\n",
    "    print('----func---1-----')\n",
    "    def func_in():\n",
    "        print('---func_in---1---')\n",
    "        functionName()\n",
    "        print('---func---2-----')\n",
    "        \n",
    "    print('---func---2-----')\n",
    "    return func_in\n",
    "\n",
    "@func\n",
    "def test():\n",
    "    print('-----test-----')\n",
    "\n",
    "#test = func(test)\n",
    "    \n",
    "test()"
   ]
  },
  {
   "cell_type": "code",
   "execution_count": 17,
   "metadata": {
    "collapsed": false
   },
   "outputs": [
    {
     "name": "stdout",
     "output_type": "stream",
     "text": [
      "-----test---a=11,b=22\n"
     ]
    }
   ],
   "source": [
    "#装饰器装饰有参数的函数\n",
    "\n",
    "def func(functionName):\n",
    "    print('----func---1-----')\n",
    "    def func_in():\n",
    "        print('---func_in---1---')\n",
    "        functionName()\n",
    "        print('---func---2-----')\n",
    "        \n",
    "    print('---func---2-----')\n",
    "    return func_in\n",
    "\n",
    "\n",
    "def test(a,b):\n",
    "    print('-----test---a=%d,b=%d'%(a,b))\n",
    "\n",
    "#test = func(test)\n",
    "    \n",
    "test(11,22)"
   ]
  },
  {
   "cell_type": "code",
   "execution_count": 18,
   "metadata": {
    "collapsed": false
   },
   "outputs": [
    {
     "name": "stdout",
     "output_type": "stream",
     "text": [
      "----func---1-----\n",
      "---func---2-----\n"
     ]
    },
    {
     "ename": "TypeError",
     "evalue": "func_in() takes 0 positional arguments but 2 were given",
     "output_type": "error",
     "traceback": [
      "\u001b[1;31m---------------------------------------------------------------------------\u001b[0m",
      "\u001b[1;31mTypeError\u001b[0m                                 Traceback (most recent call last)",
      "\u001b[1;32m<ipython-input-18-33b744e881af>\u001b[0m in \u001b[0;36m<module>\u001b[1;34m()\u001b[0m\n\u001b[0;32m     17\u001b[0m \u001b[1;31m#test = func(test)\u001b[0m\u001b[1;33m\u001b[0m\u001b[1;33m\u001b[0m\u001b[0m\n\u001b[0;32m     18\u001b[0m \u001b[1;33m\u001b[0m\u001b[0m\n\u001b[1;32m---> 19\u001b[1;33m \u001b[0mtest\u001b[0m\u001b[1;33m(\u001b[0m\u001b[1;36m11\u001b[0m\u001b[1;33m,\u001b[0m\u001b[1;36m22\u001b[0m\u001b[1;33m)\u001b[0m\u001b[1;33m\u001b[0m\u001b[0m\n\u001b[0m",
      "\u001b[1;31mTypeError\u001b[0m: func_in() takes 0 positional arguments but 2 were given"
     ]
    }
   ],
   "source": [
    "#装饰器装饰有参数的函数\n",
    "\n",
    "def func(functionName):\n",
    "    print('----func---1-----')\n",
    "    def func_in():\n",
    "        print('---func_in---1---')\n",
    "        functionName()\n",
    "        print('---func---2-----')\n",
    "        \n",
    "    print('---func---2-----')\n",
    "    return func_in\n",
    "\n",
    "@func\n",
    "def test(a,b):\n",
    "    print('-----test---a=%d,b=%d'%(a,b))\n",
    "\n",
    "#test = func(test)\n",
    "    \n",
    "test(11,22)"
   ]
  },
  {
   "cell_type": "code",
   "execution_count": 19,
   "metadata": {
    "collapsed": true
   },
   "outputs": [],
   "source": [
    "#此时test指向func_in,是没有参数的"
   ]
  },
  {
   "cell_type": "code",
   "execution_count": 21,
   "metadata": {
    "collapsed": false
   },
   "outputs": [
    {
     "name": "stdout",
     "output_type": "stream",
     "text": [
      "----func---1-----\n",
      "---func---2-----\n",
      "---func_in---1---\n",
      "-----test---a=11,b=22\n",
      "---func---2-----\n"
     ]
    }
   ],
   "source": [
    "#装饰器装饰有参数的函数\n",
    "\n",
    "def func(functionName):\n",
    "    print('----func---1-----')\n",
    "    def func_in(a,b):#如果a,b没有定义，那么会导致16行的调用失败\n",
    "        print('---func_in---1---')\n",
    "        functionName(a,b)#如果没有把a,b当作实参进行传递，那么会导致调用12行的函数失败\n",
    "        print('---func---2-----')\n",
    "        \n",
    "    print('---func---2-----')\n",
    "    return func_in\n",
    "\n",
    "@func\n",
    "def test(a,b):#12行\n",
    "    print('-----test---a=%d,b=%d'%(a,b))\n",
    "\n",
    "#test = func(test)\n",
    "    \n",
    "test(11,22)#16行"
   ]
  },
  {
   "cell_type": "code",
   "execution_count": 24,
   "metadata": {
    "collapsed": false
   },
   "outputs": [
    {
     "name": "stdout",
     "output_type": "stream",
     "text": [
      "----func---1-----\n",
      "---func---2-----\n",
      "---func_in---1---\n",
      "-----test---a=11,b=22,c=33\n",
      "---func---2-----\n"
     ]
    }
   ],
   "source": [
    " #装饰器装饰有不定长参数的函数\n",
    "#装饰器装饰有参数的函数\n",
    "\n",
    "def func(functionName):\n",
    "    print('----func---1-----')\n",
    "    def func_in(*args,**kwargs):#如果a,b没有定义，那么会导致16行的调用失败\n",
    "        print('---func_in---1---')\n",
    "        functionName(*args,**kwargs)#如果没有把a,b当作实参进行传递，那么会导致调用12行的函数失败\n",
    "        print('---func---2-----')\n",
    "        \n",
    "    print('---func---2-----')\n",
    "    return func_in\n",
    "\n",
    "@func\n",
    "def test(a,b,c):#12行\n",
    "    print('-----test---a=%d,b=%d,c=%d'%(a,b,c))\n",
    "\n",
    "#test = func(test)\n",
    "    \n",
    "test(11,22,33)#16行"
   ]
  },
  {
   "cell_type": "code",
   "execution_count": 26,
   "metadata": {
    "collapsed": false
   },
   "outputs": [
    {
     "name": "stdout",
     "output_type": "stream",
     "text": [
      "----func---1-----\n",
      "---func---2-----\n",
      "----func---1-----\n",
      "---func---2-----\n",
      "---func_in---1---\n",
      "-----test---a=11,b=22,c=33\n",
      "---func---2-----\n",
      "---func_in---1---\n",
      "-----test---a=11,b=22,c=33,d=44\n",
      "---func---2-----\n"
     ]
    }
   ],
   "source": [
    " #装饰器装饰有不定长参数的函数\n",
    "\n",
    "\n",
    "def func(functionName):\n",
    "    print('----func---1-----')\n",
    "    def func_in(*args,**kwargs):#如果a,b没有定义，那么会导致16行的调用失败\n",
    "        print('---func_in---1---')\n",
    "        functionName(*args,**kwargs)#如果没有把a,b当作实参进行传递，那么会导致调用12行的函数失败\n",
    "        print('---func---2-----')\n",
    "        \n",
    "    print('---func---2-----')\n",
    "    return func_in\n",
    "\n",
    "@func\n",
    "def test(a,b,c):#12行\n",
    "    print('-----test---a=%d,b=%d,c=%d'%(a,b,c))\n",
    "\n",
    "@func\n",
    "def test2(a,b,c,d):#12行\n",
    "    print('-----test---a=%d,b=%d,c=%d,d=%d'%(a,b,c,d))\n",
    "    \n",
    "#test = func(test)\n",
    "    \n",
    "test(11,22,33)#16行\n",
    "\n",
    "test2(11,22,33,44)"
   ]
  },
  {
   "cell_type": "code",
   "execution_count": 29,
   "metadata": {
    "collapsed": false
   },
   "outputs": [
    {
     "name": "stdout",
     "output_type": "stream",
     "text": [
      "-----test-----\n",
      "test return value is haha\n"
     ]
    }
   ],
   "source": [
    "#装饰器对有返回值的函数进行装饰\n",
    "\n",
    "def func(functionName):\n",
    "    print('----func---1-----')\n",
    "    def func_in():\n",
    "        print('---func_in---1---')\n",
    "        functionName()\n",
    "        print('---func---2-----')\n",
    "        \n",
    "    print('---func---2-----')\n",
    "    return func_in\n",
    "\n",
    "def test():\n",
    "    print('-----test-----')\n",
    "    return 'haha'\n",
    "    \n",
    "ret = test()\n",
    "print('test return value is %s'%ret)"
   ]
  },
  {
   "cell_type": "code",
   "execution_count": 35,
   "metadata": {
    "collapsed": false
   },
   "outputs": [
    {
     "name": "stdout",
     "output_type": "stream",
     "text": [
      "----func---1-----\n",
      "---func---2-----\n",
      "---func_in---1---\n",
      "-----test-----\n",
      "---func---2-----\n",
      "test return value is None\n"
     ]
    }
   ],
   "source": [
    "#装饰器对有返回值的函数进行装饰\n",
    "\n",
    "def func(functionName):\n",
    "    print('----func---1-----')\n",
    "    def func_in():\n",
    "        print('---func_in---1---')\n",
    "        functionName()\n",
    "        print('---func---2-----')\n",
    "        \n",
    "    print('---func---2-----')\n",
    "    return func_in\n",
    "\n",
    "@func\n",
    "def test():\n",
    "    print('-----test-----')\n",
    "    return 'haha'\n",
    "    \n",
    "ret = test()\n",
    "print('test return value is %s'%ret)"
   ]
  },
  {
   "cell_type": "code",
   "execution_count": 32,
   "metadata": {
    "collapsed": true
   },
   "outputs": [],
   "source": [
    "#结果返回打印不执行，返回值返回给了func_in,而fun_in没有返回值"
   ]
  },
  {
   "cell_type": "code",
   "execution_count": 37,
   "metadata": {
    "collapsed": false
   },
   "outputs": [
    {
     "name": "stdout",
     "output_type": "stream",
     "text": [
      "----func---1-----\n",
      "---func---2-----\n",
      "---func_in---1---\n",
      "-----test-----\n",
      "---func---2-----\n",
      "test return value is haha\n"
     ]
    }
   ],
   "source": [
    "#装饰器对有返回值的函数进行装饰\n",
    "\n",
    "def func(functionName):\n",
    "    print('----func---1-----')\n",
    "    def func_in():\n",
    "        print('---func_in---1---')\n",
    "        ret = functionName()#保存 返回来的haha\n",
    "        print('---func---2-----')\n",
    "        return ret #把haha返回到17行处的调用\n",
    "    \n",
    "    print('---func---2-----')\n",
    "    return func_in\n",
    "\n",
    "@func\n",
    "def test():\n",
    "    print('-----test-----')\n",
    "    return 'haha'\n",
    "    \n",
    "ret = test()#17行\n",
    "print('test return value is %s'%ret)"
   ]
  },
  {
   "cell_type": "code",
   "execution_count": 44,
   "metadata": {
    "collapsed": false
   },
   "outputs": [
    {
     "name": "stdout",
     "output_type": "stream",
     "text": [
      "-----test-----\n",
      "test return value is haha\n",
      "-----test2-----\n",
      "None\n",
      "-----test3--a=11----\n"
     ]
    }
   ],
   "source": [
    "#通用装饰器：有无返回值，有无参数\n",
    "\n",
    "def func(functionName):\n",
    "    def func_in(*args,**kwargs):\n",
    "        ret = functionName(*args,**kwargs)#保存 返回来的haha\n",
    "        return ret #把haha返回到17行处的调用\n",
    "    \n",
    "    return func_in\n",
    "\n",
    "@func\n",
    "def test():\n",
    "    print('-----test-----')\n",
    "    return 'haha'\n",
    "\n",
    "@func\n",
    "def test2():\n",
    "    print('-----test2-----')\n",
    "\n",
    "def test3(a):\n",
    "    print('-----test3--a=%d----'%a)\n",
    "    \n",
    "ret = test()#17行\n",
    "print('test return value is %s'%ret)\n",
    "\n",
    "a = test2()#这里没有返回值\n",
    "print(a)\n",
    "\n",
    "test3(11)"
   ]
  },
  {
   "cell_type": "code",
   "execution_count": 45,
   "metadata": {
    "collapsed": false
   },
   "outputs": [
    {
     "name": "stdout",
     "output_type": "stream",
     "text": [
      "----记录日志----\n",
      "-----test-----\n"
     ]
    }
   ],
   "source": [
    "#带有参数的装饰器\n",
    "def func(functionName):\n",
    "    def func_in():\n",
    "        print('----记录日志----')\n",
    "        functionName()\n",
    "    return func_in\n",
    "\n",
    "@func\n",
    "def test():\n",
    "    print('-----test-----')\n",
    "\n",
    "test()"
   ]
  },
  {
   "cell_type": "code",
   "execution_count": 49,
   "metadata": {
    "collapsed": false
   },
   "outputs": [
    {
     "name": "stdout",
     "output_type": "stream",
     "text": [
      "----记录日志----\n",
      "-----test-----\n"
     ]
    }
   ],
   "source": [
    "#带有参数的装饰器\n",
    "def func_arg(arg):\n",
    "    def func(functionName):\n",
    "        def func_in():\n",
    "            print('----记录日志----')\n",
    "            functionName()\n",
    "        return func_in\n",
    "    return func\n",
    "\n",
    "#1.先执行func_arg('heihei')函数，这个函数return的结果是func这个函数的引用\n",
    "#2.@func\n",
    "#3。使用@func对test进行装饰\n",
    "@func_arg('heihei')#相当于@func\n",
    "def test():\n",
    "    print('-----test-----')\n",
    "\n",
    "test()"
   ]
  },
  {
   "cell_type": "code",
   "execution_count": 51,
   "metadata": {
    "collapsed": false
   },
   "outputs": [
    {
     "name": "stdout",
     "output_type": "stream",
     "text": [
      "----记录日志--arg=heihei--\n",
      "-----test-----\n"
     ]
    }
   ],
   "source": [
    "#带有参数的装饰器\n",
    "def func_arg(arg):\n",
    "    def func(functionName):\n",
    "        def func_in():\n",
    "            print('----记录日志--arg=%s--'%arg)\n",
    "            functionName()\n",
    "        return func_in\n",
    "    return func\n",
    "\n",
    "#1.先执行func_arg('heihei')函数，这个函数return的结果是func这个函数的引用\n",
    "#2.@func\n",
    "#3。使用@func对test进行装饰\n",
    "@func_arg('heihei')#相当于@func\n",
    "def test():\n",
    "    print('-----test-----')\n",
    "\n",
    "test()"
   ]
  },
  {
   "cell_type": "code",
   "execution_count": 52,
   "metadata": {
    "collapsed": false
   },
   "outputs": [
    {
     "name": "stdout",
     "output_type": "stream",
     "text": [
      "----记录日志--arg=heihei--\n",
      "-----test-----\n",
      "----记录日志--arg=haha--\n",
      "-----test2-----\n"
     ]
    }
   ],
   "source": [
    "#带有参数的装饰器\n",
    "def func_arg(arg):\n",
    "    def func(functionName):\n",
    "        def func_in():\n",
    "            print('----记录日志--arg=%s--'%arg)\n",
    "            functionName()\n",
    "        return func_in\n",
    "    return func\n",
    "\n",
    "#1.先执行func_arg('heihei')函数，这个函数return的结果是func这个函数的引用\n",
    "#2.@func\n",
    "#3。使用@func对test进行装饰\n",
    "@func_arg('heihei')#相当于@func\n",
    "def test():\n",
    "    print('-----test-----')\n",
    "\n",
    "@func_arg('haha')\n",
    "def test2():\n",
    "    print('-----test2-----')\n",
    "    \n",
    "test()\n",
    "test2()"
   ]
  },
  {
   "cell_type": "code",
   "execution_count": 55,
   "metadata": {
    "collapsed": false
   },
   "outputs": [
    {
     "name": "stdout",
     "output_type": "stream",
     "text": [
      "----记录日志--arg=heihei--\n",
      "-----test-----\n",
      "-----test-----\n",
      "----记录日志--arg=haha--\n",
      "-----test2-----\n"
     ]
    }
   ],
   "source": [
    "#同一个装饰器传不同函数装饰\n",
    "\n",
    "#带有参数的装饰器\n",
    "def func_arg(arg):\n",
    "    def func(functionName):\n",
    "        def func_in():\n",
    "            print('----记录日志--arg=%s--'%arg)\n",
    "            if arg=='heihei':\n",
    "                functionName()\n",
    "                functionName()\n",
    "            else:\n",
    "                functionName()\n",
    "            \n",
    "        return func_in\n",
    "    return func\n",
    "\n",
    "#1.先执行func_arg('heihei')函数，这个函数return的结果是func这个函数的引用\n",
    "#2.@func\n",
    "#3。使用@func对test进行装饰\n",
    "@func_arg('heihei')#相当于@func\n",
    "def test():\n",
    "    print('-----test-----')\n",
    "\n",
    "#带参数的装饰器，能够起到在运行时，有不同的功能\n",
    "@func_arg('haha')\n",
    "def test2():\n",
    "    print('-----test2-----')\n",
    "    \n",
    "test()\n",
    "test2()"
   ]
  },
  {
   "cell_type": "code",
   "execution_count": null,
   "metadata": {
    "collapsed": true
   },
   "outputs": [],
   "source": [
    "#作用域,命名空间\n",
    "import xxx\n",
    "xxx.func()\n",
    "#不能func()\n",
    "\n",
    "#-------------\n",
    "\n",
    "from xxx import *\n",
    "func()\n"
   ]
  },
  {
   "cell_type": "code",
   "execution_count": 56,
   "metadata": {
    "collapsed": false
   },
   "outputs": [
    {
     "data": {
      "text/plain": [
       "{'In': ['',\n",
       "  \"#两个装饰器\\ndef makeBold(fn):\\n    def wrapped():\\n        return '<b>' + fn() + '</b>'\\n    return wrapped\\n\\ndef makeItalic(fn):\\n    def wrapped():\\n        return '<i>' + fn() + '</i>'\\n    return wrapped\\n\\n@makeBold\\n@makeItalic\\n\\ndef test3():\\n    return 'hello world-3'\\n\\ntest3()\",\n",
       "  \"#两个装饰器\\ndef makeBold(fn):\\n    def wrapped():\\n        print('-----1-----')\\n        return '<b>' + fn() + '</b>'\\n    return wrapped\\n\\ndef makeItalic(fn):\\n    def wrapped():\\n        print('-----2-----')\\n        return '<i>' + fn() + '</i>'\\n    return wrapped\\n\\n@makeBold\\n@makeItalic\\n\\ndef test3():\\n    print('-----3-----')\\n    return 'hello world-3'\\n\\ntest3()\",\n",
       "  \"#两个装饰器\\ndef makeBold(fn):\\n    def wrapped():\\n        print('-----1-----')\\n        return '<b>' + fn() + '</b>'\\n    return wrapped\\n\\ndef makeItalic(fn):\\n    def wrapped():\\n        print('-----2-----')\\n        return '<i>' + fn() + '</i>'\\n    return wrapped\\n\\n@makeBold\\n@makeItalic\\n\\ndef test3():\\n    print('-----3-----')\\n    return 'hello world-3'\\n\\nret = test3()\\nprint(ret)\",\n",
       "  \"#两个装饰器\\ndef makeBold(fn):\\n    def wrapped():\\n        print('-----1-----')\\n        return '<b>' + fn() + '</b>'\\n    return wrapped\\n\\ndef makeItalic(fn):\\n    def wrapped():\\n        print('-----2-----')\\n        return '<i>' + fn() + '</i>'\\n    return wrapped\\n\\n@makeBold\\n@makeItalic\\n\\ndef test3():\\n    print('-----3-----')\\n    return 'hello world-3'\\n\\nret = test3()\\nprint(ret)\",\n",
       "  \"#两个装饰器\\ndef makeBold(fn):\\n    def wrapped():\\n        print('-----1-----')\\n        return '<b>' + fn() + '</b>'\\n    return wrapped\\n\\ndef makeItalic(fn):\\n    def wrapped():\\n        print('-----2-----')\\n        return '<i>' + fn() + '</i>'\\n    return wrapped\\n\\n@makeBold # test3 = makeBold(test3)\\n@makeItalic# test3 =makeItalic(test3) \\n\\ndef test3():\\n    print('-----3-----')\\n    return 'hello world-3'\\n\\nret = test3()\\nprint(ret)\",\n",
       "  '#结果是先加i，后加b，',\n",
       "  \"#装饰器什么时候开始装饰\\ndef w1(func):\\n    print('---正在装饰---')\\n    def inner():\\n        print('-----正在验证权限-----')\\n        func()\\n    return inner\\n\\n@w1  #等价于f1 = w1(f1)    写在f1()前面\\ndef f1():\\n    print('-----f1-----')\\n    \",\n",
       "  '# @ 会执行',\n",
       "  \"#装饰器什么时候开始装饰\\ndef w1(func):\\n    print('---正在装饰---')\\n    def inner():\\n        print('-----正在验证权限-----')\\n        func()\\n    return inner\\n#只要python解释器执行到了这个代码，那么就会自动的进行装饰，而不是等到调用的时候才装饰的\\n@w1  #等价于f1 = w1(f1)    写在f1()前面\\ndef f1():\\n    print('-----f1-----')\\n    \",\n",
       "  \"#装饰器什么时候开始装饰\\ndef w1(func):\\n    print('---正在装饰---')\\n    def inner():\\n        print('-----正在验证权限-----')\\n        func()\\n    return inner\\n#只要python解释器执行到了这个代码，那么就会自动的进行装饰，而不是等到调用的时候才装饰的\\n@w1  #等价于f1 = w1(f1)    写在f1()前面\\ndef f1():\\n    print('-----f1-----')\\n    \\n#在调用f1之前，已经进行装饰了\\nf1()\\n    \",\n",
       "  \"#装饰器什么时候开始装饰\\ndef w1(func):\\n    print('---正在装饰1---')\\n    def inner():\\n        print('-----正在验证权限1-----')\\n        func()\\n    return inner\\n\\ndef w2(func):\\n    print('---正在装饰2---')\\n    def inner():\\n        print('-----正在验证权限2-----')\\n        func()\\n    return inner\\n\\n\\n#只要python解释器执行到了这个代码，那么就会自动的进行装饰，而不是等到调用的时候才装饰的\\n@w1  #等价于f1 = w1(f1)    写在f1()前面\\n@w2\\ndef f1():\\n    print('-----f1-----')\\n    \\n#在调用f1之前，已经进行装饰了\\nf1()\\n    \\n#调用是从上往下调用，装饰是从下往上装饰\",\n",
       "  '#所以是装饰从内往外，包装包裹一样，调用从外往里',\n",
       "  \"#装饰器装饰无参数的函数\\n\\ndef func(functionName):\\n    print('----func---1-----')\\n    def func_in():\\n        print('---func_in---1---')\\n        functionName()\\n        print('---func---2-----')\\n        \\n    print('---func---2-----')\\n    return func_in\\n\\ndef test():\\n    print('-----test-----')\\n    \\ntest()\",\n",
       "  \"#装饰器装饰无参数的函数\\n\\ndef func(functionName):\\n    print('----func---1-----')\\n    def func_in():\\n        print('---func_in---1---')\\n        functionName()\\n        print('---func---2-----')\\n        \\n    print('---func---2-----')\\n    return func_in\\n\\ndef test():\\n    print('-----test-----')\\n\\ntest = func(test)\\n    \\ntest()\",\n",
       "  \"#装饰器装饰无参数的函数\\n\\ndef func(functionName):\\n    print('----func---1-----')\\n    def func_in():\\n        print('---func_in---1---')\\n        functionName()\\n        print('---func---2-----')\\n        \\n    print('---func---2-----')\\n    return func_in\\n\\n@func\\ndef test():\\n    print('-----test-----')\\n\\n#test = func(test)\\n    \\ntest()\",\n",
       "  \"#装饰器装饰有参数的函数\\n#装饰器装饰无参数的函数\\n\\ndef func(functionName):\\n    print('----func---1-----')\\n    def func_in():\\n        print('---func_in---1---')\\n        functionName()\\n        print('---func---2-----')\\n        \\n    print('---func---2-----')\\n    return func_in\\n\\n@func\\ndef test(a,b):\\n    print('-----test---a=%d,b=%d'%(a,b))\\n\\n#test = func(test)\\n    \\ntest(11,22)\",\n",
       "  \"#装饰器装饰有参数的函数\\n#装饰器装饰无参数的函数\\n\\ndef func(functionName):\\n    print('----func---1-----')\\n    def func_in():\\n        print('---func_in---1---')\\n        functionName()\\n        print('---func---2-----')\\n        \\n    print('---func---2-----')\\n    return func_in\\n\\n\\ndef test(a,b):\\n    print('-----test---a=%d,b=%d'%(a,b))\\n\\n#test = func(test)\\n    \\ntest(11,22)\",\n",
       "  \"#装饰器装饰有参数的函数\\n\\ndef func(functionName):\\n    print('----func---1-----')\\n    def func_in():\\n        print('---func_in---1---')\\n        functionName()\\n        print('---func---2-----')\\n        \\n    print('---func---2-----')\\n    return func_in\\n\\n@func\\ndef test(a,b):\\n    print('-----test---a=%d,b=%d'%(a,b))\\n\\n#test = func(test)\\n    \\ntest(11,22)\",\n",
       "  '#此时test指向func_in,是没有参数的',\n",
       "  \"#装饰器装饰有参数的函数\\n\\ndef func(functionName):\\n    print('----func---1-----')\\n    def func_in(a,b):\\n        print('---func_in---1---')\\n        functionName()\\n        print('---func---2-----')\\n        \\n    print('---func---2-----')\\n    return func_in\\n\\n@func\\ndef test(a,b):\\n    print('-----test---a=%d,b=%d'%(a,b))\\n\\n#test = func(test)\\n    \\ntest(11,22)\",\n",
       "  \"#装饰器装饰有参数的函数\\n\\ndef func(functionName):\\n    print('----func---1-----')\\n    def func_in(a,b):\\n        print('---func_in---1---')\\n        functionName(a,b)\\n        print('---func---2-----')\\n        \\n    print('---func---2-----')\\n    return func_in\\n\\n@func\\ndef test(a,b):\\n    print('-----test---a=%d,b=%d'%(a,b))\\n\\n#test = func(test)\\n    \\ntest(11,22)\",\n",
       "  \"#装饰器装饰有不定长参数的函数\\n#装饰器装饰有参数的函数\\n\\ndef func(functionName):\\n   print('----func---1-----')\\n   def func_in(*args,**kwargs):#如果a,b没有定义，那么会导致16行的调用失败\\n       print('---func_in---1---')\\n       functionName(*args,**kwargs)#如果没有把a,b当作实参进行传递，那么会导致调用12行的函数失败\\n       print('---func---2-----')\\n       \\n   print('---func---2-----')\\n   return func_in\\n\\n@func\\ndef test(a,b):#12行\\n   print('-----test---a=%d,b=%d,c=%d'%(a,b,c))\\n\\n#test = func(test)\\n   \\ntest(11,22)#16行\",\n",
       "  \"#装饰器装饰有不定长参数的函数\\n#装饰器装饰有参数的函数\\n\\ndef func(functionName):\\n   print('----func---1-----')\\n   def func_in(*args,**kwargs):#如果a,b没有定义，那么会导致16行的调用失败\\n       print('---func_in---1---')\\n       functionName(*args,**kwargs)#如果没有把a,b当作实参进行传递，那么会导致调用12行的函数失败\\n       print('---func---2-----')\\n       \\n   print('---func---2-----')\\n   return func_in\\n\\n@func\\ndef test(a,b):#12行\\n   print('-----test---a=%d,b=%d,c=%d'%(a,b,c))\\n\\n#test = func(test)\\n   \\ntest(11,22,33)#16行\",\n",
       "  \"#装饰器装饰有不定长参数的函数\\n#装饰器装饰有参数的函数\\n\\ndef func(functionName):\\n   print('----func---1-----')\\n   def func_in(*args,**kwargs):#如果a,b没有定义，那么会导致16行的调用失败\\n       print('---func_in---1---')\\n       functionName(*args,**kwargs)#如果没有把a,b当作实参进行传递，那么会导致调用12行的函数失败\\n       print('---func---2-----')\\n       \\n   print('---func---2-----')\\n   return func_in\\n\\n@func\\ndef test(a,b,c):#12行\\n   print('-----test---a=%d,b=%d,c=%d'%(a,b,c))\\n\\n#test = func(test)\\n   \\ntest(11,22,33)#16行\",\n",
       "  \"#装饰器装饰有不定长参数的函数\\n#装饰器装饰有参数的函数\\n\\ndef func(functionName):\\n   print('----func---1-----')\\n   def func_in(*args,**kwargs):#如果a,b没有定义，那么会导致16行的调用失败\\n       print('---func_in---1---')\\n       functionName(*args,**kwargs)#如果没有把a,b当作实参进行传递，那么会导致调用12行的函数失败\\n       print('---func---2-----')\\n       \\n   print('---func---2-----')\\n   return func_in\\n\\n@func\\ndef test(a,b,c):#12行\\n   print('-----test---a=%d,b=%d,c=%d'%(a,b,c))\\n\\n@func\\ndef test2(a,b,c,d):#12行\\n   print('-----test---a=%d,b=%d,c=%d,d=%d'%(a,b,c,d))\\n   \\n#test = func(test)\\n   \\ntest(11,22,33)#16行\\n\\ntest(11,22,33,44)\",\n",
       "  \"#装饰器装饰有不定长参数的函数\\n#装饰器装饰有参数的函数\\n\\ndef func(functionName):\\n   print('----func---1-----')\\n   def func_in(*args,**kwargs):#如果a,b没有定义，那么会导致16行的调用失败\\n       print('---func_in---1---')\\n       functionName(*args,**kwargs)#如果没有把a,b当作实参进行传递，那么会导致调用12行的函数失败\\n       print('---func---2-----')\\n       \\n   print('---func---2-----')\\n   return func_in\\n\\n@func\\ndef test(a,b,c):#12行\\n   print('-----test---a=%d,b=%d,c=%d'%(a,b,c))\\n\\n@func\\ndef test2(a,b,c,d):#12行\\n   print('-----test---a=%d,b=%d,c=%d,d=%d'%(a,b,c,d))\\n   \\n#test = func(test)\\n   \\ntest(11,22,33)#16行\\n\\ntest2(11,22,33,44)\",\n",
       "  \"#装饰器对有返回值的函数进行装饰\\n#装饰器装饰无参数的函数\\n\\ndef func(functionName):\\n    print('----func---1-----')\\n    def func_in():\\n        print('---func_in---1---')\\n        functionName()\\n        print('---func---2-----')\\n        \\n    print('---func---2-----')\\n    return func_in\\n\\ndef test():\\n    print('-----test-----')\\n    return 'haha'\\n    \\nret = test()\\nprint('test return value is %s'%ret)\",\n",
       "  \"#装饰器对有返回值的函数进行装饰\\n#装饰器装饰无参数的函数\\n\\ndef func(functionName):\\n    print('----func---1-----')\\n    def func_in():\\n        print('---func_in---1---')\\n        functionName()\\n        print('---func---2-----')\\n        \\n    print('---func---2-----')\\n    return func_in\\n\\n@func\\ndef test():\\n    print('-----test-----')\\n    return 'haha'\\n    \\nret = test()\\nprint('test return value is %s'%ret)\",\n",
       "  \"#装饰器对有返回值的函数进行装饰\\n#装饰器装饰无参数的函数\\n\\ndef func(functionName):\\n    print('----func---1-----')\\n    def func_in():\\n        print('---func_in---1---')\\n        functionName()\\n        print('---func---2-----')\\n        \\n    print('---func---2-----')\\n    return func_in\\n\\ndef test():\\n    print('-----test-----')\\n    return 'haha'\\n    \\nret = test()\\nprint('test return value is %s'%ret)\",\n",
       "  \"#装饰器装饰无参数的函数\\n\\ndef func(functionName):\\n    print('----func---1-----')\\n    def func_in():\\n        print('---func_in---1---')\\n        functionName()\\n        print('---func---2-----')\\n        \\n    print('---func---2-----')\\n    return func_in\\n\\n@func\\ndef test():\\n    print('-----test-----')\\n\\n#test = func(test)\\n    \\ntest()\",\n",
       "  \"#装饰器装饰无参数的函数\\n\\ndef func(functionName):\\n    print('----func---1-----')\\n    def func_in():\\n        print('---func_in---1---')\\n        xxx = functionName()\\n        print('---func---2-----')\\n        return xxx\\n        \\n    print('---func---2-----')\\n    return func_in\\n\\n@func\\ndef test():\\n    print('-----test-----')\\n\\n#test = func(test)\\n    \\ntest()\",\n",
       "  '#结果返回打印不执行，返回值返回给了func_in,而fun_in没有返回值',\n",
       "  \"#装饰器装饰无参数的函数\\n\\ndef func(functionName):\\n    print('----func---1-----')\\n    def func_in():\\n        print('---func_in---1---')\\n        xxx = functionName()\\n        print('---func---2-----')\\n        return xxx\\n    \\n    print('---func---2-----')\\n    return func_in\\n\\n@func\\ndef test():\\n    print('-----test-----')\\n\\n#test = func(test)\\n    \\ntest()\",\n",
       "  \"#装饰器对有返回值的函数进行装饰\\n\\ndef func(functionName):\\n    print('----func---1-----')\\n    def func_in():\\n        print('---func_in---1---')\\n        functionName()\\n        print('---func---2-----')\\n        \\n    print('---func---2-----')\\n    return func_in\\n\\n@func\\ndef test():\\n    print('-----test-----')\\n    return 'haha'\\n    \\nret = test()\\nprint('test return value is %s'%ret)\",\n",
       "  \"#装饰器对有返回值的函数进行装饰\\n\\ndef func(functionName):\\n    print('----func---1-----')\\n    def func_in():\\n        print('---func_in---1---')\\n        functionName()\\n        print('---func---2-----')\\n        \\n    print('---func---2-----')\\n    return func_in\\n\\n@func\\ndef test():\\n    print('-----test-----')\\n    return 'haha'\\n    \\nret = test()\\nprint('test return value is %s'%ret)\",\n",
       "  \"#装饰器对有返回值的函数进行装饰\\n\\ndef func(functionName):\\n    print('----func---1-----')\\n    def func_in():\\n        print('---func_in---1---')\\n        xxx = functionName()\\n        print('---func---2-----')\\n        return xxx\\n    \\n    print('---func---2-----')\\n    return func_in\\n\\n@func\\ndef test():\\n    print('-----test-----')\\n    return 'haha'\\n    \\nret = test()\\nprint('test return value is %s'%ret)\",\n",
       "  \"#装饰器对有返回值的函数进行装饰\\n\\ndef func(functionName):\\n    print('----func---1-----')\\n    def func_in():\\n        print('---func_in---1---')\\n        ret = functionName()\\n        print('---func---2-----')\\n        return ret\\n    \\n    print('---func---2-----')\\n    return func_in\\n\\n@func\\ndef test():\\n    print('-----test-----')\\n    return 'haha'\\n    \\nret = test()\\nprint('test return value is %s'%ret)\",\n",
       "  \"#通用装饰器\\n\\ndef func(functionName):\\n    def func_in():\\n        ret = functionName()#保存 返回来的haha\\n        return ret #把haha返回到17行处的调用\\n    \\n    return func_in\\n\\n@func\\ndef test():\\n    print('-----test-----')\\n    return 'haha'\\n\\n@func\\ndef test2():\\n    print('-----test2-----')\\n\\n    \\nret = test()#17行\\nprint('test return value is %s'%ret)\\n\\ntest2()\",\n",
       "  \"#通用装饰器\\n\\ndef func(functionName):\\n    def func_in():\\n        ret = functionName()#保存 返回来的haha\\n        return ret #把haha返回到17行处的调用\\n    \\n    return func_in\\n\\n@func\\ndef test():\\n    print('-----test-----')\\n    return 'haha'\\n\\n@func\\ndef test2():\\n    print('-----test2-----')\\n\\n    \\nret = test()#17行\\nprint('test return value is %s'%ret)\\n\\na = test2()\",\n",
       "  \"#通用装饰器\\n\\ndef func(functionName):\\n    def func_in():\\n        ret = functionName()#保存 返回来的haha\\n        return ret #把haha返回到17行处的调用\\n    \\n    return func_in\\n\\n@func\\ndef test():\\n    print('-----test-----')\\n    return 'haha'\\n\\n@func\\ndef test2():\\n    print('-----test2-----')\\n\\n    \\nret = test()#17行\\nprint('test return value is %s'%ret)\\n\\na = test2()\\nprint(a)\",\n",
       "  \"#通用装饰器：有无返回值，有无参数\\n\\ndef func(functionName):\\n    def func_in(*args,**kwargs):\\n        ret = functionName(*args,**kwargs)#保存 返回来的haha\\n        return ret #把haha返回到17行处的调用\\n    \\n    return func_in\\n\\n@func\\ndef test():\\n    print('-----test-----')\\n    return 'haha'\\n\\n@func\\ndef test2():\\n    print('-----test2-----')\\n\\ndef test3():\\n    print('-----test3--a=%d--'%a)\\n    \\nret = test()#17行\\nprint('test return value is %s'%ret)\\n\\na = test2()#这里没有返回值\\nprint(a)\",\n",
       "  \"#通用装饰器：有无返回值，有无参数\\n\\ndef func(functionName):\\n    def func_in(*args,**kwargs):\\n        ret = functionName(*args,**kwargs)#保存 返回来的haha\\n        return ret #把haha返回到17行处的调用\\n    \\n    return func_in\\n\\n@func\\ndef test():\\n    print('-----test-----')\\n    return 'haha'\\n\\n@func\\ndef test2():\\n    print('-----test2-----')\\n\\ndef test3():\\n    print('-----test3--a=%d--'%a)\\n    \\nret = test()#17行\\nprint('test return value is %s'%ret)\\n\\na = test2()#这里没有返回值\\nprint(a)\\n\\ntest3(11)\",\n",
       "  \"#通用装饰器：有无返回值，有无参数\\n\\ndef func(functionName):\\n    def func_in(*args,**kwargs):\\n        ret = functionName(*args,**kwargs)#保存 返回来的haha\\n        return ret #把haha返回到17行处的调用\\n    \\n    return func_in\\n\\n@func\\ndef test():\\n    print('-----test-----')\\n    return 'haha'\\n\\n@func\\ndef test2():\\n    print('-----test2-----')\\n\\ndef test3(a):\\n    print('-----test3--a=%d--'%a)\\n    \\nret = test()#17行\\nprint('test return value is %s'%ret)\\n\\na = test2()#这里没有返回值\\nprint(a)\\n\\ntest3(11)\",\n",
       "  \"#通用装饰器：有无返回值，有无参数\\n\\ndef func(functionName):\\n    def func_in(*args,**kwargs):\\n        ret = functionName(*args,**kwargs)#保存 返回来的haha\\n        return ret #把haha返回到17行处的调用\\n    \\n    return func_in\\n\\n@func\\ndef test():\\n    print('-----test-----')\\n    return 'haha'\\n\\n@func\\ndef test2():\\n    print('-----test2-----')\\n\\ndef test3(a):\\n    print('-----test3--a=%d----'%a)\\n    \\nret = test()#17行\\nprint('test return value is %s'%ret)\\n\\na = test2()#这里没有返回值\\nprint(a)\\n\\ntest3(11)\",\n",
       "  \"#带有参数的装饰器\\ndef func(functionName):\\n    def func_in():\\n        print('----记录日志----')\\n        functionName()\\n    return func_in\\n\\n@func\\ndef test():\\n    print('-----test-----')\\n\\ntest()\",\n",
       "  \"#带有参数的装饰器\\ndef func(functionName):\\n    def func_in():\\n        print('----记录日志----')\\n        functionName()\\n    return func_in\\n\\n@func('heihei')\\ndef test():\\n    print('-----test-----')\\n\\ntest()\",\n",
       "  \"#带有参数的装饰器\\ndef func_arg(arg):\\n    def func(functionName):\\n        def func_in():\\n            print('----记录日志----')\\n            functionName()\\n        return func_in\\n\\n#1.先执行func_arg('heihei')函数，这个函数return的结果是func这个函数的引用\\n#2.@func\\n#3。使用@func对test进行装饰\\n@func('heihei')#相当于@func\\ndef test():\\n    print('-----test-----')\\n\\ntest()\",\n",
       "  \"#带有参数的装饰器\\ndef func_arg(arg):\\n    def func(functionName):\\n        def func_in():\\n            print('----记录日志----')\\n            functionName()\\n        return func_in\\n    return func\\n\\n#1.先执行func_arg('heihei')函数，这个函数return的结果是func这个函数的引用\\n#2.@func\\n#3。使用@func对test进行装饰\\n@func('heihei')#相当于@func\\ndef test():\\n    print('-----test-----')\\n\\ntest()\",\n",
       "  \"#带有参数的装饰器\\ndef func_arg(arg):\\n    def func(functionName):\\n        def func_in():\\n            print('----记录日志----')\\n            functionName()\\n        return func_in\\n    return func\\n\\n#1.先执行func_arg('heihei')函数，这个函数return的结果是func这个函数的引用\\n#2.@func\\n#3。使用@func对test进行装饰\\n@func_arg('heihei')#相当于@func\\ndef test():\\n    print('-----test-----')\\n\\ntest()\",\n",
       "  \"#带有参数的装饰器\\ndef func_arg(arg):\\n    def func(functionName):\\n        def func_in():\\n            print('----记录日志--arg=%s--',%arg)\\n            functionName()\\n        return func_in\\n    return func\\n\\n#1.先执行func_arg('heihei')函数，这个函数return的结果是func这个函数的引用\\n#2.@func\\n#3。使用@func对test进行装饰\\n@func_arg('heihei')#相当于@func\\ndef test():\\n    print('-----test-----')\\n\\ntest()\",\n",
       "  \"#带有参数的装饰器\\ndef func_arg(arg):\\n    def func(functionName):\\n        def func_in():\\n            print('----记录日志--arg=%s--'%arg)\\n            functionName()\\n        return func_in\\n    return func\\n\\n#1.先执行func_arg('heihei')函数，这个函数return的结果是func这个函数的引用\\n#2.@func\\n#3。使用@func对test进行装饰\\n@func_arg('heihei')#相当于@func\\ndef test():\\n    print('-----test-----')\\n\\ntest()\",\n",
       "  \"#带有参数的装饰器\\ndef func_arg(arg):\\n    def func(functionName):\\n        def func_in():\\n            print('----记录日志--arg=%s--'%arg)\\n            functionName()\\n        return func_in\\n    return func\\n\\n#1.先执行func_arg('heihei')函数，这个函数return的结果是func这个函数的引用\\n#2.@func\\n#3。使用@func对test进行装饰\\n@func_arg('heihei')#相当于@func\\ndef test():\\n    print('-----test-----')\\n\\n@func_arg('haha')\\ndef test2():\\n    print('-----test2-----')\\n    \\ntest()\\ntest2()\",\n",
       "  \"#同一个装饰器传不同函数装饰\\n\\n#带有参数的装饰器\\ndef func_arg(arg):\\n    def func(functionName):\\n        def func_in():\\n            print('----记录日志--arg=%s--'%arg)\\n            if arg=='heihei':\\n                functionName\\n                functionName\\n            else:\\n                functionName\\n            \\n            functionName()\\n        return func_in\\n    return func\\n\\n#1.先执行func_arg('heihei')函数，这个函数return的结果是func这个函数的引用\\n#2.@func\\n#3。使用@func对test进行装饰\\n@func_arg('heihei')#相当于@func\\ndef test():\\n    print('-----test-----')\\n\\n@func_arg('haha')\\ndef test2():\\n    print('-----test2-----')\\n    \\ntest()\\ntest2()\",\n",
       "  \"#同一个装饰器传不同函数装饰\\n\\n#带有参数的装饰器\\ndef func_arg(arg):\\n    def func(functionName):\\n        def func_in():\\n            print('----记录日志--arg=%s--'%arg)\\n            if arg=='heihei':\\n                functionName\\n                functionName\\n            else:\\n                functionName\\n            \\n        return func_in\\n    return func\\n\\n#1.先执行func_arg('heihei')函数，这个函数return的结果是func这个函数的引用\\n#2.@func\\n#3。使用@func对test进行装饰\\n@func_arg('heihei')#相当于@func\\ndef test():\\n    print('-----test-----')\\n\\n@func_arg('haha')\\ndef test2():\\n    print('-----test2-----')\\n    \\ntest()\\ntest2()\",\n",
       "  \"#同一个装饰器传不同函数装饰\\n\\n#带有参数的装饰器\\ndef func_arg(arg):\\n    def func(functionName):\\n        def func_in():\\n            print('----记录日志--arg=%s--'%arg)\\n            if arg=='heihei':\\n                functionName()\\n                functionName()\\n            else:\\n                functionName()\\n            \\n        return func_in\\n    return func\\n\\n#1.先执行func_arg('heihei')函数，这个函数return的结果是func这个函数的引用\\n#2.@func\\n#3。使用@func对test进行装饰\\n@func_arg('heihei')#相当于@func\\ndef test():\\n    print('-----test-----')\\n\\n@func_arg('haha')\\ndef test2():\\n    print('-----test2-----')\\n    \\ntest()\\ntest2()\",\n",
       "  'globals()'],\n",
       " 'Out': {1: '<b><i>hello world-3</i></b>', 2: '<b><i>hello world-3</i></b>'},\n",
       " '_': '<b><i>hello world-3</i></b>',\n",
       " '_1': '<b><i>hello world-3</i></b>',\n",
       " '_2': '<b><i>hello world-3</i></b>',\n",
       " '__': '<b><i>hello world-3</i></b>',\n",
       " '___': '',\n",
       " '__builtin__': <module 'builtins' (built-in)>,\n",
       " '__builtins__': <module 'builtins' (built-in)>,\n",
       " '__doc__': 'Automatically created module for IPython interactive environment',\n",
       " '__loader__': None,\n",
       " '__name__': '__main__',\n",
       " '__package__': None,\n",
       " '__spec__': None,\n",
       " '_dh': ['C:\\\\Users\\\\Administrator'],\n",
       " '_i': \"#同一个装饰器传不同函数装饰\\n\\n#带有参数的装饰器\\ndef func_arg(arg):\\n    def func(functionName):\\n        def func_in():\\n            print('----记录日志--arg=%s--'%arg)\\n            if arg=='heihei':\\n                functionName()\\n                functionName()\\n            else:\\n                functionName()\\n            \\n        return func_in\\n    return func\\n\\n#1.先执行func_arg('heihei')函数，这个函数return的结果是func这个函数的引用\\n#2.@func\\n#3。使用@func对test进行装饰\\n@func_arg('heihei')#相当于@func\\ndef test():\\n    print('-----test-----')\\n\\n@func_arg('haha')\\ndef test2():\\n    print('-----test2-----')\\n    \\ntest()\\ntest2()\",\n",
       " '_i1': \"#两个装饰器\\ndef makeBold(fn):\\n    def wrapped():\\n        return '<b>' + fn() + '</b>'\\n    return wrapped\\n\\ndef makeItalic(fn):\\n    def wrapped():\\n        return '<i>' + fn() + '</i>'\\n    return wrapped\\n\\n@makeBold\\n@makeItalic\\n\\ndef test3():\\n    return 'hello world-3'\\n\\ntest3()\",\n",
       " '_i10': \"#装饰器什么时候开始装饰\\ndef w1(func):\\n    print('---正在装饰---')\\n    def inner():\\n        print('-----正在验证权限-----')\\n        func()\\n    return inner\\n#只要python解释器执行到了这个代码，那么就会自动的进行装饰，而不是等到调用的时候才装饰的\\n@w1  #等价于f1 = w1(f1)    写在f1()前面\\ndef f1():\\n    print('-----f1-----')\\n    \\n#在调用f1之前，已经进行装饰了\\nf1()\\n    \",\n",
       " '_i11': \"#装饰器什么时候开始装饰\\ndef w1(func):\\n    print('---正在装饰1---')\\n    def inner():\\n        print('-----正在验证权限1-----')\\n        func()\\n    return inner\\n\\ndef w2(func):\\n    print('---正在装饰2---')\\n    def inner():\\n        print('-----正在验证权限2-----')\\n        func()\\n    return inner\\n\\n\\n#只要python解释器执行到了这个代码，那么就会自动的进行装饰，而不是等到调用的时候才装饰的\\n@w1  #等价于f1 = w1(f1)    写在f1()前面\\n@w2\\ndef f1():\\n    print('-----f1-----')\\n    \\n#在调用f1之前，已经进行装饰了\\nf1()\\n    \\n#调用是从上往下调用，装饰是从下往上装饰\",\n",
       " '_i12': '#所以是装饰从内往外，包装包裹一样，调用从外往里',\n",
       " '_i13': \"#装饰器装饰无参数的函数\\n\\ndef func(functionName):\\n    print('----func---1-----')\\n    def func_in():\\n        print('---func_in---1---')\\n        functionName()\\n        print('---func---2-----')\\n        \\n    print('---func---2-----')\\n    return func_in\\n\\ndef test():\\n    print('-----test-----')\\n    \\ntest()\",\n",
       " '_i14': \"#装饰器装饰无参数的函数\\n\\ndef func(functionName):\\n    print('----func---1-----')\\n    def func_in():\\n        print('---func_in---1---')\\n        functionName()\\n        print('---func---2-----')\\n        \\n    print('---func---2-----')\\n    return func_in\\n\\ndef test():\\n    print('-----test-----')\\n\\ntest = func(test)\\n    \\ntest()\",\n",
       " '_i15': \"#装饰器装饰无参数的函数\\n\\ndef func(functionName):\\n    print('----func---1-----')\\n    def func_in():\\n        print('---func_in---1---')\\n        functionName()\\n        print('---func---2-----')\\n        \\n    print('---func---2-----')\\n    return func_in\\n\\n@func\\ndef test():\\n    print('-----test-----')\\n\\n#test = func(test)\\n    \\ntest()\",\n",
       " '_i16': \"#装饰器装饰有参数的函数\\n#装饰器装饰无参数的函数\\n\\ndef func(functionName):\\n    print('----func---1-----')\\n    def func_in():\\n        print('---func_in---1---')\\n        functionName()\\n        print('---func---2-----')\\n        \\n    print('---func---2-----')\\n    return func_in\\n\\n@func\\ndef test(a,b):\\n    print('-----test---a=%d,b=%d'%(a,b))\\n\\n#test = func(test)\\n    \\ntest(11,22)\",\n",
       " '_i17': \"#装饰器装饰有参数的函数\\n#装饰器装饰无参数的函数\\n\\ndef func(functionName):\\n    print('----func---1-----')\\n    def func_in():\\n        print('---func_in---1---')\\n        functionName()\\n        print('---func---2-----')\\n        \\n    print('---func---2-----')\\n    return func_in\\n\\n\\ndef test(a,b):\\n    print('-----test---a=%d,b=%d'%(a,b))\\n\\n#test = func(test)\\n    \\ntest(11,22)\",\n",
       " '_i18': \"#装饰器装饰有参数的函数\\n\\ndef func(functionName):\\n    print('----func---1-----')\\n    def func_in():\\n        print('---func_in---1---')\\n        functionName()\\n        print('---func---2-----')\\n        \\n    print('---func---2-----')\\n    return func_in\\n\\n@func\\ndef test(a,b):\\n    print('-----test---a=%d,b=%d'%(a,b))\\n\\n#test = func(test)\\n    \\ntest(11,22)\",\n",
       " '_i19': '#此时test指向func_in,是没有参数的',\n",
       " '_i2': \"#两个装饰器\\ndef makeBold(fn):\\n    def wrapped():\\n        print('-----1-----')\\n        return '<b>' + fn() + '</b>'\\n    return wrapped\\n\\ndef makeItalic(fn):\\n    def wrapped():\\n        print('-----2-----')\\n        return '<i>' + fn() + '</i>'\\n    return wrapped\\n\\n@makeBold\\n@makeItalic\\n\\ndef test3():\\n    print('-----3-----')\\n    return 'hello world-3'\\n\\ntest3()\",\n",
       " '_i20': \"#装饰器装饰有参数的函数\\n\\ndef func(functionName):\\n    print('----func---1-----')\\n    def func_in(a,b):\\n        print('---func_in---1---')\\n        functionName()\\n        print('---func---2-----')\\n        \\n    print('---func---2-----')\\n    return func_in\\n\\n@func\\ndef test(a,b):\\n    print('-----test---a=%d,b=%d'%(a,b))\\n\\n#test = func(test)\\n    \\ntest(11,22)\",\n",
       " '_i21': \"#装饰器装饰有参数的函数\\n\\ndef func(functionName):\\n    print('----func---1-----')\\n    def func_in(a,b):\\n        print('---func_in---1---')\\n        functionName(a,b)\\n        print('---func---2-----')\\n        \\n    print('---func---2-----')\\n    return func_in\\n\\n@func\\ndef test(a,b):\\n    print('-----test---a=%d,b=%d'%(a,b))\\n\\n#test = func(test)\\n    \\ntest(11,22)\",\n",
       " '_i22': \" #装饰器装饰有不定长参数的函数\\n#装饰器装饰有参数的函数\\n\\ndef func(functionName):\\n    print('----func---1-----')\\n    def func_in(*args,**kwargs):#如果a,b没有定义，那么会导致16行的调用失败\\n        print('---func_in---1---')\\n        functionName(*args,**kwargs)#如果没有把a,b当作实参进行传递，那么会导致调用12行的函数失败\\n        print('---func---2-----')\\n        \\n    print('---func---2-----')\\n    return func_in\\n\\n@func\\ndef test(a,b):#12行\\n    print('-----test---a=%d,b=%d,c=%d'%(a,b,c))\\n\\n#test = func(test)\\n    \\ntest(11,22)#16行\",\n",
       " '_i23': \" #装饰器装饰有不定长参数的函数\\n#装饰器装饰有参数的函数\\n\\ndef func(functionName):\\n    print('----func---1-----')\\n    def func_in(*args,**kwargs):#如果a,b没有定义，那么会导致16行的调用失败\\n        print('---func_in---1---')\\n        functionName(*args,**kwargs)#如果没有把a,b当作实参进行传递，那么会导致调用12行的函数失败\\n        print('---func---2-----')\\n        \\n    print('---func---2-----')\\n    return func_in\\n\\n@func\\ndef test(a,b):#12行\\n    print('-----test---a=%d,b=%d,c=%d'%(a,b,c))\\n\\n#test = func(test)\\n    \\ntest(11,22,33)#16行\",\n",
       " '_i24': \" #装饰器装饰有不定长参数的函数\\n#装饰器装饰有参数的函数\\n\\ndef func(functionName):\\n    print('----func---1-----')\\n    def func_in(*args,**kwargs):#如果a,b没有定义，那么会导致16行的调用失败\\n        print('---func_in---1---')\\n        functionName(*args,**kwargs)#如果没有把a,b当作实参进行传递，那么会导致调用12行的函数失败\\n        print('---func---2-----')\\n        \\n    print('---func---2-----')\\n    return func_in\\n\\n@func\\ndef test(a,b,c):#12行\\n    print('-----test---a=%d,b=%d,c=%d'%(a,b,c))\\n\\n#test = func(test)\\n    \\ntest(11,22,33)#16行\",\n",
       " '_i25': \" #装饰器装饰有不定长参数的函数\\n#装饰器装饰有参数的函数\\n\\ndef func(functionName):\\n    print('----func---1-----')\\n    def func_in(*args,**kwargs):#如果a,b没有定义，那么会导致16行的调用失败\\n        print('---func_in---1---')\\n        functionName(*args,**kwargs)#如果没有把a,b当作实参进行传递，那么会导致调用12行的函数失败\\n        print('---func---2-----')\\n        \\n    print('---func---2-----')\\n    return func_in\\n\\n@func\\ndef test(a,b,c):#12行\\n    print('-----test---a=%d,b=%d,c=%d'%(a,b,c))\\n\\n@func\\ndef test2(a,b,c,d):#12行\\n    print('-----test---a=%d,b=%d,c=%d,d=%d'%(a,b,c,d))\\n    \\n#test = func(test)\\n    \\ntest(11,22,33)#16行\\n\\ntest(11,22,33,44)\",\n",
       " '_i26': \" #装饰器装饰有不定长参数的函数\\n#装饰器装饰有参数的函数\\n\\ndef func(functionName):\\n    print('----func---1-----')\\n    def func_in(*args,**kwargs):#如果a,b没有定义，那么会导致16行的调用失败\\n        print('---func_in---1---')\\n        functionName(*args,**kwargs)#如果没有把a,b当作实参进行传递，那么会导致调用12行的函数失败\\n        print('---func---2-----')\\n        \\n    print('---func---2-----')\\n    return func_in\\n\\n@func\\ndef test(a,b,c):#12行\\n    print('-----test---a=%d,b=%d,c=%d'%(a,b,c))\\n\\n@func\\ndef test2(a,b,c,d):#12行\\n    print('-----test---a=%d,b=%d,c=%d,d=%d'%(a,b,c,d))\\n    \\n#test = func(test)\\n    \\ntest(11,22,33)#16行\\n\\ntest2(11,22,33,44)\",\n",
       " '_i27': \"#装饰器对有返回值的函数进行装饰\\n#装饰器装饰无参数的函数\\n\\ndef func(functionName):\\n    print('----func---1-----')\\n    def func_in():\\n        print('---func_in---1---')\\n        functionName()\\n        print('---func---2-----')\\n        \\n    print('---func---2-----')\\n    return func_in\\n\\ndef test():\\n    print('-----test-----')\\n    return 'haha'\\n    \\nret = test()\\nprint('test return value is %s'%ret)\",\n",
       " '_i28': \"#装饰器对有返回值的函数进行装饰\\n#装饰器装饰无参数的函数\\n\\ndef func(functionName):\\n    print('----func---1-----')\\n    def func_in():\\n        print('---func_in---1---')\\n        functionName()\\n        print('---func---2-----')\\n        \\n    print('---func---2-----')\\n    return func_in\\n\\n@func\\ndef test():\\n    print('-----test-----')\\n    return 'haha'\\n    \\nret = test()\\nprint('test return value is %s'%ret)\",\n",
       " '_i29': \"#装饰器对有返回值的函数进行装饰\\n#装饰器装饰无参数的函数\\n\\ndef func(functionName):\\n    print('----func---1-----')\\n    def func_in():\\n        print('---func_in---1---')\\n        functionName()\\n        print('---func---2-----')\\n        \\n    print('---func---2-----')\\n    return func_in\\n\\ndef test():\\n    print('-----test-----')\\n    return 'haha'\\n    \\nret = test()\\nprint('test return value is %s'%ret)\",\n",
       " '_i3': \"#两个装饰器\\ndef makeBold(fn):\\n    def wrapped():\\n        print('-----1-----')\\n        return '<b>' + fn() + '</b>'\\n    return wrapped\\n\\ndef makeItalic(fn):\\n    def wrapped():\\n        print('-----2-----')\\n        return '<i>' + fn() + '</i>'\\n    return wrapped\\n\\n@makeBold\\n@makeItalic\\n\\ndef test3():\\n    print('-----3-----')\\n    return 'hello world-3'\\n\\nret = test3()\\nprint(ret)\",\n",
       " '_i30': \"#装饰器装饰无参数的函数\\n\\ndef func(functionName):\\n    print('----func---1-----')\\n    def func_in():\\n        print('---func_in---1---')\\n        functionName()\\n        print('---func---2-----')\\n        \\n    print('---func---2-----')\\n    return func_in\\n\\n@func\\ndef test():\\n    print('-----test-----')\\n\\n#test = func(test)\\n    \\ntest()\",\n",
       " '_i31': \"#装饰器装饰无参数的函数\\n\\ndef func(functionName):\\n    print('----func---1-----')\\n    def func_in():\\n        print('---func_in---1---')\\n        xxx = functionName()\\n        print('---func---2-----')\\n        return xxx\\n        \\n    print('---func---2-----')\\n    return func_in\\n\\n@func\\ndef test():\\n    print('-----test-----')\\n\\n#test = func(test)\\n    \\ntest()\",\n",
       " '_i32': '#结果返回打印不执行，返回值返回给了func_in,而fun_in没有返回值',\n",
       " '_i33': \"#装饰器装饰无参数的函数\\n\\ndef func(functionName):\\n    print('----func---1-----')\\n    def func_in():\\n        print('---func_in---1---')\\n        xxx = functionName()\\n        print('---func---2-----')\\n        return xxx\\n    \\n    print('---func---2-----')\\n    return func_in\\n\\n@func\\ndef test():\\n    print('-----test-----')\\n\\n#test = func(test)\\n    \\ntest()\",\n",
       " '_i34': \"#装饰器对有返回值的函数进行装饰\\n\\ndef func(functionName):\\n    print('----func---1-----')\\n    def func_in():\\n        print('---func_in---1---')\\n        functionName()\\n        print('---func---2-----')\\n        \\n    print('---func---2-----')\\n    return func_in\\n\\n@func\\ndef test():\\n    print('-----test-----')\\n    return 'haha'\\n    \\nret = test()\\nprint('test return value is %s'%ret)\",\n",
       " '_i35': \"#装饰器对有返回值的函数进行装饰\\n\\ndef func(functionName):\\n    print('----func---1-----')\\n    def func_in():\\n        print('---func_in---1---')\\n        functionName()\\n        print('---func---2-----')\\n        \\n    print('---func---2-----')\\n    return func_in\\n\\n@func\\ndef test():\\n    print('-----test-----')\\n    return 'haha'\\n    \\nret = test()\\nprint('test return value is %s'%ret)\",\n",
       " '_i36': \"#装饰器对有返回值的函数进行装饰\\n\\ndef func(functionName):\\n    print('----func---1-----')\\n    def func_in():\\n        print('---func_in---1---')\\n        xxx = functionName()\\n        print('---func---2-----')\\n        return xxx\\n    \\n    print('---func---2-----')\\n    return func_in\\n\\n@func\\ndef test():\\n    print('-----test-----')\\n    return 'haha'\\n    \\nret = test()\\nprint('test return value is %s'%ret)\",\n",
       " '_i37': \"#装饰器对有返回值的函数进行装饰\\n\\ndef func(functionName):\\n    print('----func---1-----')\\n    def func_in():\\n        print('---func_in---1---')\\n        ret = functionName()\\n        print('---func---2-----')\\n        return ret\\n    \\n    print('---func---2-----')\\n    return func_in\\n\\n@func\\ndef test():\\n    print('-----test-----')\\n    return 'haha'\\n    \\nret = test()\\nprint('test return value is %s'%ret)\",\n",
       " '_i38': \"#通用装饰器\\n\\ndef func(functionName):\\n    def func_in():\\n        ret = functionName()#保存 返回来的haha\\n        return ret #把haha返回到17行处的调用\\n    \\n    return func_in\\n\\n@func\\ndef test():\\n    print('-----test-----')\\n    return 'haha'\\n\\n@func\\ndef test2():\\n    print('-----test2-----')\\n\\n    \\nret = test()#17行\\nprint('test return value is %s'%ret)\\n\\ntest2()\",\n",
       " '_i39': \"#通用装饰器\\n\\ndef func(functionName):\\n    def func_in():\\n        ret = functionName()#保存 返回来的haha\\n        return ret #把haha返回到17行处的调用\\n    \\n    return func_in\\n\\n@func\\ndef test():\\n    print('-----test-----')\\n    return 'haha'\\n\\n@func\\ndef test2():\\n    print('-----test2-----')\\n\\n    \\nret = test()#17行\\nprint('test return value is %s'%ret)\\n\\na = test2()\",\n",
       " '_i4': \"#两个装饰器\\ndef makeBold(fn):\\n    def wrapped():\\n        print('-----1-----')\\n        return '<b>' + fn() + '</b>'\\n    return wrapped\\n\\ndef makeItalic(fn):\\n    def wrapped():\\n        print('-----2-----')\\n        return '<i>' + fn() + '</i>'\\n    return wrapped\\n\\n@makeBold\\n@makeItalic\\n\\ndef test3():\\n    print('-----3-----')\\n    return 'hello world-3'\\n\\nret = test3()\\nprint(ret)\",\n",
       " '_i40': \"#通用装饰器\\n\\ndef func(functionName):\\n    def func_in():\\n        ret = functionName()#保存 返回来的haha\\n        return ret #把haha返回到17行处的调用\\n    \\n    return func_in\\n\\n@func\\ndef test():\\n    print('-----test-----')\\n    return 'haha'\\n\\n@func\\ndef test2():\\n    print('-----test2-----')\\n\\n    \\nret = test()#17行\\nprint('test return value is %s'%ret)\\n\\na = test2()\\nprint(a)\",\n",
       " '_i41': \"#通用装饰器：有无返回值，有无参数\\n\\ndef func(functionName):\\n    def func_in(*args,**kwargs):\\n        ret = functionName(*args,**kwargs)#保存 返回来的haha\\n        return ret #把haha返回到17行处的调用\\n    \\n    return func_in\\n\\n@func\\ndef test():\\n    print('-----test-----')\\n    return 'haha'\\n\\n@func\\ndef test2():\\n    print('-----test2-----')\\n\\ndef test3():\\n    print('-----test3--a=%d--'%a)\\n    \\nret = test()#17行\\nprint('test return value is %s'%ret)\\n\\na = test2()#这里没有返回值\\nprint(a)\",\n",
       " '_i42': \"#通用装饰器：有无返回值，有无参数\\n\\ndef func(functionName):\\n    def func_in(*args,**kwargs):\\n        ret = functionName(*args,**kwargs)#保存 返回来的haha\\n        return ret #把haha返回到17行处的调用\\n    \\n    return func_in\\n\\n@func\\ndef test():\\n    print('-----test-----')\\n    return 'haha'\\n\\n@func\\ndef test2():\\n    print('-----test2-----')\\n\\ndef test3():\\n    print('-----test3--a=%d--'%a)\\n    \\nret = test()#17行\\nprint('test return value is %s'%ret)\\n\\na = test2()#这里没有返回值\\nprint(a)\\n\\ntest3(11)\",\n",
       " '_i43': \"#通用装饰器：有无返回值，有无参数\\n\\ndef func(functionName):\\n    def func_in(*args,**kwargs):\\n        ret = functionName(*args,**kwargs)#保存 返回来的haha\\n        return ret #把haha返回到17行处的调用\\n    \\n    return func_in\\n\\n@func\\ndef test():\\n    print('-----test-----')\\n    return 'haha'\\n\\n@func\\ndef test2():\\n    print('-----test2-----')\\n\\ndef test3(a):\\n    print('-----test3--a=%d--'%a)\\n    \\nret = test()#17行\\nprint('test return value is %s'%ret)\\n\\na = test2()#这里没有返回值\\nprint(a)\\n\\ntest3(11)\",\n",
       " '_i44': \"#通用装饰器：有无返回值，有无参数\\n\\ndef func(functionName):\\n    def func_in(*args,**kwargs):\\n        ret = functionName(*args,**kwargs)#保存 返回来的haha\\n        return ret #把haha返回到17行处的调用\\n    \\n    return func_in\\n\\n@func\\ndef test():\\n    print('-----test-----')\\n    return 'haha'\\n\\n@func\\ndef test2():\\n    print('-----test2-----')\\n\\ndef test3(a):\\n    print('-----test3--a=%d----'%a)\\n    \\nret = test()#17行\\nprint('test return value is %s'%ret)\\n\\na = test2()#这里没有返回值\\nprint(a)\\n\\ntest3(11)\",\n",
       " '_i45': \"#带有参数的装饰器\\ndef func(functionName):\\n    def func_in():\\n        print('----记录日志----')\\n        functionName()\\n    return func_in\\n\\n@func\\ndef test():\\n    print('-----test-----')\\n\\ntest()\",\n",
       " '_i46': \"#带有参数的装饰器\\ndef func(functionName):\\n    def func_in():\\n        print('----记录日志----')\\n        functionName()\\n    return func_in\\n\\n@func('heihei')\\ndef test():\\n    print('-----test-----')\\n\\ntest()\",\n",
       " '_i47': \"#带有参数的装饰器\\ndef func_arg(arg):\\n    def func(functionName):\\n        def func_in():\\n            print('----记录日志----')\\n            functionName()\\n        return func_in\\n\\n#1.先执行func_arg('heihei')函数，这个函数return的结果是func这个函数的引用\\n#2.@func\\n#3。使用@func对test进行装饰\\n@func('heihei')#相当于@func\\ndef test():\\n    print('-----test-----')\\n\\ntest()\",\n",
       " '_i48': \"#带有参数的装饰器\\ndef func_arg(arg):\\n    def func(functionName):\\n        def func_in():\\n            print('----记录日志----')\\n            functionName()\\n        return func_in\\n    return func\\n\\n#1.先执行func_arg('heihei')函数，这个函数return的结果是func这个函数的引用\\n#2.@func\\n#3。使用@func对test进行装饰\\n@func('heihei')#相当于@func\\ndef test():\\n    print('-----test-----')\\n\\ntest()\",\n",
       " '_i49': \"#带有参数的装饰器\\ndef func_arg(arg):\\n    def func(functionName):\\n        def func_in():\\n            print('----记录日志----')\\n            functionName()\\n        return func_in\\n    return func\\n\\n#1.先执行func_arg('heihei')函数，这个函数return的结果是func这个函数的引用\\n#2.@func\\n#3。使用@func对test进行装饰\\n@func_arg('heihei')#相当于@func\\ndef test():\\n    print('-----test-----')\\n\\ntest()\",\n",
       " '_i5': \"#两个装饰器\\ndef makeBold(fn):\\n    def wrapped():\\n        print('-----1-----')\\n        return '<b>' + fn() + '</b>'\\n    return wrapped\\n\\ndef makeItalic(fn):\\n    def wrapped():\\n        print('-----2-----')\\n        return '<i>' + fn() + '</i>'\\n    return wrapped\\n\\n@makeBold # test3 = makeBold(test3)\\n@makeItalic# test3 =makeItalic(test3) \\n\\ndef test3():\\n    print('-----3-----')\\n    return 'hello world-3'\\n\\nret = test3()\\nprint(ret)\",\n",
       " '_i50': \"#带有参数的装饰器\\ndef func_arg(arg):\\n    def func(functionName):\\n        def func_in():\\n            print('----记录日志--arg=%s--',%arg)\\n            functionName()\\n        return func_in\\n    return func\\n\\n#1.先执行func_arg('heihei')函数，这个函数return的结果是func这个函数的引用\\n#2.@func\\n#3。使用@func对test进行装饰\\n@func_arg('heihei')#相当于@func\\ndef test():\\n    print('-----test-----')\\n\\ntest()\",\n",
       " '_i51': \"#带有参数的装饰器\\ndef func_arg(arg):\\n    def func(functionName):\\n        def func_in():\\n            print('----记录日志--arg=%s--'%arg)\\n            functionName()\\n        return func_in\\n    return func\\n\\n#1.先执行func_arg('heihei')函数，这个函数return的结果是func这个函数的引用\\n#2.@func\\n#3。使用@func对test进行装饰\\n@func_arg('heihei')#相当于@func\\ndef test():\\n    print('-----test-----')\\n\\ntest()\",\n",
       " '_i52': \"#带有参数的装饰器\\ndef func_arg(arg):\\n    def func(functionName):\\n        def func_in():\\n            print('----记录日志--arg=%s--'%arg)\\n            functionName()\\n        return func_in\\n    return func\\n\\n#1.先执行func_arg('heihei')函数，这个函数return的结果是func这个函数的引用\\n#2.@func\\n#3。使用@func对test进行装饰\\n@func_arg('heihei')#相当于@func\\ndef test():\\n    print('-----test-----')\\n\\n@func_arg('haha')\\ndef test2():\\n    print('-----test2-----')\\n    \\ntest()\\ntest2()\",\n",
       " '_i53': \"#同一个装饰器传不同函数装饰\\n\\n#带有参数的装饰器\\ndef func_arg(arg):\\n    def func(functionName):\\n        def func_in():\\n            print('----记录日志--arg=%s--'%arg)\\n            if arg=='heihei':\\n                functionName\\n                functionName\\n            else:\\n                functionName\\n            \\n            functionName()\\n        return func_in\\n    return func\\n\\n#1.先执行func_arg('heihei')函数，这个函数return的结果是func这个函数的引用\\n#2.@func\\n#3。使用@func对test进行装饰\\n@func_arg('heihei')#相当于@func\\ndef test():\\n    print('-----test-----')\\n\\n@func_arg('haha')\\ndef test2():\\n    print('-----test2-----')\\n    \\ntest()\\ntest2()\",\n",
       " '_i54': \"#同一个装饰器传不同函数装饰\\n\\n#带有参数的装饰器\\ndef func_arg(arg):\\n    def func(functionName):\\n        def func_in():\\n            print('----记录日志--arg=%s--'%arg)\\n            if arg=='heihei':\\n                functionName\\n                functionName\\n            else:\\n                functionName\\n            \\n        return func_in\\n    return func\\n\\n#1.先执行func_arg('heihei')函数，这个函数return的结果是func这个函数的引用\\n#2.@func\\n#3。使用@func对test进行装饰\\n@func_arg('heihei')#相当于@func\\ndef test():\\n    print('-----test-----')\\n\\n@func_arg('haha')\\ndef test2():\\n    print('-----test2-----')\\n    \\ntest()\\ntest2()\",\n",
       " '_i55': \"#同一个装饰器传不同函数装饰\\n\\n#带有参数的装饰器\\ndef func_arg(arg):\\n    def func(functionName):\\n        def func_in():\\n            print('----记录日志--arg=%s--'%arg)\\n            if arg=='heihei':\\n                functionName()\\n                functionName()\\n            else:\\n                functionName()\\n            \\n        return func_in\\n    return func\\n\\n#1.先执行func_arg('heihei')函数，这个函数return的结果是func这个函数的引用\\n#2.@func\\n#3。使用@func对test进行装饰\\n@func_arg('heihei')#相当于@func\\ndef test():\\n    print('-----test-----')\\n\\n@func_arg('haha')\\ndef test2():\\n    print('-----test2-----')\\n    \\ntest()\\ntest2()\",\n",
       " '_i56': 'globals()',\n",
       " '_i6': '#结果是先加i，后加b，',\n",
       " '_i7': \"#装饰器什么时候开始装饰\\ndef w1(func):\\n    print('---正在装饰---')\\n    def inner():\\n        print('-----正在验证权限-----')\\n        func()\\n    return inner\\n\\n@w1  #等价于f1 = w1(f1)    写在f1()前面\\ndef f1():\\n    print('-----f1-----')\\n    \",\n",
       " '_i8': '# @ 会执行',\n",
       " '_i9': \"#装饰器什么时候开始装饰\\ndef w1(func):\\n    print('---正在装饰---')\\n    def inner():\\n        print('-----正在验证权限-----')\\n        func()\\n    return inner\\n#只要python解释器执行到了这个代码，那么就会自动的进行装饰，而不是等到调用的时候才装饰的\\n@w1  #等价于f1 = w1(f1)    写在f1()前面\\ndef f1():\\n    print('-----f1-----')\\n    \",\n",
       " '_ih': ['',\n",
       "  \"#两个装饰器\\ndef makeBold(fn):\\n    def wrapped():\\n        return '<b>' + fn() + '</b>'\\n    return wrapped\\n\\ndef makeItalic(fn):\\n    def wrapped():\\n        return '<i>' + fn() + '</i>'\\n    return wrapped\\n\\n@makeBold\\n@makeItalic\\n\\ndef test3():\\n    return 'hello world-3'\\n\\ntest3()\",\n",
       "  \"#两个装饰器\\ndef makeBold(fn):\\n    def wrapped():\\n        print('-----1-----')\\n        return '<b>' + fn() + '</b>'\\n    return wrapped\\n\\ndef makeItalic(fn):\\n    def wrapped():\\n        print('-----2-----')\\n        return '<i>' + fn() + '</i>'\\n    return wrapped\\n\\n@makeBold\\n@makeItalic\\n\\ndef test3():\\n    print('-----3-----')\\n    return 'hello world-3'\\n\\ntest3()\",\n",
       "  \"#两个装饰器\\ndef makeBold(fn):\\n    def wrapped():\\n        print('-----1-----')\\n        return '<b>' + fn() + '</b>'\\n    return wrapped\\n\\ndef makeItalic(fn):\\n    def wrapped():\\n        print('-----2-----')\\n        return '<i>' + fn() + '</i>'\\n    return wrapped\\n\\n@makeBold\\n@makeItalic\\n\\ndef test3():\\n    print('-----3-----')\\n    return 'hello world-3'\\n\\nret = test3()\\nprint(ret)\",\n",
       "  \"#两个装饰器\\ndef makeBold(fn):\\n    def wrapped():\\n        print('-----1-----')\\n        return '<b>' + fn() + '</b>'\\n    return wrapped\\n\\ndef makeItalic(fn):\\n    def wrapped():\\n        print('-----2-----')\\n        return '<i>' + fn() + '</i>'\\n    return wrapped\\n\\n@makeBold\\n@makeItalic\\n\\ndef test3():\\n    print('-----3-----')\\n    return 'hello world-3'\\n\\nret = test3()\\nprint(ret)\",\n",
       "  \"#两个装饰器\\ndef makeBold(fn):\\n    def wrapped():\\n        print('-----1-----')\\n        return '<b>' + fn() + '</b>'\\n    return wrapped\\n\\ndef makeItalic(fn):\\n    def wrapped():\\n        print('-----2-----')\\n        return '<i>' + fn() + '</i>'\\n    return wrapped\\n\\n@makeBold # test3 = makeBold(test3)\\n@makeItalic# test3 =makeItalic(test3) \\n\\ndef test3():\\n    print('-----3-----')\\n    return 'hello world-3'\\n\\nret = test3()\\nprint(ret)\",\n",
       "  '#结果是先加i，后加b，',\n",
       "  \"#装饰器什么时候开始装饰\\ndef w1(func):\\n    print('---正在装饰---')\\n    def inner():\\n        print('-----正在验证权限-----')\\n        func()\\n    return inner\\n\\n@w1  #等价于f1 = w1(f1)    写在f1()前面\\ndef f1():\\n    print('-----f1-----')\\n    \",\n",
       "  '# @ 会执行',\n",
       "  \"#装饰器什么时候开始装饰\\ndef w1(func):\\n    print('---正在装饰---')\\n    def inner():\\n        print('-----正在验证权限-----')\\n        func()\\n    return inner\\n#只要python解释器执行到了这个代码，那么就会自动的进行装饰，而不是等到调用的时候才装饰的\\n@w1  #等价于f1 = w1(f1)    写在f1()前面\\ndef f1():\\n    print('-----f1-----')\\n    \",\n",
       "  \"#装饰器什么时候开始装饰\\ndef w1(func):\\n    print('---正在装饰---')\\n    def inner():\\n        print('-----正在验证权限-----')\\n        func()\\n    return inner\\n#只要python解释器执行到了这个代码，那么就会自动的进行装饰，而不是等到调用的时候才装饰的\\n@w1  #等价于f1 = w1(f1)    写在f1()前面\\ndef f1():\\n    print('-----f1-----')\\n    \\n#在调用f1之前，已经进行装饰了\\nf1()\\n    \",\n",
       "  \"#装饰器什么时候开始装饰\\ndef w1(func):\\n    print('---正在装饰1---')\\n    def inner():\\n        print('-----正在验证权限1-----')\\n        func()\\n    return inner\\n\\ndef w2(func):\\n    print('---正在装饰2---')\\n    def inner():\\n        print('-----正在验证权限2-----')\\n        func()\\n    return inner\\n\\n\\n#只要python解释器执行到了这个代码，那么就会自动的进行装饰，而不是等到调用的时候才装饰的\\n@w1  #等价于f1 = w1(f1)    写在f1()前面\\n@w2\\ndef f1():\\n    print('-----f1-----')\\n    \\n#在调用f1之前，已经进行装饰了\\nf1()\\n    \\n#调用是从上往下调用，装饰是从下往上装饰\",\n",
       "  '#所以是装饰从内往外，包装包裹一样，调用从外往里',\n",
       "  \"#装饰器装饰无参数的函数\\n\\ndef func(functionName):\\n    print('----func---1-----')\\n    def func_in():\\n        print('---func_in---1---')\\n        functionName()\\n        print('---func---2-----')\\n        \\n    print('---func---2-----')\\n    return func_in\\n\\ndef test():\\n    print('-----test-----')\\n    \\ntest()\",\n",
       "  \"#装饰器装饰无参数的函数\\n\\ndef func(functionName):\\n    print('----func---1-----')\\n    def func_in():\\n        print('---func_in---1---')\\n        functionName()\\n        print('---func---2-----')\\n        \\n    print('---func---2-----')\\n    return func_in\\n\\ndef test():\\n    print('-----test-----')\\n\\ntest = func(test)\\n    \\ntest()\",\n",
       "  \"#装饰器装饰无参数的函数\\n\\ndef func(functionName):\\n    print('----func---1-----')\\n    def func_in():\\n        print('---func_in---1---')\\n        functionName()\\n        print('---func---2-----')\\n        \\n    print('---func---2-----')\\n    return func_in\\n\\n@func\\ndef test():\\n    print('-----test-----')\\n\\n#test = func(test)\\n    \\ntest()\",\n",
       "  \"#装饰器装饰有参数的函数\\n#装饰器装饰无参数的函数\\n\\ndef func(functionName):\\n    print('----func---1-----')\\n    def func_in():\\n        print('---func_in---1---')\\n        functionName()\\n        print('---func---2-----')\\n        \\n    print('---func---2-----')\\n    return func_in\\n\\n@func\\ndef test(a,b):\\n    print('-----test---a=%d,b=%d'%(a,b))\\n\\n#test = func(test)\\n    \\ntest(11,22)\",\n",
       "  \"#装饰器装饰有参数的函数\\n#装饰器装饰无参数的函数\\n\\ndef func(functionName):\\n    print('----func---1-----')\\n    def func_in():\\n        print('---func_in---1---')\\n        functionName()\\n        print('---func---2-----')\\n        \\n    print('---func---2-----')\\n    return func_in\\n\\n\\ndef test(a,b):\\n    print('-----test---a=%d,b=%d'%(a,b))\\n\\n#test = func(test)\\n    \\ntest(11,22)\",\n",
       "  \"#装饰器装饰有参数的函数\\n\\ndef func(functionName):\\n    print('----func---1-----')\\n    def func_in():\\n        print('---func_in---1---')\\n        functionName()\\n        print('---func---2-----')\\n        \\n    print('---func---2-----')\\n    return func_in\\n\\n@func\\ndef test(a,b):\\n    print('-----test---a=%d,b=%d'%(a,b))\\n\\n#test = func(test)\\n    \\ntest(11,22)\",\n",
       "  '#此时test指向func_in,是没有参数的',\n",
       "  \"#装饰器装饰有参数的函数\\n\\ndef func(functionName):\\n    print('----func---1-----')\\n    def func_in(a,b):\\n        print('---func_in---1---')\\n        functionName()\\n        print('---func---2-----')\\n        \\n    print('---func---2-----')\\n    return func_in\\n\\n@func\\ndef test(a,b):\\n    print('-----test---a=%d,b=%d'%(a,b))\\n\\n#test = func(test)\\n    \\ntest(11,22)\",\n",
       "  \"#装饰器装饰有参数的函数\\n\\ndef func(functionName):\\n    print('----func---1-----')\\n    def func_in(a,b):\\n        print('---func_in---1---')\\n        functionName(a,b)\\n        print('---func---2-----')\\n        \\n    print('---func---2-----')\\n    return func_in\\n\\n@func\\ndef test(a,b):\\n    print('-----test---a=%d,b=%d'%(a,b))\\n\\n#test = func(test)\\n    \\ntest(11,22)\",\n",
       "  \"#装饰器装饰有不定长参数的函数\\n#装饰器装饰有参数的函数\\n\\ndef func(functionName):\\n   print('----func---1-----')\\n   def func_in(*args,**kwargs):#如果a,b没有定义，那么会导致16行的调用失败\\n       print('---func_in---1---')\\n       functionName(*args,**kwargs)#如果没有把a,b当作实参进行传递，那么会导致调用12行的函数失败\\n       print('---func---2-----')\\n       \\n   print('---func---2-----')\\n   return func_in\\n\\n@func\\ndef test(a,b):#12行\\n   print('-----test---a=%d,b=%d,c=%d'%(a,b,c))\\n\\n#test = func(test)\\n   \\ntest(11,22)#16行\",\n",
       "  \"#装饰器装饰有不定长参数的函数\\n#装饰器装饰有参数的函数\\n\\ndef func(functionName):\\n   print('----func---1-----')\\n   def func_in(*args,**kwargs):#如果a,b没有定义，那么会导致16行的调用失败\\n       print('---func_in---1---')\\n       functionName(*args,**kwargs)#如果没有把a,b当作实参进行传递，那么会导致调用12行的函数失败\\n       print('---func---2-----')\\n       \\n   print('---func---2-----')\\n   return func_in\\n\\n@func\\ndef test(a,b):#12行\\n   print('-----test---a=%d,b=%d,c=%d'%(a,b,c))\\n\\n#test = func(test)\\n   \\ntest(11,22,33)#16行\",\n",
       "  \"#装饰器装饰有不定长参数的函数\\n#装饰器装饰有参数的函数\\n\\ndef func(functionName):\\n   print('----func---1-----')\\n   def func_in(*args,**kwargs):#如果a,b没有定义，那么会导致16行的调用失败\\n       print('---func_in---1---')\\n       functionName(*args,**kwargs)#如果没有把a,b当作实参进行传递，那么会导致调用12行的函数失败\\n       print('---func---2-----')\\n       \\n   print('---func---2-----')\\n   return func_in\\n\\n@func\\ndef test(a,b,c):#12行\\n   print('-----test---a=%d,b=%d,c=%d'%(a,b,c))\\n\\n#test = func(test)\\n   \\ntest(11,22,33)#16行\",\n",
       "  \"#装饰器装饰有不定长参数的函数\\n#装饰器装饰有参数的函数\\n\\ndef func(functionName):\\n   print('----func---1-----')\\n   def func_in(*args,**kwargs):#如果a,b没有定义，那么会导致16行的调用失败\\n       print('---func_in---1---')\\n       functionName(*args,**kwargs)#如果没有把a,b当作实参进行传递，那么会导致调用12行的函数失败\\n       print('---func---2-----')\\n       \\n   print('---func---2-----')\\n   return func_in\\n\\n@func\\ndef test(a,b,c):#12行\\n   print('-----test---a=%d,b=%d,c=%d'%(a,b,c))\\n\\n@func\\ndef test2(a,b,c,d):#12行\\n   print('-----test---a=%d,b=%d,c=%d,d=%d'%(a,b,c,d))\\n   \\n#test = func(test)\\n   \\ntest(11,22,33)#16行\\n\\ntest(11,22,33,44)\",\n",
       "  \"#装饰器装饰有不定长参数的函数\\n#装饰器装饰有参数的函数\\n\\ndef func(functionName):\\n   print('----func---1-----')\\n   def func_in(*args,**kwargs):#如果a,b没有定义，那么会导致16行的调用失败\\n       print('---func_in---1---')\\n       functionName(*args,**kwargs)#如果没有把a,b当作实参进行传递，那么会导致调用12行的函数失败\\n       print('---func---2-----')\\n       \\n   print('---func---2-----')\\n   return func_in\\n\\n@func\\ndef test(a,b,c):#12行\\n   print('-----test---a=%d,b=%d,c=%d'%(a,b,c))\\n\\n@func\\ndef test2(a,b,c,d):#12行\\n   print('-----test---a=%d,b=%d,c=%d,d=%d'%(a,b,c,d))\\n   \\n#test = func(test)\\n   \\ntest(11,22,33)#16行\\n\\ntest2(11,22,33,44)\",\n",
       "  \"#装饰器对有返回值的函数进行装饰\\n#装饰器装饰无参数的函数\\n\\ndef func(functionName):\\n    print('----func---1-----')\\n    def func_in():\\n        print('---func_in---1---')\\n        functionName()\\n        print('---func---2-----')\\n        \\n    print('---func---2-----')\\n    return func_in\\n\\ndef test():\\n    print('-----test-----')\\n    return 'haha'\\n    \\nret = test()\\nprint('test return value is %s'%ret)\",\n",
       "  \"#装饰器对有返回值的函数进行装饰\\n#装饰器装饰无参数的函数\\n\\ndef func(functionName):\\n    print('----func---1-----')\\n    def func_in():\\n        print('---func_in---1---')\\n        functionName()\\n        print('---func---2-----')\\n        \\n    print('---func---2-----')\\n    return func_in\\n\\n@func\\ndef test():\\n    print('-----test-----')\\n    return 'haha'\\n    \\nret = test()\\nprint('test return value is %s'%ret)\",\n",
       "  \"#装饰器对有返回值的函数进行装饰\\n#装饰器装饰无参数的函数\\n\\ndef func(functionName):\\n    print('----func---1-----')\\n    def func_in():\\n        print('---func_in---1---')\\n        functionName()\\n        print('---func---2-----')\\n        \\n    print('---func---2-----')\\n    return func_in\\n\\ndef test():\\n    print('-----test-----')\\n    return 'haha'\\n    \\nret = test()\\nprint('test return value is %s'%ret)\",\n",
       "  \"#装饰器装饰无参数的函数\\n\\ndef func(functionName):\\n    print('----func---1-----')\\n    def func_in():\\n        print('---func_in---1---')\\n        functionName()\\n        print('---func---2-----')\\n        \\n    print('---func---2-----')\\n    return func_in\\n\\n@func\\ndef test():\\n    print('-----test-----')\\n\\n#test = func(test)\\n    \\ntest()\",\n",
       "  \"#装饰器装饰无参数的函数\\n\\ndef func(functionName):\\n    print('----func---1-----')\\n    def func_in():\\n        print('---func_in---1---')\\n        xxx = functionName()\\n        print('---func---2-----')\\n        return xxx\\n        \\n    print('---func---2-----')\\n    return func_in\\n\\n@func\\ndef test():\\n    print('-----test-----')\\n\\n#test = func(test)\\n    \\ntest()\",\n",
       "  '#结果返回打印不执行，返回值返回给了func_in,而fun_in没有返回值',\n",
       "  \"#装饰器装饰无参数的函数\\n\\ndef func(functionName):\\n    print('----func---1-----')\\n    def func_in():\\n        print('---func_in---1---')\\n        xxx = functionName()\\n        print('---func---2-----')\\n        return xxx\\n    \\n    print('---func---2-----')\\n    return func_in\\n\\n@func\\ndef test():\\n    print('-----test-----')\\n\\n#test = func(test)\\n    \\ntest()\",\n",
       "  \"#装饰器对有返回值的函数进行装饰\\n\\ndef func(functionName):\\n    print('----func---1-----')\\n    def func_in():\\n        print('---func_in---1---')\\n        functionName()\\n        print('---func---2-----')\\n        \\n    print('---func---2-----')\\n    return func_in\\n\\n@func\\ndef test():\\n    print('-----test-----')\\n    return 'haha'\\n    \\nret = test()\\nprint('test return value is %s'%ret)\",\n",
       "  \"#装饰器对有返回值的函数进行装饰\\n\\ndef func(functionName):\\n    print('----func---1-----')\\n    def func_in():\\n        print('---func_in---1---')\\n        functionName()\\n        print('---func---2-----')\\n        \\n    print('---func---2-----')\\n    return func_in\\n\\n@func\\ndef test():\\n    print('-----test-----')\\n    return 'haha'\\n    \\nret = test()\\nprint('test return value is %s'%ret)\",\n",
       "  \"#装饰器对有返回值的函数进行装饰\\n\\ndef func(functionName):\\n    print('----func---1-----')\\n    def func_in():\\n        print('---func_in---1---')\\n        xxx = functionName()\\n        print('---func---2-----')\\n        return xxx\\n    \\n    print('---func---2-----')\\n    return func_in\\n\\n@func\\ndef test():\\n    print('-----test-----')\\n    return 'haha'\\n    \\nret = test()\\nprint('test return value is %s'%ret)\",\n",
       "  \"#装饰器对有返回值的函数进行装饰\\n\\ndef func(functionName):\\n    print('----func---1-----')\\n    def func_in():\\n        print('---func_in---1---')\\n        ret = functionName()\\n        print('---func---2-----')\\n        return ret\\n    \\n    print('---func---2-----')\\n    return func_in\\n\\n@func\\ndef test():\\n    print('-----test-----')\\n    return 'haha'\\n    \\nret = test()\\nprint('test return value is %s'%ret)\",\n",
       "  \"#通用装饰器\\n\\ndef func(functionName):\\n    def func_in():\\n        ret = functionName()#保存 返回来的haha\\n        return ret #把haha返回到17行处的调用\\n    \\n    return func_in\\n\\n@func\\ndef test():\\n    print('-----test-----')\\n    return 'haha'\\n\\n@func\\ndef test2():\\n    print('-----test2-----')\\n\\n    \\nret = test()#17行\\nprint('test return value is %s'%ret)\\n\\ntest2()\",\n",
       "  \"#通用装饰器\\n\\ndef func(functionName):\\n    def func_in():\\n        ret = functionName()#保存 返回来的haha\\n        return ret #把haha返回到17行处的调用\\n    \\n    return func_in\\n\\n@func\\ndef test():\\n    print('-----test-----')\\n    return 'haha'\\n\\n@func\\ndef test2():\\n    print('-----test2-----')\\n\\n    \\nret = test()#17行\\nprint('test return value is %s'%ret)\\n\\na = test2()\",\n",
       "  \"#通用装饰器\\n\\ndef func(functionName):\\n    def func_in():\\n        ret = functionName()#保存 返回来的haha\\n        return ret #把haha返回到17行处的调用\\n    \\n    return func_in\\n\\n@func\\ndef test():\\n    print('-----test-----')\\n    return 'haha'\\n\\n@func\\ndef test2():\\n    print('-----test2-----')\\n\\n    \\nret = test()#17行\\nprint('test return value is %s'%ret)\\n\\na = test2()\\nprint(a)\",\n",
       "  \"#通用装饰器：有无返回值，有无参数\\n\\ndef func(functionName):\\n    def func_in(*args,**kwargs):\\n        ret = functionName(*args,**kwargs)#保存 返回来的haha\\n        return ret #把haha返回到17行处的调用\\n    \\n    return func_in\\n\\n@func\\ndef test():\\n    print('-----test-----')\\n    return 'haha'\\n\\n@func\\ndef test2():\\n    print('-----test2-----')\\n\\ndef test3():\\n    print('-----test3--a=%d--'%a)\\n    \\nret = test()#17行\\nprint('test return value is %s'%ret)\\n\\na = test2()#这里没有返回值\\nprint(a)\",\n",
       "  \"#通用装饰器：有无返回值，有无参数\\n\\ndef func(functionName):\\n    def func_in(*args,**kwargs):\\n        ret = functionName(*args,**kwargs)#保存 返回来的haha\\n        return ret #把haha返回到17行处的调用\\n    \\n    return func_in\\n\\n@func\\ndef test():\\n    print('-----test-----')\\n    return 'haha'\\n\\n@func\\ndef test2():\\n    print('-----test2-----')\\n\\ndef test3():\\n    print('-----test3--a=%d--'%a)\\n    \\nret = test()#17行\\nprint('test return value is %s'%ret)\\n\\na = test2()#这里没有返回值\\nprint(a)\\n\\ntest3(11)\",\n",
       "  \"#通用装饰器：有无返回值，有无参数\\n\\ndef func(functionName):\\n    def func_in(*args,**kwargs):\\n        ret = functionName(*args,**kwargs)#保存 返回来的haha\\n        return ret #把haha返回到17行处的调用\\n    \\n    return func_in\\n\\n@func\\ndef test():\\n    print('-----test-----')\\n    return 'haha'\\n\\n@func\\ndef test2():\\n    print('-----test2-----')\\n\\ndef test3(a):\\n    print('-----test3--a=%d--'%a)\\n    \\nret = test()#17行\\nprint('test return value is %s'%ret)\\n\\na = test2()#这里没有返回值\\nprint(a)\\n\\ntest3(11)\",\n",
       "  \"#通用装饰器：有无返回值，有无参数\\n\\ndef func(functionName):\\n    def func_in(*args,**kwargs):\\n        ret = functionName(*args,**kwargs)#保存 返回来的haha\\n        return ret #把haha返回到17行处的调用\\n    \\n    return func_in\\n\\n@func\\ndef test():\\n    print('-----test-----')\\n    return 'haha'\\n\\n@func\\ndef test2():\\n    print('-----test2-----')\\n\\ndef test3(a):\\n    print('-----test3--a=%d----'%a)\\n    \\nret = test()#17行\\nprint('test return value is %s'%ret)\\n\\na = test2()#这里没有返回值\\nprint(a)\\n\\ntest3(11)\",\n",
       "  \"#带有参数的装饰器\\ndef func(functionName):\\n    def func_in():\\n        print('----记录日志----')\\n        functionName()\\n    return func_in\\n\\n@func\\ndef test():\\n    print('-----test-----')\\n\\ntest()\",\n",
       "  \"#带有参数的装饰器\\ndef func(functionName):\\n    def func_in():\\n        print('----记录日志----')\\n        functionName()\\n    return func_in\\n\\n@func('heihei')\\ndef test():\\n    print('-----test-----')\\n\\ntest()\",\n",
       "  \"#带有参数的装饰器\\ndef func_arg(arg):\\n    def func(functionName):\\n        def func_in():\\n            print('----记录日志----')\\n            functionName()\\n        return func_in\\n\\n#1.先执行func_arg('heihei')函数，这个函数return的结果是func这个函数的引用\\n#2.@func\\n#3。使用@func对test进行装饰\\n@func('heihei')#相当于@func\\ndef test():\\n    print('-----test-----')\\n\\ntest()\",\n",
       "  \"#带有参数的装饰器\\ndef func_arg(arg):\\n    def func(functionName):\\n        def func_in():\\n            print('----记录日志----')\\n            functionName()\\n        return func_in\\n    return func\\n\\n#1.先执行func_arg('heihei')函数，这个函数return的结果是func这个函数的引用\\n#2.@func\\n#3。使用@func对test进行装饰\\n@func('heihei')#相当于@func\\ndef test():\\n    print('-----test-----')\\n\\ntest()\",\n",
       "  \"#带有参数的装饰器\\ndef func_arg(arg):\\n    def func(functionName):\\n        def func_in():\\n            print('----记录日志----')\\n            functionName()\\n        return func_in\\n    return func\\n\\n#1.先执行func_arg('heihei')函数，这个函数return的结果是func这个函数的引用\\n#2.@func\\n#3。使用@func对test进行装饰\\n@func_arg('heihei')#相当于@func\\ndef test():\\n    print('-----test-----')\\n\\ntest()\",\n",
       "  \"#带有参数的装饰器\\ndef func_arg(arg):\\n    def func(functionName):\\n        def func_in():\\n            print('----记录日志--arg=%s--',%arg)\\n            functionName()\\n        return func_in\\n    return func\\n\\n#1.先执行func_arg('heihei')函数，这个函数return的结果是func这个函数的引用\\n#2.@func\\n#3。使用@func对test进行装饰\\n@func_arg('heihei')#相当于@func\\ndef test():\\n    print('-----test-----')\\n\\ntest()\",\n",
       "  \"#带有参数的装饰器\\ndef func_arg(arg):\\n    def func(functionName):\\n        def func_in():\\n            print('----记录日志--arg=%s--'%arg)\\n            functionName()\\n        return func_in\\n    return func\\n\\n#1.先执行func_arg('heihei')函数，这个函数return的结果是func这个函数的引用\\n#2.@func\\n#3。使用@func对test进行装饰\\n@func_arg('heihei')#相当于@func\\ndef test():\\n    print('-----test-----')\\n\\ntest()\",\n",
       "  \"#带有参数的装饰器\\ndef func_arg(arg):\\n    def func(functionName):\\n        def func_in():\\n            print('----记录日志--arg=%s--'%arg)\\n            functionName()\\n        return func_in\\n    return func\\n\\n#1.先执行func_arg('heihei')函数，这个函数return的结果是func这个函数的引用\\n#2.@func\\n#3。使用@func对test进行装饰\\n@func_arg('heihei')#相当于@func\\ndef test():\\n    print('-----test-----')\\n\\n@func_arg('haha')\\ndef test2():\\n    print('-----test2-----')\\n    \\ntest()\\ntest2()\",\n",
       "  \"#同一个装饰器传不同函数装饰\\n\\n#带有参数的装饰器\\ndef func_arg(arg):\\n    def func(functionName):\\n        def func_in():\\n            print('----记录日志--arg=%s--'%arg)\\n            if arg=='heihei':\\n                functionName\\n                functionName\\n            else:\\n                functionName\\n            \\n            functionName()\\n        return func_in\\n    return func\\n\\n#1.先执行func_arg('heihei')函数，这个函数return的结果是func这个函数的引用\\n#2.@func\\n#3。使用@func对test进行装饰\\n@func_arg('heihei')#相当于@func\\ndef test():\\n    print('-----test-----')\\n\\n@func_arg('haha')\\ndef test2():\\n    print('-----test2-----')\\n    \\ntest()\\ntest2()\",\n",
       "  \"#同一个装饰器传不同函数装饰\\n\\n#带有参数的装饰器\\ndef func_arg(arg):\\n    def func(functionName):\\n        def func_in():\\n            print('----记录日志--arg=%s--'%arg)\\n            if arg=='heihei':\\n                functionName\\n                functionName\\n            else:\\n                functionName\\n            \\n        return func_in\\n    return func\\n\\n#1.先执行func_arg('heihei')函数，这个函数return的结果是func这个函数的引用\\n#2.@func\\n#3。使用@func对test进行装饰\\n@func_arg('heihei')#相当于@func\\ndef test():\\n    print('-----test-----')\\n\\n@func_arg('haha')\\ndef test2():\\n    print('-----test2-----')\\n    \\ntest()\\ntest2()\",\n",
       "  \"#同一个装饰器传不同函数装饰\\n\\n#带有参数的装饰器\\ndef func_arg(arg):\\n    def func(functionName):\\n        def func_in():\\n            print('----记录日志--arg=%s--'%arg)\\n            if arg=='heihei':\\n                functionName()\\n                functionName()\\n            else:\\n                functionName()\\n            \\n        return func_in\\n    return func\\n\\n#1.先执行func_arg('heihei')函数，这个函数return的结果是func这个函数的引用\\n#2.@func\\n#3。使用@func对test进行装饰\\n@func_arg('heihei')#相当于@func\\ndef test():\\n    print('-----test-----')\\n\\n@func_arg('haha')\\ndef test2():\\n    print('-----test2-----')\\n    \\ntest()\\ntest2()\",\n",
       "  'globals()'],\n",
       " '_ii': \"#同一个装饰器传不同函数装饰\\n\\n#带有参数的装饰器\\ndef func_arg(arg):\\n    def func(functionName):\\n        def func_in():\\n            print('----记录日志--arg=%s--'%arg)\\n            if arg=='heihei':\\n                functionName\\n                functionName\\n            else:\\n                functionName\\n            \\n        return func_in\\n    return func\\n\\n#1.先执行func_arg('heihei')函数，这个函数return的结果是func这个函数的引用\\n#2.@func\\n#3。使用@func对test进行装饰\\n@func_arg('heihei')#相当于@func\\ndef test():\\n    print('-----test-----')\\n\\n@func_arg('haha')\\ndef test2():\\n    print('-----test2-----')\\n    \\ntest()\\ntest2()\",\n",
       " '_iii': \"#同一个装饰器传不同函数装饰\\n\\n#带有参数的装饰器\\ndef func_arg(arg):\\n    def func(functionName):\\n        def func_in():\\n            print('----记录日志--arg=%s--'%arg)\\n            if arg=='heihei':\\n                functionName\\n                functionName\\n            else:\\n                functionName\\n            \\n            functionName()\\n        return func_in\\n    return func\\n\\n#1.先执行func_arg('heihei')函数，这个函数return的结果是func这个函数的引用\\n#2.@func\\n#3。使用@func对test进行装饰\\n@func_arg('heihei')#相当于@func\\ndef test():\\n    print('-----test-----')\\n\\n@func_arg('haha')\\ndef test2():\\n    print('-----test2-----')\\n    \\ntest()\\ntest2()\",\n",
       " '_oh': {1: '<b><i>hello world-3</i></b>', 2: '<b><i>hello world-3</i></b>'},\n",
       " '_sh': <module 'IPython.core.shadowns' from 'C:\\\\Anaconda3\\\\lib\\\\site-packages\\\\IPython\\\\core\\\\shadowns.py'>,\n",
       " 'a': None,\n",
       " 'exit': <IPython.core.autocall.ZMQExitAutocall at 0x3df2a58>,\n",
       " 'f1': <function __main__.w1.<locals>.inner>,\n",
       " 'func': <function __main__.func>,\n",
       " 'func_arg': <function __main__.func_arg>,\n",
       " 'get_ipython': <bound method InteractiveShell.get_ipython of <ipykernel.zmqshell.ZMQInteractiveShell object at 0x0000000003D23550>>,\n",
       " 'makeBold': <function __main__.makeBold>,\n",
       " 'makeItalic': <function __main__.makeItalic>,\n",
       " 'quit': <IPython.core.autocall.ZMQExitAutocall at 0x3df2a58>,\n",
       " 'ret': 'haha',\n",
       " 'test': <function __main__.func_arg.<locals>.func.<locals>.func_in>,\n",
       " 'test2': <function __main__.func_arg.<locals>.func.<locals>.func_in>,\n",
       " 'test3': <function __main__.test3>,\n",
       " 'w1': <function __main__.w1>,\n",
       " 'w2': <function __main__.w2>}"
      ]
     },
     "execution_count": 56,
     "metadata": {},
     "output_type": "execute_result"
    }
   ],
   "source": [
    "globals()#显示全局变量，可以直接用"
   ]
  },
  {
   "cell_type": "code",
   "execution_count": 57,
   "metadata": {
    "collapsed": true
   },
   "outputs": [],
   "source": [
    "def test():\n",
    "    a = 100\n",
    "    b = 200\n",
    "    print(locals())#显示局部变量"
   ]
  },
  {
   "cell_type": "code",
   "execution_count": 58,
   "metadata": {
    "collapsed": false
   },
   "outputs": [
    {
     "name": "stdout",
     "output_type": "stream",
     "text": [
      "{'b': 200, 'a': 100}\n"
     ]
    }
   ],
   "source": [
    "test()"
   ]
  },
  {
   "cell_type": "code",
   "execution_count": 59,
   "metadata": {
    "collapsed": false
   },
   "outputs": [
    {
     "name": "stdout",
     "output_type": "stream",
     "text": [
      "200\n"
     ]
    }
   ],
   "source": [
    "#LEGD规则\n",
    "\n",
    "num = 100\n",
    "\n",
    "def test():\n",
    "    num = 200\n",
    "    print(num)\n",
    "    \n",
    "test()"
   ]
  },
  {
   "cell_type": "code",
   "execution_count": 65,
   "metadata": {
    "collapsed": false
   },
   "outputs": [
    {
     "name": "stdout",
     "output_type": "stream",
     "text": [
      "300\n"
     ]
    }
   ],
   "source": [
    "#LEGD规则\n",
    "\n",
    "num = 100\n",
    "\n",
    "def test1():\n",
    "    num = 200\n",
    "    def test2():\n",
    "        num = 300\n",
    "        print(num)\n",
    "    return test2\n",
    "    \n",
    "ret = test1()\n",
    "ret()"
   ]
  },
  {
   "cell_type": "code",
   "execution_count": 66,
   "metadata": {
    "collapsed": false
   },
   "outputs": [
    {
     "name": "stdout",
     "output_type": "stream",
     "text": [
      "200\n"
     ]
    }
   ],
   "source": [
    "#LEGD规则\n",
    "\n",
    "num = 100\n",
    "\n",
    "def test1():\n",
    "    num = 200\n",
    "    def test2():\n",
    "        #num = 300\n",
    "        print(num)\n",
    "    return test2\n",
    "    \n",
    "ret = test1()\n",
    "ret()"
   ]
  },
  {
   "cell_type": "code",
   "execution_count": 67,
   "metadata": {
    "collapsed": false
   },
   "outputs": [
    {
     "name": "stdout",
     "output_type": "stream",
     "text": [
      "100\n"
     ]
    }
   ],
   "source": [
    "#LEGD规则\n",
    "\n",
    "num = 100\n",
    "\n",
    "def test1():\n",
    "    #num = 200\n",
    "    def test2():\n",
    "        #num = 300\n",
    "        print(num)\n",
    "    return test2\n",
    "    \n",
    "ret = test1()\n",
    "ret()"
   ]
  },
  {
   "cell_type": "code",
   "execution_count": 72,
   "metadata": {
    "collapsed": false
   },
   "outputs": [
    {
     "data": {
      "text/plain": [
       "['ArithmeticError',\n",
       " 'AssertionError',\n",
       " 'AttributeError',\n",
       " 'BaseException',\n",
       " 'BlockingIOError',\n",
       " 'BrokenPipeError',\n",
       " 'BufferError',\n",
       " 'BytesWarning',\n",
       " 'ChildProcessError',\n",
       " 'ConnectionAbortedError',\n",
       " 'ConnectionError',\n",
       " 'ConnectionRefusedError',\n",
       " 'ConnectionResetError',\n",
       " 'DeprecationWarning',\n",
       " 'EOFError',\n",
       " 'Ellipsis',\n",
       " 'EnvironmentError',\n",
       " 'Exception',\n",
       " 'False',\n",
       " 'FileExistsError',\n",
       " 'FileNotFoundError',\n",
       " 'FloatingPointError',\n",
       " 'FutureWarning',\n",
       " 'GeneratorExit',\n",
       " 'IOError',\n",
       " 'ImportError',\n",
       " 'ImportWarning',\n",
       " 'IndentationError',\n",
       " 'IndexError',\n",
       " 'InterruptedError',\n",
       " 'IsADirectoryError',\n",
       " 'KeyError',\n",
       " 'KeyboardInterrupt',\n",
       " 'LookupError',\n",
       " 'MemoryError',\n",
       " 'NameError',\n",
       " 'None',\n",
       " 'NotADirectoryError',\n",
       " 'NotImplemented',\n",
       " 'NotImplementedError',\n",
       " 'OSError',\n",
       " 'OverflowError',\n",
       " 'PendingDeprecationWarning',\n",
       " 'PermissionError',\n",
       " 'ProcessLookupError',\n",
       " 'RecursionError',\n",
       " 'ReferenceError',\n",
       " 'ResourceWarning',\n",
       " 'RuntimeError',\n",
       " 'RuntimeWarning',\n",
       " 'StopAsyncIteration',\n",
       " 'StopIteration',\n",
       " 'SyntaxError',\n",
       " 'SyntaxWarning',\n",
       " 'SystemError',\n",
       " 'SystemExit',\n",
       " 'TabError',\n",
       " 'TimeoutError',\n",
       " 'True',\n",
       " 'TypeError',\n",
       " 'UnboundLocalError',\n",
       " 'UnicodeDecodeError',\n",
       " 'UnicodeEncodeError',\n",
       " 'UnicodeError',\n",
       " 'UnicodeTranslateError',\n",
       " 'UnicodeWarning',\n",
       " 'UserWarning',\n",
       " 'ValueError',\n",
       " 'Warning',\n",
       " 'WindowsError',\n",
       " 'ZeroDivisionError',\n",
       " '__IPYTHON__',\n",
       " '__IPYTHON__active',\n",
       " '__build_class__',\n",
       " '__debug__',\n",
       " '__doc__',\n",
       " '__import__',\n",
       " '__loader__',\n",
       " '__name__',\n",
       " '__package__',\n",
       " '__spec__',\n",
       " 'abs',\n",
       " 'all',\n",
       " 'any',\n",
       " 'ascii',\n",
       " 'bin',\n",
       " 'bool',\n",
       " 'bytearray',\n",
       " 'bytes',\n",
       " 'callable',\n",
       " 'chr',\n",
       " 'classmethod',\n",
       " 'compile',\n",
       " 'complex',\n",
       " 'copyright',\n",
       " 'credits',\n",
       " 'delattr',\n",
       " 'dict',\n",
       " 'dir',\n",
       " 'divmod',\n",
       " 'dreload',\n",
       " 'enumerate',\n",
       " 'eval',\n",
       " 'exec',\n",
       " 'filter',\n",
       " 'float',\n",
       " 'format',\n",
       " 'frozenset',\n",
       " 'get_ipython',\n",
       " 'getattr',\n",
       " 'globals',\n",
       " 'hasattr',\n",
       " 'hash',\n",
       " 'help',\n",
       " 'hex',\n",
       " 'id',\n",
       " 'input',\n",
       " 'int',\n",
       " 'isinstance',\n",
       " 'issubclass',\n",
       " 'iter',\n",
       " 'len',\n",
       " 'license',\n",
       " 'list',\n",
       " 'locals',\n",
       " 'map',\n",
       " 'max',\n",
       " 'memoryview',\n",
       " 'min',\n",
       " 'next',\n",
       " 'object',\n",
       " 'oct',\n",
       " 'open',\n",
       " 'ord',\n",
       " 'pow',\n",
       " 'print',\n",
       " 'property',\n",
       " 'range',\n",
       " 'repr',\n",
       " 'reversed',\n",
       " 'round',\n",
       " 'set',\n",
       " 'setattr',\n",
       " 'slice',\n",
       " 'sorted',\n",
       " 'staticmethod',\n",
       " 'str',\n",
       " 'sum',\n",
       " 'super',\n",
       " 'tuple',\n",
       " 'type',\n",
       " 'vars',\n",
       " 'zip']"
      ]
     },
     "execution_count": 72,
     "metadata": {},
     "output_type": "execute_result"
    }
   ],
   "source": [
    "#内建\n",
    "dir(__builtin__)"
   ]
  },
  {
   "cell_type": "code",
   "execution_count": 73,
   "metadata": {
    "collapsed": true
   },
   "outputs": [],
   "source": [
    "#python动态添加属性和方法\n",
    "a = 100"
   ]
  },
  {
   "cell_type": "code",
   "execution_count": 74,
   "metadata": {
    "collapsed": true
   },
   "outputs": [],
   "source": [
    "def test():\n",
    "    print('---test')"
   ]
  },
  {
   "cell_type": "code",
   "execution_count": 75,
   "metadata": {
    "collapsed": true
   },
   "outputs": [],
   "source": [
    "a = test"
   ]
  },
  {
   "cell_type": "code",
   "execution_count": 77,
   "metadata": {
    "collapsed": false
   },
   "outputs": [
    {
     "name": "stdout",
     "output_type": "stream",
     "text": [
      "---test\n"
     ]
    }
   ],
   "source": [
    "a()"
   ]
  },
  {
   "cell_type": "code",
   "execution_count": 78,
   "metadata": {
    "collapsed": true
   },
   "outputs": [],
   "source": [
    "#a 从保存一个数字变成保存一个函数"
   ]
  },
  {
   "cell_type": "code",
   "execution_count": 79,
   "metadata": {
    "collapsed": false
   },
   "outputs": [
    {
     "data": {
      "text/plain": [
       "['__class__',\n",
       " '__delattr__',\n",
       " '__dict__',\n",
       " '__dir__',\n",
       " '__doc__',\n",
       " '__eq__',\n",
       " '__format__',\n",
       " '__ge__',\n",
       " '__getattribute__',\n",
       " '__gt__',\n",
       " '__hash__',\n",
       " '__init__',\n",
       " '__le__',\n",
       " '__lt__',\n",
       " '__module__',\n",
       " '__ne__',\n",
       " '__new__',\n",
       " '__reduce__',\n",
       " '__reduce_ex__',\n",
       " '__repr__',\n",
       " '__setattr__',\n",
       " '__sizeof__',\n",
       " '__str__',\n",
       " '__subclasshook__',\n",
       " '__weakref__']"
      ]
     },
     "execution_count": 79,
     "metadata": {},
     "output_type": "execute_result"
    }
   ],
   "source": [
    "class Test(object):\n",
    "    pass\n",
    "\n",
    "t = Test()\n",
    "\n",
    "dir(t)"
   ]
  },
  {
   "cell_type": "code",
   "execution_count": 80,
   "metadata": {
    "collapsed": true
   },
   "outputs": [],
   "source": [
    "#继承的object类中的默认属性"
   ]
  },
  {
   "cell_type": "code",
   "execution_count": 81,
   "metadata": {
    "collapsed": true
   },
   "outputs": [],
   "source": [
    "t.age = 18"
   ]
  },
  {
   "cell_type": "code",
   "execution_count": 82,
   "metadata": {
    "collapsed": false
   },
   "outputs": [
    {
     "data": {
      "text/plain": [
       "['__class__',\n",
       " '__delattr__',\n",
       " '__dict__',\n",
       " '__dir__',\n",
       " '__doc__',\n",
       " '__eq__',\n",
       " '__format__',\n",
       " '__ge__',\n",
       " '__getattribute__',\n",
       " '__gt__',\n",
       " '__hash__',\n",
       " '__init__',\n",
       " '__le__',\n",
       " '__lt__',\n",
       " '__module__',\n",
       " '__ne__',\n",
       " '__new__',\n",
       " '__reduce__',\n",
       " '__reduce_ex__',\n",
       " '__repr__',\n",
       " '__setattr__',\n",
       " '__sizeof__',\n",
       " '__str__',\n",
       " '__subclasshook__',\n",
       " '__weakref__',\n",
       " 'age']"
      ]
     },
     "execution_count": 82,
     "metadata": {},
     "output_type": "execute_result"
    }
   ],
   "source": [
    "dir(t)"
   ]
  },
  {
   "cell_type": "code",
   "execution_count": 83,
   "metadata": {
    "collapsed": true
   },
   "outputs": [],
   "source": [
    "#运行的时候添加属性，体现python的动态，c、c++不行"
   ]
  },
  {
   "cell_type": "code",
   "execution_count": null,
   "metadata": {
    "collapsed": true
   },
   "outputs": [],
   "source": [
    "#\n",
    "class "
   ]
  }
 ],
 "metadata": {
  "anaconda-cloud": {},
  "kernelspec": {
   "display_name": "Python [Root]",
   "language": "python",
   "name": "Python [Root]"
  },
  "language_info": {
   "codemirror_mode": {
    "name": "ipython",
    "version": 3
   },
   "file_extension": ".py",
   "mimetype": "text/x-python",
   "name": "python",
   "nbconvert_exporter": "python",
   "pygments_lexer": "ipython3",
   "version": "3.5.2"
  }
 },
 "nbformat": 4,
 "nbformat_minor": 0
}
