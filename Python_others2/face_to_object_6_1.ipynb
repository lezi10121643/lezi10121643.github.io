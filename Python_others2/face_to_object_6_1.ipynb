{
 "cells": [
  {
   "cell_type": "code",
   "execution_count": 3,
   "metadata": {
    "collapsed": true
   },
   "outputs": [],
   "source": [
    "#用方法间接设置获取属性，而不是直接获取属性\n",
    "#私有属性"
   ]
  },
  {
   "cell_type": "code",
   "execution_count": 11,
   "metadata": {
    "collapsed": false
   },
   "outputs": [
    {
     "name": "stdout",
     "output_type": "stream",
     "text": [
      "-10\n"
     ]
    }
   ],
   "source": [
    "class Dog:\n",
    "    pass\n",
    "\n",
    "dog = Dog()\n",
    "dog.age=-10\n",
    "print(dog.age)\n"
   ]
  },
  {
   "cell_type": "code",
   "execution_count": 8,
   "metadata": {
    "collapsed": false
   },
   "outputs": [
    {
     "name": "stdout",
     "output_type": "stream",
     "text": [
      "0\n"
     ]
    }
   ],
   "source": [
    "#定义属性的时候不要用，要定义一个方法获取属性值\n",
    "class Dog:\n",
    "    def set_age(self,new_age):\n",
    "        if new_age>0 and new_age<=100:\n",
    "            self.age = new_age\n",
    "        else:\n",
    "            self.age= 0\n",
    "            \n",
    "    def get_age(self):\n",
    "        return self.age\n",
    "    \n",
    "dog = Dog()\n",
    "\n",
    "dog.set_age(-10)\n",
    "age = dog.get_age()\n",
    "print(age)"
   ]
  },
  {
   "cell_type": "code",
   "execution_count": 12,
   "metadata": {
    "collapsed": false
   },
   "outputs": [
    {
     "name": "stdout",
     "output_type": "stream",
     "text": [
      "-----1-----\n",
      "-----2-----\n"
     ]
    }
   ],
   "source": [
    "class Dog():\n",
    "    \n",
    "    def test1(self):\n",
    "        print('-----1-----')\n",
    "    def test2(self):\n",
    "        print('-----2-----')\n",
    "        \n",
    "dog = Dog()\n",
    "dog.test1()\n",
    "dog.test2()"
   ]
  },
  {
   "cell_type": "code",
   "execution_count": 13,
   "metadata": {
    "collapsed": false
   },
   "outputs": [
    {
     "ename": "AttributeError",
     "evalue": "'Dog' object has no attribute '__test1'",
     "output_type": "error",
     "traceback": [
      "\u001b[1;31m---------------------------------------------------------------------------\u001b[0m",
      "\u001b[1;31mAttributeError\u001b[0m                            Traceback (most recent call last)",
      "\u001b[1;32m<ipython-input-13-2214072c286f>\u001b[0m in \u001b[0;36m<module>\u001b[1;34m()\u001b[0m\n\u001b[0;32m      8\u001b[0m \u001b[1;33m\u001b[0m\u001b[0m\n\u001b[0;32m      9\u001b[0m \u001b[0mdog\u001b[0m \u001b[1;33m=\u001b[0m \u001b[0mDog\u001b[0m\u001b[1;33m(\u001b[0m\u001b[1;33m)\u001b[0m\u001b[1;33m\u001b[0m\u001b[0m\n\u001b[1;32m---> 10\u001b[1;33m \u001b[0mdog\u001b[0m\u001b[1;33m.\u001b[0m\u001b[0m__test1\u001b[0m\u001b[1;33m(\u001b[0m\u001b[1;33m)\u001b[0m\u001b[1;33m\u001b[0m\u001b[0m\n\u001b[0m\u001b[0;32m     11\u001b[0m \u001b[0mdog\u001b[0m\u001b[1;33m.\u001b[0m\u001b[0mtest2\u001b[0m\u001b[1;33m(\u001b[0m\u001b[1;33m)\u001b[0m\u001b[1;33m\u001b[0m\u001b[0m\n",
      "\u001b[1;31mAttributeError\u001b[0m: 'Dog' object has no attribute '__test1'"
     ]
    }
   ],
   "source": [
    "#私有方法（在方法名字前加两个下划线）\n",
    "class Dog():\n",
    "    \n",
    "    def __test1(self):\n",
    "        print('-----1-----')\n",
    "    def test2(self):\n",
    "        print('-----2-----')\n",
    "        \n",
    "dog = Dog()\n",
    "dog.__test1()\n",
    "dog.test2()\n",
    "#运行，用不了"
   ]
  },
  {
   "cell_type": "code",
   "execution_count": 14,
   "metadata": {
    "collapsed": false
   },
   "outputs": [
    {
     "name": "stdout",
     "output_type": "stream",
     "text": [
      "-----正在发送短信-----\n"
     ]
    }
   ],
   "source": [
    "#私有方法（在方法名字前加两个下划线）\n",
    "#先调用方法判断合法才调用私有方法\n",
    "class Dog():\n",
    "    #私有方法\n",
    "    def __send_msg(self):\n",
    "        print('-----正在发送短信-----')\n",
    "    #公有方法\n",
    "    def send_msg(self,new_money):\n",
    "        if new_money>10000:\n",
    "            self.__send_msg()\n",
    "        else:\n",
    "            print('余额不足，请先充值，再发送短信')\n",
    "        \n",
    "dog = Dog()\n",
    "dog.send_msg(100000000)\n",
    "#运行，用不了"
   ]
  },
  {
   "cell_type": "code",
   "execution_count": 15,
   "metadata": {
    "collapsed": false
   },
   "outputs": [
    {
     "name": "stdout",
     "output_type": "stream",
     "text": [
      "余额不足，请先充值，再发送短信\n"
     ]
    }
   ],
   "source": [
    "dog.send_msg(10)"
   ]
  },
  {
   "cell_type": "code",
   "execution_count": 16,
   "metadata": {
    "collapsed": true
   },
   "outputs": [],
   "source": [
    "#__del___方法"
   ]
  },
  {
   "cell_type": "code",
   "execution_count": 44,
   "metadata": {
    "collapsed": false
   },
   "outputs": [
    {
     "name": "stdout",
     "output_type": "stream",
     "text": [
      "-----英雄over----\n",
      "======================\n"
     ]
    }
   ],
   "source": [
    "class Dog:\n",
    "    def __del__(self):#del方法在对象死掉时自动调用\n",
    "        print('-----英雄over----')\n",
    "\n",
    "dog1 = Dog()\n",
    "dog2 = dog1\n",
    "\n",
    "#dog1 dog2 指向了同一个对象\n",
    "\n",
    "del dog1#不会删除指向的对象，只是把dog1指向的线（引用）删除了\n",
    "\n",
    "print('======================')\n",
    "\n",
    "#结果：\n",
    "#======================\n",
    "#-----英雄over---- 程序结束自动释放内存\n"
   ]
  },
  {
   "cell_type": "code",
   "execution_count": 40,
   "metadata": {
    "collapsed": false
   },
   "outputs": [
    {
     "name": "stdout",
     "output_type": "stream",
     "text": [
      "-----英雄over----\n",
      "======================\n"
     ]
    }
   ],
   "source": [
    "class Dog:\n",
    "    def __del__(self):#del方法在对象死掉时自动调用\n",
    "        print('-----英雄over----')\n",
    "\n",
    "dog1 = Dog()\n",
    "dog2 = dog1\n",
    "\n",
    "#dog1 dog2 指向了同一个对象\n",
    "\n",
    "del dog1#不会删除指向的对象，只是把dog1指向的线（引用）删除了\n",
    "del dog2\n",
    "print('======================')"
   ]
  },
  {
   "cell_type": "code",
   "execution_count": 45,
   "metadata": {
    "collapsed": true
   },
   "outputs": [],
   "source": [
    "#上面每次运行不太一样"
   ]
  },
  {
   "cell_type": "code",
   "execution_count": 50,
   "metadata": {
    "collapsed": false
   },
   "outputs": [
    {
     "data": {
      "text/plain": [
       "2"
      ]
     },
     "execution_count": 50,
     "metadata": {},
     "output_type": "execute_result"
    }
   ],
   "source": [
    "#测量对象引用个数\n",
    "import random\n",
    "import sys\n",
    "#sys.getrefcount()#测量对象引用个数，比实际个数多1\n",
    "\n",
    "class T:\n",
    "    pass\n",
    "\n",
    "t = T()#创建一个对象\n",
    "sys.getrefcount(t)"
   ]
  },
  {
   "cell_type": "code",
   "execution_count": 51,
   "metadata": {
    "collapsed": false
   },
   "outputs": [
    {
     "data": {
      "text/plain": [
       "3"
      ]
     },
     "execution_count": 51,
     "metadata": {},
     "output_type": "execute_result"
    }
   ],
   "source": [
    "tt = t\n",
    "sys.getrefcount(t)"
   ]
  },
  {
   "cell_type": "code",
   "execution_count": 52,
   "metadata": {
    "collapsed": false
   },
   "outputs": [
    {
     "data": {
      "text/plain": [
       "2"
      ]
     },
     "execution_count": 52,
     "metadata": {},
     "output_type": "execute_result"
    }
   ],
   "source": [
    "del tt\n",
    "sys.getrefcount(t)"
   ]
  },
  {
   "cell_type": "code",
   "execution_count": 53,
   "metadata": {
    "collapsed": false
   },
   "outputs": [
    {
     "ename": "NameError",
     "evalue": "name 't' is not defined",
     "output_type": "error",
     "traceback": [
      "\u001b[1;31m---------------------------------------------------------------------------\u001b[0m",
      "\u001b[1;31mNameError\u001b[0m                                 Traceback (most recent call last)",
      "\u001b[1;32m<ipython-input-53-cd862899d356>\u001b[0m in \u001b[0;36m<module>\u001b[1;34m()\u001b[0m\n\u001b[0;32m      1\u001b[0m \u001b[1;32mdel\u001b[0m \u001b[0mt\u001b[0m\u001b[1;33m\u001b[0m\u001b[0m\n\u001b[1;32m----> 2\u001b[1;33m \u001b[0msys\u001b[0m\u001b[1;33m.\u001b[0m\u001b[0mgetrefcount\u001b[0m\u001b[1;33m(\u001b[0m\u001b[0mt\u001b[0m\u001b[1;33m)\u001b[0m\u001b[1;33m\u001b[0m\u001b[0m\n\u001b[0m",
      "\u001b[1;31mNameError\u001b[0m: name 't' is not defined"
     ]
    }
   ],
   "source": [
    "del t\n",
    "sys.getrefcount(t)"
   ]
  },
  {
   "cell_type": "code",
   "execution_count": 54,
   "metadata": {
    "collapsed": true
   },
   "outputs": [],
   "source": [
    "#因为t引用都删了，所以联系不到了"
   ]
  },
  {
   "cell_type": "code",
   "execution_count": 55,
   "metadata": {
    "collapsed": false
   },
   "outputs": [
    {
     "name": "stdout",
     "output_type": "stream",
     "text": [
      "-----吃-----\n"
     ]
    }
   ],
   "source": [
    "#继承\n",
    "#子类（派生类）继承父类（基类）的方法属性\n",
    "#目的：少写代码\n",
    "class Animal:\n",
    "    def eat(self):\n",
    "        print('-----吃-----')\n",
    "    def drink(self):\n",
    "        print('-----喝-----')\n",
    "    def sleep(self):\n",
    "        print('-----睡-----')\n",
    "    def run(self):\n",
    "        print('-----跑-----')\n",
    "        \n",
    "a= Animal()\n",
    "a.eat()"
   ]
  },
  {
   "cell_type": "code",
   "execution_count": 58,
   "metadata": {
    "collapsed": false
   },
   "outputs": [
    {
     "name": "stdout",
     "output_type": "stream",
     "text": [
      "-----吃-----\n"
     ]
    }
   ],
   "source": [
    "#继承\n",
    "#子类（派生类）继承父类（基类）的方法属性\n",
    "#目的：少写代码\n",
    "class Animal:\n",
    "    def eat(self):\n",
    "        print('-----吃-----')\n",
    "    def drink(self):\n",
    "        print('-----喝-----')\n",
    "    def sleep(self):\n",
    "        print('-----睡-----')\n",
    "    def run(self):\n",
    "        print('-----跑-----')\n",
    "        \n",
    "class Dog:\n",
    "    def eat(self):\n",
    "        print('-----吃-----')\n",
    "    def drink(self):\n",
    "        print('-----喝-----')\n",
    "    def sleep(self):\n",
    "        print('-----睡-----')\n",
    "    def run(self):\n",
    "        print('-----跑-----')\n",
    "    def bark(self):\n",
    "        print('-----汪汪叫-----')\n",
    "          \n",
    "        \n",
    "#a= Animal()\n",
    "#a.eat()\n",
    "\n",
    "wangcai = Dog()\n",
    "wangcai.eat()"
   ]
  },
  {
   "cell_type": "code",
   "execution_count": 59,
   "metadata": {
    "collapsed": false
   },
   "outputs": [
    {
     "name": "stdout",
     "output_type": "stream",
     "text": [
      "-----吃-----\n"
     ]
    }
   ],
   "source": [
    "#继承\n",
    "#子类（派生类）继承父类（基类）的方法属性\n",
    "#目的：少写代码\n",
    "class Animal:\n",
    "    def eat(self):\n",
    "        print('-----吃-----')\n",
    "    def drink(self):\n",
    "        print('-----喝-----')\n",
    "    def sleep(self):\n",
    "        print('-----睡-----')\n",
    "    def run(self):\n",
    "        print('-----跑-----')\n",
    "        \n",
    "class Dog(Animal):#在类后面括号写要继承的父类\n",
    "    \n",
    "    def bark(self):\n",
    "        print('-----汪汪叫-----')\n",
    "          \n",
    "        \n",
    "#a= Animal()\n",
    "#a.eat()\n",
    "\n",
    "wangcai = Dog()\n",
    "wangcai.eat()"
   ]
  },
  {
   "cell_type": "code",
   "execution_count": 60,
   "metadata": {
    "collapsed": false
   },
   "outputs": [
    {
     "name": "stdout",
     "output_type": "stream",
     "text": [
      "-----吃-----\n",
      "-----吃-----\n"
     ]
    }
   ],
   "source": [
    "#继承\n",
    "#子类（派生类）继承父类（基类）的方法属性\n",
    "#目的：少写代码\n",
    "class Animal:\n",
    "    def eat(self):\n",
    "        print('-----吃-----')\n",
    "    def drink(self):\n",
    "        print('-----喝-----')\n",
    "    def sleep(self):\n",
    "        print('-----睡-----')\n",
    "    def run(self):\n",
    "        print('-----跑-----')\n",
    "        \n",
    "class Dog(Animal):#在类后面括号写要继承的父类\n",
    "    \n",
    "    def bark(self):\n",
    "        print('-----汪汪叫-----')\n",
    "        \n",
    "class Cat(Animal):\n",
    "    \n",
    "    def catch(self):\n",
    "        print('-----捉老鼠-----')\n",
    "\n",
    "wangcai = Dog()\n",
    "wangcai.eat()\n",
    "\n",
    "tom = Cat()\n",
    "tom.eat()"
   ]
  },
  {
   "cell_type": "code",
   "execution_count": 61,
   "metadata": {
    "collapsed": true
   },
   "outputs": [],
   "source": [
    "#wangcai只能使用Dog、Animal类中的方法\n",
    "#tom只能使用Cat、Animal类中的方法"
   ]
  },
  {
   "cell_type": "code",
   "execution_count": 62,
   "metadata": {
    "collapsed": false
   },
   "outputs": [
    {
     "name": "stdout",
     "output_type": "stream",
     "text": [
      "-----飞-----\n",
      "-----汪汪叫-----\n",
      "-----吃-----\n"
     ]
    }
   ],
   "source": [
    "#\n",
    "\n",
    "class Animal:\n",
    "    def eat(self):\n",
    "        print('-----吃-----')\n",
    "    def drink(self):\n",
    "        print('-----喝-----')\n",
    "    def sleep(self):\n",
    "        print('-----睡-----')\n",
    "    def run(self):\n",
    "        print('-----跑-----')\n",
    "        \n",
    "class Dog(Animal):#在类后面括号写要继承的父类\n",
    "    \n",
    "    def bark(self):\n",
    "        print('-----汪汪叫-----')\n",
    "\n",
    "class Xiaotq(Dog):\n",
    "    def fly(self):\n",
    "        print('-----飞-----')\n",
    "        \n",
    "        \n",
    "\n",
    "xiaotq = Xiaotq()        \n",
    "xiaotq.fly()#自己的方法\n",
    "xiaotq.bark()#父类的方法\n",
    "xiaotq.eat()#父类的父类的方法\n"
   ]
  },
  {
   "cell_type": "code",
   "execution_count": 63,
   "metadata": {
    "collapsed": false
   },
   "outputs": [
    {
     "name": "stdout",
     "output_type": "stream",
     "text": [
      "-----飞-----\n",
      "-----狂叫-----\n",
      "-----吃-----\n"
     ]
    }
   ],
   "source": [
    "#重写：发现父类的方法不是想要的，在自己类里写个和父类方法名字一样的，则调用自己的\n",
    "\n",
    "\n",
    "class Animal:\n",
    "    def eat(self):\n",
    "        print('-----吃-----')\n",
    "    def drink(self):\n",
    "        print('-----喝-----')\n",
    "    def sleep(self):\n",
    "        print('-----睡-----')\n",
    "    def run(self):\n",
    "        print('-----跑-----')\n",
    "        \n",
    "class Dog(Animal):#在类后面括号写要继承的父类\n",
    "    \n",
    "    def bark(self):\n",
    "        print('-----汪汪叫-----')\n",
    "\n",
    "class Xiaotq(Dog):\n",
    "    def fly(self):\n",
    "        print('-----飞-----')\n",
    "    def bark(self):\n",
    "        print('-----狂叫-----')#先调自己的方法\n",
    "        \n",
    "\n",
    "xiaotq = Xiaotq()        \n",
    "xiaotq.fly()#自己的方法\n",
    "xiaotq.bark()#父类的方法\n",
    "xiaotq.eat()#父类的父类的方法\n"
   ]
  },
  {
   "cell_type": "code",
   "execution_count": 65,
   "metadata": {
    "collapsed": false
   },
   "outputs": [
    {
     "name": "stdout",
     "output_type": "stream",
     "text": [
      "-----飞-----\n",
      "-----狂叫-----\n",
      "-----汪汪叫-----\n",
      "-----吃-----\n",
      "-----吃-----\n"
     ]
    }
   ],
   "source": [
    "#调用被重写的方法\n",
    "#重写：发现父类的方法不是想要的，在自己类里写个和父类方法名字一样的，则调用自己的\n",
    "\n",
    "\n",
    "class Animal:\n",
    "    def eat(self):\n",
    "        print('-----吃-----')\n",
    "    def drink(self):\n",
    "        print('-----喝-----')\n",
    "    def sleep(self):\n",
    "        print('-----睡-----')\n",
    "    def run(self):\n",
    "        print('-----跑-----')\n",
    "        \n",
    "class Dog(Animal):#在类后面括号写要继承的父类\n",
    "    \n",
    "    def bark(self):\n",
    "        print('-----汪汪叫-----')\n",
    "\n",
    "class Xiaotq(Dog):\n",
    "    def fly(self):\n",
    "        print('-----飞-----')\n",
    "    def bark(self):\n",
    "        print('-----狂叫-----')#先调自己的方法\n",
    "        Dog.bark(self)#父类的功能和自己类的功能都要\n",
    "        Animal.eat(self)#调用父类父类的都行！！！！\n",
    "\n",
    "xiaotq = Xiaotq()        \n",
    "xiaotq.fly()#自己的方法\n",
    "xiaotq.bark()#父类的方法\n",
    "xiaotq.eat()#父类的父类的方法\n"
   ]
  },
  {
   "cell_type": "code",
   "execution_count": 67,
   "metadata": {
    "collapsed": false
   },
   "outputs": [
    {
     "name": "stdout",
     "output_type": "stream",
     "text": [
      "-----飞-----\n",
      "-----狂叫-----\n",
      "-----汪汪叫-----\n",
      "-----吃-----\n"
     ]
    }
   ],
   "source": [
    "#调用被重写的方法\n",
    "#重写：发现父类的方法不是想要的，在自己类里写个和父类方法名字一样的，则调用自己的\n",
    "\n",
    "\n",
    "class Animal:\n",
    "    def eat(self):\n",
    "        print('-----吃-----')\n",
    "    def drink(self):\n",
    "        print('-----喝-----')\n",
    "    def sleep(self):\n",
    "        print('-----睡-----')\n",
    "    def run(self):\n",
    "        print('-----跑-----')\n",
    "        \n",
    "class Dog(Animal):#在类后面括号写要继承的父类\n",
    "    \n",
    "    def bark(self):\n",
    "        print('-----汪汪叫-----')\n",
    "\n",
    "class Xiaotq(Dog):\n",
    "    def fly(self):\n",
    "        print('-----飞-----')\n",
    "    def bark(self):\n",
    "        print('-----狂叫-----')#先调自己的方法\n",
    "        super().bark()#父类的功能和自己类的功能都要，调用当前父类\n",
    "\n",
    "xiaotq = Xiaotq()        \n",
    "xiaotq.fly()#自己的方法\n",
    "xiaotq.bark()#父类的方法\n",
    "xiaotq.eat()#父类的父类的方法\n",
    "#思考理解：\n",
    "#为什么要调用被重写的方法？\n",
    "#怎么调用？"
   ]
  },
  {
   "cell_type": "code",
   "execution_count": 68,
   "metadata": {
    "collapsed": false
   },
   "outputs": [
    {
     "name": "stdout",
     "output_type": "stream",
     "text": [
      "-----test1-----\n"
     ]
    }
   ],
   "source": [
    "#私有方法、私有属性在继承中的表现\n",
    "class A:\n",
    "    def __init__(self):\n",
    "        self.num1 = 100\n",
    "        self.__num2 = 200\n",
    "        \n",
    "    def test1(self):\n",
    "        print('-----test1-----')\n",
    "        \n",
    "    def __test2(self):\n",
    "        print('-----test2-----')\n",
    "        \n",
    "class B(A):\n",
    "    pass\n",
    "\n",
    "b = B()\n",
    "b.test1()"
   ]
  },
  {
   "cell_type": "code",
   "execution_count": 70,
   "metadata": {
    "collapsed": false
   },
   "outputs": [
    {
     "ename": "AttributeError",
     "evalue": "'B' object has no attribute '__test2'",
     "output_type": "error",
     "traceback": [
      "\u001b[1;31m---------------------------------------------------------------------------\u001b[0m",
      "\u001b[1;31mAttributeError\u001b[0m                            Traceback (most recent call last)",
      "\u001b[1;32m<ipython-input-70-f4f3542dd0b1>\u001b[0m in \u001b[0;36m<module>\u001b[1;34m()\u001b[0m\n\u001b[0;32m     15\u001b[0m \u001b[1;33m\u001b[0m\u001b[0m\n\u001b[0;32m     16\u001b[0m \u001b[0mb\u001b[0m \u001b[1;33m=\u001b[0m \u001b[0mB\u001b[0m\u001b[1;33m(\u001b[0m\u001b[1;33m)\u001b[0m\u001b[1;33m\u001b[0m\u001b[0m\n\u001b[1;32m---> 17\u001b[1;33m \u001b[0mb\u001b[0m\u001b[1;33m.\u001b[0m\u001b[0m__test2\u001b[0m\u001b[1;33m(\u001b[0m\u001b[1;33m)\u001b[0m\u001b[1;33m\u001b[0m\u001b[0m\n\u001b[0m",
      "\u001b[1;31mAttributeError\u001b[0m: 'B' object has no attribute '__test2'"
     ]
    }
   ],
   "source": [
    "#私有方法、私有属性在继承中的表现\n",
    "class A:\n",
    "    def __init__(self):\n",
    "        self.num1 = 100\n",
    "        self.__num2 = 200\n",
    "        \n",
    "    def test1(self):\n",
    "        print('-----test1-----')\n",
    "        \n",
    "    def __test2(self):\n",
    "        print('-----test2-----')\n",
    "        \n",
    "class B(A):\n",
    "    pass\n",
    "\n",
    "b = B()\n",
    "b.__test2()"
   ]
  },
  {
   "cell_type": "code",
   "execution_count": 71,
   "metadata": {
    "collapsed": true
   },
   "outputs": [],
   "source": [
    "#所以私有方法不会被继承"
   ]
  },
  {
   "cell_type": "code",
   "execution_count": 72,
   "metadata": {
    "collapsed": false
   },
   "outputs": [
    {
     "name": "stdout",
     "output_type": "stream",
     "text": [
      "100\n"
     ]
    }
   ],
   "source": [
    "#私有方法、私有属性在继承中的表现\n",
    "class A:\n",
    "    def __init__(self):\n",
    "        self.num1 = 100\n",
    "        self.__num2 = 200\n",
    "        \n",
    "    def test1(self):\n",
    "        print('-----test1-----')\n",
    "        \n",
    "    def __test2(self):\n",
    "        print('-----test2-----')\n",
    "        \n",
    "class B(A):\n",
    "    pass\n",
    "\n",
    "b = B()\n",
    "print(b.num1)"
   ]
  },
  {
   "cell_type": "code",
   "execution_count": 75,
   "metadata": {
    "collapsed": false
   },
   "outputs": [
    {
     "ename": "AttributeError",
     "evalue": "'B' object has no attribute '__num2'",
     "output_type": "error",
     "traceback": [
      "\u001b[1;31m---------------------------------------------------------------------------\u001b[0m",
      "\u001b[1;31mAttributeError\u001b[0m                            Traceback (most recent call last)",
      "\u001b[1;32m<ipython-input-75-8dfc3d2abfe1>\u001b[0m in \u001b[0;36m<module>\u001b[1;34m()\u001b[0m\n\u001b[0;32m     15\u001b[0m \u001b[1;33m\u001b[0m\u001b[0m\n\u001b[0;32m     16\u001b[0m \u001b[0mb\u001b[0m \u001b[1;33m=\u001b[0m \u001b[0mB\u001b[0m\u001b[1;33m(\u001b[0m\u001b[1;33m)\u001b[0m\u001b[1;33m\u001b[0m\u001b[0m\n\u001b[1;32m---> 17\u001b[1;33m \u001b[0mprint\u001b[0m\u001b[1;33m(\u001b[0m\u001b[0mb\u001b[0m\u001b[1;33m.\u001b[0m\u001b[0m__num2\u001b[0m\u001b[1;33m)\u001b[0m\u001b[1;33m\u001b[0m\u001b[0m\n\u001b[0m",
      "\u001b[1;31mAttributeError\u001b[0m: 'B' object has no attribute '__num2'"
     ]
    }
   ],
   "source": [
    "#私有方法、私有属性在继承中的表现\n",
    "class A:\n",
    "    def __init__(self):\n",
    "        self.num1 = 100\n",
    "        self.__num2 = 200\n",
    "        \n",
    "    def test1(self):\n",
    "        print('-----test1-----')\n",
    "        \n",
    "    def __test2(self):\n",
    "        print('-----test2-----')\n",
    "        \n",
    "class B(A):\n",
    "    pass\n",
    "\n",
    "b = B()\n",
    "print(b.__num2)"
   ]
  },
  {
   "cell_type": "code",
   "execution_count": 76,
   "metadata": {
    "collapsed": true
   },
   "outputs": [],
   "source": [
    "#私有属性不能被继承"
   ]
  },
  {
   "cell_type": "code",
   "execution_count": 77,
   "metadata": {
    "collapsed": false
   },
   "outputs": [
    {
     "name": "stdout",
     "output_type": "stream",
     "text": [
      "-----test2-----\n",
      "200\n"
     ]
    }
   ],
   "source": [
    "#私有方法、私有属性在继承中的表现\n",
    "class A:\n",
    "    def __init__(self):\n",
    "        self.num1 = 100\n",
    "        self.__num2 = 200\n",
    "        \n",
    "    def test1(self):\n",
    "        print('-----test1-----')\n",
    "        \n",
    "    def __test2(self):\n",
    "        print('-----test2-----')\n",
    "        \n",
    "    def test3(self):\n",
    "        self.__test2()\n",
    "        print(self.__num2)\n",
    "        \n",
    "class B(A):\n",
    "    pass\n",
    "\n",
    "b = B()\n",
    "b.test3()"
   ]
  },
  {
   "cell_type": "code",
   "execution_count": 78,
   "metadata": {
    "collapsed": true
   },
   "outputs": [],
   "source": [
    "#所以调用父类公有方法，该方法调用父类私有属性和私有方法"
   ]
  },
  {
   "cell_type": "code",
   "execution_count": 80,
   "metadata": {
    "collapsed": false
   },
   "outputs": [
    {
     "name": "stdout",
     "output_type": "stream",
     "text": [
      "-----test2-----\n",
      "200\n"
     ]
    },
    {
     "ename": "AttributeError",
     "evalue": "'B' object has no attribute '_B__test2'",
     "output_type": "error",
     "traceback": [
      "\u001b[1;31m---------------------------------------------------------------------------\u001b[0m",
      "\u001b[1;31mAttributeError\u001b[0m                            Traceback (most recent call last)",
      "\u001b[1;32m<ipython-input-80-c830bcd6a787>\u001b[0m in \u001b[0;36m<module>\u001b[1;34m()\u001b[0m\n\u001b[0;32m     22\u001b[0m \u001b[0mb\u001b[0m \u001b[1;33m=\u001b[0m \u001b[0mB\u001b[0m\u001b[1;33m(\u001b[0m\u001b[1;33m)\u001b[0m\u001b[1;33m\u001b[0m\u001b[0m\n\u001b[0;32m     23\u001b[0m \u001b[0mb\u001b[0m\u001b[1;33m.\u001b[0m\u001b[0mtest3\u001b[0m\u001b[1;33m(\u001b[0m\u001b[1;33m)\u001b[0m\u001b[1;33m\u001b[0m\u001b[0m\n\u001b[1;32m---> 24\u001b[1;33m \u001b[0mb\u001b[0m\u001b[1;33m.\u001b[0m\u001b[0mtest4\u001b[0m\u001b[1;33m(\u001b[0m\u001b[1;33m)\u001b[0m\u001b[1;33m\u001b[0m\u001b[0m\n\u001b[0m",
      "\u001b[1;32m<ipython-input-80-c830bcd6a787>\u001b[0m in \u001b[0;36mtest4\u001b[1;34m(self)\u001b[0m\n\u001b[0;32m     17\u001b[0m \u001b[1;32mclass\u001b[0m \u001b[0mB\u001b[0m\u001b[1;33m(\u001b[0m\u001b[0mA\u001b[0m\u001b[1;33m)\u001b[0m\u001b[1;33m:\u001b[0m\u001b[1;33m\u001b[0m\u001b[0m\n\u001b[0;32m     18\u001b[0m     \u001b[1;32mdef\u001b[0m \u001b[0mtest4\u001b[0m\u001b[1;33m(\u001b[0m\u001b[0mself\u001b[0m\u001b[1;33m)\u001b[0m\u001b[1;33m:\u001b[0m\u001b[1;33m\u001b[0m\u001b[0m\n\u001b[1;32m---> 19\u001b[1;33m         \u001b[0mself\u001b[0m\u001b[1;33m.\u001b[0m\u001b[0m__test2\u001b[0m\u001b[1;33m(\u001b[0m\u001b[1;33m)\u001b[0m\u001b[1;33m\u001b[0m\u001b[0m\n\u001b[0m\u001b[0;32m     20\u001b[0m         \u001b[0mprint\u001b[0m\u001b[1;33m(\u001b[0m\u001b[0mself\u001b[0m\u001b[1;33m.\u001b[0m\u001b[0m__num2\u001b[0m\u001b[1;33m)\u001b[0m\u001b[1;33m\u001b[0m\u001b[0m\n\u001b[0;32m     21\u001b[0m \u001b[1;33m\u001b[0m\u001b[0m\n",
      "\u001b[1;31mAttributeError\u001b[0m: 'B' object has no attribute '_B__test2'"
     ]
    }
   ],
   "source": [
    "#私有方法、私有属性在继承中的表现\n",
    "class A:\n",
    "    def __init__(self):\n",
    "        self.num1 = 100\n",
    "        self.__num2 = 200\n",
    "        \n",
    "    def test1(self):\n",
    "        print('-----test1-----')\n",
    "        \n",
    "    def __test2(self):\n",
    "        print('-----test2-----')\n",
    "        \n",
    "    def test3(self):\n",
    "        self.__test2()\n",
    "        print(self.__num2)\n",
    "        \n",
    "class B(A):\n",
    "    def test4(self):\n",
    "        self.__test2()\n",
    "        print(self.__num2)\n",
    "\n",
    "b = B()\n",
    "b.test3()\n",
    "b.test4()"
   ]
  },
  {
   "cell_type": "code",
   "execution_count": 81,
   "metadata": {
    "collapsed": true
   },
   "outputs": [],
   "source": [
    "#子类中定义方法使用父类的私有变量和私有属性是不行的"
   ]
  },
  {
   "cell_type": "code",
   "execution_count": 82,
   "metadata": {
    "collapsed": true
   },
   "outputs": [],
   "source": [
    "#如果调用的是 继承的父类中的 公有方法\n",
    "#可以在这个共有方法中访问父类的私有属性和私有方法\n",
    "#但是如果在子类中实现了一个公有方法 那么\n",
    "#这个方法是不能够调用继承的父类中的私有方法和私有属性"
   ]
  },
  {
   "cell_type": "code",
   "execution_count": 85,
   "metadata": {
    "collapsed": false
   },
   "outputs": [
    {
     "name": "stdout",
     "output_type": "stream",
     "text": [
      "-----test1\n",
      "-----test2\n",
      "-----Base\n"
     ]
    }
   ],
   "source": [
    "#多继承\n",
    "class Base(object):#object是所有类的老大，不写也是默认继承object\n",
    "    def test(self):\n",
    "        print('-----Base')\n",
    "        \n",
    "class A(Base):\n",
    "    def test1(self):\n",
    "        print('-----test1')\n",
    "        \n",
    "class B(Base):\n",
    "    def test2(self):\n",
    "        print('-----test2')\n",
    "        \n",
    "class C(A,B):#C继承A类和B类\n",
    "    pass\n",
    "\n",
    "c=C()\n",
    "c.test1()\n",
    "c.test2()\n",
    "c.test()"
   ]
  },
  {
   "cell_type": "code",
   "execution_count": 87,
   "metadata": {
    "collapsed": false
   },
   "outputs": [
    {
     "name": "stdout",
     "output_type": "stream",
     "text": [
      "-----C\n",
      "(<class '__main__.C'>, <class '__main__.A'>, <class '__main__.B'>, <class '__main__.Base'>, <class 'object'>)\n"
     ]
    }
   ],
   "source": [
    "#多继承的注意点\n",
    "#多继承\n",
    "class Base(object):#object是所有类的老大，不写也是默认继承object\n",
    "    def test(self):\n",
    "        print('-----Base')\n",
    "        \n",
    "class A(Base):\n",
    "    def test(self):\n",
    "        print('-----A')\n",
    "        \n",
    "class B(Base):\n",
    "    def test(self):\n",
    "        print('-----B')\n",
    "        \n",
    "class C(A,B):#C继承A类和B类\n",
    "    def test(self):\n",
    "        print('-----C')\n",
    "        \n",
    "\n",
    "c=C()\n",
    "c.test()\n",
    "#多继承，\n",
    "\n",
    "print(C.__mro__)#因缺思婷，调用方法时搜索的顺序如果在某类中找到了方法，\n",
    "#则停止搜索，C--A--B--Base--object"
   ]
  },
  {
   "cell_type": "code",
   "execution_count": 90,
   "metadata": {
    "collapsed": false
   },
   "outputs": [
    {
     "name": "stdout",
     "output_type": "stream",
     "text": [
      "大家好，我是xxx,希望以后大家多多关照...\n",
      "hello every, 我是你们的老大，我是xxxx\n"
     ]
    }
   ],
   "source": [
    "#多态：定义时的类型和运行时的类型不一样\n",
    "#定义的时候不知道调用谁，执行的时候才知道调用谁\n",
    "class Dog(object):\n",
    "    def print_self(self):\n",
    "        print('大家好，我是xxx,希望以后大家多多关照...')\n",
    "        \n",
    "class Xiaotq(Dog):\n",
    "    def print_self(self):\n",
    "        print('hello every, 我是你们的老大，我是xxxx')\n",
    "        \n",
    "def introduce(temp):\n",
    "    temp.print_self()\n",
    "\n",
    "dog1 = Dog()\n",
    "dog2=  Xiaotq()\n",
    "\n",
    "introduce(dog1)\n",
    "introduce(dog2)"
   ]
  },
  {
   "cell_type": "code",
   "execution_count": 91,
   "metadata": {
    "collapsed": true
   },
   "outputs": [],
   "source": [
    "#面向对象三个基本要素：封装，继承，多态"
   ]
  },
  {
   "cell_type": "code",
   "execution_count": 93,
   "metadata": {
    "collapsed": false
   },
   "outputs": [
    {
     "name": "stdout",
     "output_type": "stream",
     "text": [
      "1\n",
      "2\n",
      "3\n"
     ]
    }
   ],
   "source": [
    "#类属性、实例属性\n",
    "class Tool(object):\n",
    "    def __init__(self,new_name):\n",
    "        self.name = new_name\n",
    "        \n",
    "num = 0  \n",
    "tool1 = Tool('铁锹')\n",
    "num+=1\n",
    "print(num)\n",
    "tool2 = Tool('工兵铲')\n",
    "num+=1\n",
    "print(num)\n",
    "tool3 = Tool('水桶')\n",
    "num+=1\n",
    "print(num)"
   ]
  },
  {
   "cell_type": "code",
   "execution_count": 95,
   "metadata": {
    "collapsed": false
   },
   "outputs": [
    {
     "name": "stdout",
     "output_type": "stream",
     "text": [
      "3\n"
     ]
    }
   ],
   "source": [
    "#类属性、实例属性\n",
    "class Tool(object):\n",
    "    \n",
    "    #类属性\n",
    "    num = 0\n",
    "    #类属性：在class里面def外面\n",
    "    \n",
    "    #方法\n",
    "    def __init__(self,new_name):\n",
    "        #实例属性\n",
    "        self.name = new_name\n",
    "        Tool.num +=1 #对类属性+=1\n",
    "\n",
    "tool1 = Tool('铁锹')\n",
    "tool2 = Tool('工兵铲')\n",
    "tool3 = Tool('水桶')\n",
    "\n",
    "print(Tool.num)\n",
    "#三次调用，三次给类属性改变了值\n",
    "\n",
    "\n",
    "\n",
    "#类对象，类属性\n",
    "#实例对象，实例属性\n",
    "#实例属性和具体的某个实例对象有关系\n",
    "#并且一个实例对象和另外一个实例对象是不共享属性的\n",
    "\n",
    "#类属性所属于类对象，并且多个实例对象之间共享同一个类属性\n",
    "\n",
    "\n"
   ]
  },
  {
   "cell_type": "code",
   "execution_count": 96,
   "metadata": {
    "collapsed": false
   },
   "outputs": [
    {
     "name": "stdout",
     "output_type": "stream",
     "text": [
      "100\n"
     ]
    }
   ],
   "source": [
    "#类方法、实例方法、静态方法\n",
    "class Game(object):\n",
    "    \n",
    "    #类属性\n",
    "    num = 0\n",
    "    \n",
    "    #实例方法\n",
    "    def __init__(self):\n",
    "        #实例方法\n",
    "        self.name = 'laowang'\n",
    "    \n",
    "    #类方法\n",
    "    @classmethod#（固定格式）\n",
    "    def add_num(cls):\n",
    "        cls.num = 100\n",
    "        \n",
    "game = Game()\n",
    "Game.add_num()\n",
    "print(Game.num)"
   ]
  },
  {
   "cell_type": "code",
   "execution_count": 97,
   "metadata": {
    "collapsed": false
   },
   "outputs": [
    {
     "name": "stdout",
     "output_type": "stream",
     "text": [
      "100\n"
     ]
    }
   ],
   "source": [
    "#类方法、实例方法、静态方法\n",
    "class Game(object):\n",
    "    \n",
    "    #类属性\n",
    "    num = 0\n",
    "    \n",
    "    #实例方法\n",
    "    def __init__(self):\n",
    "        #实例方法\n",
    "        self.name = 'laowang'\n",
    "    \n",
    "    #类方法\n",
    "    @classmethod#（固定格式）(装饰器：对原有功能添加新功能)\n",
    "    def add_num(cls):\n",
    "        cls.num = 100\n",
    "        \n",
    "game = Game()\n",
    "game.add_num()###\n",
    "print(Game.num)\n",
    "#类方法可以通过类的名字调用类方法 还可以通过这个类创建出来的对象  去调用这个类方法"
   ]
  },
  {
   "cell_type": "code",
   "execution_count": 99,
   "metadata": {
    "collapsed": false
   },
   "outputs": [
    {
     "name": "stdout",
     "output_type": "stream",
     "text": [
      "100\n",
      "---------------\n",
      "  王者农药V1.  \n",
      " 1.开始游戏    \n",
      " 2.结束游戏    \n",
      "---------------\n",
      "---------------\n",
      "  王者农药V1.  \n",
      " 1.开始游戏    \n",
      " 2.结束游戏    \n",
      "---------------\n"
     ]
    }
   ],
   "source": [
    "#类方法、实例方法、静态方法\n",
    "class Game(object):\n",
    "    \n",
    "    #类属性\n",
    "    num = 0\n",
    "    \n",
    "    #实例方法\n",
    "    def __init__(self):#实例方法必须有参数接受对象\n",
    "        #实例方法\n",
    "        self.name = 'laowang'\n",
    "    \n",
    "    #类方法\n",
    "    @classmethod#（固定格式）(装饰器：对原有功能添加新功能)\n",
    "    def add_num(cls):#类方法必须有参数接受类的引用\n",
    "        cls.num = 100\n",
    "    \n",
    "    @staticmethod\n",
    "    def print_menu():#静态方法，可以没有参数\n",
    "        print('---------------')\n",
    "        print('  王者农药V1.  ')\n",
    "        print(' 1.开始游戏    ')\n",
    "        print(' 2.结束游戏    ')\n",
    "        print('---------------')\n",
    "        \n",
    "game = Game()\n",
    "game.add_num()###\n",
    "print(Game.num)\n",
    "#类方法可以通过类的名字调用类方法 还可以通过这个类创建出来的对象  去调用这个类方法\n",
    "\n",
    "Game.print_menu()#通过类 去调用静态方法\n",
    "game.print_menu()#通过实例对象 去调用静态方法"
   ]
  },
  {
   "cell_type": "code",
   "execution_count": 3,
   "metadata": {
    "collapsed": false
   },
   "outputs": [
    {
     "name": "stdout",
     "output_type": "stream",
     "text": [
      "车在移动。。。\n",
      "正在播放音乐。。。\n",
      "车在停止。。。\n"
     ]
    }
   ],
   "source": [
    "#设计卖车的4s店\n",
    "class CarStore(object):\n",
    "    def order(self,money):\n",
    "        if money>50000:\n",
    "            return Car()#创建了一个对象引用返回\n",
    "\n",
    "class Car(object):\n",
    "    def move(self):\n",
    "        print('车在移动。。。')\n",
    "    def music(self):\n",
    "        print('正在播放音乐。。。')\n",
    "    def stop(self):\n",
    "        print('车在停止。。。')\n",
    "        \n",
    "car_store = CarStore()\n",
    "car = car_store.order(100000)#预定车的方法\n",
    "car.move()\n",
    "car.music()\n",
    "car.stop()\n"
   ]
  },
  {
   "cell_type": "code",
   "execution_count": 7,
   "metadata": {
    "collapsed": false
   },
   "outputs": [
    {
     "name": "stdout",
     "output_type": "stream",
     "text": [
      "车在移动。。。\n",
      "正在播放音乐。。。\n",
      "车在停止。。。\n"
     ]
    }
   ],
   "source": [
    "#设计卖车的4s店\n",
    "class CarStore(object):\n",
    "    def order(self,car_type):\n",
    "        if car_type=='索纳塔':\n",
    "            return Suonata()\n",
    "        elif car_type=='名图':\n",
    "            return Mingtu()\n",
    "\n",
    "class Car(object):\n",
    "    def move(self):\n",
    "        print('车在移动。。。')\n",
    "    def music(self):\n",
    "        print('正在播放音乐。。。')\n",
    "    def stop(self):\n",
    "        print('车在停止。。。')\n",
    "        \n",
    "\n",
    "class Suonata(Car):#继承\n",
    "    pass\n",
    "    \n",
    "class Mingtu(Car):\n",
    "    pass\n",
    "        \n",
    "car_store = CarStore()\n",
    "car = car_store.order('索纳塔')#预定车的方法\n",
    "car.move()\n",
    "car.music()\n",
    "car.stop()\n",
    "\n"
   ]
  },
  {
   "cell_type": "code",
   "execution_count": 8,
   "metadata": {
    "collapsed": false
   },
   "outputs": [
    {
     "name": "stdout",
     "output_type": "stream",
     "text": [
      "车在移动。。。\n",
      "正在播放音乐。。。\n",
      "车在停止。。。\n"
     ]
    }
   ],
   "source": [
    "#设计卖车的4s店\n",
    "#\n",
    "class CarStore(object):\n",
    "    def order(self,car_type):\n",
    "        if car_type=='索纳塔':\n",
    "            return Suonata()\n",
    "        elif car_type=='名图':\n",
    "            return Mingtu()\n",
    "        elif car_type=='ix35':\n",
    "            return Ix35()\n",
    "\n",
    "class Car(object):\n",
    "    def move(self):\n",
    "        print('车在移动。。。')\n",
    "    def music(self):\n",
    "        print('正在播放音乐。。。')\n",
    "    def stop(self):\n",
    "        print('车在停止。。。')\n",
    "        \n",
    "\n",
    "class Suonata(Car):#继承\n",
    "    pass\n",
    "    \n",
    "class Mingtu(Car):\n",
    "    pass\n",
    "\n",
    "class Ix35(Car):\n",
    "    pass\n",
    "        \n",
    "car_store = CarStore()\n",
    "car = car_store.order('索纳塔')#预定车的方法\n",
    "car.move()\n",
    "car.music()\n",
    "car.stop()\n",
    "#每次添加汽车种类，都得手动改店铺中的elif，耦合性太强，麻烦，应该分开，不影响才好。"
   ]
  },
  {
   "cell_type": "code",
   "execution_count": 9,
   "metadata": {
    "collapsed": false
   },
   "outputs": [
    {
     "name": "stdout",
     "output_type": "stream",
     "text": [
      "车在移动。。。\n",
      "正在播放音乐。。。\n",
      "车在停止。。。\n"
     ]
    }
   ],
   "source": [
    "#设计卖车的4s店\n",
    "#函数解耦：方便升级某模块，通过定义额外函数达到效果\n",
    "#类像中介，不用修改了，修改函数就好，分工明确，不干扰。\n",
    "class CarStore(object):\n",
    "    def order(self,car_type):\n",
    "        return select_car_by_type(car_type)\n",
    "        \n",
    "def select_car_by_type(car_type):#是函数不是方法，在类外定义，并且没有self\n",
    "    if car_type=='索纳塔':\n",
    "        return Suonata()\n",
    "    elif car_type=='名图':\n",
    "        return Mingtu()\n",
    "    elif car_type=='ix35':\n",
    "        return Ix35()\n",
    "        \n",
    "class Car(object):\n",
    "    def move(self):\n",
    "        print('车在移动。。。')\n",
    "    def music(self):\n",
    "        print('正在播放音乐。。。')\n",
    "    def stop(self):\n",
    "        print('车在停止。。。')\n",
    "        \n",
    "\n",
    "class Suonata(Car):#继承\n",
    "    pass\n",
    "    \n",
    "class Mingtu(Car):\n",
    "    pass\n",
    "\n",
    "class Ix35(Car):\n",
    "    pass\n",
    "        \n",
    "car_store = CarStore()\n",
    "car = car_store.order('索纳塔')#预定车的方法\n",
    "car.move()\n",
    "car.music()\n",
    "car.stop()\n",
    "#每次添加汽车种类，都得手动改店铺中的elif，耦合性太强，麻烦，应该分开，不影响才好。"
   ]
  },
  {
   "cell_type": "code",
   "execution_count": 14,
   "metadata": {
    "collapsed": false
   },
   "outputs": [
    {
     "name": "stdout",
     "output_type": "stream",
     "text": [
      "车在移动。。。\n",
      "正在播放音乐。。。\n",
      "车在停止。。。\n"
     ]
    }
   ],
   "source": [
    "#设计卖车的4s店\n",
    "#使用类解耦：方便升级某模块，通过定义额外函数达到效果\n",
    "#类像中介，不用修改了，修改函数就好，分工明确，不干扰。\n",
    "class CarStore(object):\n",
    "    \n",
    "    def __init__(self):\n",
    "        self.factory = Factory()#运行时自动创建了一个工厂当成了我的属性\n",
    "    \n",
    "    def order(self,car_type):\n",
    "        return self.factory.select_car_by_type(car_type)\n",
    "\n",
    "class Factory(object):\n",
    "    def select_car_by_type(self,car_type):#是函数不是方法，在类外定义，并且没有self\n",
    "        if car_type=='索纳塔':\n",
    "            return Suonata()\n",
    "        elif car_type=='名图':  \n",
    "            return Mingtu()\n",
    "        elif car_type=='ix35':\n",
    "            return Ix35()\n",
    "        \n",
    "class Car(object):\n",
    "    def move(self):\n",
    "        print('车在移动。。。')\n",
    "    def music(self):\n",
    "        print('正在播放音乐。。。')\n",
    "    def stop(self):\n",
    "        print('车在停止。。。')\n",
    "        \n",
    "\n",
    "class Suonata(Car):#继承\n",
    "    pass\n",
    "    \n",
    "class Mingtu(Car):\n",
    "    pass\n",
    "\n",
    "class Ix35(Car):\n",
    "    pass\n",
    "        \n",
    "car_store = CarStore()\n",
    "car = car_store.order('索纳塔')#预定车的方法\n",
    "car.move()\n",
    "car.music()\n",
    "car.stop()\n",
    "#每次添加汽车种类，都得手动改店铺中的elif，耦合性太强，麻烦，应该分开，不影响才好。"
   ]
  },
  {
   "cell_type": "code",
   "execution_count": 15,
   "metadata": {
    "collapsed": true
   },
   "outputs": [],
   "source": [
    "#设计模式：在程序中为了解决某类问题时调用的一些模版和套路\n",
    "#上面的是：简单工厂模式"
   ]
  },
  {
   "cell_type": "code",
   "execution_count": 16,
   "metadata": {
    "collapsed": false
   },
   "outputs": [
    {
     "name": "stdout",
     "output_type": "stream",
     "text": [
      "车在移动....\n",
      "正在播放音乐....\n",
      "车在停止....\n"
     ]
    }
   ],
   "source": [
    "#再加一个BMW的工厂,把功能推到子类实现\n",
    "#流程规定好，并且放在了基类里，方法定义在父类却不实现(因为我不知道是北京现代还是BMW）\n",
    "#，方法放在子类实现，这种称为工厂方法模式\n",
    "\n",
    "\n",
    "#设计卖车的4s店\n",
    "\n",
    "\n",
    "class Store(object):\n",
    "\n",
    "    def select_car(self):\n",
    "        pass\n",
    "\n",
    "    def order(self, car_type):\n",
    "        return self.select_car(car_type)\n",
    "\n",
    "class BMWCarStore(Store):\n",
    "    def select_car(self, car_type):\n",
    "        return BMWFactory().select_car_by_type(car_type)\n",
    "\n",
    "class BMWFactory(object):\n",
    "\tdef select_car_by_type(self, car_type):\n",
    "\t\tpass\n",
    "\t\t# if car_type==\"mini\":\n",
    "\t\t# \treturn Suonata()\n",
    "\t\t# elif car_type==\"720li\":\n",
    "\t\t# \treturn Mingtu()\n",
    "\t\t# elif car_type==\"x6\":\n",
    "\t\t# \treturn Ix35()\n",
    "\n",
    "bmw_store = BMWCarStore()\n",
    "bmw = bmw_store.order(\"720li\")\n",
    "\n",
    "\n",
    "\n",
    "class CarStore(Store):\n",
    "\tdef select_car(self, car_type):\n",
    "\t\treturn Factory().select_car_by_type(car_type)\n",
    "\n",
    "class Factory(object):\n",
    "\tdef select_car_by_type(self, car_type):\n",
    "\t\tif car_type==\"索纳塔\":\n",
    "\t\t\treturn Suonata()\n",
    "\t\telif car_type==\"名图\":\n",
    "\t\t\treturn Mingtu()\n",
    "\t\telif car_type==\"ix35\":\n",
    "\t\t\treturn Ix35()\n",
    "\n",
    "class Car(object):\n",
    "\tdef move(self):\n",
    "\t\tprint(\"车在移动....\")\n",
    "\tdef music(self):\n",
    "\t\tprint(\"正在播放音乐....\")\n",
    "\tdef stop(self):\n",
    "\t\tprint(\"车在停止....\")\n",
    "\n",
    "class Suonata(Car):\n",
    "\tpass\n",
    "\n",
    "class Mingtu(Car):\n",
    "\tpass\n",
    "\n",
    "class Ix35(Car):\n",
    "\tpass\n",
    "\n",
    "car_store = CarStore()\n",
    "car = car_store.order(\"索纳塔\")\n",
    "car.move()\n",
    "car.music()\n",
    "car.stop()"
   ]
  },
  {
   "cell_type": "code",
   "execution_count": null,
   "metadata": {
    "collapsed": true
   },
   "outputs": [],
   "source": []
  }
 ],
 "metadata": {
  "anaconda-cloud": {},
  "kernelspec": {
   "display_name": "Python [Root]",
   "language": "python",
   "name": "Python [Root]"
  },
  "language_info": {
   "codemirror_mode": {
    "name": "ipython",
    "version": 3
   },
   "file_extension": ".py",
   "mimetype": "text/x-python",
   "name": "python",
   "nbconvert_exporter": "python",
   "pygments_lexer": "ipython3",
   "version": "3.5.2"
  }
 },
 "nbformat": 4,
 "nbformat_minor": 0
}
