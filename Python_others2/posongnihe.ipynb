{
 "cells": [
  {
   "cell_type": "code",
   "execution_count": 7,
   "metadata": {
    "collapsed": true
   },
   "outputs": [],
   "source": [
    "import numpy as np  \n",
    "import matplotlib.pyplot as plt  \n",
    "#x的个数决定了样本量\n",
    "x = np.arange(-1,1,0.02) \n",
    "#y为理想函数 \n",
    "y = 2*np.sin(x*2.3)+0.5*x**3\n",
    "#y1为离散的拟合数据\n",
    "y1 = y+0.5*(np.random.rand(len(x))-0.5)\n",
    "plt.plot(x,y,color='g',linestyle='-',marker='',label=u'理想曲线') \n",
    "plt.plot(x,y1,color='m',linestyle='',marker='o',label=u'拟合数据')\n",
    "#plt.plot(x,yy,color='b',linestyle='-',marker='.',label=u\"拟合曲线\") \n",
    "# 把拟合的曲线在这里画出来\n",
    "plt.legend(loc='upper left')\n",
    "plt.show()"
   ]
  },
  {
   "cell_type": "code",
   "execution_count": null,
   "metadata": {
    "collapsed": false
   },
   "outputs": [],
   "source": [
    "#-*- coding:utf-8 -*-  \n",
    "import numpy as np  \n",
    "  \n",
    "from guiqwt.widgets.fit import FitParam, guifit  \n",
    "  \n",
    "def test():  \n",
    "    x = np.linspace(-10, 10, 1000)  \n",
    "    y = np.cos(1.5*x)+np.random.rand(x.shape[0])*.2  \n",
    "      \n",
    "    def fit(x, params):  \n",
    "        a, b = params  \n",
    "        return np.cos(b*x)+a  \n",
    "      \n",
    "    a = FitParam(\"Offset\", 1., 0., 2.)  \n",
    "    b = FitParam(\"Frequency\", 2., 1., 10., logscale=True)  \n",
    "    params = [a, b]  \n",
    "    values = guifit(x, y, fit, params, xlabel=\"Time (s)\", ylabel=\"Power (a.u.)\")  \n",
    "      \n",
    "    print(values)  \n",
    "    print([param.value for param in params])  \n",
    "  \n",
    "if __name__ == \"__main__\":  \n",
    "    test()  "
   ]
  },
  {
   "cell_type": "code",
   "execution_count": null,
   "metadata": {
    "collapsed": true
   },
   "outputs": [],
   "source": []
  }
 ],
 "metadata": {
  "anaconda-cloud": {},
  "kernelspec": {
   "display_name": "Python [Root]",
   "language": "python",
   "name": "Python [Root]"
  },
  "language_info": {
   "codemirror_mode": {
    "name": "ipython",
    "version": 3
   },
   "file_extension": ".py",
   "mimetype": "text/x-python",
   "name": "python",
   "nbconvert_exporter": "python",
   "pygments_lexer": "ipython3",
   "version": "3.5.2"
  }
 },
 "nbformat": 4,
 "nbformat_minor": 0
}
