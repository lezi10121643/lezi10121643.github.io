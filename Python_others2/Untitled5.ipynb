{
 "cells": [
  {
   "cell_type": "code",
   "execution_count": 1,
   "metadata": {
    "collapsed": true
   },
   "outputs": [],
   "source": [
    "import requests\n",
    "import re\n",
    "res=requests.get('http://news.uc.cn/')#res.text#显示内容"
   ]
  },
  {
   "cell_type": "code",
   "execution_count": 11,
   "metadata": {
    "collapsed": false
   },
   "outputs": [
    {
     "name": "stdout",
     "output_type": "stream",
     "text": [
      "[<a data-v-2472af8d=\"\" href=\"/a_12234334173391096018/\" style=\"-webkit-box-orient:vertical\" target=\"_blank\" title=\"63岁陈佩斯全家近照, 16年后重返央视, 儿子海龟子承父业!\">63岁陈佩斯全家近照, 16年后重返央视, 儿子海龟子承父业!</a>, <a data-v-2472af8d=\"\" href=\"/a_173018049055721937/\" style=\"-webkit-box-orient:vertical\" target=\"_blank\" title=\"OPPO在年轻人中的品牌忠诚度位居国产第一\">OPPO在年轻人中的品牌忠诚度位居国产第一</a>, <a data-v-2472af8d=\"\" href=\"/a_1173318441350654563/\" style=\"-webkit-box-orient:vertical\" target=\"_blank\" title=\"苹果手机售后调整 iPhone SE用户受惠\">苹果手机售后调整 iPhone SE用户受惠</a>, <a data-v-2472af8d=\"\" href=\"/a_7220596676638272648/\" style=\"-webkit-box-orient:vertical\" target=\"_blank\" title=\"本山大叔陪女儿直播 好感动!\">本山大叔陪女儿直播 好感动!</a>, <a data-v-2472af8d=\"\" href=\"/a_11617667060830507499/\" style=\"-webkit-box-orient:vertical\" target=\"_blank\" title=\"苹果新版iMac正在路上 下个月就开始量产\">苹果新版iMac正在路上 下个月就开始量产</a>]\n"
     ]
    }
   ],
   "source": [
    "from bs4 import BeautifulSoup\n",
    "domain='http://news.uc.cn/'\n",
    "soup = BeautifulSoup(res.text,'html.parser')\n",
    "#print(soup)\n",
    "a=soup.select('.txt-area-title a')   \n",
    "print(a)\n",
    "#pat=\n",
    "#result=re.compile(pat).findall(str(i,\"utf-8\"))\n",
    "    #print(i.select('.txt-area-title a')[0].text.strip())\n",
    "    #print('===============================================================')"
   ]
  },
  {
   "cell_type": "code",
   "execution_count": null,
   "metadata": {
    "collapsed": true
   },
   "outputs": [],
   "source": [
    "\n",
    "\n"
   ]
  }
 ],
 "metadata": {
  "anaconda-cloud": {},
  "kernelspec": {
   "display_name": "Python [Root]",
   "language": "python",
   "name": "Python [Root]"
  },
  "language_info": {
   "codemirror_mode": {
    "name": "ipython",
    "version": 3
   },
   "file_extension": ".py",
   "mimetype": "text/x-python",
   "name": "python",
   "nbconvert_exporter": "python",
   "pygments_lexer": "ipython3",
   "version": "3.5.2"
  }
 },
 "nbformat": 4,
 "nbformat_minor": 0
}
