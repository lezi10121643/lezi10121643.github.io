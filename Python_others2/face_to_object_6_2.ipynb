{
 "cells": [
  {
   "cell_type": "code",
   "execution_count": 1,
   "metadata": {
    "collapsed": true
   },
   "outputs": [],
   "source": [
    "#__new__方法"
   ]
  },
  {
   "cell_type": "code",
   "execution_count": 2,
   "metadata": {
    "collapsed": false
   },
   "outputs": [
    {
     "name": "stdout",
     "output_type": "stream",
     "text": [
      "-----new方法-----\n"
     ]
    }
   ],
   "source": [
    "class Dog(object):\n",
    "    def __init__(self):\n",
    "        print('-----init方法-----')\n",
    "    def __del__(self):\n",
    "        print('-----del方法-----')\n",
    "    def __str__(self):\n",
    "        print('-----str方法-----')\n",
    "        return '对象的描述信息'\n",
    "    def __new__(cls):#参数是类\n",
    "        print('-----new方法-----')\n",
    "        \n",
    "xtq = Dog()\n",
    "\n",
    "#1.创建一个对象\n",
    "#2.调用__init__方法\n",
    "#3.返回对象的应用"
   ]
  },
  {
   "cell_type": "code",
   "execution_count": 3,
   "metadata": {
    "collapsed": false
   },
   "outputs": [
    {
     "name": "stdout",
     "output_type": "stream",
     "text": [
      "56403208\n",
      "56403208\n",
      "-----new方法-----\n"
     ]
    }
   ],
   "source": [
    "class Dog(object):\n",
    "    def __init__(self):\n",
    "        print('-----init方法-----')\n",
    "    def __del__(self):\n",
    "        print('-----del方法-----')\n",
    "    def __str__(self):\n",
    "        print('-----str方法-----')\n",
    "        return '对象的描述信息'\n",
    "    def __new__(cls):#参数是类，cls此时是Dog指向的那个类对象。\n",
    "        print(id(cls))\n",
    "        print('-----new方法-----')\n",
    "\n",
    "print(id(Dog))#类也是对象，所以能看id        \n",
    "        \n",
    "xtq = Dog()\n",
    "\n",
    "#1.创建一个对象\n",
    "#2.调用__init__方法\n",
    "#3.返回对象的应用"
   ]
  },
  {
   "cell_type": "code",
   "execution_count": 4,
   "metadata": {
    "collapsed": true
   },
   "outputs": [],
   "source": [
    "#打印出同一个地址"
   ]
  },
  {
   "cell_type": "code",
   "execution_count": 6,
   "metadata": {
    "collapsed": false
   },
   "outputs": [
    {
     "name": "stdout",
     "output_type": "stream",
     "text": [
      "-----new方法-----\n",
      "-----init方法-----\n",
      "-----del方法-----\n"
     ]
    }
   ],
   "source": [
    "class Dog(object):\n",
    "    def __init__(self):\n",
    "        print('-----init方法-----')\n",
    "    def __del__(self):\n",
    "        print('-----del方法-----')\n",
    "    def __str__(self):\n",
    "        print('-----str方法-----')\n",
    "        return '对象的描述信息'\n",
    "    def __new__(cls):#参数是类，cls此时是Dog指向的那个类对象。\n",
    "        #print(id(cls))\n",
    "        print('-----new方法-----')\n",
    "        return object.__new__(cls)#调用父类，返回创建对象的引用\n",
    "\n",
    "#print(id(Dog))#类也是对象，所以能看id        \n",
    "        \n",
    "xtq = Dog()\n",
    "\n",
    "#1.创建一个对象\n",
    "#2.调用__init__方法\n",
    "#3.返回对象的应用"
   ]
  },
  {
   "cell_type": "code",
   "execution_count": 7,
   "metadata": {
    "collapsed": true
   },
   "outputs": [],
   "source": [
    "#上文过程\n",
    "#相当于要做三件事情：\n",
    "#1.变量 = 调用__new__方法来创建对象，然后找了一个变量来接收__new__的返回值\n",
    "#这个返回值表示  创建出来的对象引用\n",
    "#2.调用__init__() （刚刚创建出来得对象的引用）\n",
    "#3.返回对象的引用 \n",
    "#__new__()方法只负责创建对象  __init__()只负责初始化  \n",
    "#他们两个完成的事情就是构造方法做的事情"
   ]
  },
  {
   "cell_type": "code",
   "execution_count": 8,
   "metadata": {
    "collapsed": false
   },
   "outputs": [
    {
     "name": "stdout",
     "output_type": "stream",
     "text": [
      "65904592\n",
      "65904536\n"
     ]
    }
   ],
   "source": [
    "#单例:创建的指向同一个对象\n",
    "#创建单例对象\n",
    "class Dog(object):\n",
    "    pass\n",
    "\n",
    "a = Dog()\n",
    "print(id(a))\n",
    "b = Dog()\n",
    "print(id(b))"
   ]
  },
  {
   "cell_type": "code",
   "execution_count": 9,
   "metadata": {
    "collapsed": true
   },
   "outputs": [],
   "source": [
    "#上文不是指向同一个对象"
   ]
  },
  {
   "cell_type": "code",
   "execution_count": 10,
   "metadata": {
    "collapsed": false
   },
   "outputs": [
    {
     "name": "stdout",
     "output_type": "stream",
     "text": [
      "1350931488\n",
      "1350931488\n"
     ]
    }
   ],
   "source": [
    "#单例:创建的指向同一个对象\n",
    "#创建单例对象\n",
    "class Dog(object):\n",
    "    \n",
    "    __instance = None#私有类属性\n",
    "    \n",
    "    def __new__(cls):\n",
    "        if cls.__instance ==None:\n",
    "            cls.__instance == object.__new__(cls)\n",
    "            return cls.__instance\n",
    "        else:\n",
    "            #return 上一次创建的对象的引用\n",
    "            return cls.__instance\n",
    "        \n",
    "a = Dog()\n",
    "print(id(a))\n",
    "b = Dog()\n",
    "print(id(b))"
   ]
  },
  {
   "cell_type": "code",
   "execution_count": 11,
   "metadata": {
    "collapsed": true
   },
   "outputs": [],
   "source": [
    "#上文完成了单例创建"
   ]
  },
  {
   "cell_type": "code",
   "execution_count": 12,
   "metadata": {
    "collapsed": false
   },
   "outputs": [
    {
     "ename": "TypeError",
     "evalue": "__new__() takes 1 positional argument but 2 were given",
     "output_type": "error",
     "traceback": [
      "\u001b[1;31m---------------------------------------------------------------------------\u001b[0m",
      "\u001b[1;31mTypeError\u001b[0m                                 Traceback (most recent call last)",
      "\u001b[1;32m<ipython-input-12-32675d6d1557>\u001b[0m in \u001b[0;36m<module>\u001b[1;34m()\u001b[0m\n\u001b[0;32m     17\u001b[0m         \u001b[0mself\u001b[0m\u001b[1;33m.\u001b[0m\u001b[0mname\u001b[0m \u001b[1;33m=\u001b[0m \u001b[0mname\u001b[0m\u001b[1;33m\u001b[0m\u001b[0m\n\u001b[0;32m     18\u001b[0m \u001b[1;33m\u001b[0m\u001b[0m\n\u001b[1;32m---> 19\u001b[1;33m \u001b[0ma\u001b[0m \u001b[1;33m=\u001b[0m \u001b[0mDog\u001b[0m\u001b[1;33m(\u001b[0m\u001b[1;34m'旺财'\u001b[0m\u001b[1;33m)\u001b[0m\u001b[1;33m\u001b[0m\u001b[0m\n\u001b[0m\u001b[0;32m     20\u001b[0m \u001b[0mprint\u001b[0m\u001b[1;33m(\u001b[0m\u001b[0mid\u001b[0m\u001b[1;33m(\u001b[0m\u001b[0ma\u001b[0m\u001b[1;33m)\u001b[0m\u001b[1;33m)\u001b[0m\u001b[1;33m\u001b[0m\u001b[0m\n\u001b[0;32m     21\u001b[0m \u001b[0mprint\u001b[0m\u001b[1;33m(\u001b[0m\u001b[0ma\u001b[0m\u001b[1;33m.\u001b[0m\u001b[0mname\u001b[0m\u001b[1;33m)\u001b[0m\u001b[1;33m\u001b[0m\u001b[0m\n",
      "\u001b[1;31mTypeError\u001b[0m: __new__() takes 1 positional argument but 2 were given"
     ]
    }
   ],
   "source": [
    "#只初始化一次对象\n",
    "#单例:创建的指向同一个对象\n",
    "#创建单例对象\n",
    "class Dog(object):\n",
    "    \n",
    "    __instance = None#私有类属性\n",
    "    \n",
    "    def __new__(cls):\n",
    "        if cls.__instance ==None:\n",
    "            cls.__instance == object.__new__(cls)\n",
    "            return cls.__instance\n",
    "        else:\n",
    "            #return 上一次创建的对象的引用\n",
    "            return cls.__instance\n",
    "     \n",
    "    def __init__(self,name):\n",
    "        self.name = name\n",
    "    \n",
    "a = Dog('旺财')\n",
    "print(id(a))\n",
    "print(a.name)\n",
    "\n",
    "b = Dog('哮天犬')\n",
    "print(id(b))\n",
    "print(b.name)"
   ]
  },
  {
   "cell_type": "code",
   "execution_count": 13,
   "metadata": {
    "collapsed": true
   },
   "outputs": [],
   "source": [
    "#TypeError: __new__() takes 1 positional argument but 2 were given\n",
    "#TypeError: __new__() 需要一个参数，但是你给了两个（先new再init）"
   ]
  },
  {
   "cell_type": "code",
   "execution_count": 16,
   "metadata": {
    "collapsed": false
   },
   "outputs": [
    {
     "name": "stdout",
     "output_type": "stream",
     "text": [
      "69005384\n",
      "旺财\n",
      "69005384\n",
      "哮天犬\n"
     ]
    }
   ],
   "source": [
    "#new执行一次，init执行了两次\n",
    "#单例:创建的指向同一个对象\n",
    "#创建单例对象\n",
    "class Dog(object):\n",
    "    \n",
    "    __instance = None#私有类属性\n",
    "    \n",
    "    def __new__(cls,name):#加个name参数，不用，为了不报错\n",
    "        if cls.__instance ==None:\n",
    "            cls.__instance = object.__new__(cls)\n",
    "            return cls.__instance\n",
    "        else:\n",
    "            #return 上一次创建的对象的引用\n",
    "            return cls.__instance\n",
    "     \n",
    "    def __init__(self,name):\n",
    "        self.name = name\n",
    "    \n",
    "a = Dog('旺财')\n",
    "print(id(a))\n",
    "print(a.name)\n",
    "\n",
    "b = Dog('哮天犬')\n",
    "print(id(b))\n",
    "print(b.name)"
   ]
  },
  {
   "cell_type": "code",
   "execution_count": 19,
   "metadata": {
    "collapsed": false
   },
   "outputs": [
    {
     "name": "stdout",
     "output_type": "stream",
     "text": [
      "69061544\n",
      "旺财\n",
      "69061544\n",
      "旺财\n"
     ]
    }
   ],
   "source": [
    "#new执行一次，init执行了两次\n",
    "#单例:创建的指向同一个对象\n",
    "#创建单例对象\n",
    "class Dog(object):\n",
    "    \n",
    "    __instance = None#私有类属性\n",
    "    __init_flag = False\n",
    "    \n",
    "    def __new__(cls,name):#加个name参数，不用，为了不报错\n",
    "        if cls.__instance ==None:\n",
    "            cls.__instance = object.__new__(cls)\n",
    "            return cls.__instance\n",
    "        else:\n",
    "            #return 上一次创建的对象的引用\n",
    "            return cls.__instance\n",
    "     \n",
    "    def __init__(self,name):\n",
    "        if Dog.__init_flag == False:\n",
    "            self.name = name\n",
    "            Dog.__init_flag =True\n",
    "    \n",
    "a = Dog('旺财')\n",
    "print(id(a))\n",
    "print(a.name)\n",
    "\n",
    "b = Dog('哮天犬')\n",
    "print(id(b))\n",
    "print(b.name)"
   ]
  },
  {
   "cell_type": "code",
   "execution_count": 20,
   "metadata": {
    "collapsed": true
   },
   "outputs": [],
   "source": [
    "#上文if判断让其只初始化（init)一次"
   ]
  },
  {
   "cell_type": "code",
   "execution_count": 21,
   "metadata": {
    "collapsed": false
   },
   "outputs": [
    {
     "name": "stdout",
     "output_type": "stream",
     "text": [
      "如果捕获到异常后做的处理。。。\n"
     ]
    }
   ],
   "source": [
    "#异常\n",
    "#就是 程序崩了  出现错误\n",
    "\n",
    "try:\n",
    "    print(num)\n",
    "    \n",
    "    \n",
    "except NameError:#异常的名字\n",
    "    print('如果捕获到异常后做的处理。。。')"
   ]
  },
  {
   "cell_type": "code",
   "execution_count": 22,
   "metadata": {
    "collapsed": false
   },
   "outputs": [
    {
     "name": "stdout",
     "output_type": "stream",
     "text": [
      "如果捕获到异常后做的处理。。。\n",
      "-----2-----\n"
     ]
    }
   ],
   "source": [
    "#异常\n",
    "#就是 程序崩了  出现错误\n",
    "\n",
    "try:\n",
    "    print(num)\n",
    "    print('-----1-----')\n",
    "    \n",
    "except NameError:#异常的名字\n",
    "    print('如果捕获到异常后做的处理。。。')\n",
    "    \n",
    "print('-----2-----')"
   ]
  },
  {
   "cell_type": "code",
   "execution_count": 23,
   "metadata": {
    "collapsed": true
   },
   "outputs": [],
   "source": [
    "#上文异常之后的没执行！print ---1--- 那个\n"
   ]
  },
  {
   "cell_type": "code",
   "execution_count": 24,
   "metadata": {
    "collapsed": false
   },
   "outputs": [
    {
     "ename": "FileNotFoundError",
     "evalue": "[Errno 2] No such file or directory: 'xxx.txt'",
     "output_type": "error",
     "traceback": [
      "\u001b[1;31m---------------------------------------------------------------------------\u001b[0m",
      "\u001b[1;31mFileNotFoundError\u001b[0m                         Traceback (most recent call last)",
      "\u001b[1;32m<ipython-input-24-37f2bc5c666d>\u001b[0m in \u001b[0;36m<module>\u001b[1;34m()\u001b[0m\n\u001b[0;32m      3\u001b[0m \u001b[1;33m\u001b[0m\u001b[0m\n\u001b[0;32m      4\u001b[0m \u001b[1;32mtry\u001b[0m\u001b[1;33m:\u001b[0m\u001b[1;33m\u001b[0m\u001b[0m\n\u001b[1;32m----> 5\u001b[1;33m     \u001b[0mopen\u001b[0m\u001b[1;33m(\u001b[0m\u001b[1;34m'xxx.txt'\u001b[0m\u001b[1;33m)\u001b[0m\u001b[1;33m\u001b[0m\u001b[0m\n\u001b[0m\u001b[0;32m      6\u001b[0m     \u001b[0mprint\u001b[0m\u001b[1;33m(\u001b[0m\u001b[0mnum\u001b[0m\u001b[1;33m)\u001b[0m\u001b[1;33m\u001b[0m\u001b[0m\n\u001b[0;32m      7\u001b[0m     \u001b[0mprint\u001b[0m\u001b[1;33m(\u001b[0m\u001b[1;34m'-----1-----'\u001b[0m\u001b[1;33m)\u001b[0m\u001b[1;33m\u001b[0m\u001b[0m\n",
      "\u001b[1;31mFileNotFoundError\u001b[0m: [Errno 2] No such file or directory: 'xxx.txt'"
     ]
    }
   ],
   "source": [
    "#异常\n",
    "#就是 程序崩了  出现错误\n",
    "\n",
    "try:\n",
    "    open('xxx.txt')\n",
    "    print(num)\n",
    "    print('-----1-----')\n",
    "    \n",
    "except NameError:#异常的名字\n",
    "    print('如果捕获到异常后做的处理。。。')\n",
    "    \n",
    "print('-----2-----')"
   ]
  },
  {
   "cell_type": "code",
   "execution_count": 25,
   "metadata": {
    "collapsed": false
   },
   "outputs": [
    {
     "name": "stdout",
     "output_type": "stream",
     "text": [
      "文件不存在...\n",
      "-----2-----\n"
     ]
    }
   ],
   "source": [
    "#上文出现的异常不是我们提前指定的except异常名字\n",
    "\n",
    "#所以要提前指定可能的异常 \n",
    "#异常\n",
    "#就是 程序崩了  出现错误\n",
    "\n",
    "try:\n",
    "    open('xxx.txt')\n",
    "    print(num)\n",
    "    print('-----1-----')\n",
    "    \n",
    "except NameError:#异常的名字\n",
    "    print('如果捕获到异常后做的处理。。。')\n",
    "    \n",
    "except FileNotFoundError:\n",
    "    print('文件不存在...')\n",
    "    \n",
    "print('-----2-----')"
   ]
  },
  {
   "cell_type": "code",
   "execution_count": 29,
   "metadata": {
    "collapsed": false
   },
   "outputs": [
    {
     "name": "stdout",
     "output_type": "stream",
     "text": [
      "如果捕获到异常后做的处理。。。\n",
      "-----2-----\n"
     ]
    }
   ],
   "source": [
    "#上文出现的异常不是我们提前指定的except异常名字\n",
    "\n",
    "#所以要提前指定可能的异常 \n",
    "#异常\n",
    "#就是 程序崩了  出现错误\n",
    "\n",
    "try:\n",
    "    open('xxx.txt')\n",
    "    print(num)\n",
    "    print('-----1-----')\n",
    "    \n",
    "except (NameError,FileNotFoundError):#用元组放异常的名字，多个异常捕获\n",
    "    print('如果捕获到异常后做的处理。。。')\n",
    "\n",
    "print('-----2-----')"
   ]
  },
  {
   "cell_type": "code",
   "execution_count": 31,
   "metadata": {
    "collapsed": false
   },
   "outputs": [
    {
     "name": "stdout",
     "output_type": "stream",
     "text": [
      "用了Except，如果上面的except没有捕获到这个异常，这个except一定会捕获到\n",
      "-----2-----\n"
     ]
    }
   ],
   "source": [
    "#上文出现的异常不是我们提前指定的except异常名字\n",
    "\n",
    "#所以要提前指定可能的异常 \n",
    "#异常\n",
    "#就是 程序崩了  出现错误\n",
    "\n",
    "try:\n",
    "    11/0\n",
    "    open('xxx.txt')\n",
    "    print(num)\n",
    "    print('-----1-----')\n",
    "    \n",
    "except (NameError,FileNotFoundError):#用元组放异常的名字，多个异常捕获\n",
    "    print('如果捕获到异常后做的处理。。。')\n",
    "except Exception:\n",
    "    print('用了Except，如果上面的except没有捕获到这个异常，这个except一定会捕获到')\n",
    "    \n",
    "print('-----2-----')"
   ]
  },
  {
   "cell_type": "code",
   "execution_count": 32,
   "metadata": {
    "collapsed": false
   },
   "outputs": [
    {
     "name": "stdout",
     "output_type": "stream",
     "text": [
      "用了Except，如果上面的except没有捕获到这个异常，这个except一定会捕获到\n",
      "division by zero\n",
      "-----2-----\n"
     ]
    }
   ],
   "source": [
    "#上文出现的异常不是我们提前指定的except异常名字\n",
    "\n",
    "#所以要提前指定可能的异常 \n",
    "#异常\n",
    "#就是 程序崩了  出现错误\n",
    "\n",
    "\n",
    "#想知道异常的情况\n",
    "\n",
    "try:\n",
    "    11/0\n",
    "    open('xxx.txt')\n",
    "    print(num)\n",
    "    print('-----1-----')\n",
    "    \n",
    "except (NameError,FileNotFoundError):#用元组放异常的名字，多个异常捕获\n",
    "    print('如果捕获到异常后做的处理。。。')\n",
    "except Exception as ret:\n",
    "    print('用了Except，如果上面的except没有捕获到这个异常，这个except一定会捕获到')\n",
    "    print(ret)\n",
    "    \n",
    "print('-----2-----')"
   ]
  },
  {
   "cell_type": "code",
   "execution_count": 33,
   "metadata": {
    "collapsed": true
   },
   "outputs": [],
   "source": [
    "#division by zero 则是异常的原因"
   ]
  },
  {
   "cell_type": "code",
   "execution_count": 37,
   "metadata": {
    "collapsed": false
   },
   "outputs": [
    {
     "name": "stdout",
     "output_type": "stream",
     "text": [
      "用了Except，如果上面的except没有捕获到这个异常，这个except一定会捕获到\n",
      "division by zero\n",
      "---------finally----------\n",
      "-----2-----\n"
     ]
    }
   ],
   "source": [
    "#上文出现的异常不是我们提前指定的except异常名字\n",
    "\n",
    "#所以要提前指定可能的异常 \n",
    "#异常\n",
    "#就是 程序崩了  出现错误\n",
    "\n",
    "\n",
    "#想知道异常的情况\n",
    "\n",
    "try:\n",
    "    11/0\n",
    "    open('xxx.txt')\n",
    "    print(num)\n",
    "    print('-----1-----')\n",
    "    \n",
    "except (NameError,FileNotFoundError):#用元组放异常的名字，多个异常捕获\n",
    "    print('如果捕获到异常后做的处理。。。')\n",
    "except Exception as ret:\n",
    "    print('用了Except，如果上面的except没有捕获到这个异常，这个except一定会捕获到')\n",
    "    print(ret)\n",
    "else:\n",
    "    print('没有异常才会执行的功能')#没异常就做这个\n",
    "\n",
    "finally:\n",
    "    #不管代码有没有异常都要执行\n",
    "    print('---------finally----------')\n",
    "    \n",
    "print('-----2-----')\n",
    "\n"
   ]
  },
  {
   "cell_type": "code",
   "execution_count": 38,
   "metadata": {
    "collapsed": true
   },
   "outputs": [],
   "source": [
    "import time\n",
    "time.sleep(2)#延时"
   ]
  },
  {
   "cell_type": "code",
   "execution_count": 40,
   "metadata": {
    "collapsed": true
   },
   "outputs": [],
   "source": [
    "#异常的传递\n",
    "#函数调用时，在调用的函数里异常，则层层传回，直到有异常处理的模块。\n"
   ]
  },
  {
   "cell_type": "code",
   "execution_count": null,
   "metadata": {
    "collapsed": true
   },
   "outputs": [],
   "source": []
  },
  {
   "cell_type": "code",
   "execution_count": 41,
   "metadata": {
    "collapsed": true
   },
   "outputs": [],
   "source": [
    "#在异常处理中抛出异常：把异常抛给系统，不想处理"
   ]
  },
  {
   "cell_type": "code",
   "execution_count": 44,
   "metadata": {
    "collapsed": false
   },
   "outputs": [],
   "source": [
    "#if条件为假\n",
    "\n",
    "if '':\n",
    "    print('haha')\n",
    "    \n",
    "if None:\n",
    "    print('haha')\n",
    "    \n",
    "if 0:\n",
    "    print('haha')\n",
    "    \n",
    "if []:\n",
    "    print('haha')\n",
    "    \n",
    "if {}:\n",
    "    print('haha')\n",
    "    \n",
    "    "
   ]
  },
  {
   "cell_type": "code",
   "execution_count": 45,
   "metadata": {
    "collapsed": false
   },
   "outputs": [
    {
     "name": "stdout",
     "output_type": "stream",
     "text": [
      "haha\n",
      "haha\n",
      "haha\n"
     ]
    }
   ],
   "source": [
    "if 1:\n",
    "    print('haha')\n",
    "    \n",
    "if -1:\n",
    "    print('haha')\n",
    "    \n",
    "if 'a':\n",
    "    print('haha')\n",
    "    "
   ]
  },
  {
   "cell_type": "code",
   "execution_count": 46,
   "metadata": {
    "collapsed": false
   },
   "outputs": [
    {
     "data": {
      "text/plain": [
       "2"
      ]
     },
     "execution_count": 46,
     "metadata": {},
     "output_type": "execute_result"
    }
   ],
   "source": [
    "import random#这叫模块：功能的集合\n",
    "\n",
    "random.randint(0,2)"
   ]
  },
  {
   "cell_type": "code",
   "execution_count": 47,
   "metadata": {
    "collapsed": false
   },
   "outputs": [
    {
     "data": {
      "text/plain": [
       "'C:\\\\Anaconda3\\\\lib\\\\os.py'"
      ]
     },
     "execution_count": 47,
     "metadata": {},
     "output_type": "execute_result"
    }
   ],
   "source": [
    "import os\n",
    "os.__file__ #看到的都是模块，.py都是模块"
   ]
  },
  {
   "cell_type": "code",
   "execution_count": null,
   "metadata": {
    "collapsed": true
   },
   "outputs": [],
   "source": [
    "#；两种导入和使用模块方式\n",
    "\n",
    "imoport xxx\n",
    "xxx.test1()\n",
    "\n",
    "from xxx import test1\n",
    "test1()"
   ]
  },
  {
   "cell_type": "code",
   "execution_count": 48,
   "metadata": {
    "collapsed": true
   },
   "outputs": [],
   "source": [
    " #少用   from xxx import *   如果多个模块里面有相同方法名  后者会顶替前者  "
   ]
  },
  {
   "cell_type": "code",
   "execution_count": 49,
   "metadata": {
    "collapsed": true
   },
   "outputs": [],
   "source": [
    "import time as tt\n",
    "tt.sleep(3)"
   ]
  },
  {
   "cell_type": "code",
   "execution_count": 50,
   "metadata": {
    "collapsed": true
   },
   "outputs": [],
   "source": [
    "#import导入模块的时候   会把模块运行一编"
   ]
  },
  {
   "cell_type": "code",
   "execution_count": 51,
   "metadata": {
    "collapsed": false
   },
   "outputs": [
    {
     "ename": "NameError",
     "evalue": "name 'test1' is not defined",
     "output_type": "error",
     "traceback": [
      "\u001b[1;31m---------------------------------------------------------------------------\u001b[0m",
      "\u001b[1;31mNameError\u001b[0m                                 Traceback (most recent call last)",
      "\u001b[1;32m<ipython-input-51-a7fa2235857f>\u001b[0m in \u001b[0;36m<module>\u001b[1;34m()\u001b[0m\n\u001b[0;32m      3\u001b[0m \u001b[1;33m\u001b[0m\u001b[0m\n\u001b[0;32m      4\u001b[0m \u001b[1;32mif\u001b[0m \u001b[0m__name__\u001b[0m \u001b[1;33m==\u001b[0m \u001b[1;34m'__main__'\u001b[0m\u001b[1;33m:\u001b[0m\u001b[1;31m#自己测试则执行\u001b[0m\u001b[1;33m\u001b[0m\u001b[0m\n\u001b[1;32m----> 5\u001b[1;33m     \u001b[0mtest1\u001b[0m\u001b[1;33m(\u001b[0m\u001b[1;33m)\u001b[0m\u001b[1;33m\u001b[0m\u001b[0m\n\u001b[0m\u001b[0;32m      6\u001b[0m     \u001b[0mtest2\u001b[0m\u001b[1;33m(\u001b[0m\u001b[1;33m)\u001b[0m\u001b[1;33m\u001b[0m\u001b[0m\n",
      "\u001b[1;31mNameError\u001b[0m: name 'test1' is not defined"
     ]
    }
   ],
   "source": [
    "#自己测试执行，别人import我的模块则不执行\n",
    "#print(__name__) \n",
    "\n",
    "if __name__ == '__main__':#自己测试则执行\n",
    "    test1()\n",
    "    test2()"
   ]
  },
  {
   "cell_type": "code",
   "execution_count": null,
   "metadata": {
    "collapsed": false
   },
   "outputs": [],
   "source": [
    "#main：开始执行的地方\n",
    "import xxxx\n",
    "\n",
    "class A(object):\n",
    "    pass\n",
    "\n",
    "def xxx():\n",
    "    pass\n",
    "    \n",
    "def main():\n",
    "    pass\n",
    "\n",
    "if __name__ == '__main__':#完成测试和别人调用兼顾\n",
    "    main()"
   ]
  },
  {
   "cell_type": "code",
   "execution_count": null,
   "metadata": {
    "collapsed": true
   },
   "outputs": [],
   "source": [
    "#创建一个 msg.py里面写：\n",
    "\n",
    "\n",
    "#msg.py 内容\n",
    "\n",
    "__all__ = ['test1','Test']#放进来的才能被别人用，包括类，函数，全局变量等\n",
    "\n",
    "def test1():\n",
    "    print('-----test1-----')\n",
    "    \n",
    "def test2():\n",
    "    print('-----test2-----')\n",
    "    \n",
    "num = 100\n",
    "\n",
    "class Test(object):\n",
    "    pass\n",
    "#----------------------文件内容结束\n",
    "\n",
    "#出来\n",
    "\n",
    "from msg import * \n",
    "\n",
    "t = Test()#可用\n",
    "\n",
    "test1()#可用\n",
    "\n",
    "num#不能用\n",
    "\n"
   ]
  },
  {
   "cell_type": "code",
   "execution_count": null,
   "metadata": {
    "collapsed": true
   },
   "outputs": [],
   "source": [
    "#包、__init__.py的作用\n",
    "sendmsg.py\n",
    "里面写\n",
    "def test1():\n",
    "    print('-----sendmsg-test1-----')\n",
    "recvmsg.py\n",
    "里面写\n",
    "def test2():\n",
    "    print('-----recvmsg-test2-----')\n",
    "\n",
    "imfordisplay.py\n",
    "里面写\n",
    "def test3():\n",
    "    print('-----infordisplay-test3-----')\n",
    "\n",
    "    \n",
    "前两个类似\n",
    "放一起\n",
    "建立TestMsg文件夹放这两个\n",
    "必须要在该文件夹下创建一个__init__.py文件（没内容没事）\n",
    "则python会把该文件夹叫做包\n",
    "一个py文件叫模块\n",
    "\n",
    "import TestMsg\n",
    "\n",
    "在__init__.py里写入\n",
    "\n",
    "__all__ = ['sengmsg']#写入的模块才能使用\n",
    "\n",
    "然后\n",
    "\n",
    "from TestMsg import *\n",
    "\n",
    "sendmsg.test1()这时可以使用\n",
    "\n",
    "在__init__.py里写入\n",
    "\n",
    "print('haha')\n",
    "\n",
    "则import TestMsg#导入这个包时候  会执行包里的__init__.py 文件\n",
    "\n",
    "在__init__.py 文件里写：\n",
    "__all__ = ['sengmsg']#写入的模块才能使用\n",
    "from . import sendmsg\n",
    "\n",
    "所以import TestMsg时会导入这个sendmsg模块\n",
    "\n",
    "可直接使用TestMsg.sengmsg.test1()\n",
    "\n"
   ]
  },
  {
   "cell_type": "code",
   "execution_count": null,
   "metadata": {
    "collapsed": true
   },
   "outputs": [],
   "source": [
    "#模块的发布安装\n",
    "setup.py\n",
    "写那串代码\n",
    "\n"
   ]
  },
  {
   "cell_type": "code",
   "execution_count": null,
   "metadata": {
    "collapsed": true
   },
   "outputs": [],
   "source": [
    "#给程序传参数\n",
    "\n",
    "import sys\n",
    "\n",
    "print(sys.argv)\n",
    "\n",
    "name = sys.argv[1]#[0]是程序名\n",
    "\n",
    "print('热烈欢迎 %s的到来'%name)"
   ]
  },
  {
   "cell_type": "code",
   "execution_count": 1,
   "metadata": {
    "collapsed": false
   },
   "outputs": [
    {
     "data": {
      "text/plain": [
       "range(0, 10)"
      ]
     },
     "execution_count": 1,
     "metadata": {},
     "output_type": "execute_result"
    }
   ],
   "source": [
    "#列表生成器\n",
    "\n",
    "range(10)"
   ]
  },
  {
   "cell_type": "code",
   "execution_count": 2,
   "metadata": {
    "collapsed": false
   },
   "outputs": [
    {
     "data": {
      "text/plain": [
       "range(10, 18)"
      ]
     },
     "execution_count": 2,
     "metadata": {},
     "output_type": "execute_result"
    }
   ],
   "source": [
    "range(10,18)"
   ]
  },
  {
   "cell_type": "code",
   "execution_count": 3,
   "metadata": {
    "collapsed": false
   },
   "outputs": [
    {
     "data": {
      "text/plain": [
       "range(10, 18, 3)"
      ]
     },
     "execution_count": 3,
     "metadata": {},
     "output_type": "execute_result"
    }
   ],
   "source": [
    "range(10,18,3)"
   ]
  },
  {
   "cell_type": "code",
   "execution_count": 5,
   "metadata": {
    "collapsed": false
   },
   "outputs": [
    {
     "data": {
      "text/plain": [
       "range(1, 1000000000000000000000000000000)"
      ]
     },
     "execution_count": 5,
     "metadata": {},
     "output_type": "execute_result"
    }
   ],
   "source": [
    "#Python2中 range的风险,如果要了巨大内存空间，没用或者用了太大空间\n",
    "\n",
    "range(1,1000000000000000000000000000000)"
   ]
  },
  {
   "cell_type": "code",
   "execution_count": 6,
   "metadata": {
    "collapsed": true
   },
   "outputs": [],
   "source": [
    "a = [i for i in range(1,18)]  #列表生成式"
   ]
  },
  {
   "cell_type": "code",
   "execution_count": 7,
   "metadata": {
    "collapsed": false
   },
   "outputs": [
    {
     "data": {
      "text/plain": [
       "[1, 2, 3, 4, 5, 6, 7, 8, 9, 10, 11, 12, 13, 14, 15, 16, 17]"
      ]
     },
     "execution_count": 7,
     "metadata": {},
     "output_type": "execute_result"
    }
   ],
   "source": [
    "a"
   ]
  },
  {
   "cell_type": "code",
   "execution_count": 8,
   "metadata": {
    "collapsed": true
   },
   "outputs": [],
   "source": [
    "a = [11 for i in range(1,18)]"
   ]
  },
  {
   "cell_type": "code",
   "execution_count": 9,
   "metadata": {
    "collapsed": false
   },
   "outputs": [
    {
     "data": {
      "text/plain": [
       "[11, 11, 11, 11, 11, 11, 11, 11, 11, 11, 11, 11, 11, 11, 11, 11, 11]"
      ]
     },
     "execution_count": 9,
     "metadata": {},
     "output_type": "execute_result"
    }
   ],
   "source": [
    "a"
   ]
  },
  {
   "cell_type": "code",
   "execution_count": 10,
   "metadata": {
    "collapsed": true
   },
   "outputs": [],
   "source": [
    "#for循环只控制循环次数"
   ]
  },
  {
   "cell_type": "code",
   "execution_count": 11,
   "metadata": {
    "collapsed": true
   },
   "outputs": [],
   "source": [
    "c = [i for i in range(10) if i%2==0]"
   ]
  },
  {
   "cell_type": "code",
   "execution_count": 12,
   "metadata": {
    "collapsed": false
   },
   "outputs": [
    {
     "data": {
      "text/plain": [
       "[0, 2, 4, 6, 8]"
      ]
     },
     "execution_count": 12,
     "metadata": {},
     "output_type": "execute_result"
    }
   ],
   "source": [
    "c"
   ]
  },
  {
   "cell_type": "code",
   "execution_count": 13,
   "metadata": {
    "collapsed": true
   },
   "outputs": [],
   "source": [
    "d = [i for i in range(3) for j in range(2)]#i取一个值，j循环一次  用到的  只是i的值"
   ]
  },
  {
   "cell_type": "code",
   "execution_count": 14,
   "metadata": {
    "collapsed": false
   },
   "outputs": [
    {
     "data": {
      "text/plain": [
       "[0, 0, 1, 1, 2, 2]"
      ]
     },
     "execution_count": 14,
     "metadata": {},
     "output_type": "execute_result"
    }
   ],
   "source": [
    "d"
   ]
  },
  {
   "cell_type": "code",
   "execution_count": 15,
   "metadata": {
    "collapsed": true
   },
   "outputs": [],
   "source": [
    "d =[(i,j) for i in range(3) for j in range(2)]"
   ]
  },
  {
   "cell_type": "code",
   "execution_count": 16,
   "metadata": {
    "collapsed": false
   },
   "outputs": [
    {
     "data": {
      "text/plain": [
       "[(0, 0), (0, 1), (1, 0), (1, 1), (2, 0), (2, 1)]"
      ]
     },
     "execution_count": 16,
     "metadata": {},
     "output_type": "execute_result"
    }
   ],
   "source": [
    "d"
   ]
  },
  {
   "cell_type": "code",
   "execution_count": 17,
   "metadata": {
    "collapsed": true
   },
   "outputs": [],
   "source": [
    "e = [(i,j,k) for i in range(3) for j in range(2) for k in range(3)]"
   ]
  },
  {
   "cell_type": "code",
   "execution_count": 18,
   "metadata": {
    "collapsed": false
   },
   "outputs": [
    {
     "data": {
      "text/plain": [
       "[(0, 0, 0),\n",
       " (0, 0, 1),\n",
       " (0, 0, 2),\n",
       " (0, 1, 0),\n",
       " (0, 1, 1),\n",
       " (0, 1, 2),\n",
       " (1, 0, 0),\n",
       " (1, 0, 1),\n",
       " (1, 0, 2),\n",
       " (1, 1, 0),\n",
       " (1, 1, 1),\n",
       " (1, 1, 2),\n",
       " (2, 0, 0),\n",
       " (2, 0, 1),\n",
       " (2, 0, 2),\n",
       " (2, 1, 0),\n",
       " (2, 1, 1),\n",
       " (2, 1, 2)]"
      ]
     },
     "execution_count": 18,
     "metadata": {},
     "output_type": "execute_result"
    }
   ],
   "source": [
    "e"
   ]
  },
  {
   "cell_type": "code",
   "execution_count": 19,
   "metadata": {
    "collapsed": false
   },
   "outputs": [
    {
     "data": {
      "text/plain": [
       "(11, 22, 33, 11, 22, 33)"
      ]
     },
     "execution_count": 19,
     "metadata": {},
     "output_type": "execute_result"
    }
   ],
   "source": [
    "#集合\n",
    "a = (11,22,33,11,22,33)\n",
    "\n",
    "a"
   ]
  },
  {
   "cell_type": "code",
   "execution_count": 21,
   "metadata": {
    "collapsed": false
   },
   "outputs": [
    {
     "data": {
      "text/plain": [
       "[11, 22, 33, 11, 22, 33]"
      ]
     },
     "execution_count": 21,
     "metadata": {},
     "output_type": "execute_result"
    }
   ],
   "source": [
    "b = [11,22,33,11,22,33]\n",
    "\n",
    "b"
   ]
  },
  {
   "cell_type": "code",
   "execution_count": 23,
   "metadata": {
    "collapsed": false
   },
   "outputs": [
    {
     "data": {
      "text/plain": [
       "{11, 22, 33}"
      ]
     },
     "execution_count": 23,
     "metadata": {},
     "output_type": "execute_result"
    }
   ],
   "source": [
    "c = {11,22,33,11,22,33}\n",
    "\n",
    "c"
   ]
  },
  {
   "cell_type": "code",
   "execution_count": 24,
   "metadata": {
    "collapsed": false
   },
   "outputs": [
    {
     "data": {
      "text/plain": [
       "tuple"
      ]
     },
     "execution_count": 24,
     "metadata": {},
     "output_type": "execute_result"
    }
   ],
   "source": [
    "type(a)"
   ]
  },
  {
   "cell_type": "code",
   "execution_count": 25,
   "metadata": {
    "collapsed": false
   },
   "outputs": [
    {
     "data": {
      "text/plain": [
       "list"
      ]
     },
     "execution_count": 25,
     "metadata": {},
     "output_type": "execute_result"
    }
   ],
   "source": [
    "type(b)"
   ]
  },
  {
   "cell_type": "code",
   "execution_count": 26,
   "metadata": {
    "collapsed": false
   },
   "outputs": [
    {
     "data": {
      "text/plain": [
       "set"
      ]
     },
     "execution_count": 26,
     "metadata": {},
     "output_type": "execute_result"
    }
   ],
   "source": [
    "type(c)"
   ]
  },
  {
   "cell_type": "code",
   "execution_count": 27,
   "metadata": {
    "collapsed": true
   },
   "outputs": [],
   "source": [
    "#大括号定义：字典，集合"
   ]
  },
  {
   "cell_type": "code",
   "execution_count": 28,
   "metadata": {
    "collapsed": false
   },
   "outputs": [
    {
     "data": {
      "text/plain": [
       "[33, 11, 22]"
      ]
     },
     "execution_count": 28,
     "metadata": {},
     "output_type": "execute_result"
    }
   ],
   "source": [
    "#对列表去重\n",
    "\n",
    "a = [11,22,33,11,22,33]\n",
    "\n",
    "f = set(a)\n",
    "\n",
    "b = list(f)\n",
    "\n",
    "b"
   ]
  },
  {
   "cell_type": "code",
   "execution_count": 30,
   "metadata": {
    "collapsed": false
   },
   "outputs": [
    {
     "name": "stdout",
     "output_type": "stream",
     "text": [
      "Help on built-in function add:\n",
      "\n",
      "add(...) method of builtins.set instance\n",
      "    Add an element to a set.\n",
      "    \n",
      "    This has no effect if the element is already present.\n",
      "\n"
     ]
    }
   ],
   "source": [
    "help(f.add)"
   ]
  },
  {
   "cell_type": "code",
   "execution_count": 31,
   "metadata": {
    "collapsed": false
   },
   "outputs": [
    {
     "data": {
      "text/plain": [
       "{11, 22, 33, 55}"
      ]
     },
     "execution_count": 31,
     "metadata": {},
     "output_type": "execute_result"
    }
   ],
   "source": [
    "f.add(55)\n",
    "f"
   ]
  },
  {
   "cell_type": "code",
   "execution_count": null,
   "metadata": {
    "collapsed": true
   },
   "outputs": [],
   "source": []
  }
 ],
 "metadata": {
  "anaconda-cloud": {},
  "kernelspec": {
   "display_name": "Python [Root]",
   "language": "python",
   "name": "Python [Root]"
  },
  "language_info": {
   "codemirror_mode": {
    "name": "ipython",
    "version": 3
   },
   "file_extension": ".py",
   "mimetype": "text/x-python",
   "name": "python",
   "nbconvert_exporter": "python",
   "pygments_lexer": "ipython3",
   "version": "3.5.2"
  }
 },
 "nbformat": 4,
 "nbformat_minor": 0
}
