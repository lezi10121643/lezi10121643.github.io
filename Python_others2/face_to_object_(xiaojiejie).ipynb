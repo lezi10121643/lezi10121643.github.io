{
 "cells": [
  {
   "cell_type": "code",
   "execution_count": 1,
   "metadata": {
    "collapsed": true
   },
   "outputs": [],
   "source": [
    "class Car:\n",
    "    \n",
    "    def drive(selt):\n",
    "        print('我正在开车')\n",
    "    \n",
    "    def turnover(self):\n",
    "        print('翻车了')"
   ]
  },
  {
   "cell_type": "code",
   "execution_count": 12,
   "metadata": {
    "collapsed": false
   },
   "outputs": [
    {
     "name": "stdout",
     "output_type": "stream",
     "text": [
      "王梦瑶的年龄是：20\n"
     ]
    }
   ],
   "source": []
  },
  {
   "cell_type": "code",
   "execution_count": 3,
   "metadata": {
    "collapsed": false
   },
   "outputs": [
    {
     "name": "stdout",
     "output_type": "stream",
     "text": [
      "我正在开车\n",
      "翻车了\n"
     ]
    }
   ],
   "source": [
    "#创建一个对象\n",
    "xiao_jie_jie=Car()\n",
    "\n",
    "xiao_jie_jie.drive()#调用xiao_jie_jie指向的对象的方法\n",
    "xiao_jie_jie.turnover()"
   ]
  },
  {
   "cell_type": "code",
   "execution_count": 10,
   "metadata": {
    "collapsed": false
   },
   "outputs": [
    {
     "name": "stdout",
     "output_type": "stream",
     "text": [
      "王梦瑶的年龄是：20\n"
     ]
    }
   ],
   "source": []
  },
  {
   "cell_type": "code",
   "execution_count": 11,
   "metadata": {
    "collapsed": false
   },
   "outputs": [
    {
     "name": "stdout",
     "output_type": "stream",
     "text": [
      "我正在开车\n",
      "翻车了\n",
      "王梦瑶的年龄是：20\n"
     ]
    }
   ],
   "source": [
    "class Car:\n",
    "    \n",
    "    def drive(self):\n",
    "        print('我正在开车')\n",
    "    \n",
    "    def turnover(self):\n",
    "        print('翻车了')\n",
    "        \n",
    "#创建一个对象\n",
    "xiao_jie_jie=Car()\n",
    "\n",
    "xiao_jie_jie.drive()#调用xiao_jie_jie指向的对象的方法\n",
    "xiao_jie_jie.turnover()\n",
    "\n",
    "#添加属性,属性就是变量\n",
    "xiao_jie_jie.name = '王梦瑶'\n",
    "xiao_jie_jie.age = 20\n",
    "\n",
    "print('%s的年龄是：%d'%(xiao_jie_jie.name,xiao_jie_jie.age))"
   ]
  },
  {
   "cell_type": "code",
   "execution_count": 8,
   "metadata": {
    "collapsed": false
   },
   "outputs": [
    {
     "name": "stdout",
     "output_type": "stream",
     "text": [
      "我正在开车\n",
      "翻车了\n",
      "王梦瑶的年龄是：20\n"
     ]
    }
   ],
   "source": [
    "class Car:\n",
    "    \n",
    "    def drive(self):\n",
    "        print('我正在开车')\n",
    "    \n",
    "    def turnover(self):\n",
    "        print('翻车了')\n",
    "        \n",
    "    def introduce(self):\n",
    "        print('%s的年龄是：%d'%(xiao_jie_jie.name,xiao_jie_jie.age))\n",
    "        \n",
    "#创建一个对象\n",
    "xiao_jie_jie=Car()\n",
    "\n",
    "xiao_jie_jie.drive()#调用xiao_jie_jie指向的对象的方法\n",
    "xiao_jie_jie.turnover()\n",
    "\n",
    "\n",
    "#添加属性,属性就是变量\n",
    "xiao_jie_jie.name = '王梦瑶'\n",
    "xiao_jie_jie.age = 20\n",
    "\n",
    "xiao_jie_jie.introduce()"
   ]
  },
  {
   "cell_type": "code",
   "execution_count": 11,
   "metadata": {
    "collapsed": false
   },
   "outputs": [
    {
     "name": "stdout",
     "output_type": "stream",
     "text": [
      "我正在开车\n",
      "翻车了\n",
      "王梦瑶的年龄是：20,特点是：北方有佳人 遗世而独立 一顾倾人城 再顾倾人国\n",
      "王大伟的年龄是：18,特点是：玉树临风 英俊潇洒 风流倜傥 貌似潘安 形貌昳丽 器宇轩昂 一表人才 雄姿英发 风度翩翩\n"
     ]
    }
   ],
   "source": [
    "class Car:\n",
    "    \n",
    "    def drive(self):\n",
    "        print('我正在开车')\n",
    "    \n",
    "    def turnover(self):\n",
    "        print('翻车了')\n",
    "        \n",
    "    def introduce(self):\n",
    "        print('%s的年龄是：%d,特点是：%s'%(self.name,self.age,self.features))\n",
    "        \n",
    "#创建一个对象\n",
    "xiao_jie_jie=Car()\n",
    "\n",
    "xiao_jie_jie.drive()#调用xiao_jie_jie指向的对象的方法\n",
    "xiao_jie_jie.turnover()\n",
    "\n",
    "\n",
    "#添加属性,属性就是变量\n",
    "xiao_jie_jie.name = '王梦瑶'\n",
    "xiao_jie_jie.age = 20\n",
    "xiao_jie_jie.features = '北方有佳人 遗世而独立 一顾倾人城 再顾倾人国'\n",
    "\n",
    "xiao_jie_jie.introduce()\n",
    "\n",
    "myself = Car()\n",
    "\n",
    "myself.name = '王大伟'\n",
    "myself.age = 18\n",
    "myself.features = '玉树临风 英俊潇洒 风流倜傥 貌似潘安 形貌昳丽 器宇轩昂 一表人才 雄姿英发 风度翩翩'\n",
    "\n",
    "myself.introduce()"
   ]
  },
  {
   "cell_type": "code",
   "execution_count": 3,
   "metadata": {
    "collapsed": false
   },
   "outputs": [
    {
     "name": "stdout",
     "output_type": "stream",
     "text": [
      "泡面状态：生的(0)\n",
      "泡面状态：煮糊了(20)\n"
     ]
    }
   ],
   "source": [
    "class Cook_instant_noodles:\n",
    "    \n",
    "    def __init__(self):\n",
    "        self.cookedState = '生的'\n",
    "        self.cookedLevel = 0\n",
    "        \n",
    "    def __str__(self):\n",
    "        return '泡面状态：%s(%d)'%(self.cookedState,self.cookedLevel)\n",
    "    \n",
    "    def cook(self,cooked_time):\n",
    "        \n",
    "        self.cookedLevel += cooked_time\n",
    "        \n",
    "        if cooked_time >= 0 and cooked_time < 3:\n",
    "            self.cookedState = '还没熟'\n",
    "        elif cooked_time >= 3 and cooked_time < 5:\n",
    "            self.cookedState = '半生不熟'\n",
    "        elif cooked_time >= 5 and cooked_time < 8:\n",
    "            self.cookedState = '煮熟了'\n",
    "        elif cooked_time >= 8:\n",
    "            self.cookedState = '煮糊了'\n",
    "    \n",
    "#创建了一个泡面对象\n",
    "instant_noodles = Cook_instant_noodles()\n",
    "\n",
    "print(instant_noodles)\n",
    "\n",
    "#开始煮泡面\n",
    "instant_noodles.cook(20)\n",
    "\n",
    "print(instant_noodles)"
   ]
  },
  {
   "cell_type": "code",
   "execution_count": 4,
   "metadata": {
    "collapsed": false
   },
   "outputs": [
    {
     "name": "stdout",
     "output_type": "stream",
     "text": [
      "泡面状态：生的(0)\n",
      "泡面状态：还没熟(1)\n",
      "泡面状态：还没熟(2)\n",
      "泡面状态：还没熟(3)\n",
      "泡面状态：还没熟(4)\n",
      "泡面状态：还没熟(5)\n",
      "泡面状态：还没熟(6)\n",
      "泡面状态：还没熟(7)\n",
      "泡面状态：还没熟(8)\n",
      "泡面状态：还没熟(9)\n",
      "泡面状态：还没熟(10)\n",
      "泡面状态：还没熟(11)\n",
      "泡面状态：还没熟(12)\n",
      "泡面状态：还没熟(13)\n",
      "泡面状态：还没熟(14)\n",
      "泡面状态：还没熟(15)\n",
      "泡面状态：还没熟(16)\n",
      "泡面状态：还没熟(17)\n",
      "泡面状态：还没熟(18)\n",
      "泡面状态：还没熟(19)\n"
     ]
    }
   ],
   "source": [
    "class Cook_instant_noodles:\n",
    "    \n",
    "    def __init__(self):\n",
    "        self.cookedState = '生的'\n",
    "        self.cookedLevel = 0\n",
    "        \n",
    "    def __str__(self):\n",
    "        return '泡面状态：%s(%d)'%(self.cookedState,self.cookedLevel)\n",
    "    \n",
    "    def cook(self,cooked_time):\n",
    "        \n",
    "        self.cookedLevel += cooked_time\n",
    "        \n",
    "        if cooked_time >= 0 and cooked_time < 3:\n",
    "            self.cookedState = '还没熟'\n",
    "        elif cooked_time >= 3 and cooked_time < 5:\n",
    "            self.cookedState = '半生不熟'\n",
    "        elif cooked_time >= 5 and cooked_time < 8:\n",
    "            self.cookedState = '煮熟了'\n",
    "        elif cooked_time >= 8:\n",
    "            self.cookedState = '煮糊了'\n",
    "    \n",
    "#创建了一个泡面对象\n",
    "instant_noodles = Cook_instant_noodles()\n",
    "\n",
    "print(instant_noodles)\n",
    "\n",
    "#开始煮泡面\n",
    "instant_noodles.cook(1)\n",
    "print(instant_noodles)\n",
    "\n",
    "instant_noodles.cook(1)\n",
    "print(instant_noodles)\n",
    "\n",
    "instant_noodles.cook(1)\n",
    "print(instant_noodles)\n",
    "\n",
    "instant_noodles.cook(1)\n",
    "print(instant_noodles)\n",
    "\n",
    "instant_noodles.cook(1)\n",
    "print(instant_noodles)\n",
    "\n",
    "instant_noodles.cook(1)\n",
    "print(instant_noodles)\n",
    "\n",
    "instant_noodles.cook(1)\n",
    "print(instant_noodles)\n",
    "\n",
    "instant_noodles.cook(1)\n",
    "print(instant_noodles)\n",
    "\n",
    "instant_noodles.cook(1)\n",
    "print(instant_noodles)\n",
    "\n",
    "instant_noodles.cook(1)\n",
    "print(instant_noodles)\n",
    "\n",
    "instant_noodles.cook(1)\n",
    "print(instant_noodles)\n",
    "\n",
    "instant_noodles.cook(1)\n",
    "print(instant_noodles)\n",
    "\n",
    "instant_noodles.cook(1)\n",
    "print(instant_noodles)\n",
    "\n",
    "instant_noodles.cook(1)\n",
    "print(instant_noodles)\n",
    "\n",
    "instant_noodles.cook(1)\n",
    "print(instant_noodles)\n",
    "\n",
    "instant_noodles.cook(1)\n",
    "print(instant_noodles)\n",
    "\n",
    "instant_noodles.cook(1)\n",
    "print(instant_noodles)\n",
    "\n",
    "instant_noodles.cook(1)\n",
    "print(instant_noodles)\n",
    "\n",
    "instant_noodles.cook(1)\n",
    "print(instant_noodles)"
   ]
  },
  {
   "cell_type": "code",
   "execution_count": 7,
   "metadata": {
    "collapsed": false
   },
   "outputs": [
    {
     "name": "stdout",
     "output_type": "stream",
     "text": [
      "泡面状态：生的(0)\n",
      "泡面状态：还没熟(1)\n",
      "泡面状态：还没熟(2)\n",
      "泡面状态：半生不熟(3)\n",
      "泡面状态：半生不熟(4)\n",
      "泡面状态：煮熟了(5)\n",
      "泡面状态：煮熟了(6)\n",
      "泡面状态：煮熟了(7)\n",
      "泡面状态：煮糊了(8)\n",
      "泡面状态：煮糊了(9)\n",
      "泡面状态：煮糊了(10)\n",
      "泡面状态：煮糊了(11)\n",
      "泡面状态：煮糊了(12)\n",
      "泡面状态：煮糊了(13)\n",
      "泡面状态：煮糊了(14)\n",
      "泡面状态：煮糊了(15)\n",
      "泡面状态：煮糊了(16)\n",
      "泡面状态：煮糊了(17)\n",
      "泡面状态：煮糊了(18)\n",
      "泡面状态：煮糊了(19)\n"
     ]
    }
   ],
   "source": [
    "class Cook_instant_noodles:\n",
    "    \n",
    "    def __init__(self):\n",
    "        self.cookedState = '生的'\n",
    "        self.cookedLevel = 0\n",
    "        \n",
    "    def __str__(self):\n",
    "        return '泡面状态：%s(%d)'%(self.cookedState,self.cookedLevel)\n",
    "    \n",
    "    def cook(self,cooked_time):\n",
    "        \n",
    "        self.cookedLevel += cooked_time\n",
    "        \n",
    "        if self.cookedLevel >= 0 and self.cookedLevel < 3:\n",
    "            self.cookedState = '还没熟'\n",
    "        elif self.cookedLevel >= 3 and self.cookedLevel < 5:\n",
    "            self.cookedState = '半生不熟'\n",
    "        elif self.cookedLevel >= 5 and self.cookedLevel < 8:\n",
    "            self.cookedState = '煮熟了'\n",
    "        elif self.cookedLevel >= 8:\n",
    "            self.cookedState = '煮糊了'\n",
    "    \n",
    "#创建了一个泡面对象\n",
    "instant_noodles = Cook_instant_noodles()\n",
    "\n",
    "print(instant_noodles)\n",
    "\n",
    "#开始煮泡面\n",
    "instant_noodles.cook(1)\n",
    "print(instant_noodles)\n",
    "\n",
    "instant_noodles.cook(1)\n",
    "print(instant_noodles)\n",
    "\n",
    "instant_noodles.cook(1)\n",
    "print(instant_noodles)\n",
    "\n",
    "instant_noodles.cook(1)\n",
    "print(instant_noodles)\n",
    "\n",
    "instant_noodles.cook(1)\n",
    "print(instant_noodles)\n",
    "\n",
    "instant_noodles.cook(1)\n",
    "print(instant_noodles)\n",
    "\n",
    "instant_noodles.cook(1)\n",
    "print(instant_noodles)\n",
    "\n",
    "instant_noodles.cook(1)\n",
    "print(instant_noodles)\n",
    "\n",
    "instant_noodles.cook(1)\n",
    "print(instant_noodles)\n",
    "\n",
    "instant_noodles.cook(1)\n",
    "print(instant_noodles)\n",
    "\n",
    "instant_noodles.cook(1)\n",
    "print(instant_noodles)\n",
    "\n",
    "instant_noodles.cook(1)\n",
    "print(instant_noodles)\n",
    "\n",
    "instant_noodles.cook(1)\n",
    "print(instant_noodles)\n",
    "\n",
    "instant_noodles.cook(1)\n",
    "print(instant_noodles)\n",
    "\n",
    "instant_noodles.cook(1)\n",
    "print(instant_noodles)\n",
    "\n",
    "instant_noodles.cook(1)\n",
    "print(instant_noodles)\n",
    "\n",
    "instant_noodles.cook(1)\n",
    "print(instant_noodles)\n",
    "\n",
    "instant_noodles.cook(1)\n",
    "print(instant_noodles)\n",
    "\n",
    "instant_noodles.cook(1)\n",
    "print(instant_noodles)"
   ]
  },
  {
   "cell_type": "code",
   "execution_count": 9,
   "metadata": {
    "collapsed": false
   },
   "outputs": [
    {
     "name": "stdout",
     "output_type": "stream",
     "text": [
      "泡面状态：生的(0)),添加的佐料有：[]\n",
      "泡面状态：还没熟(1)),添加的佐料有：[]\n",
      "泡面状态：还没熟(2)),添加的佐料有：['菜包', '粉包', '酱包']\n",
      "泡面状态：半生不熟(3)),添加的佐料有：['菜包', '粉包', '酱包', '冰箱里的茶叶蛋', '冰箱里的火腿肠']\n",
      "泡面状态：半生不熟(4)),添加的佐料有：['菜包', '粉包', '酱包', '冰箱里的茶叶蛋', '冰箱里的火腿肠']\n",
      "泡面状态：煮熟了(5)),添加的佐料有：['菜包', '粉包', '酱包', '冰箱里的茶叶蛋', '冰箱里的火腿肠']\n"
     ]
    }
   ],
   "source": [
    "class Cook_instant_noodles:\n",
    "    \n",
    "    def __init__(self):\n",
    "        self.cookedState = '生的'\n",
    "        self.cookedLevel = 0\n",
    "        self.condiments = []#定义调料列表\n",
    "        \n",
    "    def __str__(self):\n",
    "        return '泡面状态：%s(%d)),添加的佐料有：%s'%(self.cookedState,self.cookedLevel,str(self.condiments))\n",
    "    \n",
    "    def cook(self,cooked_time):\n",
    "        \n",
    "        self.cookedLevel += cooked_time\n",
    "        \n",
    "        if self.cookedLevel >= 0 and self.cookedLevel < 3:\n",
    "            self.cookedState = '还没熟'\n",
    "        elif self.cookedLevel >= 3 and self.cookedLevel < 5:\n",
    "            self.cookedState = '半生不熟'\n",
    "        elif self.cookedLevel >= 5 and self.cookedLevel < 8:\n",
    "            self.cookedState = '煮熟了'\n",
    "        elif self.cookedLevel >= 8:\n",
    "            self.cookedState = '煮糊了'\n",
    "            \n",
    "    def addCondiments(self,item):\n",
    "        #使用属性保存数据\n",
    "        self.condiments.append(item)\n",
    "    \n",
    "#创建了一个泡面对象\n",
    "instant_noodles = Cook_instant_noodles()\n",
    "\n",
    "print(instant_noodles)\n",
    "\n",
    "#开始煮泡面\n",
    "instant_noodles.cook(1)\n",
    "print(instant_noodles)\n",
    "\n",
    "instant_noodles.addCondiments('菜包')\n",
    "\n",
    "instant_noodles.addCondiments('粉包')\n",
    "\n",
    "instant_noodles.addCondiments('酱包')\n",
    "\n",
    "instant_noodles.cook(1)\n",
    "print(instant_noodles)\n",
    "\n",
    "instant_noodles.addCondiments('冰箱里的茶叶蛋')\n",
    "\n",
    "instant_noodles.addCondiments('冰箱里的火腿肠')\n",
    "\n",
    "instant_noodles.cook(1)\n",
    "print(instant_noodles)\n",
    "\n",
    "\n",
    "instant_noodles.cook(1)\n",
    "print(instant_noodles)\n",
    "\n",
    "instant_noodles.cook(1)\n",
    "print(instant_noodles)"
   ]
  },
  {
   "cell_type": "code",
   "execution_count": 1,
   "metadata": {
    "collapsed": false
   },
   "outputs": [
    {
     "name": "stdout",
     "output_type": "stream",
     "text": [
      "房子的面积是:120,户型是:三室一厅,地址是:上海市 黄浦区 人民大道 666号\n"
     ]
    }
   ],
   "source": [
    "\n",
    "class Home:\n",
    "    def __init__(self,new_area,new_info,new_addr):\n",
    "        self.area = new_area\n",
    "        self.info = new_info\n",
    "        self.addr = new_addr\n",
    "    \n",
    "    def __str__(self):\n",
    "        return '房子的面积是:%d,户型是:%s,地址是:%s'%(self.area,self.info,self.addr)\n",
    "        \n",
    "fangzi = Home(120,'三室一厅','上海市 黄浦区 人民大道 666号')\n",
    "print(fangzi)"
   ]
  },
  {
   "cell_type": "code",
   "execution_count": 1,
   "metadata": {
    "collapsed": false
   },
   "outputs": [
    {
     "name": "stdout",
     "output_type": "stream",
     "text": [
      "小姐姐名叫:王梦瑶\n"
     ]
    }
   ],
   "source": [
    "print('小姐姐名叫:%s'%'王梦瑶')"
   ]
  },
  {
   "cell_type": "code",
   "execution_count": 3,
   "metadata": {
    "collapsed": false
   },
   "outputs": [
    {
     "name": "stdout",
     "output_type": "stream",
     "text": [
      "王梦瑶的BWH是:80,57,91\n"
     ]
    }
   ],
   "source": [
    "print('王梦瑶的BWH是:%d,%d,%d'%(80,57,91))"
   ]
  },
  {
   "cell_type": "code",
   "execution_count": 9,
   "metadata": {
    "collapsed": false
   },
   "outputs": [
    {
     "name": "stdout",
     "output_type": "stream",
     "text": [
      "房子的面积是:120,户型是:三室一厅,地址是:上海市 黄浦区 人民大道 666号\n",
      "双人豪华大床占用的面积是：6\n"
     ]
    }
   ],
   "source": [
    "class Home:\n",
    "    def __init__(self,new_area,new_info,new_addr):\n",
    "        self.area = new_area\n",
    "        self.info = new_info\n",
    "        self.addr = new_addr\n",
    "    \n",
    "    def __str__(self):\n",
    "        return '房子的面积是:%d,户型是:%s,地址是:%s'%(self.area,self.info,self.addr)\n",
    "\n",
    "class Furniture:\n",
    "    def __init__(self,new_name,new_area):\n",
    "        self.name = new_name\n",
    "        self.area = new_area\n",
    "        \n",
    "    def __str__(self):\n",
    "        return '%s占用的面积是：%d'%(self.name,self.area)\n",
    "    \n",
    "fangzi = Home(120,'三室一厅','上海市 黄浦区 人民大道 666号')\n",
    "print(fangzi)\n",
    "\n",
    "bed1 = Furniture('双人豪华大床',6)\n",
    "print(bed1)"
   ]
  },
  {
   "cell_type": "code",
   "execution_count": 10,
   "metadata": {
    "collapsed": false
   },
   "outputs": [
    {
     "name": "stdout",
     "output_type": "stream",
     "text": [
      "双人豪华大床占用的面积是：6\n"
     ]
    }
   ],
   "source": [
    "class Furniture:\n",
    "    def __init__(self,new_name,new_area):\n",
    "        self.name = new_name\n",
    "        self.area = new_area\n",
    "        \n",
    "    def __str__(self):\n",
    "        return '%s占用的面积是：%d'%(self.name,self.area)\n",
    "    \n",
    "bed1 = Furniture('双人豪华大床',6)\n",
    "print(bed1)"
   ]
  },
  {
   "cell_type": "code",
   "execution_count": 13,
   "metadata": {
    "collapsed": false
   },
   "outputs": [
    {
     "name": "stdout",
     "output_type": "stream",
     "text": [
      "房子的总面积是:120,可用面积是:120,户型是:三室一厅,地址是:上海市 黄浦区 人民大道 666号当前房子里的物品有[]\n",
      "双人豪华大床占用的面积是：6\n",
      "房子的总面积是:120,可用面积是:114,户型是:三室一厅,地址是:上海市 黄浦区 人民大道 666号当前房子里的物品有['双人豪华大床']\n",
      "房子的总面积是:120,可用面积是:113,户型是:三室一厅,地址是:上海市 黄浦区 人民大道 666号当前房子里的物品有['双人豪华大床', '立式空调']\n"
     ]
    }
   ],
   "source": [
    "class Home:\n",
    "    def __init__(self,new_area,new_info,new_addr):\n",
    "        self.area = new_area\n",
    "        self.info = new_info\n",
    "        self.addr = new_addr\n",
    "        self.left_area = new_area \n",
    "        self.contain_items = []#保存物品的名字\n",
    "    \n",
    "    def __str__(self):\n",
    "        msg = '房子的总面积是:%d,可用面积是:%d,户型是:%s,地址是:%s'%(self.area,self.left_area,self.info,self.addr)\n",
    "        msg += '当前房子里的物品有%s'%(str(self.contain_items))\n",
    "        return msg\n",
    "        \n",
    "    def add_item(self,item):\n",
    "        self.left_area -= item.area #item.area获取对象的属性，家具占用空间\n",
    "        self.contain_items.append(item.name)\n",
    "    \n",
    "class Furniture:\n",
    "    def __init__(self,new_name,new_area):\n",
    "        self.name = new_name\n",
    "        self.area = new_area\n",
    "        \n",
    "    def __str__(self):\n",
    "        return '%s占用的面积是：%d'%(self.name,self.area)\n",
    "    \n",
    "fangzi = Home(120,'三室一厅','上海市 黄浦区 人民大道 666号')\n",
    "print(fangzi)\n",
    "\n",
    "bed1 = Furniture('双人豪华大床',6)\n",
    "print(bed1)\n",
    "\n",
    "fangzi.add_item(bed1)\n",
    "print(fangzi)\n",
    "\n",
    "aircondition = Furniture('立式空调',1)\n",
    "fangzi.add_item(aircondition)\n",
    "print(fangzi)"
   ]
  },
  {
   "cell_type": "code",
   "execution_count": null,
   "metadata": {
    "collapsed": true
   },
   "outputs": [],
   "source": []
  }
 ],
 "metadata": {
  "kernelspec": {
   "display_name": "Python [Root]",
   "language": "python",
   "name": "Python [Root]"
  },
  "language_info": {
   "codemirror_mode": {
    "name": "ipython",
    "version": 3
   },
   "file_extension": ".py",
   "mimetype": "text/x-python",
   "name": "python",
   "nbconvert_exporter": "python",
   "pygments_lexer": "ipython3",
   "version": "3.5.2"
  }
 },
 "nbformat": 4,
 "nbformat_minor": 0
}
