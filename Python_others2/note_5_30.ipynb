{
 "cells": [
  {
   "cell_type": "code",
   "execution_count": 1,
   "metadata": {
    "collapsed": false
   },
   "outputs": [
    {
     "name": "stdout",
     "output_type": "stream",
     "text": [
      "温度是0\n"
     ]
    }
   ],
   "source": [
    "wendu=0#全局变量\n",
    "def get_wendu():\n",
    "    wendu=33#局部变量\n",
    "def print_wendu():\n",
    "    print('温度是%d'%wendu)\n",
    "    \n",
    "get_wendu()\n",
    "print_wendu()\n",
    "    "
   ]
  },
  {
   "cell_type": "code",
   "execution_count": 8,
   "metadata": {
    "collapsed": false
   },
   "outputs": [
    {
     "name": "stdout",
     "output_type": "stream",
     "text": [
      "温度是33\n"
     ]
    }
   ],
   "source": [
    "wendu=0#全局变量\n",
    "def get_wendu():\n",
    "    global wendu#声明全局变量\n",
    "    wendu=33#局部变量\n",
    "def print_wendu():\n",
    "    '''这是用来完成。。。的'''# 在定义函数第一行写函数文档说明\n",
    "    print('温度是%d'%wendu)\n",
    "    \n",
    "get_wendu()\n",
    "print_wendu()"
   ]
  },
  {
   "cell_type": "code",
   "execution_count": 4,
   "metadata": {
    "collapsed": true
   },
   "outputs": [],
   "source": [
    "#全局变量和局部变量名字相同，在函数内优先使用函数内的局部变量"
   ]
  },
  {
   "cell_type": "code",
   "execution_count": 5,
   "metadata": {
    "collapsed": true
   },
   "outputs": [],
   "source": [
    "#定义全局变量，g_a\n",
    "g_a=100#global"
   ]
  },
  {
   "cell_type": "code",
   "execution_count": 6,
   "metadata": {
    "collapsed": false
   },
   "outputs": [
    {
     "name": "stdout",
     "output_type": "stream",
     "text": [
      "Help on function print_wendu in module __main__:\n",
      "\n",
      "print_wendu()\n",
      "\n"
     ]
    }
   ],
   "source": [
    "help(print_wendu)"
   ]
  },
  {
   "cell_type": "code",
   "execution_count": 9,
   "metadata": {
    "collapsed": false
   },
   "outputs": [
    {
     "name": "stdout",
     "output_type": "stream",
     "text": [
      "Help on function print_wendu in module __main__:\n",
      "\n",
      "print_wendu()\n",
      "    这是用来完成。。。的\n",
      "\n"
     ]
    }
   ],
   "source": [
    "help(print_wendu)"
   ]
  },
  {
   "cell_type": "code",
   "execution_count": 10,
   "metadata": {
    "collapsed": true
   },
   "outputs": [],
   "source": [
    "def get_text():\n",
    "    pass"
   ]
  },
  {
   "cell_type": "code",
   "execution_count": 11,
   "metadata": {
    "collapsed": true
   },
   "outputs": [],
   "source": [
    "#utf-8\n",
    "#import\n",
    "#全局变量定义\n",
    "#函数定义（函数文档说明0\n",
    "#函数调用（用到全局就global \n",
    "#把所有调用放到def main（）：里tab  完成对整个函数的控制\n",
    "#调用main函数  main（）"
   ]
  },
  {
   "cell_type": "code",
   "execution_count": 12,
   "metadata": {
    "collapsed": false
   },
   "outputs": [
    {
     "name": "stdout",
     "output_type": "stream",
     "text": [
      "result=21\n"
     ]
    }
   ],
   "source": [
    "#缺省参数\n",
    "def test(a,b=10):\n",
    "    result = a+b\n",
    "    print('result=%d'%result)\n",
    "    \n",
    "test(11)"
   ]
  },
  {
   "cell_type": "code",
   "execution_count": 13,
   "metadata": {
    "collapsed": false
   },
   "outputs": [
    {
     "name": "stdout",
     "output_type": "stream",
     "text": [
      "result=26\n"
     ]
    }
   ],
   "source": [
    "test(11,15)"
   ]
  },
  {
   "cell_type": "code",
   "execution_count": 14,
   "metadata": {
    "collapsed": false
   },
   "outputs": [
    {
     "name": "stdout",
     "output_type": "stream",
     "text": [
      "result=65\n"
     ]
    }
   ],
   "source": [
    "#缺省参数\n",
    "def test(a,b=10,c=12):#b=10,c=12是缺省参数\n",
    "    result = a+b+c\n",
    "    print('result=%d'%result)\n",
    "\n",
    "\n",
    "test(11,c=44)#c=44是命名参数"
   ]
  },
  {
   "cell_type": "code",
   "execution_count": 19,
   "metadata": {
    "collapsed": false
   },
   "outputs": [
    {
     "name": "stdout",
     "output_type": "stream",
     "text": [
      "11\n",
      "22\n",
      "(33, 44)\n"
     ]
    }
   ],
   "source": [
    "def sum_num(a,b,*args):#不定长参数，带*\n",
    "    print(a)\n",
    "    print(b)\n",
    "    print(args)\n",
    "    \n",
    "sum_num(11,22,33,44)#args为元组"
   ]
  },
  {
   "cell_type": "code",
   "execution_count": 17,
   "metadata": {
    "collapsed": false
   },
   "outputs": [],
   "source": [
    "tuple1=(2,)#单个元素的元组"
   ]
  },
  {
   "cell_type": "code",
   "execution_count": 18,
   "metadata": {
    "collapsed": false
   },
   "outputs": [
    {
     "data": {
      "text/plain": [
       "(2,)"
      ]
     },
     "execution_count": 18,
     "metadata": {},
     "output_type": "execute_result"
    }
   ],
   "source": [
    "tuple1"
   ]
  },
  {
   "cell_type": "code",
   "execution_count": 22,
   "metadata": {
    "collapsed": false
   },
   "outputs": [
    {
     "name": "stdout",
     "output_type": "stream",
     "text": [
      "11\n",
      "22\n",
      "33\n",
      "(55, 66)\n",
      "{'task': 2}\n"
     ]
    }
   ],
   "source": [
    "def test(a,b,c=33,*args,**kwargs):\n",
    "#传递的多余参数不带变量名就给了args，带变量名就给了kwargs，并且以字典方式保存\n",
    "    print(a)\n",
    "    print(b)\n",
    "    print(c)\n",
    "    print(args)\n",
    "    print(kwargs)\n",
    "\n",
    "test(11,22,33,55,66,task=2)"
   ]
  },
  {
   "cell_type": "code",
   "execution_count": 25,
   "metadata": {
    "collapsed": false
   },
   "outputs": [
    {
     "name": "stdout",
     "output_type": "stream",
     "text": [
      "11\n",
      "22\n",
      "(55, 66)\n",
      "{'task': 2}\n",
      "result=154\n"
     ]
    }
   ],
   "source": [
    "def test(a,b,c=33,*args,**kwargs):\n",
    "#传递的多余参数不带变量名就给了args，带变量名就给了kwargs，并且以字典方式保存\n",
    "    print(a)\n",
    "    print(b)\n",
    "    print(args)\n",
    "    print(kwargs)\n",
    "    result=a+b\n",
    "    for num in args:#把args中变量拿出来用\n",
    "        result+=num\n",
    "    print('result=%d'%result)\n",
    "\n",
    "test(11,22,33,55,66,task=2)"
   ]
  },
  {
   "cell_type": "code",
   "execution_count": 26,
   "metadata": {
    "collapsed": false
   },
   "outputs": [
    {
     "name": "stdout",
     "output_type": "stream",
     "text": [
      "11\n",
      "22\n",
      "((44, 55), {'name': 'David', 'height': '180cm'})\n",
      "{}\n"
     ]
    }
   ],
   "source": [
    "def test(a,b,c=33,*args,**kwargs):\n",
    "#传递的多余参数不带变量名就给了args，带变量名就给了kwargs，并且以字典方式保存\n",
    "    print(a)\n",
    "    print(b)\n",
    "    print(args)\n",
    "    print(kwargs)\n",
    "    \n",
    "A=(44,55)\n",
    "B={'name':'David','height':'180cm'}\n",
    "\n",
    "test(11,22,33,A,B)"
   ]
  },
  {
   "cell_type": "code",
   "execution_count": 27,
   "metadata": {
    "collapsed": false
   },
   "outputs": [
    {
     "name": "stdout",
     "output_type": "stream",
     "text": [
      "11\n",
      "22\n",
      "(44, 55)\n",
      "{'name': 'David', 'height': '180cm'}\n"
     ]
    }
   ],
   "source": [
    "#拆包，把元组和字典拆开，分别加*和**\n",
    "def test(a,b,c=33,*args,**kwargs):\n",
    "#传递的多余参数不带变量名就给了args，带变量名就给了kwargs，并且以字典方式保存\n",
    "    print(a)\n",
    "    print(b)\n",
    "    print(args)\n",
    "    print(kwargs)\n",
    "    \n",
    "A=(44,55)\n",
    "B={'name':'David','height':'180cm'}\n",
    "\n",
    "test(11,22,33,*A,**B)"
   ]
  },
  {
   "cell_type": "code",
   "execution_count": 29,
   "metadata": {
    "collapsed": false
   },
   "outputs": [
    {
     "data": {
      "text/plain": [
       "1701711440"
      ]
     },
     "execution_count": 29,
     "metadata": {},
     "output_type": "execute_result"
    }
   ],
   "source": [
    "a = 100\n",
    "b = a#引用，同时指向一块内存地址，把变量a保存的地址给了b,而不是把值复制了一份给B\n",
    "\n",
    "id(a)#查看变量在内存空间的地址"
   ]
  },
  {
   "cell_type": "code",
   "execution_count": 30,
   "metadata": {
    "collapsed": false
   },
   "outputs": [
    {
     "data": {
      "text/plain": [
       "1701711440"
      ]
     },
     "execution_count": 30,
     "metadata": {},
     "output_type": "execute_result"
    }
   ],
   "source": [
    "id(b)"
   ]
  },
  {
   "cell_type": "code",
   "execution_count": 31,
   "metadata": {
    "collapsed": false
   },
   "outputs": [
    {
     "data": {
      "text/plain": [
       "[11, 22, 33]"
      ]
     },
     "execution_count": 31,
     "metadata": {},
     "output_type": "execute_result"
    }
   ],
   "source": [
    "A=[11,22]\n",
    "B=A\n",
    "\n",
    "A.append(33)\n",
    "\n",
    "A\n"
   ]
  },
  {
   "cell_type": "code",
   "execution_count": 32,
   "metadata": {
    "collapsed": false
   },
   "outputs": [
    {
     "data": {
      "text/plain": [
       "[11, 22, 33]"
      ]
     },
     "execution_count": 32,
     "metadata": {},
     "output_type": "execute_result"
    }
   ],
   "source": [
    "B"
   ]
  },
  {
   "cell_type": "code",
   "execution_count": 33,
   "metadata": {
    "collapsed": true
   },
   "outputs": [],
   "source": [
    "#所以=出现，都是引用"
   ]
  },
  {
   "cell_type": "code",
   "execution_count": 34,
   "metadata": {
    "collapsed": true
   },
   "outputs": [],
   "source": [
    "#不可变类型：数字，字符串，元组\n",
    "#可变类型：列表，字典"
   ]
  },
  {
   "cell_type": "code",
   "execution_count": 35,
   "metadata": {
    "collapsed": false
   },
   "outputs": [
    {
     "ename": "TypeError",
     "evalue": "'str' object does not support item assignment",
     "output_type": "error",
     "traceback": [
      "\u001b[1;31m---------------------------------------------------------------------------\u001b[0m",
      "\u001b[1;31mTypeError\u001b[0m                                 Traceback (most recent call last)",
      "\u001b[1;32m<ipython-input-35-619c8a6689fd>\u001b[0m in \u001b[0;36m<module>\u001b[1;34m()\u001b[0m\n\u001b[0;32m      2\u001b[0m \u001b[0ma\u001b[0m\u001b[1;33m=\u001b[0m\u001b[1;34m'world'\u001b[0m\u001b[1;33m\u001b[0m\u001b[0m\n\u001b[0;32m      3\u001b[0m \u001b[1;31m#只不过指向了新的，并没有对原来字符串修改\u001b[0m\u001b[1;33m\u001b[0m\u001b[1;33m\u001b[0m\u001b[0m\n\u001b[1;32m----> 4\u001b[1;33m \u001b[0ma\u001b[0m\u001b[1;33m[\u001b[0m\u001b[1;36m0\u001b[0m\u001b[1;33m]\u001b[0m\u001b[1;33m=\u001b[0m\u001b[1;34m'q'\u001b[0m\u001b[1;33m\u001b[0m\u001b[0m\n\u001b[0m",
      "\u001b[1;31mTypeError\u001b[0m: 'str' object does not support item assignment"
     ]
    }
   ],
   "source": [
    "a='hello'\n",
    "a='world'\n",
    "#只不过指向了新的，并没有对原来字符串修改\n",
    "a[0]='q'#修改值则报错"
   ]
  },
  {
   "cell_type": "code",
   "execution_count": 37,
   "metadata": {
    "collapsed": false
   },
   "outputs": [
    {
     "data": {
      "text/plain": [
       "{'name': 'laowang', 3.14: 'heiheihei', 10: 'haha', (11, 22, 33): 'hahahaha'}"
      ]
     },
     "execution_count": 37,
     "metadata": {},
     "output_type": "execute_result"
    }
   ],
   "source": [
    "info={'name':'laowang',3.14:'heiheihei',10:'haha',(11,22,33):'hahahaha'}\n",
    "info#字符串，元组，数字都能当作key，列表不能当key，因为列表可变"
   ]
  },
  {
   "cell_type": "code",
   "execution_count": 39,
   "metadata": {
    "collapsed": false
   },
   "outputs": [
    {
     "data": {
      "text/plain": [
       "720"
      ]
     },
     "execution_count": 39,
     "metadata": {},
     "output_type": "execute_result"
    }
   ],
   "source": [
    "#阶乘--递归\n",
    "def get_num(num):\n",
    "    if num>1:\n",
    "        return num*get_num(num-1)\n",
    "    else:\n",
    "        return num\n",
    "\n",
    "get_num(6)"
   ]
  },
  {
   "cell_type": "code",
   "execution_count": 40,
   "metadata": {
    "collapsed": false
   },
   "outputs": [
    {
     "name": "stdout",
     "output_type": "stream",
     "text": [
      "[9, 432, 665, 887, 6554, 13213]\n"
     ]
    }
   ],
   "source": [
    "nums=[13213,432,6554,665,9,887]\n",
    "nums.sort()\n",
    "print(nums)"
   ]
  },
  {
   "cell_type": "code",
   "execution_count": 41,
   "metadata": {
    "collapsed": true
   },
   "outputs": [],
   "source": [
    "nums.sort(reverse=True)"
   ]
  },
  {
   "cell_type": "code",
   "execution_count": 42,
   "metadata": {
    "collapsed": false
   },
   "outputs": [
    {
     "data": {
      "text/plain": [
       "[13213, 6554, 887, 665, 432, 9]"
      ]
     },
     "execution_count": 42,
     "metadata": {},
     "output_type": "execute_result"
    }
   ],
   "source": [
    "nums"
   ]
  },
  {
   "cell_type": "code",
   "execution_count": 44,
   "metadata": {
    "collapsed": false
   },
   "outputs": [
    {
     "data": {
      "text/plain": [
       "[887, 9, 665, 6554, 432, 13213]"
      ]
     },
     "execution_count": 44,
     "metadata": {},
     "output_type": "execute_result"
    }
   ],
   "source": [
    "nums=[13213,432,6554,665,9,887]\n",
    "nums.reverse()#逆序\n",
    "nums"
   ]
  },
  {
   "cell_type": "code",
   "execution_count": 45,
   "metadata": {
    "collapsed": true
   },
   "outputs": [],
   "source": [
    "#匿名函数\n",
    "info=[{'name':'laowang','age':10},{'name':'banzhang','age':15},{'name':'sanmao','age':20}]\n",
    "info.sort(key=lambda x:x['name'])#字典传入x，然后根据字典的name内容排序"
   ]
  },
  {
   "cell_type": "code",
   "execution_count": 46,
   "metadata": {
    "collapsed": false
   },
   "outputs": [
    {
     "data": {
      "text/plain": [
       "[{'age': 15, 'name': 'banzhang'},\n",
       " {'age': 10, 'name': 'laowang'},\n",
       " {'age': 20, 'name': 'sanmao'}]"
      ]
     },
     "execution_count": 46,
     "metadata": {},
     "output_type": "execute_result"
    }
   ],
   "source": [
    "info"
   ]
  },
  {
   "cell_type": "code",
   "execution_count": 47,
   "metadata": {
    "collapsed": false
   },
   "outputs": [
    {
     "data": {
      "text/plain": [
       "[{'age': 15, 'name': 'banzhang'},\n",
       " {'age': 10, 'name': 'laowang'},\n",
       " {'age': 20, 'name': 'sanmao'}]"
      ]
     },
     "execution_count": 47,
     "metadata": {},
     "output_type": "execute_result"
    }
   ],
   "source": [
    "info.sort(key=lambda x:x['name'])#字典传入x，然后根据字典的name内容排序\n",
    "info"
   ]
  },
  {
   "cell_type": "code",
   "execution_count": 48,
   "metadata": {
    "collapsed": false
   },
   "outputs": [
    {
     "name": "stdout",
     "output_type": "stream",
     "text": [
      "33\n"
     ]
    }
   ],
   "source": [
    "def test(a,b,func):\n",
    "    result = func(a,b)\n",
    "    return result\n",
    "\n",
    "num = test(11,22,lambda x,y:x+y)\n",
    "print(num)"
   ]
  },
  {
   "cell_type": "code",
   "execution_count": 49,
   "metadata": {
    "collapsed": false
   },
   "outputs": [
    {
     "name": "stdout",
     "output_type": "stream",
     "text": [
      "请输入一个匿名函数：lambda x,y:x+y\n",
      "33\n"
     ]
    }
   ],
   "source": [
    "#py的动态特性,运行一刹那确定功能\n",
    "def test(a,b,func):\n",
    "    result = func(a,b)\n",
    "    return result\n",
    "\n",
    "func_new = input('请输入一个匿名函数：')\n",
    "\n",
    "func_new = eval(func_new)#用eval 将input的字符串改成表达式类型，eval把字符串的双引号删了\n",
    "\n",
    "num = test(11,22,func_new)\n",
    "print(num)"
   ]
  },
  {
   "cell_type": "code",
   "execution_count": 50,
   "metadata": {
    "collapsed": false
   },
   "outputs": [
    {
     "name": "stdout",
     "output_type": "stream",
     "text": [
      "2 1\n"
     ]
    }
   ],
   "source": [
    "#交换两个变量的值，不用第三个变量\n",
    "a=1\n",
    "b=2\n",
    "\n",
    "a=a+b\n",
    "b=a-b\n",
    "a=a-b \n",
    "print(a,b)"
   ]
  },
  {
   "cell_type": "code",
   "execution_count": 52,
   "metadata": {
    "collapsed": false
   },
   "outputs": [
    {
     "name": "stdout",
     "output_type": "stream",
     "text": [
      "2 1\n"
     ]
    }
   ],
   "source": [
    "#第二种方法，py特有\n",
    "a,b = b,a#a,b = 2,1\n",
    "print(a,b)"
   ]
  },
  {
   "cell_type": "code",
   "execution_count": 53,
   "metadata": {
    "collapsed": false
   },
   "outputs": [
    {
     "name": "stdout",
     "output_type": "stream",
     "text": [
      "200\n",
      "100\n"
     ]
    }
   ],
   "source": [
    "#全局变量是否为可变类型\n",
    "a = 100#常数是不可变的\n",
    "\n",
    "def test(num):\n",
    "    num+=num\n",
    "    print(num)\n",
    "    \n",
    "test(a)\n",
    "print(a)"
   ]
  },
  {
   "cell_type": "code",
   "execution_count": 54,
   "metadata": {
    "collapsed": false
   },
   "outputs": [
    {
     "name": "stdout",
     "output_type": "stream",
     "text": [
      "[100, 100]\n",
      "[100, 100]\n"
     ]
    }
   ],
   "source": [
    "#全局变量是否为可变类型\n",
    "a = [100]#列表是可变的\n",
    "\n",
    "def test(num):\n",
    "    num+=num\n",
    "    print(num)\n",
    "    \n",
    "test(a)\n",
    "print(a)"
   ]
  },
  {
   "cell_type": "code",
   "execution_count": 55,
   "metadata": {
    "collapsed": false
   },
   "outputs": [
    {
     "name": "stdout",
     "output_type": "stream",
     "text": [
      "[100, 100]\n",
      "[100]\n"
     ]
    }
   ],
   "source": [
    "#全局变量是否为可变类型\n",
    "a = [100]#列表是可变的\n",
    "\n",
    "def test(num):\n",
    "    num=num+num#右边计算得到临时结果，用num指向它\n",
    "    print(num)\n",
    "    \n",
    "test(a)\n",
    "print(a)"
   ]
  },
  {
   "cell_type": "code",
   "execution_count": 56,
   "metadata": {
    "collapsed": true
   },
   "outputs": [],
   "source": [
    "#num=num+num不等价num+=num"
   ]
  },
  {
   "cell_type": "code",
   "execution_count": 58,
   "metadata": {
    "collapsed": false
   },
   "outputs": [
    {
     "data": {
      "text/plain": [
       "[100, 200]"
      ]
     },
     "execution_count": 58,
     "metadata": {},
     "output_type": "execute_result"
    }
   ],
   "source": [
    "[100]+[200]"
   ]
  },
  {
   "cell_type": "code",
   "execution_count": 59,
   "metadata": {
    "collapsed": true
   },
   "outputs": [],
   "source": [
    "#文件的介绍"
   ]
  },
  {
   "cell_type": "code",
   "execution_count": 61,
   "metadata": {
    "collapsed": false
   },
   "outputs": [
    {
     "data": {
      "text/plain": [
       "\"\\nf = open('test.py','r')#只读打开(文件必须存在)\\nf = open('test.py','w')#只写打开（文件不存在则创建，存在则覆盖）\\nf = open('test.py','a')#追加打开（文件末尾写）\\n\""
      ]
     },
     "execution_count": 61,
     "metadata": {},
     "output_type": "execute_result"
    }
   ],
   "source": [
    "'''\n",
    "f = open('test.py','r')#只读打开(文件必须存在)\n",
    "f = open('test.py','w')#只写打开（文件不存在则创建，存在则覆盖）\n",
    "f = open('test.py','a')#追加打开（文件末尾写）\n",
    "'''\n",
    "\n"
   ]
  },
  {
   "cell_type": "code",
   "execution_count": 62,
   "metadata": {
    "collapsed": true
   },
   "outputs": [],
   "source": [
    "f = open('test.py','w')#只写打开（文件不存在则创建，存在则覆盖）"
   ]
  },
  {
   "cell_type": "code",
   "execution_count": 63,
   "metadata": {
    "collapsed": false
   },
   "outputs": [
    {
     "ename": "SyntaxError",
     "evalue": "invalid syntax (<ipython-input-63-9a265854df24>, line 1)",
     "output_type": "error",
     "traceback": [
      "\u001b[1;36m  File \u001b[1;32m\"<ipython-input-63-9a265854df24>\"\u001b[1;36m, line \u001b[1;32m1\u001b[0m\n\u001b[1;33m    f.close()|\u001b[0m\n\u001b[1;37m              ^\u001b[0m\n\u001b[1;31mSyntaxError\u001b[0m\u001b[1;31m:\u001b[0m invalid syntax\n"
     ]
    }
   ],
   "source": [
    "f.close()|"
   ]
  },
  {
   "cell_type": "code",
   "execution_count": null,
   "metadata": {
    "collapsed": true
   },
   "outputs": [],
   "source": []
  }
 ],
 "metadata": {
  "anaconda-cloud": {},
  "kernelspec": {
   "display_name": "Python [Root]",
   "language": "python",
   "name": "Python [Root]"
  },
  "language_info": {
   "codemirror_mode": {
    "name": "ipython",
    "version": 3
   },
   "file_extension": ".py",
   "mimetype": "text/x-python",
   "name": "python",
   "nbconvert_exporter": "python",
   "pygments_lexer": "ipython3",
   "version": "3.5.2"
  }
 },
 "nbformat": 4,
 "nbformat_minor": 0
}
