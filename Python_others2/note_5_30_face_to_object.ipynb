{
 "cells": [
  {
   "cell_type": "code",
   "execution_count": 1,
   "metadata": {
    "collapsed": true
   },
   "outputs": [],
   "source": [
    "#面向对象"
   ]
  },
  {
   "cell_type": "code",
   "execution_count": 2,
   "metadata": {
    "collapsed": true
   },
   "outputs": [],
   "source": [
    "#面向过程：自己靠双手按照流程解决问题\n",
    "#面向对象：找个对象，让她做，自己轻松了\n",
    "#两者都是解决问题的一种思路\n",
    "#感觉怪怪的"
   ]
  },
  {
   "cell_type": "code",
   "execution_count": 3,
   "metadata": {
    "collapsed": true
   },
   "outputs": [],
   "source": [
    "#类的描述：类名，属性，方法"
   ]
  },
  {
   "cell_type": "code",
   "execution_count": 4,
   "metadata": {
    "collapsed": false
   },
   "outputs": [
    {
     "data": {
      "text/plain": [
       "'\\nclass 类名(大驼峰命名法）：\\n    #属性\\n    \\n    #方法\\n    def xxx():\\n        pass\\n'"
      ]
     },
     "execution_count": 4,
     "metadata": {},
     "output_type": "execute_result"
    }
   ],
   "source": [
    "'''\n",
    "class 类名(大驼峰命名法）：\n",
    "    #属性\n",
    "    \n",
    "    #方法\n",
    "    def xxx():\n",
    "        pass\n",
    "'''"
   ]
  },
  {
   "cell_type": "code",
   "execution_count": 5,
   "metadata": {
    "collapsed": true
   },
   "outputs": [],
   "source": [
    "class Cat:\n",
    "    \n",
    "    def eat(selt):\n",
    "        print('猫在吃鱼')\n",
    "    \n",
    "    def drink(self):\n",
    "        print('猫正在喝可乐')"
   ]
  },
  {
   "cell_type": "code",
   "execution_count": 6,
   "metadata": {
    "collapsed": false
   },
   "outputs": [
    {
     "name": "stdout",
     "output_type": "stream",
     "text": [
      "猫在吃鱼\n",
      "猫正在喝可乐\n"
     ]
    }
   ],
   "source": [
    "#创建一个对象\n",
    "tom=Cat()\n",
    "\n",
    "tom.eat()#调用tom指向的对象的方法\n",
    "tom.drink()"
   ]
  },
  {
   "cell_type": "code",
   "execution_count": 7,
   "metadata": {
    "collapsed": false
   },
   "outputs": [
    {
     "name": "stdout",
     "output_type": "stream",
     "text": [
      "猫在吃鱼\n",
      "猫正在喝可乐\n",
      "汤姆的年龄是：40\n"
     ]
    }
   ],
   "source": [
    "class Cat:\n",
    "    \n",
    "    def eat(selt):\n",
    "        print('猫在吃鱼')\n",
    "    \n",
    "    def drink(self):\n",
    "        print('猫正在喝可乐')\n",
    "\n",
    "#创建一个对象\n",
    "tom=Cat()\n",
    "\n",
    "tom.eat()#调用tom指向的对象的方法\n",
    "tom.drink()\n",
    "\n",
    "#添加属性,属性就是变量\n",
    "tom.name = '汤姆'\n",
    "tom.age = 40\n",
    "\n",
    "print('%s的年龄是：%d'%(tom.name,tom.age))\n"
   ]
  },
  {
   "cell_type": "code",
   "execution_count": 1,
   "metadata": {
    "collapsed": false
   },
   "outputs": [
    {
     "name": "stdout",
     "output_type": "stream",
     "text": [
      "猫在吃鱼\n",
      "猫正在喝可乐\n",
      "汤姆的年龄是：40\n"
     ]
    }
   ],
   "source": [
    "class Cat:\n",
    "    \n",
    "    def eat(self):\n",
    "        print('猫在吃鱼')\n",
    "    \n",
    "    def drink(self):\n",
    "        print('猫正在喝可乐')\n",
    "    \n",
    "    def introduce(self):\n",
    "        print('%s的年龄是：%d'%(tom.name,tom.age))\n",
    "\n",
    "#创建一个对象\n",
    "tom=Cat()\n",
    "\n",
    "tom.eat()#调用tom指向的对象的方法\n",
    "tom.drink()\n",
    "\n",
    "#添加属性,属性就是变量\n",
    "tom.name = '汤姆'\n",
    "tom.age = 40\n",
    "\n",
    "tom.introduce()\n"
   ]
  },
  {
   "cell_type": "code",
   "execution_count": 10,
   "metadata": {
    "collapsed": false
   },
   "outputs": [
    {
     "name": "stdout",
     "output_type": "stream",
     "text": [
      "猫在吃鱼\n",
      "猫正在喝可乐\n",
      "汤姆的年龄是：40\n",
      "汤姆的年龄是：40\n"
     ]
    }
   ],
   "source": [
    "class Cat:\n",
    "    \n",
    "    def eat(selt):\n",
    "        print('猫在吃鱼')\n",
    "    \n",
    "    def drink(self):\n",
    "        print('猫正在喝可乐')\n",
    "    \n",
    "    def introduce(self):\n",
    "        print('%s的年龄是：%d'%(tom.name,tom.age))\n",
    "\n",
    "#创建一个对象\n",
    "tom=Cat()\n",
    "\n",
    "tom.eat()#调用tom指向的对象的方法\n",
    "tom.drink()\n",
    "\n",
    "#添加属性,属性就是变量\n",
    "tom.name = '汤姆'\n",
    "tom.age = 40\n",
    "\n",
    "tom.introduce()\n",
    "\n",
    "\n",
    "lanmao = Cat()#创建新对象\n",
    "lanmao.name = '蓝猫'\n",
    "lanmao.age = 10\n",
    "lanmao.introduce()"
   ]
  },
  {
   "cell_type": "code",
   "execution_count": 11,
   "metadata": {
    "collapsed": true
   },
   "outputs": [],
   "source": [
    "#lanmao用了tom的。。"
   ]
  },
  {
   "cell_type": "code",
   "execution_count": 12,
   "metadata": {
    "collapsed": false
   },
   "outputs": [
    {
     "name": "stdout",
     "output_type": "stream",
     "text": [
      "猫在吃鱼\n",
      "猫正在喝可乐\n",
      "汤姆的年龄是：40\n",
      "蓝猫的年龄是：10\n"
     ]
    }
   ],
   "source": [
    "class Cat:\n",
    "    \n",
    "    def eat(selt):\n",
    "        print('猫在吃鱼')\n",
    "    \n",
    "    def drink(self):\n",
    "        print('猫正在喝可乐')\n",
    "    \n",
    "    def introduce(self):\n",
    "        print('%s的年龄是：%d'%(self.name,self.age))\n",
    "\n",
    "#创建一个对象\n",
    "tom=Cat()\n",
    "\n",
    "tom.eat()#调用tom指向的对象的方法\n",
    "tom.drink()\n",
    "\n",
    "#添加属性,属性就是变量\n",
    "tom.name = '汤姆'\n",
    "tom.age = 40\n",
    "\n",
    "tom.introduce()\n",
    "\n",
    "\n",
    "lanmao = Cat()#创建新对象\n",
    "lanmao.name = '蓝猫'\n",
    "lanmao.age = 10\n",
    "lanmao.introduce()#相当于tom.introduce（tom）"
   ]
  },
  {
   "cell_type": "code",
   "execution_count": 13,
   "metadata": {
    "collapsed": true
   },
   "outputs": [],
   "source": [
    "#self用到了，通过哪个对象调用的，self就是谁，self也可以写为a，但是大家通用self"
   ]
  },
  {
   "cell_type": "code",
   "execution_count": 5,
   "metadata": {
    "collapsed": false
   },
   "outputs": [
    {
     "name": "stdout",
     "output_type": "stream",
     "text": [
      "-----------haha-----------\n",
      "猫在吃鱼\n",
      "猫正在喝可乐\n",
      "汤姆的年龄是：40\n",
      "-----------haha-----------\n",
      "蓝猫的年龄是：10\n"
     ]
    }
   ],
   "source": [
    "class Cat:\n",
    "    \n",
    "    #定义初始化对象方法\n",
    "    def __init__(self):\n",
    "        print('-----------haha-----------')\n",
    "    \n",
    "    def eat(selt):\n",
    "        print('猫在吃鱼')\n",
    "    \n",
    "    def drink(self):\n",
    "        print('猫正在喝可乐')\n",
    "    \n",
    "    def introduce(self):\n",
    "        print('%s的年龄是：%d'%(self.name,self.age))\n",
    "\n",
    "#创建一个对象\n",
    "tom=Cat()\n",
    "tom.eat()#调用tom指向的对象的方法\n",
    "tom.drink()\n",
    "tom.name = '汤姆'#添加属性,属性就是变量\n",
    "tom.age = 40\n",
    "tom.introduce()\n",
    "\n",
    "\n",
    "lanmao = Cat()#创建新对象\n",
    "lanmao.name = '蓝猫'\n",
    "lanmao.age = 10\n",
    "lanmao.introduce()#相当于tom.introduce（tom）\n"
   ]
  },
  {
   "cell_type": "code",
   "execution_count": 2,
   "metadata": {
    "collapsed": true
   },
   "outputs": [],
   "source": [
    "#创建对象的方法\n",
    "#1.创建一个对象\n",
    "#2.python会自动的调用__init__方法\n",
    "#3.返回创建的对象的引用给tom"
   ]
  },
  {
   "cell_type": "code",
   "execution_count": 6,
   "metadata": {
    "collapsed": false
   },
   "outputs": [
    {
     "name": "stdout",
     "output_type": "stream",
     "text": [
      "猫在吃鱼\n",
      "猫正在喝可乐\n",
      "汤姆的年龄是：40\n",
      "蓝猫的年龄是：10\n"
     ]
    }
   ],
   "source": [
    "class Cat:\n",
    "    \n",
    "    #定义初始化对象方法\n",
    "    def __init__(self,new_name,new_age):\n",
    "        self.name = new_name\n",
    "        self.age = new_age\n",
    "    \n",
    "    def eat(selt):\n",
    "        print('猫在吃鱼')\n",
    "    \n",
    "    def drink(self):\n",
    "        print('猫正在喝可乐')\n",
    "    \n",
    "    def introduce(self):\n",
    "        print('%s的年龄是：%d'%(self.name,self.age))\n",
    "\n",
    "#创建一个对象\n",
    "tom=Cat('汤姆',40)\n",
    "tom.eat()#调用tom指向的对象的方法\n",
    "tom.drink()\n",
    "#tom.name = '汤姆'#添加属性,属性就是变量\n",
    "#tom.age = 40\n",
    "tom.introduce()\n",
    "\n",
    "\n",
    "lanmao = Cat('蓝猫',10)#创建新对象\n",
    "#lanmao.name = '蓝猫'\n",
    "#lanmao.age = 10\n",
    "lanmao.introduce()#相当于tom.introduce（tom）\n"
   ]
  },
  {
   "cell_type": "code",
   "execution_count": 7,
   "metadata": {
    "collapsed": true
   },
   "outputs": [],
   "source": [
    "#__str__()方法,自动调用，完成"
   ]
  },
  {
   "cell_type": "code",
   "execution_count": 9,
   "metadata": {
    "collapsed": false
   },
   "outputs": [
    {
     "name": "stdout",
     "output_type": "stream",
     "text": [
      "<__main__.Cat object at 0x0000000003F829E8>\n",
      "<__main__.Cat object at 0x0000000003F82A58>\n"
     ]
    }
   ],
   "source": [
    "class Cat:\n",
    "    \n",
    "    #定义初始化对象方法\n",
    "    def __init__(self,new_name,new_age):\n",
    "        self.name = new_name\n",
    "        self.age = new_age\n",
    "        \n",
    "    #def __str__(self):\n",
    "     #   pass\n",
    "        \n",
    "        \n",
    "    \n",
    "    def eat(selt):\n",
    "        print('猫在吃鱼')\n",
    "    \n",
    "    def drink(self):\n",
    "        print('猫正在喝可乐')\n",
    "    \n",
    "    def introduce(self):\n",
    "        print('%s的年龄是：%d'%(self.name,self.age))\n",
    "\n",
    "#创建一个对象\n",
    "tom=Cat('汤姆',40)\n",
    "\n",
    "lanmao = Cat('蓝猫',10)#创建新对象\n",
    "\n",
    "print(tom)\n",
    "print(lanmao)\n",
    "#显示引用地址位置\n",
    "\n"
   ]
  },
  {
   "cell_type": "code",
   "execution_count": 10,
   "metadata": {
    "collapsed": false
   },
   "outputs": [
    {
     "name": "stdout",
     "output_type": "stream",
     "text": [
      "heiheihei\n",
      "heiheihei\n"
     ]
    }
   ],
   "source": [
    "class Cat:\n",
    "    \n",
    "    #定义初始化对象方法\n",
    "    def __init__(self,new_name,new_age):\n",
    "        self.name = new_name\n",
    "        self.age = new_age\n",
    "        \n",
    "    def __str__(self):\n",
    "        return 'heiheihei'\n",
    "        \n",
    "        \n",
    "    \n",
    "    def eat(selt):\n",
    "        print('猫在吃鱼')\n",
    "    \n",
    "    def drink(self):\n",
    "        print('猫正在喝可乐')\n",
    "    \n",
    "    def introduce(self):\n",
    "        print('%s的年龄是：%d'%(self.name,self.age))\n",
    "\n",
    "#创建一个对象\n",
    "tom=Cat('汤姆',40)\n",
    "\n",
    "lanmao = Cat('蓝猫',10)#创建新对象\n",
    "\n",
    "print(tom)\n",
    "print(lanmao)\n",
    "#显示引用地址位置"
   ]
  },
  {
   "cell_type": "code",
   "execution_count": 11,
   "metadata": {
    "collapsed": false
   },
   "outputs": [
    {
     "name": "stdout",
     "output_type": "stream",
     "text": [
      "汤姆的年龄是:40\n",
      "蓝猫的年龄是:10\n"
     ]
    }
   ],
   "source": [
    "class Cat:\n",
    "    \n",
    "    #定义初始化对象方法\n",
    "    def __init__(self,new_name,new_age):\n",
    "        self.name = new_name#self.name不是局部变量，而是对象里创建的变量\n",
    "        self.age = new_age\n",
    "        \n",
    "    def __str__(self):\n",
    "        return '%s的年龄是:%d'%(self.name,self.age)#self.name这里能用      \n",
    "        \n",
    "    \n",
    "    def eat(selt):\n",
    "        print('猫在吃鱼')\n",
    "    \n",
    "    def drink(self):\n",
    "        print('猫正在喝可乐')\n",
    "    \n",
    "    def introduce(self):\n",
    "        print('%s的年龄是：%d'%(self.name,self.age))\n",
    "\n",
    "#创建一个对象\n",
    "tom=Cat('汤姆',40)\n",
    "\n",
    "lanmao = Cat('蓝猫',10)#创建新对象\n",
    "\n",
    "print(tom)\n",
    "print(lanmao)\n",
    "#显示引用地址位置\n",
    "\n",
    "#用哪个对象调用方法，self就指向哪个变量"
   ]
  },
  {
   "cell_type": "code",
   "execution_count": 8,
   "metadata": {
    "collapsed": false
   },
   "outputs": [
    {
     "name": "stdout",
     "output_type": "stream",
     "text": [
      "地瓜状态：生的(0)\n"
     ]
    }
   ],
   "source": [
    "class SweetPotato:\n",
    "    \n",
    "    def __init__(self):\n",
    "        self.cookedString = '生的'\n",
    "        self.cookedLevel = 0\n",
    "        \n",
    "    def __str__(self):\n",
    "        return '地瓜状态：%s(%d)'%(self.cookedString,self.cookedLevel)\n",
    "    \n",
    "    def cook(self,cook_time):\n",
    "        if cook_time >= 0 and cook_time < 3:\n",
    "            self.cookedString = '生的'\n",
    "        elif cook_time >= 3 and cook_time < 5:\n",
    "            self.cookedString = '半生不熟'\n",
    "        elif cook_time >= 5 and cook_time < 8:\n",
    "            self.cookedString = '熟的'\n",
    "        elif cook_time >= 8:\n",
    "            self.cookedString = '烤糊了'\n",
    "    \n",
    "#创建了一个地瓜对象\n",
    "di_gua = SweetPotato()\n",
    "\n",
    "print(di_gua)\n",
    "\n",
    "#开始烤地瓜\n",
    "di_gua.cook(20)"
   ]
  },
  {
   "cell_type": "code",
   "execution_count": 23,
   "metadata": {
    "collapsed": false
   },
   "outputs": [
    {
     "name": "stdout",
     "output_type": "stream",
     "text": [
      "地瓜状态：生的(0)\n",
      "地瓜状态：生的(1)\n",
      "地瓜状态：生的(2)\n",
      "地瓜状态：半生不熟(3)\n",
      "地瓜状态：半生不熟(4)\n",
      "地瓜状态：熟的(5)\n",
      "地瓜状态：熟的(6)\n",
      "地瓜状态：熟的(7)\n",
      "地瓜状态：烤糊了(8)\n",
      "地瓜状态：烤糊了(9)\n",
      "地瓜状态：烤糊了(10)\n",
      "地瓜状态：烤糊了(11)\n"
     ]
    }
   ],
   "source": [
    "class SweetPotato:\n",
    "    \n",
    "    def __init__(self):\n",
    "        self.cookedString = '生的'\n",
    "        self.cookedLevel = 0\n",
    "        \n",
    "    def __str__(self):\n",
    "        return '地瓜状态：%s(%d)'%(self.cookedString,self.cookedLevel)\n",
    "    \n",
    "    def cook(self,cooked_time):\n",
    "        \n",
    "        self.cookedLevel += cooked_time#要多次调用某个方法，\n",
    "        #方法要用上次的结果，找到当前对象的一个属性，把这个东西扔到该对象的属性里\n",
    "        #对象结束时才属性消失\n",
    "        \n",
    "        if self.cookedLevel >= 0 and self.cookedLevel < 3:\n",
    "            self.cookedString = '生的'\n",
    "        elif self.cookedLevel >= 3 and self.cookedLevel < 5:\n",
    "            self.cookedString = '半生不熟'\n",
    "        elif self.cookedLevel >= 5 and self.cookedLevel < 8:\n",
    "            self.cookedString = '熟的'\n",
    "        elif self.cookedLevel >= 8:\n",
    "            self.cookedString = '烤糊了'\n",
    "    \n",
    "#创建了一个地瓜对象\n",
    "di_gua = SweetPotato()\n",
    "\n",
    "print(di_gua)\n",
    "\n",
    "#开始烤地瓜\n",
    "di_gua.cook(1)\n",
    "\n",
    "print(di_gua)\n",
    "di_gua.cook(1)\n",
    "\n",
    "print(di_gua)\n",
    "di_gua.cook(1)\n",
    "\n",
    "print(di_gua)\n",
    "di_gua.cook(1)\n",
    "\n",
    "print(di_gua)\n",
    "di_gua.cook(1)\n",
    "\n",
    "print(di_gua)\n",
    "di_gua.cook(1)\n",
    "\n",
    "print(di_gua)\n",
    "di_gua.cook(1)\n",
    "\n",
    "print(di_gua)\n",
    "di_gua.cook(1)\n",
    "\n",
    "print(di_gua)\n",
    "di_gua.cook(1)\n",
    "\n",
    "print(di_gua)\n",
    "di_gua.cook(1)\n",
    "\n",
    "print(di_gua)\n",
    "di_gua.cook(1)\n",
    "\n",
    "print(di_gua)\n",
    "di_gua.cook(1)"
   ]
  },
  {
   "cell_type": "code",
   "execution_count": 26,
   "metadata": {
    "collapsed": false,
    "scrolled": false
   },
   "outputs": [
    {
     "name": "stdout",
     "output_type": "stream",
     "text": [
      "地瓜状态：生的(0),添加的佐料有：[]\n",
      "地瓜状态：生的(1),添加的佐料有：[]\n",
      "地瓜状态：生的(2),添加的佐料有：['番茄酱']\n",
      "地瓜状态：半生不熟(3),添加的佐料有：['番茄酱']\n",
      "地瓜状态：半生不熟(4),添加的佐料有：['番茄酱']\n",
      "地瓜状态：熟的(5),添加的佐料有：['番茄酱', '孜然']\n",
      "地瓜状态：熟的(6),添加的佐料有：['番茄酱', '孜然']\n",
      "地瓜状态：熟的(7),添加的佐料有：['番茄酱', '孜然']\n",
      "地瓜状态：烤糊了(8),添加的佐料有：['番茄酱', '孜然']\n",
      "地瓜状态：烤糊了(9),添加的佐料有：['番茄酱', '孜然', '芥末']\n",
      "地瓜状态：烤糊了(10),添加的佐料有：['番茄酱', '孜然', '芥末']\n",
      "地瓜状态：烤糊了(11),添加的佐料有：['番茄酱', '孜然', '芥末']\n"
     ]
    }
   ],
   "source": [
    " class SweetPotato:\n",
    "    \n",
    "    def __init__(self):\n",
    "        self.cookedString = '生的'\n",
    "        self.cookedLevel = 0\n",
    "        self.condiments = []\n",
    "        \n",
    "    def __str__(self):\n",
    "        return '地瓜状态：%s(%d),添加的佐料有：%s'%(self.cookedString,self.cookedLevel,str(self.condiments))\n",
    "    \n",
    "    def cook(self,cooked_time):\n",
    "        \n",
    "        self.cookedLevel += cooked_time#要多次调用某个方法，\n",
    "        #方法要用上次的结果，找到当前对象的一个属性，把这个东西扔到该对象的属性里\n",
    "        #对象结束时才属性消失\n",
    "        \n",
    "        if self.cookedLevel >= 0 and self.cookedLevel < 3:\n",
    "            self.cookedString = '生的'\n",
    "        elif self.cookedLevel >= 3 and self.cookedLevel < 5:\n",
    "            self.cookedString = '半生不熟'\n",
    "        elif self.cookedLevel >= 5 and self.cookedLevel < 8:\n",
    "            self.cookedString = '熟的'\n",
    "        elif self.cookedLevel >= 8:\n",
    "            self.cookedString = '烤糊了'\n",
    "    \n",
    "    def addCondiments(self,item):\n",
    "        #保存数据===属性\n",
    "        self.condiments.append(item)\n",
    "    \n",
    "#创建了一个地瓜对象\n",
    "di_gua = SweetPotato()\n",
    "\n",
    "print(di_gua)\n",
    "\n",
    "#开始烤地瓜\n",
    "di_gua.cook(1)\n",
    "\n",
    "print(di_gua)\n",
    "di_gua.cook(1)\n",
    "\n",
    "di_gua.addCondiments('番茄酱')\n",
    "\n",
    "print(di_gua)\n",
    "di_gua.cook(1)\n",
    "\n",
    "print(di_gua)\n",
    "di_gua.cook(1)\n",
    "\n",
    "print(di_gua)\n",
    "di_gua.cook(1)\n",
    "\n",
    "di_gua.addCondiments('孜然')\n",
    "\n",
    "print(di_gua)\n",
    "di_gua.cook(1)\n",
    "\n",
    "print(di_gua)\n",
    "di_gua.cook(1)\n",
    "\n",
    "print(di_gua)\n",
    "di_gua.cook(1)\n",
    "\n",
    "print(di_gua)\n",
    "di_gua.cook(1)\n",
    "\n",
    "di_gua.addCondiments('芥末')\n",
    "\n",
    "print(di_gua)\n",
    "di_gua.cook(1)\n",
    "\n",
    "print(di_gua)\n",
    "di_gua.cook(1)\n",
    "\n",
    "print(di_gua)\n",
    "di_gua.cook(1)"
   ]
  },
  {
   "cell_type": "code",
   "execution_count": 38,
   "metadata": {
    "collapsed": false
   },
   "outputs": [
    {
     "name": "stdout",
     "output_type": "stream",
     "text": [
      "房子的面积是:129,户型是:三室一厅,地址是:北京市 朝阳区 长安街 666号\n"
     ]
    }
   ],
   "source": [
    "#存放家具（把一个对象添加到另一个对象属性里）\n",
    "\n",
    "class Home:\n",
    "    def __init__(self,new_area,new_info,new_addr):\n",
    "        self.area = new_area\n",
    "        self.info = new_info\n",
    "        self.addr = new_addr\n",
    "    \n",
    "    def __str__(self):\n",
    "        return '房子的面积是:%d,户型是:%s,地址是:%s'%(self.area,self.info,self.addr)\n",
    "        \n",
    "fangzi = Home(129,'三室一厅','北京市 朝阳区 长安街 666号')\n",
    "print(fangzi)"
   ]
  },
  {
   "cell_type": "code",
   "execution_count": 40,
   "metadata": {
    "collapsed": false
   },
   "outputs": [
    {
     "name": "stdout",
     "output_type": "stream",
     "text": [
      "房子的面积是:129,户型是:三室一厅,地址是:北京市 朝阳区 长安街 666号\n",
      "席梦思占用的面积是：4\n"
     ]
    }
   ],
   "source": [
    "#存放家具（把一个对象添加到另一个对象属性里）\n",
    "\n",
    "class Home:\n",
    "    def __init__(self,new_area,new_info,new_addr):\n",
    "        self.area = new_area\n",
    "        self.info = new_info\n",
    "        self.addr = new_addr\n",
    "    \n",
    "    def __str__(self):\n",
    "        return '房子的面积是:%d,户型是:%s,地址是:%s'%(self.area,self.info,self.addr)\n",
    "\n",
    "class Bed:\n",
    "    def __init__(self,new_name,new_area):\n",
    "        self.name = new_name\n",
    "        self.area = new_area\n",
    "        \n",
    "    def __str__(self):\n",
    "        return '%s占用的面积是：%d'%(self.name,self.area)\n",
    "    \n",
    "fangzi = Home(129,'三室一厅','北京市 朝阳区 长安街 666号')\n",
    "print(fangzi)\n",
    "\n",
    "bed1 = Bed('席梦思',4)\n",
    "print(bed1)\n"
   ]
  },
  {
   "cell_type": "code",
   "execution_count": 49,
   "metadata": {
    "collapsed": false
   },
   "outputs": [
    {
     "name": "stdout",
     "output_type": "stream",
     "text": [
      "房子的总面积是:129,可用面积是:129,户型是:三室一厅,地址是:北京市 朝阳区 长安街 666号当前房子里的物品有[]\n",
      "席梦思占用的面积是：4\n",
      "房子的总面积是:129,可用面积是:125,户型是:三室一厅,地址是:北京市 朝阳区 长安街 666号当前房子里的物品有['席梦思']\n",
      "房子的总面积是:129,可用面积是:119,户型是:三室一厅,地址是:北京市 朝阳区 长安街 666号当前房子里的物品有['席梦思', '三人床']\n"
     ]
    }
   ],
   "source": [
    "#把家具放到房子里\n",
    "\n",
    "class Home:\n",
    "    def __init__(self,new_area,new_info,new_addr):\n",
    "        self.area = new_area\n",
    "        self.info = new_info\n",
    "        self.addr = new_addr\n",
    "        self.left_area = new_area \n",
    "        self.contain_items = []#保存物品的名字\n",
    "    \n",
    "    def __str__(self):\n",
    "        msg = '房子的总面积是:%d,可用面积是:%d,户型是:%s,地址是:%s'%(self.area,self.left_area,self.info,self.addr)\n",
    "        msg += '当前房子里的物品有%s'%(str(self.contain_items))\n",
    "        return msg\n",
    "        \n",
    "    def add_item(self,item):\n",
    "        self.left_area -= item.area #item.area获取对象的属性，家具占用空间\n",
    "        self.contain_items.append(item.name)\n",
    "    \n",
    "class Bed:\n",
    "    def __init__(self,new_name,new_area):\n",
    "        self.name = new_name\n",
    "        self.area = new_area\n",
    "        \n",
    "    def __str__(self):\n",
    "        return '%s占用的面积是：%d'%(self.name,self.area)\n",
    "    \n",
    "fangzi = Home(129,'三室一厅','北京市 朝阳区 长安街 666号')\n",
    "print(fangzi)\n",
    "\n",
    "bed1 = Bed('席梦思',4)\n",
    "print(bed1)\n",
    "\n",
    "fangzi.add_item(bed1)\n",
    "print(fangzi)\n",
    "\n",
    "bed2 = Bed('三人床',6)\n",
    "fangzi.add_item(bed2)\n",
    "print(fangzi)"
   ]
  },
  {
   "cell_type": "code",
   "execution_count": 56,
   "metadata": {
    "collapsed": false
   },
   "outputs": [
    {
     "name": "stdout",
     "output_type": "stream",
     "text": [
      "房子的总面积是:129,可用面积是:129,户型是:三室一厅,地址是:北京市 朝阳区 长安街 666号当前房子里的物品有[]\n",
      "席梦思占用的面积是：4\n"
     ]
    },
    {
     "ename": "TypeError",
     "evalue": "unsupported operand type(s) for -=: 'int' and 'str'",
     "output_type": "error",
     "traceback": [
      "\u001b[1;31m---------------------------------------------------------------------------\u001b[0m",
      "\u001b[1;31mTypeError\u001b[0m                                 Traceback (most recent call last)",
      "\u001b[1;32m<ipython-input-56-bcf4479fe077>\u001b[0m in \u001b[0;36m<module>\u001b[1;34m()\u001b[0m\n\u001b[0;32m     43\u001b[0m \u001b[0mprint\u001b[0m\u001b[1;33m(\u001b[0m\u001b[0mbed1\u001b[0m\u001b[1;33m)\u001b[0m\u001b[1;33m\u001b[0m\u001b[0m\n\u001b[0;32m     44\u001b[0m \u001b[1;33m\u001b[0m\u001b[0m\n\u001b[1;32m---> 45\u001b[1;33m \u001b[0mfangzi\u001b[0m\u001b[1;33m.\u001b[0m\u001b[0madd_item\u001b[0m\u001b[1;33m(\u001b[0m\u001b[0mbed1\u001b[0m\u001b[1;33m)\u001b[0m\u001b[1;33m\u001b[0m\u001b[0m\n\u001b[0m\u001b[0;32m     46\u001b[0m \u001b[0mprint\u001b[0m\u001b[1;33m(\u001b[0m\u001b[0mfangzi\u001b[0m\u001b[1;33m)\u001b[0m\u001b[1;33m\u001b[0m\u001b[0m\n\u001b[0;32m     47\u001b[0m \u001b[1;33m\u001b[0m\u001b[0m\n",
      "\u001b[1;32m<ipython-input-56-bcf4479fe077>\u001b[0m in \u001b[0;36madd_item\u001b[1;34m(self, item)\u001b[0m\n\u001b[0;32m     19\u001b[0m         \u001b[1;31m#self.contain_items.append(item.name)\u001b[0m\u001b[1;33m\u001b[0m\u001b[1;33m\u001b[0m\u001b[0m\n\u001b[0;32m     20\u001b[0m \u001b[1;33m\u001b[0m\u001b[0m\n\u001b[1;32m---> 21\u001b[1;33m         \u001b[0mself\u001b[0m\u001b[1;33m.\u001b[0m\u001b[0mleft_area\u001b[0m \u001b[1;33m-=\u001b[0m \u001b[0mitem\u001b[0m\u001b[1;33m.\u001b[0m\u001b[0mget_area\u001b[0m\u001b[1;33m(\u001b[0m\u001b[1;33m)\u001b[0m \u001b[1;31m#item.area获取对象的属性，家具占用空间\u001b[0m\u001b[1;33m\u001b[0m\u001b[0m\n\u001b[0m\u001b[0;32m     22\u001b[0m         \u001b[0mself\u001b[0m\u001b[1;33m.\u001b[0m\u001b[0mcontain_items\u001b[0m\u001b[1;33m.\u001b[0m\u001b[0mappend\u001b[0m\u001b[1;33m(\u001b[0m\u001b[0mitem\u001b[0m\u001b[1;33m.\u001b[0m\u001b[0mget_name\u001b[0m\u001b[1;33m(\u001b[0m\u001b[1;33m)\u001b[0m\u001b[1;33m)\u001b[0m\u001b[1;33m\u001b[0m\u001b[0m\n\u001b[0;32m     23\u001b[0m \u001b[1;33m\u001b[0m\u001b[0m\n",
      "\u001b[1;31mTypeError\u001b[0m: unsupported operand type(s) for -=: 'int' and 'str'"
     ]
    }
   ],
   "source": [
    "\n",
    "#把家具放到房子里\n",
    "\n",
    "class Home:\n",
    "    def __init__(self,new_area,new_info,new_addr):\n",
    "        self.area = new_area\n",
    "        self.info = new_info\n",
    "        self.addr = new_addr\n",
    "        self.left_area = new_area \n",
    "        self.contain_items = []#保存物品的名字\n",
    "    \n",
    "    def __str__(self):\n",
    "        msg = '房子的总面积是:%d,可用面积是:%d,户型是:%s,地址是:%s'%(self.area,self.left_area,self.info,self.addr)\n",
    "        msg += '当前房子里的物品有%s'%(str(self.contain_items))\n",
    "        return msg\n",
    "        \n",
    "    def add_item(self,item):\n",
    "        #self.left_area -= item.area #item.area获取对象的属性，家具占用空间\n",
    "        #self.contain_items.append(item.name)\n",
    "        \n",
    "        self.left_area -= item.get_area() #item.area获取对象的属性，家具占用空间\n",
    "        self.contain_items.append(item.get_name())\n",
    "    \n",
    "class Bed:\n",
    "    def __init__(self,new_name,new_area):\n",
    "        self.name = new_name\n",
    "        self.area = new_area\n",
    "        \n",
    "    def __str__(self):\n",
    "        return '%s占用的面积是：%d'%(self.name,self.area)\n",
    "    \n",
    "    #能直接获取属性的地方都用方法获取   \n",
    "    def get_area(self):\n",
    "        return self.area\n",
    "    \n",
    "    def get_area(self):\n",
    "        return self.name\n",
    "    \n",
    "fangzi = Home(129,'三室一厅','北京市 朝阳区 长安街 666号')\n",
    "print(fangzi)    \n",
    "\n",
    "bed1 = Bed('席梦思',4)\n",
    "print(bed1)\n",
    "\n",
    "fangzi.add_item(bed1)\n",
    "print(fangzi)\n",
    "\n",
    "bed2 = Bed('三人床',6)\n",
    "fangzi.add_item(bed2)\n",
    "print(fangzi)\n"
   ]
  },
  {
   "cell_type": "code",
   "execution_count": null,
   "metadata": {
    "collapsed": true
   },
   "outputs": [],
   "source": []
  }
 ],
 "metadata": {
  "anaconda-cloud": {},
  "kernelspec": {
   "display_name": "Python [Root]",
   "language": "python",
   "name": "Python [Root]"
  },
  "language_info": {
   "codemirror_mode": {
    "name": "ipython",
    "version": 3
   },
   "file_extension": ".py",
   "mimetype": "text/x-python",
   "name": "python",
   "nbconvert_exporter": "python",
   "pygments_lexer": "ipython3",
   "version": "3.5.2"
  }
 },
 "nbformat": 4,
 "nbformat_minor": 0
}
