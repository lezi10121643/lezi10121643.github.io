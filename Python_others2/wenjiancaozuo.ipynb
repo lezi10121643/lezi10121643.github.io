{
 "cells": [
  {
   "cell_type": "code",
   "execution_count": 3,
   "metadata": {
    "collapsed": true
   },
   "outputs": [],
   "source": [
    "##python IO 与档案处理"
   ]
  },
  {
   "cell_type": "code",
   "execution_count": 2,
   "metadata": {
    "collapsed": true
   },
   "outputs": [],
   "source": [
    "f=open('tmp.txt',\n",
    "       'w'\n",
    "      )\n",
    "f.write('hello world')\n",
    "f.close()"
   ]
  },
  {
   "cell_type": "code",
   "execution_count": 6,
   "metadata": {
    "collapsed": true
   },
   "outputs": [],
   "source": [
    "with open('tmp.txt','w') as f:#不用写close()\n",
    "    f.write('hello\\nworld')"
   ]
  },
  {
   "cell_type": "code",
   "execution_count": 7,
   "metadata": {
    "collapsed": false
   },
   "outputs": [
    {
     "name": "stdout",
     "output_type": "stream",
     "text": [
      "hello\n",
      "world\n"
     ]
    }
   ],
   "source": [
    "with open('tmp.txt','r') as f:\n",
    "    print(f.read())"
   ]
  },
  {
   "cell_type": "code",
   "execution_count": 8,
   "metadata": {
    "collapsed": false
   },
   "outputs": [
    {
     "name": "stdout",
     "output_type": "stream",
     "text": [
      "hello\n",
      "\n",
      "world\n"
     ]
    }
   ],
   "source": [
    "with open('tmp.txt','r') as f:\n",
    "    for line in f.readlines():#一行一行打印出\n",
    "        print(line)"
   ]
  },
  {
   "cell_type": "code",
   "execution_count": 9,
   "metadata": {
    "collapsed": false
   },
   "outputs": [
    {
     "name": "stdout",
     "output_type": "stream",
     "text": [
      "hello\n",
      "world\n"
     ]
    }
   ],
   "source": [
    "#印的时候不要有多余换行\n",
    "with open('tmp.txt','r') as f:\n",
    "    for line in f.readlines():#一行一行打印出\n",
    "        print(line.strip())"
   ]
  },
  {
   "cell_type": "code",
   "execution_count": 2,
   "metadata": {
    "collapsed": false
   },
   "outputs": [
    {
     "ename": "UnicodeDecodeError",
     "evalue": "'utf-8' codec can't decode byte 0xb1 in position 2: invalid start byte",
     "output_type": "error",
     "traceback": [
      "\u001b[1;31m---------------------------------------------------------------------------\u001b[0m",
      "\u001b[1;31mUnicodeDecodeError\u001b[0m                        Traceback (most recent call last)",
      "\u001b[1;32m<ipython-input-2-3a857ea34e5e>\u001b[0m in \u001b[0;36m<module>\u001b[1;34m()\u001b[0m\n\u001b[0;32m      1\u001b[0m \u001b[1;32mwith\u001b[0m \u001b[0mopen\u001b[0m\u001b[1;33m(\u001b[0m\u001b[1;34m'Population3.csv'\u001b[0m\u001b[1;33m,\u001b[0m\u001b[1;34m'r'\u001b[0m\u001b[1;33m,\u001b[0m\u001b[0mencoding\u001b[0m\u001b[1;33m=\u001b[0m\u001b[1;34m'utf-8'\u001b[0m\u001b[1;33m)\u001b[0m \u001b[1;32mas\u001b[0m \u001b[0mf\u001b[0m\u001b[1;33m:\u001b[0m\u001b[1;33m\u001b[0m\u001b[0m\n\u001b[1;32m----> 2\u001b[1;33m     \u001b[1;32mfor\u001b[0m \u001b[0mline\u001b[0m \u001b[1;32min\u001b[0m \u001b[0mf\u001b[0m\u001b[1;33m.\u001b[0m\u001b[0mreadlines\u001b[0m\u001b[1;33m(\u001b[0m\u001b[1;33m)\u001b[0m\u001b[1;33m:\u001b[0m\u001b[1;33m\u001b[0m\u001b[0m\n\u001b[0m\u001b[0;32m      3\u001b[0m         \u001b[0mprint\u001b[0m\u001b[1;33m(\u001b[0m\u001b[0mline\u001b[0m\u001b[1;33m)\u001b[0m\u001b[1;33m\u001b[0m\u001b[0m\n",
      "\u001b[1;32mC:\\Anaconda3\\lib\\codecs.py\u001b[0m in \u001b[0;36mdecode\u001b[1;34m(self, input, final)\u001b[0m\n\u001b[0;32m    319\u001b[0m         \u001b[1;31m# decode input (taking the buffer into account)\u001b[0m\u001b[1;33m\u001b[0m\u001b[1;33m\u001b[0m\u001b[0m\n\u001b[0;32m    320\u001b[0m         \u001b[0mdata\u001b[0m \u001b[1;33m=\u001b[0m \u001b[0mself\u001b[0m\u001b[1;33m.\u001b[0m\u001b[0mbuffer\u001b[0m \u001b[1;33m+\u001b[0m \u001b[0minput\u001b[0m\u001b[1;33m\u001b[0m\u001b[0m\n\u001b[1;32m--> 321\u001b[1;33m         \u001b[1;33m(\u001b[0m\u001b[0mresult\u001b[0m\u001b[1;33m,\u001b[0m \u001b[0mconsumed\u001b[0m\u001b[1;33m)\u001b[0m \u001b[1;33m=\u001b[0m \u001b[0mself\u001b[0m\u001b[1;33m.\u001b[0m\u001b[0m_buffer_decode\u001b[0m\u001b[1;33m(\u001b[0m\u001b[0mdata\u001b[0m\u001b[1;33m,\u001b[0m \u001b[0mself\u001b[0m\u001b[1;33m.\u001b[0m\u001b[0merrors\u001b[0m\u001b[1;33m,\u001b[0m \u001b[0mfinal\u001b[0m\u001b[1;33m)\u001b[0m\u001b[1;33m\u001b[0m\u001b[0m\n\u001b[0m\u001b[0;32m    322\u001b[0m         \u001b[1;31m# keep undecoded input until the next call\u001b[0m\u001b[1;33m\u001b[0m\u001b[1;33m\u001b[0m\u001b[0m\n\u001b[0;32m    323\u001b[0m         \u001b[0mself\u001b[0m\u001b[1;33m.\u001b[0m\u001b[0mbuffer\u001b[0m \u001b[1;33m=\u001b[0m \u001b[0mdata\u001b[0m\u001b[1;33m[\u001b[0m\u001b[0mconsumed\u001b[0m\u001b[1;33m:\u001b[0m\u001b[1;33m]\u001b[0m\u001b[1;33m\u001b[0m\u001b[0m\n",
      "\u001b[1;31mUnicodeDecodeError\u001b[0m: 'utf-8' codec can't decode byte 0xb1 in position 2: invalid start byte"
     ]
    }
   ],
   "source": [
    "with open('Population3.csv','r',encoding='utf-8') as f:\n",
    "    for line in f.readlines():\n",
    "        print(line)"
   ]
  },
  {
   "cell_type": "code",
   "execution_count": 23,
   "metadata": {
    "collapsed": true
   },
   "outputs": [],
   "source": [
    "apple='apple'"
   ]
  },
  {
   "cell_type": "code",
   "execution_count": 24,
   "metadata": {
    "collapsed": false
   },
   "outputs": [
    {
     "data": {
      "text/plain": [
       "'apple'"
      ]
     },
     "execution_count": 24,
     "metadata": {},
     "output_type": "execute_result"
    }
   ],
   "source": [
    "apple"
   ]
  },
  {
   "cell_type": "code",
   "execution_count": 25,
   "metadata": {
    "collapsed": false
   },
   "outputs": [
    {
     "data": {
      "text/plain": [
       "str"
      ]
     },
     "execution_count": 25,
     "metadata": {},
     "output_type": "execute_result"
    }
   ],
   "source": [
    "type(apple)"
   ]
  },
  {
   "cell_type": "code",
   "execution_count": 1,
   "metadata": {
    "collapsed": true
   },
   "outputs": [],
   "source": [
    "import pandas"
   ]
  },
  {
   "cell_type": "code",
   "execution_count": 10,
   "metadata": {
    "collapsed": false
   },
   "outputs": [
    {
     "data": {
      "text/html": [
       "<div>\n",
       "<table border=\"1\" class=\"dataframe\">\n",
       "  <thead>\n",
       "    <tr style=\"text-align: right;\">\n",
       "      <th></th>\n",
       "      <th>指标</th>\n",
       "      <th>2015年</th>\n",
       "      <th>2014年</th>\n",
       "    </tr>\n",
       "  </thead>\n",
       "  <tbody>\n",
       "    <tr>\n",
       "      <th>0</th>\n",
       "      <td>年末总人口（万人）</td>\n",
       "      <td>137462</td>\n",
       "      <td>136782</td>\n",
       "    </tr>\n",
       "  </tbody>\n",
       "</table>\n",
       "</div>"
      ],
      "text/plain": [
       "          指标   2015年   2014年\n",
       "0  年末总人口（万人）  137462  136782"
      ]
     },
     "execution_count": 10,
     "metadata": {},
     "output_type": "execute_result"
    }
   ],
   "source": [
    "import pandas\n",
    "df=pandas.read_csv('Population2.csv',encoding='gbk')\n",
    "df"
   ]
  },
  {
   "cell_type": "code",
   "execution_count": 12,
   "metadata": {
    "collapsed": false
   },
   "outputs": [
    {
     "data": {
      "text/html": [
       "<div>\n",
       "<table border=\"1\" class=\"dataframe\">\n",
       "  <thead>\n",
       "    <tr style=\"text-align: right;\">\n",
       "      <th></th>\n",
       "      <th>2015年以前资源</th>\n",
       "      <th>Unnamed: 1</th>\n",
       "    </tr>\n",
       "  </thead>\n",
       "  <tbody>\n",
       "    <tr>\n",
       "      <th>0</th>\n",
       "      <td>北京大学 计算机网络 全10讲 主讲-严伟 视频教程</td>\n",
       "      <td>链接: http://pan.baidu.com/s/1hrAfQN6 密码: 5tvp</td>\n",
       "    </tr>\n",
       "    <tr>\n",
       "      <th>1</th>\n",
       "      <td>北京中医药大学 中药炮制 全8章 主讲-佚名 视频教程</td>\n",
       "      <td>链接: http://pan.baidu.com/s/1eSbUoIe 密码: 7d5f</td>\n",
       "    </tr>\n",
       "    <tr>\n",
       "      <th>2</th>\n",
       "      <td>北京中医药大学 中医四大经典之伤寒论 全70讲 主讲-郝万山 视频教程</td>\n",
       "      <td>链接: http://pan.baidu.com/s/1miPMZBa 密码: xjrz</td>\n",
       "    </tr>\n",
       "    <tr>\n",
       "      <th>3</th>\n",
       "      <td>车工基础技能培训 13张VCD碟片 完整版 机床-数控 视频教程</td>\n",
       "      <td>链接: http://pan.baidu.com/s/1geVg9Rd 密码: jvgq</td>\n",
       "    </tr>\n",
       "    <tr>\n",
       "      <th>4</th>\n",
       "      <td>大学课程 存储过程在企业级开发中的应用 全11讲 主讲-Tiger</td>\n",
       "      <td>链接: http://pan.baidu.com/s/1mhIfnrq 密码: yq9k</td>\n",
       "    </tr>\n",
       "    <tr>\n",
       "      <th>5</th>\n",
       "      <td>大学课程 高等数学 全2部 全188讲 主讲-蔡高厅 附材料 视频教程</td>\n",
       "      <td>链接: http://pan.baidu.com/s/1pKYUdcB 密码: b18d</td>\n",
       "    </tr>\n",
       "    <tr>\n",
       "      <th>6</th>\n",
       "      <td>大学课程 计算机电路基础 全14讲 主讲-佚名 附教案 视频教程</td>\n",
       "      <td>链接: http://pan.baidu.com/s/1dF0sO1N 密码: r91x</td>\n",
       "    </tr>\n",
       "    <tr>\n",
       "      <th>7</th>\n",
       "      <td>大学课程 考研数学-线性代数 全16章 主讲-佚名 视频教程</td>\n",
       "      <td>链接: http://pan.baidu.com/s/1o8TgId8 密码: ianu</td>\n",
       "    </tr>\n",
       "    <tr>\n",
       "      <th>8</th>\n",
       "      <td>大学课程 线性代数 全18讲 主讲-田根宝 视频教程</td>\n",
       "      <td>链接: http://pan.baidu.com/s/1dFoN7VV 密码: y3f4</td>\n",
       "    </tr>\n",
       "    <tr>\n",
       "      <th>9</th>\n",
       "      <td>大学课程 心脑血管方面医学视频 附带课件 视频教程</td>\n",
       "      <td>链接: http://pan.baidu.com/s/1qY4GfLi 密码: v2a6</td>\n",
       "    </tr>\n",
       "    <tr>\n",
       "      <th>10</th>\n",
       "      <td>电子科技大学 unix操作系统 全20讲 主讲-陆庆 视频教程</td>\n",
       "      <td>链接: http://pan.baidu.com/s/1nvm5vwX 密码: m4p8</td>\n",
       "    </tr>\n",
       "    <tr>\n",
       "      <th>11</th>\n",
       "      <td>电子科技大学 电子商务概论 全42讲 主讲-侯伦 视频教程</td>\n",
       "      <td>链接: http://pan.baidu.com/s/1gfFNK7D 密码: 594v</td>\n",
       "    </tr>\n",
       "    <tr>\n",
       "      <th>12</th>\n",
       "      <td>电子科技大学 信号与系统 全45讲 主讲-孔斌 视频教程</td>\n",
       "      <td>链接: http://pan.baidu.com/s/1i5nZyT3 密码: 7r3t</td>\n",
       "    </tr>\n",
       "    <tr>\n",
       "      <th>13</th>\n",
       "      <td>东南大学 C++语言程序设计 全80讲 主讲-何洁月 视频教程</td>\n",
       "      <td>链接: http://pan.baidu.com/s/1qYvmEHQ 密码: upg7</td>\n",
       "    </tr>\n",
       "    <tr>\n",
       "      <th>14</th>\n",
       "      <td>东南大学 SQL数据库基础 全39讲 主讲-幸研 附复习课 视频教程</td>\n",
       "      <td>链接: http://pan.baidu.com/s/1bpDoefX 密码: errj</td>\n",
       "    </tr>\n",
       "    <tr>\n",
       "      <th>15</th>\n",
       "      <td>东南大学 单片机及应用 全32讲 主讲-刘奇其 视频教程</td>\n",
       "      <td>链接: http://pan.baidu.com/s/1gf0oI8F 密码: jycb</td>\n",
       "    </tr>\n",
       "    <tr>\n",
       "      <th>16</th>\n",
       "      <td>东南大学 机器人原理及应用 全40讲 主讲-王兴松 视频教程</td>\n",
       "      <td>链接: http://pan.baidu.com/s/1hsbQm6C 密码: f9hv</td>\n",
       "    </tr>\n",
       "    <tr>\n",
       "      <th>17</th>\n",
       "      <td>东南大学 可编程控制器 全40讲 主讲-张志胜 视频教程</td>\n",
       "      <td>链接: http://pan.baidu.com/s/1i5wMOdR 密码: jgg8</td>\n",
       "    </tr>\n",
       "    <tr>\n",
       "      <th>18</th>\n",
       "      <td>国防科技大学 嵌入式视频教程 全30讲 主讲-肖浓 视频教程</td>\n",
       "      <td>链接: http://pan.baidu.com/s/1i55AsrN 密码: qukx</td>\n",
       "    </tr>\n",
       "    <tr>\n",
       "      <th>19</th>\n",
       "      <td>哈尔滨工业大学 动态网页设计 全35讲 主讲-高振国 视频教程</td>\n",
       "      <td>链接: http://pan.baidu.com/s/1c2eGjXe 密码: 5n47</td>\n",
       "    </tr>\n",
       "    <tr>\n",
       "      <th>20</th>\n",
       "      <td>哈尔滨医科大学 系统解剖学 全32讲 主讲-王祥云 等..视频教程</td>\n",
       "      <td>链接: http://pan.baidu.com/s/1nvlPwLF 密码: ffsr</td>\n",
       "    </tr>\n",
       "    <tr>\n",
       "      <th>21</th>\n",
       "      <td>焊工基础技能培训 9张VCD碟片 完整版 电焊-气焊-水旱 视频教程</td>\n",
       "      <td>链接: http://pan.baidu.com/s/1kVrZdjD 密码: mw8a</td>\n",
       "    </tr>\n",
       "    <tr>\n",
       "      <th>22</th>\n",
       "      <td>混凝土结构施工图平面整体设计方法应用技术讲座 全6讲 视频教程</td>\n",
       "      <td>链接: http://pan.baidu.com/s/1mi76dDY 密码: s19d</td>\n",
       "    </tr>\n",
       "    <tr>\n",
       "      <th>23</th>\n",
       "      <td>吉林大学 J2EE软件架构技术 全32讲 主讲-朱健启 视频教程</td>\n",
       "      <td>链接: http://pan.baidu.com/s/1boGvEub 密码: brqg</td>\n",
       "    </tr>\n",
       "    <tr>\n",
       "      <th>24</th>\n",
       "      <td>吉林大学 java编程基础 全30讲 主讲-佚名 视频教程</td>\n",
       "      <td>链接: http://pan.baidu.com/s/1eSJT8nK 密码: grcg</td>\n",
       "    </tr>\n",
       "    <tr>\n",
       "      <th>25</th>\n",
       "      <td>吉林大学 JAVA程序设计 全48讲 主讲-康辉 附复习课 视频教程</td>\n",
       "      <td>链接: http://pan.baidu.com/s/1slGjwiL 密码: djfm</td>\n",
       "    </tr>\n",
       "    <tr>\n",
       "      <th>26</th>\n",
       "      <td>吉林大学 VB编程与应用 全64讲 主讲-陈伟 视频教程</td>\n",
       "      <td>链接: http://pan.baidu.com/s/1mik53c8 密码: idi7</td>\n",
       "    </tr>\n",
       "    <tr>\n",
       "      <th>27</th>\n",
       "      <td>吉林大学 Visual C++ 全48讲 主讲-田大新 视频教程</td>\n",
       "      <td>链接: http://pan.baidu.com/s/1qYRGLu0 密码: x8j4</td>\n",
       "    </tr>\n",
       "    <tr>\n",
       "      <th>28</th>\n",
       "      <td>吉林大学 单片机 全32讲 主讲-佚名 附辅导课 视频教程</td>\n",
       "      <td>链接: http://pan.baidu.com/s/1o8Nbc8M 密码: ugms</td>\n",
       "    </tr>\n",
       "    <tr>\n",
       "      <th>29</th>\n",
       "      <td>吉林大学 概率统计D 全48讲 主讲-孙毅 视频教程</td>\n",
       "      <td>链接: http://pan.baidu.com/s/1gfiDOKb 密码: f3ti</td>\n",
       "    </tr>\n",
       "    <tr>\n",
       "      <th>...</th>\n",
       "      <td>...</td>\n",
       "      <td>...</td>\n",
       "    </tr>\n",
       "    <tr>\n",
       "      <th>7065</th>\n",
       "      <td>四川大学 跨文明研究的几个问题 全5讲 主讲-曹顺庆 视频教程</td>\n",
       "      <td>链接：http://pan.baidu.com/s/1i5ly47N 密码：6efd</td>\n",
       "    </tr>\n",
       "    <tr>\n",
       "      <th>7066</th>\n",
       "      <td>四川大学 跨越喜马拉雅-贸易与文化互动 全4讲 主讲-吕红亮 视频教程</td>\n",
       "      <td>链接：http://pan.baidu.com/s/1eS63qd8 密码：ozvk</td>\n",
       "    </tr>\n",
       "    <tr>\n",
       "      <th>7067</th>\n",
       "      <td>四川大学 人类学家眼中的西藏 全9讲 主讲-陈波 视频教程</td>\n",
       "      <td>链接：http://pan.baidu.com/s/1kUF6rjh 密码：rb6g</td>\n",
       "    </tr>\n",
       "    <tr>\n",
       "      <th>7068</th>\n",
       "      <td>四川大学 人文知识与人文精神 全4讲 主讲-周毅 视频教程</td>\n",
       "      <td>链接：http://pan.baidu.com/s/1qXIdY2o 密码：3bgb</td>\n",
       "    </tr>\n",
       "    <tr>\n",
       "      <th>7069</th>\n",
       "      <td>四川大学 为什么该女生打扮？文化符号学中的“标出性” 全4讲 主讲-赵毅衡 视频教程</td>\n",
       "      <td>链接：http://pan.baidu.com/s/1kVc6TVp 密码：aurk</td>\n",
       "    </tr>\n",
       "    <tr>\n",
       "      <th>7070</th>\n",
       "      <td>四川大学 中华文化 全2讲 主讲-周毅 视频教程</td>\n",
       "      <td>链接：http://pan.baidu.com/s/1qYMxV4o 密码：gwui</td>\n",
       "    </tr>\n",
       "    <tr>\n",
       "      <th>7071</th>\n",
       "      <td>四川大学 中西文化对比与中华文化现代化的思考 全5讲 主讲-周毅 视频教程</td>\n",
       "      <td>链接：http://pan.baidu.com/s/1jHCk5Oq 密码：8m06</td>\n",
       "    </tr>\n",
       "    <tr>\n",
       "      <th>7072</th>\n",
       "      <td>四川大学 走进西藏文化 全4讲 主讲-康 格桑益希 视频教程</td>\n",
       "      <td>链接：http://pan.baidu.com/s/1pLKyfWZ 密码：3wfi</td>\n",
       "    </tr>\n",
       "    <tr>\n",
       "      <th>7073</th>\n",
       "      <td>四川大学 走进学术研究 全4讲 主讲-俞理明 视频教程</td>\n",
       "      <td>链接：http://pan.baidu.com/s/1hrLceSc 密码：w8hf</td>\n",
       "    </tr>\n",
       "    <tr>\n",
       "      <th>7074</th>\n",
       "      <td>四川师范大学 《中国传统民俗文化专题》 全54讲 主讲-黄修明 视频教程</td>\n",
       "      <td>链接：http://pan.baidu.com/s/1hs1F48W 密码：i991</td>\n",
       "    </tr>\n",
       "    <tr>\n",
       "      <th>7075</th>\n",
       "      <td>四川师范大学 求学 教学与治学 全2讲 主讲-吴定初 视频教程</td>\n",
       "      <td>链接：http://pan.baidu.com/s/1o8sFKGq 密码：lfbd</td>\n",
       "    </tr>\n",
       "    <tr>\n",
       "      <th>7076</th>\n",
       "      <td>四川师范大学 学前家庭教育 全8讲 主讲-刘胜林 视频教程</td>\n",
       "      <td>链接：http://pan.baidu.com/s/1kVLmkNt 密码：a9i6</td>\n",
       "    </tr>\n",
       "    <tr>\n",
       "      <th>7077</th>\n",
       "      <td>四川师范大学 走求新 务实 尚学之路 全4讲 主讲-皮朝纲 视频教程</td>\n",
       "      <td>链接：http://pan.baidu.com/s/1hsbre52 密码：u2kp</td>\n",
       "    </tr>\n",
       "    <tr>\n",
       "      <th>7078</th>\n",
       "      <td>四川外国语大学 趣谈中西文化 全5讲 主讲-熊木清 视频教程</td>\n",
       "      <td>链接：http://pan.baidu.com/s/1i450Z57 密码：2kbj</td>\n",
       "    </tr>\n",
       "    <tr>\n",
       "      <th>7079</th>\n",
       "      <td>泰国皇太后大学中文系 汉语第二语言教学语法研究 海外汉语教学研究专题系列讲座 全20讲 主讲...</td>\n",
       "      <td>链接：http://pan.baidu.com/s/1jH4IWr8 密码：mui5</td>\n",
       "    </tr>\n",
       "    <tr>\n",
       "      <th>7080</th>\n",
       "      <td>夏威夷大学 Biophysicochemical Characterization of I...</td>\n",
       "      <td>链接：http://pan.baidu.com/s/1eSvDUuA 密码：i83t</td>\n",
       "    </tr>\n",
       "    <tr>\n",
       "      <th>7081</th>\n",
       "      <td>夏威夷大学 Transformation 全2讲 主讲-Lauren F Pfister 视频教程</td>\n",
       "      <td>链接：http://pan.baidu.com/s/1eScbgv4 密码：5ygn</td>\n",
       "    </tr>\n",
       "    <tr>\n",
       "      <th>7082</th>\n",
       "      <td>新加坡国立大学 Braids and links in Mathematical Scien...</td>\n",
       "      <td>链接：http://pan.baidu.com/s/1kULBUT5 密码：nutm</td>\n",
       "    </tr>\n",
       "    <tr>\n",
       "      <th>7083</th>\n",
       "      <td>新加坡国立大学 Synthetically Scaling Up a Given Datab...</td>\n",
       "      <td>链接：http://pan.baidu.com/s/1o8loqyY 密码：p2j7</td>\n",
       "    </tr>\n",
       "    <tr>\n",
       "      <th>7084</th>\n",
       "      <td>新加坡国立大学 Universal Cache Miss Equations for the...</td>\n",
       "      <td>链接：http://pan.baidu.com/s/1dF3h69r 密码：g6ix</td>\n",
       "    </tr>\n",
       "    <tr>\n",
       "      <th>7085</th>\n",
       "      <td>新加坡国立大学 谢灵运山水美感的考掘 全3讲 主讲-萧驰 视频教程</td>\n",
       "      <td>链接：http://pan.baidu.com/s/1pKKNMvL 密码：m6nt</td>\n",
       "    </tr>\n",
       "    <tr>\n",
       "      <th>7086</th>\n",
       "      <td>新西兰坎特伯雷大学 互联网时代的国家民族身份 全4讲 主讲-林勇 视频教程</td>\n",
       "      <td>链接：http://pan.baidu.com/s/1c1PTXw0 密码：1y06</td>\n",
       "    </tr>\n",
       "    <tr>\n",
       "      <th>7087</th>\n",
       "      <td>以色列工学院 Deregulation of the cell cycle regulato...</td>\n",
       "      <td>链接：http://pan.baidu.com/s/1i59La9v 密码：6kn9</td>\n",
       "    </tr>\n",
       "    <tr>\n",
       "      <th>7088</th>\n",
       "      <td>以色列工学院 Why our proteins have to die so we shal...</td>\n",
       "      <td>链接：http://pan.baidu.com/s/1eScbgvo 密码：txt1</td>\n",
       "    </tr>\n",
       "    <tr>\n",
       "      <th>7089</th>\n",
       "      <td>意大利都灵大学 A new decade of strategic partnership ...</td>\n",
       "      <td>链接：http://pan.baidu.com/s/1bpkoLQn 密码：4775</td>\n",
       "    </tr>\n",
       "    <tr>\n",
       "      <th>7090</th>\n",
       "      <td>意大利都灵大学 The China Model A View from Europe 全6讲...</td>\n",
       "      <td>链接：http://pan.baidu.com/s/1qYNdVdy 密码：lgyf</td>\n",
       "    </tr>\n",
       "    <tr>\n",
       "      <th>7091</th>\n",
       "      <td>意大利马切拉塔大学 从意大利复兴运动和中国新文化运动看意大利文化与中国文化的特点 全4讲 主...</td>\n",
       "      <td>链接：http://pan.baidu.com/s/1kVbQWq7 密码：w7ra</td>\n",
       "    </tr>\n",
       "    <tr>\n",
       "      <th>7092</th>\n",
       "      <td>印度加尔各答大学 How Tagore Now 全3讲 主讲-Mihirkr Chakrab...</td>\n",
       "      <td>链接：http://pan.baidu.com/s/1c1WF5Yg 密码：grsf</td>\n",
       "    </tr>\n",
       "    <tr>\n",
       "      <th>7093</th>\n",
       "      <td>早稻田大学 总体战体制与中国当代文化 从宣传画看20世纪文化心理 全6讲 主讲-千野拓政 视频教程</td>\n",
       "      <td>链接：http://pan.baidu.com/s/1miz51aw 密码：8qdv</td>\n",
       "    </tr>\n",
       "    <tr>\n",
       "      <th>7094</th>\n",
       "      <td>2017年3月份资源3月1日放出</td>\n",
       "      <td>NaN</td>\n",
       "    </tr>\n",
       "  </tbody>\n",
       "</table>\n",
       "<p>7095 rows × 2 columns</p>\n",
       "</div>"
      ],
      "text/plain": [
       "                                              2015年以前资源  \\\n",
       "0                            北京大学 计算机网络 全10讲 主讲-严伟 视频教程   \n",
       "1                           北京中医药大学 中药炮制 全8章 主讲-佚名 视频教程   \n",
       "2                   北京中医药大学 中医四大经典之伤寒论 全70讲 主讲-郝万山 视频教程   \n",
       "3                      车工基础技能培训 13张VCD碟片 完整版 机床-数控 视频教程   \n",
       "4                     大学课程 存储过程在企业级开发中的应用 全11讲 主讲-Tiger   \n",
       "5                   大学课程 高等数学 全2部 全188讲 主讲-蔡高厅 附材料 视频教程   \n",
       "6                      大学课程 计算机电路基础 全14讲 主讲-佚名 附教案 视频教程   \n",
       "7                        大学课程 考研数学-线性代数 全16章 主讲-佚名 视频教程   \n",
       "8                            大学课程 线性代数 全18讲 主讲-田根宝 视频教程   \n",
       "9                             大学课程 心脑血管方面医学视频 附带课件 视频教程   \n",
       "10                      电子科技大学 unix操作系统 全20讲 主讲-陆庆 视频教程   \n",
       "11                        电子科技大学 电子商务概论 全42讲 主讲-侯伦 视频教程   \n",
       "12                         电子科技大学 信号与系统 全45讲 主讲-孔斌 视频教程   \n",
       "13                      东南大学 C++语言程序设计 全80讲 主讲-何洁月 视频教程   \n",
       "14                   东南大学 SQL数据库基础 全39讲 主讲-幸研 附复习课 视频教程   \n",
       "15                         东南大学 单片机及应用 全32讲 主讲-刘奇其 视频教程   \n",
       "16                       东南大学 机器人原理及应用 全40讲 主讲-王兴松 视频教程   \n",
       "17                         东南大学 可编程控制器 全40讲 主讲-张志胜 视频教程   \n",
       "18                       国防科技大学 嵌入式视频教程 全30讲 主讲-肖浓 视频教程   \n",
       "19                      哈尔滨工业大学 动态网页设计 全35讲 主讲-高振国 视频教程   \n",
       "20                    哈尔滨医科大学 系统解剖学 全32讲 主讲-王祥云 等..视频教程   \n",
       "21                   焊工基础技能培训 9张VCD碟片 完整版 电焊-气焊-水旱 视频教程   \n",
       "22                      混凝土结构施工图平面整体设计方法应用技术讲座 全6讲 视频教程   \n",
       "23                     吉林大学 J2EE软件架构技术 全32讲 主讲-朱健启 视频教程   \n",
       "24                        吉林大学 java编程基础 全30讲 主讲-佚名 视频教程   \n",
       "25                   吉林大学 JAVA程序设计 全48讲 主讲-康辉 附复习课 视频教程   \n",
       "26                         吉林大学 VB编程与应用 全64讲 主讲-陈伟 视频教程   \n",
       "27                     吉林大学 Visual C++ 全48讲 主讲-田大新 视频教程   \n",
       "28                        吉林大学 单片机 全32讲 主讲-佚名 附辅导课 视频教程   \n",
       "29                           吉林大学 概率统计D 全48讲 主讲-孙毅 视频教程   \n",
       "...                                                 ...   \n",
       "7065                    四川大学 跨文明研究的几个问题 全5讲 主讲-曹顺庆 视频教程   \n",
       "7066                四川大学 跨越喜马拉雅-贸易与文化互动 全4讲 主讲-吕红亮 视频教程   \n",
       "7067                      四川大学 人类学家眼中的西藏 全9讲 主讲-陈波 视频教程   \n",
       "7068                      四川大学 人文知识与人文精神 全4讲 主讲-周毅 视频教程   \n",
       "7069         四川大学 为什么该女生打扮？文化符号学中的“标出性” 全4讲 主讲-赵毅衡 视频教程   \n",
       "7070                           四川大学 中华文化 全2讲 主讲-周毅 视频教程   \n",
       "7071              四川大学 中西文化对比与中华文化现代化的思考 全5讲 主讲-周毅 视频教程   \n",
       "7072                     四川大学 走进西藏文化 全4讲 主讲-康 格桑益希 视频教程   \n",
       "7073                        四川大学 走进学术研究 全4讲 主讲-俞理明 视频教程   \n",
       "7074               四川师范大学 《中国传统民俗文化专题》 全54讲 主讲-黄修明 视频教程   \n",
       "7075                    四川师范大学 求学 教学与治学 全2讲 主讲-吴定初 视频教程   \n",
       "7076                      四川师范大学 学前家庭教育 全8讲 主讲-刘胜林 视频教程   \n",
       "7077                 四川师范大学 走求新 务实 尚学之路 全4讲 主讲-皮朝纲 视频教程   \n",
       "7078                     四川外国语大学 趣谈中西文化 全5讲 主讲-熊木清 视频教程   \n",
       "7079  泰国皇太后大学中文系 汉语第二语言教学语法研究 海外汉语教学研究专题系列讲座 全20讲 主讲...   \n",
       "7080  夏威夷大学 Biophysicochemical Characterization of I...   \n",
       "7081  夏威夷大学 Transformation 全2讲 主讲-Lauren F Pfister 视频教程   \n",
       "7082  新加坡国立大学 Braids and links in Mathematical Scien...   \n",
       "7083  新加坡国立大学 Synthetically Scaling Up a Given Datab...   \n",
       "7084  新加坡国立大学 Universal Cache Miss Equations for the...   \n",
       "7085                  新加坡国立大学 谢灵运山水美感的考掘 全3讲 主讲-萧驰 视频教程   \n",
       "7086              新西兰坎特伯雷大学 互联网时代的国家民族身份 全4讲 主讲-林勇 视频教程   \n",
       "7087  以色列工学院 Deregulation of the cell cycle regulato...   \n",
       "7088  以色列工学院 Why our proteins have to die so we shal...   \n",
       "7089  意大利都灵大学 A new decade of strategic partnership ...   \n",
       "7090  意大利都灵大学 The China Model A View from Europe 全6讲...   \n",
       "7091  意大利马切拉塔大学 从意大利复兴运动和中国新文化运动看意大利文化与中国文化的特点 全4讲 主...   \n",
       "7092  印度加尔各答大学 How Tagore Now 全3讲 主讲-Mihirkr Chakrab...   \n",
       "7093  早稻田大学 总体战体制与中国当代文化 从宣传画看20世纪文化心理 全6讲 主讲-千野拓政 视频教程   \n",
       "7094                                   2017年3月份资源3月1日放出   \n",
       "\n",
       "                                        Unnamed: 1  \n",
       "0     链接: http://pan.baidu.com/s/1hrAfQN6 密码: 5tvp  \n",
       "1     链接: http://pan.baidu.com/s/1eSbUoIe 密码: 7d5f  \n",
       "2     链接: http://pan.baidu.com/s/1miPMZBa 密码: xjrz  \n",
       "3     链接: http://pan.baidu.com/s/1geVg9Rd 密码: jvgq  \n",
       "4     链接: http://pan.baidu.com/s/1mhIfnrq 密码: yq9k  \n",
       "5     链接: http://pan.baidu.com/s/1pKYUdcB 密码: b18d  \n",
       "6     链接: http://pan.baidu.com/s/1dF0sO1N 密码: r91x  \n",
       "7     链接: http://pan.baidu.com/s/1o8TgId8 密码: ianu  \n",
       "8     链接: http://pan.baidu.com/s/1dFoN7VV 密码: y3f4  \n",
       "9     链接: http://pan.baidu.com/s/1qY4GfLi 密码: v2a6  \n",
       "10    链接: http://pan.baidu.com/s/1nvm5vwX 密码: m4p8  \n",
       "11    链接: http://pan.baidu.com/s/1gfFNK7D 密码: 594v  \n",
       "12    链接: http://pan.baidu.com/s/1i5nZyT3 密码: 7r3t  \n",
       "13    链接: http://pan.baidu.com/s/1qYvmEHQ 密码: upg7  \n",
       "14    链接: http://pan.baidu.com/s/1bpDoefX 密码: errj  \n",
       "15    链接: http://pan.baidu.com/s/1gf0oI8F 密码: jycb  \n",
       "16    链接: http://pan.baidu.com/s/1hsbQm6C 密码: f9hv  \n",
       "17    链接: http://pan.baidu.com/s/1i5wMOdR 密码: jgg8  \n",
       "18    链接: http://pan.baidu.com/s/1i55AsrN 密码: qukx  \n",
       "19    链接: http://pan.baidu.com/s/1c2eGjXe 密码: 5n47  \n",
       "20    链接: http://pan.baidu.com/s/1nvlPwLF 密码: ffsr  \n",
       "21    链接: http://pan.baidu.com/s/1kVrZdjD 密码: mw8a  \n",
       "22    链接: http://pan.baidu.com/s/1mi76dDY 密码: s19d  \n",
       "23    链接: http://pan.baidu.com/s/1boGvEub 密码: brqg  \n",
       "24    链接: http://pan.baidu.com/s/1eSJT8nK 密码: grcg  \n",
       "25    链接: http://pan.baidu.com/s/1slGjwiL 密码: djfm  \n",
       "26    链接: http://pan.baidu.com/s/1mik53c8 密码: idi7  \n",
       "27    链接: http://pan.baidu.com/s/1qYRGLu0 密码: x8j4  \n",
       "28    链接: http://pan.baidu.com/s/1o8Nbc8M 密码: ugms  \n",
       "29    链接: http://pan.baidu.com/s/1gfiDOKb 密码: f3ti  \n",
       "...                                            ...  \n",
       "7065    链接：http://pan.baidu.com/s/1i5ly47N 密码：6efd  \n",
       "7066    链接：http://pan.baidu.com/s/1eS63qd8 密码：ozvk  \n",
       "7067    链接：http://pan.baidu.com/s/1kUF6rjh 密码：rb6g  \n",
       "7068    链接：http://pan.baidu.com/s/1qXIdY2o 密码：3bgb  \n",
       "7069    链接：http://pan.baidu.com/s/1kVc6TVp 密码：aurk  \n",
       "7070    链接：http://pan.baidu.com/s/1qYMxV4o 密码：gwui  \n",
       "7071    链接：http://pan.baidu.com/s/1jHCk5Oq 密码：8m06  \n",
       "7072    链接：http://pan.baidu.com/s/1pLKyfWZ 密码：3wfi  \n",
       "7073    链接：http://pan.baidu.com/s/1hrLceSc 密码：w8hf  \n",
       "7074    链接：http://pan.baidu.com/s/1hs1F48W 密码：i991  \n",
       "7075    链接：http://pan.baidu.com/s/1o8sFKGq 密码：lfbd  \n",
       "7076    链接：http://pan.baidu.com/s/1kVLmkNt 密码：a9i6  \n",
       "7077    链接：http://pan.baidu.com/s/1hsbre52 密码：u2kp  \n",
       "7078    链接：http://pan.baidu.com/s/1i450Z57 密码：2kbj  \n",
       "7079    链接：http://pan.baidu.com/s/1jH4IWr8 密码：mui5  \n",
       "7080    链接：http://pan.baidu.com/s/1eSvDUuA 密码：i83t  \n",
       "7081    链接：http://pan.baidu.com/s/1eScbgv4 密码：5ygn  \n",
       "7082    链接：http://pan.baidu.com/s/1kULBUT5 密码：nutm  \n",
       "7083    链接：http://pan.baidu.com/s/1o8loqyY 密码：p2j7  \n",
       "7084    链接：http://pan.baidu.com/s/1dF3h69r 密码：g6ix  \n",
       "7085    链接：http://pan.baidu.com/s/1pKKNMvL 密码：m6nt  \n",
       "7086    链接：http://pan.baidu.com/s/1c1PTXw0 密码：1y06  \n",
       "7087    链接：http://pan.baidu.com/s/1i59La9v 密码：6kn9  \n",
       "7088    链接：http://pan.baidu.com/s/1eScbgvo 密码：txt1  \n",
       "7089    链接：http://pan.baidu.com/s/1bpkoLQn 密码：4775  \n",
       "7090    链接：http://pan.baidu.com/s/1qYNdVdy 密码：lgyf  \n",
       "7091    链接：http://pan.baidu.com/s/1kVbQWq7 密码：w7ra  \n",
       "7092    链接：http://pan.baidu.com/s/1c1WF5Yg 密码：grsf  \n",
       "7093    链接：http://pan.baidu.com/s/1miz51aw 密码：8qdv  \n",
       "7094                                           NaN  \n",
       "\n",
       "[7095 rows x 2 columns]"
      ]
     },
     "execution_count": 12,
     "metadata": {},
     "output_type": "execute_result"
    }
   ],
   "source": [
    "import pandas\n",
    "df=pandas.read_excel('ziyuan.xls')\n",
    "df"
   ]
  },
  {
   "cell_type": "code",
   "execution_count": 18,
   "metadata": {
    "collapsed": false
   },
   "outputs": [
    {
     "data": {
      "text/plain": [
       "'[\\n  {\\n    \"shop\": 1000,\\n    \"name\": 6666\\n  }\\n]'"
      ]
     },
     "execution_count": 18,
     "metadata": {},
     "output_type": "execute_result"
    }
   ],
   "source": [
    "with open('jd.json','r') as f:\n",
    "    jd=f.read()\n",
    "    \n",
    "jd"
   ]
  },
  {
   "cell_type": "code",
   "execution_count": 21,
   "metadata": {
    "collapsed": false
   },
   "outputs": [
    {
     "data": {
      "text/plain": [
       "[{'name': 6666, 'shop': 1000}]"
      ]
     },
     "execution_count": 21,
     "metadata": {},
     "output_type": "execute_result"
    }
   ],
   "source": [
    "import json\n",
    "dic=json.loads(jd)#变成字典\n",
    "dic\n"
   ]
  },
  {
   "cell_type": "code",
   "execution_count": 22,
   "metadata": {
    "collapsed": false
   },
   "outputs": [
    {
     "name": "stdout",
     "output_type": "stream",
     "text": [
      "6666 1000\n"
     ]
    }
   ],
   "source": [
    "for shop in dic:\n",
    "    print(shop.get('name'),shop.get('shop'))"
   ]
  },
  {
   "cell_type": "code",
   "execution_count": 23,
   "metadata": {
    "collapsed": false
   },
   "outputs": [
    {
     "data": {
      "text/plain": [
       "'[{\"name\": 6666, \"shop\": 1000}]'"
      ]
     },
     "execution_count": 23,
     "metadata": {},
     "output_type": "execute_result"
    }
   ],
   "source": [
    "json.dumps(dic)"
   ]
  },
  {
   "cell_type": "code",
   "execution_count": null,
   "metadata": {
    "collapsed": true
   },
   "outputs": [],
   "source": [
    "#json字串最外面有双引号"
   ]
  },
  {
   "cell_type": "code",
   "execution_count": 24,
   "metadata": {
    "collapsed": false
   },
   "outputs": [
    {
     "data": {
      "text/html": [
       "<div>\n",
       "<table border=\"1\" class=\"dataframe\">\n",
       "  <thead>\n",
       "    <tr style=\"text-align: right;\">\n",
       "      <th></th>\n",
       "      <th>name</th>\n",
       "      <th>shop</th>\n",
       "    </tr>\n",
       "  </thead>\n",
       "  <tbody>\n",
       "    <tr>\n",
       "      <th>0</th>\n",
       "      <td>6666</td>\n",
       "      <td>1000</td>\n",
       "    </tr>\n",
       "  </tbody>\n",
       "</table>\n",
       "</div>"
      ],
      "text/plain": [
       "   name  shop\n",
       "0  6666  1000"
      ]
     },
     "execution_count": 24,
     "metadata": {},
     "output_type": "execute_result"
    }
   ],
   "source": [
    "import pandas\n",
    "df=pandas.read_json('jd.json')\n",
    "df"
   ]
  },
  {
   "cell_type": "code",
   "execution_count": 32,
   "metadata": {
    "collapsed": false
   },
   "outputs": [],
   "source": [
    "import xml.etree.ElementTree as ET\n",
    "tree = ET.parse('weather.xml')"
   ]
  },
  {
   "cell_type": "code",
   "execution_count": 33,
   "metadata": {
    "collapsed": false
   },
   "outputs": [
    {
     "data": {
      "text/plain": [
       "<Element 'china' at 0x0000000009168A48>"
      ]
     },
     "execution_count": 33,
     "metadata": {},
     "output_type": "execute_result"
    }
   ],
   "source": [
    "root=tree.getroot()\n",
    "root"
   ]
  },
  {
   "cell_type": "code",
   "execution_count": 34,
   "metadata": {
    "collapsed": false
   },
   "outputs": [
    {
     "name": "stdout",
     "output_type": "stream",
     "text": [
      "哈尔滨 3\n",
      "长春 3\n",
      "沈阳 7\n",
      "海口 24\n",
      "呼和浩特 5\n",
      "乌鲁木齐 2\n",
      "拉萨 5\n",
      "西宁 3\n",
      "银川 8\n",
      "兰州 9\n",
      "石家庄 11\n",
      "郑州 13\n",
      "武汉 18\n",
      "长沙 20\n",
      "济南 9\n",
      "南京 14\n",
      "合肥 15\n",
      "太原 10\n",
      "西安 13\n",
      "成都 16\n",
      "昆明 12\n",
      "贵阳 19\n",
      "杭州 15\n",
      "福州 18\n",
      "南昌 19\n",
      "广州 22\n",
      "南宁 23\n",
      "北京 13\n",
      "天津 11\n",
      "上海 14\n",
      "重庆 19\n",
      "香港 23\n",
      "澳门 22\n",
      "台北 22\n",
      "西沙 26\n",
      "南沙 27\n",
      "钓鱼岛 20\n"
     ]
    }
   ],
   "source": [
    "for city in root.iter('city'):\n",
    "    print(city.get('cityname'),city.get('tem1'))"
   ]
  },
  {
   "cell_type": "code",
   "execution_count": null,
   "metadata": {
    "collapsed": true
   },
   "outputs": [],
   "source": []
  }
 ],
 "metadata": {
  "anaconda-cloud": {},
  "kernelspec": {
   "display_name": "Python [Root]",
   "language": "python",
   "name": "Python [Root]"
  },
  "language_info": {
   "codemirror_mode": {
    "name": "ipython",
    "version": 3
   },
   "file_extension": ".py",
   "mimetype": "text/x-python",
   "name": "python",
   "nbconvert_exporter": "python",
   "pygments_lexer": "ipython3",
   "version": "3.5.2"
  }
 },
 "nbformat": 4,
 "nbformat_minor": 0
}
