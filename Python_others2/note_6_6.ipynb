{
 "cells": [
  {
   "cell_type": "code",
   "execution_count": 1,
   "metadata": {
    "collapsed": true
   },
   "outputs": [],
   "source": [
    "#迭代器\n",
    "#可迭代：可以用for循环\n",
    "#可迭代对象\n",
    "#1.list  tuple  dict  set  str\n",
    "#2.genetator  \n"
   ]
  },
  {
   "cell_type": "code",
   "execution_count": 2,
   "metadata": {
    "collapsed": true
   },
   "outputs": [],
   "source": [
    "a = [x for x in range(10)]"
   ]
  },
  {
   "cell_type": "code",
   "execution_count": 3,
   "metadata": {
    "collapsed": true
   },
   "outputs": [],
   "source": [
    "b = (x for x in range(10))"
   ]
  },
  {
   "cell_type": "code",
   "execution_count": 4,
   "metadata": {},
   "outputs": [
    {
     "data": {
      "text/plain": [
       "<generator object <genexpr> at 0x0000000003E98938>"
      ]
     },
     "execution_count": 4,
     "metadata": {},
     "output_type": "execute_result"
    }
   ],
   "source": [
    "b"
   ]
  },
  {
   "cell_type": "code",
   "execution_count": 5,
   "metadata": {
    "collapsed": true
   },
   "outputs": [],
   "source": [
    "#b 是一个生成器"
   ]
  },
  {
   "cell_type": "code",
   "execution_count": 6,
   "metadata": {},
   "outputs": [
    {
     "name": "stdout",
     "output_type": "stream",
     "text": [
      "0\n",
      "1\n",
      "2\n",
      "3\n",
      "4\n",
      "5\n",
      "6\n",
      "7\n",
      "8\n",
      "9\n"
     ]
    }
   ],
   "source": [
    "for temp in b:\n",
    "    print(temp)"
   ]
  },
  {
   "cell_type": "code",
   "execution_count": 7,
   "metadata": {
    "collapsed": true
   },
   "outputs": [],
   "source": [
    "#判断是否可以迭代"
   ]
  },
  {
   "cell_type": "code",
   "execution_count": 3,
   "metadata": {
    "collapsed": true
   },
   "outputs": [],
   "source": [
    "from collections import Iterable"
   ]
  },
  {
   "cell_type": "code",
   "execution_count": 4,
   "metadata": {},
   "outputs": [
    {
     "data": {
      "text/plain": [
       "True"
      ]
     },
     "execution_count": 4,
     "metadata": {},
     "output_type": "execute_result"
    }
   ],
   "source": [
    "isinstance('ABC',Iterable)"
   ]
  },
  {
   "cell_type": "code",
   "execution_count": 5,
   "metadata": {},
   "outputs": [
    {
     "data": {
      "text/plain": [
       "True"
      ]
     },
     "execution_count": 5,
     "metadata": {},
     "output_type": "execute_result"
    }
   ],
   "source": [
    "isinstance([],Iterable)"
   ]
  },
  {
   "cell_type": "code",
   "execution_count": 6,
   "metadata": {},
   "outputs": [
    {
     "data": {
      "text/plain": [
       "True"
      ]
     },
     "execution_count": 6,
     "metadata": {},
     "output_type": "execute_result"
    }
   ],
   "source": [
    "isinstance({},Iterable)"
   ]
  },
  {
   "cell_type": "code",
   "execution_count": 7,
   "metadata": {},
   "outputs": [
    {
     "data": {
      "text/plain": [
       "False"
      ]
     },
     "execution_count": 7,
     "metadata": {},
     "output_type": "execute_result"
    }
   ],
   "source": [
    "isinstance(888,Iterable)"
   ]
  },
  {
   "cell_type": "code",
   "execution_count": 13,
   "metadata": {
    "collapsed": true
   },
   "outputs": [],
   "source": [
    "a = [11,22,33]"
   ]
  },
  {
   "cell_type": "code",
   "execution_count": 14,
   "metadata": {},
   "outputs": [
    {
     "ename": "TypeError",
     "evalue": "'list' object is not an iterator",
     "output_type": "error",
     "traceback": [
      "\u001b[1;31m---------------------------------------------------------------------------\u001b[0m",
      "\u001b[1;31mTypeError\u001b[0m                                 Traceback (most recent call last)",
      "\u001b[1;32m<ipython-input-14-3f6e2eea332d>\u001b[0m in \u001b[0;36m<module>\u001b[1;34m()\u001b[0m\n\u001b[1;32m----> 1\u001b[1;33m \u001b[0mnext\u001b[0m\u001b[1;33m(\u001b[0m\u001b[0ma\u001b[0m\u001b[1;33m)\u001b[0m\u001b[1;33m\u001b[0m\u001b[0m\n\u001b[0m",
      "\u001b[1;31mTypeError\u001b[0m: 'list' object is not an iterator"
     ]
    }
   ],
   "source": [
    "next(a)#列表不是可迭代对象，但是可迭代"
   ]
  },
  {
   "cell_type": "code",
   "execution_count": 18,
   "metadata": {
    "collapsed": true
   },
   "outputs": [],
   "source": [
    "from collections import Iterator"
   ]
  },
  {
   "cell_type": "code",
   "execution_count": 19,
   "metadata": {},
   "outputs": [
    {
     "data": {
      "text/plain": [
       "True"
      ]
     },
     "execution_count": 19,
     "metadata": {},
     "output_type": "execute_result"
    }
   ],
   "source": [
    "isinstance((x for x in range(10)),Iterator) #生成器是可迭代对象"
   ]
  },
  {
   "cell_type": "code",
   "execution_count": 20,
   "metadata": {
    "collapsed": true
   },
   "outputs": [],
   "source": [
    "#可迭代对象：可以用next取值\n",
    "#生成器一定是迭代器，迭代器不一定是生成器"
   ]
  },
  {
   "cell_type": "code",
   "execution_count": 22,
   "metadata": {},
   "outputs": [],
   "source": [
    "a = [11,22,33]"
   ]
  },
  {
   "cell_type": "code",
   "execution_count": 23,
   "metadata": {},
   "outputs": [
    {
     "data": {
      "text/plain": [
       "[11, 22, 33]"
      ]
     },
     "execution_count": 23,
     "metadata": {},
     "output_type": "execute_result"
    }
   ],
   "source": [
    "a"
   ]
  },
  {
   "cell_type": "code",
   "execution_count": 24,
   "metadata": {},
   "outputs": [
    {
     "data": {
      "text/plain": [
       "list"
      ]
     },
     "execution_count": 24,
     "metadata": {},
     "output_type": "execute_result"
    }
   ],
   "source": [
    "type(a)"
   ]
  },
  {
   "cell_type": "code",
   "execution_count": 26,
   "metadata": {},
   "outputs": [
    {
     "data": {
      "text/plain": [
       "<list_iterator at 0x3faa4a8>"
      ]
     },
     "execution_count": 26,
     "metadata": {},
     "output_type": "execute_result"
    }
   ],
   "source": [
    "iter(a)"
   ]
  },
  {
   "cell_type": "code",
   "execution_count": 27,
   "metadata": {
    "collapsed": true
   },
   "outputs": [],
   "source": [
    "b = iter(a)"
   ]
  },
  {
   "cell_type": "code",
   "execution_count": 28,
   "metadata": {},
   "outputs": [
    {
     "data": {
      "text/plain": [
       "<list_iterator at 0x3faa5c0>"
      ]
     },
     "execution_count": 28,
     "metadata": {},
     "output_type": "execute_result"
    }
   ],
   "source": [
    "b"
   ]
  },
  {
   "cell_type": "code",
   "execution_count": 29,
   "metadata": {},
   "outputs": [
    {
     "data": {
      "text/plain": [
       "11"
      ]
     },
     "execution_count": 29,
     "metadata": {},
     "output_type": "execute_result"
    }
   ],
   "source": [
    "next(b)"
   ]
  },
  {
   "cell_type": "code",
   "execution_count": 30,
   "metadata": {},
   "outputs": [
    {
     "data": {
      "text/plain": [
       "22"
      ]
     },
     "execution_count": 30,
     "metadata": {},
     "output_type": "execute_result"
    }
   ],
   "source": [
    "next(b)"
   ]
  },
  {
   "cell_type": "code",
   "execution_count": 31,
   "metadata": {},
   "outputs": [
    {
     "data": {
      "text/plain": [
       "33"
      ]
     },
     "execution_count": 31,
     "metadata": {},
     "output_type": "execute_result"
    }
   ],
   "source": [
    "next(b)"
   ]
  },
  {
   "cell_type": "code",
   "execution_count": 32,
   "metadata": {},
   "outputs": [
    {
     "ename": "StopIteration",
     "evalue": "",
     "output_type": "error",
     "traceback": [
      "\u001b[1;31m---------------------------------------------------------------------------\u001b[0m",
      "\u001b[1;31mStopIteration\u001b[0m                             Traceback (most recent call last)",
      "\u001b[1;32m<ipython-input-32-641a931447e8>\u001b[0m in \u001b[0;36m<module>\u001b[1;34m()\u001b[0m\n\u001b[1;32m----> 1\u001b[1;33m \u001b[0mnext\u001b[0m\u001b[1;33m(\u001b[0m\u001b[0mb\u001b[0m\u001b[1;33m)\u001b[0m\u001b[1;33m\u001b[0m\u001b[0m\n\u001b[0m",
      "\u001b[1;31mStopIteration\u001b[0m: "
     ]
    }
   ],
   "source": [
    "next(b)"
   ]
  },
  {
   "cell_type": "code",
   "execution_count": 33,
   "metadata": {
    "collapsed": true
   },
   "outputs": [],
   "source": [
    "#把列表转成生成器，需要的时候取数据，占用内存小"
   ]
  },
  {
   "cell_type": "code",
   "execution_count": 34,
   "metadata": {
    "collapsed": true
   },
   "outputs": [],
   "source": [
    "#闭包"
   ]
  },
  {
   "cell_type": "code",
   "execution_count": 35,
   "metadata": {},
   "outputs": [
    {
     "name": "stdout",
     "output_type": "stream",
     "text": [
      "-----1-----\n"
     ]
    }
   ],
   "source": [
    "def test():\n",
    "    print('-----1-----')\n",
    "    \n",
    "test()\n"
   ]
  },
  {
   "cell_type": "code",
   "execution_count": 36,
   "metadata": {},
   "outputs": [
    {
     "data": {
      "text/plain": [
       "<function __main__.test>"
      ]
     },
     "execution_count": 36,
     "metadata": {},
     "output_type": "execute_result"
    }
   ],
   "source": [
    "test#test指向了一个函数块，这个函数块是function类型"
   ]
  },
  {
   "cell_type": "code",
   "execution_count": 37,
   "metadata": {
    "collapsed": true
   },
   "outputs": [],
   "source": [
    "a = 100"
   ]
  },
  {
   "cell_type": "code",
   "execution_count": 38,
   "metadata": {
    "collapsed": true
   },
   "outputs": [],
   "source": [
    "b = test#b指向和test一样的"
   ]
  },
  {
   "cell_type": "code",
   "execution_count": 39,
   "metadata": {},
   "outputs": [
    {
     "data": {
      "text/plain": [
       "<function __main__.test>"
      ]
     },
     "execution_count": 39,
     "metadata": {},
     "output_type": "execute_result"
    }
   ],
   "source": [
    "b"
   ]
  },
  {
   "cell_type": "code",
   "execution_count": 40,
   "metadata": {},
   "outputs": [
    {
     "name": "stdout",
     "output_type": "stream",
     "text": [
      "-----1-----\n",
      "-----3-----\n"
     ]
    },
    {
     "data": {
      "text/plain": [
       "<function __main__.test.<locals>.test_in>"
      ]
     },
     "execution_count": 40,
     "metadata": {},
     "output_type": "execute_result"
    }
   ],
   "source": [
    "#闭包:在函数内部再定义一个函数，并且这个函数用到了外面函数的变量，\n",
    "#那么将这个函数以及用到的一些变量称之为闭包\n",
    "def test(number):\n",
    "    \n",
    "    print('-----1-----')\n",
    "    def test_in():\n",
    "        print('-----2-----')\n",
    "        print(number+100)\n",
    "        \n",
    "    print('-----3-----')\n",
    "    return test_in\n",
    "\n",
    "test(100)"
   ]
  },
  {
   "cell_type": "code",
   "execution_count": 41,
   "metadata": {
    "collapsed": true
   },
   "outputs": [],
   "source": [
    "#2没打印，返回的是 函数的引用"
   ]
  },
  {
   "cell_type": "code",
   "execution_count": 42,
   "metadata": {},
   "outputs": [
    {
     "name": "stdout",
     "output_type": "stream",
     "text": [
      "-----1-----\n",
      "-----3-----\n",
      "------------------------------\n",
      "-----2-----\n",
      "200\n"
     ]
    }
   ],
   "source": [
    "#闭包:在函数内部再定义一个函数，并且这个函数用到了外面函数的变量，\n",
    "#那么将这个函数以及用到的一些变量称之为闭包\n",
    "def test(number):\n",
    "    \n",
    "    print('-----1-----')\n",
    "    def test_in():\n",
    "        print('-----2-----')\n",
    "        print(number+100)\n",
    "        \n",
    "    print('-----3-----')\n",
    "    return test_in\n",
    "\n",
    "ret = test(100)\n",
    "print('-'*30)\n",
    "ret()\n",
    "#ret指向函数模块，则ret（）表示函数调用"
   ]
  },
  {
   "cell_type": "code",
   "execution_count": 43,
   "metadata": {},
   "outputs": [
    {
     "name": "stdout",
     "output_type": "stream",
     "text": [
      "-----1-----\n",
      "-----3-----\n",
      "------------------------------\n",
      "-----2-----\n",
      "101\n"
     ]
    }
   ],
   "source": [
    "#闭包:在函数内部再定义一个函数，并且这个函数用到了外面函数的变量，\n",
    "#那么将这个函数以及用到的一些变量称之为闭包\n",
    "def test(number):\n",
    "    \n",
    "    print('-----1-----')\n",
    "    def test_in(number2):\n",
    "        print('-----2-----')\n",
    "        print(number+number2)\n",
    "        \n",
    "    print('-----3-----')\n",
    "    return test_in\n",
    "\n",
    "ret = test(100)\n",
    "print('-'*30)\n",
    "ret(1)\n",
    "#ret指向函数模块，则ret（）表示函数调用"
   ]
  },
  {
   "cell_type": "code",
   "execution_count": 44,
   "metadata": {},
   "outputs": [
    {
     "name": "stdout",
     "output_type": "stream",
     "text": [
      "-----1-----\n",
      "-----3-----\n",
      "------------------------------\n",
      "-----2-----\n",
      "101\n",
      "-----2-----\n",
      "200\n",
      "-----2-----\n",
      "300\n"
     ]
    }
   ],
   "source": [
    "#闭包:在函数内部再定义一个函数，并且这个函数用到了外面函数的变量，\n",
    "#那么将这个函数以及用到的一些变量称之为闭包\n",
    "def test(number):\n",
    "    \n",
    "    print('-----1-----')\n",
    "    def test_in(number2):\n",
    "        print('-----2-----')\n",
    "        print(number+number2)\n",
    "        \n",
    "    print('-----3-----')\n",
    "    return test_in\n",
    "\n",
    "ret = test(100)\n",
    "print('-'*30)\n",
    "ret(1)\n",
    "ret(100)\n",
    "ret(200)\n",
    "#ret指向函数模块，则ret（）表示函数调用"
   ]
  },
  {
   "cell_type": "code",
   "execution_count": 46,
   "metadata": {
    "collapsed": true
   },
   "outputs": [],
   "source": [
    "#因为ret()保存来外部函数中的某些代码，所以外部函数不能结束\n",
    "#闭包的应用：在原来第一次的基础上执行，number的保存、\n",
    "#闭包使用：调用里面的函数，外面的函数的变量也可以使用"
   ]
  },
  {
   "cell_type": "code",
   "execution_count": 47,
   "metadata": {},
   "outputs": [
    {
     "name": "stdout",
     "output_type": "stream",
     "text": [
      "1\n"
     ]
    }
   ],
   "source": [
    "#闭包的应用,一次函数求值\n",
    "def test(a,b):\n",
    "    def test_in(x):\n",
    "        print(a*x+b)\n",
    "        \n",
    "    return test_in\n",
    "\n",
    "line1 = test(1,1)\n",
    "line1(0)"
   ]
  },
  {
   "cell_type": "code",
   "execution_count": 48,
   "metadata": {},
   "outputs": [
    {
     "name": "stdout",
     "output_type": "stream",
     "text": [
      "1\n",
      "4\n"
     ]
    }
   ],
   "source": [
    "#闭包的应用,一次函数求值\n",
    "def test(a,b):\n",
    "    def test_in(x):\n",
    "        print(a*x+b)\n",
    "        \n",
    "    return test_in\n",
    "\n",
    "line1 = test(1,1)\n",
    "line1(0)\n",
    "line2 = test(10,4)\n",
    "line2(0)"
   ]
  },
  {
   "cell_type": "code",
   "execution_count": 49,
   "metadata": {},
   "outputs": [
    {
     "name": "stdout",
     "output_type": "stream",
     "text": [
      "1\n"
     ]
    }
   ],
   "source": [
    "line1(0)"
   ]
  },
  {
   "cell_type": "code",
   "execution_count": 50,
   "metadata": {
    "collapsed": true
   },
   "outputs": [],
   "source": [
    "#line1还是原来的值"
   ]
  },
  {
   "cell_type": "code",
   "execution_count": 52,
   "metadata": {},
   "outputs": [
    {
     "name": "stdout",
     "output_type": "stream",
     "text": [
      "1\n"
     ]
    }
   ],
   "source": [
    "def createNum(a,b,x):\n",
    "    print(a*x+b)\n",
    "\n",
    "a = 1\n",
    "b = 1\n",
    "x = 0\n",
    "createNum(a,b,x)"
   ]
  },
  {
   "cell_type": "code",
   "execution_count": 53,
   "metadata": {
    "collapsed": true
   },
   "outputs": [],
   "source": [
    "#想修改x的值，a，b的值还是照样传"
   ]
  },
  {
   "cell_type": "code",
   "execution_count": 54,
   "metadata": {},
   "outputs": [
    {
     "name": "stdout",
     "output_type": "stream",
     "text": [
      "1\n",
      "4\n"
     ]
    }
   ],
   "source": [
    "#闭包的应用,一次函数求值\n",
    "def test(a,b):\n",
    "    def test_in(x):\n",
    "        print(a*x+b)\n",
    "        \n",
    "    return test_in\n",
    " \n",
    "line1 = test(1,1)\n",
    "line1(0)\n",
    "line2 = test(10,4)#这是重新创建的一份新的\n",
    "line2(0)\n",
    "\n",
    "#闭包优点：\n",
    "#在之后调用a，b的值不改就不用传了，传参少了\n",
    "#函数不变，多次传参不同调用，会保存原来的，开辟新的"
   ]
  },
  {
   "cell_type": "code",
   "execution_count": 55,
   "metadata": {},
   "outputs": [
    {
     "name": "stdout",
     "output_type": "stream",
     "text": [
      "-----2-----\n"
     ]
    }
   ],
   "source": [
    "#装饰器\n",
    "def test1():\n",
    "    print('-----1-----')\n",
    "    \n",
    "def test1():\n",
    "    print('-----2-----')\n",
    "    \n",
    "test1()#函数名相同，调用的是最新的"
   ]
  },
  {
   "cell_type": "code",
   "execution_count": 57,
   "metadata": {},
   "outputs": [
    {
     "name": "stdout",
     "output_type": "stream",
     "text": [
      "---正在验证权限---\n",
      "-----f1-----\n"
     ]
    }
   ],
   "source": [
    "#语法糖\n",
    "def w1():\n",
    "    print('---正在验证权限---')\n",
    "\n",
    "def f1():\n",
    "    w1()\n",
    "    print('-----f1-----')\n",
    "    \n",
    "f1()"
   ]
  },
  {
   "cell_type": "code",
   "execution_count": 58,
   "metadata": {},
   "outputs": [
    {
     "name": "stdout",
     "output_type": "stream",
     "text": [
      "---正在验证权限---\n",
      "-----f1-----\n"
     ]
    }
   ],
   "source": [
    "#语法糖\n",
    "def w1(func):\n",
    "    def inner():\n",
    "        print('---正在验证权限---')\n",
    "        func()\n",
    "    return inner\n",
    "\n",
    "def f1():\n",
    "    print('-----f1-----')\n",
    "    \n",
    "def f2():\n",
    "    print('-----f2-----')\n",
    "    \n",
    "innerFunc = w1(f1)#指向inner函数\n",
    "innerFunc()#调用f1\n",
    "#完成了验证权限和调用函数"
   ]
  },
  {
   "cell_type": "code",
   "execution_count": 59,
   "metadata": {},
   "outputs": [
    {
     "name": "stdout",
     "output_type": "stream",
     "text": [
      "---正在验证权限---\n",
      "-----f1-----\n"
     ]
    }
   ],
   "source": [
    "#语法糖\n",
    "def w1(func):\n",
    "    def inner():\n",
    "        print('---正在验证权限---')\n",
    "        func()\n",
    "    return inner\n",
    "\n",
    "def f1():\n",
    "    print('-----f1-----')\n",
    "    \n",
    "def f2():\n",
    "    print('-----f2-----')\n",
    "    \n",
    "f1 = w1(f1)#f1从指向原来函数变成指向闭包中inner函数\n",
    "f1()\n",
    "#装饰器原理：在没有修改f1()的调用方式下，对f1()功能的扩展"
   ]
  },
  {
   "cell_type": "code",
   "execution_count": 60,
   "metadata": {},
   "outputs": [
    {
     "name": "stdout",
     "output_type": "stream",
     "text": [
      "---正在验证权限---\n",
      "-----f1-----\n",
      "---正在验证权限---\n",
      "-----f2-----\n"
     ]
    }
   ],
   "source": [
    "#语法糖加闭包\n",
    "def w1(func):\n",
    "    def inner():\n",
    "        print('---正在验证权限---')\n",
    "        if True:\n",
    "            func()\n",
    "        else:\n",
    "            print('没有权限')\n",
    "    return inner\n",
    "\n",
    "@w1  #等价于f1 = w1(f1)    写在f1()前面\n",
    "def f1():\n",
    "    print('-----f1-----')\n",
    "    \n",
    "@w1\n",
    "def f2():\n",
    "    print('-----f2-----')\n",
    "    \n",
    "f1()\n",
    "f2()"
   ]
  },
  {
   "cell_type": "code",
   "execution_count": null,
   "metadata": {
    "collapsed": true
   },
   "outputs": [],
   "source": []
  }
 ],
 "metadata": {
  "anaconda-cloud": {},
  "kernelspec": {
   "display_name": "Python 3",
   "language": "python",
   "name": "python3"
  },
  "language_info": {
   "codemirror_mode": {
    "name": "ipython",
    "version": 3
   },
   "file_extension": ".py",
   "mimetype": "text/x-python",
   "name": "python",
   "nbconvert_exporter": "python",
   "pygments_lexer": "ipython3",
   "version": "3.6.1"
  }
 },
 "nbformat": 4,
 "nbformat_minor": 1
}
