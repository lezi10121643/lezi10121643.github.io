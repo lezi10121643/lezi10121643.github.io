{
 "cells": [
  {
   "cell_type": "code",
   "execution_count": 2,
   "metadata": {
    "collapsed": false
   },
   "outputs": [
    {
     "name": "stdout",
     "output_type": "stream",
     "text": [
      "请输入一个数字：12\n"
     ]
    }
   ],
   "source": [
    "a=input('请输入一个数字：')"
   ]
  },
  {
   "cell_type": "code",
   "execution_count": 3,
   "metadata": {
    "collapsed": false
   },
   "outputs": [
    {
     "data": {
      "text/plain": [
       "'12'"
      ]
     },
     "execution_count": 3,
     "metadata": {},
     "output_type": "execute_result"
    }
   ],
   "source": [
    "a"
   ]
  },
  {
   "cell_type": "code",
   "execution_count": 4,
   "metadata": {
    "collapsed": false
   },
   "outputs": [
    {
     "name": "stdout",
     "output_type": "stream",
     "text": [
      "age变量里的值是18\n"
     ]
    }
   ],
   "source": [
    "age=18\n",
    "print('age变量里的值是%d'%age)"
   ]
  },
  {
   "cell_type": "code",
   "execution_count": 7,
   "metadata": {
    "collapsed": false
   },
   "outputs": [
    {
     "name": "stdout",
     "output_type": "stream",
     "text": [
      "名字是：David\n"
     ]
    }
   ],
   "source": [
    "name='David'\n",
    "print('名字是：%s'%name)"
   ]
  },
  {
   "cell_type": "code",
   "execution_count": 1,
   "metadata": {
    "collapsed": true
   },
   "outputs": [],
   "source": [
    "#python3没有raw_input,python3的input和python2的raw_input效果一样"
   ]
  },
  {
   "cell_type": "code",
   "execution_count": null,
   "metadata": {
    "collapsed": true
   },
   "outputs": [],
   "source": [
    "#input获取的所有内容，都当作字符串类型"
   ]
  },
  {
   "cell_type": "code",
   "execution_count": 1,
   "metadata": {
    "collapsed": true
   },
   "outputs": [],
   "source": [
    "a='12'\n",
    "b=int(a)+1#类型转换"
   ]
  },
  {
   "cell_type": "code",
   "execution_count": 2,
   "metadata": {
    "collapsed": false
   },
   "outputs": [
    {
     "data": {
      "text/plain": [
       "13"
      ]
     },
     "execution_count": 2,
     "metadata": {},
     "output_type": "execute_result"
    }
   ],
   "source": [
    "b"
   ]
  },
  {
   "cell_type": "code",
   "execution_count": 4,
   "metadata": {
    "collapsed": false
   },
   "outputs": [],
   "source": [
    "#下划线命名\n",
    "student_name='David'"
   ]
  },
  {
   "cell_type": "code",
   "execution_count": 6,
   "metadata": {
    "collapsed": false
   },
   "outputs": [
    {
     "data": {
      "text/plain": [
       "2.5"
      ]
     },
     "execution_count": 6,
     "metadata": {},
     "output_type": "execute_result"
    }
   ],
   "source": [
    "a=5\n",
    "b=2\n",
    "a/b#除法"
   ]
  },
  {
   "cell_type": "code",
   "execution_count": 7,
   "metadata": {
    "collapsed": false
   },
   "outputs": [
    {
     "data": {
      "text/plain": [
       "2"
      ]
     },
     "execution_count": 7,
     "metadata": {},
     "output_type": "execute_result"
    }
   ],
   "source": [
    "a//b#取商"
   ]
  },
  {
   "cell_type": "code",
   "execution_count": 8,
   "metadata": {
    "collapsed": false
   },
   "outputs": [
    {
     "data": {
      "text/plain": [
       "1"
      ]
     },
     "execution_count": 8,
     "metadata": {},
     "output_type": "execute_result"
    }
   ],
   "source": [
    "a%b#取余数"
   ]
  },
  {
   "cell_type": "code",
   "execution_count": 9,
   "metadata": {
    "collapsed": false
   },
   "outputs": [
    {
     "data": {
      "text/plain": [
       "-3"
      ]
     },
     "execution_count": 9,
     "metadata": {},
     "output_type": "execute_result"
    }
   ],
   "source": [
    "a//(-2)#???"
   ]
  },
  {
   "cell_type": "code",
   "execution_count": 10,
   "metadata": {
    "collapsed": false
   },
   "outputs": [
    {
     "data": {
      "text/plain": [
       "8"
      ]
     },
     "execution_count": 10,
     "metadata": {},
     "output_type": "execute_result"
    }
   ],
   "source": [
    "2**3#次方"
   ]
  },
  {
   "cell_type": "code",
   "execution_count": 12,
   "metadata": {
    "collapsed": false
   },
   "outputs": [
    {
     "data": {
      "text/plain": [
       "314.0"
      ]
     },
     "execution_count": 12,
     "metadata": {},
     "output_type": "execute_result"
    }
   ],
   "source": [
    "100*3.14"
   ]
  },
  {
   "cell_type": "code",
   "execution_count": 13,
   "metadata": {
    "collapsed": false
   },
   "outputs": [
    {
     "data": {
      "text/plain": [
       "31.400000000000002"
      ]
     },
     "execution_count": 13,
     "metadata": {},
     "output_type": "execute_result"
    }
   ],
   "source": [
    "10*3.14#？？？"
   ]
  },
  {
   "cell_type": "code",
   "execution_count": 16,
   "metadata": {
    "collapsed": false
   },
   "outputs": [
    {
     "data": {
      "text/plain": [
       "'蒹葭苍苍,白露为霜。所谓伊人,在水一方。 溯洄从之,道阻且长。溯游从之,宛在水中央。蒹葭苍苍,白露为霜。所谓伊人,在水一方。 溯洄从之,道阻且长。溯游从之,宛在水中央。蒹葭苍苍,白露为霜。所谓伊人,在水一方。 溯洄从之,道阻且长。溯游从之,宛在水中央。蒹葭苍苍,白露为霜。所谓伊人,在水一方。 溯洄从之,道阻且长。溯游从之,宛在水中央。蒹葭苍苍,白露为霜。所谓伊人,在水一方。 溯洄从之,道阻且长。溯游从之,宛在水中央。蒹葭苍苍,白露为霜。所谓伊人,在水一方。 溯洄从之,道阻且长。溯游从之,宛在水中央。蒹葭苍苍,白露为霜。所谓伊人,在水一方。 溯洄从之,道阻且长。溯游从之,宛在水中央。蒹葭苍苍,白露为霜。所谓伊人,在水一方。 溯洄从之,道阻且长。溯游从之,宛在水中央。蒹葭苍苍,白露为霜。所谓伊人,在水一方。 溯洄从之,道阻且长。溯游从之,宛在水中央。蒹葭苍苍,白露为霜。所谓伊人,在水一方。 溯洄从之,道阻且长。溯游从之,宛在水中央。蒹葭苍苍,白露为霜。所谓伊人,在水一方。 溯洄从之,道阻且长。溯游从之,宛在水中央。蒹葭苍苍,白露为霜。所谓伊人,在水一方。 溯洄从之,道阻且长。溯游从之,宛在水中央。蒹葭苍苍,白露为霜。所谓伊人,在水一方。 溯洄从之,道阻且长。溯游从之,宛在水中央。蒹葭苍苍,白露为霜。所谓伊人,在水一方。 溯洄从之,道阻且长。溯游从之,宛在水中央。蒹葭苍苍,白露为霜。所谓伊人,在水一方。 溯洄从之,道阻且长。溯游从之,宛在水中央。蒹葭苍苍,白露为霜。所谓伊人,在水一方。 溯洄从之,道阻且长。溯游从之,宛在水中央。蒹葭苍苍,白露为霜。所谓伊人,在水一方。 溯洄从之,道阻且长。溯游从之,宛在水中央。蒹葭苍苍,白露为霜。所谓伊人,在水一方。 溯洄从之,道阻且长。溯游从之,宛在水中央。蒹葭苍苍,白露为霜。所谓伊人,在水一方。 溯洄从之,道阻且长。溯游从之,宛在水中央。蒹葭苍苍,白露为霜。所谓伊人,在水一方。 溯洄从之,道阻且长。溯游从之,宛在水中央。蒹葭苍苍,白露为霜。所谓伊人,在水一方。 溯洄从之,道阻且长。溯游从之,宛在水中央。蒹葭苍苍,白露为霜。所谓伊人,在水一方。 溯洄从之,道阻且长。溯游从之,宛在水中央。蒹葭苍苍,白露为霜。所谓伊人,在水一方。 溯洄从之,道阻且长。溯游从之,宛在水中央。蒹葭苍苍,白露为霜。所谓伊人,在水一方。 溯洄从之,道阻且长。溯游从之,宛在水中央。蒹葭苍苍,白露为霜。所谓伊人,在水一方。 溯洄从之,道阻且长。溯游从之,宛在水中央。蒹葭苍苍,白露为霜。所谓伊人,在水一方。 溯洄从之,道阻且长。溯游从之,宛在水中央。蒹葭苍苍,白露为霜。所谓伊人,在水一方。 溯洄从之,道阻且长。溯游从之,宛在水中央。蒹葭苍苍,白露为霜。所谓伊人,在水一方。 溯洄从之,道阻且长。溯游从之,宛在水中央。蒹葭苍苍,白露为霜。所谓伊人,在水一方。 溯洄从之,道阻且长。溯游从之,宛在水中央。蒹葭苍苍,白露为霜。所谓伊人,在水一方。 溯洄从之,道阻且长。溯游从之,宛在水中央。蒹葭苍苍,白露为霜。所谓伊人,在水一方。 溯洄从之,道阻且长。溯游从之,宛在水中央。蒹葭苍苍,白露为霜。所谓伊人,在水一方。 溯洄从之,道阻且长。溯游从之,宛在水中央。蒹葭苍苍,白露为霜。所谓伊人,在水一方。 溯洄从之,道阻且长。溯游从之,宛在水中央。蒹葭苍苍,白露为霜。所谓伊人,在水一方。 溯洄从之,道阻且长。溯游从之,宛在水中央。蒹葭苍苍,白露为霜。所谓伊人,在水一方。 溯洄从之,道阻且长。溯游从之,宛在水中央。蒹葭苍苍,白露为霜。所谓伊人,在水一方。 溯洄从之,道阻且长。溯游从之,宛在水中央。蒹葭苍苍,白露为霜。所谓伊人,在水一方。 溯洄从之,道阻且长。溯游从之,宛在水中央。蒹葭苍苍,白露为霜。所谓伊人,在水一方。 溯洄从之,道阻且长。溯游从之,宛在水中央。蒹葭苍苍,白露为霜。所谓伊人,在水一方。 溯洄从之,道阻且长。溯游从之,宛在水中央。蒹葭苍苍,白露为霜。所谓伊人,在水一方。 溯洄从之,道阻且长。溯游从之,宛在水中央。蒹葭苍苍,白露为霜。所谓伊人,在水一方。 溯洄从之,道阻且长。溯游从之,宛在水中央。蒹葭苍苍,白露为霜。所谓伊人,在水一方。 溯洄从之,道阻且长。溯游从之,宛在水中央。蒹葭苍苍,白露为霜。所谓伊人,在水一方。 溯洄从之,道阻且长。溯游从之,宛在水中央。蒹葭苍苍,白露为霜。所谓伊人,在水一方。 溯洄从之,道阻且长。溯游从之,宛在水中央。蒹葭苍苍,白露为霜。所谓伊人,在水一方。 溯洄从之,道阻且长。溯游从之,宛在水中央。蒹葭苍苍,白露为霜。所谓伊人,在水一方。 溯洄从之,道阻且长。溯游从之,宛在水中央。蒹葭苍苍,白露为霜。所谓伊人,在水一方。 溯洄从之,道阻且长。溯游从之,宛在水中央。蒹葭苍苍,白露为霜。所谓伊人,在水一方。 溯洄从之,道阻且长。溯游从之,宛在水中央。蒹葭苍苍,白露为霜。所谓伊人,在水一方。 溯洄从之,道阻且长。溯游从之,宛在水中央。蒹葭苍苍,白露为霜。所谓伊人,在水一方。 溯洄从之,道阻且长。溯游从之,宛在水中央。蒹葭苍苍,白露为霜。所谓伊人,在水一方。 溯洄从之,道阻且长。溯游从之,宛在水中央。蒹葭苍苍,白露为霜。所谓伊人,在水一方。 溯洄从之,道阻且长。溯游从之,宛在水中央。蒹葭苍苍,白露为霜。所谓伊人,在水一方。 溯洄从之,道阻且长。溯游从之,宛在水中央。蒹葭苍苍,白露为霜。所谓伊人,在水一方。 溯洄从之,道阻且长。溯游从之,宛在水中央。蒹葭苍苍,白露为霜。所谓伊人,在水一方。 溯洄从之,道阻且长。溯游从之,宛在水中央。蒹葭苍苍,白露为霜。所谓伊人,在水一方。 溯洄从之,道阻且长。溯游从之,宛在水中央。蒹葭苍苍,白露为霜。所谓伊人,在水一方。 溯洄从之,道阻且长。溯游从之,宛在水中央。蒹葭苍苍,白露为霜。所谓伊人,在水一方。 溯洄从之,道阻且长。溯游从之,宛在水中央。蒹葭苍苍,白露为霜。所谓伊人,在水一方。 溯洄从之,道阻且长。溯游从之,宛在水中央。蒹葭苍苍,白露为霜。所谓伊人,在水一方。 溯洄从之,道阻且长。溯游从之,宛在水中央。蒹葭苍苍,白露为霜。所谓伊人,在水一方。 溯洄从之,道阻且长。溯游从之,宛在水中央。蒹葭苍苍,白露为霜。所谓伊人,在水一方。 溯洄从之,道阻且长。溯游从之,宛在水中央。蒹葭苍苍,白露为霜。所谓伊人,在水一方。 溯洄从之,道阻且长。溯游从之,宛在水中央。蒹葭苍苍,白露为霜。所谓伊人,在水一方。 溯洄从之,道阻且长。溯游从之,宛在水中央。蒹葭苍苍,白露为霜。所谓伊人,在水一方。 溯洄从之,道阻且长。溯游从之,宛在水中央。蒹葭苍苍,白露为霜。所谓伊人,在水一方。 溯洄从之,道阻且长。溯游从之,宛在水中央。蒹葭苍苍,白露为霜。所谓伊人,在水一方。 溯洄从之,道阻且长。溯游从之,宛在水中央。蒹葭苍苍,白露为霜。所谓伊人,在水一方。 溯洄从之,道阻且长。溯游从之,宛在水中央。蒹葭苍苍,白露为霜。所谓伊人,在水一方。 溯洄从之,道阻且长。溯游从之,宛在水中央。蒹葭苍苍,白露为霜。所谓伊人,在水一方。 溯洄从之,道阻且长。溯游从之,宛在水中央。蒹葭苍苍,白露为霜。所谓伊人,在水一方。 溯洄从之,道阻且长。溯游从之,宛在水中央。蒹葭苍苍,白露为霜。所谓伊人,在水一方。 溯洄从之,道阻且长。溯游从之,宛在水中央。蒹葭苍苍,白露为霜。所谓伊人,在水一方。 溯洄从之,道阻且长。溯游从之,宛在水中央。蒹葭苍苍,白露为霜。所谓伊人,在水一方。 溯洄从之,道阻且长。溯游从之,宛在水中央。蒹葭苍苍,白露为霜。所谓伊人,在水一方。 溯洄从之,道阻且长。溯游从之,宛在水中央。蒹葭苍苍,白露为霜。所谓伊人,在水一方。 溯洄从之,道阻且长。溯游从之,宛在水中央。蒹葭苍苍,白露为霜。所谓伊人,在水一方。 溯洄从之,道阻且长。溯游从之,宛在水中央。蒹葭苍苍,白露为霜。所谓伊人,在水一方。 溯洄从之,道阻且长。溯游从之,宛在水中央。蒹葭苍苍,白露为霜。所谓伊人,在水一方。 溯洄从之,道阻且长。溯游从之,宛在水中央。蒹葭苍苍,白露为霜。所谓伊人,在水一方。 溯洄从之,道阻且长。溯游从之,宛在水中央。蒹葭苍苍,白露为霜。所谓伊人,在水一方。 溯洄从之,道阻且长。溯游从之,宛在水中央。蒹葭苍苍,白露为霜。所谓伊人,在水一方。 溯洄从之,道阻且长。溯游从之,宛在水中央。蒹葭苍苍,白露为霜。所谓伊人,在水一方。 溯洄从之,道阻且长。溯游从之,宛在水中央。蒹葭苍苍,白露为霜。所谓伊人,在水一方。 溯洄从之,道阻且长。溯游从之,宛在水中央。蒹葭苍苍,白露为霜。所谓伊人,在水一方。 溯洄从之,道阻且长。溯游从之,宛在水中央。蒹葭苍苍,白露为霜。所谓伊人,在水一方。 溯洄从之,道阻且长。溯游从之,宛在水中央。蒹葭苍苍,白露为霜。所谓伊人,在水一方。 溯洄从之,道阻且长。溯游从之,宛在水中央。蒹葭苍苍,白露为霜。所谓伊人,在水一方。 溯洄从之,道阻且长。溯游从之,宛在水中央。蒹葭苍苍,白露为霜。所谓伊人,在水一方。 溯洄从之,道阻且长。溯游从之,宛在水中央。蒹葭苍苍,白露为霜。所谓伊人,在水一方。 溯洄从之,道阻且长。溯游从之,宛在水中央。蒹葭苍苍,白露为霜。所谓伊人,在水一方。 溯洄从之,道阻且长。溯游从之,宛在水中央。蒹葭苍苍,白露为霜。所谓伊人,在水一方。 溯洄从之,道阻且长。溯游从之,宛在水中央。蒹葭苍苍,白露为霜。所谓伊人,在水一方。 溯洄从之,道阻且长。溯游从之,宛在水中央。蒹葭苍苍,白露为霜。所谓伊人,在水一方。 溯洄从之,道阻且长。溯游从之,宛在水中央。蒹葭苍苍,白露为霜。所谓伊人,在水一方。 溯洄从之,道阻且长。溯游从之,宛在水中央。蒹葭苍苍,白露为霜。所谓伊人,在水一方。 溯洄从之,道阻且长。溯游从之,宛在水中央。蒹葭苍苍,白露为霜。所谓伊人,在水一方。 溯洄从之,道阻且长。溯游从之,宛在水中央。蒹葭苍苍,白露为霜。所谓伊人,在水一方。 溯洄从之,道阻且长。溯游从之,宛在水中央。蒹葭苍苍,白露为霜。所谓伊人,在水一方。 溯洄从之,道阻且长。溯游从之,宛在水中央。蒹葭苍苍,白露为霜。所谓伊人,在水一方。 溯洄从之,道阻且长。溯游从之,宛在水中央。'"
      ]
     },
     "execution_count": 16,
     "metadata": {},
     "output_type": "execute_result"
    }
   ],
   "source": [
    "#老师：‘罚抄一百遍’\n",
    "'蒹葭苍苍,白露为霜。所谓伊人,在水一方。 溯洄从之,道阻且长。溯游从之,宛在水中央。'*100"
   ]
  },
  {
   "cell_type": "code",
   "execution_count": 17,
   "metadata": {
    "collapsed": false
   },
   "outputs": [
    {
     "name": "stdout",
     "output_type": "stream",
     "text": [
      "姓名是：David,年龄是：20，地址是：黄山\n"
     ]
    }
   ],
   "source": [
    "#print一次性输出多个变量的值\n",
    "name = 'David'\n",
    "age = 20\n",
    "addr = '黄山'\n",
    "print('姓名是：%s,年龄是：%d，地址是：%s'%(name,age,addr))"
   ]
  },
  {
   "cell_type": "code",
   "execution_count": 18,
   "metadata": {
    "collapsed": false
   },
   "outputs": [
    {
     "name": "stdout",
     "output_type": "stream",
     "text": [
      "ok\n"
     ]
    }
   ],
   "source": [
    "#逻辑运算符\n",
    "a=1\n",
    "b=2\n",
    "if a==1 or b==2:\n",
    "    print('ok')"
   ]
  },
  {
   "cell_type": "code",
   "execution_count": 1,
   "metadata": {
    "collapsed": true
   },
   "outputs": [],
   "source": [
    "# and 并且\n",
    "c=20\n",
    "if not(c>0 and c<=20):\n",
    "    print('不在范围内之间')"
   ]
  },
  {
   "cell_type": "code",
   "execution_count": 5,
   "metadata": {
    "collapsed": false
   },
   "outputs": [
    {
     "name": "stdout",
     "output_type": "stream",
     "text": [
      "1\n",
      "\n",
      "*****"
     ]
    }
   ],
   "source": [
    "#print()自带换行功能\n",
    "print(1)\n",
    "print('')\n",
    "i=5\n",
    "while(i):\n",
    "    print('*',end='')#不换行\n",
    "    i=i-1"
   ]
  },
  {
   "cell_type": "code",
   "execution_count": 9,
   "metadata": {
    "collapsed": false
   },
   "outputs": [
    {
     "data": {
      "text/plain": [
       "3"
      ]
     },
     "execution_count": 9,
     "metadata": {},
     "output_type": "execute_result"
    }
   ],
   "source": [
    "#复合赋值运算符\n",
    "a=1\n",
    "a=a+1\n",
    "a+=1\n",
    "a"
   ]
  },
  {
   "cell_type": "code",
   "execution_count": 7,
   "metadata": {
    "collapsed": true
   },
   "outputs": [],
   "source": [
    "a*=2+3\n",
    "#等价a=a*（2+3）"
   ]
  },
  {
   "cell_type": "code",
   "execution_count": 8,
   "metadata": {
    "collapsed": false
   },
   "outputs": [
    {
     "data": {
      "text/plain": [
       "15"
      ]
     },
     "execution_count": 8,
     "metadata": {},
     "output_type": "execute_result"
    }
   ],
   "source": [
    "a"
   ]
  },
  {
   "cell_type": "code",
   "execution_count": 11,
   "metadata": {
    "collapsed": false
   },
   "outputs": [
    {
     "name": "stdout",
     "output_type": "stream",
     "text": [
      "haha\n",
      "ha\tha\n"
     ]
    }
   ],
   "source": [
    "print('haha')\n",
    "print('ha\\tha')\n",
    "#\\t制表符 相当于Tab"
   ]
  },
  {
   "cell_type": "code",
   "execution_count": 12,
   "metadata": {
    "collapsed": true
   },
   "outputs": [],
   "source": [
    "import random"
   ]
  },
  {
   "cell_type": "code",
   "execution_count": 13,
   "metadata": {
    "collapsed": false
   },
   "outputs": [
    {
     "data": {
      "text/plain": [
       "1"
      ]
     },
     "execution_count": 13,
     "metadata": {},
     "output_type": "execute_result"
    }
   ],
   "source": [
    "random.randint(0,10)#随机生成0-10的整数"
   ]
  },
  {
   "cell_type": "code",
   "execution_count": 14,
   "metadata": {
    "collapsed": false
   },
   "outputs": [
    {
     "data": {
      "text/plain": [
       "1"
      ]
     },
     "execution_count": 14,
     "metadata": {},
     "output_type": "execute_result"
    }
   ],
   "source": [
    "random.randint(0,10)#随机生成0-10的整数"
   ]
  },
  {
   "cell_type": "code",
   "execution_count": 15,
   "metadata": {
    "collapsed": false
   },
   "outputs": [
    {
     "data": {
      "text/plain": [
       "5"
      ]
     },
     "execution_count": 15,
     "metadata": {},
     "output_type": "execute_result"
    }
   ],
   "source": [
    "random.randint(0,10)#随机生成0-10的整数"
   ]
  },
  {
   "cell_type": "code",
   "execution_count": 16,
   "metadata": {
    "collapsed": false
   },
   "outputs": [
    {
     "data": {
      "text/plain": [
       "1"
      ]
     },
     "execution_count": 16,
     "metadata": {},
     "output_type": "execute_result"
    }
   ],
   "source": [
    "random.randint(0,10)#随机生成0-10的整数"
   ]
  },
  {
   "cell_type": "code",
   "execution_count": 17,
   "metadata": {
    "collapsed": false
   },
   "outputs": [
    {
     "data": {
      "text/plain": [
       "9"
      ]
     },
     "execution_count": 17,
     "metadata": {},
     "output_type": "execute_result"
    }
   ],
   "source": [
    "random.randint(0,10)#随机生成0-10的整数"
   ]
  },
  {
   "cell_type": "code",
   "execution_count": 18,
   "metadata": {
    "collapsed": false
   },
   "outputs": [
    {
     "data": {
      "text/plain": [
       "1"
      ]
     },
     "execution_count": 18,
     "metadata": {},
     "output_type": "execute_result"
    }
   ],
   "source": [
    "random.randint(0,10)#随机生成0-10的整数"
   ]
  },
  {
   "cell_type": "code",
   "execution_count": 19,
   "metadata": {
    "collapsed": false
   },
   "outputs": [
    {
     "data": {
      "text/plain": [
       "3"
      ]
     },
     "execution_count": 19,
     "metadata": {},
     "output_type": "execute_result"
    }
   ],
   "source": [
    "random.randint(0,10)#随机生成0-10的整数"
   ]
  },
  {
   "cell_type": "code",
   "execution_count": 24,
   "metadata": {
    "collapsed": false
   },
   "outputs": [
    {
     "name": "stdout",
     "output_type": "stream",
     "text": [
      "0\n",
      "1\n"
     ]
    }
   ],
   "source": [
    "for i in range(10):\n",
    "    if i%3==2:\n",
    "        break\n",
    "    print(i)"
   ]
  },
  {
   "cell_type": "code",
   "execution_count": 25,
   "metadata": {
    "collapsed": false
   },
   "outputs": [
    {
     "name": "stdout",
     "output_type": "stream",
     "text": [
      "0\n",
      "1\n",
      "3\n",
      "4\n",
      "6\n",
      "7\n",
      "9\n"
     ]
    }
   ],
   "source": [
    "for i in range(10):\n",
    "    if i%3==2:\n",
    "        continue\n",
    "    print(i)"
   ]
  },
  {
   "cell_type": "code",
   "execution_count": 26,
   "metadata": {
    "collapsed": false
   },
   "outputs": [
    {
     "name": "stdout",
     "output_type": "stream",
     "text": [
      "100\n"
     ]
    }
   ],
   "source": [
    "a=100\n",
    "b=str(a)\n",
    "print(b)"
   ]
  },
  {
   "cell_type": "code",
   "execution_count": 27,
   "metadata": {
    "collapsed": false
   },
   "outputs": [
    {
     "data": {
      "text/plain": [
       "str"
      ]
     },
     "execution_count": 27,
     "metadata": {},
     "output_type": "execute_result"
    }
   ],
   "source": [
    "type(b)"
   ]
  },
  {
   "cell_type": "code",
   "execution_count": 30,
   "metadata": {
    "collapsed": false
   },
   "outputs": [
    {
     "name": "stdout",
     "output_type": "stream",
     "text": [
      "d\n",
      "c\n"
     ]
    }
   ],
   "source": [
    "string='abcd'\n",
    "print(string[-1])\n",
    "print(string[-2])"
   ]
  },
  {
   "cell_type": "code",
   "execution_count": 31,
   "metadata": {
    "collapsed": false
   },
   "outputs": [
    {
     "data": {
      "text/plain": [
       "'abc'"
      ]
     },
     "execution_count": 31,
     "metadata": {},
     "output_type": "execute_result"
    }
   ],
   "source": [
    "string[0:3]"
   ]
  },
  {
   "cell_type": "code",
   "execution_count": 33,
   "metadata": {
    "collapsed": false
   },
   "outputs": [
    {
     "data": {
      "text/plain": [
       "'abc'"
      ]
     },
     "execution_count": 33,
     "metadata": {},
     "output_type": "execute_result"
    }
   ],
   "source": [
    "string[0:-1]"
   ]
  },
  {
   "cell_type": "code",
   "execution_count": 34,
   "metadata": {
    "collapsed": false
   },
   "outputs": [
    {
     "data": {
      "text/plain": [
       "'bcd'"
      ]
     },
     "execution_count": 34,
     "metadata": {},
     "output_type": "execute_result"
    }
   ],
   "source": [
    "string[1:]"
   ]
  },
  {
   "cell_type": "code",
   "execution_count": 35,
   "metadata": {
    "collapsed": false
   },
   "outputs": [
    {
     "data": {
      "text/plain": [
       "''"
      ]
     },
     "execution_count": 35,
     "metadata": {},
     "output_type": "execute_result"
    }
   ],
   "source": [
    "string[2:0]"
   ]
  },
  {
   "cell_type": "code",
   "execution_count": 36,
   "metadata": {
    "collapsed": false
   },
   "outputs": [
    {
     "data": {
      "text/plain": [
       "'ac'"
      ]
     },
     "execution_count": 36,
     "metadata": {},
     "output_type": "execute_result"
    }
   ],
   "source": [
    "string[0:-1:2]#有步长切片"
   ]
  },
  {
   "cell_type": "code",
   "execution_count": 37,
   "metadata": {
    "collapsed": false
   },
   "outputs": [
    {
     "data": {
      "text/plain": [
       "'dcb'"
      ]
     },
     "execution_count": 37,
     "metadata": {},
     "output_type": "execute_result"
    }
   ],
   "source": [
    "#逆序\n",
    "string[-1:0:-1]"
   ]
  },
  {
   "cell_type": "code",
   "execution_count": 39,
   "metadata": {
    "collapsed": false
   },
   "outputs": [
    {
     "data": {
      "text/plain": [
       "'dcba'"
      ]
     },
     "execution_count": 39,
     "metadata": {},
     "output_type": "execute_result"
    }
   ],
   "source": [
    "string[::-1]#不写值 自动取端点"
   ]
  },
  {
   "cell_type": "code",
   "execution_count": 40,
   "metadata": {
    "collapsed": false
   },
   "outputs": [
    {
     "data": {
      "text/plain": [
       "'dcba'"
      ]
     },
     "execution_count": 40,
     "metadata": {},
     "output_type": "execute_result"
    }
   ],
   "source": [
    "string[-1::-1]"
   ]
  },
  {
   "cell_type": "code",
   "execution_count": 2,
   "metadata": {
    "collapsed": false
   },
   "outputs": [],
   "source": [
    "my_str='Hello World'"
   ]
  },
  {
   "cell_type": "code",
   "execution_count": 45,
   "metadata": {
    "collapsed": false
   },
   "outputs": [
    {
     "data": {
      "text/plain": [
       "6"
      ]
     },
     "execution_count": 45,
     "metadata": {},
     "output_type": "execute_result"
    }
   ],
   "source": [
    "my_str.find('World')#查找并且返回开头的下标"
   ]
  },
  {
   "cell_type": "code",
   "execution_count": 47,
   "metadata": {
    "collapsed": false
   },
   "outputs": [
    {
     "data": {
      "text/plain": [
       "-1"
      ]
     },
     "execution_count": 47,
     "metadata": {},
     "output_type": "execute_result"
    }
   ],
   "source": [
    "my_str.find('hello')#返回-1表示没找到"
   ]
  },
  {
   "cell_type": "code",
   "execution_count": 50,
   "metadata": {
    "collapsed": false
   },
   "outputs": [
    {
     "data": {
      "text/plain": [
       "0"
      ]
     },
     "execution_count": 50,
     "metadata": {},
     "output_type": "execute_result"
    }
   ],
   "source": [
    "my_str.rfind('Hello')#反向查找right"
   ]
  },
  {
   "cell_type": "code",
   "execution_count": 5,
   "metadata": {
    "collapsed": false
   },
   "outputs": [
    {
     "data": {
      "text/plain": [
       "0"
      ]
     },
     "execution_count": 5,
     "metadata": {},
     "output_type": "execute_result"
    }
   ],
   "source": [
    "my_str.index('Hello')#返回index"
   ]
  },
  {
   "cell_type": "code",
   "execution_count": 52,
   "metadata": {
    "collapsed": false
   },
   "outputs": [
    {
     "ename": "ValueError",
     "evalue": "substring not found",
     "output_type": "error",
     "traceback": [
      "\u001b[1;31m---------------------------------------------------------------------------\u001b[0m",
      "\u001b[1;31mValueError\u001b[0m                                Traceback (most recent call last)",
      "\u001b[1;32m<ipython-input-52-2af04e4ac023>\u001b[0m in \u001b[0;36m<module>\u001b[1;34m()\u001b[0m\n\u001b[1;32m----> 1\u001b[1;33m \u001b[0mmy_str\u001b[0m\u001b[1;33m.\u001b[0m\u001b[0mindex\u001b[0m\u001b[1;33m(\u001b[0m\u001b[1;34m'hello'\u001b[0m\u001b[1;33m)\u001b[0m\u001b[1;33m\u001b[0m\u001b[0m\n\u001b[0m",
      "\u001b[1;31mValueError\u001b[0m: substring not found"
     ]
    }
   ],
   "source": [
    "my_str.index('hello')#index和find区别"
   ]
  },
  {
   "cell_type": "code",
   "execution_count": 6,
   "metadata": {
    "collapsed": false
   },
   "outputs": [
    {
     "data": {
      "text/plain": [
       "0"
      ]
     },
     "execution_count": 6,
     "metadata": {},
     "output_type": "execute_result"
    }
   ],
   "source": [
    "my_str.rindex('Hello')"
   ]
  },
  {
   "cell_type": "code",
   "execution_count": 55,
   "metadata": {
    "collapsed": false
   },
   "outputs": [
    {
     "data": {
      "text/plain": [
       "1"
      ]
     },
     "execution_count": 55,
     "metadata": {},
     "output_type": "execute_result"
    }
   ],
   "source": [
    "my_str.count('Hello')#返回个数"
   ]
  },
  {
   "cell_type": "code",
   "execution_count": 56,
   "metadata": {
    "collapsed": false
   },
   "outputs": [
    {
     "data": {
      "text/plain": [
       "0"
      ]
     },
     "execution_count": 56,
     "metadata": {},
     "output_type": "execute_result"
    }
   ],
   "source": [
    "my_str.count('hello')"
   ]
  },
  {
   "cell_type": "code",
   "execution_count": 57,
   "metadata": {
    "collapsed": false
   },
   "outputs": [
    {
     "data": {
      "text/plain": [
       "'hello World'"
      ]
     },
     "execution_count": 57,
     "metadata": {},
     "output_type": "execute_result"
    }
   ],
   "source": [
    "my_str.replace('Hello','hello')"
   ]
  },
  {
   "cell_type": "code",
   "execution_count": 58,
   "metadata": {
    "collapsed": false
   },
   "outputs": [
    {
     "data": {
      "text/plain": [
       "'Hello World'"
      ]
     },
     "execution_count": 58,
     "metadata": {},
     "output_type": "execute_result"
    }
   ],
   "source": [
    "my_str#字符串是不可变类型，替换之后产生一个新的"
   ]
  },
  {
   "cell_type": "code",
   "execution_count": 12,
   "metadata": {
    "collapsed": true
   },
   "outputs": [],
   "source": [
    "string='hello world hello'"
   ]
  },
  {
   "cell_type": "code",
   "execution_count": 14,
   "metadata": {
    "collapsed": false
   },
   "outputs": [
    {
     "data": {
      "text/plain": [
       "'Hello world hello'"
      ]
     },
     "execution_count": 14,
     "metadata": {},
     "output_type": "execute_result"
    }
   ],
   "source": [
    "string.replace('hello','Hello',1)#从左到右，只替换一个"
   ]
  },
  {
   "cell_type": "code",
   "execution_count": 15,
   "metadata": {
    "collapsed": false
   },
   "outputs": [
    {
     "data": {
      "text/plain": [
       "['hello', 'world', 'hello']"
      ]
     },
     "execution_count": 15,
     "metadata": {},
     "output_type": "execute_result"
    }
   ],
   "source": [
    "string.split(' ')#按照空格切分"
   ]
  },
  {
   "cell_type": "code",
   "execution_count": 17,
   "metadata": {
    "collapsed": false
   },
   "outputs": [
    {
     "data": {
      "text/plain": [
       "'Hello world hello'"
      ]
     },
     "execution_count": 17,
     "metadata": {},
     "output_type": "execute_result"
    }
   ],
   "source": [
    "string.capitalize()#首词首字母大写"
   ]
  },
  {
   "cell_type": "code",
   "execution_count": 18,
   "metadata": {
    "collapsed": false
   },
   "outputs": [
    {
     "data": {
      "text/plain": [
       "'Hello World Hello'"
      ]
     },
     "execution_count": 18,
     "metadata": {},
     "output_type": "execute_result"
    }
   ],
   "source": [
    "string.title()#所有词首字母大写"
   ]
  },
  {
   "cell_type": "code",
   "execution_count": 19,
   "metadata": {
    "collapsed": true
   },
   "outputs": [],
   "source": [
    "file_name='xxxx.txt'"
   ]
  },
  {
   "cell_type": "code",
   "execution_count": 20,
   "metadata": {
    "collapsed": false
   },
   "outputs": [
    {
     "data": {
      "text/plain": [
       "True"
      ]
     },
     "execution_count": 20,
     "metadata": {},
     "output_type": "execute_result"
    }
   ],
   "source": [
    "file_name.endswith('.txt')#是否以什么结尾"
   ]
  },
  {
   "cell_type": "code",
   "execution_count": 21,
   "metadata": {
    "collapsed": true
   },
   "outputs": [],
   "source": [
    "file_name='wang xxxx'#判断以wang开头"
   ]
  },
  {
   "cell_type": "code",
   "execution_count": 22,
   "metadata": {
    "collapsed": false
   },
   "outputs": [
    {
     "data": {
      "text/plain": [
       "True"
      ]
     },
     "execution_count": 22,
     "metadata": {},
     "output_type": "execute_result"
    }
   ],
   "source": [
    "file_name.startswith('wang')"
   ]
  },
  {
   "cell_type": "code",
   "execution_count": 23,
   "metadata": {
    "collapsed": true
   },
   "outputs": [],
   "source": [
    "exit_flag='Yes'#解决用户输入问题，例如验证码"
   ]
  },
  {
   "cell_type": "code",
   "execution_count": 24,
   "metadata": {
    "collapsed": false
   },
   "outputs": [
    {
     "data": {
      "text/plain": [
       "'yes'"
      ]
     },
     "execution_count": 24,
     "metadata": {},
     "output_type": "execute_result"
    }
   ],
   "source": [
    "exit_flag.lower()"
   ]
  },
  {
   "cell_type": "code",
   "execution_count": 25,
   "metadata": {
    "collapsed": false
   },
   "outputs": [
    {
     "data": {
      "text/plain": [
       "'YES'"
      ]
     },
     "execution_count": 25,
     "metadata": {},
     "output_type": "execute_result"
    }
   ],
   "source": [
    "exit_flag.upper()"
   ]
  },
  {
   "cell_type": "code",
   "execution_count": 26,
   "metadata": {
    "collapsed": true
   },
   "outputs": [],
   "source": [
    "lyric='反正现在的感情 都暧昧 '#歌词显示"
   ]
  },
  {
   "cell_type": "code",
   "execution_count": 27,
   "metadata": {
    "collapsed": false
   },
   "outputs": [
    {
     "data": {
      "text/plain": [
       "'                   反正现在的感情 都暧昧                    '"
      ]
     },
     "execution_count": 27,
     "metadata": {},
     "output_type": "execute_result"
    }
   ],
   "source": [
    "lyric.center(50)#居中，考虑屏幕宽度"
   ]
  },
  {
   "cell_type": "code",
   "execution_count": 28,
   "metadata": {
    "collapsed": false
   },
   "outputs": [
    {
     "data": {
      "text/plain": [
       "'                                            反正现在的感情 都暧昧                                             '"
      ]
     },
     "execution_count": 28,
     "metadata": {},
     "output_type": "execute_result"
    }
   ],
   "source": [
    "lyric.center(100)"
   ]
  },
  {
   "cell_type": "code",
   "execution_count": 30,
   "metadata": {
    "collapsed": false
   },
   "outputs": [
    {
     "data": {
      "text/plain": [
       "'反正现在的感情 都暧昧                                       '"
      ]
     },
     "execution_count": 30,
     "metadata": {},
     "output_type": "execute_result"
    }
   ],
   "source": [
    "lyric.ljust(50)#靠左对齐"
   ]
  },
  {
   "cell_type": "code",
   "execution_count": 31,
   "metadata": {
    "collapsed": false
   },
   "outputs": [
    {
     "data": {
      "text/plain": [
       "'                                      反正现在的感情 都暧昧 '"
      ]
     },
     "execution_count": 31,
     "metadata": {},
     "output_type": "execute_result"
    }
   ],
   "source": [
    "lyric.rjust(50)#靠右对齐"
   ]
  },
  {
   "cell_type": "code",
   "execution_count": 34,
   "metadata": {
    "collapsed": true
   },
   "outputs": [],
   "source": [
    "text=lyric.center(50)"
   ]
  },
  {
   "cell_type": "code",
   "execution_count": 35,
   "metadata": {
    "collapsed": false
   },
   "outputs": [
    {
     "data": {
      "text/plain": [
       "'                   反正现在的感情 都暧昧                    '"
      ]
     },
     "execution_count": 35,
     "metadata": {},
     "output_type": "execute_result"
    }
   ],
   "source": [
    "text"
   ]
  },
  {
   "cell_type": "code",
   "execution_count": 37,
   "metadata": {
    "collapsed": false
   },
   "outputs": [
    {
     "data": {
      "text/plain": [
       "'反正现在的感情 都暧昧                    '"
      ]
     },
     "execution_count": 37,
     "metadata": {},
     "output_type": "execute_result"
    }
   ],
   "source": [
    "text.lstrip()#删除左边空格"
   ]
  },
  {
   "cell_type": "code",
   "execution_count": 38,
   "metadata": {
    "collapsed": false
   },
   "outputs": [
    {
     "data": {
      "text/plain": [
       "'                   反正现在的感情 都暧昧'"
      ]
     },
     "execution_count": 38,
     "metadata": {},
     "output_type": "execute_result"
    }
   ],
   "source": [
    "text.rstrip()#删除右边空格"
   ]
  },
  {
   "cell_type": "code",
   "execution_count": 40,
   "metadata": {
    "collapsed": false
   },
   "outputs": [
    {
     "data": {
      "text/plain": [
       "'反正现在的感情 都暧昧'"
      ]
     },
     "execution_count": 40,
     "metadata": {},
     "output_type": "execute_result"
    }
   ],
   "source": [
    "text.strip()#删除两边空格"
   ]
  },
  {
   "cell_type": "code",
   "execution_count": 44,
   "metadata": {
    "collapsed": true
   },
   "outputs": [],
   "source": [
    "text='hello world case take case care '"
   ]
  },
  {
   "cell_type": "code",
   "execution_count": 45,
   "metadata": {
    "collapsed": false
   },
   "outputs": [
    {
     "data": {
      "text/plain": [
       "('hello world ', 'case', ' take case care ')"
      ]
     },
     "execution_count": 45,
     "metadata": {},
     "output_type": "execute_result"
    }
   ],
   "source": [
    "text.partition('case')#按照指定从左边找第一个切分，返回元组"
   ]
  },
  {
   "cell_type": "code",
   "execution_count": 46,
   "metadata": {
    "collapsed": false
   },
   "outputs": [
    {
     "data": {
      "text/plain": [
       "('hello world case take ', 'case', ' care ')"
      ]
     },
     "execution_count": 46,
     "metadata": {},
     "output_type": "execute_result"
    }
   ],
   "source": [
    "text.rpartition('case')#按照指定从右边找第一个切分，返回元组"
   ]
  },
  {
   "cell_type": "code",
   "execution_count": 47,
   "metadata": {
    "collapsed": true
   },
   "outputs": [],
   "source": [
    "text='hello\\nworld\\nhi\\n'"
   ]
  },
  {
   "cell_type": "code",
   "execution_count": 48,
   "metadata": {
    "collapsed": false
   },
   "outputs": [
    {
     "name": "stdout",
     "output_type": "stream",
     "text": [
      "hello\n",
      "world\n",
      "hi\n",
      "\n"
     ]
    }
   ],
   "source": [
    "print(text)"
   ]
  },
  {
   "cell_type": "code",
   "execution_count": 49,
   "metadata": {
    "collapsed": false
   },
   "outputs": [
    {
     "data": {
      "text/plain": [
       "['hello', 'world', 'hi']"
      ]
     },
     "execution_count": 49,
     "metadata": {},
     "output_type": "execute_result"
    }
   ],
   "source": [
    "text.splitlines()#按照行进行切割"
   ]
  },
  {
   "cell_type": "code",
   "execution_count": null,
   "metadata": {
    "collapsed": false
   },
   "outputs": [],
   "source": [
    "num=input('请输入一个选项（0-9）:')"
   ]
  },
  {
   "cell_type": "code",
   "execution_count": null,
   "metadata": {
    "collapsed": true
   },
   "outputs": [],
   "source": []
  },
  {
   "cell_type": "code",
   "execution_count": null,
   "metadata": {
    "collapsed": true
   },
   "outputs": [],
   "source": []
  }
 ],
 "metadata": {
  "anaconda-cloud": {},
  "kernelspec": {
   "display_name": "Python [Root]",
   "language": "python",
   "name": "Python [Root]"
  },
  "language_info": {
   "codemirror_mode": {
    "name": "ipython",
    "version": 3
   },
   "file_extension": ".py",
   "mimetype": "text/x-python",
   "name": "python",
   "nbconvert_exporter": "python",
   "pygments_lexer": "ipython3",
   "version": "3.5.2"
  }
 },
 "nbformat": 4,
 "nbformat_minor": 0
}
