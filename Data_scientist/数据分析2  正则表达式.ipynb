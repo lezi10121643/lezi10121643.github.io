{
 "cells": [
  {
   "cell_type": "code",
   "execution_count": 1,
   "metadata": {
    "collapsed": false
   },
   "outputs": [
    {
     "data": {
      "text/plain": [
       "True"
      ]
     },
     "execution_count": 1,
     "metadata": {},
     "output_type": "execute_result"
    }
   ],
   "source": [
    "a = '123'\n",
    "a == '123'"
   ]
  },
  {
   "cell_type": "code",
   "execution_count": 2,
   "metadata": {
    "collapsed": false
   },
   "outputs": [],
   "source": [
    "import re\n",
    "a = '1'"
   ]
  },
  {
   "cell_type": "code",
   "execution_count": 4,
   "metadata": {
    "collapsed": false
   },
   "outputs": [
    {
     "data": {
      "text/plain": [
       "<_sre.SRE_Match object; span=(0, 1), match='1'>"
      ]
     },
     "execution_count": 4,
     "metadata": {},
     "output_type": "execute_result"
    }
   ],
   "source": [
    "re.search('1', a)#在第一个索引位置比对上了"
   ]
  },
  {
   "cell_type": "code",
   "execution_count": 5,
   "metadata": {
    "collapsed": false
   },
   "outputs": [
    {
     "data": {
      "text/plain": [
       "<_sre.SRE_Match object; span=(0, 1), match='1'>"
      ]
     },
     "execution_count": 5,
     "metadata": {},
     "output_type": "execute_result"
    }
   ],
   "source": [
    "re.search('[0123456789]', a)#0或1或2。。。,中括号是或的意思"
   ]
  },
  {
   "cell_type": "code",
   "execution_count": 6,
   "metadata": {
    "collapsed": false
   },
   "outputs": [
    {
     "data": {
      "text/plain": [
       "<_sre.SRE_Match object; span=(0, 1), match='1'>"
      ]
     },
     "execution_count": 6,
     "metadata": {},
     "output_type": "execute_result"
    }
   ],
   "source": [
    "re.search('[0-9]', a) # [0-9] = [0123456789]"
   ]
  },
  {
   "cell_type": "code",
   "execution_count": 7,
   "metadata": {
    "collapsed": false
   },
   "outputs": [
    {
     "data": {
      "text/plain": [
       "<_sre.SRE_Match object; span=(0, 1), match='1'>"
      ]
     },
     "execution_count": 7,
     "metadata": {},
     "output_type": "execute_result"
    }
   ],
   "source": [
    "re.search('\\d', a) #\\d = [0-9] = [0123456789]"
   ]
  },
  {
   "cell_type": "code",
   "execution_count": 6,
   "metadata": {
    "collapsed": true
   },
   "outputs": [],
   "source": [
    "a = 'a'"
   ]
  },
  {
   "cell_type": "code",
   "execution_count": 9,
   "metadata": {
    "collapsed": false
   },
   "outputs": [
    {
     "data": {
      "text/plain": [
       "<_sre.SRE_Match object; span=(0, 1), match='a'>"
      ]
     },
     "execution_count": 9,
     "metadata": {},
     "output_type": "execute_result"
    }
   ],
   "source": [
    "re.search('a', a)"
   ]
  },
  {
   "cell_type": "code",
   "execution_count": 10,
   "metadata": {
    "collapsed": false
   },
   "outputs": [
    {
     "data": {
      "text/plain": [
       "<_sre.SRE_Match object; span=(0, 1), match='a'>"
      ]
     },
     "execution_count": 10,
     "metadata": {},
     "output_type": "execute_result"
    }
   ],
   "source": [
    "re.search('[abcdefghijklmnopqrstuvwxyz]', a)"
   ]
  },
  {
   "cell_type": "code",
   "execution_count": 11,
   "metadata": {
    "collapsed": false
   },
   "outputs": [
    {
     "data": {
      "text/plain": [
       "<_sre.SRE_Match object; span=(0, 1), match='a'>"
      ]
     },
     "execution_count": 11,
     "metadata": {},
     "output_type": "execute_result"
    }
   ],
   "source": [
    "re.search('[a-z]', a)"
   ]
  },
  {
   "cell_type": "code",
   "execution_count": 8,
   "metadata": {
    "collapsed": true
   },
   "outputs": [],
   "source": [
    "b = 'A'"
   ]
  },
  {
   "cell_type": "code",
   "execution_count": 9,
   "metadata": {
    "collapsed": false
   },
   "outputs": [],
   "source": [
    "re.search('[a-z]', b)"
   ]
  },
  {
   "cell_type": "code",
   "execution_count": 14,
   "metadata": {
    "collapsed": true
   },
   "outputs": [],
   "source": [
    "#没返回表示没匹配到"
   ]
  },
  {
   "cell_type": "code",
   "execution_count": 10,
   "metadata": {
    "collapsed": false
   },
   "outputs": [
    {
     "data": {
      "text/plain": [
       "<_sre.SRE_Match object; span=(0, 1), match='A'>"
      ]
     },
     "execution_count": 10,
     "metadata": {},
     "output_type": "execute_result"
    }
   ],
   "source": [
    "re.search('[a-zA-Z]', b)"
   ]
  },
  {
   "cell_type": "code",
   "execution_count": 11,
   "metadata": {
    "collapsed": true
   },
   "outputs": [],
   "source": [
    "c = 'a'"
   ]
  },
  {
   "cell_type": "code",
   "execution_count": 12,
   "metadata": {
    "collapsed": false
   },
   "outputs": [
    {
     "data": {
      "text/plain": [
       "<_sre.SRE_Match object; span=(0, 1), match='a'>"
      ]
     },
     "execution_count": 12,
     "metadata": {},
     "output_type": "execute_result"
    }
   ],
   "source": [
    "re.search('[a-zA-Z0-9]', c)"
   ]
  },
  {
   "cell_type": "code",
   "execution_count": 13,
   "metadata": {
    "collapsed": false
   },
   "outputs": [
    {
     "data": {
      "text/plain": [
       "<_sre.SRE_Match object; span=(0, 1), match='a'>"
      ]
     },
     "execution_count": 13,
     "metadata": {},
     "output_type": "execute_result"
    }
   ],
   "source": [
    "re.search('\\w', c) # \\w = [a-zA-Z0-9] "
   ]
  },
  {
   "cell_type": "code",
   "execution_count": 19,
   "metadata": {
    "collapsed": true
   },
   "outputs": [],
   "source": [
    "a = 'abc'  "
   ]
  },
  {
   "cell_type": "code",
   "execution_count": 14,
   "metadata": {
    "collapsed": false
   },
   "outputs": [
    {
     "data": {
      "text/plain": [
       "<_sre.SRE_Match object; span=(0, 1), match='a'>"
      ]
     },
     "execution_count": 14,
     "metadata": {},
     "output_type": "execute_result"
    }
   ],
   "source": [
    "re.search('\\w', a)#只能比对单个字符"
   ]
  },
  {
   "cell_type": "code",
   "execution_count": 21,
   "metadata": {
    "collapsed": false
   },
   "outputs": [
    {
     "data": {
      "text/plain": [
       "<_sre.SRE_Match object; span=(0, 2), match='ab'>"
      ]
     },
     "execution_count": 21,
     "metadata": {},
     "output_type": "execute_result"
    }
   ],
   "source": [
    "re.search('\\w{2}', a)#比对2个字符"
   ]
  },
  {
   "cell_type": "code",
   "execution_count": 22,
   "metadata": {
    "collapsed": false
   },
   "outputs": [
    {
     "data": {
      "text/plain": [
       "<_sre.SRE_Match object; span=(0, 3), match='abc'>"
      ]
     },
     "execution_count": 22,
     "metadata": {},
     "output_type": "execute_result"
    }
   ],
   "source": [
    "re.search('\\w{3}', a)"
   ]
  },
  {
   "cell_type": "code",
   "execution_count": 23,
   "metadata": {
    "collapsed": false
   },
   "outputs": [
    {
     "data": {
      "text/plain": [
       "<_sre.SRE_Match object; span=(0, 3), match='abc'>"
      ]
     },
     "execution_count": 23,
     "metadata": {},
     "output_type": "execute_result"
    }
   ],
   "source": [
    "re.search('\\w{1,3}', a)#比对最少最多字符"
   ]
  },
  {
   "cell_type": "code",
   "execution_count": 16,
   "metadata": {
    "collapsed": true
   },
   "outputs": [],
   "source": [
    "b = 'abcdefg'"
   ]
  },
  {
   "cell_type": "code",
   "execution_count": 17,
   "metadata": {
    "collapsed": false
   },
   "outputs": [
    {
     "data": {
      "text/plain": [
       "<_sre.SRE_Match object; span=(0, 5), match='abcde'>"
      ]
     },
     "execution_count": 17,
     "metadata": {},
     "output_type": "execute_result"
    }
   ],
   "source": [
    "re.search('\\w{1,5}', b)"
   ]
  },
  {
   "cell_type": "code",
   "execution_count": 27,
   "metadata": {
    "collapsed": false
   },
   "outputs": [
    {
     "data": {
      "text/plain": [
       "<_sre.SRE_Match object; span=(0, 7), match='abcdefg'>"
      ]
     },
     "execution_count": 27,
     "metadata": {},
     "output_type": "execute_result"
    }
   ],
   "source": [
    "re.search('\\w+', b) #\\w+ = \\w{1, inf}一个及其以上"
   ]
  },
  {
   "cell_type": "code",
   "execution_count": 28,
   "metadata": {
    "collapsed": false
   },
   "outputs": [
    {
     "data": {
      "text/plain": [
       "<_sre.SRE_Match object; span=(0, 7), match='abcdefg'>"
      ]
     },
     "execution_count": 28,
     "metadata": {},
     "output_type": "execute_result"
    }
   ],
   "source": [
    "re.search('\\w*', b) #\\w* = \\w{0, inf}0个及其以上"
   ]
  },
  {
   "cell_type": "code",
   "execution_count": 37,
   "metadata": {
    "collapsed": true
   },
   "outputs": [],
   "source": [
    "a = 'my phone is 134-1234-1234'"
   ]
  },
  {
   "cell_type": "code",
   "execution_count": 38,
   "metadata": {
    "collapsed": false
   },
   "outputs": [
    {
     "data": {
      "text/plain": [
       "<_sre.SRE_Match object; span=(12, 25), match='134-1234-1234'>"
      ]
     },
     "execution_count": 38,
     "metadata": {},
     "output_type": "execute_result"
    }
   ],
   "source": [
    "re.search('\\d{3}-\\d{4}-\\d{4}', a)"
   ]
  },
  {
   "cell_type": "code",
   "execution_count": 39,
   "metadata": {
    "collapsed": true
   },
   "outputs": [],
   "source": [
    "b = 'my phone is 13412341234'"
   ]
  },
  {
   "cell_type": "code",
   "execution_count": 40,
   "metadata": {
    "collapsed": false
   },
   "outputs": [
    {
     "data": {
      "text/plain": [
       "<_sre.SRE_Match object; span=(12, 23), match='13412341234'>"
      ]
     },
     "execution_count": 40,
     "metadata": {},
     "output_type": "execute_result"
    }
   ],
   "source": [
    "re.search('\\d{3}\\d{4}\\d{4}', b)"
   ]
  },
  {
   "cell_type": "code",
   "execution_count": 42,
   "metadata": {
    "collapsed": false
   },
   "outputs": [
    {
     "data": {
      "text/plain": [
       "<_sre.SRE_Match object; span=(12, 25), match='134-1234-1234'>"
      ]
     },
     "execution_count": 42,
     "metadata": {},
     "output_type": "execute_result"
    }
   ],
   "source": [
    "re.search('\\d{3}-{0,1}\\d{4}-{0,1}\\d{4}', a)#0或1个减号"
   ]
  },
  {
   "cell_type": "code",
   "execution_count": 43,
   "metadata": {
    "collapsed": false
   },
   "outputs": [
    {
     "data": {
      "text/plain": [
       "<_sre.SRE_Match object; span=(12, 23), match='13412341234'>"
      ]
     },
     "execution_count": 43,
     "metadata": {},
     "output_type": "execute_result"
    }
   ],
   "source": [
    "re.search('\\d{3}-{0,1}\\d{4}-{0,1}\\d{4}', b)"
   ]
  },
  {
   "cell_type": "code",
   "execution_count": 44,
   "metadata": {
    "collapsed": false
   },
   "outputs": [
    {
     "data": {
      "text/plain": [
       "<_sre.SRE_Match object; span=(12, 25), match='134-1234-1234'>"
      ]
     },
     "execution_count": 44,
     "metadata": {},
     "output_type": "execute_result"
    }
   ],
   "source": [
    "re.search('\\d{3}-?\\d{4}-?\\d{4}', a) # ? = {0,1}"
   ]
  },
  {
   "cell_type": "code",
   "execution_count": 45,
   "metadata": {
    "collapsed": false
   },
   "outputs": [
    {
     "data": {
      "text/plain": [
       "<_sre.SRE_Match object; span=(12, 23), match='13412341234'>"
      ]
     },
     "execution_count": 45,
     "metadata": {},
     "output_type": "execute_result"
    }
   ],
   "source": [
    "re.search('\\d{3}-?\\d{4}-?\\d{4}', b)"
   ]
  },
  {
   "cell_type": "code",
   "execution_count": 19,
   "metadata": {
    "collapsed": false
   },
   "outputs": [
    {
     "data": {
      "text/plain": [
       "<_sre.SRE_Match object; span=(0, 14), match='david@data.com'>"
      ]
     },
     "execution_count": 19,
     "metadata": {},
     "output_type": "execute_result"
    }
   ],
   "source": [
    "import re\n",
    "email = 'david@data.com'\n",
    "re.match('\\w+@\\w+.\\w+', email)#全字串比对用match，部分用search"
   ]
  },
  {
   "cell_type": "code",
   "execution_count": 54,
   "metadata": {
    "collapsed": true
   },
   "outputs": [],
   "source": [
    "m = re.match('(\\w+)@(\\w+)', email)#小括号组成群组"
   ]
  },
  {
   "cell_type": "code",
   "execution_count": 55,
   "metadata": {
    "collapsed": false
   },
   "outputs": [
    {
     "data": {
      "text/plain": [
       "'david'"
      ]
     },
     "execution_count": 55,
     "metadata": {},
     "output_type": "execute_result"
    }
   ],
   "source": [
    "m.group(1)"
   ]
  },
  {
   "cell_type": "code",
   "execution_count": 56,
   "metadata": {
    "collapsed": false
   },
   "outputs": [
    {
     "data": {
      "text/plain": [
       "'data'"
      ]
     },
     "execution_count": 56,
     "metadata": {},
     "output_type": "execute_result"
    }
   ],
   "source": [
    "m.group(2)"
   ]
  },
  {
   "cell_type": "code",
   "execution_count": 57,
   "metadata": {
    "collapsed": false
   },
   "outputs": [
    {
     "data": {
      "text/plain": [
       "'david@data'"
      ]
     },
     "execution_count": 57,
     "metadata": {},
     "output_type": "execute_result"
    }
   ],
   "source": [
    "m.group()"
   ]
  },
  {
   "cell_type": "code",
   "execution_count": 58,
   "metadata": {
    "collapsed": false
   },
   "outputs": [
    {
     "data": {
      "text/plain": [
       "('david', 'data.com')"
      ]
     },
     "execution_count": 58,
     "metadata": {},
     "output_type": "execute_result"
    }
   ],
   "source": [
    "m = re.match('(\\w+)@([a-z\\.]+)', email)\n",
    "m.groups()"
   ]
  },
  {
   "cell_type": "code",
   "execution_count": 59,
   "metadata": {
    "collapsed": false
   },
   "outputs": [
    {
     "data": {
      "text/plain": [
       "('david', 'data.com')"
      ]
     },
     "execution_count": 59,
     "metadata": {},
     "output_type": "execute_result"
    }
   ],
   "source": [
    "m = re.match('(\\w+)@(.+)', email)#点是除了换行任意字符\n",
    "m.groups()"
   ]
  },
  {
   "cell_type": "code",
   "execution_count": 60,
   "metadata": {
    "collapsed": false
   },
   "outputs": [
    {
     "data": {
      "text/plain": [
       "('1999', '5')"
      ]
     },
     "execution_count": 60,
     "metadata": {},
     "output_type": "execute_result"
    }
   ],
   "source": [
    "digit = '1999.5'\n",
    "m = re.match('(\\d+)\\.(\\d+)', digit)\n",
    "m.groups()"
   ]
  },
  {
   "cell_type": "code",
   "execution_count": 62,
   "metadata": {
    "collapsed": false
   },
   "outputs": [
    {
     "data": {
      "text/plain": [
       "'David'"
      ]
     },
     "execution_count": 62,
     "metadata": {},
     "output_type": "execute_result"
    }
   ],
   "source": [
    "name = 'David Wang'\n",
    "m = re.match('(\\w+) (\\w+)', name)\n",
    "m.group(1)"
   ]
  },
  {
   "cell_type": "code",
   "execution_count": 63,
   "metadata": {
    "collapsed": false
   },
   "outputs": [
    {
     "data": {
      "text/plain": [
       "'Wang'"
      ]
     },
     "execution_count": 63,
     "metadata": {},
     "output_type": "execute_result"
    }
   ],
   "source": [
    "m.group(2)"
   ]
  },
  {
   "cell_type": "code",
   "execution_count": 64,
   "metadata": {
    "collapsed": false
   },
   "outputs": [
    {
     "data": {
      "text/plain": [
       "'David'"
      ]
     },
     "execution_count": 64,
     "metadata": {},
     "output_type": "execute_result"
    }
   ],
   "source": [
    "m = re.match('(?P<first_name>\\w+) (?P<last_name>\\w+)', name)#自定义抽取部分名字\n",
    "m.group('first_name')"
   ]
  },
  {
   "cell_type": "code",
   "execution_count": 65,
   "metadata": {
    "collapsed": false
   },
   "outputs": [
    {
     "data": {
      "text/plain": [
       "'Wang'"
      ]
     },
     "execution_count": 65,
     "metadata": {},
     "output_type": "execute_result"
    }
   ],
   "source": [
    "m.group('last_name')"
   ]
  },
  {
   "cell_type": "code",
   "execution_count": 66,
   "metadata": {
    "collapsed": true
   },
   "outputs": [],
   "source": [
    "m = re.match('(?P<first_name>\\w+) (?P<last_name>\\w+)', name)"
   ]
  },
  {
   "cell_type": "code",
   "execution_count": 67,
   "metadata": {
    "collapsed": false
   },
   "outputs": [
    {
     "data": {
      "text/plain": [
       "'David'"
      ]
     },
     "execution_count": 67,
     "metadata": {},
     "output_type": "execute_result"
    }
   ],
   "source": [
    "m.group('first_name')"
   ]
  },
  {
   "cell_type": "code",
   "execution_count": 68,
   "metadata": {
    "collapsed": false
   },
   "outputs": [
    {
     "data": {
      "text/plain": [
       "'Wang'"
      ]
     },
     "execution_count": 68,
     "metadata": {},
     "output_type": "execute_result"
    }
   ],
   "source": [
    "m.group('last_name')"
   ]
  },
  {
   "cell_type": "code",
   "execution_count": 20,
   "metadata": {
    "collapsed": false
   },
   "outputs": [
    {
     "data": {
      "text/html": [
       "<div>\n",
       "<table border=\"1\" class=\"dataframe\">\n",
       "  <thead>\n",
       "    <tr style=\"text-align: right;\">\n",
       "      <th></th>\n",
       "      <th>标题</th>\n",
       "      <th>建筑面积</th>\n",
       "      <th>总价</th>\n",
       "      <th>户型</th>\n",
       "      <th>朝向</th>\n",
       "      <th>物 业 费</th>\n",
       "      <th>环比上月</th>\n",
       "      <th>张贴日期</th>\n",
       "      <th>产权性质</th>\n",
       "      <th>装修</th>\n",
       "      <th>楼层</th>\n",
       "    </tr>\n",
       "  </thead>\n",
       "  <tbody>\n",
       "    <tr>\n",
       "      <th>0</th>\n",
       "      <td>资深经纪上海人：稀缺3房，南北通透采光好，房东急需用钱！</td>\n",
       "      <td>123.50</td>\n",
       "      <td>760</td>\n",
       "      <td>3室2厅0厨2卫</td>\n",
       "      <td>南北</td>\n",
       "      <td>1.5元/平米・月</td>\n",
       "      <td>↑1.44%</td>\n",
       "      <td>西元2017年4月12日</td>\n",
       "      <td>商品房</td>\n",
       "      <td>豪华装修</td>\n",
       "      <td>低层</td>\n",
       "    </tr>\n",
       "    <tr>\n",
       "      <th>1</th>\n",
       "      <td>未来规划小上海，精装带地暖，养老，亲子，旅游度假一体化</td>\n",
       "      <td>86.00</td>\n",
       "      <td>76</td>\n",
       "      <td>2室2厅1厨1卫</td>\n",
       "      <td>南北</td>\n",
       "      <td>1.8元/・月</td>\n",
       "      <td>↑4.08%</td>\n",
       "      <td>西元2017年4月13日</td>\n",
       "      <td>商品房</td>\n",
       "      <td>精装修</td>\n",
       "      <td>中层</td>\n",
       "    </tr>\n",
       "    <tr>\n",
       "      <th>2</th>\n",
       "      <td>双高铁 不限贷 买一层送一层 送大露台 看房专车接送</td>\n",
       "      <td>90.00</td>\n",
       "      <td>80</td>\n",
       "      <td>3室2厅1厨2卫</td>\n",
       "      <td>南北</td>\n",
       "      <td>暂无资料</td>\n",
       "      <td>↓0.01%</td>\n",
       "      <td>西元2017年4月14日</td>\n",
       "      <td>商品房</td>\n",
       "      <td>精装修</td>\n",
       "      <td>高层</td>\n",
       "    </tr>\n",
       "    <tr>\n",
       "      <th>3</th>\n",
       "      <td>坐拥嘉兴海宁双轨 享受市区配套 现房值得拥有 可落户</td>\n",
       "      <td>90.00</td>\n",
       "      <td>80</td>\n",
       "      <td>2室1厅1厨1卫</td>\n",
       "      <td>南北</td>\n",
       "      <td>暂无资料</td>\n",
       "      <td>↓0.01%</td>\n",
       "      <td>西元2017年4月15日</td>\n",
       "      <td>商品房</td>\n",
       "      <td>简装修</td>\n",
       "      <td>中层</td>\n",
       "    </tr>\n",
       "    <tr>\n",
       "      <th>4</th>\n",
       "      <td>对口明强校区，精装两房税费少，位置安静，媲美园艺新村，随时看</td>\n",
       "      <td>66.61</td>\n",
       "      <td>285</td>\n",
       "      <td>2室1厅1厨1卫</td>\n",
       "      <td>南</td>\n",
       "      <td>0.8元/平米・月</td>\n",
       "      <td>↓2.62%</td>\n",
       "      <td>西元2017年4月16日</td>\n",
       "      <td>个人产权</td>\n",
       "      <td>中装修</td>\n",
       "      <td>低层</td>\n",
       "    </tr>\n",
       "  </tbody>\n",
       "</table>\n",
       "</div>"
      ],
      "text/plain": [
       "                               标题    建筑面积   总价        户型  朝向      物 业 费  \\\n",
       "0    资深经纪上海人：稀缺3房，南北通透采光好，房东急需用钱！  123.50  760  3室2厅0厨2卫  南北  1.5元/平米・月   \n",
       "1     未来规划小上海，精装带地暖，养老，亲子，旅游度假一体化   86.00   76  2室2厅1厨1卫  南北    1.8元/・月   \n",
       "2      双高铁 不限贷 买一层送一层 送大露台 看房专车接送   90.00   80  3室2厅1厨2卫  南北       暂无资料   \n",
       "3      坐拥嘉兴海宁双轨 享受市区配套 现房值得拥有 可落户   90.00   80  2室1厅1厨1卫  南北       暂无资料   \n",
       "4  对口明强校区，精装两房税费少，位置安静，媲美园艺新村，随时看   66.61  285  2室1厅1厨1卫   南  0.8元/平米・月   \n",
       "\n",
       "     环比上月          张贴日期  产权性质    装修  楼层  \n",
       "0  ↑1.44%  西元2017年4月12日   商品房  豪华装修  低层  \n",
       "1  ↑4.08%  西元2017年4月13日   商品房   精装修  中层  \n",
       "2  ↓0.01%  西元2017年4月14日   商品房   精装修  高层  \n",
       "3  ↓0.01%  西元2017年4月15日   商品房   简装修  中层  \n",
       "4  ↓2.62%  西元2017年4月16日  个人产权   中装修  低层  "
      ]
     },
     "execution_count": 20,
     "metadata": {},
     "output_type": "execute_result"
    }
   ],
   "source": [
    "import pandas\n",
    "df = pandas.read_excel('house_sample.xlsx')\n",
    "df.head()"
   ]
  },
  {
   "cell_type": "code",
   "execution_count": 22,
   "metadata": {
    "collapsed": true
   },
   "outputs": [],
   "source": [
    "df[['室','厅','厨','卫']] = df['户型'].str.extract('(\\d+)室(\\d+)厅(\\d+)厨(\\d+)卫', expand=False)\n",
    "#抽取户型的数字分别作出栏位，注意转为str"
   ]
  },
  {
   "cell_type": "code",
   "execution_count": 23,
   "metadata": {
    "collapsed": false
   },
   "outputs": [
    {
     "data": {
      "text/html": [
       "<div>\n",
       "<table border=\"1\" class=\"dataframe\">\n",
       "  <thead>\n",
       "    <tr style=\"text-align: right;\">\n",
       "      <th></th>\n",
       "      <th>标题</th>\n",
       "      <th>建筑面积</th>\n",
       "      <th>总价</th>\n",
       "      <th>户型</th>\n",
       "      <th>朝向</th>\n",
       "      <th>物 业 费</th>\n",
       "      <th>环比上月</th>\n",
       "      <th>张贴日期</th>\n",
       "      <th>产权性质</th>\n",
       "      <th>装修</th>\n",
       "      <th>楼层</th>\n",
       "      <th>室</th>\n",
       "      <th>厅</th>\n",
       "      <th>厨</th>\n",
       "      <th>卫</th>\n",
       "    </tr>\n",
       "  </thead>\n",
       "  <tbody>\n",
       "    <tr>\n",
       "      <th>0</th>\n",
       "      <td>资深经纪上海人：稀缺3房，南北通透采光好，房东急需用钱！</td>\n",
       "      <td>123.50</td>\n",
       "      <td>760</td>\n",
       "      <td>3室2厅0厨2卫</td>\n",
       "      <td>南北</td>\n",
       "      <td>1.5元/平米・月</td>\n",
       "      <td>↑1.44%</td>\n",
       "      <td>西元2017年4月12日</td>\n",
       "      <td>商品房</td>\n",
       "      <td>豪华装修</td>\n",
       "      <td>低层</td>\n",
       "      <td>3</td>\n",
       "      <td>2</td>\n",
       "      <td>0</td>\n",
       "      <td>2</td>\n",
       "    </tr>\n",
       "    <tr>\n",
       "      <th>1</th>\n",
       "      <td>未来规划小上海，精装带地暖，养老，亲子，旅游度假一体化</td>\n",
       "      <td>86.00</td>\n",
       "      <td>76</td>\n",
       "      <td>2室2厅1厨1卫</td>\n",
       "      <td>南北</td>\n",
       "      <td>1.8元/・月</td>\n",
       "      <td>↑4.08%</td>\n",
       "      <td>西元2017年4月13日</td>\n",
       "      <td>商品房</td>\n",
       "      <td>精装修</td>\n",
       "      <td>中层</td>\n",
       "      <td>2</td>\n",
       "      <td>2</td>\n",
       "      <td>1</td>\n",
       "      <td>1</td>\n",
       "    </tr>\n",
       "    <tr>\n",
       "      <th>2</th>\n",
       "      <td>双高铁 不限贷 买一层送一层 送大露台 看房专车接送</td>\n",
       "      <td>90.00</td>\n",
       "      <td>80</td>\n",
       "      <td>3室2厅1厨2卫</td>\n",
       "      <td>南北</td>\n",
       "      <td>暂无资料</td>\n",
       "      <td>↓0.01%</td>\n",
       "      <td>西元2017年4月14日</td>\n",
       "      <td>商品房</td>\n",
       "      <td>精装修</td>\n",
       "      <td>高层</td>\n",
       "      <td>3</td>\n",
       "      <td>2</td>\n",
       "      <td>1</td>\n",
       "      <td>2</td>\n",
       "    </tr>\n",
       "    <tr>\n",
       "      <th>3</th>\n",
       "      <td>坐拥嘉兴海宁双轨 享受市区配套 现房值得拥有 可落户</td>\n",
       "      <td>90.00</td>\n",
       "      <td>80</td>\n",
       "      <td>2室1厅1厨1卫</td>\n",
       "      <td>南北</td>\n",
       "      <td>暂无资料</td>\n",
       "      <td>↓0.01%</td>\n",
       "      <td>西元2017年4月15日</td>\n",
       "      <td>商品房</td>\n",
       "      <td>简装修</td>\n",
       "      <td>中层</td>\n",
       "      <td>2</td>\n",
       "      <td>1</td>\n",
       "      <td>1</td>\n",
       "      <td>1</td>\n",
       "    </tr>\n",
       "    <tr>\n",
       "      <th>4</th>\n",
       "      <td>对口明强校区，精装两房税费少，位置安静，媲美园艺新村，随时看</td>\n",
       "      <td>66.61</td>\n",
       "      <td>285</td>\n",
       "      <td>2室1厅1厨1卫</td>\n",
       "      <td>南</td>\n",
       "      <td>0.8元/平米・月</td>\n",
       "      <td>↓2.62%</td>\n",
       "      <td>西元2017年4月16日</td>\n",
       "      <td>个人产权</td>\n",
       "      <td>中装修</td>\n",
       "      <td>低层</td>\n",
       "      <td>2</td>\n",
       "      <td>1</td>\n",
       "      <td>1</td>\n",
       "      <td>1</td>\n",
       "    </tr>\n",
       "    <tr>\n",
       "      <th>5</th>\n",
       "      <td>精装三房，精装修全送， 边套全明，小区中心位置，采光无遮挡！</td>\n",
       "      <td>72.00</td>\n",
       "      <td>295</td>\n",
       "      <td>3室1厅1厨1卫</td>\n",
       "      <td>南北</td>\n",
       "      <td>0.6元/平米・月</td>\n",
       "      <td>↑1.64%</td>\n",
       "      <td>西元2017年4月17日</td>\n",
       "      <td>个人产权</td>\n",
       "      <td>精装修</td>\n",
       "      <td>中层</td>\n",
       "      <td>3</td>\n",
       "      <td>1</td>\n",
       "      <td>1</td>\n",
       "      <td>1</td>\n",
       "    </tr>\n",
       "    <tr>\n",
       "      <th>6</th>\n",
       "      <td>精装两年 楼下有固定车位 接受置换 中间楼层 双南户型 底价诚售</td>\n",
       "      <td>65.58</td>\n",
       "      <td>240</td>\n",
       "      <td>2室1厅1厨1卫</td>\n",
       "      <td>南</td>\n",
       "      <td>0.6元/平米・月</td>\n",
       "      <td>↓1.52%</td>\n",
       "      <td>西元2017年4月18日</td>\n",
       "      <td>个人产权</td>\n",
       "      <td>精装修</td>\n",
       "      <td>中层</td>\n",
       "      <td>2</td>\n",
       "      <td>1</td>\n",
       "      <td>1</td>\n",
       "      <td>1</td>\n",
       "    </tr>\n",
       "    <tr>\n",
       "      <th>7</th>\n",
       "      <td>此房2楼的 房东价格可谈 价格真实产权清晰</td>\n",
       "      <td>73.35</td>\n",
       "      <td>410</td>\n",
       "      <td>3室1厅1厨1卫</td>\n",
       "      <td>南</td>\n",
       "      <td>1.4元/平米・月</td>\n",
       "      <td>↓0.39%</td>\n",
       "      <td>西元2017年4月19日</td>\n",
       "      <td>商品房</td>\n",
       "      <td>简装修</td>\n",
       "      <td>低层</td>\n",
       "      <td>3</td>\n",
       "      <td>1</td>\n",
       "      <td>1</td>\n",
       "      <td>1</td>\n",
       "    </tr>\n",
       "    <tr>\n",
       "      <th>8</th>\n",
       "      <td>浦发绿城靠近11号线 浦三路站 400万 2房2厅1卫</td>\n",
       "      <td>72.93</td>\n",
       "      <td>400</td>\n",
       "      <td>2室2厅1厨1卫</td>\n",
       "      <td>南</td>\n",
       "      <td>0.55元/平米・月</td>\n",
       "      <td>↓0.25%</td>\n",
       "      <td>西元2017年4月20日</td>\n",
       "      <td>商品房</td>\n",
       "      <td>简装修</td>\n",
       "      <td>中层</td>\n",
       "      <td>2</td>\n",
       "      <td>2</td>\n",
       "      <td>1</td>\n",
       "      <td>1</td>\n",
       "    </tr>\n",
       "    <tr>\n",
       "      <th>9</th>\n",
       "      <td>长桥六村！一房一厅户型正气南北通透！对口实验小学！好房</td>\n",
       "      <td>47.00</td>\n",
       "      <td>270</td>\n",
       "      <td>1室1厅1厨1卫</td>\n",
       "      <td>南北</td>\n",
       "      <td>暂无资料</td>\n",
       "      <td>↓0.79%</td>\n",
       "      <td>西元2017年4月21日</td>\n",
       "      <td>商品房</td>\n",
       "      <td>简装修</td>\n",
       "      <td>中层</td>\n",
       "      <td>1</td>\n",
       "      <td>1</td>\n",
       "      <td>1</td>\n",
       "      <td>1</td>\n",
       "    </tr>\n",
       "    <tr>\n",
       "      <th>10</th>\n",
       "      <td>此房6楼的 房东价格可谈 价格真实 诚意出售</td>\n",
       "      <td>48.55</td>\n",
       "      <td>300</td>\n",
       "      <td>2室1厅1厨1卫</td>\n",
       "      <td>南北</td>\n",
       "      <td>1.4元/平米・月</td>\n",
       "      <td>↓0.39%</td>\n",
       "      <td>西元2017年4月14日</td>\n",
       "      <td>商品房</td>\n",
       "      <td>豪华装修</td>\n",
       "      <td>高层</td>\n",
       "      <td>2</td>\n",
       "      <td>1</td>\n",
       "      <td>1</td>\n",
       "      <td>1</td>\n",
       "    </tr>\n",
       "    <tr>\n",
       "      <th>11</th>\n",
       "      <td>此房5楼的 房东价格可谈 精装修 价格真实诚意出售</td>\n",
       "      <td>44.00</td>\n",
       "      <td>285</td>\n",
       "      <td>1室1厅1厨1卫</td>\n",
       "      <td>南</td>\n",
       "      <td>暂无资料</td>\n",
       "      <td>↓0.79%</td>\n",
       "      <td>西元2017年4月15日</td>\n",
       "      <td>商品房</td>\n",
       "      <td>简装修</td>\n",
       "      <td>高层</td>\n",
       "      <td>1</td>\n",
       "      <td>1</td>\n",
       "      <td>1</td>\n",
       "      <td>1</td>\n",
       "    </tr>\n",
       "    <tr>\n",
       "      <th>12</th>\n",
       "      <td>此房5楼的，为数不多的一房，为数不多的5楼的。</td>\n",
       "      <td>55.00</td>\n",
       "      <td>340</td>\n",
       "      <td>1室1厅1厨1卫</td>\n",
       "      <td>南北</td>\n",
       "      <td>0.7元/平米・月</td>\n",
       "      <td>↑0.92%</td>\n",
       "      <td>西元2017年4月16日</td>\n",
       "      <td>商品房</td>\n",
       "      <td>简装修</td>\n",
       "      <td>高层</td>\n",
       "      <td>1</td>\n",
       "      <td>1</td>\n",
       "      <td>1</td>\n",
       "      <td>1</td>\n",
       "    </tr>\n",
       "    <tr>\n",
       "      <th>13</th>\n",
       "      <td>舒乐小区、对口上实附小、小区门口、房东急售、看房有钥匙</td>\n",
       "      <td>61.00</td>\n",
       "      <td>355</td>\n",
       "      <td>2室1厅1厨1卫</td>\n",
       "      <td>南北</td>\n",
       "      <td>0.5元/平米・月</td>\n",
       "      <td>↓0.64%</td>\n",
       "      <td>西元2017年4月17日</td>\n",
       "      <td>商品房</td>\n",
       "      <td>简装修</td>\n",
       "      <td>低层</td>\n",
       "      <td>2</td>\n",
       "      <td>1</td>\n",
       "      <td>1</td>\n",
       "      <td>1</td>\n",
       "    </tr>\n",
       "    <tr>\n",
       "      <th>14</th>\n",
       "      <td>天秀苑蕞低价，6楼的4楼、看房我们店有钥匙</td>\n",
       "      <td>115.00</td>\n",
       "      <td>850</td>\n",
       "      <td>3室2厅1厨2卫</td>\n",
       "      <td>南北</td>\n",
       "      <td>0.60元/平米・月</td>\n",
       "      <td>↓0.79%</td>\n",
       "      <td>西元2017年4月18日</td>\n",
       "      <td>商品房</td>\n",
       "      <td>简装修</td>\n",
       "      <td>中层</td>\n",
       "      <td>3</td>\n",
       "      <td>2</td>\n",
       "      <td>1</td>\n",
       "      <td>2</td>\n",
       "    </tr>\n",
       "    <tr>\n",
       "      <th>15</th>\n",
       "      <td>结婚在我手上买的婚房，现在生二胎要买大的，老房东找我价格好谈</td>\n",
       "      <td>67.00</td>\n",
       "      <td>359</td>\n",
       "      <td>2室1厅1厨1卫</td>\n",
       "      <td>南</td>\n",
       "      <td>1.2元/平米・月</td>\n",
       "      <td>↓1.92%</td>\n",
       "      <td>西元2017年4月19日</td>\n",
       "      <td>商品房</td>\n",
       "      <td>精装修</td>\n",
       "      <td>高层</td>\n",
       "      <td>2</td>\n",
       "      <td>1</td>\n",
       "      <td>1</td>\n",
       "      <td>1</td>\n",
       "    </tr>\n",
       "    <tr>\n",
       "      <th>16</th>\n",
       "      <td>精装修的房子，业主置换已经看中房子，看房家里都是有人</td>\n",
       "      <td>67.00</td>\n",
       "      <td>360</td>\n",
       "      <td>2室1厅1厨1卫</td>\n",
       "      <td>南</td>\n",
       "      <td>1.4元/平米・月</td>\n",
       "      <td>↓0.39%</td>\n",
       "      <td>西元2017年4月14日</td>\n",
       "      <td>商品房</td>\n",
       "      <td>精装修</td>\n",
       "      <td>高层</td>\n",
       "      <td>2</td>\n",
       "      <td>1</td>\n",
       "      <td>1</td>\n",
       "      <td>1</td>\n",
       "    </tr>\n",
       "    <tr>\n",
       "      <th>17</th>\n",
       "      <td>靠河的 3楼的 满五不唯yi 产权清晰，户口好迁，诚意出售</td>\n",
       "      <td>89.00</td>\n",
       "      <td>610</td>\n",
       "      <td>2室2厅1厨1卫</td>\n",
       "      <td>南北</td>\n",
       "      <td>1.5元/平米・月</td>\n",
       "      <td>↓2.38%</td>\n",
       "      <td>西元2017年4月15日</td>\n",
       "      <td>商品房</td>\n",
       "      <td>简装修</td>\n",
       "      <td>中层</td>\n",
       "      <td>2</td>\n",
       "      <td>2</td>\n",
       "      <td>1</td>\n",
       "      <td>1</td>\n",
       "    </tr>\n",
       "    <tr>\n",
       "      <th>18</th>\n",
       "      <td>叔叔阿姨是华理的老师，叔叔是个爱收集古玩的人，房子自住的</td>\n",
       "      <td>121.80</td>\n",
       "      <td>770</td>\n",
       "      <td>3室2厅0厨2卫</td>\n",
       "      <td>南</td>\n",
       "      <td>0.7元/平米・月</td>\n",
       "      <td>↑0.92%</td>\n",
       "      <td>西元2017年4月16日</td>\n",
       "      <td>商品房</td>\n",
       "      <td>简装修</td>\n",
       "      <td>中层</td>\n",
       "      <td>3</td>\n",
       "      <td>2</td>\n",
       "      <td>0</td>\n",
       "      <td>2</td>\n",
       "    </tr>\n",
       "    <tr>\n",
       "      <th>19</th>\n",
       "      <td>此房5楼的 房东价格可谈 诚意出售 价格真实</td>\n",
       "      <td>33.00</td>\n",
       "      <td>220</td>\n",
       "      <td>1室0厅1厨1卫</td>\n",
       "      <td>南</td>\n",
       "      <td>1.4元/平米・月</td>\n",
       "      <td>↓0.39%</td>\n",
       "      <td>西元2017年4月17日</td>\n",
       "      <td>商品房</td>\n",
       "      <td>简装修</td>\n",
       "      <td>高层</td>\n",
       "      <td>1</td>\n",
       "      <td>0</td>\n",
       "      <td>1</td>\n",
       "      <td>1</td>\n",
       "    </tr>\n",
       "    <tr>\n",
       "      <th>20</th>\n",
       "      <td>景谷苑三期，04年小区，急降20万，一梯两户，南北直通，房东急售</td>\n",
       "      <td>70.00</td>\n",
       "      <td>236</td>\n",
       "      <td>2室2厅1厨1卫</td>\n",
       "      <td>南北</td>\n",
       "      <td>0.8元/平米・月</td>\n",
       "      <td>↓3.01%</td>\n",
       "      <td>西元2017年4月18日</td>\n",
       "      <td>个人产权</td>\n",
       "      <td>精装修</td>\n",
       "      <td>中层</td>\n",
       "      <td>2</td>\n",
       "      <td>2</td>\n",
       "      <td>1</td>\n",
       "      <td>1</td>\n",
       "    </tr>\n",
       "    <tr>\n",
       "      <th>21</th>\n",
       "      <td>9号线地铁房，高品质小区，诚意卖，小区央位，送装修拎包入住。</td>\n",
       "      <td>58.00</td>\n",
       "      <td>298</td>\n",
       "      <td>1室2厅1厨1卫</td>\n",
       "      <td>南</td>\n",
       "      <td>1.65元/平米・月</td>\n",
       "      <td>↓3.5%</td>\n",
       "      <td>西元2017年4月19日</td>\n",
       "      <td>个人产权</td>\n",
       "      <td>豪华装修</td>\n",
       "      <td>中层</td>\n",
       "      <td>1</td>\n",
       "      <td>2</td>\n",
       "      <td>1</td>\n",
       "      <td>1</td>\n",
       "    </tr>\n",
       "    <tr>\n",
       "      <th>22</th>\n",
       "      <td>9号线，低密度高档小区，执掌大虹桥，连接徐家汇，高性价比。</td>\n",
       "      <td>65.00</td>\n",
       "      <td>325</td>\n",
       "      <td>1室2厅1厨1卫</td>\n",
       "      <td>南</td>\n",
       "      <td>1.83元/・月</td>\n",
       "      <td>↓3.06%</td>\n",
       "      <td>西元2017年4月17日</td>\n",
       "      <td>个人产权</td>\n",
       "      <td>精装修</td>\n",
       "      <td>低层</td>\n",
       "      <td>1</td>\n",
       "      <td>2</td>\n",
       "      <td>1</td>\n",
       "      <td>1</td>\n",
       "    </tr>\n",
       "    <tr>\n",
       "      <th>23</th>\n",
       "      <td>垫高一楼，不潮湿，近9号线，九亭商业街，周边成熟，交通便利。</td>\n",
       "      <td>118.00</td>\n",
       "      <td>458</td>\n",
       "      <td>3室2厅1厨1卫</td>\n",
       "      <td>南北</td>\n",
       "      <td>1.25元/平米・月</td>\n",
       "      <td>↓2.49%</td>\n",
       "      <td>西元2017年4月18日</td>\n",
       "      <td>个人产权</td>\n",
       "      <td>精装修</td>\n",
       "      <td>低层</td>\n",
       "      <td>3</td>\n",
       "      <td>2</td>\n",
       "      <td>1</td>\n",
       "      <td>1</td>\n",
       "    </tr>\n",
       "    <tr>\n",
       "      <th>25</th>\n",
       "      <td>9号线旁，大虹桥，国展中心旁，双轨交汇，3+1大平层，带产权车库</td>\n",
       "      <td>132.00</td>\n",
       "      <td>560</td>\n",
       "      <td>3室2厅1厨2卫</td>\n",
       "      <td>南北</td>\n",
       "      <td>1.85元/平米・月</td>\n",
       "      <td>↓1.75%</td>\n",
       "      <td>西元2017年4月14日</td>\n",
       "      <td>个人产权</td>\n",
       "      <td>精装修</td>\n",
       "      <td>中层</td>\n",
       "      <td>3</td>\n",
       "      <td>2</td>\n",
       "      <td>1</td>\n",
       "      <td>2</td>\n",
       "    </tr>\n",
       "    <tr>\n",
       "      <th>26</th>\n",
       "      <td>汇翠花园位于徐家汇万体馆旁，环境优美，闹中取静，精装，送车位</td>\n",
       "      <td>108.00</td>\n",
       "      <td>650</td>\n",
       "      <td>2室2厅1厨2卫</td>\n",
       "      <td>南</td>\n",
       "      <td>2.30元/平米・月</td>\n",
       "      <td>↑1.28%</td>\n",
       "      <td>西元2017年4月15日</td>\n",
       "      <td>个人产权</td>\n",
       "      <td>精装修</td>\n",
       "      <td>高层</td>\n",
       "      <td>2</td>\n",
       "      <td>2</td>\n",
       "      <td>1</td>\n",
       "      <td>2</td>\n",
       "    </tr>\n",
       "    <tr>\n",
       "      <th>27</th>\n",
       "      <td>近地铁 一房一厅 厨房在过道 总价低 近陆家嘴</td>\n",
       "      <td>38.00</td>\n",
       "      <td>200</td>\n",
       "      <td>1室1厅1厨1卫</td>\n",
       "      <td>南</td>\n",
       "      <td>0.8元/平米・月</td>\n",
       "      <td>↓2.68%</td>\n",
       "      <td>西元2017年4月16日</td>\n",
       "      <td>商品房</td>\n",
       "      <td>精装修</td>\n",
       "      <td>中层</td>\n",
       "      <td>1</td>\n",
       "      <td>1</td>\n",
       "      <td>1</td>\n",
       "      <td>1</td>\n",
       "    </tr>\n",
       "    <tr>\n",
       "      <th>28</th>\n",
       "      <td>三年前装修，清爽干净，双南全明，不靠变电站，稀售近双轨方便</td>\n",
       "      <td>64.00</td>\n",
       "      <td>255</td>\n",
       "      <td>2室1厅1厨1卫</td>\n",
       "      <td>南北</td>\n",
       "      <td>0.95元/平米・月</td>\n",
       "      <td>↓4.78%</td>\n",
       "      <td>西元2017年4月17日</td>\n",
       "      <td>个人产权</td>\n",
       "      <td>精装修</td>\n",
       "      <td>低层</td>\n",
       "      <td>2</td>\n",
       "      <td>1</td>\n",
       "      <td>1</td>\n",
       "      <td>1</td>\n",
       "    </tr>\n",
       "    <tr>\n",
       "      <th>29</th>\n",
       "      <td>2婚装双南两房 全送家具家电 满五年省税 双轨6/12相临</td>\n",
       "      <td>69.90</td>\n",
       "      <td>450</td>\n",
       "      <td>2室1厅0厨1卫</td>\n",
       "      <td>南</td>\n",
       "      <td>0.7元/平米・月</td>\n",
       "      <td>↑21.17%</td>\n",
       "      <td>西元2017年4月18日</td>\n",
       "      <td>个人产权</td>\n",
       "      <td>精装修</td>\n",
       "      <td>中层</td>\n",
       "      <td>2</td>\n",
       "      <td>1</td>\n",
       "      <td>0</td>\n",
       "      <td>1</td>\n",
       "    </tr>\n",
       "  </tbody>\n",
       "</table>\n",
       "</div>"
      ],
      "text/plain": [
       "                                  标题    建筑面积   总价        户型  朝向       物 业 费  \\\n",
       "0       资深经纪上海人：稀缺3房，南北通透采光好，房东急需用钱！  123.50  760  3室2厅0厨2卫  南北   1.5元/平米・月   \n",
       "1        未来规划小上海，精装带地暖，养老，亲子，旅游度假一体化   86.00   76  2室2厅1厨1卫  南北     1.8元/・月   \n",
       "2         双高铁 不限贷 买一层送一层 送大露台 看房专车接送   90.00   80  3室2厅1厨2卫  南北        暂无资料   \n",
       "3         坐拥嘉兴海宁双轨 享受市区配套 现房值得拥有 可落户   90.00   80  2室1厅1厨1卫  南北        暂无资料   \n",
       "4     对口明强校区，精装两房税费少，位置安静，媲美园艺新村，随时看   66.61  285  2室1厅1厨1卫   南   0.8元/平米・月   \n",
       "5     精装三房，精装修全送， 边套全明，小区中心位置，采光无遮挡！   72.00  295  3室1厅1厨1卫  南北   0.6元/平米・月   \n",
       "6   精装两年 楼下有固定车位 接受置换 中间楼层 双南户型 底价诚售   65.58  240  2室1厅1厨1卫   南   0.6元/平米・月   \n",
       "7              此房2楼的 房东价格可谈 价格真实产权清晰   73.35  410  3室1厅1厨1卫   南   1.4元/平米・月   \n",
       "8        浦发绿城靠近11号线 浦三路站 400万 2房2厅1卫   72.93  400  2室2厅1厨1卫   南  0.55元/平米・月   \n",
       "9        长桥六村！一房一厅户型正气南北通透！对口实验小学！好房   47.00  270  1室1厅1厨1卫  南北        暂无资料   \n",
       "10            此房6楼的 房东价格可谈 价格真实 诚意出售   48.55  300  2室1厅1厨1卫  南北   1.4元/平米・月   \n",
       "11         此房5楼的 房东价格可谈 精装修 价格真实诚意出售   44.00  285  1室1厅1厨1卫   南        暂无资料   \n",
       "12           此房5楼的，为数不多的一房，为数不多的5楼的。   55.00  340  1室1厅1厨1卫  南北   0.7元/平米・月   \n",
       "13       舒乐小区、对口上实附小、小区门口、房东急售、看房有钥匙   61.00  355  2室1厅1厨1卫  南北   0.5元/平米・月   \n",
       "14             天秀苑蕞低价，6楼的4楼、看房我们店有钥匙  115.00  850  3室2厅1厨2卫  南北  0.60元/平米・月   \n",
       "15    结婚在我手上买的婚房，现在生二胎要买大的，老房东找我价格好谈   67.00  359  2室1厅1厨1卫   南   1.2元/平米・月   \n",
       "16        精装修的房子，业主置换已经看中房子，看房家里都是有人   67.00  360  2室1厅1厨1卫   南   1.4元/平米・月   \n",
       "17     靠河的 3楼的 满五不唯yi 产权清晰，户口好迁，诚意出售   89.00  610  2室2厅1厨1卫  南北   1.5元/平米・月   \n",
       "18      叔叔阿姨是华理的老师，叔叔是个爱收集古玩的人，房子自住的  121.80  770  3室2厅0厨2卫   南   0.7元/平米・月   \n",
       "19            此房5楼的 房东价格可谈 诚意出售 价格真实   33.00  220  1室0厅1厨1卫   南   1.4元/平米・月   \n",
       "20  景谷苑三期，04年小区，急降20万，一梯两户，南北直通，房东急售   70.00  236  2室2厅1厨1卫  南北   0.8元/平米・月   \n",
       "21    9号线地铁房，高品质小区，诚意卖，小区央位，送装修拎包入住。   58.00  298  1室2厅1厨1卫   南  1.65元/平米・月   \n",
       "22     9号线，低密度高档小区，执掌大虹桥，连接徐家汇，高性价比。   65.00  325  1室2厅1厨1卫   南    1.83元/・月   \n",
       "23    垫高一楼，不潮湿，近9号线，九亭商业街，周边成熟，交通便利。  118.00  458  3室2厅1厨1卫  南北  1.25元/平米・月   \n",
       "25  9号线旁，大虹桥，国展中心旁，双轨交汇，3+1大平层，带产权车库  132.00  560  3室2厅1厨2卫  南北  1.85元/平米・月   \n",
       "26    汇翠花园位于徐家汇万体馆旁，环境优美，闹中取静，精装，送车位  108.00  650  2室2厅1厨2卫   南  2.30元/平米・月   \n",
       "27           近地铁 一房一厅 厨房在过道 总价低 近陆家嘴   38.00  200  1室1厅1厨1卫   南   0.8元/平米・月   \n",
       "28     三年前装修，清爽干净，双南全明，不靠变电站，稀售近双轨方便   64.00  255  2室1厅1厨1卫  南北  0.95元/平米・月   \n",
       "29     2婚装双南两房 全送家具家电 满五年省税 双轨6/12相临   69.90  450  2室1厅0厨1卫   南   0.7元/平米・月   \n",
       "\n",
       "       环比上月          张贴日期  产权性质    装修  楼层  室  厅  厨  卫  \n",
       "0    ↑1.44%  西元2017年4月12日   商品房  豪华装修  低层  3  2  0  2  \n",
       "1    ↑4.08%  西元2017年4月13日   商品房   精装修  中层  2  2  1  1  \n",
       "2    ↓0.01%  西元2017年4月14日   商品房   精装修  高层  3  2  1  2  \n",
       "3    ↓0.01%  西元2017年4月15日   商品房   简装修  中层  2  1  1  1  \n",
       "4    ↓2.62%  西元2017年4月16日  个人产权   中装修  低层  2  1  1  1  \n",
       "5    ↑1.64%  西元2017年4月17日  个人产权   精装修  中层  3  1  1  1  \n",
       "6    ↓1.52%  西元2017年4月18日  个人产权   精装修  中层  2  1  1  1  \n",
       "7    ↓0.39%  西元2017年4月19日   商品房   简装修  低层  3  1  1  1  \n",
       "8    ↓0.25%  西元2017年4月20日   商品房   简装修  中层  2  2  1  1  \n",
       "9    ↓0.79%  西元2017年4月21日   商品房   简装修  中层  1  1  1  1  \n",
       "10   ↓0.39%  西元2017年4月14日   商品房  豪华装修  高层  2  1  1  1  \n",
       "11   ↓0.79%  西元2017年4月15日   商品房   简装修  高层  1  1  1  1  \n",
       "12   ↑0.92%  西元2017年4月16日   商品房   简装修  高层  1  1  1  1  \n",
       "13   ↓0.64%  西元2017年4月17日   商品房   简装修  低层  2  1  1  1  \n",
       "14   ↓0.79%  西元2017年4月18日   商品房   简装修  中层  3  2  1  2  \n",
       "15   ↓1.92%  西元2017年4月19日   商品房   精装修  高层  2  1  1  1  \n",
       "16   ↓0.39%  西元2017年4月14日   商品房   精装修  高层  2  1  1  1  \n",
       "17   ↓2.38%  西元2017年4月15日   商品房   简装修  中层  2  2  1  1  \n",
       "18   ↑0.92%  西元2017年4月16日   商品房   简装修  中层  3  2  0  2  \n",
       "19   ↓0.39%  西元2017年4月17日   商品房   简装修  高层  1  0  1  1  \n",
       "20   ↓3.01%  西元2017年4月18日  个人产权   精装修  中层  2  2  1  1  \n",
       "21    ↓3.5%  西元2017年4月19日  个人产权  豪华装修  中层  1  2  1  1  \n",
       "22   ↓3.06%  西元2017年4月17日  个人产权   精装修  低层  1  2  1  1  \n",
       "23   ↓2.49%  西元2017年4月18日  个人产权   精装修  低层  3  2  1  1  \n",
       "25   ↓1.75%  西元2017年4月14日  个人产权   精装修  中层  3  2  1  2  \n",
       "26   ↑1.28%  西元2017年4月15日  个人产权   精装修  高层  2  2  1  2  \n",
       "27   ↓2.68%  西元2017年4月16日   商品房   精装修  中层  1  1  1  1  \n",
       "28   ↓4.78%  西元2017年4月17日  个人产权   精装修  低层  2  1  1  1  \n",
       "29  ↑21.17%  西元2017年4月18日  个人产权   精装修  中层  2  1  0  1  "
      ]
     },
     "execution_count": 23,
     "metadata": {},
     "output_type": "execute_result"
    }
   ],
   "source": [
    "df"
   ]
  },
  {
   "cell_type": "code",
   "execution_count": null,
   "metadata": {
    "collapsed": true
   },
   "outputs": [],
   "source": []
  }
 ],
 "metadata": {
  "kernelspec": {
   "display_name": "Python [Root]",
   "language": "python",
   "name": "Python [Root]"
  },
  "language_info": {
   "codemirror_mode": {
    "name": "ipython",
    "version": 3
   },
   "file_extension": ".py",
   "mimetype": "text/x-python",
   "name": "python",
   "nbconvert_exporter": "python",
   "pygments_lexer": "ipython3",
   "version": "3.5.2"
  }
 },
 "nbformat": 4,
 "nbformat_minor": 0
}
