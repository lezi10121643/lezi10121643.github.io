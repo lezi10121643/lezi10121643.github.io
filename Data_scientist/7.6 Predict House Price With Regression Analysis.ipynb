{
 "cells": [
  {
   "cell_type": "markdown",
   "metadata": {},
   "source": [
    "## 讀取房屋資料"
   ]
  },
  {
   "cell_type": "code",
   "execution_count": 1,
   "metadata": {
    "collapsed": false
   },
   "outputs": [
    {
     "data": {
      "text/html": [
       "<div>\n",
       "<table border=\"1\" class=\"dataframe\">\n",
       "  <thead>\n",
       "    <tr style=\"text-align: right;\">\n",
       "      <th></th>\n",
       "      <th>url</th>\n",
       "      <th>title</th>\n",
       "      <th>age</th>\n",
       "      <th>area</th>\n",
       "      <th>floor_info</th>\n",
       "      <th>direction</th>\n",
       "      <th>layout</th>\n",
       "      <th>price</th>\n",
       "    </tr>\n",
       "  </thead>\n",
       "  <tbody>\n",
       "    <tr>\n",
       "      <th>0</th>\n",
       "      <td>http://esf.sh.fang.com/chushou/3_289079207.htm</td>\n",
       "      <td>新出笋盘,业主急售,低于市场价30万,精装南北通,近11/12号线</td>\n",
       "      <td>建筑年代：1998\\r\\n</td>\n",
       "      <td>65</td>\n",
       "      <td>中层(共6层)\\r\\n</td>\n",
       "      <td>南北向\\r\\n</td>\n",
       "      <td>\\r\\n                            2室1厅\\r\\n      ...</td>\n",
       "      <td>3500000</td>\n",
       "    </tr>\n",
       "    <tr>\n",
       "      <th>1</th>\n",
       "      <td>http://esf.sh.fang.com/chushou/3_290295785.htm</td>\n",
       "      <td>业主急抛,低于市场价50万,双南双天井,闹中取静,近3/12号线!</td>\n",
       "      <td>建筑年代：1996\\r\\n</td>\n",
       "      <td>90</td>\n",
       "      <td>低层(共6层)\\r\\n</td>\n",
       "      <td>南北向\\r\\n</td>\n",
       "      <td>\\r\\n                            3室2厅\\r\\n      ...</td>\n",
       "      <td>5000000</td>\n",
       "    </tr>\n",
       "    <tr>\n",
       "      <th>2</th>\n",
       "      <td>http://esf.sh.fang.com/chushou/3_290971789.htm</td>\n",
       "      <td>新出笋盘 近11号线 东边套 低于市价50万 送20平米花园 急售</td>\n",
       "      <td>建筑年代：1998\\r\\n</td>\n",
       "      <td>72</td>\n",
       "      <td>低层(共6层)\\r\\n</td>\n",
       "      <td>南向\\r\\n</td>\n",
       "      <td>\\r\\n                            2室1厅\\r\\n      ...</td>\n",
       "      <td>3980000</td>\n",
       "    </tr>\n",
       "    <tr>\n",
       "      <th>3</th>\n",
       "      <td>http://esf.sh.fang.com/chushou/3_290987582.htm</td>\n",
       "      <td>业主出国急售:板式两房,精装修全明,带产权车位,看房方便!</td>\n",
       "      <td>建筑年代：2006\\r\\n</td>\n",
       "      <td>96</td>\n",
       "      <td>高层(共7层)\\r\\n</td>\n",
       "      <td>南北向\\r\\n</td>\n",
       "      <td>\\r\\n                            2室2厅\\r\\n      ...</td>\n",
       "      <td>5500000</td>\n",
       "    </tr>\n",
       "    <tr>\n",
       "      <th>4</th>\n",
       "      <td>http://esf.sh.fang.com/chushou/3_291070232.htm</td>\n",
       "      <td>徐汇滨江板块,双南两居,小高层带电梯,使用面积大,近3,11号线</td>\n",
       "      <td>建筑年代：1996\\r\\n</td>\n",
       "      <td>86</td>\n",
       "      <td>中层(共7层)\\r\\n</td>\n",
       "      <td>南向\\r\\n</td>\n",
       "      <td>\\r\\n                            2室1厅\\r\\n      ...</td>\n",
       "      <td>4500000</td>\n",
       "    </tr>\n",
       "  </tbody>\n",
       "</table>\n",
       "</div>"
      ],
      "text/plain": [
       "                                              url  \\\n",
       "0  http://esf.sh.fang.com/chushou/3_289079207.htm   \n",
       "1  http://esf.sh.fang.com/chushou/3_290295785.htm   \n",
       "2  http://esf.sh.fang.com/chushou/3_290971789.htm   \n",
       "3  http://esf.sh.fang.com/chushou/3_290987582.htm   \n",
       "4  http://esf.sh.fang.com/chushou/3_291070232.htm   \n",
       "\n",
       "                               title                                    age  \\\n",
       "0  新出笋盘,业主急售,低于市场价30万,精装南北通,近11/12号线  建筑年代：1998\\r\\n                           \n",
       "1  业主急抛,低于市场价50万,双南双天井,闹中取静,近3/12号线!  建筑年代：1996\\r\\n                           \n",
       "2  新出笋盘 近11号线 东边套 低于市价50万 送20平米花园 急售  建筑年代：1998\\r\\n                           \n",
       "3      业主出国急售:板式两房,精装修全明,带产权车位,看房方便!  建筑年代：2006\\r\\n                           \n",
       "4   徐汇滨江板块,双南两居,小高层带电梯,使用面积大,近3,11号线  建筑年代：1996\\r\\n                           \n",
       "\n",
       "   area                               floor_info  \\\n",
       "0    65  中层(共6层)\\r\\n                               \n",
       "1    90  低层(共6层)\\r\\n                               \n",
       "2    72  低层(共6层)\\r\\n                               \n",
       "3    96  高层(共7层)\\r\\n                               \n",
       "4    86  中层(共7层)\\r\\n                               \n",
       "\n",
       "                             direction  \\\n",
       "0  南北向\\r\\n                               \n",
       "1  南北向\\r\\n                               \n",
       "2   南向\\r\\n                               \n",
       "3  南北向\\r\\n                               \n",
       "4   南向\\r\\n                               \n",
       "\n",
       "                                              layout    price  \n",
       "0  \\r\\n                            2室1厅\\r\\n      ...  3500000  \n",
       "1  \\r\\n                            3室2厅\\r\\n      ...  5000000  \n",
       "2  \\r\\n                            2室1厅\\r\\n      ...  3980000  \n",
       "3  \\r\\n                            2室2厅\\r\\n      ...  5500000  \n",
       "4  \\r\\n                            2室1厅\\r\\n      ...  4500000  "
      ]
     },
     "execution_count": 1,
     "metadata": {},
     "output_type": "execute_result"
    }
   ],
   "source": [
    "import pandas\n",
    "df = pandas.read_excel('house_price_regression.xlsx')\n",
    "df.head()"
   ]
  },
  {
   "cell_type": "markdown",
   "metadata": {},
   "source": [
    "## 房屋資料預處理"
   ]
  },
  {
   "cell_type": "code",
   "execution_count": 2,
   "metadata": {
    "collapsed": false
   },
   "outputs": [
    {
     "name": "stderr",
     "output_type": "stream",
     "text": [
      "C:\\Anaconda3\\lib\\site-packages\\ipykernel\\__main__.py:2: FutureWarning: currently extract(expand=None) means expand=False (return Index/Series/DataFrame) but in a future version of pandas this will be changed to expand=True (return DataFrame)\n",
      "  from ipykernel import kernelapp as app\n",
      "C:\\Anaconda3\\lib\\site-packages\\ipykernel\\__main__.py:5: FutureWarning: currently extract(expand=None) means expand=False (return Index/Series/DataFrame) but in a future version of pandas this will be changed to expand=True (return DataFrame)\n",
      "C:\\Anaconda3\\lib\\site-packages\\ipykernel\\__main__.py:7: FutureWarning: currently extract(expand=None) means expand=False (return Index/Series/DataFrame) but in a future version of pandas this will be changed to expand=True (return DataFrame)\n"
     ]
    }
   ],
   "source": [
    "df['age'] = df['age'].map(lambda e: 2017 - int(e.strip().strip('建筑年代：')) )\n",
    "df[['room', 'living_room']] = df['layout'].str.extract('(\\d+)室(\\d+)厅')\n",
    "df['room'] = df['room'].astype(int)\n",
    "df['living_room'] = df['living_room'].astype(int)\n",
    "df['total_floor'] = df['floor_info'].str.extract('共(\\d+)层')\n",
    "df['total_floor'] = df['total_floor'].astype(int)\n",
    "df['floor']       = df['floor_info'].str.extract('^(.)层')\n",
    "df['direction']   = df['direction'].map(lambda e: e.strip())"
   ]
  },
  {
   "cell_type": "code",
   "execution_count": 168,
   "metadata": {
    "collapsed": false
   },
   "outputs": [
    {
     "data": {
      "text/html": [
       "<div>\n",
       "<table border=\"1\" class=\"dataframe\">\n",
       "  <thead>\n",
       "    <tr style=\"text-align: right;\">\n",
       "      <th></th>\n",
       "      <th>url</th>\n",
       "      <th>title</th>\n",
       "      <th>age</th>\n",
       "      <th>area</th>\n",
       "      <th>floor_info</th>\n",
       "      <th>direction</th>\n",
       "      <th>layout</th>\n",
       "      <th>price</th>\n",
       "      <th>room</th>\n",
       "      <th>living_room</th>\n",
       "      <th>total_floor</th>\n",
       "      <th>floor</th>\n",
       "    </tr>\n",
       "  </thead>\n",
       "  <tbody>\n",
       "    <tr>\n",
       "      <th>0</th>\n",
       "      <td>http://esf.sh.fang.com/chushou/3_289079207.htm</td>\n",
       "      <td>新出笋盘,业主急售,低于市场价30万,精装南北通,近11/12号线</td>\n",
       "      <td>19</td>\n",
       "      <td>65</td>\n",
       "      <td>中层(共6层)\\r\\n</td>\n",
       "      <td>南北向</td>\n",
       "      <td>\\r\\n                            2室1厅\\r\\n      ...</td>\n",
       "      <td>3500000</td>\n",
       "      <td>2</td>\n",
       "      <td>1</td>\n",
       "      <td>6</td>\n",
       "      <td>中</td>\n",
       "    </tr>\n",
       "    <tr>\n",
       "      <th>1</th>\n",
       "      <td>http://esf.sh.fang.com/chushou/3_290295785.htm</td>\n",
       "      <td>业主急抛,低于市场价50万,双南双天井,闹中取静,近3/12号线!</td>\n",
       "      <td>21</td>\n",
       "      <td>90</td>\n",
       "      <td>低层(共6层)\\r\\n</td>\n",
       "      <td>南北向</td>\n",
       "      <td>\\r\\n                            3室2厅\\r\\n      ...</td>\n",
       "      <td>5000000</td>\n",
       "      <td>3</td>\n",
       "      <td>2</td>\n",
       "      <td>6</td>\n",
       "      <td>低</td>\n",
       "    </tr>\n",
       "    <tr>\n",
       "      <th>2</th>\n",
       "      <td>http://esf.sh.fang.com/chushou/3_290971789.htm</td>\n",
       "      <td>新出笋盘 近11号线 东边套 低于市价50万 送20平米花园 急售</td>\n",
       "      <td>19</td>\n",
       "      <td>72</td>\n",
       "      <td>低层(共6层)\\r\\n</td>\n",
       "      <td>南向</td>\n",
       "      <td>\\r\\n                            2室1厅\\r\\n      ...</td>\n",
       "      <td>3980000</td>\n",
       "      <td>2</td>\n",
       "      <td>1</td>\n",
       "      <td>6</td>\n",
       "      <td>低</td>\n",
       "    </tr>\n",
       "    <tr>\n",
       "      <th>3</th>\n",
       "      <td>http://esf.sh.fang.com/chushou/3_290987582.htm</td>\n",
       "      <td>业主出国急售:板式两房,精装修全明,带产权车位,看房方便!</td>\n",
       "      <td>11</td>\n",
       "      <td>96</td>\n",
       "      <td>高层(共7层)\\r\\n</td>\n",
       "      <td>南北向</td>\n",
       "      <td>\\r\\n                            2室2厅\\r\\n      ...</td>\n",
       "      <td>5500000</td>\n",
       "      <td>2</td>\n",
       "      <td>2</td>\n",
       "      <td>7</td>\n",
       "      <td>高</td>\n",
       "    </tr>\n",
       "    <tr>\n",
       "      <th>4</th>\n",
       "      <td>http://esf.sh.fang.com/chushou/3_291070232.htm</td>\n",
       "      <td>徐汇滨江板块,双南两居,小高层带电梯,使用面积大,近3,11号线</td>\n",
       "      <td>21</td>\n",
       "      <td>86</td>\n",
       "      <td>中层(共7层)\\r\\n</td>\n",
       "      <td>南向</td>\n",
       "      <td>\\r\\n                            2室1厅\\r\\n      ...</td>\n",
       "      <td>4500000</td>\n",
       "      <td>2</td>\n",
       "      <td>1</td>\n",
       "      <td>7</td>\n",
       "      <td>中</td>\n",
       "    </tr>\n",
       "  </tbody>\n",
       "</table>\n",
       "</div>"
      ],
      "text/plain": [
       "                                              url  \\\n",
       "0  http://esf.sh.fang.com/chushou/3_289079207.htm   \n",
       "1  http://esf.sh.fang.com/chushou/3_290295785.htm   \n",
       "2  http://esf.sh.fang.com/chushou/3_290971789.htm   \n",
       "3  http://esf.sh.fang.com/chushou/3_290987582.htm   \n",
       "4  http://esf.sh.fang.com/chushou/3_291070232.htm   \n",
       "\n",
       "                               title  age  area  \\\n",
       "0  新出笋盘,业主急售,低于市场价30万,精装南北通,近11/12号线   19    65   \n",
       "1  业主急抛,低于市场价50万,双南双天井,闹中取静,近3/12号线!   21    90   \n",
       "2  新出笋盘 近11号线 东边套 低于市价50万 送20平米花园 急售   19    72   \n",
       "3      业主出国急售:板式两房,精装修全明,带产权车位,看房方便!   11    96   \n",
       "4   徐汇滨江板块,双南两居,小高层带电梯,使用面积大,近3,11号线   21    86   \n",
       "\n",
       "                                floor_info direction  \\\n",
       "0  中层(共6层)\\r\\n                                   南北向   \n",
       "1  低层(共6层)\\r\\n                                   南北向   \n",
       "2  低层(共6层)\\r\\n                                    南向   \n",
       "3  高层(共7层)\\r\\n                                   南北向   \n",
       "4  中层(共7层)\\r\\n                                    南向   \n",
       "\n",
       "                                              layout    price  room  \\\n",
       "0  \\r\\n                            2室1厅\\r\\n      ...  3500000     2   \n",
       "1  \\r\\n                            3室2厅\\r\\n      ...  5000000     3   \n",
       "2  \\r\\n                            2室1厅\\r\\n      ...  3980000     2   \n",
       "3  \\r\\n                            2室2厅\\r\\n      ...  5500000     2   \n",
       "4  \\r\\n                            2室1厅\\r\\n      ...  4500000     2   \n",
       "\n",
       "   living_room  total_floor floor  \n",
       "0            1            6     中  \n",
       "1            2            6     低  \n",
       "2            1            6     低  \n",
       "3            2            7     高  \n",
       "4            1            7     中  "
      ]
     },
     "execution_count": 168,
     "metadata": {},
     "output_type": "execute_result"
    }
   ],
   "source": [
    "df.head()"
   ]
  },
  {
   "cell_type": "code",
   "execution_count": 5,
   "metadata": {
    "collapsed": false
   },
   "outputs": [],
   "source": [
    "del df['layout']\n",
    "del df['floor_info']\n",
    "del df['title']\n",
    "del df['url']"
   ]
  },
  {
   "cell_type": "code",
   "execution_count": 170,
   "metadata": {
    "collapsed": false
   },
   "outputs": [
    {
     "data": {
      "text/html": [
       "<div>\n",
       "<table border=\"1\" class=\"dataframe\">\n",
       "  <thead>\n",
       "    <tr style=\"text-align: right;\">\n",
       "      <th></th>\n",
       "      <th>age</th>\n",
       "      <th>area</th>\n",
       "      <th>direction</th>\n",
       "      <th>price</th>\n",
       "      <th>room</th>\n",
       "      <th>living_room</th>\n",
       "      <th>total_floor</th>\n",
       "      <th>floor</th>\n",
       "    </tr>\n",
       "  </thead>\n",
       "  <tbody>\n",
       "    <tr>\n",
       "      <th>0</th>\n",
       "      <td>19</td>\n",
       "      <td>65</td>\n",
       "      <td>南北向</td>\n",
       "      <td>3500000</td>\n",
       "      <td>2</td>\n",
       "      <td>1</td>\n",
       "      <td>6</td>\n",
       "      <td>中</td>\n",
       "    </tr>\n",
       "    <tr>\n",
       "      <th>1</th>\n",
       "      <td>21</td>\n",
       "      <td>90</td>\n",
       "      <td>南北向</td>\n",
       "      <td>5000000</td>\n",
       "      <td>3</td>\n",
       "      <td>2</td>\n",
       "      <td>6</td>\n",
       "      <td>低</td>\n",
       "    </tr>\n",
       "    <tr>\n",
       "      <th>2</th>\n",
       "      <td>19</td>\n",
       "      <td>72</td>\n",
       "      <td>南向</td>\n",
       "      <td>3980000</td>\n",
       "      <td>2</td>\n",
       "      <td>1</td>\n",
       "      <td>6</td>\n",
       "      <td>低</td>\n",
       "    </tr>\n",
       "    <tr>\n",
       "      <th>3</th>\n",
       "      <td>11</td>\n",
       "      <td>96</td>\n",
       "      <td>南北向</td>\n",
       "      <td>5500000</td>\n",
       "      <td>2</td>\n",
       "      <td>2</td>\n",
       "      <td>7</td>\n",
       "      <td>高</td>\n",
       "    </tr>\n",
       "    <tr>\n",
       "      <th>4</th>\n",
       "      <td>21</td>\n",
       "      <td>86</td>\n",
       "      <td>南向</td>\n",
       "      <td>4500000</td>\n",
       "      <td>2</td>\n",
       "      <td>1</td>\n",
       "      <td>7</td>\n",
       "      <td>中</td>\n",
       "    </tr>\n",
       "  </tbody>\n",
       "</table>\n",
       "</div>"
      ],
      "text/plain": [
       "   age  area direction    price  room  living_room  total_floor floor\n",
       "0   19    65       南北向  3500000     2            1            6     中\n",
       "1   21    90       南北向  5000000     3            2            6     低\n",
       "2   19    72        南向  3980000     2            1            6     低\n",
       "3   11    96       南北向  5500000     2            2            7     高\n",
       "4   21    86        南向  4500000     2            1            7     中"
      ]
     },
     "execution_count": 170,
     "metadata": {},
     "output_type": "execute_result"
    }
   ],
   "source": [
    "df.head()"
   ]
  },
  {
   "cell_type": "code",
   "execution_count": 3,
   "metadata": {
    "collapsed": false
   },
   "outputs": [],
   "source": [
    "df = pandas.concat([df, pandas.get_dummies(df['direction']), pandas.get_dummies(df['floor'])], axis = 1 )"
   ]
  },
  {
   "cell_type": "code",
   "execution_count": 6,
   "metadata": {
    "collapsed": false
   },
   "outputs": [
    {
     "data": {
      "text/html": [
       "<div>\n",
       "<table border=\"1\" class=\"dataframe\">\n",
       "  <thead>\n",
       "    <tr style=\"text-align: right;\">\n",
       "      <th></th>\n",
       "      <th>age</th>\n",
       "      <th>area</th>\n",
       "      <th>direction</th>\n",
       "      <th>price</th>\n",
       "      <th>room</th>\n",
       "      <th>living_room</th>\n",
       "      <th>total_floor</th>\n",
       "      <th>floor</th>\n",
       "      <th>东南向</th>\n",
       "      <th>东向</th>\n",
       "      <th>南北向</th>\n",
       "      <th>南向</th>\n",
       "      <th>西南向</th>\n",
       "      <th>西向</th>\n",
       "      <th>中</th>\n",
       "      <th>低</th>\n",
       "      <th>高</th>\n",
       "    </tr>\n",
       "  </thead>\n",
       "  <tbody>\n",
       "    <tr>\n",
       "      <th>0</th>\n",
       "      <td>19</td>\n",
       "      <td>65</td>\n",
       "      <td>南北向</td>\n",
       "      <td>3500000</td>\n",
       "      <td>2</td>\n",
       "      <td>1</td>\n",
       "      <td>6</td>\n",
       "      <td>中</td>\n",
       "      <td>0.0</td>\n",
       "      <td>0.0</td>\n",
       "      <td>1.0</td>\n",
       "      <td>0.0</td>\n",
       "      <td>0.0</td>\n",
       "      <td>0.0</td>\n",
       "      <td>1.0</td>\n",
       "      <td>0.0</td>\n",
       "      <td>0.0</td>\n",
       "    </tr>\n",
       "    <tr>\n",
       "      <th>1</th>\n",
       "      <td>21</td>\n",
       "      <td>90</td>\n",
       "      <td>南北向</td>\n",
       "      <td>5000000</td>\n",
       "      <td>3</td>\n",
       "      <td>2</td>\n",
       "      <td>6</td>\n",
       "      <td>低</td>\n",
       "      <td>0.0</td>\n",
       "      <td>0.0</td>\n",
       "      <td>1.0</td>\n",
       "      <td>0.0</td>\n",
       "      <td>0.0</td>\n",
       "      <td>0.0</td>\n",
       "      <td>0.0</td>\n",
       "      <td>1.0</td>\n",
       "      <td>0.0</td>\n",
       "    </tr>\n",
       "    <tr>\n",
       "      <th>2</th>\n",
       "      <td>19</td>\n",
       "      <td>72</td>\n",
       "      <td>南向</td>\n",
       "      <td>3980000</td>\n",
       "      <td>2</td>\n",
       "      <td>1</td>\n",
       "      <td>6</td>\n",
       "      <td>低</td>\n",
       "      <td>0.0</td>\n",
       "      <td>0.0</td>\n",
       "      <td>0.0</td>\n",
       "      <td>1.0</td>\n",
       "      <td>0.0</td>\n",
       "      <td>0.0</td>\n",
       "      <td>0.0</td>\n",
       "      <td>1.0</td>\n",
       "      <td>0.0</td>\n",
       "    </tr>\n",
       "    <tr>\n",
       "      <th>3</th>\n",
       "      <td>11</td>\n",
       "      <td>96</td>\n",
       "      <td>南北向</td>\n",
       "      <td>5500000</td>\n",
       "      <td>2</td>\n",
       "      <td>2</td>\n",
       "      <td>7</td>\n",
       "      <td>高</td>\n",
       "      <td>0.0</td>\n",
       "      <td>0.0</td>\n",
       "      <td>1.0</td>\n",
       "      <td>0.0</td>\n",
       "      <td>0.0</td>\n",
       "      <td>0.0</td>\n",
       "      <td>0.0</td>\n",
       "      <td>0.0</td>\n",
       "      <td>1.0</td>\n",
       "    </tr>\n",
       "    <tr>\n",
       "      <th>4</th>\n",
       "      <td>21</td>\n",
       "      <td>86</td>\n",
       "      <td>南向</td>\n",
       "      <td>4500000</td>\n",
       "      <td>2</td>\n",
       "      <td>1</td>\n",
       "      <td>7</td>\n",
       "      <td>中</td>\n",
       "      <td>0.0</td>\n",
       "      <td>0.0</td>\n",
       "      <td>0.0</td>\n",
       "      <td>1.0</td>\n",
       "      <td>0.0</td>\n",
       "      <td>0.0</td>\n",
       "      <td>1.0</td>\n",
       "      <td>0.0</td>\n",
       "      <td>0.0</td>\n",
       "    </tr>\n",
       "  </tbody>\n",
       "</table>\n",
       "</div>"
      ],
      "text/plain": [
       "   age  area direction    price  room  living_room  total_floor floor  东南向  \\\n",
       "0   19    65       南北向  3500000     2            1            6     中  0.0   \n",
       "1   21    90       南北向  5000000     3            2            6     低  0.0   \n",
       "2   19    72        南向  3980000     2            1            6     低  0.0   \n",
       "3   11    96       南北向  5500000     2            2            7     高  0.0   \n",
       "4   21    86        南向  4500000     2            1            7     中  0.0   \n",
       "\n",
       "    东向  南北向   南向  西南向   西向    中    低    高  \n",
       "0  0.0  1.0  0.0  0.0  0.0  1.0  0.0  0.0  \n",
       "1  0.0  1.0  0.0  0.0  0.0  0.0  1.0  0.0  \n",
       "2  0.0  0.0  1.0  0.0  0.0  0.0  1.0  0.0  \n",
       "3  0.0  1.0  0.0  0.0  0.0  0.0  0.0  1.0  \n",
       "4  0.0  0.0  1.0  0.0  0.0  1.0  0.0  0.0  "
      ]
     },
     "execution_count": 6,
     "metadata": {},
     "output_type": "execute_result"
    }
   ],
   "source": [
    "df.head()"
   ]
  },
  {
   "cell_type": "code",
   "execution_count": 7,
   "metadata": {
    "collapsed": true
   },
   "outputs": [],
   "source": [
    "del df['南北向']\n",
    "del df['低']\n",
    "del df['direction']\n",
    "del df['floor']"
   ]
  },
  {
   "cell_type": "code",
   "execution_count": 174,
   "metadata": {
    "collapsed": false
   },
   "outputs": [
    {
     "data": {
      "text/html": [
       "<div>\n",
       "<table border=\"1\" class=\"dataframe\">\n",
       "  <thead>\n",
       "    <tr style=\"text-align: right;\">\n",
       "      <th></th>\n",
       "      <th>age</th>\n",
       "      <th>area</th>\n",
       "      <th>price</th>\n",
       "      <th>room</th>\n",
       "      <th>living_room</th>\n",
       "      <th>total_floor</th>\n",
       "      <th>东南向</th>\n",
       "      <th>东向</th>\n",
       "      <th>南向</th>\n",
       "      <th>西南向</th>\n",
       "      <th>西向</th>\n",
       "      <th>中</th>\n",
       "      <th>高</th>\n",
       "    </tr>\n",
       "  </thead>\n",
       "  <tbody>\n",
       "    <tr>\n",
       "      <th>0</th>\n",
       "      <td>19</td>\n",
       "      <td>65</td>\n",
       "      <td>3500000</td>\n",
       "      <td>2</td>\n",
       "      <td>1</td>\n",
       "      <td>6</td>\n",
       "      <td>0</td>\n",
       "      <td>0</td>\n",
       "      <td>0</td>\n",
       "      <td>0</td>\n",
       "      <td>0</td>\n",
       "      <td>1</td>\n",
       "      <td>0</td>\n",
       "    </tr>\n",
       "    <tr>\n",
       "      <th>1</th>\n",
       "      <td>21</td>\n",
       "      <td>90</td>\n",
       "      <td>5000000</td>\n",
       "      <td>3</td>\n",
       "      <td>2</td>\n",
       "      <td>6</td>\n",
       "      <td>0</td>\n",
       "      <td>0</td>\n",
       "      <td>0</td>\n",
       "      <td>0</td>\n",
       "      <td>0</td>\n",
       "      <td>0</td>\n",
       "      <td>0</td>\n",
       "    </tr>\n",
       "    <tr>\n",
       "      <th>2</th>\n",
       "      <td>19</td>\n",
       "      <td>72</td>\n",
       "      <td>3980000</td>\n",
       "      <td>2</td>\n",
       "      <td>1</td>\n",
       "      <td>6</td>\n",
       "      <td>0</td>\n",
       "      <td>0</td>\n",
       "      <td>1</td>\n",
       "      <td>0</td>\n",
       "      <td>0</td>\n",
       "      <td>0</td>\n",
       "      <td>0</td>\n",
       "    </tr>\n",
       "    <tr>\n",
       "      <th>3</th>\n",
       "      <td>11</td>\n",
       "      <td>96</td>\n",
       "      <td>5500000</td>\n",
       "      <td>2</td>\n",
       "      <td>2</td>\n",
       "      <td>7</td>\n",
       "      <td>0</td>\n",
       "      <td>0</td>\n",
       "      <td>0</td>\n",
       "      <td>0</td>\n",
       "      <td>0</td>\n",
       "      <td>0</td>\n",
       "      <td>1</td>\n",
       "    </tr>\n",
       "    <tr>\n",
       "      <th>4</th>\n",
       "      <td>21</td>\n",
       "      <td>86</td>\n",
       "      <td>4500000</td>\n",
       "      <td>2</td>\n",
       "      <td>1</td>\n",
       "      <td>7</td>\n",
       "      <td>0</td>\n",
       "      <td>0</td>\n",
       "      <td>1</td>\n",
       "      <td>0</td>\n",
       "      <td>0</td>\n",
       "      <td>1</td>\n",
       "      <td>0</td>\n",
       "    </tr>\n",
       "  </tbody>\n",
       "</table>\n",
       "</div>"
      ],
      "text/plain": [
       "   age  area    price  room  living_room  total_floor  东南向  东向  南向  西南向  西向  \\\n",
       "0   19    65  3500000     2            1            6    0   0   0    0   0   \n",
       "1   21    90  5000000     3            2            6    0   0   0    0   0   \n",
       "2   19    72  3980000     2            1            6    0   0   1    0   0   \n",
       "3   11    96  5500000     2            2            7    0   0   0    0   0   \n",
       "4   21    86  4500000     2            1            7    0   0   1    0   0   \n",
       "\n",
       "   中  高  \n",
       "0  1  0  \n",
       "1  0  0  \n",
       "2  0  0  \n",
       "3  0  1  \n",
       "4  1  0  "
      ]
     },
     "execution_count": 174,
     "metadata": {},
     "output_type": "execute_result"
    }
   ],
   "source": [
    "df.head()"
   ]
  },
  {
   "cell_type": "markdown",
   "metadata": {},
   "source": [
    "## 繪製散佈圖"
   ]
  },
  {
   "cell_type": "code",
   "execution_count": 8,
   "metadata": {
    "collapsed": false
   },
   "outputs": [
    {
     "name": "stdout",
     "output_type": "stream",
     "text": [
      "Populating the interactive namespace from numpy and matplotlib\n"
     ]
    },
    {
     "data": {
      "text/plain": [
       "<matplotlib.axes._subplots.AxesSubplot at 0x919eda0>"
      ]
     },
     "execution_count": 8,
     "metadata": {},
     "output_type": "execute_result"
    },
    {
     "data": {
      "image/png": "[encoded data removed]",
      "text/plain": [
       "<matplotlib.figure.Figure at 0x919e2e8>"
      ]
     },
     "metadata": {},
     "output_type": "display_data"
    }
   ],
   "source": [
    "%pylab inline\n",
    "df[['price', 'area']].plot(kind='scatter', x = 'area', y = 'price', figsize=[10,5])"
   ]
  },
  {
   "cell_type": "markdown",
   "metadata": {},
   "source": [
    "## 分析價格與平米關係"
   ]
  },
  {
   "cell_type": "code",
   "execution_count": 10,
   "metadata": {
    "collapsed": false
   },
   "outputs": [],
   "source": [
    "y= df['price']\n",
    "X = df[['area']]"
   ]
  },
  {
   "cell_type": "code",
   "execution_count": 11,
   "metadata": {
    "collapsed": false
   },
   "outputs": [
    {
     "data": {
      "text/plain": [
       "LinearRegression(copy_X=True, fit_intercept=True, n_jobs=1, normalize=False)"
      ]
     },
     "execution_count": 11,
     "metadata": {},
     "output_type": "execute_result"
    }
   ],
   "source": [
    "from sklearn.linear_model import LinearRegression\n",
    "regr = LinearRegression()\n",
    "regr.fit(X,y)"
   ]
  },
  {
   "cell_type": "code",
   "execution_count": 12,
   "metadata": {
    "collapsed": false
   },
   "outputs": [
    {
     "name": "stdout",
     "output_type": "stream",
     "text": [
      "Coefficient:[ 64846.01038065]\n",
      "Intercept:-9165.21745733358\n"
     ]
    }
   ],
   "source": [
    "print('Coefficient:{}'.format(regr.coef_) )\n",
    "print('Intercept:{}'.format(regr.intercept_) )"
   ]
  },
  {
   "cell_type": "code",
   "execution_count": 179,
   "metadata": {
    "collapsed": false
   },
   "outputs": [
    {
     "data": {
      "text/plain": [
       "<matplotlib.text.Text at 0xdedb9b0>"
      ]
     },
     "execution_count": 179,
     "metadata": {},
     "output_type": "execute_result"
    },
    {
     "data": {
      "image/png": "[encoded data removed]",
      "text/plain": [
       "<matplotlib.figure.Figure at 0xc6b83c8>"
      ]
     },
     "metadata": {},
     "output_type": "display_data"
    }
   ],
   "source": [
    "plt.scatter(X,y, color=\"blue\")\n",
    "plt.plot(X, regr.predict(X), linewidth = 3, color = \"red\")\n",
    "plt.xlabel('area')\n",
    "plt.ylabel('price')"
   ]
  },
  {
   "cell_type": "markdown",
   "metadata": {},
   "source": [
    "## 多元迴歸預測"
   ]
  },
  {
   "cell_type": "code",
   "execution_count": 13,
   "metadata": {
    "collapsed": false
   },
   "outputs": [],
   "source": [
    "y= df['price'].values\n",
    "X = df[['age', 'area', 'room', 'living_room', 'total_floor', '东南向', '东向', '南向', '西南向', '西向', '中', '高']]"
   ]
  },
  {
   "cell_type": "code",
   "execution_count": 14,
   "metadata": {
    "collapsed": false
   },
   "outputs": [
    {
     "data": {
      "text/plain": [
       "LinearRegression(copy_X=True, fit_intercept=True, n_jobs=1, normalize=False)"
      ]
     },
     "execution_count": 14,
     "metadata": {},
     "output_type": "execute_result"
    }
   ],
   "source": [
    "from sklearn.linear_model import LinearRegression\n",
    "regr = LinearRegression()\n",
    "regr.fit(X,y)"
   ]
  },
  {
   "cell_type": "code",
   "execution_count": 15,
   "metadata": {
    "collapsed": false
   },
   "outputs": [
    {
     "name": "stdout",
     "output_type": "stream",
     "text": [
      "<class 'pandas.core.frame.DataFrame'>\n",
      "Int64Index: 2792 entries, 0 to 2791\n",
      "Data columns (total 12 columns):\n",
      "age            2792 non-null int64\n",
      "area           2792 non-null int64\n",
      "room           2792 non-null int32\n",
      "living_room    2792 non-null int32\n",
      "total_floor    2792 non-null int32\n",
      "东南向            2792 non-null float64\n",
      "东向             2792 non-null float64\n",
      "南向             2792 non-null float64\n",
      "西南向            2792 non-null float64\n",
      "西向             2792 non-null float64\n",
      "中              2792 non-null float64\n",
      "高              2792 non-null float64\n",
      "dtypes: float64(7), int32(3), int64(2)\n",
      "memory usage: 250.8 KB\n"
     ]
    }
   ],
   "source": [
    "X.info()"
   ]
  },
  {
   "cell_type": "markdown",
   "metadata": {},
   "source": [
    "## 評估迴歸模型 "
   ]
  },
  {
   "cell_type": "code",
   "execution_count": 16,
   "metadata": {
    "collapsed": false
   },
   "outputs": [
    {
     "name": "stdout",
     "output_type": "stream",
     "text": [
      "                            OLS Regression Results                            \n",
      "==============================================================================\n",
      "Dep. Variable:                      y   R-squared:                       0.851\n",
      "Model:                            OLS   Adj. R-squared:                  0.850\n",
      "Method:                 Least Squares   F-statistic:                     1319.\n",
      "Date:                Mon, 12 Jun 2017   Prob (F-statistic):               0.00\n",
      "Time:                        15:08:10   Log-Likelihood:                -42320.\n",
      "No. Observations:                2792   AIC:                         8.467e+04\n",
      "Df Residuals:                    2779   BIC:                         8.474e+04\n",
      "Df Model:                          12                                         \n",
      "Covariance Type:            nonrobust                                         \n",
      "===============================================================================\n",
      "                  coef    std err          t      P>|t|      [95.0% Conf. Int.]\n",
      "-------------------------------------------------------------------------------\n",
      "const        1126.6698   1.06e+05      0.011      0.992     -2.07e+05  2.09e+05\n",
      "age          9389.0503   2463.360      3.811      0.000      4558.849  1.42e+04\n",
      "area          6.99e+04   1246.879     56.057      0.000      6.75e+04  7.23e+04\n",
      "room        -3.606e+05   4.34e+04     -8.308      0.000     -4.46e+05 -2.76e+05\n",
      "living_room -2.297e+04   5.63e+04     -0.408      0.683     -1.33e+05  8.75e+04\n",
      "total_floor  1.826e+04   2773.446      6.584      0.000      1.28e+04  2.37e+04\n",
      "东南向          5.026e+05   2.51e+05      2.002      0.045      1.04e+04  9.95e+05\n",
      "东向          -5.405e+05   1.72e+05     -3.133      0.002     -8.79e+05 -2.02e+05\n",
      "南向           1.744e+05   3.78e+04      4.610      0.000         1e+05  2.49e+05\n",
      "西南向         -1.524e+06   2.08e+05     -7.326      0.000     -1.93e+06 -1.12e+06\n",
      "西向           8.511e+05   3.12e+05      2.731      0.006       2.4e+05  1.46e+06\n",
      "中           -2.754e+05   4.82e+04     -5.715      0.000      -3.7e+05 -1.81e+05\n",
      "高            5.478e+04   5.23e+04      1.047      0.295     -4.78e+04  1.57e+05\n",
      "==============================================================================\n",
      "Omnibus:                      140.017   Durbin-Watson:                   1.703\n",
      "Prob(Omnibus):                  0.000   Jarque-Bera (JB):              421.692\n",
      "Skew:                           0.197   Prob(JB):                     2.70e-92\n",
      "Kurtosis:                       4.863   Cond. No.                     1.53e+03\n",
      "==============================================================================\n",
      "\n",
      "Warnings:\n",
      "[1] Standard Errors assume that the covariance matrix of the errors is correctly specified.\n",
      "[2] The condition number is large, 1.53e+03. This might indicate that there are\n",
      "strong multicollinearity or other numerical problems.\n"
     ]
    }
   ],
   "source": [
    "import statsmodels.api as sm\n",
    "X2 = sm.add_constant(X)\n",
    "est = sm.OLS(y, X2)\n",
    "est2 = est.fit()\n",
    "print(est2.summary())"
   ]
  },
  {
   "cell_type": "markdown",
   "metadata": {},
   "source": [
    "## 透過AIC 選定最佳參數組合"
   ]
  },
  {
   "cell_type": "code",
   "execution_count": null,
   "metadata": {
    "collapsed": true
   },
   "outputs": [],
   "source": [
    "predictorcols = ['age', 'area', 'room', 'living_room', 'total_floor', '东南向', '东向', '南向', '西南向', '西向', '中', '高']\n",
    "import itertools\n",
    "AICs = {}\n",
    "for k in range(1,len(predictorcols)+1):\n",
    "    for variables in itertools.combinations(predictorcols, k):\n",
    "        predictors  = X[list(variables)]\n",
    "        predictors2 = sm.add_constant(predictors)\n",
    "        est = sm.OLS(y, predictors2)\n",
    "        res = est.fit()\n",
    "        AICs[variables] = res.aic    \n",
    "\n"
   ]
  },
  {
   "cell_type": "code",
   "execution_count": null,
   "metadata": {
    "collapsed": false
   },
   "outputs": [],
   "source": [
    "from collections import Counter\n",
    "c = Counter(AICs)\n",
    "c.most_common()[::-10]"
   ]
  },
  {
   "cell_type": "code",
   "execution_count": null,
   "metadata": {
    "collapsed": true
   },
   "outputs": [],
   "source": []
  }
 ],
 "metadata": {
  "kernelspec": {
   "display_name": "Python [Root]",
   "language": "python",
   "name": "Python [Root]"
  },
  "language_info": {
   "codemirror_mode": {
    "name": "ipython",
    "version": 3
   },
   "file_extension": ".py",
   "mimetype": "text/x-python",
   "name": "python",
   "nbconvert_exporter": "python",
   "pygments_lexer": "ipython3",
   "version": "3.5.2"
  }
 },
 "nbformat": 4,
 "nbformat_minor": 2
}
