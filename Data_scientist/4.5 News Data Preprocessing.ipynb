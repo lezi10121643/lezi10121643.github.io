{
 "cells": [
  {
   "cell_type": "markdown",
   "metadata": {},
   "source": [
    "## 抓取新浪微博新闻列表"
   ]
  },
  {
   "cell_type": "code",
   "execution_count": 1,
   "metadata": {
    "collapsed": false
   },
   "outputs": [],
   "source": [
    "import requests\n",
    "from bs4 import BeautifulSoup\n",
    "import re\n",
    "\n",
    "res = requests.get('http://news.sina.com.cn/china/')\n",
    "res.encoding = 'utf-8'\n",
    "#res.text"
   ]
  },
  {
   "cell_type": "code",
   "execution_count": 4,
   "metadata": {
    "collapsed": false
   },
   "outputs": [],
   "source": [
    "soup = BeautifulSoup(res.text, 'html.parser')\n",
    "\n",
    "newsary = []\n",
    "for link in soup.select('.news-item'):\n",
    "    if len(link.select('h2 a')) > 0:\n",
    "        newsary.append(getArticle(link.select('h2 a')[0]['href']))"
   ]
  },
  {
   "cell_type": "markdown",
   "metadata": {},
   "source": [
    "## 建立文章抓取函数"
   ]
  },
  {
   "cell_type": "code",
   "execution_count": 3,
   "metadata": {
    "collapsed": false
   },
   "outputs": [],
   "source": [
    "def getArticle(url):\n",
    "    res = requests.get(url)\n",
    "    res.encoding = 'utf-8'\n",
    "    \n",
    "    soup = BeautifulSoup(res.text, 'html.parser')\n",
    "    dic = {}\n",
    "    \n",
    "    dic['title'] = soup.select('#artibodyTitle')[0].text\n",
    "    dic['content'] = ' '.join(soup.select('#artibody')[0].text.split())\n",
    "    dic['source'] = soup.select('#navtimeSource')[0].text\n",
    "    dic['keyword'] = soup.select('.article-keywords')[0].text\n",
    "    return dic\n",
    "\n",
    "#getArticle('http://news.sina.com.cn/c/sd/2016-11-29/doc-ifxyawxa3005371.shtml')"
   ]
  },
  {
   "cell_type": "markdown",
   "metadata": {},
   "source": [
    "## 建立DataFrame"
   ]
  },
  {
   "cell_type": "code",
   "execution_count": 5,
   "metadata": {
    "collapsed": false
   },
   "outputs": [
    {
     "data": {
      "text/html": [
       "<div>\n",
       "<table border=\"1\" class=\"dataframe\">\n",
       "  <thead>\n",
       "    <tr style=\"text-align: right;\">\n",
       "      <th></th>\n",
       "      <th>content</th>\n",
       "      <th>keyword</th>\n",
       "      <th>source</th>\n",
       "      <th>title</th>\n",
       "    </tr>\n",
       "  </thead>\n",
       "  <tbody>\n",
       "    <tr>\n",
       "      <th>0</th>\n",
       "      <td>原标题：南京机场88个航班延误，启动橙色预警 现代快报讯（记者 刘伟娟）受南京、广州、福州等...</td>\n",
       "      <td>\\n文章关键词：\\n南京机场 橙色预警 黄色预警\\n</td>\n",
       "      <td>2017年06月10日21:10\\t\\t\\n现代快报\\n</td>\n",
       "      <td>南京机场88个航班延误 黄色预警升级为橙色预警</td>\n",
       "    </tr>\n",
       "    <tr>\n",
       "      <th>1</th>\n",
       "      <td>原标题：南京单日降雨量刷历史新高 5000多人应急抢险 南京市防汛进入紧急状态，出动5000...</td>\n",
       "      <td>\\n文章关键词：\\n抢险 降雨量\\n</td>\n",
       "      <td>2017年06月10日20:05\\t\\t\\n央视新闻\\n</td>\n",
       "      <td>南京单日降雨量刷新历史记录  5千多人应急抢险</td>\n",
       "    </tr>\n",
       "    <tr>\n",
       "      <th>2</th>\n",
       "      <td>原标题：长江流域梅雨期提前到来 三峡等水库加快腾库备汛 中新社武汉6月10日电 （记者 徐金...</td>\n",
       "      <td>\\n文章关键词：\\n水库 长江\\n</td>\n",
       "      <td>2017年06月10日19:24\\t\\t\\n中国新闻网\\n</td>\n",
       "      <td>长江流域梅雨期提前到来 三峡水库加快腾库备汛</td>\n",
       "    </tr>\n",
       "    <tr>\n",
       "      <th>3</th>\n",
       "      <td>原标题：江苏8市大暴雨南京破纪录 今夜雨水渐止 中国天气网讯 今天（10日）江苏迎来了大范围...</td>\n",
       "      <td>\\n文章关键词：\\n大暴雨 雨水\\n</td>\n",
       "      <td>2017年06月10日19:14\\t\\t\\n中国天气网\\n</td>\n",
       "      <td>江苏8市大暴雨南京破纪录 今夜雨水将减弱停止</td>\n",
       "    </tr>\n",
       "    <tr>\n",
       "      <th>4</th>\n",
       "      <td>原标题：大连交警整治夜间飙车 扣留法拉利、玛莎拉蒂等14台豪车 大连交警整治夜间“飙车”行为...</td>\n",
       "      <td>\\n文章关键词：\\n豪车 交警\\n</td>\n",
       "      <td>2017年06月10日19:03\\t\\t\\n中国新闻网\\n</td>\n",
       "      <td>大连整治夜间飙车 扣法拉利玛莎拉蒂等14台豪车</td>\n",
       "    </tr>\n",
       "    <tr>\n",
       "      <th>5</th>\n",
       "      <td>原标题：桂林尧山缆车停电导致游客被困 图为桂林尧山景区。 赵琳露 摄 中新网桂林6月10日电...</td>\n",
       "      <td>\\n文章关键词：\\n缆车 停电 游客\\n</td>\n",
       "      <td>2017年06月10日17:22\\t\\t\\n中国新闻网\\n</td>\n",
       "      <td>广西桂林缆车停电致约200名游客被困</td>\n",
       "    </tr>\n",
       "    <tr>\n",
       "      <th>6</th>\n",
       "      <td>原标题：北京首条磁浮线路开始联调联试 资料图 央视网消息：从本周开始，北京市域铁路S1线开始...</td>\n",
       "      <td>\\n文章关键词：\\n磁浮线路 运营\\n</td>\n",
       "      <td>2017年06月10日16:15\\t\\t\\n央视新闻\\n</td>\n",
       "      <td>北京首条磁浮线路开始联调联试 有望年内试运营</td>\n",
       "    </tr>\n",
       "    <tr>\n",
       "      <th>7</th>\n",
       "      <td>原标题：长三角地区遭遇特大雷暴雨突袭 江苏拉响三级灾害响应 大雨当前，南京当地城管奋战在抢险...</td>\n",
       "      <td>\\n文章关键词：\\n雷暴雨 长三角\\n</td>\n",
       "      <td>2017年06月10日15:07\\t\\t\\n中国新闻网\\n</td>\n",
       "      <td>长三角遭特大雷暴雨突袭 江苏拉响三级灾害响应</td>\n",
       "    </tr>\n",
       "    <tr>\n",
       "      <th>8</th>\n",
       "      <td>原标题：台湾花莲直升机坠机 导演齐柏林等3人遇难 海外网6月10日援引台湾“中央社”消息称，...</td>\n",
       "      <td>\\n文章关键词：\\n直升机 台湾 坠机\\n</td>\n",
       "      <td>2017年06月10日15:10\\t\\t\\n新华报业网\\n</td>\n",
       "      <td>金马导演齐柏林拍摄时坠机遇难 两天前开发布会</td>\n",
       "    </tr>\n",
       "    <tr>\n",
       "      <th>9</th>\n",
       "      <td>中新社西宁6月10日电 （记者 罗云鹏）青藏高原野生动物园10日对外表示，位于该园的中国唯一...</td>\n",
       "      <td>\\n文章关键词：\\n雪豹 青藏高原 幼崽\\n</td>\n",
       "      <td>2017年06月10日14:43\\t\\t\\n中国新闻网\\n</td>\n",
       "      <td>中国人工繁育成活首只雪豹满周岁 征名活动启动</td>\n",
       "    </tr>\n",
       "  </tbody>\n",
       "</table>\n",
       "</div>"
      ],
      "text/plain": [
       "                                             content  \\\n",
       "0  原标题：南京机场88个航班延误，启动橙色预警 现代快报讯（记者 刘伟娟）受南京、广州、福州等...   \n",
       "1  原标题：南京单日降雨量刷历史新高 5000多人应急抢险 南京市防汛进入紧急状态，出动5000...   \n",
       "2  原标题：长江流域梅雨期提前到来 三峡等水库加快腾库备汛 中新社武汉6月10日电 （记者 徐金...   \n",
       "3  原标题：江苏8市大暴雨南京破纪录 今夜雨水渐止 中国天气网讯 今天（10日）江苏迎来了大范围...   \n",
       "4  原标题：大连交警整治夜间飙车 扣留法拉利、玛莎拉蒂等14台豪车 大连交警整治夜间“飙车”行为...   \n",
       "5  原标题：桂林尧山缆车停电导致游客被困 图为桂林尧山景区。 赵琳露 摄 中新网桂林6月10日电...   \n",
       "6  原标题：北京首条磁浮线路开始联调联试 资料图 央视网消息：从本周开始，北京市域铁路S1线开始...   \n",
       "7  原标题：长三角地区遭遇特大雷暴雨突袭 江苏拉响三级灾害响应 大雨当前，南京当地城管奋战在抢险...   \n",
       "8  原标题：台湾花莲直升机坠机 导演齐柏林等3人遇难 海外网6月10日援引台湾“中央社”消息称，...   \n",
       "9  中新社西宁6月10日电 （记者 罗云鹏）青藏高原野生动物园10日对外表示，位于该园的中国唯一...   \n",
       "\n",
       "                      keyword                         source  \\\n",
       "0  \\n文章关键词：\\n南京机场 橙色预警 黄色预警\\n   2017年06月10日21:10\\t\\t\\n现代快报\\n   \n",
       "1          \\n文章关键词：\\n抢险 降雨量\\n   2017年06月10日20:05\\t\\t\\n央视新闻\\n   \n",
       "2           \\n文章关键词：\\n水库 长江\\n  2017年06月10日19:24\\t\\t\\n中国新闻网\\n   \n",
       "3          \\n文章关键词：\\n大暴雨 雨水\\n  2017年06月10日19:14\\t\\t\\n中国天气网\\n   \n",
       "4           \\n文章关键词：\\n豪车 交警\\n  2017年06月10日19:03\\t\\t\\n中国新闻网\\n   \n",
       "5        \\n文章关键词：\\n缆车 停电 游客\\n  2017年06月10日17:22\\t\\t\\n中国新闻网\\n   \n",
       "6         \\n文章关键词：\\n磁浮线路 运营\\n   2017年06月10日16:15\\t\\t\\n央视新闻\\n   \n",
       "7         \\n文章关键词：\\n雷暴雨 长三角\\n  2017年06月10日15:07\\t\\t\\n中国新闻网\\n   \n",
       "8       \\n文章关键词：\\n直升机 台湾 坠机\\n  2017年06月10日15:10\\t\\t\\n新华报业网\\n   \n",
       "9      \\n文章关键词：\\n雪豹 青藏高原 幼崽\\n  2017年06月10日14:43\\t\\t\\n中国新闻网\\n   \n",
       "\n",
       "                     title  \n",
       "0  南京机场88个航班延误 黄色预警升级为橙色预警  \n",
       "1  南京单日降雨量刷新历史记录  5千多人应急抢险  \n",
       "2   长江流域梅雨期提前到来 三峡水库加快腾库备汛  \n",
       "3   江苏8市大暴雨南京破纪录 今夜雨水将减弱停止  \n",
       "4  大连整治夜间飙车 扣法拉利玛莎拉蒂等14台豪车  \n",
       "5       广西桂林缆车停电致约200名游客被困  \n",
       "6   北京首条磁浮线路开始联调联试 有望年内试运营  \n",
       "7   长三角遭特大雷暴雨突袭 江苏拉响三级灾害响应  \n",
       "8   金马导演齐柏林拍摄时坠机遇难 两天前开发布会  \n",
       "9   中国人工繁育成活首只雪豹满周岁 征名活动启动  "
      ]
     },
     "execution_count": 5,
     "metadata": {},
     "output_type": "execute_result"
    }
   ],
   "source": [
    "import pandas\n",
    "df = pandas.DataFrame(newsary)\n",
    "df.head(10)"
   ]
  },
  {
   "cell_type": "markdown",
   "metadata": {},
   "source": [
    "## 整理文章关键词"
   ]
  },
  {
   "cell_type": "code",
   "execution_count": 10,
   "metadata": {
    "collapsed": false
   },
   "outputs": [
    {
     "data": {
      "text/plain": [
       "0    \\n文章关键词：\\n南京机场 橙色预警 黄色预警\\n\n",
       "1            \\n文章关键词：\\n抢险 降雨量\\n\n",
       "2             \\n文章关键词：\\n水库 长江\\n\n",
       "Name: keyword, dtype: object"
      ]
     },
     "execution_count": 10,
     "metadata": {},
     "output_type": "execute_result"
    }
   ],
   "source": [
    "df['keyword'].head(3)"
   ]
  },
  {
   "cell_type": "code",
   "execution_count": 178,
   "metadata": {
    "collapsed": false
   },
   "outputs": [],
   "source": [
    "#df['keyword'].map(lambda e: e.split('：')[1].split())#根据冒号切割取后面部分"
   ]
  },
  {
   "cell_type": "code",
   "execution_count": 11,
   "metadata": {
    "collapsed": true
   },
   "outputs": [],
   "source": [
    "df['keyword'] = df['keyword'].map(lambda e: e.split('：')[1].split())#记得修改后返回给原来数据"
   ]
  },
  {
   "cell_type": "code",
   "execution_count": 12,
   "metadata": {
    "collapsed": false
   },
   "outputs": [
    {
     "data": {
      "text/html": [
       "<div>\n",
       "<table border=\"1\" class=\"dataframe\">\n",
       "  <thead>\n",
       "    <tr style=\"text-align: right;\">\n",
       "      <th></th>\n",
       "      <th>content</th>\n",
       "      <th>keyword</th>\n",
       "      <th>source</th>\n",
       "      <th>title</th>\n",
       "      <th>datetime</th>\n",
       "      <th>from</th>\n",
       "    </tr>\n",
       "  </thead>\n",
       "  <tbody>\n",
       "    <tr>\n",
       "      <th>0</th>\n",
       "      <td>原标题：南京机场88个航班延误，启动橙色预警 现代快报讯（记者 刘伟娟）受南京、广州、福州等...</td>\n",
       "      <td>[南京机场, 橙色预警, 黄色预警]</td>\n",
       "      <td>2017年06月10日21:10\\t\\t\\n现代快报\\n</td>\n",
       "      <td>南京机场88个航班延误 黄色预警升级为橙色预警</td>\n",
       "      <td>2017年06月10日21:10</td>\n",
       "      <td>现代快报</td>\n",
       "    </tr>\n",
       "    <tr>\n",
       "      <th>1</th>\n",
       "      <td>原标题：南京单日降雨量刷历史新高 5000多人应急抢险 南京市防汛进入紧急状态，出动5000...</td>\n",
       "      <td>[抢险, 降雨量]</td>\n",
       "      <td>2017年06月10日20:05\\t\\t\\n央视新闻\\n</td>\n",
       "      <td>南京单日降雨量刷新历史记录  5千多人应急抢险</td>\n",
       "      <td>2017年06月10日20:05</td>\n",
       "      <td>央视新闻</td>\n",
       "    </tr>\n",
       "    <tr>\n",
       "      <th>2</th>\n",
       "      <td>原标题：长江流域梅雨期提前到来 三峡等水库加快腾库备汛 中新社武汉6月10日电 （记者 徐金...</td>\n",
       "      <td>[水库, 长江]</td>\n",
       "      <td>2017年06月10日19:24\\t\\t\\n中国新闻网\\n</td>\n",
       "      <td>长江流域梅雨期提前到来 三峡水库加快腾库备汛</td>\n",
       "      <td>2017年06月10日19:24</td>\n",
       "      <td>中国新闻网</td>\n",
       "    </tr>\n",
       "  </tbody>\n",
       "</table>\n",
       "</div>"
      ],
      "text/plain": [
       "                                             content             keyword  \\\n",
       "0  原标题：南京机场88个航班延误，启动橙色预警 现代快报讯（记者 刘伟娟）受南京、广州、福州等...  [南京机场, 橙色预警, 黄色预警]   \n",
       "1  原标题：南京单日降雨量刷历史新高 5000多人应急抢险 南京市防汛进入紧急状态，出动5000...           [抢险, 降雨量]   \n",
       "2  原标题：长江流域梅雨期提前到来 三峡等水库加快腾库备汛 中新社武汉6月10日电 （记者 徐金...            [水库, 长江]   \n",
       "\n",
       "                          source                    title          datetime  \\\n",
       "0   2017年06月10日21:10\\t\\t\\n现代快报\\n  南京机场88个航班延误 黄色预警升级为橙色预警  2017年06月10日21:10   \n",
       "1   2017年06月10日20:05\\t\\t\\n央视新闻\\n  南京单日降雨量刷新历史记录  5千多人应急抢险  2017年06月10日20:05   \n",
       "2  2017年06月10日19:24\\t\\t\\n中国新闻网\\n   长江流域梅雨期提前到来 三峡水库加快腾库备汛  2017年06月10日19:24   \n",
       "\n",
       "    from  \n",
       "0   现代快报  \n",
       "1   央视新闻  \n",
       "2  中国新闻网  "
      ]
     },
     "execution_count": 12,
     "metadata": {},
     "output_type": "execute_result"
    }
   ],
   "source": [
    "df.head(3)"
   ]
  },
  {
   "cell_type": "markdown",
   "metadata": {},
   "source": [
    "## 使用正规表达法抽取时间与源数据"
   ]
  },
  {
   "cell_type": "code",
   "execution_count": 13,
   "metadata": {
    "collapsed": false
   },
   "outputs": [
    {
     "data": {
      "text/plain": [
       "0     2017年06月10日21:10\\t\\t\\n现代快报\\n\n",
       "1     2017年06月10日20:05\\t\\t\\n央视新闻\\n\n",
       "2    2017年06月10日19:24\\t\\t\\n中国新闻网\\n\n",
       "3    2017年06月10日19:14\\t\\t\\n中国天气网\\n\n",
       "4    2017年06月10日19:03\\t\\t\\n中国新闻网\\n\n",
       "Name: source, dtype: object"
      ]
     },
     "execution_count": 13,
     "metadata": {},
     "output_type": "execute_result"
    }
   ],
   "source": [
    "df['source'].head()"
   ]
  },
  {
   "cell_type": "code",
   "execution_count": 14,
   "metadata": {
    "collapsed": false
   },
   "outputs": [
    {
     "data": {
      "text/plain": [
       "0     [2017年06月10日21:10, 现代快报]\n",
       "1     [2017年06月10日20:05, 央视新闻]\n",
       "2    [2017年06月10日19:24, 中国新闻网]\n",
       "3    [2017年06月10日19:14, 中国天气网]\n",
       "4    [2017年06月10日19:03, 中国新闻网]\n",
       "Name: source, dtype: object"
      ]
     },
     "execution_count": 14,
     "metadata": {},
     "output_type": "execute_result"
    }
   ],
   "source": [
    "df['source'].map(lambda e: e.split()).head()"
   ]
  },
  {
   "cell_type": "code",
   "execution_count": 185,
   "metadata": {
    "collapsed": false
   },
   "outputs": [],
   "source": [
    "#df['source'].str.extract('(\\d+年\\d+月\\d+日\\d+:\\d+)\\t\\t\\n(\\w+)\\n')#正规表达式"
   ]
  },
  {
   "cell_type": "code",
   "execution_count": 15,
   "metadata": {
    "collapsed": false
   },
   "outputs": [],
   "source": [
    "df[['datetime', 'from']] = df['source'].str.extract('(\\d+年\\d+月\\d+日\\d+:\\d+)\\t\\t\\n(\\w+)\\n', expand =False)#分别放到两个栏位中"
   ]
  },
  {
   "cell_type": "code",
   "execution_count": 16,
   "metadata": {
    "collapsed": false
   },
   "outputs": [
    {
     "data": {
      "text/html": [
       "<div>\n",
       "<table border=\"1\" class=\"dataframe\">\n",
       "  <thead>\n",
       "    <tr style=\"text-align: right;\">\n",
       "      <th></th>\n",
       "      <th>content</th>\n",
       "      <th>keyword</th>\n",
       "      <th>source</th>\n",
       "      <th>title</th>\n",
       "      <th>datetime</th>\n",
       "      <th>from</th>\n",
       "    </tr>\n",
       "  </thead>\n",
       "  <tbody>\n",
       "    <tr>\n",
       "      <th>0</th>\n",
       "      <td>原标题：南京机场88个航班延误，启动橙色预警 现代快报讯（记者 刘伟娟）受南京、广州、福州等...</td>\n",
       "      <td>[南京机场, 橙色预警, 黄色预警]</td>\n",
       "      <td>2017年06月10日21:10\\t\\t\\n现代快报\\n</td>\n",
       "      <td>南京机场88个航班延误 黄色预警升级为橙色预警</td>\n",
       "      <td>2017年06月10日21:10</td>\n",
       "      <td>现代快报</td>\n",
       "    </tr>\n",
       "    <tr>\n",
       "      <th>1</th>\n",
       "      <td>原标题：南京单日降雨量刷历史新高 5000多人应急抢险 南京市防汛进入紧急状态，出动5000...</td>\n",
       "      <td>[抢险, 降雨量]</td>\n",
       "      <td>2017年06月10日20:05\\t\\t\\n央视新闻\\n</td>\n",
       "      <td>南京单日降雨量刷新历史记录  5千多人应急抢险</td>\n",
       "      <td>2017年06月10日20:05</td>\n",
       "      <td>央视新闻</td>\n",
       "    </tr>\n",
       "    <tr>\n",
       "      <th>2</th>\n",
       "      <td>原标题：长江流域梅雨期提前到来 三峡等水库加快腾库备汛 中新社武汉6月10日电 （记者 徐金...</td>\n",
       "      <td>[水库, 长江]</td>\n",
       "      <td>2017年06月10日19:24\\t\\t\\n中国新闻网\\n</td>\n",
       "      <td>长江流域梅雨期提前到来 三峡水库加快腾库备汛</td>\n",
       "      <td>2017年06月10日19:24</td>\n",
       "      <td>中国新闻网</td>\n",
       "    </tr>\n",
       "  </tbody>\n",
       "</table>\n",
       "</div>"
      ],
      "text/plain": [
       "                                             content             keyword  \\\n",
       "0  原标题：南京机场88个航班延误，启动橙色预警 现代快报讯（记者 刘伟娟）受南京、广州、福州等...  [南京机场, 橙色预警, 黄色预警]   \n",
       "1  原标题：南京单日降雨量刷历史新高 5000多人应急抢险 南京市防汛进入紧急状态，出动5000...           [抢险, 降雨量]   \n",
       "2  原标题：长江流域梅雨期提前到来 三峡等水库加快腾库备汛 中新社武汉6月10日电 （记者 徐金...            [水库, 长江]   \n",
       "\n",
       "                          source                    title          datetime  \\\n",
       "0   2017年06月10日21:10\\t\\t\\n现代快报\\n  南京机场88个航班延误 黄色预警升级为橙色预警  2017年06月10日21:10   \n",
       "1   2017年06月10日20:05\\t\\t\\n央视新闻\\n  南京单日降雨量刷新历史记录  5千多人应急抢险  2017年06月10日20:05   \n",
       "2  2017年06月10日19:24\\t\\t\\n中国新闻网\\n   长江流域梅雨期提前到来 三峡水库加快腾库备汛  2017年06月10日19:24   \n",
       "\n",
       "    from  \n",
       "0   现代快报  \n",
       "1   央视新闻  \n",
       "2  中国新闻网  "
      ]
     },
     "execution_count": 16,
     "metadata": {},
     "output_type": "execute_result"
    }
   ],
   "source": [
    "df.head(3)"
   ]
  },
  {
   "cell_type": "code",
   "execution_count": 17,
   "metadata": {
    "collapsed": false
   },
   "outputs": [
    {
     "name": "stdout",
     "output_type": "stream",
     "text": [
      "<class 'pandas.core.frame.DataFrame'>\n",
      "RangeIndex: 96 entries, 0 to 95\n",
      "Data columns (total 6 columns):\n",
      "content     96 non-null object\n",
      "keyword     96 non-null object\n",
      "source      96 non-null object\n",
      "title       96 non-null object\n",
      "datetime    95 non-null object\n",
      "from        95 non-null object\n",
      "dtypes: object(6)\n",
      "memory usage: 4.6+ KB\n"
     ]
    }
   ],
   "source": [
    "df.info()"
   ]
  },
  {
   "cell_type": "markdown",
   "metadata": {},
   "source": [
    "## 转换时间格式"
   ]
  },
  {
   "cell_type": "code",
   "execution_count": 18,
   "metadata": {
    "collapsed": false
   },
   "outputs": [],
   "source": [
    "df['datetime'] = pandas.to_datetime(df['datetime'], format = '%Y年%m月%d日%H:%M')"
   ]
  },
  {
   "cell_type": "code",
   "execution_count": 19,
   "metadata": {
    "collapsed": false
   },
   "outputs": [
    {
     "data": {
      "text/plain": [
       "0   2017-06-10 21:10:00\n",
       "1   2017-06-10 20:05:00\n",
       "2   2017-06-10 19:24:00\n",
       "3   2017-06-10 19:14:00\n",
       "4   2017-06-10 19:03:00\n",
       "Name: datetime, dtype: datetime64[ns]"
      ]
     },
     "execution_count": 19,
     "metadata": {},
     "output_type": "execute_result"
    }
   ],
   "source": [
    "df['datetime'].head()"
   ]
  },
  {
   "cell_type": "code",
   "execution_count": 24,
   "metadata": {
    "collapsed": false
   },
   "outputs": [],
   "source": [
    "#df['datetime'].map(lambda e: e.year)\n",
    "#df['datetime'].map(lambda e: e.month)  #转换为时间格式之后可以直接提取年月日"
   ]
  },
  {
   "cell_type": "code",
   "execution_count": 25,
   "metadata": {
    "collapsed": false
   },
   "outputs": [
    {
     "data": {
      "text/html": [
       "<div>\n",
       "<table border=\"1\" class=\"dataframe\">\n",
       "  <thead>\n",
       "    <tr style=\"text-align: right;\">\n",
       "      <th></th>\n",
       "      <th>content</th>\n",
       "      <th>keyword</th>\n",
       "      <th>source</th>\n",
       "      <th>title</th>\n",
       "      <th>datetime</th>\n",
       "      <th>from</th>\n",
       "    </tr>\n",
       "  </thead>\n",
       "  <tbody>\n",
       "    <tr>\n",
       "      <th>0</th>\n",
       "      <td>原标题：南京机场88个航班延误，启动橙色预警 现代快报讯（记者 刘伟娟）受南京、广州、福州等...</td>\n",
       "      <td>[南京机场, 橙色预警, 黄色预警]</td>\n",
       "      <td>2017年06月10日21:10\\t\\t\\n现代快报\\n</td>\n",
       "      <td>南京机场88个航班延误 黄色预警升级为橙色预警</td>\n",
       "      <td>2017-06-10 21:10:00</td>\n",
       "      <td>现代快报</td>\n",
       "    </tr>\n",
       "    <tr>\n",
       "      <th>1</th>\n",
       "      <td>原标题：南京单日降雨量刷历史新高 5000多人应急抢险 南京市防汛进入紧急状态，出动5000...</td>\n",
       "      <td>[抢险, 降雨量]</td>\n",
       "      <td>2017年06月10日20:05\\t\\t\\n央视新闻\\n</td>\n",
       "      <td>南京单日降雨量刷新历史记录  5千多人应急抢险</td>\n",
       "      <td>2017-06-10 20:05:00</td>\n",
       "      <td>央视新闻</td>\n",
       "    </tr>\n",
       "    <tr>\n",
       "      <th>2</th>\n",
       "      <td>原标题：长江流域梅雨期提前到来 三峡等水库加快腾库备汛 中新社武汉6月10日电 （记者 徐金...</td>\n",
       "      <td>[水库, 长江]</td>\n",
       "      <td>2017年06月10日19:24\\t\\t\\n中国新闻网\\n</td>\n",
       "      <td>长江流域梅雨期提前到来 三峡水库加快腾库备汛</td>\n",
       "      <td>2017-06-10 19:24:00</td>\n",
       "      <td>中国新闻网</td>\n",
       "    </tr>\n",
       "  </tbody>\n",
       "</table>\n",
       "</div>"
      ],
      "text/plain": [
       "                                             content             keyword  \\\n",
       "0  原标题：南京机场88个航班延误，启动橙色预警 现代快报讯（记者 刘伟娟）受南京、广州、福州等...  [南京机场, 橙色预警, 黄色预警]   \n",
       "1  原标题：南京单日降雨量刷历史新高 5000多人应急抢险 南京市防汛进入紧急状态，出动5000...           [抢险, 降雨量]   \n",
       "2  原标题：长江流域梅雨期提前到来 三峡等水库加快腾库备汛 中新社武汉6月10日电 （记者 徐金...            [水库, 长江]   \n",
       "\n",
       "                          source                    title            datetime  \\\n",
       "0   2017年06月10日21:10\\t\\t\\n现代快报\\n  南京机场88个航班延误 黄色预警升级为橙色预警 2017-06-10 21:10:00   \n",
       "1   2017年06月10日20:05\\t\\t\\n央视新闻\\n  南京单日降雨量刷新历史记录  5千多人应急抢险 2017-06-10 20:05:00   \n",
       "2  2017年06月10日19:24\\t\\t\\n中国新闻网\\n   长江流域梅雨期提前到来 三峡水库加快腾库备汛 2017-06-10 19:24:00   \n",
       "\n",
       "    from  \n",
       "0   现代快报  \n",
       "1   央视新闻  \n",
       "2  中国新闻网  "
      ]
     },
     "execution_count": 25,
     "metadata": {},
     "output_type": "execute_result"
    }
   ],
   "source": [
    "df.head(3)"
   ]
  },
  {
   "cell_type": "markdown",
   "metadata": {},
   "source": [
    "## 刪除Source"
   ]
  },
  {
   "cell_type": "code",
   "execution_count": 26,
   "metadata": {
    "collapsed": true
   },
   "outputs": [],
   "source": [
    "del df['source']"
   ]
  },
  {
   "cell_type": "code",
   "execution_count": 27,
   "metadata": {
    "collapsed": false
   },
   "outputs": [
    {
     "data": {
      "text/html": [
       "<div>\n",
       "<table border=\"1\" class=\"dataframe\">\n",
       "  <thead>\n",
       "    <tr style=\"text-align: right;\">\n",
       "      <th></th>\n",
       "      <th>content</th>\n",
       "      <th>keyword</th>\n",
       "      <th>title</th>\n",
       "      <th>datetime</th>\n",
       "      <th>from</th>\n",
       "    </tr>\n",
       "  </thead>\n",
       "  <tbody>\n",
       "    <tr>\n",
       "      <th>0</th>\n",
       "      <td>原标题：南京机场88个航班延误，启动橙色预警 现代快报讯（记者 刘伟娟）受南京、广州、福州等...</td>\n",
       "      <td>[南京机场, 橙色预警, 黄色预警]</td>\n",
       "      <td>南京机场88个航班延误 黄色预警升级为橙色预警</td>\n",
       "      <td>2017-06-10 21:10:00</td>\n",
       "      <td>现代快报</td>\n",
       "    </tr>\n",
       "    <tr>\n",
       "      <th>1</th>\n",
       "      <td>原标题：南京单日降雨量刷历史新高 5000多人应急抢险 南京市防汛进入紧急状态，出动5000...</td>\n",
       "      <td>[抢险, 降雨量]</td>\n",
       "      <td>南京单日降雨量刷新历史记录  5千多人应急抢险</td>\n",
       "      <td>2017-06-10 20:05:00</td>\n",
       "      <td>央视新闻</td>\n",
       "    </tr>\n",
       "    <tr>\n",
       "      <th>2</th>\n",
       "      <td>原标题：长江流域梅雨期提前到来 三峡等水库加快腾库备汛 中新社武汉6月10日电 （记者 徐金...</td>\n",
       "      <td>[水库, 长江]</td>\n",
       "      <td>长江流域梅雨期提前到来 三峡水库加快腾库备汛</td>\n",
       "      <td>2017-06-10 19:24:00</td>\n",
       "      <td>中国新闻网</td>\n",
       "    </tr>\n",
       "  </tbody>\n",
       "</table>\n",
       "</div>"
      ],
      "text/plain": [
       "                                             content             keyword  \\\n",
       "0  原标题：南京机场88个航班延误，启动橙色预警 现代快报讯（记者 刘伟娟）受南京、广州、福州等...  [南京机场, 橙色预警, 黄色预警]   \n",
       "1  原标题：南京单日降雨量刷历史新高 5000多人应急抢险 南京市防汛进入紧急状态，出动5000...           [抢险, 降雨量]   \n",
       "2  原标题：长江流域梅雨期提前到来 三峡等水库加快腾库备汛 中新社武汉6月10日电 （记者 徐金...            [水库, 长江]   \n",
       "\n",
       "                     title            datetime   from  \n",
       "0  南京机场88个航班延误 黄色预警升级为橙色预警 2017-06-10 21:10:00   现代快报  \n",
       "1  南京单日降雨量刷新历史记录  5千多人应急抢险 2017-06-10 20:05:00   央视新闻  \n",
       "2   长江流域梅雨期提前到来 三峡水库加快腾库备汛 2017-06-10 19:24:00  中国新闻网  "
      ]
     },
     "execution_count": 27,
     "metadata": {},
     "output_type": "execute_result"
    }
   ],
   "source": [
    "df.head(3)"
   ]
  },
  {
   "cell_type": "code",
   "execution_count": 29,
   "metadata": {
    "collapsed": false
   },
   "outputs": [
    {
     "data": {
      "text/html": [
       "<div>\n",
       "<table border=\"1\" class=\"dataframe\">\n",
       "  <thead>\n",
       "    <tr style=\"text-align: right;\">\n",
       "      <th></th>\n",
       "      <th>from</th>\n",
       "      <th>title</th>\n",
       "      <th>content</th>\n",
       "      <th>keyword</th>\n",
       "      <th>datetime</th>\n",
       "    </tr>\n",
       "  </thead>\n",
       "  <tbody>\n",
       "    <tr>\n",
       "      <th>0</th>\n",
       "      <td>现代快报</td>\n",
       "      <td>南京机场88个航班延误 黄色预警升级为橙色预警</td>\n",
       "      <td>原标题：南京机场88个航班延误，启动橙色预警 现代快报讯（记者 刘伟娟）受南京、广州、福州等...</td>\n",
       "      <td>[南京机场, 橙色预警, 黄色预警]</td>\n",
       "      <td>2017-06-10 21:10:00</td>\n",
       "    </tr>\n",
       "    <tr>\n",
       "      <th>1</th>\n",
       "      <td>央视新闻</td>\n",
       "      <td>南京单日降雨量刷新历史记录  5千多人应急抢险</td>\n",
       "      <td>原标题：南京单日降雨量刷历史新高 5000多人应急抢险 南京市防汛进入紧急状态，出动5000...</td>\n",
       "      <td>[抢险, 降雨量]</td>\n",
       "      <td>2017-06-10 20:05:00</td>\n",
       "    </tr>\n",
       "    <tr>\n",
       "      <th>2</th>\n",
       "      <td>中国新闻网</td>\n",
       "      <td>长江流域梅雨期提前到来 三峡水库加快腾库备汛</td>\n",
       "      <td>原标题：长江流域梅雨期提前到来 三峡等水库加快腾库备汛 中新社武汉6月10日电 （记者 徐金...</td>\n",
       "      <td>[水库, 长江]</td>\n",
       "      <td>2017-06-10 19:24:00</td>\n",
       "    </tr>\n",
       "    <tr>\n",
       "      <th>3</th>\n",
       "      <td>中国天气网</td>\n",
       "      <td>江苏8市大暴雨南京破纪录 今夜雨水将减弱停止</td>\n",
       "      <td>原标题：江苏8市大暴雨南京破纪录 今夜雨水渐止 中国天气网讯 今天（10日）江苏迎来了大范围...</td>\n",
       "      <td>[大暴雨, 雨水]</td>\n",
       "      <td>2017-06-10 19:14:00</td>\n",
       "    </tr>\n",
       "    <tr>\n",
       "      <th>4</th>\n",
       "      <td>中国新闻网</td>\n",
       "      <td>大连整治夜间飙车 扣法拉利玛莎拉蒂等14台豪车</td>\n",
       "      <td>原标题：大连交警整治夜间飙车 扣留法拉利、玛莎拉蒂等14台豪车 大连交警整治夜间“飙车”行为...</td>\n",
       "      <td>[豪车, 交警]</td>\n",
       "      <td>2017-06-10 19:03:00</td>\n",
       "    </tr>\n",
       "  </tbody>\n",
       "</table>\n",
       "</div>"
      ],
      "text/plain": [
       "    from                    title  \\\n",
       "0   现代快报  南京机场88个航班延误 黄色预警升级为橙色预警   \n",
       "1   央视新闻  南京单日降雨量刷新历史记录  5千多人应急抢险   \n",
       "2  中国新闻网   长江流域梅雨期提前到来 三峡水库加快腾库备汛   \n",
       "3  中国天气网   江苏8市大暴雨南京破纪录 今夜雨水将减弱停止   \n",
       "4  中国新闻网  大连整治夜间飙车 扣法拉利玛莎拉蒂等14台豪车   \n",
       "\n",
       "                                             content             keyword  \\\n",
       "0  原标题：南京机场88个航班延误，启动橙色预警 现代快报讯（记者 刘伟娟）受南京、广州、福州等...  [南京机场, 橙色预警, 黄色预警]   \n",
       "1  原标题：南京单日降雨量刷历史新高 5000多人应急抢险 南京市防汛进入紧急状态，出动5000...           [抢险, 降雨量]   \n",
       "2  原标题：长江流域梅雨期提前到来 三峡等水库加快腾库备汛 中新社武汉6月10日电 （记者 徐金...            [水库, 长江]   \n",
       "3  原标题：江苏8市大暴雨南京破纪录 今夜雨水渐止 中国天气网讯 今天（10日）江苏迎来了大范围...           [大暴雨, 雨水]   \n",
       "4  原标题：大连交警整治夜间飙车 扣留法拉利、玛莎拉蒂等14台豪车 大连交警整治夜间“飙车”行为...            [豪车, 交警]   \n",
       "\n",
       "             datetime  \n",
       "0 2017-06-10 21:10:00  \n",
       "1 2017-06-10 20:05:00  \n",
       "2 2017-06-10 19:24:00  \n",
       "3 2017-06-10 19:14:00  \n",
       "4 2017-06-10 19:03:00  "
      ]
     },
     "execution_count": 29,
     "metadata": {},
     "output_type": "execute_result"
    }
   ],
   "source": [
    "df = df[['from','title', 'content', 'keyword', 'datetime']]#调整列顺序\n",
    "df.head()"
   ]
  },
  {
   "cell_type": "markdown",
   "metadata": {},
   "source": [
    "## 将整理好的数据储存回Excel"
   ]
  },
  {
   "cell_type": "code",
   "execution_count": 30,
   "metadata": {
    "collapsed": false
   },
   "outputs": [],
   "source": [
    "df.to_excel('news.xlsx')"
   ]
  },
  {
   "cell_type": "code",
   "execution_count": null,
   "metadata": {
    "collapsed": true
   },
   "outputs": [],
   "source": []
  }
 ],
 "metadata": {
  "anaconda-cloud": {},
  "kernelspec": {
   "display_name": "Python [Root]",
   "language": "python",
   "name": "Python [Root]"
  },
  "language_info": {
   "codemirror_mode": {
    "name": "ipython",
    "version": 3
   },
   "file_extension": ".py",
   "mimetype": "text/x-python",
   "name": "python",
   "nbconvert_exporter": "python",
   "pygments_lexer": "ipython3",
   "version": "3.5.2"
  }
 },
 "nbformat": 4,
 "nbformat_minor": 2
}
