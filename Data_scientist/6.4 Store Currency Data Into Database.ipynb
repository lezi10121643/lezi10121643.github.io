{
 "cells": [
  {
   "cell_type": "markdown",
   "metadata": {},
   "source": [
    "## 爬取汇率信息"
   ]
  },
  {
   "cell_type": "code",
   "execution_count": 1,
   "metadata": {
    "collapsed": false
   },
   "outputs": [
    {
     "data": {
      "text/plain": [
       "<Response [200]>"
      ]
     },
     "execution_count": 1,
     "metadata": {},
     "output_type": "execute_result"
    }
   ],
   "source": [
    "import requests\n",
    "payload = { #开发者工具中看到的\n",
    "'projectBean.startDate':'2017-02-01',\n",
    "'projectBean.endDate':'2017-05-01',\n",
    "'queryYN':'true'\n",
    "}\n",
    "res = requests.post('http://www.safe.gov.cn/AppStructured/view/project_RMBQuery.action', data = payload)\n",
    "res"
   ]
  },
  {
   "cell_type": "code",
   "execution_count": 17,
   "metadata": {
    "collapsed": false
   },
   "outputs": [],
   "source": [
    "#res.text"
   ]
  },
  {
   "cell_type": "markdown",
   "metadata": {},
   "source": [
    "## 剖析汇率信息"
   ]
  },
  {
   "cell_type": "code",
   "execution_count": 2,
   "metadata": {
    "collapsed": false
   },
   "outputs": [],
   "source": [
    "from bs4 import BeautifulSoup\n",
    "import pandas\n",
    "soup = BeautifulSoup(res.text, 'html.parser')\n",
    "type(soup.select('#InfoTable')[0])\n",
    "type(soup.select('#InfoTable')[0].prettify('utf-8'))\n",
    "#pandas.read_html(soup.select('#InfoTable')[0])\n",
    "dfs = pandas.read_html(soup.select('#InfoTable')[0].prettify('utf-8'), header=0)#pandas读取表格\n",
    "#     header=0 表示header用的是第0行数据\n",
    "#prettify('utf-8')： tag转为str\n",
    "#len(dfs)\n",
    "#dfs[0]\n",
    "df_rates = dfs[0]"
   ]
  },
  {
   "cell_type": "code",
   "execution_count": 3,
   "metadata": {
    "collapsed": false
   },
   "outputs": [
    {
     "data": {
      "text/html": [
       "<div>\n",
       "<table border=\"1\" class=\"dataframe\">\n",
       "  <thead>\n",
       "    <tr style=\"text-align: right;\">\n",
       "      <th></th>\n",
       "      <th>日期</th>\n",
       "      <th>美元</th>\n",
       "      <th>欧元</th>\n",
       "      <th>日元</th>\n",
       "      <th>港元</th>\n",
       "      <th>英镑</th>\n",
       "      <th>林吉特</th>\n",
       "      <th>卢布</th>\n",
       "      <th>兰特</th>\n",
       "      <th>韩元</th>\n",
       "      <th>...</th>\n",
       "      <th>丹麦克朗</th>\n",
       "      <th>瑞典克朗</th>\n",
       "      <th>挪威克朗</th>\n",
       "      <th>里拉</th>\n",
       "      <th>比索</th>\n",
       "      <th>澳元</th>\n",
       "      <th>加元</th>\n",
       "      <th>新西兰元</th>\n",
       "      <th>新加坡元</th>\n",
       "      <th>瑞士法郎</th>\n",
       "    </tr>\n",
       "  </thead>\n",
       "  <tbody>\n",
       "    <tr>\n",
       "      <th>0</th>\n",
       "      <td>2017-04-28</td>\n",
       "      <td>689.31</td>\n",
       "      <td>749.45</td>\n",
       "      <td>6.2023</td>\n",
       "      <td>88.584</td>\n",
       "      <td>889.61</td>\n",
       "      <td>62.822</td>\n",
       "      <td>826.93</td>\n",
       "      <td>193.24</td>\n",
       "      <td>16387.0</td>\n",
       "      <td>...</td>\n",
       "      <td>99.20</td>\n",
       "      <td>128.04</td>\n",
       "      <td>124.23</td>\n",
       "      <td>51.631</td>\n",
       "      <td>275.98</td>\n",
       "      <td>515.34</td>\n",
       "      <td>506.28</td>\n",
       "      <td>474.81</td>\n",
       "      <td>493.90</td>\n",
       "      <td>693.82</td>\n",
       "    </tr>\n",
       "    <tr>\n",
       "      <th>1</th>\n",
       "      <td>2017-04-27</td>\n",
       "      <td>688.96</td>\n",
       "      <td>751.87</td>\n",
       "      <td>6.1977</td>\n",
       "      <td>88.546</td>\n",
       "      <td>885.74</td>\n",
       "      <td>62.829</td>\n",
       "      <td>827.94</td>\n",
       "      <td>192.26</td>\n",
       "      <td>16383.0</td>\n",
       "      <td>...</td>\n",
       "      <td>98.94</td>\n",
       "      <td>127.03</td>\n",
       "      <td>124.47</td>\n",
       "      <td>51.810</td>\n",
       "      <td>278.13</td>\n",
       "      <td>515.42</td>\n",
       "      <td>506.37</td>\n",
       "      <td>475.50</td>\n",
       "      <td>494.06</td>\n",
       "      <td>694.12</td>\n",
       "    </tr>\n",
       "    <tr>\n",
       "      <th>2</th>\n",
       "      <td>2017-04-26</td>\n",
       "      <td>688.45</td>\n",
       "      <td>752.50</td>\n",
       "      <td>6.1964</td>\n",
       "      <td>88.477</td>\n",
       "      <td>883.71</td>\n",
       "      <td>63.213</td>\n",
       "      <td>814.87</td>\n",
       "      <td>189.81</td>\n",
       "      <td>16358.0</td>\n",
       "      <td>...</td>\n",
       "      <td>98.86</td>\n",
       "      <td>127.36</td>\n",
       "      <td>124.41</td>\n",
       "      <td>51.996</td>\n",
       "      <td>274.05</td>\n",
       "      <td>519.05</td>\n",
       "      <td>507.26</td>\n",
       "      <td>478.34</td>\n",
       "      <td>493.98</td>\n",
       "      <td>693.05</td>\n",
       "    </tr>\n",
       "    <tr>\n",
       "      <th>3</th>\n",
       "      <td>2017-04-25</td>\n",
       "      <td>688.33</td>\n",
       "      <td>747.63</td>\n",
       "      <td>6.2746</td>\n",
       "      <td>88.478</td>\n",
       "      <td>880.27</td>\n",
       "      <td>63.662</td>\n",
       "      <td>810.73</td>\n",
       "      <td>189.17</td>\n",
       "      <td>16452.0</td>\n",
       "      <td>...</td>\n",
       "      <td>99.43</td>\n",
       "      <td>128.67</td>\n",
       "      <td>124.27</td>\n",
       "      <td>51.934</td>\n",
       "      <td>273.42</td>\n",
       "      <td>520.55</td>\n",
       "      <td>508.40</td>\n",
       "      <td>482.56</td>\n",
       "      <td>494.36</td>\n",
       "      <td>691.44</td>\n",
       "    </tr>\n",
       "    <tr>\n",
       "      <th>4</th>\n",
       "      <td>2017-04-24</td>\n",
       "      <td>686.73</td>\n",
       "      <td>746.24</td>\n",
       "      <td>6.2433</td>\n",
       "      <td>88.316</td>\n",
       "      <td>880.67</td>\n",
       "      <td>63.827</td>\n",
       "      <td>818.72</td>\n",
       "      <td>189.23</td>\n",
       "      <td>16457.0</td>\n",
       "      <td>...</td>\n",
       "      <td>99.68</td>\n",
       "      <td>128.77</td>\n",
       "      <td>124.19</td>\n",
       "      <td>52.596</td>\n",
       "      <td>271.20</td>\n",
       "      <td>519.10</td>\n",
       "      <td>509.39</td>\n",
       "      <td>483.42</td>\n",
       "      <td>493.15</td>\n",
       "      <td>691.59</td>\n",
       "    </tr>\n",
       "  </tbody>\n",
       "</table>\n",
       "<p>5 rows × 24 columns</p>\n",
       "</div>"
      ],
      "text/plain": [
       "           日期      美元      欧元      日元      港元      英镑     林吉特      卢布      兰特  \\\n",
       "0  2017-04-28  689.31  749.45  6.2023  88.584  889.61  62.822  826.93  193.24   \n",
       "1  2017-04-27  688.96  751.87  6.1977  88.546  885.74  62.829  827.94  192.26   \n",
       "2  2017-04-26  688.45  752.50  6.1964  88.477  883.71  63.213  814.87  189.81   \n",
       "3  2017-04-25  688.33  747.63  6.2746  88.478  880.27  63.662  810.73  189.17   \n",
       "4  2017-04-24  686.73  746.24  6.2433  88.316  880.67  63.827  818.72  189.23   \n",
       "\n",
       "        韩元   ...     丹麦克朗    瑞典克朗    挪威克朗      里拉      比索      澳元      加元  \\\n",
       "0  16387.0   ...    99.20  128.04  124.23  51.631  275.98  515.34  506.28   \n",
       "1  16383.0   ...    98.94  127.03  124.47  51.810  278.13  515.42  506.37   \n",
       "2  16358.0   ...    98.86  127.36  124.41  51.996  274.05  519.05  507.26   \n",
       "3  16452.0   ...    99.43  128.67  124.27  51.934  273.42  520.55  508.40   \n",
       "4  16457.0   ...    99.68  128.77  124.19  52.596  271.20  519.10  509.39   \n",
       "\n",
       "     新西兰元    新加坡元    瑞士法郎  \n",
       "0  474.81  493.90  693.82  \n",
       "1  475.50  494.06  694.12  \n",
       "2  478.34  493.98  693.05  \n",
       "3  482.56  494.36  691.44  \n",
       "4  483.42  493.15  691.59  \n",
       "\n",
       "[5 rows x 24 columns]"
      ]
     },
     "execution_count": 3,
     "metadata": {},
     "output_type": "execute_result"
    }
   ],
   "source": [
    "df_rates.head()"
   ]
  },
  {
   "cell_type": "markdown",
   "metadata": {},
   "source": [
    "## 数据转换"
   ]
  },
  {
   "cell_type": "code",
   "execution_count": 93,
   "metadata": {
    "collapsed": false
   },
   "outputs": [],
   "source": [
    "#pandas.melt(df_rates, col_level=0, id_vars=['日期'])"
   ]
  },
  {
   "cell_type": "code",
   "execution_count": 4,
   "metadata": {
    "collapsed": false
   },
   "outputs": [],
   "source": [
    "df_rates = pandas.melt(df_rates, col_level=0, id_vars=['日期'])#转换为3栏数据"
   ]
  },
  {
   "cell_type": "code",
   "execution_count": 96,
   "metadata": {
    "collapsed": false
   },
   "outputs": [],
   "source": [
    "#df_rates.head()"
   ]
  },
  {
   "cell_type": "code",
   "execution_count": 5,
   "metadata": {
    "collapsed": false
   },
   "outputs": [],
   "source": [
    "df_rates.columns = ['date', 'currency', 'exchange']#改名称"
   ]
  },
  {
   "cell_type": "code",
   "execution_count": 6,
   "metadata": {
    "collapsed": false
   },
   "outputs": [
    {
     "data": {
      "text/html": [
       "<div>\n",
       "<table border=\"1\" class=\"dataframe\">\n",
       "  <thead>\n",
       "    <tr style=\"text-align: right;\">\n",
       "      <th></th>\n",
       "      <th>date</th>\n",
       "      <th>currency</th>\n",
       "      <th>exchange</th>\n",
       "    </tr>\n",
       "  </thead>\n",
       "  <tbody>\n",
       "    <tr>\n",
       "      <th>0</th>\n",
       "      <td>2017-04-28</td>\n",
       "      <td>美元</td>\n",
       "      <td>689.31</td>\n",
       "    </tr>\n",
       "    <tr>\n",
       "      <th>1</th>\n",
       "      <td>2017-04-27</td>\n",
       "      <td>美元</td>\n",
       "      <td>688.96</td>\n",
       "    </tr>\n",
       "    <tr>\n",
       "      <th>2</th>\n",
       "      <td>2017-04-26</td>\n",
       "      <td>美元</td>\n",
       "      <td>688.45</td>\n",
       "    </tr>\n",
       "    <tr>\n",
       "      <th>3</th>\n",
       "      <td>2017-04-25</td>\n",
       "      <td>美元</td>\n",
       "      <td>688.33</td>\n",
       "    </tr>\n",
       "    <tr>\n",
       "      <th>4</th>\n",
       "      <td>2017-04-24</td>\n",
       "      <td>美元</td>\n",
       "      <td>686.73</td>\n",
       "    </tr>\n",
       "  </tbody>\n",
       "</table>\n",
       "</div>"
      ],
      "text/plain": [
       "         date currency  exchange\n",
       "0  2017-04-28       美元    689.31\n",
       "1  2017-04-27       美元    688.96\n",
       "2  2017-04-26       美元    688.45\n",
       "3  2017-04-25       美元    688.33\n",
       "4  2017-04-24       美元    686.73"
      ]
     },
     "execution_count": 6,
     "metadata": {},
     "output_type": "execute_result"
    }
   ],
   "source": [
    "df_rates.head()"
   ]
  },
  {
   "cell_type": "markdown",
   "metadata": {},
   "source": [
    "## 将数据储存到数据库中"
   ]
  },
  {
   "cell_type": "code",
   "execution_count": 7,
   "metadata": {
    "collapsed": false
   },
   "outputs": [],
   "source": [
    "import sqlite3 as lite\n",
    "with lite.connect('currency.sqlite') as db:  \n",
    "    df_rates.to_sql('currency_data', con=db, if_exists='replace', index = None)"
   ]
  },
  {
   "cell_type": "markdown",
   "metadata": {},
   "source": [
    "## 产生多天日期"
   ]
  },
  {
   "cell_type": "code",
   "execution_count": 8,
   "metadata": {
    "collapsed": false
   },
   "outputs": [
    {
     "name": "stdout",
     "output_type": "stream",
     "text": [
      "2017-05-11 2017-06-09\n",
      "2017-04-11 2017-05-10\n",
      "2017-03-12 2017-04-10\n",
      "2017-02-10 2017-03-11\n",
      "2017-01-11 2017-02-09\n",
      "2016-12-12 2017-01-10\n",
      "2016-11-12 2016-12-11\n",
      "2016-10-13 2016-11-11\n",
      "2016-09-13 2016-10-12\n",
      "2016-08-14 2016-09-12\n"
     ]
    }
   ],
   "source": [
    "from datetime import datetime, timedelta\n",
    "current_time = datetime.now()\n",
    "for i in range(1,300,30):\n",
    "    #print(i)\n",
    "    start_date = (current_time - timedelta(days = i + 30)).strftime('%Y-%m-%d')\n",
    "    end_date   = (current_time - timedelta(days = i + 1)).strftime('%Y-%m-%d')\n",
    "    print(start_date, end_date)"
   ]
  },
  {
   "cell_type": "markdown",
   "metadata": {},
   "source": [
    "## 建立取得汇率函数"
   ]
  },
  {
   "cell_type": "code",
   "execution_count": 9,
   "metadata": {
    "collapsed": true
   },
   "outputs": [],
   "source": [
    "def getCurrency(start, end):\n",
    "    payload = {\n",
    "    'projectBean.startDate':start,\n",
    "    'projectBean.endDate':end,\n",
    "    'queryYN':'true'\n",
    "    }\n",
    "    res = requests.post('http://www.safe.gov.cn/AppStructured/view/project_RMBQuery.action', data = payload)\n",
    "    soup = BeautifulSoup(res.text, 'html.parser')\n",
    "    dfs = pandas.read_html(soup.select('#InfoTable')[0].prettify('utf-8'), header=0)\n",
    "    df_rates = dfs[0]\n",
    "    \n",
    "    df_rates = pandas.melt(df_rates, col_level=0, id_vars=['日期'])\n",
    "    df_rates.columns = ['date', 'currency', 'exchange']\n",
    "    \n",
    "    with lite.connect('currency.sqlite') as db:\n",
    "        df_rates.to_sql('currency_data', con=db, if_exists='append', index = None)"
   ]
  },
  {
   "cell_type": "markdown",
   "metadata": {},
   "source": [
    "## 抓取多天汇率数据"
   ]
  },
  {
   "cell_type": "code",
   "execution_count": 10,
   "metadata": {
    "collapsed": false
   },
   "outputs": [
    {
     "name": "stdout",
     "output_type": "stream",
     "text": [
      "2017-05-11 2017-06-09\n",
      "2017-04-11 2017-05-10\n",
      "2017-03-12 2017-04-10\n",
      "2017-02-10 2017-03-11\n",
      "2017-01-11 2017-02-09\n",
      "2016-12-12 2017-01-10\n",
      "2016-11-12 2016-12-11\n",
      "2016-10-13 2016-11-11\n",
      "2016-09-13 2016-10-12\n",
      "2016-08-14 2016-09-12\n"
     ]
    }
   ],
   "source": [
    "from datetime import datetime, timedelta\n",
    "current_time = datetime.now()\n",
    "for i in range(1,300,30):\n",
    "    start_date = (current_time - timedelta(days = i + 30)).strftime('%Y-%m-%d')\n",
    "    end_date   = (current_time - timedelta(days = i + 1)).strftime('%Y-%m-%d')\n",
    "    print(start_date, end_date)\n",
    "    getCurrency(start_date, end_date)"
   ]
  },
  {
   "cell_type": "markdown",
   "metadata": {},
   "source": [
    "## 取得美元数据"
   ]
  },
  {
   "cell_type": "code",
   "execution_count": 11,
   "metadata": {
    "collapsed": false
   },
   "outputs": [],
   "source": [
    "with lite.connect('currency.sqlite') as db:\n",
    "    df = pandas.read_sql(\"SELECT * FROM currency_data WHERE currency = '美元'\", con=db)"
   ]
  },
  {
   "cell_type": "code",
   "execution_count": 12,
   "metadata": {
    "collapsed": false
   },
   "outputs": [
    {
     "data": {
      "text/plain": [
       "date        256\n",
       "currency    256\n",
       "exchange    256\n",
       "dtype: int64"
      ]
     },
     "execution_count": 12,
     "metadata": {},
     "output_type": "execute_result"
    }
   ],
   "source": [
    "df.count()"
   ]
  },
  {
   "cell_type": "code",
   "execution_count": 33,
   "metadata": {
    "collapsed": false
   },
   "outputs": [
    {
     "data": {
      "text/html": [
       "<div>\n",
       "<table border=\"1\" class=\"dataframe\">\n",
       "  <thead>\n",
       "    <tr style=\"text-align: right;\">\n",
       "      <th></th>\n",
       "      <th>date</th>\n",
       "      <th>currency</th>\n",
       "      <th>exchange</th>\n",
       "    </tr>\n",
       "  </thead>\n",
       "  <tbody>\n",
       "    <tr>\n",
       "      <th>0</th>\n",
       "      <td>2017-04-28</td>\n",
       "      <td>美元</td>\n",
       "      <td>689.31</td>\n",
       "    </tr>\n",
       "    <tr>\n",
       "      <th>1</th>\n",
       "      <td>2017-04-27</td>\n",
       "      <td>美元</td>\n",
       "      <td>688.96</td>\n",
       "    </tr>\n",
       "    <tr>\n",
       "      <th>2</th>\n",
       "      <td>2017-04-26</td>\n",
       "      <td>美元</td>\n",
       "      <td>688.45</td>\n",
       "    </tr>\n",
       "    <tr>\n",
       "      <th>3</th>\n",
       "      <td>2017-04-25</td>\n",
       "      <td>美元</td>\n",
       "      <td>688.33</td>\n",
       "    </tr>\n",
       "    <tr>\n",
       "      <th>4</th>\n",
       "      <td>2017-04-24</td>\n",
       "      <td>美元</td>\n",
       "      <td>686.73</td>\n",
       "    </tr>\n",
       "  </tbody>\n",
       "</table>\n",
       "</div>"
      ],
      "text/plain": [
       "         date currency  exchange\n",
       "0  2017-04-28       美元    689.31\n",
       "1  2017-04-27       美元    688.96\n",
       "2  2017-04-26       美元    688.45\n",
       "3  2017-04-25       美元    688.33\n",
       "4  2017-04-24       美元    686.73"
      ]
     },
     "execution_count": 33,
     "metadata": {},
     "output_type": "execute_result"
    }
   ],
   "source": [
    "df.head()"
   ]
  },
  {
   "cell_type": "code",
   "execution_count": 36,
   "metadata": {
    "collapsed": false
   },
   "outputs": [],
   "source": [
    "df['date'] = pandas.to_datetime(df['date'], format= '%Y-%m-%d')"
   ]
  },
  {
   "cell_type": "code",
   "execution_count": 13,
   "metadata": {
    "collapsed": false
   },
   "outputs": [
    {
     "name": "stdout",
     "output_type": "stream",
     "text": [
      "<class 'pandas.core.frame.DataFrame'>\n",
      "RangeIndex: 256 entries, 0 to 255\n",
      "Data columns (total 3 columns):\n",
      "date        256 non-null object\n",
      "currency    256 non-null object\n",
      "exchange    256 non-null float64\n",
      "dtypes: float64(1), object(2)\n",
      "memory usage: 6.1+ KB\n"
     ]
    }
   ],
   "source": [
    "df.info()"
   ]
  },
  {
   "cell_type": "code",
   "execution_count": 14,
   "metadata": {
    "collapsed": false
   },
   "outputs": [],
   "source": [
    "df.index = df.date"
   ]
  },
  {
   "cell_type": "markdown",
   "metadata": {},
   "source": [
    "## 绘制美元汇率线图"
   ]
  },
  {
   "cell_type": "code",
   "execution_count": 15,
   "metadata": {
    "collapsed": false
   },
   "outputs": [
    {
     "name": "stdout",
     "output_type": "stream",
     "text": [
      "Populating the interactive namespace from numpy and matplotlib\n"
     ]
    },
    {
     "name": "stderr",
     "output_type": "stream",
     "text": [
      "WARNING: pylab import has clobbered these variables: ['datetime']\n",
      "`%matplotlib` prevents importing * from pylab and numpy\n"
     ]
    },
    {
     "data": {
      "text/plain": [
       "<matplotlib.axes._subplots.AxesSubplot at 0xb394e48>"
      ]
     },
     "execution_count": 15,
     "metadata": {},
     "output_type": "execute_result"
    },
    {
     "data": {
      "image/png": "[encoded data removed]",
      "text/plain": [
       "<matplotlib.figure.Figure at 0xb313ba8>"
      ]
     },
     "metadata": {},
     "output_type": "display_data"
    }
   ],
   "source": [
    "% pylab inline\n",
    "df.plot(kind = 'line')"
   ]
  },
  {
   "cell_type": "code",
   "execution_count": 16,
   "metadata": {
    "collapsed": true
   },
   "outputs": [],
   "source": [
    "df['mvg30'] = df['exchange'].rolling(window = 30).mean()"
   ]
  },
  {
   "cell_type": "code",
   "execution_count": 17,
   "metadata": {
    "collapsed": false
   },
   "outputs": [
    {
     "data": {
      "text/plain": [
       "<matplotlib.axes._subplots.AxesSubplot at 0xaa52588>"
      ]
     },
     "execution_count": 17,
     "metadata": {},
     "output_type": "execute_result"
    },
    {
     "data": {
      "image/png": "[encoded data removed]",
      "text/plain": [
       "<matplotlib.figure.Figure at 0xaa29470>"
      ]
     },
     "metadata": {},
     "output_type": "display_data"
    }
   ],
   "source": [
    "df[['exchange', 'mvg30']].plot(kind = 'line')"
   ]
  },
  {
   "cell_type": "markdown",
   "metadata": {},
   "source": [
    "## 取得美元、英镑数据"
   ]
  },
  {
   "cell_type": "code",
   "execution_count": 18,
   "metadata": {
    "collapsed": true
   },
   "outputs": [],
   "source": [
    "with lite.connect('currency.sqlite') as db:\n",
    "    df = pandas.read_sql(\"SELECT * FROM currency_data WHERE currency IN ('美元', '英镑') \", con=db)"
   ]
  },
  {
   "cell_type": "code",
   "execution_count": 19,
   "metadata": {
    "collapsed": false
   },
   "outputs": [
    {
     "data": {
      "text/plain": [
       "array(['美元', '英镑'], dtype=object)"
      ]
     },
     "execution_count": 19,
     "metadata": {},
     "output_type": "execute_result"
    }
   ],
   "source": [
    "df.currency.unique()"
   ]
  },
  {
   "cell_type": "code",
   "execution_count": 20,
   "metadata": {
    "collapsed": true
   },
   "outputs": [],
   "source": [
    "df['date'] = pandas.to_datetime(df['date'], format= '%Y-%m-%d')"
   ]
  },
  {
   "cell_type": "code",
   "execution_count": 21,
   "metadata": {
    "collapsed": false
   },
   "outputs": [
    {
     "name": "stdout",
     "output_type": "stream",
     "text": [
      "<class 'pandas.core.frame.DataFrame'>\n",
      "RangeIndex: 512 entries, 0 to 511\n",
      "Data columns (total 3 columns):\n",
      "date        512 non-null datetime64[ns]\n",
      "currency    512 non-null object\n",
      "exchange    512 non-null float64\n",
      "dtypes: datetime64[ns](1), float64(1), object(1)\n",
      "memory usage: 12.1+ KB\n"
     ]
    }
   ],
   "source": [
    "df.info()"
   ]
  },
  {
   "cell_type": "code",
   "execution_count": 22,
   "metadata": {
    "collapsed": false
   },
   "outputs": [
    {
     "data": {
      "text/html": [
       "<div>\n",
       "<table border=\"1\" class=\"dataframe\">\n",
       "  <thead>\n",
       "    <tr style=\"text-align: right;\">\n",
       "      <th></th>\n",
       "      <th>date</th>\n",
       "      <th>currency</th>\n",
       "      <th>exchange</th>\n",
       "    </tr>\n",
       "  </thead>\n",
       "  <tbody>\n",
       "    <tr>\n",
       "      <th>0</th>\n",
       "      <td>2017-04-28</td>\n",
       "      <td>美元</td>\n",
       "      <td>689.31</td>\n",
       "    </tr>\n",
       "    <tr>\n",
       "      <th>1</th>\n",
       "      <td>2017-04-27</td>\n",
       "      <td>美元</td>\n",
       "      <td>688.96</td>\n",
       "    </tr>\n",
       "    <tr>\n",
       "      <th>2</th>\n",
       "      <td>2017-04-26</td>\n",
       "      <td>美元</td>\n",
       "      <td>688.45</td>\n",
       "    </tr>\n",
       "    <tr>\n",
       "      <th>3</th>\n",
       "      <td>2017-04-25</td>\n",
       "      <td>美元</td>\n",
       "      <td>688.33</td>\n",
       "    </tr>\n",
       "    <tr>\n",
       "      <th>4</th>\n",
       "      <td>2017-04-24</td>\n",
       "      <td>美元</td>\n",
       "      <td>686.73</td>\n",
       "    </tr>\n",
       "  </tbody>\n",
       "</table>\n",
       "</div>"
      ],
      "text/plain": [
       "        date currency  exchange\n",
       "0 2017-04-28       美元    689.31\n",
       "1 2017-04-27       美元    688.96\n",
       "2 2017-04-26       美元    688.45\n",
       "3 2017-04-25       美元    688.33\n",
       "4 2017-04-24       美元    686.73"
      ]
     },
     "execution_count": 22,
     "metadata": {},
     "output_type": "execute_result"
    }
   ],
   "source": [
    "df.head()"
   ]
  },
  {
   "cell_type": "markdown",
   "metadata": {},
   "source": [
    "## 建立Pivot Table"
   ]
  },
  {
   "cell_type": "code",
   "execution_count": 23,
   "metadata": {
    "collapsed": false
   },
   "outputs": [],
   "source": [
    "df2 = df.pivot_table(index= 'date', columns= 'currency')"
   ]
  },
  {
   "cell_type": "code",
   "execution_count": 24,
   "metadata": {
    "collapsed": false
   },
   "outputs": [
    {
     "data": {
      "text/html": [
       "<div>\n",
       "<table border=\"1\" class=\"dataframe\">\n",
       "  <thead>\n",
       "    <tr>\n",
       "      <th></th>\n",
       "      <th colspan=\"2\" halign=\"left\">exchange</th>\n",
       "    </tr>\n",
       "    <tr>\n",
       "      <th>currency</th>\n",
       "      <th>美元</th>\n",
       "      <th>英镑</th>\n",
       "    </tr>\n",
       "    <tr>\n",
       "      <th>date</th>\n",
       "      <th></th>\n",
       "      <th></th>\n",
       "    </tr>\n",
       "  </thead>\n",
       "  <tbody>\n",
       "    <tr>\n",
       "      <th>2016-08-15</th>\n",
       "      <td>664.30</td>\n",
       "      <td>857.45</td>\n",
       "    </tr>\n",
       "    <tr>\n",
       "      <th>2016-08-16</th>\n",
       "      <td>663.05</td>\n",
       "      <td>854.37</td>\n",
       "    </tr>\n",
       "    <tr>\n",
       "      <th>2016-08-17</th>\n",
       "      <td>660.56</td>\n",
       "      <td>861.28</td>\n",
       "    </tr>\n",
       "    <tr>\n",
       "      <th>2016-08-18</th>\n",
       "      <td>662.73</td>\n",
       "      <td>864.57</td>\n",
       "    </tr>\n",
       "    <tr>\n",
       "      <th>2016-08-19</th>\n",
       "      <td>662.11</td>\n",
       "      <td>871.24</td>\n",
       "    </tr>\n",
       "  </tbody>\n",
       "</table>\n",
       "</div>"
      ],
      "text/plain": [
       "           exchange        \n",
       "currency         美元      英镑\n",
       "date                       \n",
       "2016-08-15   664.30  857.45\n",
       "2016-08-16   663.05  854.37\n",
       "2016-08-17   660.56  861.28\n",
       "2016-08-18   662.73  864.57\n",
       "2016-08-19   662.11  871.24"
      ]
     },
     "execution_count": 24,
     "metadata": {},
     "output_type": "execute_result"
    }
   ],
   "source": [
    "df2.head()"
   ]
  },
  {
   "cell_type": "markdown",
   "metadata": {},
   "source": [
    "## 绘制美元、英镑汇率线图"
   ]
  },
  {
   "cell_type": "code",
   "execution_count": 25,
   "metadata": {
    "collapsed": false
   },
   "outputs": [
    {
     "data": {
      "text/plain": [
       "<matplotlib.axes._subplots.AxesSubplot at 0x90aaeb8>"
      ]
     },
     "execution_count": 25,
     "metadata": {},
     "output_type": "execute_result"
    },
    {
     "data": {
      "image/png": "[encoded data removed]",
      "text/plain": [
       "<matplotlib.figure.Figure at 0xadf5b00>"
      ]
     },
     "metadata": {},
     "output_type": "display_data"
    }
   ],
   "source": [
    "df2.plot(kind= 'line', rot= 30)"
   ]
  },
  {
   "cell_type": "code",
   "execution_count": 27,
   "metadata": {
    "collapsed": false
   },
   "outputs": [
    {
     "data": {
      "text/plain": [
       "242.7259259259259"
      ]
     },
     "execution_count": 27,
     "metadata": {},
     "output_type": "execute_result"
    }
   ],
   "source": [
    "10 * 1024 *1024 / 30 / 24 / 60"
   ]
  },
  {
   "cell_type": "code",
   "execution_count": null,
   "metadata": {
    "collapsed": true
   },
   "outputs": [],
   "source": []
  }
 ],
 "metadata": {
  "kernelspec": {
   "display_name": "Python [Root]",
   "language": "python",
   "name": "Python [Root]"
  },
  "language_info": {
   "codemirror_mode": {
    "name": "ipython",
    "version": 3
   },
   "file_extension": ".py",
   "mimetype": "text/x-python",
   "name": "python",
   "nbconvert_exporter": "python",
   "pygments_lexer": "ipython3",
   "version": "3.5.2"
  }
 },
 "nbformat": 4,
 "nbformat_minor": 2
}
