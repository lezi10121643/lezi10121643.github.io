{
 "cells": [
  {
   "cell_type": "code",
   "execution_count": 1,
   "metadata": {},
   "outputs": [
    {
     "name": "stdout",
     "output_type": "stream",
     "text": [
      "<_sre.SRE_Match object; span=(30129, 30256), match='thread_subject\">\\\\xa1\\\\xbe\\\\xd0\\\\xa3\\\\xd4\\\\xb0\\\\x>\n",
      "\\xa1\\xbe\\xd0\\xa3\\xd4\\xb0\\xb4\\xba\\xc9\\xab\\xa1\\xbf\\xc9\\xaf\\xc9\\xaf\\xb5\\xc4\\xb1\\xa9\\xc2\\xb6\\xd0\\xcb\\xc8\\xa4\n"
     ]
    },
    {
     "ename": "AttributeError",
     "evalue": "'str' object has no attribute 'decode'",
     "output_type": "error",
     "traceback": [
      "\u001b[1;31m---------------------------------------------------------------------------\u001b[0m",
      "\u001b[1;31mAttributeError\u001b[0m                            Traceback (most recent call last)",
      "\u001b[1;32m<ipython-input-1-92ed5140f4b5>\u001b[0m in \u001b[0;36m<module>\u001b[1;34m()\u001b[0m\n\u001b[0;32m     16\u001b[0m     \u001b[0mdata4\u001b[0m\u001b[1;33m=\u001b[0m\u001b[1;34m'\\\\'\u001b[0m\u001b[1;33m+\u001b[0m\u001b[0mdata4\u001b[0m\u001b[1;33m\u001b[0m\u001b[0m\n\u001b[0;32m     17\u001b[0m     \u001b[0mprint\u001b[0m\u001b[1;33m(\u001b[0m\u001b[0mdata4\u001b[0m\u001b[1;33m)\u001b[0m\u001b[1;33m\u001b[0m\u001b[0m\n\u001b[1;32m---> 18\u001b[1;33m     \u001b[0mdata4\u001b[0m\u001b[1;33m=\u001b[0m\u001b[0mdata4\u001b[0m\u001b[1;33m.\u001b[0m\u001b[0mdecode\u001b[0m\u001b[1;33m(\u001b[0m\u001b[1;34m'utf-8'\u001b[0m\u001b[1;33m)\u001b[0m\u001b[1;33m\u001b[0m\u001b[0m\n\u001b[0m\u001b[0;32m     19\u001b[0m     \u001b[0mprint\u001b[0m\u001b[1;33m(\u001b[0m\u001b[0mdata4\u001b[0m\u001b[1;33m)\u001b[0m\u001b[1;33m\u001b[0m\u001b[0m\n\u001b[0;32m     20\u001b[0m     \u001b[0mf\u001b[0m\u001b[1;33m=\u001b[0m\u001b[0mopen\u001b[0m\u001b[1;33m(\u001b[0m\u001b[1;34m'xs/'\u001b[0m\u001b[1;33m+\u001b[0m\u001b[0mstr\u001b[0m\u001b[1;33m(\u001b[0m\u001b[0mdata2\u001b[0m\u001b[1;33m)\u001b[0m\u001b[1;33m+\u001b[0m\u001b[1;34m'.txt'\u001b[0m\u001b[1;33m,\u001b[0m\u001b[1;34m'wb'\u001b[0m\u001b[1;33m)\u001b[0m\u001b[1;33m\u001b[0m\u001b[0m\n",
      "\u001b[1;31mAttributeError\u001b[0m: 'str' object has no attribute 'decode'"
     ]
    }
   ],
   "source": [
    "import urllib.request\n",
    "import re\n",
    "\n",
    "url='http://www.shlt9.com/forum.php?mod=viewthread&tid='\n",
    "for i in range(52000,52100):\n",
    "    url_all=url+str(i)\n",
    "    data=urllib.request.urlopen(url_all).read()\n",
    "    pat='thread_subject\">.*?</span>'\n",
    "    data1=str(data)\n",
    "    data1=re.search(pat,data1)\n",
    "    print(data1)\n",
    "    data2=data1.group(0)\n",
    "    pat2='x.*x..'\n",
    "    data3=re.search(pat2,data2)\n",
    "    data4=data3.group(0)\n",
    "    data4='\\\\'+data4\n",
    "    print(data4)\n",
    "    data4=data4.decode('utf-8')\n",
    "    print(data4)\n",
    "    f=open('xs/'+str(data2)+'.txt','wb')\n",
    "    f.write(data)\n",
    "    f.close"
   ]
  },
  {
   "cell_type": "code",
   "execution_count": null,
   "metadata": {},
   "outputs": [
    {
     "name": "stdout",
     "output_type": "stream",
     "text": [
      "shibai\n",
      "shibai\n",
      "shibai\n",
      "shibai\n",
      "shibai\n",
      "shibai\n",
      "shibai\n",
      "shibai\n",
      "shibai\n",
      "shibai\n",
      "shibai\n",
      "shibai\n",
      "shibai\n",
      "shibai\n",
      "shibai\n",
      "shibai\n",
      "shibai\n",
      "shibai\n",
      "shibai\n",
      "shibai\n",
      "shibai\n",
      "shibai\n",
      "shibai\n",
      "shibai\n",
      "shibai\n",
      "shibai\n",
      "shibai\n",
      "shibai\n",
      "shibai\n",
      "shibai\n",
      "shibai\n",
      "shibai\n",
      "shibai\n",
      "shibai\n",
      "shibai\n",
      "shibai\n",
      "shibai\n",
      "shibai\n",
      "shibai\n",
      "shibai\n",
      "shibai\n",
      "shibai\n",
      "shibai\n",
      "shibai\n",
      "shibai\n",
      "shibai\n",
      "shibai\n",
      "shibai\n",
      "shibai\n",
      "shibai\n",
      "shibai\n",
      "shibai\n",
      "shibai\n",
      "shibai\n",
      "shibai\n",
      "shibai\n",
      "shibai\n",
      "shibai\n",
      "shibai\n",
      "shibai\n",
      "shibai\n",
      "shibai\n",
      "shibai\n",
      "shibai\n",
      "shibai\n",
      "shibai\n",
      "shibai\n",
      "shibai\n"
     ]
    }
   ],
   "source": [
    "import urllib.request\n",
    "import re\n",
    "\n",
    "url='http://www.shlt9.com/forum.php?mod=viewthread&tid='\n",
    "for i in range(52000,52100):\n",
    "    try:\n",
    "        url_all=url+str(i)\n",
    "        data=urllib.request.urlopen(url_all).read().decode('utf-8')\n",
    "        pat='thread_subject\">.*?</span>'\n",
    "        data1=str(data)\n",
    "        data1=re.search(pat,data1)\n",
    "        #print(data1)\n",
    "        data2=data1.group(0)\n",
    "        pat2='x.*x..'\n",
    "        data3=re.search(pat2,data2)\n",
    "        data4=data3.group(0)\n",
    "        #data4='\\\\'+data4\n",
    "        print(data4)\n",
    "    except:\n",
    "        print('shibai')"
   ]
  },
  {
   "cell_type": "code",
   "execution_count": 30,
   "metadata": {},
   "outputs": [
    {
     "name": "stdout",
     "output_type": "stream",
     "text": [
      "【校园春色】莎莎的暴露兴趣\n",
      "【校园春色】我的露出-摄影比赛\n"
     ]
    }
   ],
   "source": [
    "import urllib.request\n",
    "import re\n",
    "\n",
    "url='http://www.shlt9.com/forum.php?mod=viewthread&tid='\n",
    "for i in range(52000,52002):\n",
    "        url_all=url+str(i)\n",
    "        data=urllib.request.urlopen(url_all).read().decode('gbk')\n",
    "        #print(data)\n",
    "        pat='thread_subject\">(.*?)</span>'\n",
    "        data1=str(data)\n",
    "        data1=re.search(pat,data1)\n",
    "        #print(data1)\n",
    "        data2=data1.group(0)\n",
    "        #print(data2)\n",
    "        #print(type(data2))\n",
    "        data3=re.search('>(.*?)<',data2) \n",
    "        #print(data3)\n",
    "        data3=data3.group(1)\n",
    "        print(data3)"
   ]
  },
  {
   "cell_type": "code",
   "execution_count": 31,
   "metadata": {},
   "outputs": [
    {
     "name": "stdout",
     "output_type": "stream",
     "text": [
      "【校园春色】莎莎的暴露兴趣\n",
      "【校园春色】我的露出-摄影比赛\n"
     ]
    }
   ],
   "source": [
    "import urllib.request\n",
    "import re\n",
    "\n",
    "url='http://www.shlt9.com/forum.php?mod=viewthread&tid='\n",
    "for i in range(52000,52002):\n",
    "        url_all=url+str(i)\n",
    "        data=urllib.request.urlopen(url_all).read().decode('gbk')\n",
    "        pat='thread_subject\">(.*?)</span>'\n",
    "        data1=str(data)\n",
    "        data1=re.search(pat,data1)\n",
    "        data2=data1.group(1)\n",
    "        print(data2)"
   ]
  },
  {
   "cell_type": "code",
   "execution_count": 32,
   "metadata": {},
   "outputs": [
    {
     "data": {
      "text/plain": [
       "[1,\n",
       " 2,\n",
       " 3,\n",
       " 4,\n",
       " 5,\n",
       " 6,\n",
       " 7,\n",
       " 8,\n",
       " 9,\n",
       " 4,\n",
       " 6,\n",
       " 8,\n",
       " 10,\n",
       " 12,\n",
       " 14,\n",
       " 16,\n",
       " 18,\n",
       " 9,\n",
       " 12,\n",
       " 15,\n",
       " 18,\n",
       " 21,\n",
       " 24,\n",
       " 27,\n",
       " 16,\n",
       " 20,\n",
       " 24,\n",
       " 28,\n",
       " 32,\n",
       " 36,\n",
       " 25,\n",
       " 30,\n",
       " 35,\n",
       " 40,\n",
       " 45,\n",
       " 36,\n",
       " 42,\n",
       " 48,\n",
       " 54,\n",
       " 49,\n",
       " 56,\n",
       " 63,\n",
       " 64,\n",
       " 72,\n",
       " 81]"
      ]
     },
     "execution_count": 32,
     "metadata": {},
     "output_type": "execute_result"
    }
   ],
   "source": [
    "[i*j for j in range(1,i) for i in range(1,10) if j<=i]"
   ]
  },
  {
   "cell_type": "code",
   "execution_count": null,
   "metadata": {
    "collapsed": true
   },
   "outputs": [],
   "source": []
  }
 ],
 "metadata": {
  "kernelspec": {
   "display_name": "Python 3",
   "language": "python",
   "name": "python3"
  },
  "language_info": {
   "codemirror_mode": {
    "name": "ipython",
    "version": 3
   },
   "file_extension": ".py",
   "mimetype": "text/x-python",
   "name": "python",
   "nbconvert_exporter": "python",
   "pygments_lexer": "ipython3",
   "version": "3.6.1"
  }
 },
 "nbformat": 4,
 "nbformat_minor": 2
}
