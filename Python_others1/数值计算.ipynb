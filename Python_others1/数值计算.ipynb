{
 "cells": [
  {
   "cell_type": "code",
   "execution_count": 4,
   "metadata": {},
   "outputs": [
    {
     "data": {
      "text/plain": [
       "array([ 1. ,  0.7,  0.8,  2.9])"
      ]
     },
     "execution_count": 4,
     "metadata": {},
     "output_type": "execute_result"
    }
   ],
   "source": [
    "import numpy as np\n",
    "\n",
    "x = np.array([1,0.7,0.8,2.9,1.1])\n",
    "#x[1:]\n",
    "x[:-1]"
   ]
  },
  {
   "cell_type": "code",
   "execution_count": 18,
   "metadata": {},
   "outputs": [
    {
     "data": {
      "text/plain": [
       "x**4/4 + 2*x**3/3 + x**2/2"
      ]
     },
     "execution_count": 18,
     "metadata": {},
     "output_type": "execute_result"
    }
   ],
   "source": [
    "import sympy\n",
    "import math\n",
    "from math import atan\n",
    "from math import sin\n",
    "from sympy import integrate\n",
    "\n",
    "x = sympy.Symbol('x')\n",
    "integrate(x**3 + 2*x**2 +x,x)"
   ]
  },
  {
   "cell_type": "code",
   "execution_count": 19,
   "metadata": {},
   "outputs": [
    {
     "ename": "TypeError",
     "evalue": "can't convert expression to float",
     "output_type": "error",
     "traceback": [
      "\u001b[1;31m---------------------------------------------------------------------------\u001b[0m",
      "\u001b[1;31mTypeError\u001b[0m                                 Traceback (most recent call last)",
      "\u001b[1;32m<ipython-input-19-996dddd859a4>\u001b[0m in \u001b[0;36m<module>\u001b[1;34m()\u001b[0m\n\u001b[1;32m----> 1\u001b[1;33m \u001b[0mintegrate\u001b[0m\u001b[1;33m(\u001b[0m\u001b[0msin\u001b[0m\u001b[1;33m(\u001b[0m\u001b[0mx\u001b[0m\u001b[1;33m)\u001b[0m\u001b[1;33m,\u001b[0m\u001b[0mx\u001b[0m\u001b[1;33m)\u001b[0m\u001b[1;33m\u001b[0m\u001b[0m\n\u001b[0m",
      "\u001b[1;32mC:\\ProgramData\\Anaconda3\\lib\\site-packages\\sympy\\core\\expr.py\u001b[0m in \u001b[0;36m__float__\u001b[1;34m(self)\u001b[0m\n\u001b[0;32m    224\u001b[0m         \u001b[1;32mif\u001b[0m \u001b[0mresult\u001b[0m\u001b[1;33m.\u001b[0m\u001b[0mis_number\u001b[0m \u001b[1;32mand\u001b[0m \u001b[0mresult\u001b[0m\u001b[1;33m.\u001b[0m\u001b[0mas_real_imag\u001b[0m\u001b[1;33m(\u001b[0m\u001b[1;33m)\u001b[0m\u001b[1;33m[\u001b[0m\u001b[1;36m1\u001b[0m\u001b[1;33m]\u001b[0m\u001b[1;33m:\u001b[0m\u001b[1;33m\u001b[0m\u001b[0m\n\u001b[0;32m    225\u001b[0m             \u001b[1;32mraise\u001b[0m \u001b[0mTypeError\u001b[0m\u001b[1;33m(\u001b[0m\u001b[1;34m\"can't convert complex to float\"\u001b[0m\u001b[1;33m)\u001b[0m\u001b[1;33m\u001b[0m\u001b[0m\n\u001b[1;32m--> 226\u001b[1;33m         \u001b[1;32mraise\u001b[0m \u001b[0mTypeError\u001b[0m\u001b[1;33m(\u001b[0m\u001b[1;34m\"can't convert expression to float\"\u001b[0m\u001b[1;33m)\u001b[0m\u001b[1;33m\u001b[0m\u001b[0m\n\u001b[0m\u001b[0;32m    227\u001b[0m \u001b[1;33m\u001b[0m\u001b[0m\n\u001b[0;32m    228\u001b[0m     \u001b[1;32mdef\u001b[0m \u001b[0m__complex__\u001b[0m\u001b[1;33m(\u001b[0m\u001b[0mself\u001b[0m\u001b[1;33m)\u001b[0m\u001b[1;33m:\u001b[0m\u001b[1;33m\u001b[0m\u001b[0m\n",
      "\u001b[1;31mTypeError\u001b[0m: can't convert expression to float"
     ]
    }
   ],
   "source": [
    "integrate(sin(x),x)"
   ]
  },
  {
   "cell_type": "code",
   "execution_count": 23,
   "metadata": {},
   "outputs": [
    {
     "name": "stdout",
     "output_type": "stream",
     "text": [
      "                  Open        High        Low      Close  Adj Close    Volume\n",
      "Date                                                                         \n",
      "2014-10-01  100.589996  100.690002  98.699997  99.180000  94.185295  51491300\n",
      "2014-10-02   99.269997  100.220001  98.040001  99.900002  94.869049  47757800\n",
      "2014-10-03   99.440002  100.209999  99.040001  99.620003  94.603149  43469600\n",
      "2014-10-06   99.949997  100.650002  99.419998  99.620003  94.603149  37051200\n",
      "2014-10-07   99.430000  100.120003  98.730003  98.750000  93.776962  42094200\n"
     ]
    }
   ],
   "source": [
    "import pandas as pd\n",
    "import datetime\n",
    "#import pandas.io.data\n",
    "from pandas_datareader import data\n",
    "\n",
    "start = datetime.datetime(2014,10,1)\n",
    "end = datetime.datetime(2015,1,31)\n",
    "\n",
    "apple = data.get_data_yahoo('AAPL',start,end)\n",
    "print(apple.head())"
   ]
  },
  {
   "cell_type": "code",
   "execution_count": 24,
   "metadata": {
    "collapsed": true
   },
   "outputs": [],
   "source": [
    "apple.to_csv('apple-data.csv')"
   ]
  },
  {
   "cell_type": "code",
   "execution_count": 26,
   "metadata": {},
   "outputs": [
    {
     "data": {
      "text/html": [
       "<div>\n",
       "<style>\n",
       "    .dataframe thead tr:only-child th {\n",
       "        text-align: right;\n",
       "    }\n",
       "\n",
       "    .dataframe thead th {\n",
       "        text-align: left;\n",
       "    }\n",
       "\n",
       "    .dataframe tbody tr th {\n",
       "        vertical-align: top;\n",
       "    }\n",
       "</style>\n",
       "<table border=\"1\" class=\"dataframe\">\n",
       "  <thead>\n",
       "    <tr style=\"text-align: right;\">\n",
       "      <th></th>\n",
       "      <th>Open</th>\n",
       "      <th>High</th>\n",
       "      <th>Low</th>\n",
       "      <th>Close</th>\n",
       "      <th>Adj Close</th>\n",
       "      <th>Volume</th>\n",
       "    </tr>\n",
       "    <tr>\n",
       "      <th>Date</th>\n",
       "      <th></th>\n",
       "      <th></th>\n",
       "      <th></th>\n",
       "      <th></th>\n",
       "      <th></th>\n",
       "      <th></th>\n",
       "    </tr>\n",
       "  </thead>\n",
       "  <tbody>\n",
       "    <tr>\n",
       "      <th>2014-10-01</th>\n",
       "      <td>100.589996</td>\n",
       "      <td>100.690002</td>\n",
       "      <td>98.699997</td>\n",
       "      <td>99.180000</td>\n",
       "      <td>94.185295</td>\n",
       "      <td>51491300</td>\n",
       "    </tr>\n",
       "    <tr>\n",
       "      <th>2014-10-02</th>\n",
       "      <td>99.269997</td>\n",
       "      <td>100.220001</td>\n",
       "      <td>98.040001</td>\n",
       "      <td>99.900002</td>\n",
       "      <td>94.869049</td>\n",
       "      <td>47757800</td>\n",
       "    </tr>\n",
       "    <tr>\n",
       "      <th>2014-10-03</th>\n",
       "      <td>99.440002</td>\n",
       "      <td>100.209999</td>\n",
       "      <td>99.040001</td>\n",
       "      <td>99.620003</td>\n",
       "      <td>94.603149</td>\n",
       "      <td>43469600</td>\n",
       "    </tr>\n",
       "    <tr>\n",
       "      <th>2014-10-06</th>\n",
       "      <td>99.949997</td>\n",
       "      <td>100.650002</td>\n",
       "      <td>99.419998</td>\n",
       "      <td>99.620003</td>\n",
       "      <td>94.603149</td>\n",
       "      <td>37051200</td>\n",
       "    </tr>\n",
       "    <tr>\n",
       "      <th>2014-10-07</th>\n",
       "      <td>99.430000</td>\n",
       "      <td>100.120003</td>\n",
       "      <td>98.730003</td>\n",
       "      <td>98.750000</td>\n",
       "      <td>93.776962</td>\n",
       "      <td>42094200</td>\n",
       "    </tr>\n",
       "    <tr>\n",
       "      <th>2014-10-08</th>\n",
       "      <td>98.760002</td>\n",
       "      <td>101.110001</td>\n",
       "      <td>98.309998</td>\n",
       "      <td>100.800003</td>\n",
       "      <td>95.723709</td>\n",
       "      <td>57404700</td>\n",
       "    </tr>\n",
       "    <tr>\n",
       "      <th>2014-10-09</th>\n",
       "      <td>101.540001</td>\n",
       "      <td>102.379997</td>\n",
       "      <td>100.610001</td>\n",
       "      <td>101.019997</td>\n",
       "      <td>95.932625</td>\n",
       "      <td>77376500</td>\n",
       "    </tr>\n",
       "    <tr>\n",
       "      <th>2014-10-10</th>\n",
       "      <td>100.690002</td>\n",
       "      <td>102.029999</td>\n",
       "      <td>100.300003</td>\n",
       "      <td>100.730003</td>\n",
       "      <td>95.657242</td>\n",
       "      <td>66331600</td>\n",
       "    </tr>\n",
       "    <tr>\n",
       "      <th>2014-10-13</th>\n",
       "      <td>101.330002</td>\n",
       "      <td>101.779999</td>\n",
       "      <td>99.809998</td>\n",
       "      <td>99.809998</td>\n",
       "      <td>94.783585</td>\n",
       "      <td>53583400</td>\n",
       "    </tr>\n",
       "    <tr>\n",
       "      <th>2014-10-14</th>\n",
       "      <td>100.389999</td>\n",
       "      <td>100.519997</td>\n",
       "      <td>98.570000</td>\n",
       "      <td>98.750000</td>\n",
       "      <td>93.776962</td>\n",
       "      <td>63688600</td>\n",
       "    </tr>\n",
       "  </tbody>\n",
       "</table>\n",
       "</div>"
      ],
      "text/plain": [
       "                  Open        High         Low       Close  Adj Close  \\\n",
       "Date                                                                    \n",
       "2014-10-01  100.589996  100.690002   98.699997   99.180000  94.185295   \n",
       "2014-10-02   99.269997  100.220001   98.040001   99.900002  94.869049   \n",
       "2014-10-03   99.440002  100.209999   99.040001   99.620003  94.603149   \n",
       "2014-10-06   99.949997  100.650002   99.419998   99.620003  94.603149   \n",
       "2014-10-07   99.430000  100.120003   98.730003   98.750000  93.776962   \n",
       "2014-10-08   98.760002  101.110001   98.309998  100.800003  95.723709   \n",
       "2014-10-09  101.540001  102.379997  100.610001  101.019997  95.932625   \n",
       "2014-10-10  100.690002  102.029999  100.300003  100.730003  95.657242   \n",
       "2014-10-13  101.330002  101.779999   99.809998   99.809998  94.783585   \n",
       "2014-10-14  100.389999  100.519997   98.570000   98.750000  93.776962   \n",
       "\n",
       "              Volume  \n",
       "Date                  \n",
       "2014-10-01  51491300  \n",
       "2014-10-02  47757800  \n",
       "2014-10-03  43469600  \n",
       "2014-10-06  37051200  \n",
       "2014-10-07  42094200  \n",
       "2014-10-08  57404700  \n",
       "2014-10-09  77376500  \n",
       "2014-10-10  66331600  \n",
       "2014-10-13  53583400  \n",
       "2014-10-14  63688600  "
      ]
     },
     "execution_count": 26,
     "metadata": {},
     "output_type": "execute_result"
    }
   ],
   "source": [
    "df = pd.read_csv('apple-data.csv',index_col = 'Date',parse_dates = True)\n",
    "df.head(10)"
   ]
  },
  {
   "cell_type": "code",
   "execution_count": 27,
   "metadata": {},
   "outputs": [
    {
     "name": "stderr",
     "output_type": "stream",
     "text": [
      "C:\\ProgramData\\Anaconda3\\lib\\site-packages\\ipykernel_launcher.py:6: FutureWarning: pd.rolling_mean is deprecated for Series and will be removed in a future version, replace with \n",
      "\tSeries.rolling(window=50,center=False).mean()\n",
      "  \n"
     ]
    },
    {
     "data": {
      "image/png": "[encoded data removed]",
      "text/plain": [
       "<matplotlib.figure.Figure at 0xc659dd8>"
      ]
     },
     "metadata": {},
     "output_type": "display_data"
    }
   ],
   "source": [
    "import pandas as pd\n",
    "import matplotlib.pyplot as plt\n",
    "\n",
    "df = pd.read_csv('apple-data.csv',index_col = 'Date',parse_dates=True)\n",
    "df['H-L'] = df.High - df.Low\n",
    "df['50MA'] = pd.rolling_mean(df['Close'],50)\n",
    "df[['Open','High','Low','Close','50MA']].plot()\n",
    "plt.show()"
   ]
  },
  {
   "cell_type": "code",
   "execution_count": 29,
   "metadata": {},
   "outputs": [],
   "source": [
    "#p73\n",
    "import numpy as np\n",
    "import numpy.ma as ma\n",
    "x = np.array([72,79,85,90,150,-135,120,-10,60,100])\n",
    "mx = ma.masked_array(x,mask = [0,0,0,0,0,1,0,1,0,0])\n",
    "mx2 = ma.masked_array(x,mask = x < 0)"
   ]
  },
  {
   "cell_type": "code",
   "execution_count": 30,
   "metadata": {},
   "outputs": [
    {
     "data": {
      "text/plain": [
       "masked_array(data = [72 79 85 90 150 -- 120 -- 60 100],\n",
       "             mask = [False False False False False  True False  True False False],\n",
       "       fill_value = 999999)"
      ]
     },
     "execution_count": 30,
     "metadata": {},
     "output_type": "execute_result"
    }
   ],
   "source": [
    "mx"
   ]
  },
  {
   "cell_type": "code",
   "execution_count": 31,
   "metadata": {},
   "outputs": [
    {
     "data": {
      "text/plain": [
       "masked_array(data = [72 79 85 90 150 -- 120 -- 60 100],\n",
       "             mask = [False False False False False  True False  True False False],\n",
       "       fill_value = 999999)"
      ]
     },
     "execution_count": 31,
     "metadata": {},
     "output_type": "execute_result"
    }
   ],
   "source": [
    "mx2"
   ]
  },
  {
   "cell_type": "code",
   "execution_count": 32,
   "metadata": {},
   "outputs": [
    {
     "data": {
      "text/plain": [
       "61.100000000000001"
      ]
     },
     "execution_count": 32,
     "metadata": {},
     "output_type": "execute_result"
    }
   ],
   "source": [
    "x.mean()"
   ]
  },
  {
   "cell_type": "code",
   "execution_count": 33,
   "metadata": {},
   "outputs": [
    {
     "data": {
      "text/plain": [
       "94.5"
      ]
     },
     "execution_count": 33,
     "metadata": {},
     "output_type": "execute_result"
    }
   ],
   "source": [
    "mx.mean()"
   ]
  },
  {
   "cell_type": "code",
   "execution_count": 34,
   "metadata": {},
   "outputs": [
    {
     "data": {
      "text/plain": [
       "94.5"
      ]
     },
     "execution_count": 34,
     "metadata": {},
     "output_type": "execute_result"
    }
   ],
   "source": [
    "mx2.mean()"
   ]
  },
  {
   "cell_type": "code",
   "execution_count": null,
   "metadata": {
    "collapsed": true
   },
   "outputs": [],
   "source": []
  }
 ],
 "metadata": {
  "kernelspec": {
   "display_name": "Python 3",
   "language": "python",
   "name": "python3"
  },
  "language_info": {
   "codemirror_mode": {
    "name": "ipython",
    "version": 3
   },
   "file_extension": ".py",
   "mimetype": "text/x-python",
   "name": "python",
   "nbconvert_exporter": "python",
   "pygments_lexer": "ipython3",
   "version": "3.6.1"
  }
 },
 "nbformat": 4,
 "nbformat_minor": 2
}
