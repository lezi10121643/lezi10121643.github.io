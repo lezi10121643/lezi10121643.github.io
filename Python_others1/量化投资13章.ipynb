{
 "cells": [
  {
   "cell_type": "code",
   "execution_count": 9,
   "metadata": {
    "collapsed": true
   },
   "outputs": [],
   "source": [
    "#p183\n",
    "import pandas as pd\n",
    "import matplotlib.pyplot as plt\n",
    "\n",
    "%matplotlib inline"
   ]
  },
  {
   "cell_type": "code",
   "execution_count": 10,
   "metadata": {
    "collapsed": true
   },
   "outputs": [],
   "source": [
    "returns = pd.read_csv('013/retdata.csv')"
   ]
  },
  {
   "cell_type": "code",
   "execution_count": 11,
   "metadata": {},
   "outputs": [
    {
     "data": {
      "text/html": [
       "<div>\n",
       "<style>\n",
       "    .dataframe thead tr:only-child th {\n",
       "        text-align: right;\n",
       "    }\n",
       "\n",
       "    .dataframe thead th {\n",
       "        text-align: left;\n",
       "    }\n",
       "\n",
       "    .dataframe tbody tr th {\n",
       "        vertical-align: top;\n",
       "    }\n",
       "</style>\n",
       "<table border=\"1\" class=\"dataframe\">\n",
       "  <thead>\n",
       "    <tr style=\"text-align: right;\">\n",
       "      <th></th>\n",
       "      <th>Unnamed: 0</th>\n",
       "      <th>date</th>\n",
       "      <th>gsyh</th>\n",
       "      <th>pfyh</th>\n",
       "      <th>zglt</th>\n",
       "    </tr>\n",
       "  </thead>\n",
       "  <tbody>\n",
       "    <tr>\n",
       "      <th>0</th>\n",
       "      <td>2014/1/3</td>\n",
       "      <td>2014/1/3</td>\n",
       "      <td>-0.005587</td>\n",
       "      <td>0.000000</td>\n",
       "      <td>-0.018576</td>\n",
       "    </tr>\n",
       "    <tr>\n",
       "      <th>1</th>\n",
       "      <td>2014/1/6</td>\n",
       "      <td>2014/1/6</td>\n",
       "      <td>-0.002809</td>\n",
       "      <td>0.005470</td>\n",
       "      <td>-0.028391</td>\n",
       "    </tr>\n",
       "    <tr>\n",
       "      <th>2</th>\n",
       "      <td>2014/1/7</td>\n",
       "      <td>2014/1/7</td>\n",
       "      <td>0.000000</td>\n",
       "      <td>-0.005441</td>\n",
       "      <td>0.003247</td>\n",
       "    </tr>\n",
       "    <tr>\n",
       "      <th>3</th>\n",
       "      <td>2014/1/8</td>\n",
       "      <td>2014/1/8</td>\n",
       "      <td>0.005634</td>\n",
       "      <td>0.006565</td>\n",
       "      <td>-0.012945</td>\n",
       "    </tr>\n",
       "    <tr>\n",
       "      <th>4</th>\n",
       "      <td>2014/1/9</td>\n",
       "      <td>2014/1/9</td>\n",
       "      <td>-0.011204</td>\n",
       "      <td>0.009783</td>\n",
       "      <td>-0.009836</td>\n",
       "    </tr>\n",
       "  </tbody>\n",
       "</table>\n",
       "</div>"
      ],
      "text/plain": [
       "  Unnamed: 0      date      gsyh      pfyh      zglt\n",
       "0   2014/1/3  2014/1/3 -0.005587  0.000000 -0.018576\n",
       "1   2014/1/6  2014/1/6 -0.002809  0.005470 -0.028391\n",
       "2   2014/1/7  2014/1/7  0.000000 -0.005441  0.003247\n",
       "3   2014/1/8  2014/1/8  0.005634  0.006565 -0.012945\n",
       "4   2014/1/9  2014/1/9 -0.011204  0.009783 -0.009836"
      ]
     },
     "execution_count": 11,
     "metadata": {},
     "output_type": "execute_result"
    }
   ],
   "source": [
    "returns.head()"
   ]
  },
  {
   "cell_type": "code",
   "execution_count": 12,
   "metadata": {
    "collapsed": true
   },
   "outputs": [],
   "source": [
    "gsyh = returns.gsyh"
   ]
  },
  {
   "cell_type": "code",
   "execution_count": 13,
   "metadata": {},
   "outputs": [
    {
     "data": {
      "text/plain": [
       "(array([   1.,    1.,    1.,    2.,   21.,  178.,   42.,    6.,    4.,    2.]),\n",
       " array([-0.09287257, -0.07609117, -0.05930977, -0.04252836, -0.02574696,\n",
       "        -0.00896556,  0.00781584,  0.02459725,  0.04137865,  0.05816005,\n",
       "         0.07494145]),\n",
       " <a list of 10 Patch objects>)"
      ]
     },
     "execution_count": 13,
     "metadata": {},
     "output_type": "execute_result"
    },
    {
     "data": {
      "image/png": "[encoded data removed]",
      "text/plain": [
       "<matplotlib.figure.Figure at 0x48002b0>"
      ]
     },
     "metadata": {},
     "output_type": "display_data"
    }
   ],
   "source": [
    "plt.hist(gsyh)#工商银行的收益率数据分析直方图"
   ]
  },
  {
   "cell_type": "code",
   "execution_count": 14,
   "metadata": {
    "collapsed": true
   },
   "outputs": [],
   "source": [
    "?plt.hist"
   ]
  },
  {
   "cell_type": "code",
   "execution_count": 16,
   "metadata": {},
   "outputs": [
    {
     "data": {
      "text/plain": [
       "0.001810969945736434"
      ]
     },
     "execution_count": 16,
     "metadata": {},
     "output_type": "execute_result"
    }
   ],
   "source": [
    "#求平均数\n",
    "returns.zglt.mean()"
   ]
  },
  {
   "cell_type": "code",
   "execution_count": 17,
   "metadata": {},
   "outputs": [
    {
     "data": {
      "text/plain": [
       "0.002264809317829458"
      ]
     },
     "execution_count": 17,
     "metadata": {},
     "output_type": "execute_result"
    }
   ],
   "source": [
    "returns.pfyh.mean()"
   ]
  },
  {
   "cell_type": "code",
   "execution_count": 19,
   "metadata": {},
   "outputs": [
    {
     "data": {
      "text/plain": [
       "0.0"
      ]
     },
     "execution_count": 19,
     "metadata": {},
     "output_type": "execute_result"
    }
   ],
   "source": [
    "#求中位数\n",
    "returns.zglt.median()"
   ]
  },
  {
   "cell_type": "code",
   "execution_count": 20,
   "metadata": {},
   "outputs": [
    {
     "data": {
      "text/plain": [
       "0.0"
      ]
     },
     "execution_count": 20,
     "metadata": {},
     "output_type": "execute_result"
    }
   ],
   "source": [
    "returns.pfyh.median()"
   ]
  },
  {
   "cell_type": "code",
   "execution_count": 21,
   "metadata": {},
   "outputs": [
    {
     "data": {
      "text/plain": [
       "0    0.0\n",
       "dtype: float64"
      ]
     },
     "execution_count": 21,
     "metadata": {},
     "output_type": "execute_result"
    }
   ],
   "source": [
    "#求众数,返回的Series，index和数据\n",
    "returns.zglt.mode()"
   ]
  },
  {
   "cell_type": "code",
   "execution_count": 22,
   "metadata": {},
   "outputs": [
    {
     "data": {
      "text/plain": [
       "0    0.0\n",
       "dtype: float64"
      ]
     },
     "execution_count": 22,
     "metadata": {},
     "output_type": "execute_result"
    }
   ],
   "source": [
    "returns.pfyh.mode()"
   ]
  },
  {
   "cell_type": "code",
   "execution_count": 23,
   "metadata": {},
   "outputs": [
    {
     "data": {
      "text/plain": [
       "[-0.006525337500000001, 0.008766644]"
      ]
     },
     "execution_count": 23,
     "metadata": {},
     "output_type": "execute_result"
    }
   ],
   "source": [
    "#中国联通股票的上下四分位数,使用quantile（）函数\n",
    "[returns.zglt.quantile(i) for i in [0.25,0.75]]"
   ]
  },
  {
   "cell_type": "code",
   "execution_count": 24,
   "metadata": {},
   "outputs": [
    {
     "data": {
      "text/plain": [
       "[-0.005472016, 0.009404664]"
      ]
     },
     "execution_count": 24,
     "metadata": {},
     "output_type": "execute_result"
    }
   ],
   "source": [
    "#浦发银行的股票上下四分位数\n",
    "[returns.pfyh.quantile(i) for i in [0.25,0.75]]"
   ]
  },
  {
   "cell_type": "code",
   "execution_count": 25,
   "metadata": {},
   "outputs": [
    {
     "data": {
      "text/plain": [
       "0.182285158"
      ]
     },
     "execution_count": 25,
     "metadata": {},
     "output_type": "execute_result"
    }
   ],
   "source": [
    "#中国联通收益率数据的离散程度衡量\n",
    "#求极差\n",
    "returns.zglt.max()-returns.zglt.min()"
   ]
  },
  {
   "cell_type": "code",
   "execution_count": 26,
   "metadata": {},
   "outputs": [
    {
     "data": {
      "text/plain": [
       "0.011888591205937145"
      ]
     },
     "execution_count": 26,
     "metadata": {},
     "output_type": "execute_result"
    }
   ],
   "source": [
    "#求平均绝对偏差\n",
    "returns.zglt.mad()"
   ]
  },
  {
   "cell_type": "code",
   "execution_count": 27,
   "metadata": {},
   "outputs": [
    {
     "data": {
      "text/plain": [
       "0.0003140948097641627"
      ]
     },
     "execution_count": 27,
     "metadata": {},
     "output_type": "execute_result"
    }
   ],
   "source": [
    "#求方差\n",
    "returns.zglt.var()"
   ]
  },
  {
   "cell_type": "code",
   "execution_count": 28,
   "metadata": {},
   "outputs": [
    {
     "data": {
      "text/plain": [
       "0.017722720157023378"
      ]
     },
     "execution_count": 28,
     "metadata": {},
     "output_type": "execute_result"
    }
   ],
   "source": [
    "#求标准差\n",
    "returns.zglt.std()"
   ]
  },
  {
   "cell_type": "code",
   "execution_count": 29,
   "metadata": {},
   "outputs": [
    {
     "data": {
      "text/plain": [
       "0.18410833900000001"
      ]
     },
     "execution_count": 29,
     "metadata": {},
     "output_type": "execute_result"
    }
   ],
   "source": [
    "#浦发银行价格数据的离散度衡量\n",
    "#求极差\n",
    "returns.pfyh.max()-returns.pfyh.min()"
   ]
  },
  {
   "cell_type": "code",
   "execution_count": 31,
   "metadata": {},
   "outputs": [
    {
     "data": {
      "text/plain": [
       "0.01186043079730785"
      ]
     },
     "execution_count": 31,
     "metadata": {},
     "output_type": "execute_result"
    }
   ],
   "source": [
    "#求平均绝对偏差\n",
    "returns.pfyh.mad()"
   ]
  },
  {
   "cell_type": "code",
   "execution_count": 32,
   "metadata": {},
   "outputs": [
    {
     "data": {
      "text/plain": [
       "0.0003411642985492069"
      ]
     },
     "execution_count": 32,
     "metadata": {},
     "output_type": "execute_result"
    }
   ],
   "source": [
    "#求方差\n",
    "returns.pfyh.var()"
   ]
  },
  {
   "cell_type": "code",
   "execution_count": 33,
   "metadata": {},
   "outputs": [
    {
     "data": {
      "text/plain": [
       "0.018470633409528946"
      ]
     },
     "execution_count": 33,
     "metadata": {},
     "output_type": "execute_result"
    }
   ],
   "source": [
    "returns.pfyh.std()"
   ]
  },
  {
   "cell_type": "code",
   "execution_count": null,
   "metadata": {
    "collapsed": true
   },
   "outputs": [],
   "source": [
    "#习题一"
   ]
  },
  {
   "cell_type": "code",
   "execution_count": 1,
   "metadata": {
    "collapsed": true
   },
   "outputs": [],
   "source": [
    "import pandas as pd\n",
    "import matplotlib.pyplot as plt\n",
    "\n",
    "%matplotlib inline"
   ]
  },
  {
   "cell_type": "code",
   "execution_count": 8,
   "metadata": {
    "collapsed": true
   },
   "outputs": [],
   "source": [
    "history = pd.read_csv('history.csv',index_col = 'Date')"
   ]
  },
  {
   "cell_type": "code",
   "execution_count": 9,
   "metadata": {},
   "outputs": [
    {
     "data": {
      "text/html": [
       "<div>\n",
       "<style>\n",
       "    .dataframe thead tr:only-child th {\n",
       "        text-align: right;\n",
       "    }\n",
       "\n",
       "    .dataframe thead th {\n",
       "        text-align: left;\n",
       "    }\n",
       "\n",
       "    .dataframe tbody tr th {\n",
       "        vertical-align: top;\n",
       "    }\n",
       "</style>\n",
       "<table border=\"1\" class=\"dataframe\">\n",
       "  <thead>\n",
       "    <tr style=\"text-align: right;\">\n",
       "      <th></th>\n",
       "      <th>Convertible.Arbitrage</th>\n",
       "      <th>CTA.Global</th>\n",
       "      <th>Distressed.Securities</th>\n",
       "      <th>Emerging.Markets</th>\n",
       "      <th>Equity.Market.Neutral</th>\n",
       "      <th>Event.Driven</th>\n",
       "      <th>Fixed.Income.Arbitrage</th>\n",
       "      <th>Global.Macro</th>\n",
       "      <th>Long.Short.Equity</th>\n",
       "      <th>Merger.Arbitrage</th>\n",
       "      <th>Relative.Value</th>\n",
       "      <th>Short.Selling</th>\n",
       "    </tr>\n",
       "    <tr>\n",
       "      <th>Date</th>\n",
       "      <th></th>\n",
       "      <th></th>\n",
       "      <th></th>\n",
       "      <th></th>\n",
       "      <th></th>\n",
       "      <th></th>\n",
       "      <th></th>\n",
       "      <th></th>\n",
       "      <th></th>\n",
       "      <th></th>\n",
       "      <th></th>\n",
       "      <th></th>\n",
       "    </tr>\n",
       "  </thead>\n",
       "  <tbody>\n",
       "    <tr>\n",
       "      <th>1997-01-31</th>\n",
       "      <td>0.0119</td>\n",
       "      <td>0.0393</td>\n",
       "      <td>0.0178</td>\n",
       "      <td>0.0791</td>\n",
       "      <td>0.0189</td>\n",
       "      <td>0.0213</td>\n",
       "      <td>0.0191</td>\n",
       "      <td>0.0573</td>\n",
       "      <td>0.0281</td>\n",
       "      <td>0.0150</td>\n",
       "      <td>0.0180</td>\n",
       "      <td>-0.0166</td>\n",
       "    </tr>\n",
       "    <tr>\n",
       "      <th>1997-02-28</th>\n",
       "      <td>0.0123</td>\n",
       "      <td>0.0298</td>\n",
       "      <td>0.0122</td>\n",
       "      <td>0.0525</td>\n",
       "      <td>0.0101</td>\n",
       "      <td>0.0084</td>\n",
       "      <td>0.0122</td>\n",
       "      <td>0.0175</td>\n",
       "      <td>-0.0006</td>\n",
       "      <td>0.0034</td>\n",
       "      <td>0.0118</td>\n",
       "      <td>0.0426</td>\n",
       "    </tr>\n",
       "    <tr>\n",
       "      <th>1997-03-31</th>\n",
       "      <td>0.0078</td>\n",
       "      <td>-0.0021</td>\n",
       "      <td>-0.0012</td>\n",
       "      <td>-0.0120</td>\n",
       "      <td>0.0016</td>\n",
       "      <td>-0.0023</td>\n",
       "      <td>0.0109</td>\n",
       "      <td>-0.0119</td>\n",
       "      <td>-0.0084</td>\n",
       "      <td>0.0060</td>\n",
       "      <td>0.0010</td>\n",
       "      <td>0.0778</td>\n",
       "    </tr>\n",
       "    <tr>\n",
       "      <th>1997-04-30</th>\n",
       "      <td>0.0086</td>\n",
       "      <td>-0.0170</td>\n",
       "      <td>0.0030</td>\n",
       "      <td>0.0119</td>\n",
       "      <td>0.0119</td>\n",
       "      <td>-0.0005</td>\n",
       "      <td>0.0130</td>\n",
       "      <td>0.0172</td>\n",
       "      <td>0.0084</td>\n",
       "      <td>-0.0001</td>\n",
       "      <td>0.0122</td>\n",
       "      <td>-0.0129</td>\n",
       "    </tr>\n",
       "    <tr>\n",
       "      <th>1997-05-31</th>\n",
       "      <td>0.0156</td>\n",
       "      <td>-0.0015</td>\n",
       "      <td>0.0233</td>\n",
       "      <td>0.0315</td>\n",
       "      <td>0.0189</td>\n",
       "      <td>0.0346</td>\n",
       "      <td>0.0118</td>\n",
       "      <td>0.0108</td>\n",
       "      <td>0.0394</td>\n",
       "      <td>0.0197</td>\n",
       "      <td>0.0173</td>\n",
       "      <td>-0.0737</td>\n",
       "    </tr>\n",
       "  </tbody>\n",
       "</table>\n",
       "</div>"
      ],
      "text/plain": [
       "            Convertible.Arbitrage  CTA.Global  Distressed.Securities  \\\n",
       "Date                                                                   \n",
       "1997-01-31                 0.0119      0.0393                 0.0178   \n",
       "1997-02-28                 0.0123      0.0298                 0.0122   \n",
       "1997-03-31                 0.0078     -0.0021                -0.0012   \n",
       "1997-04-30                 0.0086     -0.0170                 0.0030   \n",
       "1997-05-31                 0.0156     -0.0015                 0.0233   \n",
       "\n",
       "            Emerging.Markets  Equity.Market.Neutral  Event.Driven  \\\n",
       "Date                                                                \n",
       "1997-01-31            0.0791                 0.0189        0.0213   \n",
       "1997-02-28            0.0525                 0.0101        0.0084   \n",
       "1997-03-31           -0.0120                 0.0016       -0.0023   \n",
       "1997-04-30            0.0119                 0.0119       -0.0005   \n",
       "1997-05-31            0.0315                 0.0189        0.0346   \n",
       "\n",
       "            Fixed.Income.Arbitrage  Global.Macro  Long.Short.Equity  \\\n",
       "Date                                                                  \n",
       "1997-01-31                  0.0191        0.0573             0.0281   \n",
       "1997-02-28                  0.0122        0.0175            -0.0006   \n",
       "1997-03-31                  0.0109       -0.0119            -0.0084   \n",
       "1997-04-30                  0.0130        0.0172             0.0084   \n",
       "1997-05-31                  0.0118        0.0108             0.0394   \n",
       "\n",
       "            Merger.Arbitrage  Relative.Value  Short.Selling  \n",
       "Date                                                         \n",
       "1997-01-31            0.0150          0.0180        -0.0166  \n",
       "1997-02-28            0.0034          0.0118         0.0426  \n",
       "1997-03-31            0.0060          0.0010         0.0778  \n",
       "1997-04-30           -0.0001          0.0122        -0.0129  \n",
       "1997-05-31            0.0197          0.0173        -0.0737  "
      ]
     },
     "execution_count": 9,
     "metadata": {},
     "output_type": "execute_result"
    }
   ],
   "source": [
    "history.head()"
   ]
  },
  {
   "cell_type": "code",
   "execution_count": 10,
   "metadata": {
    "collapsed": true
   },
   "outputs": [],
   "source": [
    "history.index = pd.to_datetime(history.index,format='%Y-%m-%d')"
   ]
  },
  {
   "cell_type": "code",
   "execution_count": 13,
   "metadata": {},
   "outputs": [
    {
     "data": {
      "text/plain": [
       "0.008246052631578942"
      ]
     },
     "execution_count": 13,
     "metadata": {},
     "output_type": "execute_result"
    }
   ],
   "source": [
    "history['Emerging.Markets'].mean()"
   ]
  },
  {
   "cell_type": "code",
   "execution_count": 14,
   "metadata": {},
   "outputs": [
    {
     "data": {
      "text/plain": [
       "0.013649999999999999"
      ]
     },
     "execution_count": 14,
     "metadata": {},
     "output_type": "execute_result"
    }
   ],
   "source": [
    "history['Emerging.Markets'].median()"
   ]
  },
  {
   "cell_type": "code",
   "execution_count": 20,
   "metadata": {
    "collapsed": true
   },
   "outputs": [],
   "source": [
    "history['Emerging.Markets'].mode()#这不是求众数吧"
   ]
  },
  {
   "cell_type": "code",
   "execution_count": 16,
   "metadata": {},
   "outputs": [
    {
     "data": {
      "text/plain": [
       "0.1   -0.03844\n",
       "0.9    0.04798\n",
       "Name: Emerging.Markets, dtype: float64"
      ]
     },
     "execution_count": 16,
     "metadata": {},
     "output_type": "execute_result"
    }
   ],
   "source": [
    "history['Emerging.Markets'].quantile([0.1,0.9])"
   ]
  },
  {
   "cell_type": "code",
   "execution_count": 21,
   "metadata": {},
   "outputs": [
    {
     "data": {
      "text/plain": [
       "0.1328"
      ]
     },
     "execution_count": 21,
     "metadata": {},
     "output_type": "execute_result"
    }
   ],
   "source": [
    "history['Event.Driven'].max() - history['Event.Driven'].min()"
   ]
  },
  {
   "cell_type": "code",
   "execution_count": 22,
   "metadata": {},
   "outputs": [
    {
     "data": {
      "text/plain": [
       "0.012804657202216066"
      ]
     },
     "execution_count": 22,
     "metadata": {},
     "output_type": "execute_result"
    }
   ],
   "source": [
    "history['Event.Driven'].mad()"
   ]
  },
  {
   "cell_type": "code",
   "execution_count": 23,
   "metadata": {},
   "outputs": [
    {
     "data": {
      "text/plain": [
       "0.0003367398936911817"
      ]
     },
     "execution_count": 23,
     "metadata": {},
     "output_type": "execute_result"
    }
   ],
   "source": [
    "history['Event.Driven'].var()"
   ]
  },
  {
   "cell_type": "code",
   "execution_count": 24,
   "metadata": {},
   "outputs": [
    {
     "data": {
      "text/plain": [
       "0.01835047393641869"
      ]
     },
     "execution_count": 24,
     "metadata": {},
     "output_type": "execute_result"
    }
   ],
   "source": [
    "history['Event.Driven'].std()"
   ]
  },
  {
   "cell_type": "code",
   "execution_count": 25,
   "metadata": {},
   "outputs": [
    {
     "data": {
      "text/plain": [
       "<matplotlib.axes._subplots.AxesSubplot at 0xa07b438>"
      ]
     },
     "execution_count": 25,
     "metadata": {},
     "output_type": "execute_result"
    },
    {
     "data": {
      "image/png": "[encoded data removed]",
      "text/plain": [
       "<matplotlib.figure.Figure at 0xa07be10>"
      ]
     },
     "metadata": {},
     "output_type": "display_data"
    }
   ],
   "source": [
    "history[['Relative.Value','Fixed.Income.Arbitrage']].plot()#竟然可以这样画图"
   ]
  },
  {
   "cell_type": "code",
   "execution_count": 26,
   "metadata": {},
   "outputs": [
    {
     "data": {
      "text/plain": [
       "0.006701315789473684"
      ]
     },
     "execution_count": 26,
     "metadata": {},
     "output_type": "execute_result"
    }
   ],
   "source": [
    "history['Relative.Value'].mean() "
   ]
  },
  {
   "cell_type": "code",
   "execution_count": 27,
   "metadata": {},
   "outputs": [
    {
     "data": {
      "text/plain": [
       "0.004230921052631579"
      ]
     },
     "execution_count": 27,
     "metadata": {},
     "output_type": "execute_result"
    }
   ],
   "source": [
    "history['Fixed.Income.Arbitrage'].mean() "
   ]
  },
  {
   "cell_type": "code",
   "execution_count": 28,
   "metadata": {},
   "outputs": [
    {
     "data": {
      "text/plain": [
       "0.013194680780763099"
      ]
     },
     "execution_count": 28,
     "metadata": {},
     "output_type": "execute_result"
    }
   ],
   "source": [
    "history['Relative.Value'].std() "
   ]
  },
  {
   "cell_type": "code",
   "execution_count": 29,
   "metadata": {},
   "outputs": [
    {
     "data": {
      "text/plain": [
       "0.014171294713188022"
      ]
     },
     "execution_count": 29,
     "metadata": {},
     "output_type": "execute_result"
    }
   ],
   "source": [
    "history['Fixed.Income.Arbitrage'].std() "
   ]
  },
  {
   "cell_type": "code",
   "execution_count": 30,
   "metadata": {},
   "outputs": [
    {
     "data": {
      "text/html": [
       "<div>\n",
       "<style>\n",
       "    .dataframe thead tr:only-child th {\n",
       "        text-align: right;\n",
       "    }\n",
       "\n",
       "    .dataframe thead th {\n",
       "        text-align: left;\n",
       "    }\n",
       "\n",
       "    .dataframe tbody tr th {\n",
       "        vertical-align: top;\n",
       "    }\n",
       "</style>\n",
       "<table border=\"1\" class=\"dataframe\">\n",
       "  <thead>\n",
       "    <tr style=\"text-align: right;\">\n",
       "      <th></th>\n",
       "      <th>Convertible.Arbitrage</th>\n",
       "      <th>CTA.Global</th>\n",
       "      <th>Distressed.Securities</th>\n",
       "      <th>Emerging.Markets</th>\n",
       "      <th>Equity.Market.Neutral</th>\n",
       "      <th>Event.Driven</th>\n",
       "      <th>Fixed.Income.Arbitrage</th>\n",
       "      <th>Global.Macro</th>\n",
       "      <th>Long.Short.Equity</th>\n",
       "      <th>Merger.Arbitrage</th>\n",
       "      <th>Relative.Value</th>\n",
       "      <th>Short.Selling</th>\n",
       "    </tr>\n",
       "  </thead>\n",
       "  <tbody>\n",
       "    <tr>\n",
       "      <th>count</th>\n",
       "      <td>152.000000</td>\n",
       "      <td>152.000000</td>\n",
       "      <td>152.000000</td>\n",
       "      <td>152.000000</td>\n",
       "      <td>152.000000</td>\n",
       "      <td>152.000000</td>\n",
       "      <td>152.000000</td>\n",
       "      <td>152.000000</td>\n",
       "      <td>152.000000</td>\n",
       "      <td>152.000000</td>\n",
       "      <td>152.000000</td>\n",
       "      <td>152.000000</td>\n",
       "    </tr>\n",
       "    <tr>\n",
       "      <th>mean</th>\n",
       "      <td>0.006409</td>\n",
       "      <td>0.006489</td>\n",
       "      <td>0.007953</td>\n",
       "      <td>0.008246</td>\n",
       "      <td>0.006003</td>\n",
       "      <td>0.007622</td>\n",
       "      <td>0.004231</td>\n",
       "      <td>0.007672</td>\n",
       "      <td>0.007760</td>\n",
       "      <td>0.006785</td>\n",
       "      <td>0.006701</td>\n",
       "      <td>0.004161</td>\n",
       "    </tr>\n",
       "    <tr>\n",
       "      <th>std</th>\n",
       "      <td>0.020047</td>\n",
       "      <td>0.025131</td>\n",
       "      <td>0.018348</td>\n",
       "      <td>0.038571</td>\n",
       "      <td>0.009006</td>\n",
       "      <td>0.018350</td>\n",
       "      <td>0.014171</td>\n",
       "      <td>0.017020</td>\n",
       "      <td>0.022174</td>\n",
       "      <td>0.011168</td>\n",
       "      <td>0.013195</td>\n",
       "      <td>0.055099</td>\n",
       "    </tr>\n",
       "    <tr>\n",
       "      <th>min</th>\n",
       "      <td>-0.123700</td>\n",
       "      <td>-0.054300</td>\n",
       "      <td>-0.083600</td>\n",
       "      <td>-0.192200</td>\n",
       "      <td>-0.058700</td>\n",
       "      <td>-0.088600</td>\n",
       "      <td>-0.086700</td>\n",
       "      <td>-0.031300</td>\n",
       "      <td>-0.067500</td>\n",
       "      <td>-0.054400</td>\n",
       "      <td>-0.069200</td>\n",
       "      <td>-0.134000</td>\n",
       "    </tr>\n",
       "    <tr>\n",
       "      <th>25%</th>\n",
       "      <td>0.000925</td>\n",
       "      <td>-0.011500</td>\n",
       "      <td>-0.000175</td>\n",
       "      <td>-0.011400</td>\n",
       "      <td>0.002400</td>\n",
       "      <td>-0.000025</td>\n",
       "      <td>0.002275</td>\n",
       "      <td>-0.003600</td>\n",
       "      <td>-0.003700</td>\n",
       "      <td>0.001775</td>\n",
       "      <td>0.001850</td>\n",
       "      <td>-0.025450</td>\n",
       "    </tr>\n",
       "    <tr>\n",
       "      <th>50%</th>\n",
       "      <td>0.009200</td>\n",
       "      <td>0.005250</td>\n",
       "      <td>0.009700</td>\n",
       "      <td>0.013650</td>\n",
       "      <td>0.006300</td>\n",
       "      <td>0.010150</td>\n",
       "      <td>0.006000</td>\n",
       "      <td>0.006200</td>\n",
       "      <td>0.010150</td>\n",
       "      <td>0.007700</td>\n",
       "      <td>0.008450</td>\n",
       "      <td>-0.000200</td>\n",
       "    </tr>\n",
       "    <tr>\n",
       "      <th>75%</th>\n",
       "      <td>0.014600</td>\n",
       "      <td>0.022675</td>\n",
       "      <td>0.018225</td>\n",
       "      <td>0.028875</td>\n",
       "      <td>0.010125</td>\n",
       "      <td>0.018650</td>\n",
       "      <td>0.009950</td>\n",
       "      <td>0.016450</td>\n",
       "      <td>0.021450</td>\n",
       "      <td>0.013725</td>\n",
       "      <td>0.014500</td>\n",
       "      <td>0.035925</td>\n",
       "    </tr>\n",
       "    <tr>\n",
       "      <th>max</th>\n",
       "      <td>0.061100</td>\n",
       "      <td>0.069100</td>\n",
       "      <td>0.050400</td>\n",
       "      <td>0.123000</td>\n",
       "      <td>0.025300</td>\n",
       "      <td>0.044200</td>\n",
       "      <td>0.036500</td>\n",
       "      <td>0.073800</td>\n",
       "      <td>0.074500</td>\n",
       "      <td>0.027200</td>\n",
       "      <td>0.039200</td>\n",
       "      <td>0.246300</td>\n",
       "    </tr>\n",
       "  </tbody>\n",
       "</table>\n",
       "</div>"
      ],
      "text/plain": [
       "       Convertible.Arbitrage  CTA.Global  Distressed.Securities  \\\n",
       "count             152.000000  152.000000             152.000000   \n",
       "mean                0.006409    0.006489               0.007953   \n",
       "std                 0.020047    0.025131               0.018348   \n",
       "min                -0.123700   -0.054300              -0.083600   \n",
       "25%                 0.000925   -0.011500              -0.000175   \n",
       "50%                 0.009200    0.005250               0.009700   \n",
       "75%                 0.014600    0.022675               0.018225   \n",
       "max                 0.061100    0.069100               0.050400   \n",
       "\n",
       "       Emerging.Markets  Equity.Market.Neutral  Event.Driven  \\\n",
       "count        152.000000             152.000000    152.000000   \n",
       "mean           0.008246               0.006003      0.007622   \n",
       "std            0.038571               0.009006      0.018350   \n",
       "min           -0.192200              -0.058700     -0.088600   \n",
       "25%           -0.011400               0.002400     -0.000025   \n",
       "50%            0.013650               0.006300      0.010150   \n",
       "75%            0.028875               0.010125      0.018650   \n",
       "max            0.123000               0.025300      0.044200   \n",
       "\n",
       "       Fixed.Income.Arbitrage  Global.Macro  Long.Short.Equity  \\\n",
       "count              152.000000    152.000000         152.000000   \n",
       "mean                 0.004231      0.007672           0.007760   \n",
       "std                  0.014171      0.017020           0.022174   \n",
       "min                 -0.086700     -0.031300          -0.067500   \n",
       "25%                  0.002275     -0.003600          -0.003700   \n",
       "50%                  0.006000      0.006200           0.010150   \n",
       "75%                  0.009950      0.016450           0.021450   \n",
       "max                  0.036500      0.073800           0.074500   \n",
       "\n",
       "       Merger.Arbitrage  Relative.Value  Short.Selling  \n",
       "count        152.000000      152.000000     152.000000  \n",
       "mean           0.006785        0.006701       0.004161  \n",
       "std            0.011168        0.013195       0.055099  \n",
       "min           -0.054400       -0.069200      -0.134000  \n",
       "25%            0.001775        0.001850      -0.025450  \n",
       "50%            0.007700        0.008450      -0.000200  \n",
       "75%            0.013725        0.014500       0.035925  \n",
       "max            0.027200        0.039200       0.246300  "
      ]
     },
     "execution_count": 30,
     "metadata": {},
     "output_type": "execute_result"
    }
   ],
   "source": [
    "history.describe()"
   ]
  },
  {
   "cell_type": "code",
   "execution_count": null,
   "metadata": {
    "collapsed": true
   },
   "outputs": [],
   "source": [
    " "
   ]
  }
 ],
 "metadata": {
  "kernelspec": {
   "display_name": "Python 3",
   "language": "python",
   "name": "python3"
  },
  "language_info": {
   "codemirror_mode": {
    "name": "ipython",
    "version": 3
   },
   "file_extension": ".py",
   "mimetype": "text/x-python",
   "name": "python",
   "nbconvert_exporter": "python",
   "pygments_lexer": "ipython3",
   "version": "3.6.1"
  }
 },
 "nbformat": 4,
 "nbformat_minor": 2
}
