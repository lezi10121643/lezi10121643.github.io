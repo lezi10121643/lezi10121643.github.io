{
 "cells": [
  {
   "cell_type": "code",
   "execution_count": 2,
   "metadata": {},
   "outputs": [],
   "source": [
    "import threading#高级，建议使用"
   ]
  },
  {
   "cell_type": "code",
   "execution_count": 3,
   "metadata": {
    "collapsed": true
   },
   "outputs": [],
   "source": [
    "import _thread#低级，不建议使用"
   ]
  },
  {
   "cell_type": "code",
   "execution_count": 6,
   "metadata": {},
   "outputs": [
    {
     "name": "stdout",
     "output_type": "stream",
     "text": [
      "开始时间为:sleep2开始执行的时间是:sleep1开始执行的时间是:   Mon Nov 13 20:30:13 2017Mon Nov 13 20:30:13 2017Mon Nov 13 20:30:13 2017\n",
      "\n",
      "\n",
      "sleep1执行完的时间是： Mon Nov 13 20:30:16 2017\n",
      "sleep2执行完的时间是： Mon Nov 13 20:30:18 2017\n",
      "所有都完成时间是： Mon Nov 13 20:30:20 2017\n"
     ]
    }
   ],
   "source": [
    "import _thread\n",
    "from time import sleep,ctime\n",
    "\n",
    "def sleep1():\n",
    "    print('sleep1开始执行的时间是:',ctime())\n",
    "    sleep(3)\n",
    "    print('sleep1执行完的时间是：',ctime())\n",
    "    \n",
    "def sleep2():\n",
    "    print('sleep2开始执行的时间是:',ctime())\n",
    "    sleep(5)\n",
    "    print('sleep2执行完的时间是：',ctime())\n",
    "    \n",
    "def main():\n",
    "    print('开始时间为:',ctime())\n",
    "    _thread.start_new_thread(sleep1,())\n",
    "    _thread.start_new_thread(sleep2,())\n",
    "    sleep(7)\n",
    "    print('所有都完成时间是：',ctime())\n",
    "    \n",
    "if __name__ == '__main__':\n",
    "    main()"
   ]
  },
  {
   "cell_type": "code",
   "execution_count": 7,
   "metadata": {
    "collapsed": true
   },
   "outputs": [],
   "source": [
    "#开始时间为:sleep2开始执行的时间是:sleep1开始执行的时间是:\n",
    "\n",
    "#说明是并发执行的"
   ]
  },
  {
   "cell_type": "code",
   "execution_count": 9,
   "metadata": {},
   "outputs": [
    {
     "name": "stdout",
     "output_type": "stream",
     "text": [
      "开始时间为: Mon Nov 13 21:33:28 201701\n",
      "  开始执行的时间是:开始执行的时间是:  Mon Nov 13 21:33:28 2017Mon Nov 13 21:33:28 2017\n",
      "\n",
      "0 执行完的时间是： Mon Nov 13 21:33:31 2017\n",
      "1 执行完的时间是：所有都完成时间是：  Mon Nov 13 21:33:33 2017Mon Nov 13 21:33:33 2017\n",
      "\n"
     ]
    }
   ],
   "source": [
    "#使用线程和锁\n",
    "\n",
    "import _thread\n",
    "from time import sleep,ctime\n",
    "\n",
    "sleeps = [3,5]\n",
    "\n",
    "def sleeping(nsleep,nsec,lock):\n",
    "    print(nsleep,'开始执行的时间是:',ctime())\n",
    "    sleep(nsec)\n",
    "    print(nsleep,'执行完的时间是：',ctime())\n",
    "    lock.release()#释放锁，向主线程报告该线程执行完毕了\n",
    "    \n",
    "def main():\n",
    "    print('开始时间为:',ctime())\n",
    "    locks = []\n",
    "    nsleeps = range(len(sleeps))\n",
    "        \n",
    "    for i in nsleeps:\n",
    "        lock = _thread.allocate_lock()#得到锁对象\n",
    "        lock.acquire()#取得锁，相当于把锁锁上\n",
    "        locks.append(lock)##添加入锁的列表\n",
    "        \n",
    "    for i in nsleeps:#用于派生线程\n",
    "        _thread.start_new_thread(sleeping,(i,sleeps[i],locks[i]))#传递参数，包括用于该线程的锁\n",
    "        \n",
    "    for i in nsleeps:#等待（暂停主线程）\n",
    "        while locks[i].locked():\n",
    "            pass\n",
    "        \n",
    "    print('所有都完成时间是：',ctime())\n",
    "    \n",
    "if __name__ == '__main__':\n",
    "    main()"
   ]
  },
  {
   "cell_type": "code",
   "execution_count": null,
   "metadata": {
    "collapsed": true
   },
   "outputs": [],
   "source": [
    "#threading模块\n",
    "\n"
   ]
  }
 ],
 "metadata": {
  "kernelspec": {
   "display_name": "Python 3",
   "language": "python",
   "name": "python3"
  },
  "language_info": {
   "codemirror_mode": {
    "name": "ipython",
    "version": 3
   },
   "file_extension": ".py",
   "mimetype": "text/x-python",
   "name": "python",
   "nbconvert_exporter": "python",
   "pygments_lexer": "ipython3",
   "version": "3.6.1"
  }
 },
 "nbformat": 4,
 "nbformat_minor": 2
}
