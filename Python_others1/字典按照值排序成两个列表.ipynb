{
 "cells": [
  {
   "cell_type": "code",
   "execution_count": 13,
   "metadata": {
    "collapsed": false
   },
   "outputs": [
    {
     "name": "stdout",
     "output_type": "stream",
     "text": [
      "[1, 3, 5, 6, 7, 8]\n"
     ]
    }
   ],
   "source": [
    "_dict={'b':1,'f':7,'k':5,'s':8,'o':6,'a':3}\n",
    "\n",
    "key1=sorted(_dict.values())\n",
    "\n",
    "print(key1)\n",
    "\n"
   ]
  },
  {
   "cell_type": "code",
   "execution_count": 40,
   "metadata": {
    "collapsed": false
   },
   "outputs": [
    {
     "name": "stdout",
     "output_type": "stream",
     "text": [
      "['b', 'a', 'k', 'o', 'f', 's']\n",
      "[1, 3, 5, 6, 7, 8]\n"
     ]
    }
   ],
   "source": [
    "_dict={'b':1,'f':7,'k':5,'s':8,'o':6,'a':3}\n",
    "\n",
    "value2=[]\n",
    "\n",
    "key1=sorted(_dict.keys())\n",
    "\n",
    "#print(key1)\n",
    "for i in range(len(_dict)):\n",
    "    value1=_dict.get(key1[i], 'not found')\n",
    "    value2.append(value1)\n",
    "    \n",
    "key_sorted=[]\n",
    "value3=[]\n",
    "#print(value2)\n",
    "\n",
    "for j in range(len(value2)):\n",
    "    value2_min=min(value2)\n",
    "    index_min=value2.index(value2_min)\n",
    "    key_sorted.append(key1[index_min])\n",
    "    value3.append(value2_min)\n",
    "    value2.remove(value2_min)\n",
    "    key1.remove(key1[index_min])\n",
    "    \n",
    "\n",
    "print(key_sorted)\n",
    "print(value3)\n",
    "    \n",
    "\n",
    "    "
   ]
  },
  {
   "cell_type": "code",
   "execution_count": null,
   "metadata": {
    "collapsed": true
   },
   "outputs": [],
   "source": []
  }
 ],
 "metadata": {
  "anaconda-cloud": {},
  "kernelspec": {
   "display_name": "Python [Root]",
   "language": "python",
   "name": "Python [Root]"
  },
  "language_info": {
   "codemirror_mode": {
    "name": "ipython",
    "version": 3
   },
   "file_extension": ".py",
   "mimetype": "text/x-python",
   "name": "python",
   "nbconvert_exporter": "python",
   "pygments_lexer": "ipython3",
   "version": "3.5.2"
  }
 },
 "nbformat": 4,
 "nbformat_minor": 0
}
