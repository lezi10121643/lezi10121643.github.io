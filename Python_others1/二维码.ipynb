{
 "cells": [
  {
   "cell_type": "code",
   "execution_count": 10,
   "metadata": {
    "collapsed": true
   },
   "outputs": [],
   "source": [
    "from PIL import Image, ImageEnhance\n",
    "import matplotlib.pyplot as plt"
   ]
  },
  {
   "cell_type": "code",
   "execution_count": 11,
   "metadata": {
    "collapsed": false
   },
   "outputs": [],
   "source": [
    "# 读取二维码图片\n",
    "qrcode = Image.open('tang1.png').convert(\"RGBA\")"
   ]
  },
  {
   "cell_type": "code",
   "execution_count": 12,
   "metadata": {
    "collapsed": true
   },
   "outputs": [],
   "source": [
    "# 为方便处理，先将二维码转换为99x99的尺寸\n",
    "src_size = (qrcode.size[0], qrcode.size[1])\n",
    "qrcode = qrcode.resize((99, 99))"
   ]
  },
  {
   "cell_type": "code",
   "execution_count": 13,
   "metadata": {
    "collapsed": true
   },
   "outputs": [],
   "source": [
    "# 显示当前的二维码图片\n",
    "#plt.imshow(qrcode)\n",
    "#plt.show()"
   ]
  },
  {
   "cell_type": "code",
   "execution_count": 14,
   "metadata": {
    "collapsed": false
   },
   "outputs": [],
   "source": [
    "# 读取新的图片\n",
    "bg = Image.open('tang.png').convert(\"RGBA\")"
   ]
  },
  {
   "cell_type": "code",
   "execution_count": 15,
   "metadata": {
    "collapsed": true
   },
   "outputs": [],
   "source": [
    "# 显示转换成为的新图片\n",
    "#plt.imshow(bg)\n",
    "#plt.show()"
   ]
  },
  {
   "cell_type": "code",
   "execution_count": 16,
   "metadata": {
    "collapsed": true
   },
   "outputs": [],
   "source": [
    "# 将新的图片转换为合适的尺寸\n",
    "if bg.size[0] < bg.size[1]:\n",
    "    bg = bg.resize((qrcode.size[0]-24, (qrcode.size[0]-24)*int(bg.size[1]/bg.size[0])))\n",
    "else:\n",
    "    bg = bg.resize(((qrcode.size[1]-24)*int(bg.size[0]/bg.size[1]), qrcode.size[1]-24))"
   ]
  },
  {
   "cell_type": "code",
   "execution_count": 139,
   "metadata": {
    "collapsed": false
   },
   "outputs": [],
   "source": [
    "'''\n",
    "循环二维码图片中各个像素点\n",
    "其中三个定位图案和有效数据不能替换\n",
    "这里的坐标位置以本教程的二维码为例，如有不同，需要修改\n",
    "'''\n",
    "for i in range(qrcode.size[0]-24):\n",
    "    for j in range(qrcode.size[1]-24):\n",
    "        # 忽略左上角定位图案\n",
    "        if i<24 and j<24:\n",
    "            continue\n",
    "        # 忽略右上角定位图案\n",
    "        elif i<24 and j>qrcode.size[1]-49:\n",
    "            continue\n",
    "        # 忽略左下角定位图案\n",
    "        elif i>qrcode.size[0]-49 and j<24:\n",
    "            continue\n",
    "        elif i%3==1 and j%3==1:\n",
    "            continue\n",
    "        # 背景中透明的略不做处理\n",
    "        elif bg.getpixel((i,j))[3]==0:\n",
    "            continue\n",
    "        else:\n",
    "            # 用新图片上的像素替换原有二维码上\n",
    "            qrcode.putpixel((i+12,j+12), bg.getpixel((i,j)))"
   ]
  },
  {
   "cell_type": "code",
   "execution_count": 8,
   "metadata": {
    "collapsed": true
   },
   "outputs": [],
   "source": []
  },
  {
   "cell_type": "code",
   "execution_count": 17,
   "metadata": {
    "collapsed": false
   },
   "outputs": [],
   "source": [
    "'''\n",
    "循环二维码图片中各个像素点\n",
    "其中三个定位图案和有效数据不能替换\n",
    "这里的坐标位置以本教程的二维码为例，如有不同，需要修改version\n",
    "'''\n",
    "version = 5  # 二维码版本\n",
    "x = 12       # 二维码起始坐标x\n",
    "y = 12      # 二维码起始坐标y\n",
    "align_location = [\n",
    "    (6, 18), (6, 22), (6, 26), (6, 30), (6, 34), (6, 22, 38), (6, 24, 42), (6, 26, 46), (6, 28, 50), (6, 30, 54), (6, 32, 58), (6, 34, 62), (6, 26, 46, 66), (6, 26, 48, 70), (6, 26, 50, 74), (6, 30, 54, 78), (6, 30, 56, 82), (6, 30, 58, 86), (6, 34, 62, 90), (6, 28, 50, 72, 94), (6, 26, 50, 74, 98), (6, 30, 54, 78, 102), (6, 28, 54, 80, 106), (6, 32, 58, 84, 110), (6, 30, 58, 86, 114), (6, 34, 62, 90, 118), (6, 26, 50, 74, 98, 122), (6, 30, 54, 78, 102, 126), (6, 26, 52, 78, 104, 130), (6, 30, 56, 82, 108, 134), (6, 34, 60, 86, 112, 138), (6, 30, 58, 86, 114, 142), (6, 34, 62, 90, 118, 146), (6, 30, 54, 78, 102, 126, 150), (6, 24, 50, 76, 102, 128, 154), (6, 28, 54, 80, 106, 132, 158), (6, 32, 58, 84, 110, 136, 162), (6, 26, 54, 82, 110, 138, 166), (6, 30, 58, 86, 114, 142, 170)\n",
    "    ]\n",
    "\n",
    "ignore_points = []\n",
    "if version > 1:\n",
    "    location = align_location[version-2]\n",
    "    for a in range(len(location)):\n",
    "        for b in range(len(location)):\n",
    "            if not ((a==b==0) or (a==len(location)-1 and b==0) or (a==0 and b==len(location)-1)):\n",
    "                for i in range(3*(location[a]-2), 3*(location[a]+3)):\n",
    "                    for j in range(3*(location[b]-2), 3*(location[b]+3)):\n",
    "                        ignore_points.append((i,j))\n",
    "                      \n",
    "        \n",
    "for i in range(qrcode.size[0]-x*2):\n",
    "    for j in range(qrcode.size[1]-y*2):\n",
    "        # 忽略左上角定位图案\n",
    "        if i<24 and j<24: \n",
    "            continue\n",
    "        # 忽略右上角定位图案\n",
    "        elif i<24 and j>qrcode.size[1]-49: \n",
    "            continue\n",
    "        # 忽略左下角定位图案\n",
    "        elif i>qrcode.size[0]-49 and j<24: \n",
    "            continue\n",
    "        elif i%3==1 and j%3==1:\n",
    "            continue\n",
    "        # 背景中透明的略不做处理\n",
    "        elif bg.getpixel((i,j))[3]==0:\n",
    "            continue\n",
    "        elif (i,j) in ignore_points:\n",
    "            continue\n",
    "        else:\n",
    "            # 用新图片上的像素替换原有二维码上\n",
    "            qrcode.putpixel((i+x,j+y), bg.getpixel((i,j)))"
   ]
  },
  {
   "cell_type": "code",
   "execution_count": 18,
   "metadata": {
    "collapsed": true
   },
   "outputs": [],
   "source": [
    "# 显示新的二维码图片\n",
    "qrcode = qrcode.resize(src_size)\n",
    "plt.imshow(qrcode)\n",
    "plt.show()"
   ]
  },
  {
   "cell_type": "code",
   "execution_count": null,
   "metadata": {
    "collapsed": true
   },
   "outputs": [],
   "source": []
  }
 ],
 "metadata": {
  "kernelspec": {
   "display_name": "Python [Root]",
   "language": "python",
   "name": "Python [Root]"
  },
  "language_info": {
   "codemirror_mode": {
    "name": "ipython",
    "version": 3
   },
   "file_extension": ".py",
   "mimetype": "text/x-python",
   "name": "python",
   "nbconvert_exporter": "python",
   "pygments_lexer": "ipython3",
   "version": "3.5.2"
  }
 },
 "nbformat": 4,
 "nbformat_minor": 2
}
