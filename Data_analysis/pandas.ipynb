{
 "cells": [
  {
   "cell_type": "code",
   "execution_count": 3,
   "metadata": {
    "collapsed": false
   },
   "outputs": [],
   "source": [
    "import pandas as pd\n",
    "import numpy as np\n",
    "import matplotlib.pyplot as plt"
   ]
  },
  {
   "cell_type": "code",
   "execution_count": 4,
   "metadata": {
    "collapsed": false
   },
   "outputs": [
    {
     "data": {
      "text/plain": [
       "0    1.0\n",
       "1    3.0\n",
       "2    5.0\n",
       "3    NaN\n",
       "4    6.0\n",
       "5    8.0\n",
       "dtype: float64"
      ]
     },
     "execution_count": 4,
     "metadata": {},
     "output_type": "execute_result"
    }
   ],
   "source": [
    "s = pd.Series([1,3,5,np.nan,6,8])\n",
    "s"
   ]
  },
  {
   "cell_type": "code",
   "execution_count": 5,
   "metadata": {
    "collapsed": false
   },
   "outputs": [
    {
     "data": {
      "text/plain": [
       "DatetimeIndex(['2013-01-01', '2013-01-02', '2013-01-03', '2013-01-04',\n",
       "               '2013-01-05', '2013-01-06'],\n",
       "              dtype='datetime64[ns]', freq='D')"
      ]
     },
     "execution_count": 5,
     "metadata": {},
     "output_type": "execute_result"
    }
   ],
   "source": [
    "dates = pd.date_range('20130101', periods=6)\n",
    "dates"
   ]
  },
  {
   "cell_type": "code",
   "execution_count": 8,
   "metadata": {
    "collapsed": true
   },
   "outputs": [],
   "source": [
    "?pd.date_range()"
   ]
  },
  {
   "cell_type": "code",
   "execution_count": 14,
   "metadata": {
    "collapsed": false
   },
   "outputs": [
    {
     "ename": "SyntaxError",
     "evalue": "invalid character in identifier (<ipython-input-14-a0f3b2ba36f0>, line 1)",
     "output_type": "error",
     "traceback": [
      "\u001b[1;36m  File \u001b[1;32m\"<ipython-input-14-a0f3b2ba36f0>\"\u001b[1;36m, line \u001b[1;32m1\u001b[0m\n\u001b[1;33m    ？np.random.randn()\u001b[0m\n\u001b[1;37m      ^\u001b[0m\n\u001b[1;31mSyntaxError\u001b[0m\u001b[1;31m:\u001b[0m invalid character in identifier\n"
     ]
    }
   ],
   "source": [
    "？np.random.randn()"
   ]
  },
  {
   "cell_type": "code",
   "execution_count": 10,
   "metadata": {
    "collapsed": false
   },
   "outputs": [
    {
     "data": {
      "text/plain": [
       "array([[ 0.48418964, -1.33360249,  0.78064646, -0.84336132],\n",
       "       [ 0.58300669,  0.35554678, -0.59911867, -0.14809073],\n",
       "       [ 0.27252848,  0.39647109, -1.22276218,  0.51931753],\n",
       "       [ 0.12893036, -1.16119933, -0.06811322, -1.22117255],\n",
       "       [ 1.73022248, -0.56886396,  0.53239396,  2.29907938],\n",
       "       [ 0.81638921, -0.71546573, -0.77583938,  1.18167968]])"
      ]
     },
     "execution_count": 10,
     "metadata": {},
     "output_type": "execute_result"
    }
   ],
   "source": [
    "np.random.randn(6,4)"
   ]
  },
  {
   "cell_type": "code",
   "execution_count": 15,
   "metadata": {
    "collapsed": false
   },
   "outputs": [
    {
     "data": {
      "text/html": [
       "<div>\n",
       "<table border=\"1\" class=\"dataframe\">\n",
       "  <thead>\n",
       "    <tr style=\"text-align: right;\">\n",
       "      <th></th>\n",
       "      <th>A</th>\n",
       "      <th>B</th>\n",
       "      <th>C</th>\n",
       "      <th>D</th>\n",
       "    </tr>\n",
       "  </thead>\n",
       "  <tbody>\n",
       "    <tr>\n",
       "      <th>2013-01-01</th>\n",
       "      <td>0.820172</td>\n",
       "      <td>-1.079327</td>\n",
       "      <td>-0.746048</td>\n",
       "      <td>0.128264</td>\n",
       "    </tr>\n",
       "    <tr>\n",
       "      <th>2013-01-02</th>\n",
       "      <td>0.769919</td>\n",
       "      <td>-0.416604</td>\n",
       "      <td>-0.708283</td>\n",
       "      <td>-1.693401</td>\n",
       "    </tr>\n",
       "    <tr>\n",
       "      <th>2013-01-03</th>\n",
       "      <td>0.893954</td>\n",
       "      <td>-0.005648</td>\n",
       "      <td>-0.326244</td>\n",
       "      <td>-1.299952</td>\n",
       "    </tr>\n",
       "    <tr>\n",
       "      <th>2013-01-04</th>\n",
       "      <td>-0.532025</td>\n",
       "      <td>0.947193</td>\n",
       "      <td>-0.697866</td>\n",
       "      <td>-0.469677</td>\n",
       "    </tr>\n",
       "    <tr>\n",
       "      <th>2013-01-05</th>\n",
       "      <td>1.418827</td>\n",
       "      <td>-0.167978</td>\n",
       "      <td>0.846527</td>\n",
       "      <td>0.021155</td>\n",
       "    </tr>\n",
       "    <tr>\n",
       "      <th>2013-01-06</th>\n",
       "      <td>0.343169</td>\n",
       "      <td>0.833305</td>\n",
       "      <td>-0.743982</td>\n",
       "      <td>0.596846</td>\n",
       "    </tr>\n",
       "  </tbody>\n",
       "</table>\n",
       "</div>"
      ],
      "text/plain": [
       "                   A         B         C         D\n",
       "2013-01-01  0.820172 -1.079327 -0.746048  0.128264\n",
       "2013-01-02  0.769919 -0.416604 -0.708283 -1.693401\n",
       "2013-01-03  0.893954 -0.005648 -0.326244 -1.299952\n",
       "2013-01-04 -0.532025  0.947193 -0.697866 -0.469677\n",
       "2013-01-05  1.418827 -0.167978  0.846527  0.021155\n",
       "2013-01-06  0.343169  0.833305 -0.743982  0.596846"
      ]
     },
     "execution_count": 15,
     "metadata": {},
     "output_type": "execute_result"
    }
   ],
   "source": [
    "df = pd.DataFrame(np.random.randn(6,4), index=dates, columns=list('ABCD'))\n",
    "df"
   ]
  },
  {
   "cell_type": "code",
   "execution_count": 11,
   "metadata": {
    "collapsed": true
   },
   "outputs": [],
   "source": [
    "df2 = pd.DataFrame({ 'A' : 1.,\n",
    "                     'B' : pd.Timestamp('20130102'),\n",
    "                     'C' : pd.Series(1,index=list(range(4)),dtype='float32'),\n",
    "                     'D' : np.array([3] * 4,dtype='int32'),\n",
    "                     'E' : pd.Categorical([\"test\",\"train\",\"test\",\"train\"]),\n",
    "                     'F' : 'foo' })"
   ]
  },
  {
   "cell_type": "code",
   "execution_count": 12,
   "metadata": {
    "collapsed": false
   },
   "outputs": [
    {
     "data": {
      "text/html": [
       "<div>\n",
       "<table border=\"1\" class=\"dataframe\">\n",
       "  <thead>\n",
       "    <tr style=\"text-align: right;\">\n",
       "      <th></th>\n",
       "      <th>A</th>\n",
       "      <th>B</th>\n",
       "      <th>C</th>\n",
       "      <th>D</th>\n",
       "      <th>E</th>\n",
       "      <th>F</th>\n",
       "    </tr>\n",
       "  </thead>\n",
       "  <tbody>\n",
       "    <tr>\n",
       "      <th>0</th>\n",
       "      <td>1.0</td>\n",
       "      <td>2013-01-02</td>\n",
       "      <td>1.0</td>\n",
       "      <td>3</td>\n",
       "      <td>test</td>\n",
       "      <td>foo</td>\n",
       "    </tr>\n",
       "    <tr>\n",
       "      <th>1</th>\n",
       "      <td>1.0</td>\n",
       "      <td>2013-01-02</td>\n",
       "      <td>1.0</td>\n",
       "      <td>3</td>\n",
       "      <td>train</td>\n",
       "      <td>foo</td>\n",
       "    </tr>\n",
       "    <tr>\n",
       "      <th>2</th>\n",
       "      <td>1.0</td>\n",
       "      <td>2013-01-02</td>\n",
       "      <td>1.0</td>\n",
       "      <td>3</td>\n",
       "      <td>test</td>\n",
       "      <td>foo</td>\n",
       "    </tr>\n",
       "    <tr>\n",
       "      <th>3</th>\n",
       "      <td>1.0</td>\n",
       "      <td>2013-01-02</td>\n",
       "      <td>1.0</td>\n",
       "      <td>3</td>\n",
       "      <td>train</td>\n",
       "      <td>foo</td>\n",
       "    </tr>\n",
       "  </tbody>\n",
       "</table>\n",
       "</div>"
      ],
      "text/plain": [
       "     A          B    C  D      E    F\n",
       "0  1.0 2013-01-02  1.0  3   test  foo\n",
       "1  1.0 2013-01-02  1.0  3  train  foo\n",
       "2  1.0 2013-01-02  1.0  3   test  foo\n",
       "3  1.0 2013-01-02  1.0  3  train  foo"
      ]
     },
     "execution_count": 12,
     "metadata": {},
     "output_type": "execute_result"
    }
   ],
   "source": [
    "df2"
   ]
  },
  {
   "cell_type": "code",
   "execution_count": 16,
   "metadata": {
    "collapsed": false
   },
   "outputs": [
    {
     "data": {
      "text/plain": [
       "A           float64\n",
       "B    datetime64[ns]\n",
       "C           float32\n",
       "D             int32\n",
       "E          category\n",
       "F            object\n",
       "dtype: object"
      ]
     },
     "execution_count": 16,
     "metadata": {},
     "output_type": "execute_result"
    }
   ],
   "source": [
    "df2.dtypes"
   ]
  },
  {
   "cell_type": "code",
   "execution_count": 17,
   "metadata": {
    "collapsed": false
   },
   "outputs": [
    {
     "data": {
      "text/html": [
       "<div>\n",
       "<table border=\"1\" class=\"dataframe\">\n",
       "  <thead>\n",
       "    <tr style=\"text-align: right;\">\n",
       "      <th></th>\n",
       "      <th>A</th>\n",
       "      <th>B</th>\n",
       "      <th>C</th>\n",
       "      <th>D</th>\n",
       "    </tr>\n",
       "  </thead>\n",
       "  <tbody>\n",
       "    <tr>\n",
       "      <th>2013-01-01</th>\n",
       "      <td>0.820172</td>\n",
       "      <td>-1.079327</td>\n",
       "      <td>-0.746048</td>\n",
       "      <td>0.128264</td>\n",
       "    </tr>\n",
       "    <tr>\n",
       "      <th>2013-01-02</th>\n",
       "      <td>0.769919</td>\n",
       "      <td>-0.416604</td>\n",
       "      <td>-0.708283</td>\n",
       "      <td>-1.693401</td>\n",
       "    </tr>\n",
       "    <tr>\n",
       "      <th>2013-01-03</th>\n",
       "      <td>0.893954</td>\n",
       "      <td>-0.005648</td>\n",
       "      <td>-0.326244</td>\n",
       "      <td>-1.299952</td>\n",
       "    </tr>\n",
       "    <tr>\n",
       "      <th>2013-01-04</th>\n",
       "      <td>-0.532025</td>\n",
       "      <td>0.947193</td>\n",
       "      <td>-0.697866</td>\n",
       "      <td>-0.469677</td>\n",
       "    </tr>\n",
       "    <tr>\n",
       "      <th>2013-01-05</th>\n",
       "      <td>1.418827</td>\n",
       "      <td>-0.167978</td>\n",
       "      <td>0.846527</td>\n",
       "      <td>0.021155</td>\n",
       "    </tr>\n",
       "  </tbody>\n",
       "</table>\n",
       "</div>"
      ],
      "text/plain": [
       "                   A         B         C         D\n",
       "2013-01-01  0.820172 -1.079327 -0.746048  0.128264\n",
       "2013-01-02  0.769919 -0.416604 -0.708283 -1.693401\n",
       "2013-01-03  0.893954 -0.005648 -0.326244 -1.299952\n",
       "2013-01-04 -0.532025  0.947193 -0.697866 -0.469677\n",
       "2013-01-05  1.418827 -0.167978  0.846527  0.021155"
      ]
     },
     "execution_count": 17,
     "metadata": {},
     "output_type": "execute_result"
    }
   ],
   "source": [
    "df.head()"
   ]
  },
  {
   "cell_type": "code",
   "execution_count": 18,
   "metadata": {
    "collapsed": false
   },
   "outputs": [
    {
     "data": {
      "text/html": [
       "<div>\n",
       "<table border=\"1\" class=\"dataframe\">\n",
       "  <thead>\n",
       "    <tr style=\"text-align: right;\">\n",
       "      <th></th>\n",
       "      <th>A</th>\n",
       "      <th>B</th>\n",
       "      <th>C</th>\n",
       "      <th>D</th>\n",
       "    </tr>\n",
       "  </thead>\n",
       "  <tbody>\n",
       "    <tr>\n",
       "      <th>2013-01-02</th>\n",
       "      <td>0.769919</td>\n",
       "      <td>-0.416604</td>\n",
       "      <td>-0.708283</td>\n",
       "      <td>-1.693401</td>\n",
       "    </tr>\n",
       "    <tr>\n",
       "      <th>2013-01-03</th>\n",
       "      <td>0.893954</td>\n",
       "      <td>-0.005648</td>\n",
       "      <td>-0.326244</td>\n",
       "      <td>-1.299952</td>\n",
       "    </tr>\n",
       "    <tr>\n",
       "      <th>2013-01-04</th>\n",
       "      <td>-0.532025</td>\n",
       "      <td>0.947193</td>\n",
       "      <td>-0.697866</td>\n",
       "      <td>-0.469677</td>\n",
       "    </tr>\n",
       "    <tr>\n",
       "      <th>2013-01-05</th>\n",
       "      <td>1.418827</td>\n",
       "      <td>-0.167978</td>\n",
       "      <td>0.846527</td>\n",
       "      <td>0.021155</td>\n",
       "    </tr>\n",
       "    <tr>\n",
       "      <th>2013-01-06</th>\n",
       "      <td>0.343169</td>\n",
       "      <td>0.833305</td>\n",
       "      <td>-0.743982</td>\n",
       "      <td>0.596846</td>\n",
       "    </tr>\n",
       "  </tbody>\n",
       "</table>\n",
       "</div>"
      ],
      "text/plain": [
       "                   A         B         C         D\n",
       "2013-01-02  0.769919 -0.416604 -0.708283 -1.693401\n",
       "2013-01-03  0.893954 -0.005648 -0.326244 -1.299952\n",
       "2013-01-04 -0.532025  0.947193 -0.697866 -0.469677\n",
       "2013-01-05  1.418827 -0.167978  0.846527  0.021155\n",
       "2013-01-06  0.343169  0.833305 -0.743982  0.596846"
      ]
     },
     "execution_count": 18,
     "metadata": {},
     "output_type": "execute_result"
    }
   ],
   "source": [
    "df.tail()"
   ]
  },
  {
   "cell_type": "code",
   "execution_count": 19,
   "metadata": {
    "collapsed": false
   },
   "outputs": [
    {
     "data": {
      "text/html": [
       "<div>\n",
       "<table border=\"1\" class=\"dataframe\">\n",
       "  <thead>\n",
       "    <tr style=\"text-align: right;\">\n",
       "      <th></th>\n",
       "      <th>A</th>\n",
       "      <th>B</th>\n",
       "      <th>C</th>\n",
       "      <th>D</th>\n",
       "    </tr>\n",
       "  </thead>\n",
       "  <tbody>\n",
       "    <tr>\n",
       "      <th>2013-01-01</th>\n",
       "      <td>0.820172</td>\n",
       "      <td>-1.079327</td>\n",
       "      <td>-0.746048</td>\n",
       "      <td>0.128264</td>\n",
       "    </tr>\n",
       "    <tr>\n",
       "      <th>2013-01-02</th>\n",
       "      <td>0.769919</td>\n",
       "      <td>-0.416604</td>\n",
       "      <td>-0.708283</td>\n",
       "      <td>-1.693401</td>\n",
       "    </tr>\n",
       "    <tr>\n",
       "      <th>2013-01-03</th>\n",
       "      <td>0.893954</td>\n",
       "      <td>-0.005648</td>\n",
       "      <td>-0.326244</td>\n",
       "      <td>-1.299952</td>\n",
       "    </tr>\n",
       "  </tbody>\n",
       "</table>\n",
       "</div>"
      ],
      "text/plain": [
       "                   A         B         C         D\n",
       "2013-01-01  0.820172 -1.079327 -0.746048  0.128264\n",
       "2013-01-02  0.769919 -0.416604 -0.708283 -1.693401\n",
       "2013-01-03  0.893954 -0.005648 -0.326244 -1.299952"
      ]
     },
     "execution_count": 19,
     "metadata": {},
     "output_type": "execute_result"
    }
   ],
   "source": [
    "df.head(3)"
   ]
  },
  {
   "cell_type": "code",
   "execution_count": 20,
   "metadata": {
    "collapsed": false
   },
   "outputs": [
    {
     "data": {
      "text/plain": [
       "DatetimeIndex(['2013-01-01', '2013-01-02', '2013-01-03', '2013-01-04',\n",
       "               '2013-01-05', '2013-01-06'],\n",
       "              dtype='datetime64[ns]', freq='D')"
      ]
     },
     "execution_count": 20,
     "metadata": {},
     "output_type": "execute_result"
    }
   ],
   "source": [
    "df.index"
   ]
  },
  {
   "cell_type": "code",
   "execution_count": 21,
   "metadata": {
    "collapsed": false
   },
   "outputs": [
    {
     "data": {
      "text/plain": [
       "Index(['A', 'B', 'C', 'D'], dtype='object')"
      ]
     },
     "execution_count": 21,
     "metadata": {},
     "output_type": "execute_result"
    }
   ],
   "source": [
    "df.columns"
   ]
  },
  {
   "cell_type": "code",
   "execution_count": 22,
   "metadata": {
    "collapsed": false
   },
   "outputs": [
    {
     "data": {
      "text/plain": [
       "array([[ 0.82017236, -1.07932692, -0.74604753,  0.12826444],\n",
       "       [ 0.76991918, -0.41660426, -0.70828281, -1.69340058],\n",
       "       [ 0.89395375, -0.00564839, -0.32624421, -1.29995211],\n",
       "       [-0.53202535,  0.94719256, -0.69786602, -0.46967711],\n",
       "       [ 1.41882723, -0.16797808,  0.84652717,  0.02115491],\n",
       "       [ 0.34316866,  0.83330468, -0.74398153,  0.5968462 ]])"
      ]
     },
     "execution_count": 22,
     "metadata": {},
     "output_type": "execute_result"
    }
   ],
   "source": [
    "df.values"
   ]
  },
  {
   "cell_type": "code",
   "execution_count": 23,
   "metadata": {
    "collapsed": false
   },
   "outputs": [
    {
     "data": {
      "text/html": [
       "<div>\n",
       "<table border=\"1\" class=\"dataframe\">\n",
       "  <thead>\n",
       "    <tr style=\"text-align: right;\">\n",
       "      <th></th>\n",
       "      <th>A</th>\n",
       "      <th>B</th>\n",
       "      <th>C</th>\n",
       "      <th>D</th>\n",
       "    </tr>\n",
       "  </thead>\n",
       "  <tbody>\n",
       "    <tr>\n",
       "      <th>count</th>\n",
       "      <td>6.000000</td>\n",
       "      <td>6.000000</td>\n",
       "      <td>6.000000</td>\n",
       "      <td>6.000000</td>\n",
       "    </tr>\n",
       "    <tr>\n",
       "      <th>mean</th>\n",
       "      <td>0.619003</td>\n",
       "      <td>0.018490</td>\n",
       "      <td>-0.395982</td>\n",
       "      <td>-0.452794</td>\n",
       "    </tr>\n",
       "    <tr>\n",
       "      <th>std</th>\n",
       "      <td>0.660229</td>\n",
       "      <td>0.768931</td>\n",
       "      <td>0.629445</td>\n",
       "      <td>0.885558</td>\n",
       "    </tr>\n",
       "    <tr>\n",
       "      <th>min</th>\n",
       "      <td>-0.532025</td>\n",
       "      <td>-1.079327</td>\n",
       "      <td>-0.746048</td>\n",
       "      <td>-1.693401</td>\n",
       "    </tr>\n",
       "    <tr>\n",
       "      <th>25%</th>\n",
       "      <td>0.449856</td>\n",
       "      <td>-0.354448</td>\n",
       "      <td>-0.735057</td>\n",
       "      <td>-1.092383</td>\n",
       "    </tr>\n",
       "    <tr>\n",
       "      <th>50%</th>\n",
       "      <td>0.795046</td>\n",
       "      <td>-0.086813</td>\n",
       "      <td>-0.703074</td>\n",
       "      <td>-0.224261</td>\n",
       "    </tr>\n",
       "    <tr>\n",
       "      <th>75%</th>\n",
       "      <td>0.875508</td>\n",
       "      <td>0.623566</td>\n",
       "      <td>-0.419150</td>\n",
       "      <td>0.101487</td>\n",
       "    </tr>\n",
       "    <tr>\n",
       "      <th>max</th>\n",
       "      <td>1.418827</td>\n",
       "      <td>0.947193</td>\n",
       "      <td>0.846527</td>\n",
       "      <td>0.596846</td>\n",
       "    </tr>\n",
       "  </tbody>\n",
       "</table>\n",
       "</div>"
      ],
      "text/plain": [
       "              A         B         C         D\n",
       "count  6.000000  6.000000  6.000000  6.000000\n",
       "mean   0.619003  0.018490 -0.395982 -0.452794\n",
       "std    0.660229  0.768931  0.629445  0.885558\n",
       "min   -0.532025 -1.079327 -0.746048 -1.693401\n",
       "25%    0.449856 -0.354448 -0.735057 -1.092383\n",
       "50%    0.795046 -0.086813 -0.703074 -0.224261\n",
       "75%    0.875508  0.623566 -0.419150  0.101487\n",
       "max    1.418827  0.947193  0.846527  0.596846"
      ]
     },
     "execution_count": 23,
     "metadata": {},
     "output_type": "execute_result"
    }
   ],
   "source": [
    "df.describe()"
   ]
  },
  {
   "cell_type": "code",
   "execution_count": 24,
   "metadata": {
    "collapsed": false
   },
   "outputs": [
    {
     "data": {
      "text/html": [
       "<div>\n",
       "<table border=\"1\" class=\"dataframe\">\n",
       "  <thead>\n",
       "    <tr style=\"text-align: right;\">\n",
       "      <th></th>\n",
       "      <th>2013-01-01 00:00:00</th>\n",
       "      <th>2013-01-02 00:00:00</th>\n",
       "      <th>2013-01-03 00:00:00</th>\n",
       "      <th>2013-01-04 00:00:00</th>\n",
       "      <th>2013-01-05 00:00:00</th>\n",
       "      <th>2013-01-06 00:00:00</th>\n",
       "    </tr>\n",
       "  </thead>\n",
       "  <tbody>\n",
       "    <tr>\n",
       "      <th>A</th>\n",
       "      <td>0.820172</td>\n",
       "      <td>0.769919</td>\n",
       "      <td>0.893954</td>\n",
       "      <td>-0.532025</td>\n",
       "      <td>1.418827</td>\n",
       "      <td>0.343169</td>\n",
       "    </tr>\n",
       "    <tr>\n",
       "      <th>B</th>\n",
       "      <td>-1.079327</td>\n",
       "      <td>-0.416604</td>\n",
       "      <td>-0.005648</td>\n",
       "      <td>0.947193</td>\n",
       "      <td>-0.167978</td>\n",
       "      <td>0.833305</td>\n",
       "    </tr>\n",
       "    <tr>\n",
       "      <th>C</th>\n",
       "      <td>-0.746048</td>\n",
       "      <td>-0.708283</td>\n",
       "      <td>-0.326244</td>\n",
       "      <td>-0.697866</td>\n",
       "      <td>0.846527</td>\n",
       "      <td>-0.743982</td>\n",
       "    </tr>\n",
       "    <tr>\n",
       "      <th>D</th>\n",
       "      <td>0.128264</td>\n",
       "      <td>-1.693401</td>\n",
       "      <td>-1.299952</td>\n",
       "      <td>-0.469677</td>\n",
       "      <td>0.021155</td>\n",
       "      <td>0.596846</td>\n",
       "    </tr>\n",
       "  </tbody>\n",
       "</table>\n",
       "</div>"
      ],
      "text/plain": [
       "   2013-01-01  2013-01-02  2013-01-03  2013-01-04  2013-01-05  2013-01-06\n",
       "A    0.820172    0.769919    0.893954   -0.532025    1.418827    0.343169\n",
       "B   -1.079327   -0.416604   -0.005648    0.947193   -0.167978    0.833305\n",
       "C   -0.746048   -0.708283   -0.326244   -0.697866    0.846527   -0.743982\n",
       "D    0.128264   -1.693401   -1.299952   -0.469677    0.021155    0.596846"
      ]
     },
     "execution_count": 24,
     "metadata": {},
     "output_type": "execute_result"
    }
   ],
   "source": [
    "df.T"
   ]
  },
  {
   "cell_type": "code",
   "execution_count": 25,
   "metadata": {
    "collapsed": false
   },
   "outputs": [
    {
     "data": {
      "text/html": [
       "<div>\n",
       "<table border=\"1\" class=\"dataframe\">\n",
       "  <thead>\n",
       "    <tr style=\"text-align: right;\">\n",
       "      <th></th>\n",
       "      <th>D</th>\n",
       "      <th>C</th>\n",
       "      <th>B</th>\n",
       "      <th>A</th>\n",
       "    </tr>\n",
       "  </thead>\n",
       "  <tbody>\n",
       "    <tr>\n",
       "      <th>2013-01-01</th>\n",
       "      <td>0.128264</td>\n",
       "      <td>-0.746048</td>\n",
       "      <td>-1.079327</td>\n",
       "      <td>0.820172</td>\n",
       "    </tr>\n",
       "    <tr>\n",
       "      <th>2013-01-02</th>\n",
       "      <td>-1.693401</td>\n",
       "      <td>-0.708283</td>\n",
       "      <td>-0.416604</td>\n",
       "      <td>0.769919</td>\n",
       "    </tr>\n",
       "    <tr>\n",
       "      <th>2013-01-03</th>\n",
       "      <td>-1.299952</td>\n",
       "      <td>-0.326244</td>\n",
       "      <td>-0.005648</td>\n",
       "      <td>0.893954</td>\n",
       "    </tr>\n",
       "    <tr>\n",
       "      <th>2013-01-04</th>\n",
       "      <td>-0.469677</td>\n",
       "      <td>-0.697866</td>\n",
       "      <td>0.947193</td>\n",
       "      <td>-0.532025</td>\n",
       "    </tr>\n",
       "    <tr>\n",
       "      <th>2013-01-05</th>\n",
       "      <td>0.021155</td>\n",
       "      <td>0.846527</td>\n",
       "      <td>-0.167978</td>\n",
       "      <td>1.418827</td>\n",
       "    </tr>\n",
       "    <tr>\n",
       "      <th>2013-01-06</th>\n",
       "      <td>0.596846</td>\n",
       "      <td>-0.743982</td>\n",
       "      <td>0.833305</td>\n",
       "      <td>0.343169</td>\n",
       "    </tr>\n",
       "  </tbody>\n",
       "</table>\n",
       "</div>"
      ],
      "text/plain": [
       "                   D         C         B         A\n",
       "2013-01-01  0.128264 -0.746048 -1.079327  0.820172\n",
       "2013-01-02 -1.693401 -0.708283 -0.416604  0.769919\n",
       "2013-01-03 -1.299952 -0.326244 -0.005648  0.893954\n",
       "2013-01-04 -0.469677 -0.697866  0.947193 -0.532025\n",
       "2013-01-05  0.021155  0.846527 -0.167978  1.418827\n",
       "2013-01-06  0.596846 -0.743982  0.833305  0.343169"
      ]
     },
     "execution_count": 25,
     "metadata": {},
     "output_type": "execute_result"
    }
   ],
   "source": [
    "df.sort_index(axis=1, ascending=False)"
   ]
  },
  {
   "cell_type": "code",
   "execution_count": 28,
   "metadata": {
    "collapsed": true
   },
   "outputs": [],
   "source": [
    "?df.sort_index(axis=1, ascending=False)"
   ]
  },
  {
   "cell_type": "code",
   "execution_count": 27,
   "metadata": {
    "collapsed": false
   },
   "outputs": [
    {
     "data": {
      "text/html": [
       "<div>\n",
       "<table border=\"1\" class=\"dataframe\">\n",
       "  <thead>\n",
       "    <tr style=\"text-align: right;\">\n",
       "      <th></th>\n",
       "      <th>A</th>\n",
       "      <th>B</th>\n",
       "      <th>C</th>\n",
       "      <th>D</th>\n",
       "    </tr>\n",
       "  </thead>\n",
       "  <tbody>\n",
       "    <tr>\n",
       "      <th>2013-01-06</th>\n",
       "      <td>0.343169</td>\n",
       "      <td>0.833305</td>\n",
       "      <td>-0.743982</td>\n",
       "      <td>0.596846</td>\n",
       "    </tr>\n",
       "    <tr>\n",
       "      <th>2013-01-05</th>\n",
       "      <td>1.418827</td>\n",
       "      <td>-0.167978</td>\n",
       "      <td>0.846527</td>\n",
       "      <td>0.021155</td>\n",
       "    </tr>\n",
       "    <tr>\n",
       "      <th>2013-01-04</th>\n",
       "      <td>-0.532025</td>\n",
       "      <td>0.947193</td>\n",
       "      <td>-0.697866</td>\n",
       "      <td>-0.469677</td>\n",
       "    </tr>\n",
       "    <tr>\n",
       "      <th>2013-01-03</th>\n",
       "      <td>0.893954</td>\n",
       "      <td>-0.005648</td>\n",
       "      <td>-0.326244</td>\n",
       "      <td>-1.299952</td>\n",
       "    </tr>\n",
       "    <tr>\n",
       "      <th>2013-01-02</th>\n",
       "      <td>0.769919</td>\n",
       "      <td>-0.416604</td>\n",
       "      <td>-0.708283</td>\n",
       "      <td>-1.693401</td>\n",
       "    </tr>\n",
       "    <tr>\n",
       "      <th>2013-01-01</th>\n",
       "      <td>0.820172</td>\n",
       "      <td>-1.079327</td>\n",
       "      <td>-0.746048</td>\n",
       "      <td>0.128264</td>\n",
       "    </tr>\n",
       "  </tbody>\n",
       "</table>\n",
       "</div>"
      ],
      "text/plain": [
       "                   A         B         C         D\n",
       "2013-01-06  0.343169  0.833305 -0.743982  0.596846\n",
       "2013-01-05  1.418827 -0.167978  0.846527  0.021155\n",
       "2013-01-04 -0.532025  0.947193 -0.697866 -0.469677\n",
       "2013-01-03  0.893954 -0.005648 -0.326244 -1.299952\n",
       "2013-01-02  0.769919 -0.416604 -0.708283 -1.693401\n",
       "2013-01-01  0.820172 -1.079327 -0.746048  0.128264"
      ]
     },
     "execution_count": 27,
     "metadata": {},
     "output_type": "execute_result"
    }
   ],
   "source": [
    "df.sort_index(axis=0, ascending=False)"
   ]
  },
  {
   "cell_type": "code",
   "execution_count": 29,
   "metadata": {
    "collapsed": false
   },
   "outputs": [
    {
     "data": {
      "text/html": [
       "<div>\n",
       "<table border=\"1\" class=\"dataframe\">\n",
       "  <thead>\n",
       "    <tr style=\"text-align: right;\">\n",
       "      <th></th>\n",
       "      <th>A</th>\n",
       "      <th>B</th>\n",
       "      <th>C</th>\n",
       "      <th>D</th>\n",
       "    </tr>\n",
       "  </thead>\n",
       "  <tbody>\n",
       "    <tr>\n",
       "      <th>2013-01-01</th>\n",
       "      <td>0.820172</td>\n",
       "      <td>-1.079327</td>\n",
       "      <td>-0.746048</td>\n",
       "      <td>0.128264</td>\n",
       "    </tr>\n",
       "    <tr>\n",
       "      <th>2013-01-02</th>\n",
       "      <td>0.769919</td>\n",
       "      <td>-0.416604</td>\n",
       "      <td>-0.708283</td>\n",
       "      <td>-1.693401</td>\n",
       "    </tr>\n",
       "    <tr>\n",
       "      <th>2013-01-05</th>\n",
       "      <td>1.418827</td>\n",
       "      <td>-0.167978</td>\n",
       "      <td>0.846527</td>\n",
       "      <td>0.021155</td>\n",
       "    </tr>\n",
       "    <tr>\n",
       "      <th>2013-01-03</th>\n",
       "      <td>0.893954</td>\n",
       "      <td>-0.005648</td>\n",
       "      <td>-0.326244</td>\n",
       "      <td>-1.299952</td>\n",
       "    </tr>\n",
       "    <tr>\n",
       "      <th>2013-01-06</th>\n",
       "      <td>0.343169</td>\n",
       "      <td>0.833305</td>\n",
       "      <td>-0.743982</td>\n",
       "      <td>0.596846</td>\n",
       "    </tr>\n",
       "    <tr>\n",
       "      <th>2013-01-04</th>\n",
       "      <td>-0.532025</td>\n",
       "      <td>0.947193</td>\n",
       "      <td>-0.697866</td>\n",
       "      <td>-0.469677</td>\n",
       "    </tr>\n",
       "  </tbody>\n",
       "</table>\n",
       "</div>"
      ],
      "text/plain": [
       "                   A         B         C         D\n",
       "2013-01-01  0.820172 -1.079327 -0.746048  0.128264\n",
       "2013-01-02  0.769919 -0.416604 -0.708283 -1.693401\n",
       "2013-01-05  1.418827 -0.167978  0.846527  0.021155\n",
       "2013-01-03  0.893954 -0.005648 -0.326244 -1.299952\n",
       "2013-01-06  0.343169  0.833305 -0.743982  0.596846\n",
       "2013-01-04 -0.532025  0.947193 -0.697866 -0.469677"
      ]
     },
     "execution_count": 29,
     "metadata": {},
     "output_type": "execute_result"
    }
   ],
   "source": [
    "df.sort_values(by='B')"
   ]
  },
  {
   "cell_type": "code",
   "execution_count": 31,
   "metadata": {
    "collapsed": false
   },
   "outputs": [],
   "source": [
    "?df.sort_values(by='B')"
   ]
  },
  {
   "cell_type": "code",
   "execution_count": 32,
   "metadata": {
    "collapsed": false
   },
   "outputs": [
    {
     "data": {
      "text/plain": [
       "2013-01-01    0.820172\n",
       "2013-01-02    0.769919\n",
       "2013-01-03    0.893954\n",
       "2013-01-04   -0.532025\n",
       "2013-01-05    1.418827\n",
       "2013-01-06    0.343169\n",
       "Freq: D, Name: A, dtype: float64"
      ]
     },
     "execution_count": 32,
     "metadata": {},
     "output_type": "execute_result"
    }
   ],
   "source": [
    "df['A']"
   ]
  },
  {
   "cell_type": "code",
   "execution_count": 33,
   "metadata": {
    "collapsed": false
   },
   "outputs": [
    {
     "data": {
      "text/html": [
       "<div>\n",
       "<table border=\"1\" class=\"dataframe\">\n",
       "  <thead>\n",
       "    <tr style=\"text-align: right;\">\n",
       "      <th></th>\n",
       "      <th>A</th>\n",
       "      <th>B</th>\n",
       "      <th>C</th>\n",
       "      <th>D</th>\n",
       "    </tr>\n",
       "  </thead>\n",
       "  <tbody>\n",
       "    <tr>\n",
       "      <th>2013-01-01</th>\n",
       "      <td>0.820172</td>\n",
       "      <td>-1.079327</td>\n",
       "      <td>-0.746048</td>\n",
       "      <td>0.128264</td>\n",
       "    </tr>\n",
       "    <tr>\n",
       "      <th>2013-01-02</th>\n",
       "      <td>0.769919</td>\n",
       "      <td>-0.416604</td>\n",
       "      <td>-0.708283</td>\n",
       "      <td>-1.693401</td>\n",
       "    </tr>\n",
       "    <tr>\n",
       "      <th>2013-01-03</th>\n",
       "      <td>0.893954</td>\n",
       "      <td>-0.005648</td>\n",
       "      <td>-0.326244</td>\n",
       "      <td>-1.299952</td>\n",
       "    </tr>\n",
       "  </tbody>\n",
       "</table>\n",
       "</div>"
      ],
      "text/plain": [
       "                   A         B         C         D\n",
       "2013-01-01  0.820172 -1.079327 -0.746048  0.128264\n",
       "2013-01-02  0.769919 -0.416604 -0.708283 -1.693401\n",
       "2013-01-03  0.893954 -0.005648 -0.326244 -1.299952"
      ]
     },
     "execution_count": 33,
     "metadata": {},
     "output_type": "execute_result"
    }
   ],
   "source": [
    "df[0:3]"
   ]
  },
  {
   "cell_type": "code",
   "execution_count": 34,
   "metadata": {
    "collapsed": false
   },
   "outputs": [
    {
     "data": {
      "text/html": [
       "<div>\n",
       "<table border=\"1\" class=\"dataframe\">\n",
       "  <thead>\n",
       "    <tr style=\"text-align: right;\">\n",
       "      <th></th>\n",
       "      <th>A</th>\n",
       "      <th>B</th>\n",
       "      <th>C</th>\n",
       "      <th>D</th>\n",
       "    </tr>\n",
       "  </thead>\n",
       "  <tbody>\n",
       "    <tr>\n",
       "      <th>2013-01-02</th>\n",
       "      <td>0.769919</td>\n",
       "      <td>-0.416604</td>\n",
       "      <td>-0.708283</td>\n",
       "      <td>-1.693401</td>\n",
       "    </tr>\n",
       "    <tr>\n",
       "      <th>2013-01-03</th>\n",
       "      <td>0.893954</td>\n",
       "      <td>-0.005648</td>\n",
       "      <td>-0.326244</td>\n",
       "      <td>-1.299952</td>\n",
       "    </tr>\n",
       "    <tr>\n",
       "      <th>2013-01-04</th>\n",
       "      <td>-0.532025</td>\n",
       "      <td>0.947193</td>\n",
       "      <td>-0.697866</td>\n",
       "      <td>-0.469677</td>\n",
       "    </tr>\n",
       "  </tbody>\n",
       "</table>\n",
       "</div>"
      ],
      "text/plain": [
       "                   A         B         C         D\n",
       "2013-01-02  0.769919 -0.416604 -0.708283 -1.693401\n",
       "2013-01-03  0.893954 -0.005648 -0.326244 -1.299952\n",
       "2013-01-04 -0.532025  0.947193 -0.697866 -0.469677"
      ]
     },
     "execution_count": 34,
     "metadata": {},
     "output_type": "execute_result"
    }
   ],
   "source": [
    "df['20130102':'20130104']"
   ]
  },
  {
   "cell_type": "code",
   "execution_count": 35,
   "metadata": {
    "collapsed": false
   },
   "outputs": [
    {
     "data": {
      "text/plain": [
       "A    0.820172\n",
       "B   -1.079327\n",
       "C   -0.746048\n",
       "D    0.128264\n",
       "Name: 2013-01-01 00:00:00, dtype: float64"
      ]
     },
     "execution_count": 35,
     "metadata": {},
     "output_type": "execute_result"
    }
   ],
   "source": [
    "df.loc[dates[0]]"
   ]
  },
  {
   "cell_type": "code",
   "execution_count": 36,
   "metadata": {
    "collapsed": false
   },
   "outputs": [
    {
     "data": {
      "text/html": [
       "<div>\n",
       "<table border=\"1\" class=\"dataframe\">\n",
       "  <thead>\n",
       "    <tr style=\"text-align: right;\">\n",
       "      <th></th>\n",
       "      <th>A</th>\n",
       "      <th>B</th>\n",
       "    </tr>\n",
       "  </thead>\n",
       "  <tbody>\n",
       "    <tr>\n",
       "      <th>2013-01-01</th>\n",
       "      <td>0.820172</td>\n",
       "      <td>-1.079327</td>\n",
       "    </tr>\n",
       "    <tr>\n",
       "      <th>2013-01-02</th>\n",
       "      <td>0.769919</td>\n",
       "      <td>-0.416604</td>\n",
       "    </tr>\n",
       "    <tr>\n",
       "      <th>2013-01-03</th>\n",
       "      <td>0.893954</td>\n",
       "      <td>-0.005648</td>\n",
       "    </tr>\n",
       "    <tr>\n",
       "      <th>2013-01-04</th>\n",
       "      <td>-0.532025</td>\n",
       "      <td>0.947193</td>\n",
       "    </tr>\n",
       "    <tr>\n",
       "      <th>2013-01-05</th>\n",
       "      <td>1.418827</td>\n",
       "      <td>-0.167978</td>\n",
       "    </tr>\n",
       "    <tr>\n",
       "      <th>2013-01-06</th>\n",
       "      <td>0.343169</td>\n",
       "      <td>0.833305</td>\n",
       "    </tr>\n",
       "  </tbody>\n",
       "</table>\n",
       "</div>"
      ],
      "text/plain": [
       "                   A         B\n",
       "2013-01-01  0.820172 -1.079327\n",
       "2013-01-02  0.769919 -0.416604\n",
       "2013-01-03  0.893954 -0.005648\n",
       "2013-01-04 -0.532025  0.947193\n",
       "2013-01-05  1.418827 -0.167978\n",
       "2013-01-06  0.343169  0.833305"
      ]
     },
     "execution_count": 36,
     "metadata": {},
     "output_type": "execute_result"
    }
   ],
   "source": [
    "df.loc[:,['A','B']]"
   ]
  },
  {
   "cell_type": "code",
   "execution_count": 37,
   "metadata": {
    "collapsed": false
   },
   "outputs": [
    {
     "data": {
      "text/html": [
       "<div>\n",
       "<table border=\"1\" class=\"dataframe\">\n",
       "  <thead>\n",
       "    <tr style=\"text-align: right;\">\n",
       "      <th></th>\n",
       "      <th>A</th>\n",
       "      <th>B</th>\n",
       "    </tr>\n",
       "  </thead>\n",
       "  <tbody>\n",
       "    <tr>\n",
       "      <th>2013-01-02</th>\n",
       "      <td>0.769919</td>\n",
       "      <td>-0.416604</td>\n",
       "    </tr>\n",
       "    <tr>\n",
       "      <th>2013-01-03</th>\n",
       "      <td>0.893954</td>\n",
       "      <td>-0.005648</td>\n",
       "    </tr>\n",
       "    <tr>\n",
       "      <th>2013-01-04</th>\n",
       "      <td>-0.532025</td>\n",
       "      <td>0.947193</td>\n",
       "    </tr>\n",
       "  </tbody>\n",
       "</table>\n",
       "</div>"
      ],
      "text/plain": [
       "                   A         B\n",
       "2013-01-02  0.769919 -0.416604\n",
       "2013-01-03  0.893954 -0.005648\n",
       "2013-01-04 -0.532025  0.947193"
      ]
     },
     "execution_count": 37,
     "metadata": {},
     "output_type": "execute_result"
    }
   ],
   "source": [
    "df.loc['20130102':'20130104',['A','B']]"
   ]
  },
  {
   "cell_type": "code",
   "execution_count": 38,
   "metadata": {
    "collapsed": false
   },
   "outputs": [
    {
     "data": {
      "text/plain": [
       "A    0.769919\n",
       "B   -0.416604\n",
       "Name: 2013-01-02 00:00:00, dtype: float64"
      ]
     },
     "execution_count": 38,
     "metadata": {},
     "output_type": "execute_result"
    }
   ],
   "source": [
    "df.loc['20130102',['A','B']]"
   ]
  },
  {
   "cell_type": "code",
   "execution_count": 39,
   "metadata": {
    "collapsed": false
   },
   "outputs": [
    {
     "data": {
      "text/plain": [
       "0.82017236432754559"
      ]
     },
     "execution_count": 39,
     "metadata": {},
     "output_type": "execute_result"
    }
   ],
   "source": [
    "df.loc[dates[0],'A']"
   ]
  },
  {
   "cell_type": "code",
   "execution_count": 40,
   "metadata": {
    "collapsed": false
   },
   "outputs": [
    {
     "data": {
      "text/plain": [
       "A   -0.532025\n",
       "B    0.947193\n",
       "C   -0.697866\n",
       "D   -0.469677\n",
       "Name: 2013-01-04 00:00:00, dtype: float64"
      ]
     },
     "execution_count": 40,
     "metadata": {},
     "output_type": "execute_result"
    }
   ],
   "source": [
    "df.iloc[3]"
   ]
  },
  {
   "cell_type": "code",
   "execution_count": 41,
   "metadata": {
    "collapsed": false
   },
   "outputs": [
    {
     "data": {
      "text/html": [
       "<div>\n",
       "<table border=\"1\" class=\"dataframe\">\n",
       "  <thead>\n",
       "    <tr style=\"text-align: right;\">\n",
       "      <th></th>\n",
       "      <th>A</th>\n",
       "      <th>B</th>\n",
       "    </tr>\n",
       "  </thead>\n",
       "  <tbody>\n",
       "    <tr>\n",
       "      <th>2013-01-04</th>\n",
       "      <td>-0.532025</td>\n",
       "      <td>0.947193</td>\n",
       "    </tr>\n",
       "    <tr>\n",
       "      <th>2013-01-05</th>\n",
       "      <td>1.418827</td>\n",
       "      <td>-0.167978</td>\n",
       "    </tr>\n",
       "  </tbody>\n",
       "</table>\n",
       "</div>"
      ],
      "text/plain": [
       "                   A         B\n",
       "2013-01-04 -0.532025  0.947193\n",
       "2013-01-05  1.418827 -0.167978"
      ]
     },
     "execution_count": 41,
     "metadata": {},
     "output_type": "execute_result"
    }
   ],
   "source": [
    "df.iloc[3:5,0:2]"
   ]
  },
  {
   "cell_type": "code",
   "execution_count": 42,
   "metadata": {
    "collapsed": false
   },
   "outputs": [
    {
     "data": {
      "text/html": [
       "<div>\n",
       "<table border=\"1\" class=\"dataframe\">\n",
       "  <thead>\n",
       "    <tr style=\"text-align: right;\">\n",
       "      <th></th>\n",
       "      <th>A</th>\n",
       "      <th>C</th>\n",
       "    </tr>\n",
       "  </thead>\n",
       "  <tbody>\n",
       "    <tr>\n",
       "      <th>2013-01-02</th>\n",
       "      <td>0.769919</td>\n",
       "      <td>-0.708283</td>\n",
       "    </tr>\n",
       "    <tr>\n",
       "      <th>2013-01-03</th>\n",
       "      <td>0.893954</td>\n",
       "      <td>-0.326244</td>\n",
       "    </tr>\n",
       "    <tr>\n",
       "      <th>2013-01-05</th>\n",
       "      <td>1.418827</td>\n",
       "      <td>0.846527</td>\n",
       "    </tr>\n",
       "  </tbody>\n",
       "</table>\n",
       "</div>"
      ],
      "text/plain": [
       "                   A         C\n",
       "2013-01-02  0.769919 -0.708283\n",
       "2013-01-03  0.893954 -0.326244\n",
       "2013-01-05  1.418827  0.846527"
      ]
     },
     "execution_count": 42,
     "metadata": {},
     "output_type": "execute_result"
    }
   ],
   "source": [
    "df.iloc[[1,2,4],[0,2]]"
   ]
  },
  {
   "cell_type": "code",
   "execution_count": 43,
   "metadata": {
    "collapsed": false
   },
   "outputs": [
    {
     "data": {
      "text/html": [
       "<div>\n",
       "<table border=\"1\" class=\"dataframe\">\n",
       "  <thead>\n",
       "    <tr style=\"text-align: right;\">\n",
       "      <th></th>\n",
       "      <th>A</th>\n",
       "      <th>B</th>\n",
       "      <th>C</th>\n",
       "      <th>D</th>\n",
       "    </tr>\n",
       "  </thead>\n",
       "  <tbody>\n",
       "    <tr>\n",
       "      <th>2013-01-02</th>\n",
       "      <td>0.769919</td>\n",
       "      <td>-0.416604</td>\n",
       "      <td>-0.708283</td>\n",
       "      <td>-1.693401</td>\n",
       "    </tr>\n",
       "    <tr>\n",
       "      <th>2013-01-03</th>\n",
       "      <td>0.893954</td>\n",
       "      <td>-0.005648</td>\n",
       "      <td>-0.326244</td>\n",
       "      <td>-1.299952</td>\n",
       "    </tr>\n",
       "  </tbody>\n",
       "</table>\n",
       "</div>"
      ],
      "text/plain": [
       "                   A         B         C         D\n",
       "2013-01-02  0.769919 -0.416604 -0.708283 -1.693401\n",
       "2013-01-03  0.893954 -0.005648 -0.326244 -1.299952"
      ]
     },
     "execution_count": 43,
     "metadata": {},
     "output_type": "execute_result"
    }
   ],
   "source": [
    "df.iloc[1:3,:]"
   ]
  },
  {
   "cell_type": "code",
   "execution_count": 44,
   "metadata": {
    "collapsed": false
   },
   "outputs": [
    {
     "data": {
      "text/html": [
       "<div>\n",
       "<table border=\"1\" class=\"dataframe\">\n",
       "  <thead>\n",
       "    <tr style=\"text-align: right;\">\n",
       "      <th></th>\n",
       "      <th>B</th>\n",
       "      <th>C</th>\n",
       "    </tr>\n",
       "  </thead>\n",
       "  <tbody>\n",
       "    <tr>\n",
       "      <th>2013-01-01</th>\n",
       "      <td>-1.079327</td>\n",
       "      <td>-0.746048</td>\n",
       "    </tr>\n",
       "    <tr>\n",
       "      <th>2013-01-02</th>\n",
       "      <td>-0.416604</td>\n",
       "      <td>-0.708283</td>\n",
       "    </tr>\n",
       "    <tr>\n",
       "      <th>2013-01-03</th>\n",
       "      <td>-0.005648</td>\n",
       "      <td>-0.326244</td>\n",
       "    </tr>\n",
       "    <tr>\n",
       "      <th>2013-01-04</th>\n",
       "      <td>0.947193</td>\n",
       "      <td>-0.697866</td>\n",
       "    </tr>\n",
       "    <tr>\n",
       "      <th>2013-01-05</th>\n",
       "      <td>-0.167978</td>\n",
       "      <td>0.846527</td>\n",
       "    </tr>\n",
       "    <tr>\n",
       "      <th>2013-01-06</th>\n",
       "      <td>0.833305</td>\n",
       "      <td>-0.743982</td>\n",
       "    </tr>\n",
       "  </tbody>\n",
       "</table>\n",
       "</div>"
      ],
      "text/plain": [
       "                   B         C\n",
       "2013-01-01 -1.079327 -0.746048\n",
       "2013-01-02 -0.416604 -0.708283\n",
       "2013-01-03 -0.005648 -0.326244\n",
       "2013-01-04  0.947193 -0.697866\n",
       "2013-01-05 -0.167978  0.846527\n",
       "2013-01-06  0.833305 -0.743982"
      ]
     },
     "execution_count": 44,
     "metadata": {},
     "output_type": "execute_result"
    }
   ],
   "source": [
    "df.iloc[:,1:3]"
   ]
  },
  {
   "cell_type": "code",
   "execution_count": 45,
   "metadata": {
    "collapsed": false
   },
   "outputs": [
    {
     "data": {
      "text/plain": [
       "-0.41660425989175959"
      ]
     },
     "execution_count": 45,
     "metadata": {},
     "output_type": "execute_result"
    }
   ],
   "source": [
    "df.iloc[1,1]"
   ]
  },
  {
   "cell_type": "code",
   "execution_count": 46,
   "metadata": {
    "collapsed": false
   },
   "outputs": [
    {
     "data": {
      "text/plain": [
       "-0.41660425989175959"
      ]
     },
     "execution_count": 46,
     "metadata": {},
     "output_type": "execute_result"
    }
   ],
   "source": [
    "df.iat[1,1]"
   ]
  },
  {
   "cell_type": "code",
   "execution_count": 47,
   "metadata": {
    "collapsed": false
   },
   "outputs": [
    {
     "data": {
      "text/html": [
       "<div>\n",
       "<table border=\"1\" class=\"dataframe\">\n",
       "  <thead>\n",
       "    <tr style=\"text-align: right;\">\n",
       "      <th></th>\n",
       "      <th>A</th>\n",
       "      <th>B</th>\n",
       "      <th>C</th>\n",
       "      <th>D</th>\n",
       "    </tr>\n",
       "  </thead>\n",
       "  <tbody>\n",
       "    <tr>\n",
       "      <th>2013-01-01</th>\n",
       "      <td>0.820172</td>\n",
       "      <td>-1.079327</td>\n",
       "      <td>-0.746048</td>\n",
       "      <td>0.128264</td>\n",
       "    </tr>\n",
       "    <tr>\n",
       "      <th>2013-01-02</th>\n",
       "      <td>0.769919</td>\n",
       "      <td>-0.416604</td>\n",
       "      <td>-0.708283</td>\n",
       "      <td>-1.693401</td>\n",
       "    </tr>\n",
       "    <tr>\n",
       "      <th>2013-01-03</th>\n",
       "      <td>0.893954</td>\n",
       "      <td>-0.005648</td>\n",
       "      <td>-0.326244</td>\n",
       "      <td>-1.299952</td>\n",
       "    </tr>\n",
       "    <tr>\n",
       "      <th>2013-01-05</th>\n",
       "      <td>1.418827</td>\n",
       "      <td>-0.167978</td>\n",
       "      <td>0.846527</td>\n",
       "      <td>0.021155</td>\n",
       "    </tr>\n",
       "    <tr>\n",
       "      <th>2013-01-06</th>\n",
       "      <td>0.343169</td>\n",
       "      <td>0.833305</td>\n",
       "      <td>-0.743982</td>\n",
       "      <td>0.596846</td>\n",
       "    </tr>\n",
       "  </tbody>\n",
       "</table>\n",
       "</div>"
      ],
      "text/plain": [
       "                   A         B         C         D\n",
       "2013-01-01  0.820172 -1.079327 -0.746048  0.128264\n",
       "2013-01-02  0.769919 -0.416604 -0.708283 -1.693401\n",
       "2013-01-03  0.893954 -0.005648 -0.326244 -1.299952\n",
       "2013-01-05  1.418827 -0.167978  0.846527  0.021155\n",
       "2013-01-06  0.343169  0.833305 -0.743982  0.596846"
      ]
     },
     "execution_count": 47,
     "metadata": {},
     "output_type": "execute_result"
    }
   ],
   "source": [
    "df[df.A > 0]"
   ]
  },
  {
   "cell_type": "code",
   "execution_count": 48,
   "metadata": {
    "collapsed": false
   },
   "outputs": [
    {
     "data": {
      "text/html": [
       "<div>\n",
       "<table border=\"1\" class=\"dataframe\">\n",
       "  <thead>\n",
       "    <tr style=\"text-align: right;\">\n",
       "      <th></th>\n",
       "      <th>A</th>\n",
       "      <th>B</th>\n",
       "      <th>C</th>\n",
       "      <th>D</th>\n",
       "    </tr>\n",
       "  </thead>\n",
       "  <tbody>\n",
       "    <tr>\n",
       "      <th>2013-01-01</th>\n",
       "      <td>0.820172</td>\n",
       "      <td>NaN</td>\n",
       "      <td>NaN</td>\n",
       "      <td>0.128264</td>\n",
       "    </tr>\n",
       "    <tr>\n",
       "      <th>2013-01-02</th>\n",
       "      <td>0.769919</td>\n",
       "      <td>NaN</td>\n",
       "      <td>NaN</td>\n",
       "      <td>NaN</td>\n",
       "    </tr>\n",
       "    <tr>\n",
       "      <th>2013-01-03</th>\n",
       "      <td>0.893954</td>\n",
       "      <td>NaN</td>\n",
       "      <td>NaN</td>\n",
       "      <td>NaN</td>\n",
       "    </tr>\n",
       "    <tr>\n",
       "      <th>2013-01-04</th>\n",
       "      <td>NaN</td>\n",
       "      <td>0.947193</td>\n",
       "      <td>NaN</td>\n",
       "      <td>NaN</td>\n",
       "    </tr>\n",
       "    <tr>\n",
       "      <th>2013-01-05</th>\n",
       "      <td>1.418827</td>\n",
       "      <td>NaN</td>\n",
       "      <td>0.846527</td>\n",
       "      <td>0.021155</td>\n",
       "    </tr>\n",
       "    <tr>\n",
       "      <th>2013-01-06</th>\n",
       "      <td>0.343169</td>\n",
       "      <td>0.833305</td>\n",
       "      <td>NaN</td>\n",
       "      <td>0.596846</td>\n",
       "    </tr>\n",
       "  </tbody>\n",
       "</table>\n",
       "</div>"
      ],
      "text/plain": [
       "                   A         B         C         D\n",
       "2013-01-01  0.820172       NaN       NaN  0.128264\n",
       "2013-01-02  0.769919       NaN       NaN       NaN\n",
       "2013-01-03  0.893954       NaN       NaN       NaN\n",
       "2013-01-04       NaN  0.947193       NaN       NaN\n",
       "2013-01-05  1.418827       NaN  0.846527  0.021155\n",
       "2013-01-06  0.343169  0.833305       NaN  0.596846"
      ]
     },
     "execution_count": 48,
     "metadata": {},
     "output_type": "execute_result"
    }
   ],
   "source": [
    "df[df > 0]"
   ]
  },
  {
   "cell_type": "code",
   "execution_count": 49,
   "metadata": {
    "collapsed": true
   },
   "outputs": [],
   "source": [
    "df2 = df.copy()"
   ]
  },
  {
   "cell_type": "code",
   "execution_count": 50,
   "metadata": {
    "collapsed": true
   },
   "outputs": [],
   "source": [
    "df2['E'] = ['one', 'one','two','three','four','three']"
   ]
  },
  {
   "cell_type": "code",
   "execution_count": 51,
   "metadata": {
    "collapsed": false
   },
   "outputs": [
    {
     "data": {
      "text/html": [
       "<div>\n",
       "<table border=\"1\" class=\"dataframe\">\n",
       "  <thead>\n",
       "    <tr style=\"text-align: right;\">\n",
       "      <th></th>\n",
       "      <th>A</th>\n",
       "      <th>B</th>\n",
       "      <th>C</th>\n",
       "      <th>D</th>\n",
       "      <th>E</th>\n",
       "    </tr>\n",
       "  </thead>\n",
       "  <tbody>\n",
       "    <tr>\n",
       "      <th>2013-01-01</th>\n",
       "      <td>0.820172</td>\n",
       "      <td>-1.079327</td>\n",
       "      <td>-0.746048</td>\n",
       "      <td>0.128264</td>\n",
       "      <td>one</td>\n",
       "    </tr>\n",
       "    <tr>\n",
       "      <th>2013-01-02</th>\n",
       "      <td>0.769919</td>\n",
       "      <td>-0.416604</td>\n",
       "      <td>-0.708283</td>\n",
       "      <td>-1.693401</td>\n",
       "      <td>one</td>\n",
       "    </tr>\n",
       "    <tr>\n",
       "      <th>2013-01-03</th>\n",
       "      <td>0.893954</td>\n",
       "      <td>-0.005648</td>\n",
       "      <td>-0.326244</td>\n",
       "      <td>-1.299952</td>\n",
       "      <td>two</td>\n",
       "    </tr>\n",
       "    <tr>\n",
       "      <th>2013-01-04</th>\n",
       "      <td>-0.532025</td>\n",
       "      <td>0.947193</td>\n",
       "      <td>-0.697866</td>\n",
       "      <td>-0.469677</td>\n",
       "      <td>three</td>\n",
       "    </tr>\n",
       "    <tr>\n",
       "      <th>2013-01-05</th>\n",
       "      <td>1.418827</td>\n",
       "      <td>-0.167978</td>\n",
       "      <td>0.846527</td>\n",
       "      <td>0.021155</td>\n",
       "      <td>four</td>\n",
       "    </tr>\n",
       "    <tr>\n",
       "      <th>2013-01-06</th>\n",
       "      <td>0.343169</td>\n",
       "      <td>0.833305</td>\n",
       "      <td>-0.743982</td>\n",
       "      <td>0.596846</td>\n",
       "      <td>three</td>\n",
       "    </tr>\n",
       "  </tbody>\n",
       "</table>\n",
       "</div>"
      ],
      "text/plain": [
       "                   A         B         C         D      E\n",
       "2013-01-01  0.820172 -1.079327 -0.746048  0.128264    one\n",
       "2013-01-02  0.769919 -0.416604 -0.708283 -1.693401    one\n",
       "2013-01-03  0.893954 -0.005648 -0.326244 -1.299952    two\n",
       "2013-01-04 -0.532025  0.947193 -0.697866 -0.469677  three\n",
       "2013-01-05  1.418827 -0.167978  0.846527  0.021155   four\n",
       "2013-01-06  0.343169  0.833305 -0.743982  0.596846  three"
      ]
     },
     "execution_count": 51,
     "metadata": {},
     "output_type": "execute_result"
    }
   ],
   "source": [
    "df2"
   ]
  },
  {
   "cell_type": "code",
   "execution_count": 52,
   "metadata": {
    "collapsed": false
   },
   "outputs": [
    {
     "data": {
      "text/html": [
       "<div>\n",
       "<table border=\"1\" class=\"dataframe\">\n",
       "  <thead>\n",
       "    <tr style=\"text-align: right;\">\n",
       "      <th></th>\n",
       "      <th>A</th>\n",
       "      <th>B</th>\n",
       "      <th>C</th>\n",
       "      <th>D</th>\n",
       "      <th>E</th>\n",
       "    </tr>\n",
       "  </thead>\n",
       "  <tbody>\n",
       "    <tr>\n",
       "      <th>2013-01-03</th>\n",
       "      <td>0.893954</td>\n",
       "      <td>-0.005648</td>\n",
       "      <td>-0.326244</td>\n",
       "      <td>-1.299952</td>\n",
       "      <td>two</td>\n",
       "    </tr>\n",
       "    <tr>\n",
       "      <th>2013-01-05</th>\n",
       "      <td>1.418827</td>\n",
       "      <td>-0.167978</td>\n",
       "      <td>0.846527</td>\n",
       "      <td>0.021155</td>\n",
       "      <td>four</td>\n",
       "    </tr>\n",
       "  </tbody>\n",
       "</table>\n",
       "</div>"
      ],
      "text/plain": [
       "                   A         B         C         D     E\n",
       "2013-01-03  0.893954 -0.005648 -0.326244 -1.299952   two\n",
       "2013-01-05  1.418827 -0.167978  0.846527  0.021155  four"
      ]
     },
     "execution_count": 52,
     "metadata": {},
     "output_type": "execute_result"
    }
   ],
   "source": [
    "df2[df2['E'].isin(['two','four'])]"
   ]
  },
  {
   "cell_type": "code",
   "execution_count": 56,
   "metadata": {
    "collapsed": false
   },
   "outputs": [],
   "source": [
    "?df2.isin()"
   ]
  },
  {
   "cell_type": "code",
   "execution_count": 58,
   "metadata": {
    "collapsed": false
   },
   "outputs": [],
   "source": [
    "s1 = pd.Series([1,2,3,4,5,6], index=pd.date_range('20130102', periods=6))"
   ]
  },
  {
   "cell_type": "code",
   "execution_count": 59,
   "metadata": {
    "collapsed": false
   },
   "outputs": [
    {
     "data": {
      "text/plain": [
       "2013-01-02    1\n",
       "2013-01-03    2\n",
       "2013-01-04    3\n",
       "2013-01-05    4\n",
       "2013-01-06    5\n",
       "2013-01-07    6\n",
       "Freq: D, dtype: int64"
      ]
     },
     "execution_count": 59,
     "metadata": {},
     "output_type": "execute_result"
    }
   ],
   "source": [
    "s1"
   ]
  },
  {
   "cell_type": "code",
   "execution_count": 61,
   "metadata": {
    "collapsed": false
   },
   "outputs": [
    {
     "data": {
      "text/html": [
       "<div>\n",
       "<table border=\"1\" class=\"dataframe\">\n",
       "  <thead>\n",
       "    <tr style=\"text-align: right;\">\n",
       "      <th></th>\n",
       "      <th>A</th>\n",
       "      <th>B</th>\n",
       "      <th>C</th>\n",
       "      <th>D</th>\n",
       "      <th>F</th>\n",
       "    </tr>\n",
       "  </thead>\n",
       "  <tbody>\n",
       "    <tr>\n",
       "      <th>2013-01-01</th>\n",
       "      <td>0.820172</td>\n",
       "      <td>-1.079327</td>\n",
       "      <td>-0.746048</td>\n",
       "      <td>0.128264</td>\n",
       "      <td>NaN</td>\n",
       "    </tr>\n",
       "    <tr>\n",
       "      <th>2013-01-02</th>\n",
       "      <td>0.769919</td>\n",
       "      <td>-0.416604</td>\n",
       "      <td>-0.708283</td>\n",
       "      <td>-1.693401</td>\n",
       "      <td>1.0</td>\n",
       "    </tr>\n",
       "    <tr>\n",
       "      <th>2013-01-03</th>\n",
       "      <td>0.893954</td>\n",
       "      <td>-0.005648</td>\n",
       "      <td>-0.326244</td>\n",
       "      <td>-1.299952</td>\n",
       "      <td>2.0</td>\n",
       "    </tr>\n",
       "    <tr>\n",
       "      <th>2013-01-04</th>\n",
       "      <td>-0.532025</td>\n",
       "      <td>0.947193</td>\n",
       "      <td>-0.697866</td>\n",
       "      <td>-0.469677</td>\n",
       "      <td>3.0</td>\n",
       "    </tr>\n",
       "    <tr>\n",
       "      <th>2013-01-05</th>\n",
       "      <td>1.418827</td>\n",
       "      <td>-0.167978</td>\n",
       "      <td>0.846527</td>\n",
       "      <td>0.021155</td>\n",
       "      <td>4.0</td>\n",
       "    </tr>\n",
       "    <tr>\n",
       "      <th>2013-01-06</th>\n",
       "      <td>0.343169</td>\n",
       "      <td>0.833305</td>\n",
       "      <td>-0.743982</td>\n",
       "      <td>0.596846</td>\n",
       "      <td>5.0</td>\n",
       "    </tr>\n",
       "  </tbody>\n",
       "</table>\n",
       "</div>"
      ],
      "text/plain": [
       "                   A         B         C         D    F\n",
       "2013-01-01  0.820172 -1.079327 -0.746048  0.128264  NaN\n",
       "2013-01-02  0.769919 -0.416604 -0.708283 -1.693401  1.0\n",
       "2013-01-03  0.893954 -0.005648 -0.326244 -1.299952  2.0\n",
       "2013-01-04 -0.532025  0.947193 -0.697866 -0.469677  3.0\n",
       "2013-01-05  1.418827 -0.167978  0.846527  0.021155  4.0\n",
       "2013-01-06  0.343169  0.833305 -0.743982  0.596846  5.0"
      ]
     },
     "execution_count": 61,
     "metadata": {},
     "output_type": "execute_result"
    }
   ],
   "source": [
    "df['F'] = s1\n",
    "df"
   ]
  },
  {
   "cell_type": "code",
   "execution_count": 62,
   "metadata": {
    "collapsed": true
   },
   "outputs": [],
   "source": [
    "df.at[dates[0],'A'] = 0"
   ]
  },
  {
   "cell_type": "code",
   "execution_count": 63,
   "metadata": {
    "collapsed": false
   },
   "outputs": [
    {
     "data": {
      "text/html": [
       "<div>\n",
       "<table border=\"1\" class=\"dataframe\">\n",
       "  <thead>\n",
       "    <tr style=\"text-align: right;\">\n",
       "      <th></th>\n",
       "      <th>A</th>\n",
       "      <th>B</th>\n",
       "      <th>C</th>\n",
       "      <th>D</th>\n",
       "      <th>F</th>\n",
       "    </tr>\n",
       "  </thead>\n",
       "  <tbody>\n",
       "    <tr>\n",
       "      <th>2013-01-01</th>\n",
       "      <td>0.000000</td>\n",
       "      <td>-1.079327</td>\n",
       "      <td>-0.746048</td>\n",
       "      <td>0.128264</td>\n",
       "      <td>NaN</td>\n",
       "    </tr>\n",
       "    <tr>\n",
       "      <th>2013-01-02</th>\n",
       "      <td>0.769919</td>\n",
       "      <td>-0.416604</td>\n",
       "      <td>-0.708283</td>\n",
       "      <td>-1.693401</td>\n",
       "      <td>1.0</td>\n",
       "    </tr>\n",
       "    <tr>\n",
       "      <th>2013-01-03</th>\n",
       "      <td>0.893954</td>\n",
       "      <td>-0.005648</td>\n",
       "      <td>-0.326244</td>\n",
       "      <td>-1.299952</td>\n",
       "      <td>2.0</td>\n",
       "    </tr>\n",
       "    <tr>\n",
       "      <th>2013-01-04</th>\n",
       "      <td>-0.532025</td>\n",
       "      <td>0.947193</td>\n",
       "      <td>-0.697866</td>\n",
       "      <td>-0.469677</td>\n",
       "      <td>3.0</td>\n",
       "    </tr>\n",
       "    <tr>\n",
       "      <th>2013-01-05</th>\n",
       "      <td>1.418827</td>\n",
       "      <td>-0.167978</td>\n",
       "      <td>0.846527</td>\n",
       "      <td>0.021155</td>\n",
       "      <td>4.0</td>\n",
       "    </tr>\n",
       "    <tr>\n",
       "      <th>2013-01-06</th>\n",
       "      <td>0.343169</td>\n",
       "      <td>0.833305</td>\n",
       "      <td>-0.743982</td>\n",
       "      <td>0.596846</td>\n",
       "      <td>5.0</td>\n",
       "    </tr>\n",
       "  </tbody>\n",
       "</table>\n",
       "</div>"
      ],
      "text/plain": [
       "                   A         B         C         D    F\n",
       "2013-01-01  0.000000 -1.079327 -0.746048  0.128264  NaN\n",
       "2013-01-02  0.769919 -0.416604 -0.708283 -1.693401  1.0\n",
       "2013-01-03  0.893954 -0.005648 -0.326244 -1.299952  2.0\n",
       "2013-01-04 -0.532025  0.947193 -0.697866 -0.469677  3.0\n",
       "2013-01-05  1.418827 -0.167978  0.846527  0.021155  4.0\n",
       "2013-01-06  0.343169  0.833305 -0.743982  0.596846  5.0"
      ]
     },
     "execution_count": 63,
     "metadata": {},
     "output_type": "execute_result"
    }
   ],
   "source": [
    "df"
   ]
  },
  {
   "cell_type": "code",
   "execution_count": 70,
   "metadata": {
    "collapsed": false
   },
   "outputs": [
    {
     "data": {
      "text/html": [
       "<div>\n",
       "<table border=\"1\" class=\"dataframe\">\n",
       "  <thead>\n",
       "    <tr style=\"text-align: right;\">\n",
       "      <th></th>\n",
       "      <th>A</th>\n",
       "      <th>B</th>\n",
       "      <th>C</th>\n",
       "      <th>D</th>\n",
       "      <th>F</th>\n",
       "    </tr>\n",
       "  </thead>\n",
       "  <tbody>\n",
       "    <tr>\n",
       "      <th>2013-01-01</th>\n",
       "      <td>0.000000</td>\n",
       "      <td>-1.079327</td>\n",
       "      <td>-0.746048</td>\n",
       "      <td>5</td>\n",
       "      <td>NaN</td>\n",
       "    </tr>\n",
       "    <tr>\n",
       "      <th>2013-01-02</th>\n",
       "      <td>0.769919</td>\n",
       "      <td>-0.416604</td>\n",
       "      <td>-0.708283</td>\n",
       "      <td>5</td>\n",
       "      <td>1.0</td>\n",
       "    </tr>\n",
       "    <tr>\n",
       "      <th>2013-01-03</th>\n",
       "      <td>0.893954</td>\n",
       "      <td>-0.005648</td>\n",
       "      <td>-0.326244</td>\n",
       "      <td>5</td>\n",
       "      <td>2.0</td>\n",
       "    </tr>\n",
       "    <tr>\n",
       "      <th>2013-01-04</th>\n",
       "      <td>-0.532025</td>\n",
       "      <td>0.947193</td>\n",
       "      <td>-0.697866</td>\n",
       "      <td>5</td>\n",
       "      <td>3.0</td>\n",
       "    </tr>\n",
       "    <tr>\n",
       "      <th>2013-01-05</th>\n",
       "      <td>1.418827</td>\n",
       "      <td>-0.167978</td>\n",
       "      <td>0.846527</td>\n",
       "      <td>5</td>\n",
       "      <td>4.0</td>\n",
       "    </tr>\n",
       "    <tr>\n",
       "      <th>2013-01-06</th>\n",
       "      <td>0.343169</td>\n",
       "      <td>0.833305</td>\n",
       "      <td>-0.743982</td>\n",
       "      <td>5</td>\n",
       "      <td>5.0</td>\n",
       "    </tr>\n",
       "  </tbody>\n",
       "</table>\n",
       "</div>"
      ],
      "text/plain": [
       "                   A         B         C  D    F\n",
       "2013-01-01  0.000000 -1.079327 -0.746048  5  NaN\n",
       "2013-01-02  0.769919 -0.416604 -0.708283  5  1.0\n",
       "2013-01-03  0.893954 -0.005648 -0.326244  5  2.0\n",
       "2013-01-04 -0.532025  0.947193 -0.697866  5  3.0\n",
       "2013-01-05  1.418827 -0.167978  0.846527  5  4.0\n",
       "2013-01-06  0.343169  0.833305 -0.743982  5  5.0"
      ]
     },
     "execution_count": 70,
     "metadata": {},
     "output_type": "execute_result"
    }
   ],
   "source": [
    "df.loc[:,'D'] = np.array([5] * len(df))\n",
    "df"
   ]
  },
  {
   "cell_type": "code",
   "execution_count": 72,
   "metadata": {
    "collapsed": false
   },
   "outputs": [
    {
     "data": {
      "text/html": [
       "<div>\n",
       "<table border=\"1\" class=\"dataframe\">\n",
       "  <thead>\n",
       "    <tr style=\"text-align: right;\">\n",
       "      <th></th>\n",
       "      <th>A</th>\n",
       "      <th>B</th>\n",
       "      <th>C</th>\n",
       "      <th>D</th>\n",
       "      <th>F</th>\n",
       "    </tr>\n",
       "  </thead>\n",
       "  <tbody>\n",
       "    <tr>\n",
       "      <th>2013-01-01</th>\n",
       "      <td>0.000000</td>\n",
       "      <td>0.000000</td>\n",
       "      <td>-0.746048</td>\n",
       "      <td>5</td>\n",
       "      <td>NaN</td>\n",
       "    </tr>\n",
       "    <tr>\n",
       "      <th>2013-01-02</th>\n",
       "      <td>0.769919</td>\n",
       "      <td>-0.416604</td>\n",
       "      <td>-0.708283</td>\n",
       "      <td>5</td>\n",
       "      <td>1.0</td>\n",
       "    </tr>\n",
       "    <tr>\n",
       "      <th>2013-01-03</th>\n",
       "      <td>0.893954</td>\n",
       "      <td>-0.005648</td>\n",
       "      <td>-0.326244</td>\n",
       "      <td>5</td>\n",
       "      <td>2.0</td>\n",
       "    </tr>\n",
       "    <tr>\n",
       "      <th>2013-01-04</th>\n",
       "      <td>-0.532025</td>\n",
       "      <td>0.947193</td>\n",
       "      <td>-0.697866</td>\n",
       "      <td>5</td>\n",
       "      <td>3.0</td>\n",
       "    </tr>\n",
       "    <tr>\n",
       "      <th>2013-01-05</th>\n",
       "      <td>1.418827</td>\n",
       "      <td>-0.167978</td>\n",
       "      <td>0.846527</td>\n",
       "      <td>5</td>\n",
       "      <td>4.0</td>\n",
       "    </tr>\n",
       "    <tr>\n",
       "      <th>2013-01-06</th>\n",
       "      <td>0.343169</td>\n",
       "      <td>0.833305</td>\n",
       "      <td>-0.743982</td>\n",
       "      <td>5</td>\n",
       "      <td>5.0</td>\n",
       "    </tr>\n",
       "  </tbody>\n",
       "</table>\n",
       "</div>"
      ],
      "text/plain": [
       "                   A         B         C  D    F\n",
       "2013-01-01  0.000000  0.000000 -0.746048  5  NaN\n",
       "2013-01-02  0.769919 -0.416604 -0.708283  5  1.0\n",
       "2013-01-03  0.893954 -0.005648 -0.326244  5  2.0\n",
       "2013-01-04 -0.532025  0.947193 -0.697866  5  3.0\n",
       "2013-01-05  1.418827 -0.167978  0.846527  5  4.0\n",
       "2013-01-06  0.343169  0.833305 -0.743982  5  5.0"
      ]
     },
     "execution_count": 72,
     "metadata": {},
     "output_type": "execute_result"
    }
   ],
   "source": [
    "df.iat[0,1] = 0\n",
    "df"
   ]
  },
  {
   "cell_type": "code",
   "execution_count": 73,
   "metadata": {
    "collapsed": true
   },
   "outputs": [],
   "source": [
    "df2 = df.copy()"
   ]
  },
  {
   "cell_type": "code",
   "execution_count": 74,
   "metadata": {
    "collapsed": true
   },
   "outputs": [],
   "source": [
    "df2[df2 > 0] = -df2"
   ]
  },
  {
   "cell_type": "code",
   "execution_count": 76,
   "metadata": {
    "collapsed": false
   },
   "outputs": [
    {
     "data": {
      "text/html": [
       "<div>\n",
       "<table border=\"1\" class=\"dataframe\">\n",
       "  <thead>\n",
       "    <tr style=\"text-align: right;\">\n",
       "      <th></th>\n",
       "      <th>A</th>\n",
       "      <th>B</th>\n",
       "      <th>C</th>\n",
       "      <th>D</th>\n",
       "      <th>F</th>\n",
       "    </tr>\n",
       "  </thead>\n",
       "  <tbody>\n",
       "    <tr>\n",
       "      <th>2013-01-01</th>\n",
       "      <td>0.000000</td>\n",
       "      <td>0.000000</td>\n",
       "      <td>-0.746048</td>\n",
       "      <td>-5</td>\n",
       "      <td>NaN</td>\n",
       "    </tr>\n",
       "    <tr>\n",
       "      <th>2013-01-02</th>\n",
       "      <td>-0.769919</td>\n",
       "      <td>-0.416604</td>\n",
       "      <td>-0.708283</td>\n",
       "      <td>-5</td>\n",
       "      <td>-1.0</td>\n",
       "    </tr>\n",
       "    <tr>\n",
       "      <th>2013-01-03</th>\n",
       "      <td>-0.893954</td>\n",
       "      <td>-0.005648</td>\n",
       "      <td>-0.326244</td>\n",
       "      <td>-5</td>\n",
       "      <td>-2.0</td>\n",
       "    </tr>\n",
       "    <tr>\n",
       "      <th>2013-01-04</th>\n",
       "      <td>-0.532025</td>\n",
       "      <td>-0.947193</td>\n",
       "      <td>-0.697866</td>\n",
       "      <td>-5</td>\n",
       "      <td>-3.0</td>\n",
       "    </tr>\n",
       "    <tr>\n",
       "      <th>2013-01-05</th>\n",
       "      <td>-1.418827</td>\n",
       "      <td>-0.167978</td>\n",
       "      <td>-0.846527</td>\n",
       "      <td>-5</td>\n",
       "      <td>-4.0</td>\n",
       "    </tr>\n",
       "    <tr>\n",
       "      <th>2013-01-06</th>\n",
       "      <td>-0.343169</td>\n",
       "      <td>-0.833305</td>\n",
       "      <td>-0.743982</td>\n",
       "      <td>-5</td>\n",
       "      <td>-5.0</td>\n",
       "    </tr>\n",
       "  </tbody>\n",
       "</table>\n",
       "</div>"
      ],
      "text/plain": [
       "                   A         B         C  D    F\n",
       "2013-01-01  0.000000  0.000000 -0.746048 -5  NaN\n",
       "2013-01-02 -0.769919 -0.416604 -0.708283 -5 -1.0\n",
       "2013-01-03 -0.893954 -0.005648 -0.326244 -5 -2.0\n",
       "2013-01-04 -0.532025 -0.947193 -0.697866 -5 -3.0\n",
       "2013-01-05 -1.418827 -0.167978 -0.846527 -5 -4.0\n",
       "2013-01-06 -0.343169 -0.833305 -0.743982 -5 -5.0"
      ]
     },
     "execution_count": 76,
     "metadata": {},
     "output_type": "execute_result"
    }
   ],
   "source": [
    "df2"
   ]
  },
  {
   "cell_type": "code",
   "execution_count": 80,
   "metadata": {
    "collapsed": false
   },
   "outputs": [
    {
     "data": {
      "text/html": [
       "<div>\n",
       "<table border=\"1\" class=\"dataframe\">\n",
       "  <thead>\n",
       "    <tr style=\"text-align: right;\">\n",
       "      <th></th>\n",
       "      <th>A</th>\n",
       "      <th>B</th>\n",
       "      <th>C</th>\n",
       "      <th>D</th>\n",
       "    </tr>\n",
       "  </thead>\n",
       "  <tbody>\n",
       "    <tr>\n",
       "      <th>2013-01-01</th>\n",
       "      <td>-0.095724</td>\n",
       "      <td>0.017322</td>\n",
       "      <td>-0.781270</td>\n",
       "      <td>-0.317926</td>\n",
       "    </tr>\n",
       "    <tr>\n",
       "      <th>2013-01-02</th>\n",
       "      <td>1.745842</td>\n",
       "      <td>-0.762903</td>\n",
       "      <td>-1.201204</td>\n",
       "      <td>0.835294</td>\n",
       "    </tr>\n",
       "    <tr>\n",
       "      <th>2013-01-03</th>\n",
       "      <td>-0.442004</td>\n",
       "      <td>-0.957762</td>\n",
       "      <td>-0.738593</td>\n",
       "      <td>0.047658</td>\n",
       "    </tr>\n",
       "    <tr>\n",
       "      <th>2013-01-04</th>\n",
       "      <td>-0.989697</td>\n",
       "      <td>-0.317716</td>\n",
       "      <td>-0.134588</td>\n",
       "      <td>1.157574</td>\n",
       "    </tr>\n",
       "    <tr>\n",
       "      <th>2013-01-05</th>\n",
       "      <td>2.436063</td>\n",
       "      <td>0.958853</td>\n",
       "      <td>0.547654</td>\n",
       "      <td>-1.232073</td>\n",
       "    </tr>\n",
       "    <tr>\n",
       "      <th>2013-01-06</th>\n",
       "      <td>0.238935</td>\n",
       "      <td>-0.872099</td>\n",
       "      <td>0.007070</td>\n",
       "      <td>-0.272919</td>\n",
       "    </tr>\n",
       "  </tbody>\n",
       "</table>\n",
       "</div>"
      ],
      "text/plain": [
       "                   A         B         C         D\n",
       "2013-01-01 -0.095724  0.017322 -0.781270 -0.317926\n",
       "2013-01-02  1.745842 -0.762903 -1.201204  0.835294\n",
       "2013-01-03 -0.442004 -0.957762 -0.738593  0.047658\n",
       "2013-01-04 -0.989697 -0.317716 -0.134588  1.157574\n",
       "2013-01-05  2.436063  0.958853  0.547654 -1.232073\n",
       "2013-01-06  0.238935 -0.872099  0.007070 -0.272919"
      ]
     },
     "execution_count": 80,
     "metadata": {},
     "output_type": "execute_result"
    }
   ],
   "source": [
    "df = pd.DataFrame(np.random.randn(6,4), index=dates, columns=list('ABCD'))\n",
    "df"
   ]
  },
  {
   "cell_type": "code",
   "execution_count": 81,
   "metadata": {
    "collapsed": true
   },
   "outputs": [],
   "source": [
    "df1 = df.reindex(index=dates[0:4], columns=list(df.columns) + ['E'])"
   ]
  },
  {
   "cell_type": "code",
   "execution_count": 82,
   "metadata": {
    "collapsed": true
   },
   "outputs": [],
   "source": [
    "df1.loc[dates[0]:dates[1],'E'] = 1"
   ]
  },
  {
   "cell_type": "code",
   "execution_count": 83,
   "metadata": {
    "collapsed": false
   },
   "outputs": [
    {
     "data": {
      "text/html": [
       "<div>\n",
       "<table border=\"1\" class=\"dataframe\">\n",
       "  <thead>\n",
       "    <tr style=\"text-align: right;\">\n",
       "      <th></th>\n",
       "      <th>A</th>\n",
       "      <th>B</th>\n",
       "      <th>C</th>\n",
       "      <th>D</th>\n",
       "      <th>E</th>\n",
       "    </tr>\n",
       "  </thead>\n",
       "  <tbody>\n",
       "    <tr>\n",
       "      <th>2013-01-01</th>\n",
       "      <td>-0.095724</td>\n",
       "      <td>0.017322</td>\n",
       "      <td>-0.781270</td>\n",
       "      <td>-0.317926</td>\n",
       "      <td>1.0</td>\n",
       "    </tr>\n",
       "    <tr>\n",
       "      <th>2013-01-02</th>\n",
       "      <td>1.745842</td>\n",
       "      <td>-0.762903</td>\n",
       "      <td>-1.201204</td>\n",
       "      <td>0.835294</td>\n",
       "      <td>1.0</td>\n",
       "    </tr>\n",
       "    <tr>\n",
       "      <th>2013-01-03</th>\n",
       "      <td>-0.442004</td>\n",
       "      <td>-0.957762</td>\n",
       "      <td>-0.738593</td>\n",
       "      <td>0.047658</td>\n",
       "      <td>NaN</td>\n",
       "    </tr>\n",
       "    <tr>\n",
       "      <th>2013-01-04</th>\n",
       "      <td>-0.989697</td>\n",
       "      <td>-0.317716</td>\n",
       "      <td>-0.134588</td>\n",
       "      <td>1.157574</td>\n",
       "      <td>NaN</td>\n",
       "    </tr>\n",
       "  </tbody>\n",
       "</table>\n",
       "</div>"
      ],
      "text/plain": [
       "                   A         B         C         D    E\n",
       "2013-01-01 -0.095724  0.017322 -0.781270 -0.317926  1.0\n",
       "2013-01-02  1.745842 -0.762903 -1.201204  0.835294  1.0\n",
       "2013-01-03 -0.442004 -0.957762 -0.738593  0.047658  NaN\n",
       "2013-01-04 -0.989697 -0.317716 -0.134588  1.157574  NaN"
      ]
     },
     "execution_count": 83,
     "metadata": {},
     "output_type": "execute_result"
    }
   ],
   "source": [
    "df1"
   ]
  },
  {
   "cell_type": "code",
   "execution_count": 84,
   "metadata": {
    "collapsed": false
   },
   "outputs": [
    {
     "data": {
      "text/html": [
       "<div>\n",
       "<table border=\"1\" class=\"dataframe\">\n",
       "  <thead>\n",
       "    <tr style=\"text-align: right;\">\n",
       "      <th></th>\n",
       "      <th>A</th>\n",
       "      <th>B</th>\n",
       "      <th>C</th>\n",
       "      <th>D</th>\n",
       "      <th>E</th>\n",
       "    </tr>\n",
       "  </thead>\n",
       "  <tbody>\n",
       "    <tr>\n",
       "      <th>2013-01-01</th>\n",
       "      <td>-0.095724</td>\n",
       "      <td>0.017322</td>\n",
       "      <td>-0.781270</td>\n",
       "      <td>-0.317926</td>\n",
       "      <td>1.0</td>\n",
       "    </tr>\n",
       "    <tr>\n",
       "      <th>2013-01-02</th>\n",
       "      <td>1.745842</td>\n",
       "      <td>-0.762903</td>\n",
       "      <td>-1.201204</td>\n",
       "      <td>0.835294</td>\n",
       "      <td>1.0</td>\n",
       "    </tr>\n",
       "  </tbody>\n",
       "</table>\n",
       "</div>"
      ],
      "text/plain": [
       "                   A         B         C         D    E\n",
       "2013-01-01 -0.095724  0.017322 -0.781270 -0.317926  1.0\n",
       "2013-01-02  1.745842 -0.762903 -1.201204  0.835294  1.0"
      ]
     },
     "execution_count": 84,
     "metadata": {},
     "output_type": "execute_result"
    }
   ],
   "source": [
    "df1.dropna(how='any')"
   ]
  },
  {
   "cell_type": "code",
   "execution_count": 85,
   "metadata": {
    "collapsed": false
   },
   "outputs": [
    {
     "data": {
      "text/html": [
       "<div>\n",
       "<table border=\"1\" class=\"dataframe\">\n",
       "  <thead>\n",
       "    <tr style=\"text-align: right;\">\n",
       "      <th></th>\n",
       "      <th>A</th>\n",
       "      <th>B</th>\n",
       "      <th>C</th>\n",
       "      <th>D</th>\n",
       "      <th>E</th>\n",
       "    </tr>\n",
       "  </thead>\n",
       "  <tbody>\n",
       "    <tr>\n",
       "      <th>2013-01-01</th>\n",
       "      <td>-0.095724</td>\n",
       "      <td>0.017322</td>\n",
       "      <td>-0.781270</td>\n",
       "      <td>-0.317926</td>\n",
       "      <td>1.0</td>\n",
       "    </tr>\n",
       "    <tr>\n",
       "      <th>2013-01-02</th>\n",
       "      <td>1.745842</td>\n",
       "      <td>-0.762903</td>\n",
       "      <td>-1.201204</td>\n",
       "      <td>0.835294</td>\n",
       "      <td>1.0</td>\n",
       "    </tr>\n",
       "    <tr>\n",
       "      <th>2013-01-03</th>\n",
       "      <td>-0.442004</td>\n",
       "      <td>-0.957762</td>\n",
       "      <td>-0.738593</td>\n",
       "      <td>0.047658</td>\n",
       "      <td>5.0</td>\n",
       "    </tr>\n",
       "    <tr>\n",
       "      <th>2013-01-04</th>\n",
       "      <td>-0.989697</td>\n",
       "      <td>-0.317716</td>\n",
       "      <td>-0.134588</td>\n",
       "      <td>1.157574</td>\n",
       "      <td>5.0</td>\n",
       "    </tr>\n",
       "  </tbody>\n",
       "</table>\n",
       "</div>"
      ],
      "text/plain": [
       "                   A         B         C         D    E\n",
       "2013-01-01 -0.095724  0.017322 -0.781270 -0.317926  1.0\n",
       "2013-01-02  1.745842 -0.762903 -1.201204  0.835294  1.0\n",
       "2013-01-03 -0.442004 -0.957762 -0.738593  0.047658  5.0\n",
       "2013-01-04 -0.989697 -0.317716 -0.134588  1.157574  5.0"
      ]
     },
     "execution_count": 85,
     "metadata": {},
     "output_type": "execute_result"
    }
   ],
   "source": [
    "df1.fillna(value=5)"
   ]
  },
  {
   "cell_type": "code",
   "execution_count": 86,
   "metadata": {
    "collapsed": false
   },
   "outputs": [
    {
     "data": {
      "text/html": [
       "<div>\n",
       "<table border=\"1\" class=\"dataframe\">\n",
       "  <thead>\n",
       "    <tr style=\"text-align: right;\">\n",
       "      <th></th>\n",
       "      <th>A</th>\n",
       "      <th>B</th>\n",
       "      <th>C</th>\n",
       "      <th>D</th>\n",
       "      <th>E</th>\n",
       "    </tr>\n",
       "  </thead>\n",
       "  <tbody>\n",
       "    <tr>\n",
       "      <th>2013-01-01</th>\n",
       "      <td>False</td>\n",
       "      <td>False</td>\n",
       "      <td>False</td>\n",
       "      <td>False</td>\n",
       "      <td>False</td>\n",
       "    </tr>\n",
       "    <tr>\n",
       "      <th>2013-01-02</th>\n",
       "      <td>False</td>\n",
       "      <td>False</td>\n",
       "      <td>False</td>\n",
       "      <td>False</td>\n",
       "      <td>False</td>\n",
       "    </tr>\n",
       "    <tr>\n",
       "      <th>2013-01-03</th>\n",
       "      <td>False</td>\n",
       "      <td>False</td>\n",
       "      <td>False</td>\n",
       "      <td>False</td>\n",
       "      <td>True</td>\n",
       "    </tr>\n",
       "    <tr>\n",
       "      <th>2013-01-04</th>\n",
       "      <td>False</td>\n",
       "      <td>False</td>\n",
       "      <td>False</td>\n",
       "      <td>False</td>\n",
       "      <td>True</td>\n",
       "    </tr>\n",
       "  </tbody>\n",
       "</table>\n",
       "</div>"
      ],
      "text/plain": [
       "                A      B      C      D      E\n",
       "2013-01-01  False  False  False  False  False\n",
       "2013-01-02  False  False  False  False  False\n",
       "2013-01-03  False  False  False  False   True\n",
       "2013-01-04  False  False  False  False   True"
      ]
     },
     "execution_count": 86,
     "metadata": {},
     "output_type": "execute_result"
    }
   ],
   "source": [
    "pd.isnull(df1)"
   ]
  },
  {
   "cell_type": "code",
   "execution_count": 87,
   "metadata": {
    "collapsed": false
   },
   "outputs": [
    {
     "data": {
      "text/plain": [
       "A    0.482236\n",
       "B   -0.322384\n",
       "C   -0.383488\n",
       "D    0.036268\n",
       "dtype: float64"
      ]
     },
     "execution_count": 87,
     "metadata": {},
     "output_type": "execute_result"
    }
   ],
   "source": [
    "df.mean()"
   ]
  },
  {
   "cell_type": "code",
   "execution_count": 88,
   "metadata": {
    "collapsed": false
   },
   "outputs": [
    {
     "data": {
      "text/plain": [
       "2013-01-01   -0.294399\n",
       "2013-01-02    0.154257\n",
       "2013-01-03   -0.522675\n",
       "2013-01-04   -0.071107\n",
       "2013-01-05    0.677624\n",
       "2013-01-06   -0.224753\n",
       "Freq: D, dtype: float64"
      ]
     },
     "execution_count": 88,
     "metadata": {},
     "output_type": "execute_result"
    }
   ],
   "source": [
    "df.mean(1)"
   ]
  },
  {
   "cell_type": "code",
   "execution_count": 91,
   "metadata": {
    "collapsed": false
   },
   "outputs": [
    {
     "data": {
      "text/plain": [
       "2013-01-01    NaN\n",
       "2013-01-02    NaN\n",
       "2013-01-03    1.0\n",
       "2013-01-04    3.0\n",
       "2013-01-05    5.0\n",
       "2013-01-06    NaN\n",
       "Freq: D, dtype: float64"
      ]
     },
     "execution_count": 91,
     "metadata": {},
     "output_type": "execute_result"
    }
   ],
   "source": [
    "?s = pd.Series([1,3,5,np.nan,6,8], index=dates).shift(2)\n",
    "s"
   ]
  },
  {
   "cell_type": "code",
   "execution_count": 94,
   "metadata": {
    "collapsed": false
   },
   "outputs": [
    {
     "data": {
      "text/html": [
       "<div>\n",
       "<table border=\"1\" class=\"dataframe\">\n",
       "  <thead>\n",
       "    <tr style=\"text-align: right;\">\n",
       "      <th></th>\n",
       "      <th>A</th>\n",
       "      <th>B</th>\n",
       "      <th>C</th>\n",
       "      <th>D</th>\n",
       "    </tr>\n",
       "  </thead>\n",
       "  <tbody>\n",
       "    <tr>\n",
       "      <th>2013-01-01</th>\n",
       "      <td>-0.095724</td>\n",
       "      <td>0.017322</td>\n",
       "      <td>-0.781270</td>\n",
       "      <td>-0.317926</td>\n",
       "    </tr>\n",
       "    <tr>\n",
       "      <th>2013-01-02</th>\n",
       "      <td>1.650118</td>\n",
       "      <td>-0.745581</td>\n",
       "      <td>-1.982474</td>\n",
       "      <td>0.517368</td>\n",
       "    </tr>\n",
       "    <tr>\n",
       "      <th>2013-01-03</th>\n",
       "      <td>1.208114</td>\n",
       "      <td>-1.703343</td>\n",
       "      <td>-2.721068</td>\n",
       "      <td>0.565026</td>\n",
       "    </tr>\n",
       "    <tr>\n",
       "      <th>2013-01-04</th>\n",
       "      <td>0.218417</td>\n",
       "      <td>-2.021059</td>\n",
       "      <td>-2.855656</td>\n",
       "      <td>1.722600</td>\n",
       "    </tr>\n",
       "    <tr>\n",
       "      <th>2013-01-05</th>\n",
       "      <td>2.654480</td>\n",
       "      <td>-1.062205</td>\n",
       "      <td>-2.308001</td>\n",
       "      <td>0.490527</td>\n",
       "    </tr>\n",
       "    <tr>\n",
       "      <th>2013-01-06</th>\n",
       "      <td>2.893415</td>\n",
       "      <td>-1.934304</td>\n",
       "      <td>-2.300931</td>\n",
       "      <td>0.217608</td>\n",
       "    </tr>\n",
       "  </tbody>\n",
       "</table>\n",
       "</div>"
      ],
      "text/plain": [
       "                   A         B         C         D\n",
       "2013-01-01 -0.095724  0.017322 -0.781270 -0.317926\n",
       "2013-01-02  1.650118 -0.745581 -1.982474  0.517368\n",
       "2013-01-03  1.208114 -1.703343 -2.721068  0.565026\n",
       "2013-01-04  0.218417 -2.021059 -2.855656  1.722600\n",
       "2013-01-05  2.654480 -1.062205 -2.308001  0.490527\n",
       "2013-01-06  2.893415 -1.934304 -2.300931  0.217608"
      ]
     },
     "execution_count": 94,
     "metadata": {},
     "output_type": "execute_result"
    }
   ],
   "source": [
    "df.apply(np.cumsum)"
   ]
  },
  {
   "cell_type": "code",
   "execution_count": 95,
   "metadata": {
    "collapsed": false
   },
   "outputs": [
    {
     "data": {
      "text/plain": [
       "A    3.425760\n",
       "B    1.916615\n",
       "C    1.748859\n",
       "D    2.389646\n",
       "dtype: float64"
      ]
     },
     "execution_count": 95,
     "metadata": {},
     "output_type": "execute_result"
    }
   ],
   "source": [
    "df.apply(lambda x: x.max() - x.min())"
   ]
  },
  {
   "cell_type": "code",
   "execution_count": 97,
   "metadata": {
    "collapsed": false
   },
   "outputs": [
    {
     "data": {
      "text/plain": [
       "0    2\n",
       "1    1\n",
       "2    2\n",
       "3    6\n",
       "4    4\n",
       "5    5\n",
       "6    2\n",
       "7    6\n",
       "8    4\n",
       "9    0\n",
       "dtype: int32"
      ]
     },
     "execution_count": 97,
     "metadata": {},
     "output_type": "execute_result"
    }
   ],
   "source": [
    "s = pd.Series(np.random.randint(0, 7, size=10))\n",
    "s"
   ]
  },
  {
   "cell_type": "code",
   "execution_count": 98,
   "metadata": {
    "collapsed": false
   },
   "outputs": [
    {
     "data": {
      "text/plain": [
       "2    3\n",
       "6    2\n",
       "4    2\n",
       "5    1\n",
       "1    1\n",
       "0    1\n",
       "dtype: int64"
      ]
     },
     "execution_count": 98,
     "metadata": {},
     "output_type": "execute_result"
    }
   ],
   "source": [
    "s.value_counts()"
   ]
  },
  {
   "cell_type": "code",
   "execution_count": 99,
   "metadata": {
    "collapsed": true
   },
   "outputs": [],
   "source": [
    "s = pd.Series(['A', 'B', 'C', 'Aaba', 'Baca', np.nan, 'CABA', 'dog', 'cat'])"
   ]
  },
  {
   "cell_type": "code",
   "execution_count": 100,
   "metadata": {
    "collapsed": false
   },
   "outputs": [
    {
     "data": {
      "text/plain": [
       "0       a\n",
       "1       b\n",
       "2       c\n",
       "3    aaba\n",
       "4    baca\n",
       "5     NaN\n",
       "6    caba\n",
       "7     dog\n",
       "8     cat\n",
       "dtype: object"
      ]
     },
     "execution_count": 100,
     "metadata": {},
     "output_type": "execute_result"
    }
   ],
   "source": [
    "s.str.lower()"
   ]
  },
  {
   "cell_type": "code",
   "execution_count": 102,
   "metadata": {
    "collapsed": false
   },
   "outputs": [
    {
     "data": {
      "text/html": [
       "<div>\n",
       "<table border=\"1\" class=\"dataframe\">\n",
       "  <thead>\n",
       "    <tr style=\"text-align: right;\">\n",
       "      <th></th>\n",
       "      <th>0</th>\n",
       "      <th>1</th>\n",
       "      <th>2</th>\n",
       "      <th>3</th>\n",
       "    </tr>\n",
       "  </thead>\n",
       "  <tbody>\n",
       "    <tr>\n",
       "      <th>0</th>\n",
       "      <td>-1.322822</td>\n",
       "      <td>-1.223121</td>\n",
       "      <td>-0.121258</td>\n",
       "      <td>-0.154813</td>\n",
       "    </tr>\n",
       "    <tr>\n",
       "      <th>1</th>\n",
       "      <td>-0.636001</td>\n",
       "      <td>-0.298751</td>\n",
       "      <td>-1.433261</td>\n",
       "      <td>0.028176</td>\n",
       "    </tr>\n",
       "    <tr>\n",
       "      <th>2</th>\n",
       "      <td>0.875110</td>\n",
       "      <td>1.500112</td>\n",
       "      <td>-1.148541</td>\n",
       "      <td>-0.784040</td>\n",
       "    </tr>\n",
       "    <tr>\n",
       "      <th>3</th>\n",
       "      <td>0.591864</td>\n",
       "      <td>-0.239055</td>\n",
       "      <td>1.311668</td>\n",
       "      <td>-1.001110</td>\n",
       "    </tr>\n",
       "    <tr>\n",
       "      <th>4</th>\n",
       "      <td>0.512281</td>\n",
       "      <td>0.127048</td>\n",
       "      <td>-2.302962</td>\n",
       "      <td>-0.423310</td>\n",
       "    </tr>\n",
       "    <tr>\n",
       "      <th>5</th>\n",
       "      <td>-0.115558</td>\n",
       "      <td>1.636206</td>\n",
       "      <td>1.499212</td>\n",
       "      <td>0.834362</td>\n",
       "    </tr>\n",
       "    <tr>\n",
       "      <th>6</th>\n",
       "      <td>-0.286190</td>\n",
       "      <td>0.632674</td>\n",
       "      <td>1.234667</td>\n",
       "      <td>1.431859</td>\n",
       "    </tr>\n",
       "    <tr>\n",
       "      <th>7</th>\n",
       "      <td>-2.323805</td>\n",
       "      <td>-0.582523</td>\n",
       "      <td>-0.087494</td>\n",
       "      <td>-0.353433</td>\n",
       "    </tr>\n",
       "    <tr>\n",
       "      <th>8</th>\n",
       "      <td>-2.487589</td>\n",
       "      <td>0.075777</td>\n",
       "      <td>-0.215021</td>\n",
       "      <td>0.189377</td>\n",
       "    </tr>\n",
       "    <tr>\n",
       "      <th>9</th>\n",
       "      <td>-1.281755</td>\n",
       "      <td>-0.739460</td>\n",
       "      <td>-0.567815</td>\n",
       "      <td>0.085734</td>\n",
       "    </tr>\n",
       "  </tbody>\n",
       "</table>\n",
       "</div>"
      ],
      "text/plain": [
       "          0         1         2         3\n",
       "0 -1.322822 -1.223121 -0.121258 -0.154813\n",
       "1 -0.636001 -0.298751 -1.433261  0.028176\n",
       "2  0.875110  1.500112 -1.148541 -0.784040\n",
       "3  0.591864 -0.239055  1.311668 -1.001110\n",
       "4  0.512281  0.127048 -2.302962 -0.423310\n",
       "5 -0.115558  1.636206  1.499212  0.834362\n",
       "6 -0.286190  0.632674  1.234667  1.431859\n",
       "7 -2.323805 -0.582523 -0.087494 -0.353433\n",
       "8 -2.487589  0.075777 -0.215021  0.189377\n",
       "9 -1.281755 -0.739460 -0.567815  0.085734"
      ]
     },
     "execution_count": 102,
     "metadata": {},
     "output_type": "execute_result"
    }
   ],
   "source": [
    "df = pd.DataFrame(np.random.randn(10, 4))\n",
    "df"
   ]
  },
  {
   "cell_type": "code",
   "execution_count": 103,
   "metadata": {
    "collapsed": true
   },
   "outputs": [],
   "source": [
    "pieces = [df[:3], df[3:7], df[7:]]"
   ]
  },
  {
   "cell_type": "code",
   "execution_count": 104,
   "metadata": {
    "collapsed": false
   },
   "outputs": [
    {
     "data": {
      "text/plain": [
       "[          0         1         2         3\n",
       " 0 -1.322822 -1.223121 -0.121258 -0.154813\n",
       " 1 -0.636001 -0.298751 -1.433261  0.028176\n",
       " 2  0.875110  1.500112 -1.148541 -0.784040,\n",
       "           0         1         2         3\n",
       " 3  0.591864 -0.239055  1.311668 -1.001110\n",
       " 4  0.512281  0.127048 -2.302962 -0.423310\n",
       " 5 -0.115558  1.636206  1.499212  0.834362\n",
       " 6 -0.286190  0.632674  1.234667  1.431859,\n",
       "           0         1         2         3\n",
       " 7 -2.323805 -0.582523 -0.087494 -0.353433\n",
       " 8 -2.487589  0.075777 -0.215021  0.189377\n",
       " 9 -1.281755 -0.739460 -0.567815  0.085734]"
      ]
     },
     "execution_count": 104,
     "metadata": {},
     "output_type": "execute_result"
    }
   ],
   "source": [
    "pieces"
   ]
  },
  {
   "cell_type": "code",
   "execution_count": 105,
   "metadata": {
    "collapsed": false
   },
   "outputs": [
    {
     "data": {
      "text/html": [
       "<div>\n",
       "<table border=\"1\" class=\"dataframe\">\n",
       "  <thead>\n",
       "    <tr style=\"text-align: right;\">\n",
       "      <th></th>\n",
       "      <th>0</th>\n",
       "      <th>1</th>\n",
       "      <th>2</th>\n",
       "      <th>3</th>\n",
       "    </tr>\n",
       "  </thead>\n",
       "  <tbody>\n",
       "    <tr>\n",
       "      <th>0</th>\n",
       "      <td>-1.322822</td>\n",
       "      <td>-1.223121</td>\n",
       "      <td>-0.121258</td>\n",
       "      <td>-0.154813</td>\n",
       "    </tr>\n",
       "    <tr>\n",
       "      <th>1</th>\n",
       "      <td>-0.636001</td>\n",
       "      <td>-0.298751</td>\n",
       "      <td>-1.433261</td>\n",
       "      <td>0.028176</td>\n",
       "    </tr>\n",
       "    <tr>\n",
       "      <th>2</th>\n",
       "      <td>0.875110</td>\n",
       "      <td>1.500112</td>\n",
       "      <td>-1.148541</td>\n",
       "      <td>-0.784040</td>\n",
       "    </tr>\n",
       "    <tr>\n",
       "      <th>3</th>\n",
       "      <td>0.591864</td>\n",
       "      <td>-0.239055</td>\n",
       "      <td>1.311668</td>\n",
       "      <td>-1.001110</td>\n",
       "    </tr>\n",
       "    <tr>\n",
       "      <th>4</th>\n",
       "      <td>0.512281</td>\n",
       "      <td>0.127048</td>\n",
       "      <td>-2.302962</td>\n",
       "      <td>-0.423310</td>\n",
       "    </tr>\n",
       "    <tr>\n",
       "      <th>5</th>\n",
       "      <td>-0.115558</td>\n",
       "      <td>1.636206</td>\n",
       "      <td>1.499212</td>\n",
       "      <td>0.834362</td>\n",
       "    </tr>\n",
       "    <tr>\n",
       "      <th>6</th>\n",
       "      <td>-0.286190</td>\n",
       "      <td>0.632674</td>\n",
       "      <td>1.234667</td>\n",
       "      <td>1.431859</td>\n",
       "    </tr>\n",
       "    <tr>\n",
       "      <th>7</th>\n",
       "      <td>-2.323805</td>\n",
       "      <td>-0.582523</td>\n",
       "      <td>-0.087494</td>\n",
       "      <td>-0.353433</td>\n",
       "    </tr>\n",
       "    <tr>\n",
       "      <th>8</th>\n",
       "      <td>-2.487589</td>\n",
       "      <td>0.075777</td>\n",
       "      <td>-0.215021</td>\n",
       "      <td>0.189377</td>\n",
       "    </tr>\n",
       "    <tr>\n",
       "      <th>9</th>\n",
       "      <td>-1.281755</td>\n",
       "      <td>-0.739460</td>\n",
       "      <td>-0.567815</td>\n",
       "      <td>0.085734</td>\n",
       "    </tr>\n",
       "  </tbody>\n",
       "</table>\n",
       "</div>"
      ],
      "text/plain": [
       "          0         1         2         3\n",
       "0 -1.322822 -1.223121 -0.121258 -0.154813\n",
       "1 -0.636001 -0.298751 -1.433261  0.028176\n",
       "2  0.875110  1.500112 -1.148541 -0.784040\n",
       "3  0.591864 -0.239055  1.311668 -1.001110\n",
       "4  0.512281  0.127048 -2.302962 -0.423310\n",
       "5 -0.115558  1.636206  1.499212  0.834362\n",
       "6 -0.286190  0.632674  1.234667  1.431859\n",
       "7 -2.323805 -0.582523 -0.087494 -0.353433\n",
       "8 -2.487589  0.075777 -0.215021  0.189377\n",
       "9 -1.281755 -0.739460 -0.567815  0.085734"
      ]
     },
     "execution_count": 105,
     "metadata": {},
     "output_type": "execute_result"
    }
   ],
   "source": [
    "pd.concat(pieces)"
   ]
  },
  {
   "cell_type": "code",
   "execution_count": 107,
   "metadata": {
    "collapsed": false
   },
   "outputs": [
    {
     "data": {
      "text/html": [
       "<div>\n",
       "<table border=\"1\" class=\"dataframe\">\n",
       "  <thead>\n",
       "    <tr style=\"text-align: right;\">\n",
       "      <th></th>\n",
       "      <th>key</th>\n",
       "      <th>lval</th>\n",
       "    </tr>\n",
       "  </thead>\n",
       "  <tbody>\n",
       "    <tr>\n",
       "      <th>0</th>\n",
       "      <td>foo</td>\n",
       "      <td>1</td>\n",
       "    </tr>\n",
       "    <tr>\n",
       "      <th>1</th>\n",
       "      <td>foo</td>\n",
       "      <td>2</td>\n",
       "    </tr>\n",
       "  </tbody>\n",
       "</table>\n",
       "</div>"
      ],
      "text/plain": [
       "   key  lval\n",
       "0  foo     1\n",
       "1  foo     2"
      ]
     },
     "execution_count": 107,
     "metadata": {},
     "output_type": "execute_result"
    }
   ],
   "source": [
    "left = pd.DataFrame({'key': ['foo', 'foo'], 'lval': [1, 2]})\n",
    "left"
   ]
  },
  {
   "cell_type": "code",
   "execution_count": 108,
   "metadata": {
    "collapsed": false
   },
   "outputs": [
    {
     "data": {
      "text/html": [
       "<div>\n",
       "<table border=\"1\" class=\"dataframe\">\n",
       "  <thead>\n",
       "    <tr style=\"text-align: right;\">\n",
       "      <th></th>\n",
       "      <th>key</th>\n",
       "      <th>rval</th>\n",
       "    </tr>\n",
       "  </thead>\n",
       "  <tbody>\n",
       "    <tr>\n",
       "      <th>0</th>\n",
       "      <td>foo</td>\n",
       "      <td>4</td>\n",
       "    </tr>\n",
       "    <tr>\n",
       "      <th>1</th>\n",
       "      <td>foo</td>\n",
       "      <td>5</td>\n",
       "    </tr>\n",
       "  </tbody>\n",
       "</table>\n",
       "</div>"
      ],
      "text/plain": [
       "   key  rval\n",
       "0  foo     4\n",
       "1  foo     5"
      ]
     },
     "execution_count": 108,
     "metadata": {},
     "output_type": "execute_result"
    }
   ],
   "source": [
    "right = pd.DataFrame({'key': ['foo', 'foo'], 'rval': [4, 5]})\n",
    "right"
   ]
  },
  {
   "cell_type": "code",
   "execution_count": 109,
   "metadata": {
    "collapsed": false
   },
   "outputs": [
    {
     "data": {
      "text/html": [
       "<div>\n",
       "<table border=\"1\" class=\"dataframe\">\n",
       "  <thead>\n",
       "    <tr style=\"text-align: right;\">\n",
       "      <th></th>\n",
       "      <th>key</th>\n",
       "      <th>lval</th>\n",
       "      <th>rval</th>\n",
       "    </tr>\n",
       "  </thead>\n",
       "  <tbody>\n",
       "    <tr>\n",
       "      <th>0</th>\n",
       "      <td>foo</td>\n",
       "      <td>1</td>\n",
       "      <td>4</td>\n",
       "    </tr>\n",
       "    <tr>\n",
       "      <th>1</th>\n",
       "      <td>foo</td>\n",
       "      <td>1</td>\n",
       "      <td>5</td>\n",
       "    </tr>\n",
       "    <tr>\n",
       "      <th>2</th>\n",
       "      <td>foo</td>\n",
       "      <td>2</td>\n",
       "      <td>4</td>\n",
       "    </tr>\n",
       "    <tr>\n",
       "      <th>3</th>\n",
       "      <td>foo</td>\n",
       "      <td>2</td>\n",
       "      <td>5</td>\n",
       "    </tr>\n",
       "  </tbody>\n",
       "</table>\n",
       "</div>"
      ],
      "text/plain": [
       "   key  lval  rval\n",
       "0  foo     1     4\n",
       "1  foo     1     5\n",
       "2  foo     2     4\n",
       "3  foo     2     5"
      ]
     },
     "execution_count": 109,
     "metadata": {},
     "output_type": "execute_result"
    }
   ],
   "source": [
    "pd.merge(left, right, on='key')"
   ]
  },
  {
   "cell_type": "code",
   "execution_count": 111,
   "metadata": {
    "collapsed": false
   },
   "outputs": [
    {
     "data": {
      "text/html": [
       "<div>\n",
       "<table border=\"1\" class=\"dataframe\">\n",
       "  <thead>\n",
       "    <tr style=\"text-align: right;\">\n",
       "      <th></th>\n",
       "      <th>key</th>\n",
       "      <th>lval</th>\n",
       "    </tr>\n",
       "  </thead>\n",
       "  <tbody>\n",
       "    <tr>\n",
       "      <th>0</th>\n",
       "      <td>foo</td>\n",
       "      <td>1</td>\n",
       "    </tr>\n",
       "    <tr>\n",
       "      <th>1</th>\n",
       "      <td>bar</td>\n",
       "      <td>2</td>\n",
       "    </tr>\n",
       "  </tbody>\n",
       "</table>\n",
       "</div>"
      ],
      "text/plain": [
       "   key  lval\n",
       "0  foo     1\n",
       "1  bar     2"
      ]
     },
     "execution_count": 111,
     "metadata": {},
     "output_type": "execute_result"
    }
   ],
   "source": [
    "left = pd.DataFrame({'key': ['foo', 'bar'], 'lval': [1, 2]})\n",
    "left"
   ]
  },
  {
   "cell_type": "code",
   "execution_count": 113,
   "metadata": {
    "collapsed": false
   },
   "outputs": [
    {
     "data": {
      "text/html": [
       "<div>\n",
       "<table border=\"1\" class=\"dataframe\">\n",
       "  <thead>\n",
       "    <tr style=\"text-align: right;\">\n",
       "      <th></th>\n",
       "      <th>key</th>\n",
       "      <th>rval</th>\n",
       "    </tr>\n",
       "  </thead>\n",
       "  <tbody>\n",
       "    <tr>\n",
       "      <th>0</th>\n",
       "      <td>foo</td>\n",
       "      <td>4</td>\n",
       "    </tr>\n",
       "    <tr>\n",
       "      <th>1</th>\n",
       "      <td>bar</td>\n",
       "      <td>5</td>\n",
       "    </tr>\n",
       "  </tbody>\n",
       "</table>\n",
       "</div>"
      ],
      "text/plain": [
       "   key  rval\n",
       "0  foo     4\n",
       "1  bar     5"
      ]
     },
     "execution_count": 113,
     "metadata": {},
     "output_type": "execute_result"
    }
   ],
   "source": [
    "right = pd.DataFrame({'key': ['foo', 'bar'], 'rval': [4, 5]})\n",
    "right"
   ]
  },
  {
   "cell_type": "code",
   "execution_count": 114,
   "metadata": {
    "collapsed": false
   },
   "outputs": [
    {
     "data": {
      "text/html": [
       "<div>\n",
       "<table border=\"1\" class=\"dataframe\">\n",
       "  <thead>\n",
       "    <tr style=\"text-align: right;\">\n",
       "      <th></th>\n",
       "      <th>key</th>\n",
       "      <th>lval</th>\n",
       "      <th>rval</th>\n",
       "    </tr>\n",
       "  </thead>\n",
       "  <tbody>\n",
       "    <tr>\n",
       "      <th>0</th>\n",
       "      <td>foo</td>\n",
       "      <td>1</td>\n",
       "      <td>4</td>\n",
       "    </tr>\n",
       "    <tr>\n",
       "      <th>1</th>\n",
       "      <td>bar</td>\n",
       "      <td>2</td>\n",
       "      <td>5</td>\n",
       "    </tr>\n",
       "  </tbody>\n",
       "</table>\n",
       "</div>"
      ],
      "text/plain": [
       "   key  lval  rval\n",
       "0  foo     1     4\n",
       "1  bar     2     5"
      ]
     },
     "execution_count": 114,
     "metadata": {},
     "output_type": "execute_result"
    }
   ],
   "source": [
    "pd.merge(left, right, on='key')"
   ]
  },
  {
   "cell_type": "code",
   "execution_count": 116,
   "metadata": {
    "collapsed": false
   },
   "outputs": [
    {
     "data": {
      "text/html": [
       "<div>\n",
       "<table border=\"1\" class=\"dataframe\">\n",
       "  <thead>\n",
       "    <tr style=\"text-align: right;\">\n",
       "      <th></th>\n",
       "      <th>A</th>\n",
       "      <th>B</th>\n",
       "      <th>C</th>\n",
       "      <th>D</th>\n",
       "    </tr>\n",
       "  </thead>\n",
       "  <tbody>\n",
       "    <tr>\n",
       "      <th>0</th>\n",
       "      <td>-2.092238</td>\n",
       "      <td>-0.296633</td>\n",
       "      <td>0.915438</td>\n",
       "      <td>-0.504680</td>\n",
       "    </tr>\n",
       "    <tr>\n",
       "      <th>1</th>\n",
       "      <td>1.625311</td>\n",
       "      <td>-1.183533</td>\n",
       "      <td>0.737127</td>\n",
       "      <td>-0.515935</td>\n",
       "    </tr>\n",
       "    <tr>\n",
       "      <th>2</th>\n",
       "      <td>1.804868</td>\n",
       "      <td>0.858385</td>\n",
       "      <td>-0.967256</td>\n",
       "      <td>-0.785665</td>\n",
       "    </tr>\n",
       "    <tr>\n",
       "      <th>3</th>\n",
       "      <td>0.105877</td>\n",
       "      <td>0.120799</td>\n",
       "      <td>1.127974</td>\n",
       "      <td>0.440856</td>\n",
       "    </tr>\n",
       "    <tr>\n",
       "      <th>4</th>\n",
       "      <td>-2.432051</td>\n",
       "      <td>-0.327854</td>\n",
       "      <td>0.266129</td>\n",
       "      <td>-1.550048</td>\n",
       "    </tr>\n",
       "    <tr>\n",
       "      <th>5</th>\n",
       "      <td>0.421679</td>\n",
       "      <td>0.195863</td>\n",
       "      <td>0.413689</td>\n",
       "      <td>-0.927524</td>\n",
       "    </tr>\n",
       "    <tr>\n",
       "      <th>6</th>\n",
       "      <td>0.921581</td>\n",
       "      <td>-0.774463</td>\n",
       "      <td>-1.275851</td>\n",
       "      <td>0.010231</td>\n",
       "    </tr>\n",
       "    <tr>\n",
       "      <th>7</th>\n",
       "      <td>-1.210772</td>\n",
       "      <td>-0.093494</td>\n",
       "      <td>-1.046942</td>\n",
       "      <td>2.029859</td>\n",
       "    </tr>\n",
       "  </tbody>\n",
       "</table>\n",
       "</div>"
      ],
      "text/plain": [
       "          A         B         C         D\n",
       "0 -2.092238 -0.296633  0.915438 -0.504680\n",
       "1  1.625311 -1.183533  0.737127 -0.515935\n",
       "2  1.804868  0.858385 -0.967256 -0.785665\n",
       "3  0.105877  0.120799  1.127974  0.440856\n",
       "4 -2.432051 -0.327854  0.266129 -1.550048\n",
       "5  0.421679  0.195863  0.413689 -0.927524\n",
       "6  0.921581 -0.774463 -1.275851  0.010231\n",
       "7 -1.210772 -0.093494 -1.046942  2.029859"
      ]
     },
     "execution_count": 116,
     "metadata": {},
     "output_type": "execute_result"
    }
   ],
   "source": [
    "df = pd.DataFrame(np.random.randn(8, 4), columns=['A','B','C','D'])\n",
    "df"
   ]
  },
  {
   "cell_type": "code",
   "execution_count": 117,
   "metadata": {
    "collapsed": true
   },
   "outputs": [],
   "source": [
    "s = df.iloc[3]"
   ]
  },
  {
   "cell_type": "code",
   "execution_count": 118,
   "metadata": {
    "collapsed": false
   },
   "outputs": [
    {
     "data": {
      "text/html": [
       "<div>\n",
       "<table border=\"1\" class=\"dataframe\">\n",
       "  <thead>\n",
       "    <tr style=\"text-align: right;\">\n",
       "      <th></th>\n",
       "      <th>A</th>\n",
       "      <th>B</th>\n",
       "      <th>C</th>\n",
       "      <th>D</th>\n",
       "    </tr>\n",
       "  </thead>\n",
       "  <tbody>\n",
       "    <tr>\n",
       "      <th>0</th>\n",
       "      <td>-2.092238</td>\n",
       "      <td>-0.296633</td>\n",
       "      <td>0.915438</td>\n",
       "      <td>-0.504680</td>\n",
       "    </tr>\n",
       "    <tr>\n",
       "      <th>1</th>\n",
       "      <td>1.625311</td>\n",
       "      <td>-1.183533</td>\n",
       "      <td>0.737127</td>\n",
       "      <td>-0.515935</td>\n",
       "    </tr>\n",
       "    <tr>\n",
       "      <th>2</th>\n",
       "      <td>1.804868</td>\n",
       "      <td>0.858385</td>\n",
       "      <td>-0.967256</td>\n",
       "      <td>-0.785665</td>\n",
       "    </tr>\n",
       "    <tr>\n",
       "      <th>3</th>\n",
       "      <td>0.105877</td>\n",
       "      <td>0.120799</td>\n",
       "      <td>1.127974</td>\n",
       "      <td>0.440856</td>\n",
       "    </tr>\n",
       "    <tr>\n",
       "      <th>4</th>\n",
       "      <td>-2.432051</td>\n",
       "      <td>-0.327854</td>\n",
       "      <td>0.266129</td>\n",
       "      <td>-1.550048</td>\n",
       "    </tr>\n",
       "    <tr>\n",
       "      <th>5</th>\n",
       "      <td>0.421679</td>\n",
       "      <td>0.195863</td>\n",
       "      <td>0.413689</td>\n",
       "      <td>-0.927524</td>\n",
       "    </tr>\n",
       "    <tr>\n",
       "      <th>6</th>\n",
       "      <td>0.921581</td>\n",
       "      <td>-0.774463</td>\n",
       "      <td>-1.275851</td>\n",
       "      <td>0.010231</td>\n",
       "    </tr>\n",
       "    <tr>\n",
       "      <th>7</th>\n",
       "      <td>-1.210772</td>\n",
       "      <td>-0.093494</td>\n",
       "      <td>-1.046942</td>\n",
       "      <td>2.029859</td>\n",
       "    </tr>\n",
       "    <tr>\n",
       "      <th>8</th>\n",
       "      <td>0.105877</td>\n",
       "      <td>0.120799</td>\n",
       "      <td>1.127974</td>\n",
       "      <td>0.440856</td>\n",
       "    </tr>\n",
       "  </tbody>\n",
       "</table>\n",
       "</div>"
      ],
      "text/plain": [
       "          A         B         C         D\n",
       "0 -2.092238 -0.296633  0.915438 -0.504680\n",
       "1  1.625311 -1.183533  0.737127 -0.515935\n",
       "2  1.804868  0.858385 -0.967256 -0.785665\n",
       "3  0.105877  0.120799  1.127974  0.440856\n",
       "4 -2.432051 -0.327854  0.266129 -1.550048\n",
       "5  0.421679  0.195863  0.413689 -0.927524\n",
       "6  0.921581 -0.774463 -1.275851  0.010231\n",
       "7 -1.210772 -0.093494 -1.046942  2.029859\n",
       "8  0.105877  0.120799  1.127974  0.440856"
      ]
     },
     "execution_count": 118,
     "metadata": {},
     "output_type": "execute_result"
    }
   ],
   "source": [
    "df.append(s, ignore_index=True)"
   ]
  },
  {
   "cell_type": "code",
   "execution_count": 120,
   "metadata": {
    "collapsed": false
   },
   "outputs": [
    {
     "data": {
      "text/html": [
       "<div>\n",
       "<table border=\"1\" class=\"dataframe\">\n",
       "  <thead>\n",
       "    <tr style=\"text-align: right;\">\n",
       "      <th></th>\n",
       "      <th>A</th>\n",
       "      <th>B</th>\n",
       "      <th>C</th>\n",
       "      <th>D</th>\n",
       "    </tr>\n",
       "  </thead>\n",
       "  <tbody>\n",
       "    <tr>\n",
       "      <th>0</th>\n",
       "      <td>foo</td>\n",
       "      <td>one</td>\n",
       "      <td>0.463490</td>\n",
       "      <td>-1.082640</td>\n",
       "    </tr>\n",
       "    <tr>\n",
       "      <th>1</th>\n",
       "      <td>bar</td>\n",
       "      <td>one</td>\n",
       "      <td>0.084714</td>\n",
       "      <td>-0.817290</td>\n",
       "    </tr>\n",
       "    <tr>\n",
       "      <th>2</th>\n",
       "      <td>foo</td>\n",
       "      <td>two</td>\n",
       "      <td>-1.081386</td>\n",
       "      <td>-0.555776</td>\n",
       "    </tr>\n",
       "    <tr>\n",
       "      <th>3</th>\n",
       "      <td>bar</td>\n",
       "      <td>three</td>\n",
       "      <td>-0.598551</td>\n",
       "      <td>-0.005250</td>\n",
       "    </tr>\n",
       "    <tr>\n",
       "      <th>4</th>\n",
       "      <td>foo</td>\n",
       "      <td>two</td>\n",
       "      <td>-0.346289</td>\n",
       "      <td>-0.652173</td>\n",
       "    </tr>\n",
       "    <tr>\n",
       "      <th>5</th>\n",
       "      <td>bar</td>\n",
       "      <td>two</td>\n",
       "      <td>0.318074</td>\n",
       "      <td>-1.832524</td>\n",
       "    </tr>\n",
       "    <tr>\n",
       "      <th>6</th>\n",
       "      <td>foo</td>\n",
       "      <td>one</td>\n",
       "      <td>0.425565</td>\n",
       "      <td>0.933216</td>\n",
       "    </tr>\n",
       "    <tr>\n",
       "      <th>7</th>\n",
       "      <td>foo</td>\n",
       "      <td>three</td>\n",
       "      <td>0.691278</td>\n",
       "      <td>-0.267893</td>\n",
       "    </tr>\n",
       "  </tbody>\n",
       "</table>\n",
       "</div>"
      ],
      "text/plain": [
       "     A      B         C         D\n",
       "0  foo    one  0.463490 -1.082640\n",
       "1  bar    one  0.084714 -0.817290\n",
       "2  foo    two -1.081386 -0.555776\n",
       "3  bar  three -0.598551 -0.005250\n",
       "4  foo    two -0.346289 -0.652173\n",
       "5  bar    two  0.318074 -1.832524\n",
       "6  foo    one  0.425565  0.933216\n",
       "7  foo  three  0.691278 -0.267893"
      ]
     },
     "execution_count": 120,
     "metadata": {},
     "output_type": "execute_result"
    }
   ],
   "source": [
    "df = pd.DataFrame({'A' : ['foo', 'bar', 'foo', 'bar',\n",
    "                          'foo', 'bar', 'foo', 'foo'],\n",
    "                   'B' : ['one', 'one', 'two', 'three',\n",
    "                          'two', 'two', 'one', 'three'],\n",
    "                   'C' : np.random.randn(8),\n",
    "                   'D' : np.random.randn(8)})\n",
    "df"
   ]
  },
  {
   "cell_type": "code",
   "execution_count": 121,
   "metadata": {
    "collapsed": false
   },
   "outputs": [
    {
     "data": {
      "text/html": [
       "<div>\n",
       "<table border=\"1\" class=\"dataframe\">\n",
       "  <thead>\n",
       "    <tr style=\"text-align: right;\">\n",
       "      <th></th>\n",
       "      <th>C</th>\n",
       "      <th>D</th>\n",
       "    </tr>\n",
       "    <tr>\n",
       "      <th>A</th>\n",
       "      <th></th>\n",
       "      <th></th>\n",
       "    </tr>\n",
       "  </thead>\n",
       "  <tbody>\n",
       "    <tr>\n",
       "      <th>bar</th>\n",
       "      <td>-0.195763</td>\n",
       "      <td>-2.655063</td>\n",
       "    </tr>\n",
       "    <tr>\n",
       "      <th>foo</th>\n",
       "      <td>0.152657</td>\n",
       "      <td>-1.625266</td>\n",
       "    </tr>\n",
       "  </tbody>\n",
       "</table>\n",
       "</div>"
      ],
      "text/plain": [
       "            C         D\n",
       "A                      \n",
       "bar -0.195763 -2.655063\n",
       "foo  0.152657 -1.625266"
      ]
     },
     "execution_count": 121,
     "metadata": {},
     "output_type": "execute_result"
    }
   ],
   "source": [
    "df.groupby('A').sum()"
   ]
  },
  {
   "cell_type": "code",
   "execution_count": 122,
   "metadata": {
    "collapsed": false
   },
   "outputs": [
    {
     "data": {
      "text/html": [
       "<div>\n",
       "<table border=\"1\" class=\"dataframe\">\n",
       "  <thead>\n",
       "    <tr style=\"text-align: right;\">\n",
       "      <th></th>\n",
       "      <th></th>\n",
       "      <th>C</th>\n",
       "      <th>D</th>\n",
       "    </tr>\n",
       "    <tr>\n",
       "      <th>A</th>\n",
       "      <th>B</th>\n",
       "      <th></th>\n",
       "      <th></th>\n",
       "    </tr>\n",
       "  </thead>\n",
       "  <tbody>\n",
       "    <tr>\n",
       "      <th rowspan=\"3\" valign=\"top\">bar</th>\n",
       "      <th>one</th>\n",
       "      <td>0.084714</td>\n",
       "      <td>-0.817290</td>\n",
       "    </tr>\n",
       "    <tr>\n",
       "      <th>three</th>\n",
       "      <td>-0.598551</td>\n",
       "      <td>-0.005250</td>\n",
       "    </tr>\n",
       "    <tr>\n",
       "      <th>two</th>\n",
       "      <td>0.318074</td>\n",
       "      <td>-1.832524</td>\n",
       "    </tr>\n",
       "    <tr>\n",
       "      <th rowspan=\"3\" valign=\"top\">foo</th>\n",
       "      <th>one</th>\n",
       "      <td>0.889055</td>\n",
       "      <td>-0.149424</td>\n",
       "    </tr>\n",
       "    <tr>\n",
       "      <th>three</th>\n",
       "      <td>0.691278</td>\n",
       "      <td>-0.267893</td>\n",
       "    </tr>\n",
       "    <tr>\n",
       "      <th>two</th>\n",
       "      <td>-1.427676</td>\n",
       "      <td>-1.207949</td>\n",
       "    </tr>\n",
       "  </tbody>\n",
       "</table>\n",
       "</div>"
      ],
      "text/plain": [
       "                  C         D\n",
       "A   B                        \n",
       "bar one    0.084714 -0.817290\n",
       "    three -0.598551 -0.005250\n",
       "    two    0.318074 -1.832524\n",
       "foo one    0.889055 -0.149424\n",
       "    three  0.691278 -0.267893\n",
       "    two   -1.427676 -1.207949"
      ]
     },
     "execution_count": 122,
     "metadata": {},
     "output_type": "execute_result"
    }
   ],
   "source": [
    "df.groupby(['A','B']).sum()"
   ]
  },
  {
   "cell_type": "code",
   "execution_count": 123,
   "metadata": {
    "collapsed": true
   },
   "outputs": [],
   "source": [
    "tuples = list(zip(*[['bar', 'bar', 'baz', 'baz',\n",
    "                     'foo', 'foo', 'qux', 'qux'],\n",
    "                    ['one', 'two', 'one', 'two',\n",
    "                    'one', 'two', 'one', 'two']]))\n"
   ]
  },
  {
   "cell_type": "code",
   "execution_count": 128,
   "metadata": {
    "collapsed": false
   },
   "outputs": [
    {
     "data": {
      "text/plain": [
       "[('bar', 'one'),\n",
       " ('bar', 'two'),\n",
       " ('baz', 'one'),\n",
       " ('baz', 'two'),\n",
       " ('foo', 'one'),\n",
       " ('foo', 'two'),\n",
       " ('qux', 'one'),\n",
       " ('qux', 'two')]"
      ]
     },
     "execution_count": 128,
     "metadata": {},
     "output_type": "execute_result"
    }
   ],
   "source": [
    "tuples"
   ]
  },
  {
   "cell_type": "code",
   "execution_count": 130,
   "metadata": {
    "collapsed": false
   },
   "outputs": [
    {
     "data": {
      "text/plain": [
       "MultiIndex(levels=[['bar', 'baz', 'foo', 'qux'], ['one', 'two']],\n",
       "           labels=[[0, 0, 1, 1, 2, 2, 3, 3], [0, 1, 0, 1, 0, 1, 0, 1]],\n",
       "           names=['first', 'second'])"
      ]
     },
     "execution_count": 130,
     "metadata": {},
     "output_type": "execute_result"
    }
   ],
   "source": [
    "index = pd.MultiIndex.from_tuples(tuples, names=['first', 'second'])\n",
    "index"
   ]
  },
  {
   "cell_type": "code",
   "execution_count": 131,
   "metadata": {
    "collapsed": false
   },
   "outputs": [
    {
     "data": {
      "text/html": [
       "<div>\n",
       "<table border=\"1\" class=\"dataframe\">\n",
       "  <thead>\n",
       "    <tr style=\"text-align: right;\">\n",
       "      <th></th>\n",
       "      <th></th>\n",
       "      <th>A</th>\n",
       "      <th>B</th>\n",
       "    </tr>\n",
       "    <tr>\n",
       "      <th>first</th>\n",
       "      <th>second</th>\n",
       "      <th></th>\n",
       "      <th></th>\n",
       "    </tr>\n",
       "  </thead>\n",
       "  <tbody>\n",
       "    <tr>\n",
       "      <th rowspan=\"2\" valign=\"top\">bar</th>\n",
       "      <th>one</th>\n",
       "      <td>-0.017782</td>\n",
       "      <td>-1.299292</td>\n",
       "    </tr>\n",
       "    <tr>\n",
       "      <th>two</th>\n",
       "      <td>-1.705841</td>\n",
       "      <td>0.190353</td>\n",
       "    </tr>\n",
       "    <tr>\n",
       "      <th rowspan=\"2\" valign=\"top\">baz</th>\n",
       "      <th>one</th>\n",
       "      <td>-0.473305</td>\n",
       "      <td>1.173271</td>\n",
       "    </tr>\n",
       "    <tr>\n",
       "      <th>two</th>\n",
       "      <td>0.369912</td>\n",
       "      <td>-1.558152</td>\n",
       "    </tr>\n",
       "    <tr>\n",
       "      <th rowspan=\"2\" valign=\"top\">foo</th>\n",
       "      <th>one</th>\n",
       "      <td>0.855349</td>\n",
       "      <td>-1.569547</td>\n",
       "    </tr>\n",
       "    <tr>\n",
       "      <th>two</th>\n",
       "      <td>-0.613495</td>\n",
       "      <td>0.364407</td>\n",
       "    </tr>\n",
       "    <tr>\n",
       "      <th rowspan=\"2\" valign=\"top\">qux</th>\n",
       "      <th>one</th>\n",
       "      <td>0.614836</td>\n",
       "      <td>-1.329951</td>\n",
       "    </tr>\n",
       "    <tr>\n",
       "      <th>two</th>\n",
       "      <td>0.961462</td>\n",
       "      <td>0.836605</td>\n",
       "    </tr>\n",
       "  </tbody>\n",
       "</table>\n",
       "</div>"
      ],
      "text/plain": [
       "                     A         B\n",
       "first second                    \n",
       "bar   one    -0.017782 -1.299292\n",
       "      two    -1.705841  0.190353\n",
       "baz   one    -0.473305  1.173271\n",
       "      two     0.369912 -1.558152\n",
       "foo   one     0.855349 -1.569547\n",
       "      two    -0.613495  0.364407\n",
       "qux   one     0.614836 -1.329951\n",
       "      two     0.961462  0.836605"
      ]
     },
     "execution_count": 131,
     "metadata": {},
     "output_type": "execute_result"
    }
   ],
   "source": [
    "df = pd.DataFrame(np.random.randn(8, 2), index=index, columns=['A', 'B'])\n",
    "df"
   ]
  },
  {
   "cell_type": "code",
   "execution_count": 126,
   "metadata": {
    "collapsed": true
   },
   "outputs": [],
   "source": [
    "df2 = df[:4]"
   ]
  },
  {
   "cell_type": "code",
   "execution_count": 127,
   "metadata": {
    "collapsed": false
   },
   "outputs": [
    {
     "data": {
      "text/html": [
       "<div>\n",
       "<table border=\"1\" class=\"dataframe\">\n",
       "  <thead>\n",
       "    <tr style=\"text-align: right;\">\n",
       "      <th></th>\n",
       "      <th></th>\n",
       "      <th>A</th>\n",
       "      <th>B</th>\n",
       "    </tr>\n",
       "    <tr>\n",
       "      <th>first</th>\n",
       "      <th>second</th>\n",
       "      <th></th>\n",
       "      <th></th>\n",
       "    </tr>\n",
       "  </thead>\n",
       "  <tbody>\n",
       "    <tr>\n",
       "      <th rowspan=\"2\" valign=\"top\">bar</th>\n",
       "      <th>one</th>\n",
       "      <td>-1.666612</td>\n",
       "      <td>-0.165660</td>\n",
       "    </tr>\n",
       "    <tr>\n",
       "      <th>two</th>\n",
       "      <td>-0.134245</td>\n",
       "      <td>0.536941</td>\n",
       "    </tr>\n",
       "    <tr>\n",
       "      <th rowspan=\"2\" valign=\"top\">baz</th>\n",
       "      <th>one</th>\n",
       "      <td>0.576862</td>\n",
       "      <td>2.520872</td>\n",
       "    </tr>\n",
       "    <tr>\n",
       "      <th>two</th>\n",
       "      <td>-0.000590</td>\n",
       "      <td>0.519575</td>\n",
       "    </tr>\n",
       "  </tbody>\n",
       "</table>\n",
       "</div>"
      ],
      "text/plain": [
       "                     A         B\n",
       "first second                    \n",
       "bar   one    -1.666612 -0.165660\n",
       "      two    -0.134245  0.536941\n",
       "baz   one     0.576862  2.520872\n",
       "      two    -0.000590  0.519575"
      ]
     },
     "execution_count": 127,
     "metadata": {},
     "output_type": "execute_result"
    }
   ],
   "source": [
    "df2"
   ]
  },
  {
   "cell_type": "code",
   "execution_count": 129,
   "metadata": {
    "collapsed": true
   },
   "outputs": [],
   "source": [
    "?pd.MultiIndex.from_tuples(pd.MultiIndex.from_tuples()"
   ]
  },
  {
   "cell_type": "code",
   "execution_count": 134,
   "metadata": {
    "collapsed": false
   },
   "outputs": [
    {
     "data": {
      "text/plain": [
       "first  second   \n",
       "bar    one     A   -1.666612\n",
       "               B   -0.165660\n",
       "       two     A   -0.134245\n",
       "               B    0.536941\n",
       "baz    one     A    0.576862\n",
       "               B    2.520872\n",
       "       two     A   -0.000590\n",
       "               B    0.519575\n",
       "dtype: float64"
      ]
     },
     "execution_count": 134,
     "metadata": {},
     "output_type": "execute_result"
    }
   ],
   "source": [
    "stacked = df2.stack()\n",
    "stacked"
   ]
  },
  {
   "cell_type": "code",
   "execution_count": 135,
   "metadata": {
    "collapsed": false
   },
   "outputs": [
    {
     "data": {
      "text/html": [
       "<div>\n",
       "<table border=\"1\" class=\"dataframe\">\n",
       "  <thead>\n",
       "    <tr style=\"text-align: right;\">\n",
       "      <th></th>\n",
       "      <th></th>\n",
       "      <th>A</th>\n",
       "      <th>B</th>\n",
       "    </tr>\n",
       "    <tr>\n",
       "      <th>first</th>\n",
       "      <th>second</th>\n",
       "      <th></th>\n",
       "      <th></th>\n",
       "    </tr>\n",
       "  </thead>\n",
       "  <tbody>\n",
       "    <tr>\n",
       "      <th rowspan=\"2\" valign=\"top\">bar</th>\n",
       "      <th>one</th>\n",
       "      <td>-1.666612</td>\n",
       "      <td>-0.165660</td>\n",
       "    </tr>\n",
       "    <tr>\n",
       "      <th>two</th>\n",
       "      <td>-0.134245</td>\n",
       "      <td>0.536941</td>\n",
       "    </tr>\n",
       "    <tr>\n",
       "      <th rowspan=\"2\" valign=\"top\">baz</th>\n",
       "      <th>one</th>\n",
       "      <td>0.576862</td>\n",
       "      <td>2.520872</td>\n",
       "    </tr>\n",
       "    <tr>\n",
       "      <th>two</th>\n",
       "      <td>-0.000590</td>\n",
       "      <td>0.519575</td>\n",
       "    </tr>\n",
       "  </tbody>\n",
       "</table>\n",
       "</div>"
      ],
      "text/plain": [
       "                     A         B\n",
       "first second                    \n",
       "bar   one    -1.666612 -0.165660\n",
       "      two    -0.134245  0.536941\n",
       "baz   one     0.576862  2.520872\n",
       "      two    -0.000590  0.519575"
      ]
     },
     "execution_count": 135,
     "metadata": {},
     "output_type": "execute_result"
    }
   ],
   "source": [
    "stacked.unstack()"
   ]
  },
  {
   "cell_type": "code",
   "execution_count": 136,
   "metadata": {
    "collapsed": false
   },
   "outputs": [
    {
     "data": {
      "text/html": [
       "<div>\n",
       "<table border=\"1\" class=\"dataframe\">\n",
       "  <thead>\n",
       "    <tr style=\"text-align: right;\">\n",
       "      <th></th>\n",
       "      <th>second</th>\n",
       "      <th>one</th>\n",
       "      <th>two</th>\n",
       "    </tr>\n",
       "    <tr>\n",
       "      <th>first</th>\n",
       "      <th></th>\n",
       "      <th></th>\n",
       "      <th></th>\n",
       "    </tr>\n",
       "  </thead>\n",
       "  <tbody>\n",
       "    <tr>\n",
       "      <th rowspan=\"2\" valign=\"top\">bar</th>\n",
       "      <th>A</th>\n",
       "      <td>-1.666612</td>\n",
       "      <td>-0.134245</td>\n",
       "    </tr>\n",
       "    <tr>\n",
       "      <th>B</th>\n",
       "      <td>-0.165660</td>\n",
       "      <td>0.536941</td>\n",
       "    </tr>\n",
       "    <tr>\n",
       "      <th rowspan=\"2\" valign=\"top\">baz</th>\n",
       "      <th>A</th>\n",
       "      <td>0.576862</td>\n",
       "      <td>-0.000590</td>\n",
       "    </tr>\n",
       "    <tr>\n",
       "      <th>B</th>\n",
       "      <td>2.520872</td>\n",
       "      <td>0.519575</td>\n",
       "    </tr>\n",
       "  </tbody>\n",
       "</table>\n",
       "</div>"
      ],
      "text/plain": [
       "second        one       two\n",
       "first                      \n",
       "bar   A -1.666612 -0.134245\n",
       "      B -0.165660  0.536941\n",
       "baz   A  0.576862 -0.000590\n",
       "      B  2.520872  0.519575"
      ]
     },
     "execution_count": 136,
     "metadata": {},
     "output_type": "execute_result"
    }
   ],
   "source": [
    "stacked.unstack(1)"
   ]
  },
  {
   "cell_type": "code",
   "execution_count": 137,
   "metadata": {
    "collapsed": false
   },
   "outputs": [
    {
     "data": {
      "text/html": [
       "<div>\n",
       "<table border=\"1\" class=\"dataframe\">\n",
       "  <thead>\n",
       "    <tr style=\"text-align: right;\">\n",
       "      <th></th>\n",
       "      <th>first</th>\n",
       "      <th>bar</th>\n",
       "      <th>baz</th>\n",
       "    </tr>\n",
       "    <tr>\n",
       "      <th>second</th>\n",
       "      <th></th>\n",
       "      <th></th>\n",
       "      <th></th>\n",
       "    </tr>\n",
       "  </thead>\n",
       "  <tbody>\n",
       "    <tr>\n",
       "      <th rowspan=\"2\" valign=\"top\">one</th>\n",
       "      <th>A</th>\n",
       "      <td>-1.666612</td>\n",
       "      <td>0.576862</td>\n",
       "    </tr>\n",
       "    <tr>\n",
       "      <th>B</th>\n",
       "      <td>-0.165660</td>\n",
       "      <td>2.520872</td>\n",
       "    </tr>\n",
       "    <tr>\n",
       "      <th rowspan=\"2\" valign=\"top\">two</th>\n",
       "      <th>A</th>\n",
       "      <td>-0.134245</td>\n",
       "      <td>-0.000590</td>\n",
       "    </tr>\n",
       "    <tr>\n",
       "      <th>B</th>\n",
       "      <td>0.536941</td>\n",
       "      <td>0.519575</td>\n",
       "    </tr>\n",
       "  </tbody>\n",
       "</table>\n",
       "</div>"
      ],
      "text/plain": [
       "first          bar       baz\n",
       "second                      \n",
       "one    A -1.666612  0.576862\n",
       "       B -0.165660  2.520872\n",
       "two    A -0.134245 -0.000590\n",
       "       B  0.536941  0.519575"
      ]
     },
     "execution_count": 137,
     "metadata": {},
     "output_type": "execute_result"
    }
   ],
   "source": [
    "stacked.unstack(0)"
   ]
  },
  {
   "cell_type": "code",
   "execution_count": 138,
   "metadata": {
    "collapsed": true
   },
   "outputs": [],
   "source": [
    "?stacked.unstack(0)"
   ]
  },
  {
   "cell_type": "code",
   "execution_count": 140,
   "metadata": {
    "collapsed": true
   },
   "outputs": [],
   "source": [
    "import datetime"
   ]
  },
  {
   "cell_type": "code",
   "execution_count": 142,
   "metadata": {
    "collapsed": false
   },
   "outputs": [
    {
     "data": {
      "text/html": [
       "<div>\n",
       "<table border=\"1\" class=\"dataframe\">\n",
       "  <thead>\n",
       "    <tr style=\"text-align: right;\">\n",
       "      <th></th>\n",
       "      <th>A</th>\n",
       "      <th>B</th>\n",
       "      <th>C</th>\n",
       "      <th>D</th>\n",
       "      <th>E</th>\n",
       "      <th>F</th>\n",
       "    </tr>\n",
       "  </thead>\n",
       "  <tbody>\n",
       "    <tr>\n",
       "      <th>0</th>\n",
       "      <td>one</td>\n",
       "      <td>A</td>\n",
       "      <td>foo</td>\n",
       "      <td>-0.177476</td>\n",
       "      <td>0.897498</td>\n",
       "      <td>2013-01-01</td>\n",
       "    </tr>\n",
       "    <tr>\n",
       "      <th>1</th>\n",
       "      <td>one</td>\n",
       "      <td>B</td>\n",
       "      <td>foo</td>\n",
       "      <td>-1.230681</td>\n",
       "      <td>-0.328834</td>\n",
       "      <td>2013-02-01</td>\n",
       "    </tr>\n",
       "    <tr>\n",
       "      <th>2</th>\n",
       "      <td>two</td>\n",
       "      <td>C</td>\n",
       "      <td>foo</td>\n",
       "      <td>1.886601</td>\n",
       "      <td>0.243199</td>\n",
       "      <td>2013-03-01</td>\n",
       "    </tr>\n",
       "    <tr>\n",
       "      <th>3</th>\n",
       "      <td>three</td>\n",
       "      <td>A</td>\n",
       "      <td>bar</td>\n",
       "      <td>-0.139072</td>\n",
       "      <td>-0.083266</td>\n",
       "      <td>2013-04-01</td>\n",
       "    </tr>\n",
       "    <tr>\n",
       "      <th>4</th>\n",
       "      <td>one</td>\n",
       "      <td>B</td>\n",
       "      <td>bar</td>\n",
       "      <td>0.082838</td>\n",
       "      <td>1.188095</td>\n",
       "      <td>2013-05-01</td>\n",
       "    </tr>\n",
       "    <tr>\n",
       "      <th>5</th>\n",
       "      <td>one</td>\n",
       "      <td>C</td>\n",
       "      <td>bar</td>\n",
       "      <td>0.476491</td>\n",
       "      <td>-0.013753</td>\n",
       "      <td>2013-06-01</td>\n",
       "    </tr>\n",
       "    <tr>\n",
       "      <th>6</th>\n",
       "      <td>two</td>\n",
       "      <td>A</td>\n",
       "      <td>foo</td>\n",
       "      <td>-0.895367</td>\n",
       "      <td>-0.533627</td>\n",
       "      <td>2013-07-01</td>\n",
       "    </tr>\n",
       "    <tr>\n",
       "      <th>7</th>\n",
       "      <td>three</td>\n",
       "      <td>B</td>\n",
       "      <td>foo</td>\n",
       "      <td>-1.807797</td>\n",
       "      <td>0.194638</td>\n",
       "      <td>2013-08-01</td>\n",
       "    </tr>\n",
       "    <tr>\n",
       "      <th>8</th>\n",
       "      <td>one</td>\n",
       "      <td>C</td>\n",
       "      <td>foo</td>\n",
       "      <td>-1.230429</td>\n",
       "      <td>0.069546</td>\n",
       "      <td>2013-09-01</td>\n",
       "    </tr>\n",
       "    <tr>\n",
       "      <th>9</th>\n",
       "      <td>one</td>\n",
       "      <td>A</td>\n",
       "      <td>bar</td>\n",
       "      <td>-1.080332</td>\n",
       "      <td>-0.222992</td>\n",
       "      <td>2013-10-01</td>\n",
       "    </tr>\n",
       "    <tr>\n",
       "      <th>10</th>\n",
       "      <td>two</td>\n",
       "      <td>B</td>\n",
       "      <td>bar</td>\n",
       "      <td>-0.099893</td>\n",
       "      <td>-1.111432</td>\n",
       "      <td>2013-11-01</td>\n",
       "    </tr>\n",
       "    <tr>\n",
       "      <th>11</th>\n",
       "      <td>three</td>\n",
       "      <td>C</td>\n",
       "      <td>bar</td>\n",
       "      <td>1.104263</td>\n",
       "      <td>-1.613838</td>\n",
       "      <td>2013-12-01</td>\n",
       "    </tr>\n",
       "    <tr>\n",
       "      <th>12</th>\n",
       "      <td>one</td>\n",
       "      <td>A</td>\n",
       "      <td>foo</td>\n",
       "      <td>1.415549</td>\n",
       "      <td>0.842345</td>\n",
       "      <td>2013-01-15</td>\n",
       "    </tr>\n",
       "    <tr>\n",
       "      <th>13</th>\n",
       "      <td>one</td>\n",
       "      <td>B</td>\n",
       "      <td>foo</td>\n",
       "      <td>0.290204</td>\n",
       "      <td>-1.238715</td>\n",
       "      <td>2013-02-15</td>\n",
       "    </tr>\n",
       "    <tr>\n",
       "      <th>14</th>\n",
       "      <td>two</td>\n",
       "      <td>C</td>\n",
       "      <td>foo</td>\n",
       "      <td>-2.297036</td>\n",
       "      <td>0.808504</td>\n",
       "      <td>2013-03-15</td>\n",
       "    </tr>\n",
       "    <tr>\n",
       "      <th>15</th>\n",
       "      <td>three</td>\n",
       "      <td>A</td>\n",
       "      <td>bar</td>\n",
       "      <td>-1.735241</td>\n",
       "      <td>0.129068</td>\n",
       "      <td>2013-04-15</td>\n",
       "    </tr>\n",
       "    <tr>\n",
       "      <th>16</th>\n",
       "      <td>one</td>\n",
       "      <td>B</td>\n",
       "      <td>bar</td>\n",
       "      <td>2.722110</td>\n",
       "      <td>0.826593</td>\n",
       "      <td>2013-05-15</td>\n",
       "    </tr>\n",
       "    <tr>\n",
       "      <th>17</th>\n",
       "      <td>one</td>\n",
       "      <td>C</td>\n",
       "      <td>bar</td>\n",
       "      <td>-0.886366</td>\n",
       "      <td>0.517629</td>\n",
       "      <td>2013-06-15</td>\n",
       "    </tr>\n",
       "    <tr>\n",
       "      <th>18</th>\n",
       "      <td>two</td>\n",
       "      <td>A</td>\n",
       "      <td>foo</td>\n",
       "      <td>-0.382218</td>\n",
       "      <td>0.744253</td>\n",
       "      <td>2013-07-15</td>\n",
       "    </tr>\n",
       "    <tr>\n",
       "      <th>19</th>\n",
       "      <td>three</td>\n",
       "      <td>B</td>\n",
       "      <td>foo</td>\n",
       "      <td>-0.378462</td>\n",
       "      <td>-0.295194</td>\n",
       "      <td>2013-08-15</td>\n",
       "    </tr>\n",
       "    <tr>\n",
       "      <th>20</th>\n",
       "      <td>one</td>\n",
       "      <td>C</td>\n",
       "      <td>foo</td>\n",
       "      <td>-1.524290</td>\n",
       "      <td>-1.217912</td>\n",
       "      <td>2013-09-15</td>\n",
       "    </tr>\n",
       "    <tr>\n",
       "      <th>21</th>\n",
       "      <td>one</td>\n",
       "      <td>A</td>\n",
       "      <td>bar</td>\n",
       "      <td>1.296994</td>\n",
       "      <td>-0.718059</td>\n",
       "      <td>2013-10-15</td>\n",
       "    </tr>\n",
       "    <tr>\n",
       "      <th>22</th>\n",
       "      <td>two</td>\n",
       "      <td>B</td>\n",
       "      <td>bar</td>\n",
       "      <td>-0.757265</td>\n",
       "      <td>1.238186</td>\n",
       "      <td>2013-11-15</td>\n",
       "    </tr>\n",
       "    <tr>\n",
       "      <th>23</th>\n",
       "      <td>three</td>\n",
       "      <td>C</td>\n",
       "      <td>bar</td>\n",
       "      <td>1.700312</td>\n",
       "      <td>1.514086</td>\n",
       "      <td>2013-12-15</td>\n",
       "    </tr>\n",
       "  </tbody>\n",
       "</table>\n",
       "</div>"
      ],
      "text/plain": [
       "        A  B    C         D         E          F\n",
       "0     one  A  foo -0.177476  0.897498 2013-01-01\n",
       "1     one  B  foo -1.230681 -0.328834 2013-02-01\n",
       "2     two  C  foo  1.886601  0.243199 2013-03-01\n",
       "3   three  A  bar -0.139072 -0.083266 2013-04-01\n",
       "4     one  B  bar  0.082838  1.188095 2013-05-01\n",
       "5     one  C  bar  0.476491 -0.013753 2013-06-01\n",
       "6     two  A  foo -0.895367 -0.533627 2013-07-01\n",
       "7   three  B  foo -1.807797  0.194638 2013-08-01\n",
       "8     one  C  foo -1.230429  0.069546 2013-09-01\n",
       "9     one  A  bar -1.080332 -0.222992 2013-10-01\n",
       "10    two  B  bar -0.099893 -1.111432 2013-11-01\n",
       "11  three  C  bar  1.104263 -1.613838 2013-12-01\n",
       "12    one  A  foo  1.415549  0.842345 2013-01-15\n",
       "13    one  B  foo  0.290204 -1.238715 2013-02-15\n",
       "14    two  C  foo -2.297036  0.808504 2013-03-15\n",
       "15  three  A  bar -1.735241  0.129068 2013-04-15\n",
       "16    one  B  bar  2.722110  0.826593 2013-05-15\n",
       "17    one  C  bar -0.886366  0.517629 2013-06-15\n",
       "18    two  A  foo -0.382218  0.744253 2013-07-15\n",
       "19  three  B  foo -0.378462 -0.295194 2013-08-15\n",
       "20    one  C  foo -1.524290 -1.217912 2013-09-15\n",
       "21    one  A  bar  1.296994 -0.718059 2013-10-15\n",
       "22    two  B  bar -0.757265  1.238186 2013-11-15\n",
       "23  three  C  bar  1.700312  1.514086 2013-12-15"
      ]
     },
     "execution_count": 142,
     "metadata": {},
     "output_type": "execute_result"
    }
   ],
   "source": [
    "df = pd.DataFrame({'A': ['one', 'one', 'two', 'three'] * 6,\n",
    "                   'B': ['A', 'B', 'C'] * 8,\n",
    "                   'C': ['foo', 'foo', 'foo', 'bar', 'bar', 'bar'] * 4,\n",
    "                   'D': np.random.randn(24),\n",
    "                   'E': np.random.randn(24),\n",
    "                   'F': [datetime.datetime(2013, i, 1) for i in range(1, 13)] +\n",
    "                        [datetime.datetime(2013, i, 15) for i in range(1, 13)]})\n",
    "df"
   ]
  },
  {
   "cell_type": "code",
   "execution_count": 143,
   "metadata": {
    "collapsed": false
   },
   "outputs": [
    {
     "data": {
      "text/html": [
       "<div>\n",
       "<table border=\"1\" class=\"dataframe\">\n",
       "  <thead>\n",
       "    <tr style=\"text-align: right;\">\n",
       "      <th></th>\n",
       "      <th>C</th>\n",
       "      <th>bar</th>\n",
       "      <th>foo</th>\n",
       "    </tr>\n",
       "    <tr>\n",
       "      <th>A</th>\n",
       "      <th>B</th>\n",
       "      <th></th>\n",
       "      <th></th>\n",
       "    </tr>\n",
       "  </thead>\n",
       "  <tbody>\n",
       "    <tr>\n",
       "      <th rowspan=\"3\" valign=\"top\">one</th>\n",
       "      <th>A</th>\n",
       "      <td>0.108331</td>\n",
       "      <td>0.619037</td>\n",
       "    </tr>\n",
       "    <tr>\n",
       "      <th>B</th>\n",
       "      <td>1.402474</td>\n",
       "      <td>-0.470239</td>\n",
       "    </tr>\n",
       "    <tr>\n",
       "      <th>C</th>\n",
       "      <td>-0.204937</td>\n",
       "      <td>-1.377359</td>\n",
       "    </tr>\n",
       "    <tr>\n",
       "      <th rowspan=\"3\" valign=\"top\">three</th>\n",
       "      <th>A</th>\n",
       "      <td>-0.937156</td>\n",
       "      <td>NaN</td>\n",
       "    </tr>\n",
       "    <tr>\n",
       "      <th>B</th>\n",
       "      <td>NaN</td>\n",
       "      <td>-1.093130</td>\n",
       "    </tr>\n",
       "    <tr>\n",
       "      <th>C</th>\n",
       "      <td>1.402287</td>\n",
       "      <td>NaN</td>\n",
       "    </tr>\n",
       "    <tr>\n",
       "      <th rowspan=\"3\" valign=\"top\">two</th>\n",
       "      <th>A</th>\n",
       "      <td>NaN</td>\n",
       "      <td>-0.638792</td>\n",
       "    </tr>\n",
       "    <tr>\n",
       "      <th>B</th>\n",
       "      <td>-0.428579</td>\n",
       "      <td>NaN</td>\n",
       "    </tr>\n",
       "    <tr>\n",
       "      <th>C</th>\n",
       "      <td>NaN</td>\n",
       "      <td>-0.205218</td>\n",
       "    </tr>\n",
       "  </tbody>\n",
       "</table>\n",
       "</div>"
      ],
      "text/plain": [
       "C             bar       foo\n",
       "A     B                    \n",
       "one   A  0.108331  0.619037\n",
       "      B  1.402474 -0.470239\n",
       "      C -0.204937 -1.377359\n",
       "three A -0.937156       NaN\n",
       "      B       NaN -1.093130\n",
       "      C  1.402287       NaN\n",
       "two   A       NaN -0.638792\n",
       "      B -0.428579       NaN\n",
       "      C       NaN -0.205218"
      ]
     },
     "execution_count": 143,
     "metadata": {},
     "output_type": "execute_result"
    }
   ],
   "source": [
    "pd.pivot_table(df, values='D', index=['A', 'B'], columns=['C'])"
   ]
  },
  {
   "cell_type": "code",
   "execution_count": 144,
   "metadata": {
    "collapsed": true
   },
   "outputs": [],
   "source": [
    "rng = pd.date_range('1/1/2012', periods=100, freq='S')"
   ]
  },
  {
   "cell_type": "code",
   "execution_count": 147,
   "metadata": {
    "collapsed": true
   },
   "outputs": [],
   "source": [
    "?rng = pd.date_range('1/1/2012', periods=100, freq='S')"
   ]
  },
  {
   "cell_type": "code",
   "execution_count": 150,
   "metadata": {
    "collapsed": false
   },
   "outputs": [
    {
     "data": {
      "text/plain": [
       "2012-01-01 00:00:00    259\n",
       "2012-01-01 00:00:01    182\n",
       "2012-01-01 00:00:02    249\n",
       "2012-01-01 00:00:03    181\n",
       "2012-01-01 00:00:04    137\n",
       "2012-01-01 00:00:05    484\n",
       "2012-01-01 00:00:06    471\n",
       "2012-01-01 00:00:07    450\n",
       "2012-01-01 00:00:08    167\n",
       "2012-01-01 00:00:09    334\n",
       "2012-01-01 00:00:10    447\n",
       "2012-01-01 00:00:11     32\n",
       "2012-01-01 00:00:12     82\n",
       "2012-01-01 00:00:13    206\n",
       "2012-01-01 00:00:14    405\n",
       "2012-01-01 00:00:15    177\n",
       "2012-01-01 00:00:16    238\n",
       "2012-01-01 00:00:17    391\n",
       "2012-01-01 00:00:18     17\n",
       "2012-01-01 00:00:19    169\n",
       "2012-01-01 00:00:20    149\n",
       "2012-01-01 00:00:21     25\n",
       "2012-01-01 00:00:22    129\n",
       "2012-01-01 00:00:23     90\n",
       "2012-01-01 00:00:24    462\n",
       "2012-01-01 00:00:25    216\n",
       "2012-01-01 00:00:26      8\n",
       "2012-01-01 00:00:27     78\n",
       "2012-01-01 00:00:28    413\n",
       "2012-01-01 00:00:29    394\n",
       "                      ... \n",
       "2012-01-01 00:01:10    324\n",
       "2012-01-01 00:01:11    463\n",
       "2012-01-01 00:01:12    176\n",
       "2012-01-01 00:01:13    402\n",
       "2012-01-01 00:01:14     73\n",
       "2012-01-01 00:01:15     25\n",
       "2012-01-01 00:01:16    262\n",
       "2012-01-01 00:01:17     49\n",
       "2012-01-01 00:01:18    181\n",
       "2012-01-01 00:01:19    178\n",
       "2012-01-01 00:01:20    288\n",
       "2012-01-01 00:01:21     19\n",
       "2012-01-01 00:01:22     37\n",
       "2012-01-01 00:01:23     85\n",
       "2012-01-01 00:01:24    188\n",
       "2012-01-01 00:01:25    161\n",
       "2012-01-01 00:01:26    237\n",
       "2012-01-01 00:01:27    260\n",
       "2012-01-01 00:01:28    127\n",
       "2012-01-01 00:01:29    338\n",
       "2012-01-01 00:01:30     71\n",
       "2012-01-01 00:01:31    138\n",
       "2012-01-01 00:01:32    347\n",
       "2012-01-01 00:01:33    324\n",
       "2012-01-01 00:01:34     77\n",
       "2012-01-01 00:01:35    149\n",
       "2012-01-01 00:01:36    184\n",
       "2012-01-01 00:01:37     63\n",
       "2012-01-01 00:01:38      0\n",
       "2012-01-01 00:01:39    284\n",
       "Freq: S, dtype: int32"
      ]
     },
     "execution_count": 150,
     "metadata": {},
     "output_type": "execute_result"
    }
   ],
   "source": [
    "ts = pd.Series(np.random.randint(0, 500, len(rng)), index=rng)\n",
    "ts"
   ]
  },
  {
   "cell_type": "code",
   "execution_count": 146,
   "metadata": {
    "collapsed": false
   },
   "outputs": [
    {
     "data": {
      "text/plain": [
       "2012-01-01    23208\n",
       "Freq: 5T, dtype: int32"
      ]
     },
     "execution_count": 146,
     "metadata": {},
     "output_type": "execute_result"
    }
   ],
   "source": [
    "ts.resample('5Min').sum()"
   ]
  },
  {
   "cell_type": "code",
   "execution_count": 148,
   "metadata": {
    "collapsed": true
   },
   "outputs": [],
   "source": [
    "?ts.resample('5Min').sum()"
   ]
  },
  {
   "cell_type": "code",
   "execution_count": 149,
   "metadata": {
    "collapsed": false
   },
   "outputs": [
    {
     "data": {
      "text/plain": [
       "DatetimeIndex(['2012-01-01 00:00:00', '2012-01-01 00:00:01',\n",
       "               '2012-01-01 00:00:02', '2012-01-01 00:00:03',\n",
       "               '2012-01-01 00:00:04', '2012-01-01 00:00:05',\n",
       "               '2012-01-01 00:00:06', '2012-01-01 00:00:07',\n",
       "               '2012-01-01 00:00:08', '2012-01-01 00:00:09',\n",
       "               '2012-01-01 00:00:10', '2012-01-01 00:00:11',\n",
       "               '2012-01-01 00:00:12', '2012-01-01 00:00:13',\n",
       "               '2012-01-01 00:00:14', '2012-01-01 00:00:15',\n",
       "               '2012-01-01 00:00:16', '2012-01-01 00:00:17',\n",
       "               '2012-01-01 00:00:18', '2012-01-01 00:00:19',\n",
       "               '2012-01-01 00:00:20', '2012-01-01 00:00:21',\n",
       "               '2012-01-01 00:00:22', '2012-01-01 00:00:23',\n",
       "               '2012-01-01 00:00:24', '2012-01-01 00:00:25',\n",
       "               '2012-01-01 00:00:26', '2012-01-01 00:00:27',\n",
       "               '2012-01-01 00:00:28', '2012-01-01 00:00:29',\n",
       "               '2012-01-01 00:00:30', '2012-01-01 00:00:31',\n",
       "               '2012-01-01 00:00:32', '2012-01-01 00:00:33',\n",
       "               '2012-01-01 00:00:34', '2012-01-01 00:00:35',\n",
       "               '2012-01-01 00:00:36', '2012-01-01 00:00:37',\n",
       "               '2012-01-01 00:00:38', '2012-01-01 00:00:39',\n",
       "               '2012-01-01 00:00:40', '2012-01-01 00:00:41',\n",
       "               '2012-01-01 00:00:42', '2012-01-01 00:00:43',\n",
       "               '2012-01-01 00:00:44', '2012-01-01 00:00:45',\n",
       "               '2012-01-01 00:00:46', '2012-01-01 00:00:47',\n",
       "               '2012-01-01 00:00:48', '2012-01-01 00:00:49',\n",
       "               '2012-01-01 00:00:50', '2012-01-01 00:00:51',\n",
       "               '2012-01-01 00:00:52', '2012-01-01 00:00:53',\n",
       "               '2012-01-01 00:00:54', '2012-01-01 00:00:55',\n",
       "               '2012-01-01 00:00:56', '2012-01-01 00:00:57',\n",
       "               '2012-01-01 00:00:58', '2012-01-01 00:00:59',\n",
       "               '2012-01-01 00:01:00', '2012-01-01 00:01:01',\n",
       "               '2012-01-01 00:01:02', '2012-01-01 00:01:03',\n",
       "               '2012-01-01 00:01:04', '2012-01-01 00:01:05',\n",
       "               '2012-01-01 00:01:06', '2012-01-01 00:01:07',\n",
       "               '2012-01-01 00:01:08', '2012-01-01 00:01:09',\n",
       "               '2012-01-01 00:01:10', '2012-01-01 00:01:11',\n",
       "               '2012-01-01 00:01:12', '2012-01-01 00:01:13',\n",
       "               '2012-01-01 00:01:14', '2012-01-01 00:01:15',\n",
       "               '2012-01-01 00:01:16', '2012-01-01 00:01:17',\n",
       "               '2012-01-01 00:01:18', '2012-01-01 00:01:19',\n",
       "               '2012-01-01 00:01:20', '2012-01-01 00:01:21',\n",
       "               '2012-01-01 00:01:22', '2012-01-01 00:01:23',\n",
       "               '2012-01-01 00:01:24', '2012-01-01 00:01:25',\n",
       "               '2012-01-01 00:01:26', '2012-01-01 00:01:27',\n",
       "               '2012-01-01 00:01:28', '2012-01-01 00:01:29',\n",
       "               '2012-01-01 00:01:30', '2012-01-01 00:01:31',\n",
       "               '2012-01-01 00:01:32', '2012-01-01 00:01:33',\n",
       "               '2012-01-01 00:01:34', '2012-01-01 00:01:35',\n",
       "               '2012-01-01 00:01:36', '2012-01-01 00:01:37',\n",
       "               '2012-01-01 00:01:38', '2012-01-01 00:01:39'],\n",
       "              dtype='datetime64[ns]', freq='S')"
      ]
     },
     "execution_count": 149,
     "metadata": {},
     "output_type": "execute_result"
    }
   ],
   "source": [
    "rng"
   ]
  },
  {
   "cell_type": "code",
   "execution_count": 151,
   "metadata": {
    "collapsed": false
   },
   "outputs": [
    {
     "data": {
      "text/plain": [
       "DatetimeIndex(['2012-03-06', '2012-03-07', '2012-03-08', '2012-03-09',\n",
       "               '2012-03-10'],\n",
       "              dtype='datetime64[ns]', freq='D')"
      ]
     },
     "execution_count": 151,
     "metadata": {},
     "output_type": "execute_result"
    }
   ],
   "source": [
    "rng = pd.date_range('3/6/2012 00:00', periods=5, freq='D')\n",
    "rng"
   ]
  },
  {
   "cell_type": "code",
   "execution_count": 152,
   "metadata": {
    "collapsed": false
   },
   "outputs": [
    {
     "data": {
      "text/plain": [
       "2012-03-06    0.491881\n",
       "2012-03-07    0.333013\n",
       "2012-03-08   -0.629014\n",
       "2012-03-09    1.290775\n",
       "2012-03-10    0.655993\n",
       "Freq: D, dtype: float64"
      ]
     },
     "execution_count": 152,
     "metadata": {},
     "output_type": "execute_result"
    }
   ],
   "source": [
    "ts = pd.Series(np.random.randn(len(rng)), rng)\n",
    "ts"
   ]
  },
  {
   "cell_type": "code",
   "execution_count": 153,
   "metadata": {
    "collapsed": false
   },
   "outputs": [
    {
     "data": {
      "text/plain": [
       "2012-03-06 00:00:00+00:00    0.491881\n",
       "2012-03-07 00:00:00+00:00    0.333013\n",
       "2012-03-08 00:00:00+00:00   -0.629014\n",
       "2012-03-09 00:00:00+00:00    1.290775\n",
       "2012-03-10 00:00:00+00:00    0.655993\n",
       "Freq: D, dtype: float64"
      ]
     },
     "execution_count": 153,
     "metadata": {},
     "output_type": "execute_result"
    }
   ],
   "source": [
    "ts_utc = ts.tz_localize('UTC')\n",
    "ts_utc "
   ]
  },
  {
   "cell_type": "code",
   "execution_count": 154,
   "metadata": {
    "collapsed": true
   },
   "outputs": [],
   "source": [
    "?ts_utc"
   ]
  },
  {
   "cell_type": "code",
   "execution_count": 155,
   "metadata": {
    "collapsed": false
   },
   "outputs": [
    {
     "data": {
      "text/plain": [
       "2012-03-05 19:00:00-05:00    0.491881\n",
       "2012-03-06 19:00:00-05:00    0.333013\n",
       "2012-03-07 19:00:00-05:00   -0.629014\n",
       "2012-03-08 19:00:00-05:00    1.290775\n",
       "2012-03-09 19:00:00-05:00    0.655993\n",
       "Freq: D, dtype: float64"
      ]
     },
     "execution_count": 155,
     "metadata": {},
     "output_type": "execute_result"
    }
   ],
   "source": [
    "ts_utc.tz_convert('US/Eastern')"
   ]
  },
  {
   "cell_type": "code",
   "execution_count": 156,
   "metadata": {
    "collapsed": false
   },
   "outputs": [
    {
     "data": {
      "text/plain": [
       "2012-01-31    0.249299\n",
       "2012-02-29    1.087523\n",
       "2012-03-31    0.355361\n",
       "2012-04-30    0.813476\n",
       "2012-05-31   -0.015414\n",
       "Freq: M, dtype: float64"
      ]
     },
     "execution_count": 156,
     "metadata": {},
     "output_type": "execute_result"
    }
   ],
   "source": [
    "rng = pd.date_range('1/1/2012', periods=5, freq='M')\n",
    "ts = pd.Series(np.random.randn(len(rng)), index=rng)\n",
    "ts"
   ]
  },
  {
   "cell_type": "code",
   "execution_count": 157,
   "metadata": {
    "collapsed": false
   },
   "outputs": [
    {
     "data": {
      "text/plain": [
       "2012-01    0.249299\n",
       "2012-02    1.087523\n",
       "2012-03    0.355361\n",
       "2012-04    0.813476\n",
       "2012-05   -0.015414\n",
       "Freq: M, dtype: float64"
      ]
     },
     "execution_count": 157,
     "metadata": {},
     "output_type": "execute_result"
    }
   ],
   "source": [
    "ps = ts.to_period()\n",
    "ps"
   ]
  },
  {
   "cell_type": "code",
   "execution_count": 159,
   "metadata": {
    "collapsed": true
   },
   "outputs": [],
   "source": [
    "?ts.to_period()"
   ]
  },
  {
   "cell_type": "code",
   "execution_count": 160,
   "metadata": {
    "collapsed": false
   },
   "outputs": [
    {
     "data": {
      "text/plain": [
       "2012-01-01    0.249299\n",
       "2012-02-01    1.087523\n",
       "2012-03-01    0.355361\n",
       "2012-04-01    0.813476\n",
       "2012-05-01   -0.015414\n",
       "Freq: MS, dtype: float64"
      ]
     },
     "execution_count": 160,
     "metadata": {},
     "output_type": "execute_result"
    }
   ],
   "source": [
    "ps.to_timestamp()"
   ]
  },
  {
   "cell_type": "code",
   "execution_count": 161,
   "metadata": {
    "collapsed": true
   },
   "outputs": [],
   "source": [
    "?ps.to_timestamp()"
   ]
  },
  {
   "cell_type": "code",
   "execution_count": 162,
   "metadata": {
    "collapsed": false
   },
   "outputs": [
    {
     "data": {
      "text/html": [
       "<div>\n",
       "<table border=\"1\" class=\"dataframe\">\n",
       "  <thead>\n",
       "    <tr style=\"text-align: right;\">\n",
       "      <th></th>\n",
       "      <th>id</th>\n",
       "      <th>raw_grade</th>\n",
       "    </tr>\n",
       "  </thead>\n",
       "  <tbody>\n",
       "    <tr>\n",
       "      <th>0</th>\n",
       "      <td>1</td>\n",
       "      <td>a</td>\n",
       "    </tr>\n",
       "    <tr>\n",
       "      <th>1</th>\n",
       "      <td>2</td>\n",
       "      <td>b</td>\n",
       "    </tr>\n",
       "    <tr>\n",
       "      <th>2</th>\n",
       "      <td>3</td>\n",
       "      <td>b</td>\n",
       "    </tr>\n",
       "    <tr>\n",
       "      <th>3</th>\n",
       "      <td>4</td>\n",
       "      <td>a</td>\n",
       "    </tr>\n",
       "    <tr>\n",
       "      <th>4</th>\n",
       "      <td>5</td>\n",
       "      <td>a</td>\n",
       "    </tr>\n",
       "    <tr>\n",
       "      <th>5</th>\n",
       "      <td>6</td>\n",
       "      <td>e</td>\n",
       "    </tr>\n",
       "  </tbody>\n",
       "</table>\n",
       "</div>"
      ],
      "text/plain": [
       "   id raw_grade\n",
       "0   1         a\n",
       "1   2         b\n",
       "2   3         b\n",
       "3   4         a\n",
       "4   5         a\n",
       "5   6         e"
      ]
     },
     "execution_count": 162,
     "metadata": {},
     "output_type": "execute_result"
    }
   ],
   "source": [
    "df = pd.DataFrame({\"id\":[1,2,3,4,5,6], \"raw_grade\":['a', 'b', 'b', 'a', 'a', 'e']})\n",
    "df"
   ]
  },
  {
   "cell_type": "code",
   "execution_count": 171,
   "metadata": {
    "collapsed": false
   },
   "outputs": [
    {
     "data": {
      "text/plain": [
       "0    a\n",
       "1    b\n",
       "2    b\n",
       "3    a\n",
       "4    a\n",
       "5    e\n",
       "Name: grade, dtype: category\n",
       "Categories (3, object): [a, b, e]"
      ]
     },
     "execution_count": 171,
     "metadata": {},
     "output_type": "execute_result"
    }
   ],
   "source": [
    "df[\"grade\"] = df[\"raw_grade\"].astype(\"category\")\n",
    "df[\"grade\"]"
   ]
  },
  {
   "cell_type": "code",
   "execution_count": 173,
   "metadata": {
    "collapsed": false
   },
   "outputs": [],
   "source": [
    "df[\"grade\"].cat.categories = [\"very good\", \"good\", \"very bad\"]"
   ]
  },
  {
   "cell_type": "code",
   "execution_count": 170,
   "metadata": {
    "collapsed": false
   },
   "outputs": [
    {
     "data": {
      "text/plain": [
       "0    very good\n",
       "1         good\n",
       "2         good\n",
       "3    very good\n",
       "4    very good\n",
       "5     very bad\n",
       "Name: grade, dtype: category\n",
       "Categories (3, object): [very good, good, very bad]"
      ]
     },
     "execution_count": 170,
     "metadata": {},
     "output_type": "execute_result"
    }
   ],
   "source": [
    "df[\"grade\"]"
   ]
  },
  {
   "cell_type": "code",
   "execution_count": 174,
   "metadata": {
    "collapsed": false
   },
   "outputs": [
    {
     "data": {
      "text/plain": [
       "0    very good\n",
       "1         good\n",
       "2         good\n",
       "3    very good\n",
       "4    very good\n",
       "5     very bad\n",
       "Name: grade, dtype: category\n",
       "Categories (5, object): [very bad, bad, medium, good, very good]"
      ]
     },
     "execution_count": 174,
     "metadata": {},
     "output_type": "execute_result"
    }
   ],
   "source": [
    "df[\"grade\"] = df[\"grade\"].cat.set_categories([\"very bad\", \"bad\", \"medium\", \"good\", \"very good\"])\n",
    "df[\"grade\"]"
   ]
  },
  {
   "cell_type": "code",
   "execution_count": 175,
   "metadata": {
    "collapsed": false
   },
   "outputs": [
    {
     "data": {
      "text/html": [
       "<div>\n",
       "<table border=\"1\" class=\"dataframe\">\n",
       "  <thead>\n",
       "    <tr style=\"text-align: right;\">\n",
       "      <th></th>\n",
       "      <th>id</th>\n",
       "      <th>raw_grade</th>\n",
       "      <th>grade</th>\n",
       "    </tr>\n",
       "  </thead>\n",
       "  <tbody>\n",
       "    <tr>\n",
       "      <th>5</th>\n",
       "      <td>6</td>\n",
       "      <td>e</td>\n",
       "      <td>very bad</td>\n",
       "    </tr>\n",
       "    <tr>\n",
       "      <th>1</th>\n",
       "      <td>2</td>\n",
       "      <td>b</td>\n",
       "      <td>good</td>\n",
       "    </tr>\n",
       "    <tr>\n",
       "      <th>2</th>\n",
       "      <td>3</td>\n",
       "      <td>b</td>\n",
       "      <td>good</td>\n",
       "    </tr>\n",
       "    <tr>\n",
       "      <th>0</th>\n",
       "      <td>1</td>\n",
       "      <td>a</td>\n",
       "      <td>very good</td>\n",
       "    </tr>\n",
       "    <tr>\n",
       "      <th>3</th>\n",
       "      <td>4</td>\n",
       "      <td>a</td>\n",
       "      <td>very good</td>\n",
       "    </tr>\n",
       "    <tr>\n",
       "      <th>4</th>\n",
       "      <td>5</td>\n",
       "      <td>a</td>\n",
       "      <td>very good</td>\n",
       "    </tr>\n",
       "  </tbody>\n",
       "</table>\n",
       "</div>"
      ],
      "text/plain": [
       "   id raw_grade      grade\n",
       "5   6         e   very bad\n",
       "1   2         b       good\n",
       "2   3         b       good\n",
       "0   1         a  very good\n",
       "3   4         a  very good\n",
       "4   5         a  very good"
      ]
     },
     "execution_count": 175,
     "metadata": {},
     "output_type": "execute_result"
    }
   ],
   "source": [
    "df.sort_values(by=\"grade\")"
   ]
  },
  {
   "cell_type": "code",
   "execution_count": 176,
   "metadata": {
    "collapsed": false
   },
   "outputs": [
    {
     "data": {
      "text/plain": [
       "grade\n",
       "very bad     1\n",
       "bad          0\n",
       "medium       0\n",
       "good         2\n",
       "very good    3\n",
       "dtype: int64"
      ]
     },
     "execution_count": 176,
     "metadata": {},
     "output_type": "execute_result"
    }
   ],
   "source": [
    "df.groupby(\"grade\").size()"
   ]
  },
  {
   "cell_type": "code",
   "execution_count": 177,
   "metadata": {
    "collapsed": true
   },
   "outputs": [],
   "source": [
    "import pandas as pd\n",
    "import numpy as np\n",
    "import matplotlib.pyplot as plt"
   ]
  },
  {
   "cell_type": "code",
   "execution_count": 183,
   "metadata": {
    "collapsed": false
   },
   "outputs": [],
   "source": [
    "ts = pd.Series(np.random.randn(1000), index=pd.date_range('1/1/2000', periods=1000))\n",
    "ts = ts.cumsum()\n",
    "ts.plot()\n",
    "plt.show()"
   ]
  },
  {
   "cell_type": "code",
   "execution_count": 184,
   "metadata": {
    "collapsed": true
   },
   "outputs": [],
   "source": [
    "?ts.cumsum()"
   ]
  },
  {
   "cell_type": "code",
   "execution_count": 188,
   "metadata": {
    "collapsed": false
   },
   "outputs": [],
   "source": [
    "df = pd.DataFrame(np.random.randn(1000, 4), index=ts.index,\n",
    "                   columns=['A', 'B', 'C', 'D'])\n",
    "df = df.cumsum()\n",
    "plt.figure()\n",
    "df.plot()\n",
    "plt.legend(loc='best')\n",
    "plt.show()"
   ]
  },
  {
   "cell_type": "code",
   "execution_count": 190,
   "metadata": {
    "collapsed": true
   },
   "outputs": [],
   "source": [
    "df.to_csv('foo.csv')"
   ]
  },
  {
   "cell_type": "code",
   "execution_count": 191,
   "metadata": {
    "collapsed": false
   },
   "outputs": [
    {
     "data": {
      "text/html": [
       "<div>\n",
       "<table border=\"1\" class=\"dataframe\">\n",
       "  <thead>\n",
       "    <tr style=\"text-align: right;\">\n",
       "      <th></th>\n",
       "      <th>Unnamed: 0</th>\n",
       "      <th>A</th>\n",
       "      <th>B</th>\n",
       "      <th>C</th>\n",
       "      <th>D</th>\n",
       "    </tr>\n",
       "  </thead>\n",
       "  <tbody>\n",
       "    <tr>\n",
       "      <th>0</th>\n",
       "      <td>2000-01-01</td>\n",
       "      <td>0.372279</td>\n",
       "      <td>0.275755</td>\n",
       "      <td>-0.771534</td>\n",
       "      <td>0.121789</td>\n",
       "    </tr>\n",
       "    <tr>\n",
       "      <th>1</th>\n",
       "      <td>2000-01-02</td>\n",
       "      <td>1.008005</td>\n",
       "      <td>0.271675</td>\n",
       "      <td>-1.451408</td>\n",
       "      <td>0.321153</td>\n",
       "    </tr>\n",
       "    <tr>\n",
       "      <th>2</th>\n",
       "      <td>2000-01-03</td>\n",
       "      <td>-0.803690</td>\n",
       "      <td>-1.102062</td>\n",
       "      <td>-1.789496</td>\n",
       "      <td>-1.857298</td>\n",
       "    </tr>\n",
       "    <tr>\n",
       "      <th>3</th>\n",
       "      <td>2000-01-04</td>\n",
       "      <td>-1.760489</td>\n",
       "      <td>-1.349559</td>\n",
       "      <td>-2.385475</td>\n",
       "      <td>-1.553706</td>\n",
       "    </tr>\n",
       "    <tr>\n",
       "      <th>4</th>\n",
       "      <td>2000-01-05</td>\n",
       "      <td>-2.463165</td>\n",
       "      <td>-1.132432</td>\n",
       "      <td>-3.339634</td>\n",
       "      <td>-1.973140</td>\n",
       "    </tr>\n",
       "    <tr>\n",
       "      <th>5</th>\n",
       "      <td>2000-01-06</td>\n",
       "      <td>-2.659429</td>\n",
       "      <td>-0.311667</td>\n",
       "      <td>-3.293621</td>\n",
       "      <td>-2.962361</td>\n",
       "    </tr>\n",
       "    <tr>\n",
       "      <th>6</th>\n",
       "      <td>2000-01-07</td>\n",
       "      <td>-2.080133</td>\n",
       "      <td>0.553750</td>\n",
       "      <td>-4.329401</td>\n",
       "      <td>-3.095963</td>\n",
       "    </tr>\n",
       "    <tr>\n",
       "      <th>7</th>\n",
       "      <td>2000-01-08</td>\n",
       "      <td>-3.428529</td>\n",
       "      <td>1.341764</td>\n",
       "      <td>-4.906001</td>\n",
       "      <td>-3.253060</td>\n",
       "    </tr>\n",
       "    <tr>\n",
       "      <th>8</th>\n",
       "      <td>2000-01-09</td>\n",
       "      <td>-1.487049</td>\n",
       "      <td>0.364826</td>\n",
       "      <td>-5.886229</td>\n",
       "      <td>-2.759100</td>\n",
       "    </tr>\n",
       "    <tr>\n",
       "      <th>9</th>\n",
       "      <td>2000-01-10</td>\n",
       "      <td>-0.490798</td>\n",
       "      <td>0.587424</td>\n",
       "      <td>-3.573619</td>\n",
       "      <td>-1.759594</td>\n",
       "    </tr>\n",
       "    <tr>\n",
       "      <th>10</th>\n",
       "      <td>2000-01-11</td>\n",
       "      <td>-1.453473</td>\n",
       "      <td>-0.915335</td>\n",
       "      <td>-4.768232</td>\n",
       "      <td>-1.528825</td>\n",
       "    </tr>\n",
       "    <tr>\n",
       "      <th>11</th>\n",
       "      <td>2000-01-12</td>\n",
       "      <td>-0.243350</td>\n",
       "      <td>-0.407529</td>\n",
       "      <td>-5.806487</td>\n",
       "      <td>-1.103142</td>\n",
       "    </tr>\n",
       "    <tr>\n",
       "      <th>12</th>\n",
       "      <td>2000-01-13</td>\n",
       "      <td>0.216709</td>\n",
       "      <td>-0.601498</td>\n",
       "      <td>-6.622776</td>\n",
       "      <td>-1.606804</td>\n",
       "    </tr>\n",
       "    <tr>\n",
       "      <th>13</th>\n",
       "      <td>2000-01-14</td>\n",
       "      <td>0.484006</td>\n",
       "      <td>-1.349472</td>\n",
       "      <td>-6.223206</td>\n",
       "      <td>-0.831193</td>\n",
       "    </tr>\n",
       "    <tr>\n",
       "      <th>14</th>\n",
       "      <td>2000-01-15</td>\n",
       "      <td>0.883904</td>\n",
       "      <td>0.358876</td>\n",
       "      <td>-6.392440</td>\n",
       "      <td>0.099249</td>\n",
       "    </tr>\n",
       "    <tr>\n",
       "      <th>15</th>\n",
       "      <td>2000-01-16</td>\n",
       "      <td>0.625897</td>\n",
       "      <td>1.972922</td>\n",
       "      <td>-5.639204</td>\n",
       "      <td>0.864659</td>\n",
       "    </tr>\n",
       "    <tr>\n",
       "      <th>16</th>\n",
       "      <td>2000-01-17</td>\n",
       "      <td>1.061144</td>\n",
       "      <td>1.848992</td>\n",
       "      <td>-4.139782</td>\n",
       "      <td>2.033170</td>\n",
       "    </tr>\n",
       "    <tr>\n",
       "      <th>17</th>\n",
       "      <td>2000-01-18</td>\n",
       "      <td>-0.215752</td>\n",
       "      <td>-0.337961</td>\n",
       "      <td>-5.238461</td>\n",
       "      <td>2.527930</td>\n",
       "    </tr>\n",
       "    <tr>\n",
       "      <th>18</th>\n",
       "      <td>2000-01-19</td>\n",
       "      <td>-1.365545</td>\n",
       "      <td>0.543789</td>\n",
       "      <td>-7.661539</td>\n",
       "      <td>3.545621</td>\n",
       "    </tr>\n",
       "    <tr>\n",
       "      <th>19</th>\n",
       "      <td>2000-01-20</td>\n",
       "      <td>-1.626346</td>\n",
       "      <td>3.071743</td>\n",
       "      <td>-7.444544</td>\n",
       "      <td>3.104770</td>\n",
       "    </tr>\n",
       "    <tr>\n",
       "      <th>20</th>\n",
       "      <td>2000-01-21</td>\n",
       "      <td>-3.952245</td>\n",
       "      <td>2.676050</td>\n",
       "      <td>-5.744689</td>\n",
       "      <td>3.515845</td>\n",
       "    </tr>\n",
       "    <tr>\n",
       "      <th>21</th>\n",
       "      <td>2000-01-22</td>\n",
       "      <td>-3.291661</td>\n",
       "      <td>3.960416</td>\n",
       "      <td>-6.217008</td>\n",
       "      <td>3.773190</td>\n",
       "    </tr>\n",
       "    <tr>\n",
       "      <th>22</th>\n",
       "      <td>2000-01-23</td>\n",
       "      <td>-3.972370</td>\n",
       "      <td>4.362068</td>\n",
       "      <td>-4.515753</td>\n",
       "      <td>3.469995</td>\n",
       "    </tr>\n",
       "    <tr>\n",
       "      <th>23</th>\n",
       "      <td>2000-01-24</td>\n",
       "      <td>-4.769343</td>\n",
       "      <td>4.575813</td>\n",
       "      <td>-3.269541</td>\n",
       "      <td>5.094504</td>\n",
       "    </tr>\n",
       "    <tr>\n",
       "      <th>24</th>\n",
       "      <td>2000-01-25</td>\n",
       "      <td>-5.293232</td>\n",
       "      <td>4.375369</td>\n",
       "      <td>-2.844335</td>\n",
       "      <td>4.102246</td>\n",
       "    </tr>\n",
       "    <tr>\n",
       "      <th>25</th>\n",
       "      <td>2000-01-26</td>\n",
       "      <td>-7.892518</td>\n",
       "      <td>5.578982</td>\n",
       "      <td>-3.288873</td>\n",
       "      <td>6.255684</td>\n",
       "    </tr>\n",
       "    <tr>\n",
       "      <th>26</th>\n",
       "      <td>2000-01-27</td>\n",
       "      <td>-9.073073</td>\n",
       "      <td>4.636380</td>\n",
       "      <td>-3.616093</td>\n",
       "      <td>7.554706</td>\n",
       "    </tr>\n",
       "    <tr>\n",
       "      <th>27</th>\n",
       "      <td>2000-01-28</td>\n",
       "      <td>-8.599542</td>\n",
       "      <td>5.761305</td>\n",
       "      <td>-1.665819</td>\n",
       "      <td>8.330339</td>\n",
       "    </tr>\n",
       "    <tr>\n",
       "      <th>28</th>\n",
       "      <td>2000-01-29</td>\n",
       "      <td>-8.547558</td>\n",
       "      <td>6.353363</td>\n",
       "      <td>-1.659255</td>\n",
       "      <td>9.987645</td>\n",
       "    </tr>\n",
       "    <tr>\n",
       "      <th>29</th>\n",
       "      <td>2000-01-30</td>\n",
       "      <td>-8.266521</td>\n",
       "      <td>5.932670</td>\n",
       "      <td>-3.021587</td>\n",
       "      <td>9.225753</td>\n",
       "    </tr>\n",
       "    <tr>\n",
       "      <th>...</th>\n",
       "      <td>...</td>\n",
       "      <td>...</td>\n",
       "      <td>...</td>\n",
       "      <td>...</td>\n",
       "      <td>...</td>\n",
       "    </tr>\n",
       "    <tr>\n",
       "      <th>970</th>\n",
       "      <td>2002-08-28</td>\n",
       "      <td>-78.402647</td>\n",
       "      <td>53.645837</td>\n",
       "      <td>-28.331848</td>\n",
       "      <td>-14.943175</td>\n",
       "    </tr>\n",
       "    <tr>\n",
       "      <th>971</th>\n",
       "      <td>2002-08-29</td>\n",
       "      <td>-78.358571</td>\n",
       "      <td>53.838635</td>\n",
       "      <td>-28.904661</td>\n",
       "      <td>-14.821656</td>\n",
       "    </tr>\n",
       "    <tr>\n",
       "      <th>972</th>\n",
       "      <td>2002-08-30</td>\n",
       "      <td>-79.199157</td>\n",
       "      <td>52.986559</td>\n",
       "      <td>-29.160008</td>\n",
       "      <td>-15.529478</td>\n",
       "    </tr>\n",
       "    <tr>\n",
       "      <th>973</th>\n",
       "      <td>2002-08-31</td>\n",
       "      <td>-79.123734</td>\n",
       "      <td>52.868892</td>\n",
       "      <td>-30.774898</td>\n",
       "      <td>-14.612859</td>\n",
       "    </tr>\n",
       "    <tr>\n",
       "      <th>974</th>\n",
       "      <td>2002-09-01</td>\n",
       "      <td>-79.517584</td>\n",
       "      <td>53.059171</td>\n",
       "      <td>-29.699648</td>\n",
       "      <td>-16.384478</td>\n",
       "    </tr>\n",
       "    <tr>\n",
       "      <th>975</th>\n",
       "      <td>2002-09-02</td>\n",
       "      <td>-80.804362</td>\n",
       "      <td>52.958526</td>\n",
       "      <td>-30.118665</td>\n",
       "      <td>-16.940764</td>\n",
       "    </tr>\n",
       "    <tr>\n",
       "      <th>976</th>\n",
       "      <td>2002-09-03</td>\n",
       "      <td>-80.287137</td>\n",
       "      <td>52.937308</td>\n",
       "      <td>-29.976469</td>\n",
       "      <td>-15.780993</td>\n",
       "    </tr>\n",
       "    <tr>\n",
       "      <th>977</th>\n",
       "      <td>2002-09-04</td>\n",
       "      <td>-80.728032</td>\n",
       "      <td>52.838718</td>\n",
       "      <td>-27.828741</td>\n",
       "      <td>-16.143782</td>\n",
       "    </tr>\n",
       "    <tr>\n",
       "      <th>978</th>\n",
       "      <td>2002-09-05</td>\n",
       "      <td>-80.609632</td>\n",
       "      <td>52.627034</td>\n",
       "      <td>-26.265754</td>\n",
       "      <td>-16.770916</td>\n",
       "    </tr>\n",
       "    <tr>\n",
       "      <th>979</th>\n",
       "      <td>2002-09-06</td>\n",
       "      <td>-79.444614</td>\n",
       "      <td>52.857889</td>\n",
       "      <td>-27.192655</td>\n",
       "      <td>-17.625371</td>\n",
       "    </tr>\n",
       "    <tr>\n",
       "      <th>980</th>\n",
       "      <td>2002-09-07</td>\n",
       "      <td>-80.399528</td>\n",
       "      <td>50.858373</td>\n",
       "      <td>-28.021145</td>\n",
       "      <td>-17.503917</td>\n",
       "    </tr>\n",
       "    <tr>\n",
       "      <th>981</th>\n",
       "      <td>2002-09-08</td>\n",
       "      <td>-80.975239</td>\n",
       "      <td>50.590222</td>\n",
       "      <td>-26.305946</td>\n",
       "      <td>-18.975308</td>\n",
       "    </tr>\n",
       "    <tr>\n",
       "      <th>982</th>\n",
       "      <td>2002-09-09</td>\n",
       "      <td>-79.961573</td>\n",
       "      <td>51.429490</td>\n",
       "      <td>-27.342697</td>\n",
       "      <td>-20.124849</td>\n",
       "    </tr>\n",
       "    <tr>\n",
       "      <th>983</th>\n",
       "      <td>2002-09-10</td>\n",
       "      <td>-81.077026</td>\n",
       "      <td>51.436850</td>\n",
       "      <td>-26.242929</td>\n",
       "      <td>-19.828160</td>\n",
       "    </tr>\n",
       "    <tr>\n",
       "      <th>984</th>\n",
       "      <td>2002-09-11</td>\n",
       "      <td>-79.836674</td>\n",
       "      <td>50.003259</td>\n",
       "      <td>-26.176154</td>\n",
       "      <td>-19.732620</td>\n",
       "    </tr>\n",
       "    <tr>\n",
       "      <th>985</th>\n",
       "      <td>2002-09-12</td>\n",
       "      <td>-80.181364</td>\n",
       "      <td>50.940347</td>\n",
       "      <td>-27.462204</td>\n",
       "      <td>-20.281699</td>\n",
       "    </tr>\n",
       "    <tr>\n",
       "      <th>986</th>\n",
       "      <td>2002-09-13</td>\n",
       "      <td>-79.804933</td>\n",
       "      <td>50.402877</td>\n",
       "      <td>-27.491399</td>\n",
       "      <td>-20.549760</td>\n",
       "    </tr>\n",
       "    <tr>\n",
       "      <th>987</th>\n",
       "      <td>2002-09-14</td>\n",
       "      <td>-79.498711</td>\n",
       "      <td>49.910940</td>\n",
       "      <td>-28.021061</td>\n",
       "      <td>-21.882739</td>\n",
       "    </tr>\n",
       "    <tr>\n",
       "      <th>988</th>\n",
       "      <td>2002-09-15</td>\n",
       "      <td>-79.806828</td>\n",
       "      <td>49.476017</td>\n",
       "      <td>-27.546006</td>\n",
       "      <td>-21.040003</td>\n",
       "    </tr>\n",
       "    <tr>\n",
       "      <th>989</th>\n",
       "      <td>2002-09-16</td>\n",
       "      <td>-79.502351</td>\n",
       "      <td>50.152199</td>\n",
       "      <td>-28.113783</td>\n",
       "      <td>-22.316441</td>\n",
       "    </tr>\n",
       "    <tr>\n",
       "      <th>990</th>\n",
       "      <td>2002-09-17</td>\n",
       "      <td>-80.361846</td>\n",
       "      <td>49.567609</td>\n",
       "      <td>-29.291891</td>\n",
       "      <td>-21.228625</td>\n",
       "    </tr>\n",
       "    <tr>\n",
       "      <th>991</th>\n",
       "      <td>2002-09-18</td>\n",
       "      <td>-80.569408</td>\n",
       "      <td>48.453258</td>\n",
       "      <td>-28.494211</td>\n",
       "      <td>-21.033097</td>\n",
       "    </tr>\n",
       "    <tr>\n",
       "      <th>992</th>\n",
       "      <td>2002-09-19</td>\n",
       "      <td>-82.428861</td>\n",
       "      <td>48.514497</td>\n",
       "      <td>-27.808926</td>\n",
       "      <td>-21.601703</td>\n",
       "    </tr>\n",
       "    <tr>\n",
       "      <th>993</th>\n",
       "      <td>2002-09-20</td>\n",
       "      <td>-82.045405</td>\n",
       "      <td>47.915248</td>\n",
       "      <td>-27.186511</td>\n",
       "      <td>-19.842668</td>\n",
       "    </tr>\n",
       "    <tr>\n",
       "      <th>994</th>\n",
       "      <td>2002-09-21</td>\n",
       "      <td>-81.738753</td>\n",
       "      <td>48.681048</td>\n",
       "      <td>-26.448175</td>\n",
       "      <td>-19.122874</td>\n",
       "    </tr>\n",
       "    <tr>\n",
       "      <th>995</th>\n",
       "      <td>2002-09-22</td>\n",
       "      <td>-81.053111</td>\n",
       "      <td>49.242865</td>\n",
       "      <td>-25.722535</td>\n",
       "      <td>-16.828452</td>\n",
       "    </tr>\n",
       "    <tr>\n",
       "      <th>996</th>\n",
       "      <td>2002-09-23</td>\n",
       "      <td>-78.737545</td>\n",
       "      <td>47.865602</td>\n",
       "      <td>-26.120032</td>\n",
       "      <td>-17.540907</td>\n",
       "    </tr>\n",
       "    <tr>\n",
       "      <th>997</th>\n",
       "      <td>2002-09-24</td>\n",
       "      <td>-76.946275</td>\n",
       "      <td>46.411458</td>\n",
       "      <td>-25.504988</td>\n",
       "      <td>-17.885354</td>\n",
       "    </tr>\n",
       "    <tr>\n",
       "      <th>998</th>\n",
       "      <td>2002-09-25</td>\n",
       "      <td>-78.159142</td>\n",
       "      <td>46.816614</td>\n",
       "      <td>-24.557009</td>\n",
       "      <td>-17.802961</td>\n",
       "    </tr>\n",
       "    <tr>\n",
       "      <th>999</th>\n",
       "      <td>2002-09-26</td>\n",
       "      <td>-79.197336</td>\n",
       "      <td>48.532300</td>\n",
       "      <td>-24.957773</td>\n",
       "      <td>-18.112223</td>\n",
       "    </tr>\n",
       "  </tbody>\n",
       "</table>\n",
       "<p>1000 rows × 5 columns</p>\n",
       "</div>"
      ],
      "text/plain": [
       "     Unnamed: 0          A          B          C          D\n",
       "0    2000-01-01   0.372279   0.275755  -0.771534   0.121789\n",
       "1    2000-01-02   1.008005   0.271675  -1.451408   0.321153\n",
       "2    2000-01-03  -0.803690  -1.102062  -1.789496  -1.857298\n",
       "3    2000-01-04  -1.760489  -1.349559  -2.385475  -1.553706\n",
       "4    2000-01-05  -2.463165  -1.132432  -3.339634  -1.973140\n",
       "5    2000-01-06  -2.659429  -0.311667  -3.293621  -2.962361\n",
       "6    2000-01-07  -2.080133   0.553750  -4.329401  -3.095963\n",
       "7    2000-01-08  -3.428529   1.341764  -4.906001  -3.253060\n",
       "8    2000-01-09  -1.487049   0.364826  -5.886229  -2.759100\n",
       "9    2000-01-10  -0.490798   0.587424  -3.573619  -1.759594\n",
       "10   2000-01-11  -1.453473  -0.915335  -4.768232  -1.528825\n",
       "11   2000-01-12  -0.243350  -0.407529  -5.806487  -1.103142\n",
       "12   2000-01-13   0.216709  -0.601498  -6.622776  -1.606804\n",
       "13   2000-01-14   0.484006  -1.349472  -6.223206  -0.831193\n",
       "14   2000-01-15   0.883904   0.358876  -6.392440   0.099249\n",
       "15   2000-01-16   0.625897   1.972922  -5.639204   0.864659\n",
       "16   2000-01-17   1.061144   1.848992  -4.139782   2.033170\n",
       "17   2000-01-18  -0.215752  -0.337961  -5.238461   2.527930\n",
       "18   2000-01-19  -1.365545   0.543789  -7.661539   3.545621\n",
       "19   2000-01-20  -1.626346   3.071743  -7.444544   3.104770\n",
       "20   2000-01-21  -3.952245   2.676050  -5.744689   3.515845\n",
       "21   2000-01-22  -3.291661   3.960416  -6.217008   3.773190\n",
       "22   2000-01-23  -3.972370   4.362068  -4.515753   3.469995\n",
       "23   2000-01-24  -4.769343   4.575813  -3.269541   5.094504\n",
       "24   2000-01-25  -5.293232   4.375369  -2.844335   4.102246\n",
       "25   2000-01-26  -7.892518   5.578982  -3.288873   6.255684\n",
       "26   2000-01-27  -9.073073   4.636380  -3.616093   7.554706\n",
       "27   2000-01-28  -8.599542   5.761305  -1.665819   8.330339\n",
       "28   2000-01-29  -8.547558   6.353363  -1.659255   9.987645\n",
       "29   2000-01-30  -8.266521   5.932670  -3.021587   9.225753\n",
       "..          ...        ...        ...        ...        ...\n",
       "970  2002-08-28 -78.402647  53.645837 -28.331848 -14.943175\n",
       "971  2002-08-29 -78.358571  53.838635 -28.904661 -14.821656\n",
       "972  2002-08-30 -79.199157  52.986559 -29.160008 -15.529478\n",
       "973  2002-08-31 -79.123734  52.868892 -30.774898 -14.612859\n",
       "974  2002-09-01 -79.517584  53.059171 -29.699648 -16.384478\n",
       "975  2002-09-02 -80.804362  52.958526 -30.118665 -16.940764\n",
       "976  2002-09-03 -80.287137  52.937308 -29.976469 -15.780993\n",
       "977  2002-09-04 -80.728032  52.838718 -27.828741 -16.143782\n",
       "978  2002-09-05 -80.609632  52.627034 -26.265754 -16.770916\n",
       "979  2002-09-06 -79.444614  52.857889 -27.192655 -17.625371\n",
       "980  2002-09-07 -80.399528  50.858373 -28.021145 -17.503917\n",
       "981  2002-09-08 -80.975239  50.590222 -26.305946 -18.975308\n",
       "982  2002-09-09 -79.961573  51.429490 -27.342697 -20.124849\n",
       "983  2002-09-10 -81.077026  51.436850 -26.242929 -19.828160\n",
       "984  2002-09-11 -79.836674  50.003259 -26.176154 -19.732620\n",
       "985  2002-09-12 -80.181364  50.940347 -27.462204 -20.281699\n",
       "986  2002-09-13 -79.804933  50.402877 -27.491399 -20.549760\n",
       "987  2002-09-14 -79.498711  49.910940 -28.021061 -21.882739\n",
       "988  2002-09-15 -79.806828  49.476017 -27.546006 -21.040003\n",
       "989  2002-09-16 -79.502351  50.152199 -28.113783 -22.316441\n",
       "990  2002-09-17 -80.361846  49.567609 -29.291891 -21.228625\n",
       "991  2002-09-18 -80.569408  48.453258 -28.494211 -21.033097\n",
       "992  2002-09-19 -82.428861  48.514497 -27.808926 -21.601703\n",
       "993  2002-09-20 -82.045405  47.915248 -27.186511 -19.842668\n",
       "994  2002-09-21 -81.738753  48.681048 -26.448175 -19.122874\n",
       "995  2002-09-22 -81.053111  49.242865 -25.722535 -16.828452\n",
       "996  2002-09-23 -78.737545  47.865602 -26.120032 -17.540907\n",
       "997  2002-09-24 -76.946275  46.411458 -25.504988 -17.885354\n",
       "998  2002-09-25 -78.159142  46.816614 -24.557009 -17.802961\n",
       "999  2002-09-26 -79.197336  48.532300 -24.957773 -18.112223\n",
       "\n",
       "[1000 rows x 5 columns]"
      ]
     },
     "execution_count": 191,
     "metadata": {},
     "output_type": "execute_result"
    }
   ],
   "source": [
    "pd.read_csv('foo.csv')"
   ]
  },
  {
   "cell_type": "code",
   "execution_count": 192,
   "metadata": {
    "collapsed": true
   },
   "outputs": [],
   "source": [
    "df.to_excel('foo.xlsx', sheet_name='Sheet1')"
   ]
  },
  {
   "cell_type": "code",
   "execution_count": 193,
   "metadata": {
    "collapsed": false
   },
   "outputs": [
    {
     "data": {
      "text/html": [
       "<div>\n",
       "<table border=\"1\" class=\"dataframe\">\n",
       "  <thead>\n",
       "    <tr style=\"text-align: right;\">\n",
       "      <th></th>\n",
       "      <th>A</th>\n",
       "      <th>B</th>\n",
       "      <th>C</th>\n",
       "      <th>D</th>\n",
       "    </tr>\n",
       "  </thead>\n",
       "  <tbody>\n",
       "    <tr>\n",
       "      <th>2000-01-01</th>\n",
       "      <td>0.372279</td>\n",
       "      <td>0.275755</td>\n",
       "      <td>-0.771534</td>\n",
       "      <td>0.121789</td>\n",
       "    </tr>\n",
       "    <tr>\n",
       "      <th>2000-01-02</th>\n",
       "      <td>1.008005</td>\n",
       "      <td>0.271675</td>\n",
       "      <td>-1.451408</td>\n",
       "      <td>0.321153</td>\n",
       "    </tr>\n",
       "    <tr>\n",
       "      <th>2000-01-03</th>\n",
       "      <td>-0.803690</td>\n",
       "      <td>-1.102062</td>\n",
       "      <td>-1.789496</td>\n",
       "      <td>-1.857298</td>\n",
       "    </tr>\n",
       "    <tr>\n",
       "      <th>2000-01-04</th>\n",
       "      <td>-1.760489</td>\n",
       "      <td>-1.349559</td>\n",
       "      <td>-2.385475</td>\n",
       "      <td>-1.553706</td>\n",
       "    </tr>\n",
       "    <tr>\n",
       "      <th>2000-01-05</th>\n",
       "      <td>-2.463165</td>\n",
       "      <td>-1.132432</td>\n",
       "      <td>-3.339634</td>\n",
       "      <td>-1.973140</td>\n",
       "    </tr>\n",
       "    <tr>\n",
       "      <th>2000-01-06</th>\n",
       "      <td>-2.659429</td>\n",
       "      <td>-0.311667</td>\n",
       "      <td>-3.293621</td>\n",
       "      <td>-2.962361</td>\n",
       "    </tr>\n",
       "    <tr>\n",
       "      <th>2000-01-07</th>\n",
       "      <td>-2.080133</td>\n",
       "      <td>0.553750</td>\n",
       "      <td>-4.329401</td>\n",
       "      <td>-3.095963</td>\n",
       "    </tr>\n",
       "    <tr>\n",
       "      <th>2000-01-08</th>\n",
       "      <td>-3.428529</td>\n",
       "      <td>1.341764</td>\n",
       "      <td>-4.906001</td>\n",
       "      <td>-3.253060</td>\n",
       "    </tr>\n",
       "    <tr>\n",
       "      <th>2000-01-09</th>\n",
       "      <td>-1.487049</td>\n",
       "      <td>0.364826</td>\n",
       "      <td>-5.886229</td>\n",
       "      <td>-2.759100</td>\n",
       "    </tr>\n",
       "    <tr>\n",
       "      <th>2000-01-10</th>\n",
       "      <td>-0.490798</td>\n",
       "      <td>0.587424</td>\n",
       "      <td>-3.573619</td>\n",
       "      <td>-1.759594</td>\n",
       "    </tr>\n",
       "    <tr>\n",
       "      <th>2000-01-11</th>\n",
       "      <td>-1.453473</td>\n",
       "      <td>-0.915335</td>\n",
       "      <td>-4.768232</td>\n",
       "      <td>-1.528825</td>\n",
       "    </tr>\n",
       "    <tr>\n",
       "      <th>2000-01-12</th>\n",
       "      <td>-0.243350</td>\n",
       "      <td>-0.407529</td>\n",
       "      <td>-5.806487</td>\n",
       "      <td>-1.103142</td>\n",
       "    </tr>\n",
       "    <tr>\n",
       "      <th>2000-01-13</th>\n",
       "      <td>0.216709</td>\n",
       "      <td>-0.601498</td>\n",
       "      <td>-6.622776</td>\n",
       "      <td>-1.606804</td>\n",
       "    </tr>\n",
       "    <tr>\n",
       "      <th>2000-01-14</th>\n",
       "      <td>0.484006</td>\n",
       "      <td>-1.349472</td>\n",
       "      <td>-6.223206</td>\n",
       "      <td>-0.831193</td>\n",
       "    </tr>\n",
       "    <tr>\n",
       "      <th>2000-01-15</th>\n",
       "      <td>0.883904</td>\n",
       "      <td>0.358876</td>\n",
       "      <td>-6.392440</td>\n",
       "      <td>0.099249</td>\n",
       "    </tr>\n",
       "    <tr>\n",
       "      <th>2000-01-16</th>\n",
       "      <td>0.625897</td>\n",
       "      <td>1.972922</td>\n",
       "      <td>-5.639204</td>\n",
       "      <td>0.864659</td>\n",
       "    </tr>\n",
       "    <tr>\n",
       "      <th>2000-01-17</th>\n",
       "      <td>1.061144</td>\n",
       "      <td>1.848992</td>\n",
       "      <td>-4.139782</td>\n",
       "      <td>2.033170</td>\n",
       "    </tr>\n",
       "    <tr>\n",
       "      <th>2000-01-18</th>\n",
       "      <td>-0.215752</td>\n",
       "      <td>-0.337961</td>\n",
       "      <td>-5.238461</td>\n",
       "      <td>2.527930</td>\n",
       "    </tr>\n",
       "    <tr>\n",
       "      <th>2000-01-19</th>\n",
       "      <td>-1.365545</td>\n",
       "      <td>0.543789</td>\n",
       "      <td>-7.661539</td>\n",
       "      <td>3.545621</td>\n",
       "    </tr>\n",
       "    <tr>\n",
       "      <th>2000-01-20</th>\n",
       "      <td>-1.626346</td>\n",
       "      <td>3.071743</td>\n",
       "      <td>-7.444544</td>\n",
       "      <td>3.104770</td>\n",
       "    </tr>\n",
       "    <tr>\n",
       "      <th>2000-01-21</th>\n",
       "      <td>-3.952245</td>\n",
       "      <td>2.676050</td>\n",
       "      <td>-5.744689</td>\n",
       "      <td>3.515845</td>\n",
       "    </tr>\n",
       "    <tr>\n",
       "      <th>2000-01-22</th>\n",
       "      <td>-3.291661</td>\n",
       "      <td>3.960416</td>\n",
       "      <td>-6.217008</td>\n",
       "      <td>3.773190</td>\n",
       "    </tr>\n",
       "    <tr>\n",
       "      <th>2000-01-23</th>\n",
       "      <td>-3.972370</td>\n",
       "      <td>4.362068</td>\n",
       "      <td>-4.515753</td>\n",
       "      <td>3.469995</td>\n",
       "    </tr>\n",
       "    <tr>\n",
       "      <th>2000-01-24</th>\n",
       "      <td>-4.769343</td>\n",
       "      <td>4.575813</td>\n",
       "      <td>-3.269541</td>\n",
       "      <td>5.094504</td>\n",
       "    </tr>\n",
       "    <tr>\n",
       "      <th>2000-01-25</th>\n",
       "      <td>-5.293232</td>\n",
       "      <td>4.375369</td>\n",
       "      <td>-2.844335</td>\n",
       "      <td>4.102246</td>\n",
       "    </tr>\n",
       "    <tr>\n",
       "      <th>2000-01-26</th>\n",
       "      <td>-7.892518</td>\n",
       "      <td>5.578982</td>\n",
       "      <td>-3.288873</td>\n",
       "      <td>6.255684</td>\n",
       "    </tr>\n",
       "    <tr>\n",
       "      <th>2000-01-27</th>\n",
       "      <td>-9.073073</td>\n",
       "      <td>4.636380</td>\n",
       "      <td>-3.616093</td>\n",
       "      <td>7.554706</td>\n",
       "    </tr>\n",
       "    <tr>\n",
       "      <th>2000-01-28</th>\n",
       "      <td>-8.599542</td>\n",
       "      <td>5.761305</td>\n",
       "      <td>-1.665819</td>\n",
       "      <td>8.330339</td>\n",
       "    </tr>\n",
       "    <tr>\n",
       "      <th>2000-01-29</th>\n",
       "      <td>-8.547558</td>\n",
       "      <td>6.353363</td>\n",
       "      <td>-1.659255</td>\n",
       "      <td>9.987645</td>\n",
       "    </tr>\n",
       "    <tr>\n",
       "      <th>2000-01-30</th>\n",
       "      <td>-8.266521</td>\n",
       "      <td>5.932670</td>\n",
       "      <td>-3.021587</td>\n",
       "      <td>9.225753</td>\n",
       "    </tr>\n",
       "    <tr>\n",
       "      <th>...</th>\n",
       "      <td>...</td>\n",
       "      <td>...</td>\n",
       "      <td>...</td>\n",
       "      <td>...</td>\n",
       "    </tr>\n",
       "    <tr>\n",
       "      <th>2002-08-28</th>\n",
       "      <td>-78.402647</td>\n",
       "      <td>53.645837</td>\n",
       "      <td>-28.331848</td>\n",
       "      <td>-14.943175</td>\n",
       "    </tr>\n",
       "    <tr>\n",
       "      <th>2002-08-29</th>\n",
       "      <td>-78.358571</td>\n",
       "      <td>53.838635</td>\n",
       "      <td>-28.904661</td>\n",
       "      <td>-14.821656</td>\n",
       "    </tr>\n",
       "    <tr>\n",
       "      <th>2002-08-30</th>\n",
       "      <td>-79.199157</td>\n",
       "      <td>52.986559</td>\n",
       "      <td>-29.160008</td>\n",
       "      <td>-15.529478</td>\n",
       "    </tr>\n",
       "    <tr>\n",
       "      <th>2002-08-31</th>\n",
       "      <td>-79.123734</td>\n",
       "      <td>52.868892</td>\n",
       "      <td>-30.774898</td>\n",
       "      <td>-14.612859</td>\n",
       "    </tr>\n",
       "    <tr>\n",
       "      <th>2002-09-01</th>\n",
       "      <td>-79.517584</td>\n",
       "      <td>53.059171</td>\n",
       "      <td>-29.699648</td>\n",
       "      <td>-16.384478</td>\n",
       "    </tr>\n",
       "    <tr>\n",
       "      <th>2002-09-02</th>\n",
       "      <td>-80.804362</td>\n",
       "      <td>52.958526</td>\n",
       "      <td>-30.118665</td>\n",
       "      <td>-16.940764</td>\n",
       "    </tr>\n",
       "    <tr>\n",
       "      <th>2002-09-03</th>\n",
       "      <td>-80.287137</td>\n",
       "      <td>52.937308</td>\n",
       "      <td>-29.976469</td>\n",
       "      <td>-15.780993</td>\n",
       "    </tr>\n",
       "    <tr>\n",
       "      <th>2002-09-04</th>\n",
       "      <td>-80.728032</td>\n",
       "      <td>52.838718</td>\n",
       "      <td>-27.828741</td>\n",
       "      <td>-16.143782</td>\n",
       "    </tr>\n",
       "    <tr>\n",
       "      <th>2002-09-05</th>\n",
       "      <td>-80.609632</td>\n",
       "      <td>52.627034</td>\n",
       "      <td>-26.265754</td>\n",
       "      <td>-16.770916</td>\n",
       "    </tr>\n",
       "    <tr>\n",
       "      <th>2002-09-06</th>\n",
       "      <td>-79.444614</td>\n",
       "      <td>52.857889</td>\n",
       "      <td>-27.192655</td>\n",
       "      <td>-17.625371</td>\n",
       "    </tr>\n",
       "    <tr>\n",
       "      <th>2002-09-07</th>\n",
       "      <td>-80.399528</td>\n",
       "      <td>50.858373</td>\n",
       "      <td>-28.021145</td>\n",
       "      <td>-17.503917</td>\n",
       "    </tr>\n",
       "    <tr>\n",
       "      <th>2002-09-08</th>\n",
       "      <td>-80.975239</td>\n",
       "      <td>50.590222</td>\n",
       "      <td>-26.305946</td>\n",
       "      <td>-18.975308</td>\n",
       "    </tr>\n",
       "    <tr>\n",
       "      <th>2002-09-09</th>\n",
       "      <td>-79.961573</td>\n",
       "      <td>51.429490</td>\n",
       "      <td>-27.342697</td>\n",
       "      <td>-20.124849</td>\n",
       "    </tr>\n",
       "    <tr>\n",
       "      <th>2002-09-10</th>\n",
       "      <td>-81.077026</td>\n",
       "      <td>51.436850</td>\n",
       "      <td>-26.242929</td>\n",
       "      <td>-19.828160</td>\n",
       "    </tr>\n",
       "    <tr>\n",
       "      <th>2002-09-11</th>\n",
       "      <td>-79.836674</td>\n",
       "      <td>50.003259</td>\n",
       "      <td>-26.176154</td>\n",
       "      <td>-19.732620</td>\n",
       "    </tr>\n",
       "    <tr>\n",
       "      <th>2002-09-12</th>\n",
       "      <td>-80.181364</td>\n",
       "      <td>50.940347</td>\n",
       "      <td>-27.462204</td>\n",
       "      <td>-20.281699</td>\n",
       "    </tr>\n",
       "    <tr>\n",
       "      <th>2002-09-13</th>\n",
       "      <td>-79.804933</td>\n",
       "      <td>50.402877</td>\n",
       "      <td>-27.491399</td>\n",
       "      <td>-20.549760</td>\n",
       "    </tr>\n",
       "    <tr>\n",
       "      <th>2002-09-14</th>\n",
       "      <td>-79.498711</td>\n",
       "      <td>49.910940</td>\n",
       "      <td>-28.021061</td>\n",
       "      <td>-21.882739</td>\n",
       "    </tr>\n",
       "    <tr>\n",
       "      <th>2002-09-15</th>\n",
       "      <td>-79.806828</td>\n",
       "      <td>49.476017</td>\n",
       "      <td>-27.546006</td>\n",
       "      <td>-21.040003</td>\n",
       "    </tr>\n",
       "    <tr>\n",
       "      <th>2002-09-16</th>\n",
       "      <td>-79.502351</td>\n",
       "      <td>50.152199</td>\n",
       "      <td>-28.113783</td>\n",
       "      <td>-22.316441</td>\n",
       "    </tr>\n",
       "    <tr>\n",
       "      <th>2002-09-17</th>\n",
       "      <td>-80.361846</td>\n",
       "      <td>49.567609</td>\n",
       "      <td>-29.291891</td>\n",
       "      <td>-21.228625</td>\n",
       "    </tr>\n",
       "    <tr>\n",
       "      <th>2002-09-18</th>\n",
       "      <td>-80.569408</td>\n",
       "      <td>48.453258</td>\n",
       "      <td>-28.494211</td>\n",
       "      <td>-21.033097</td>\n",
       "    </tr>\n",
       "    <tr>\n",
       "      <th>2002-09-19</th>\n",
       "      <td>-82.428861</td>\n",
       "      <td>48.514497</td>\n",
       "      <td>-27.808926</td>\n",
       "      <td>-21.601703</td>\n",
       "    </tr>\n",
       "    <tr>\n",
       "      <th>2002-09-20</th>\n",
       "      <td>-82.045405</td>\n",
       "      <td>47.915248</td>\n",
       "      <td>-27.186511</td>\n",
       "      <td>-19.842668</td>\n",
       "    </tr>\n",
       "    <tr>\n",
       "      <th>2002-09-21</th>\n",
       "      <td>-81.738753</td>\n",
       "      <td>48.681048</td>\n",
       "      <td>-26.448175</td>\n",
       "      <td>-19.122874</td>\n",
       "    </tr>\n",
       "    <tr>\n",
       "      <th>2002-09-22</th>\n",
       "      <td>-81.053111</td>\n",
       "      <td>49.242865</td>\n",
       "      <td>-25.722535</td>\n",
       "      <td>-16.828452</td>\n",
       "    </tr>\n",
       "    <tr>\n",
       "      <th>2002-09-23</th>\n",
       "      <td>-78.737545</td>\n",
       "      <td>47.865602</td>\n",
       "      <td>-26.120032</td>\n",
       "      <td>-17.540907</td>\n",
       "    </tr>\n",
       "    <tr>\n",
       "      <th>2002-09-24</th>\n",
       "      <td>-76.946275</td>\n",
       "      <td>46.411458</td>\n",
       "      <td>-25.504988</td>\n",
       "      <td>-17.885354</td>\n",
       "    </tr>\n",
       "    <tr>\n",
       "      <th>2002-09-25</th>\n",
       "      <td>-78.159142</td>\n",
       "      <td>46.816614</td>\n",
       "      <td>-24.557009</td>\n",
       "      <td>-17.802961</td>\n",
       "    </tr>\n",
       "    <tr>\n",
       "      <th>2002-09-26</th>\n",
       "      <td>-79.197336</td>\n",
       "      <td>48.532300</td>\n",
       "      <td>-24.957773</td>\n",
       "      <td>-18.112223</td>\n",
       "    </tr>\n",
       "  </tbody>\n",
       "</table>\n",
       "<p>1000 rows × 4 columns</p>\n",
       "</div>"
      ],
      "text/plain": [
       "                    A          B          C          D\n",
       "2000-01-01   0.372279   0.275755  -0.771534   0.121789\n",
       "2000-01-02   1.008005   0.271675  -1.451408   0.321153\n",
       "2000-01-03  -0.803690  -1.102062  -1.789496  -1.857298\n",
       "2000-01-04  -1.760489  -1.349559  -2.385475  -1.553706\n",
       "2000-01-05  -2.463165  -1.132432  -3.339634  -1.973140\n",
       "2000-01-06  -2.659429  -0.311667  -3.293621  -2.962361\n",
       "2000-01-07  -2.080133   0.553750  -4.329401  -3.095963\n",
       "2000-01-08  -3.428529   1.341764  -4.906001  -3.253060\n",
       "2000-01-09  -1.487049   0.364826  -5.886229  -2.759100\n",
       "2000-01-10  -0.490798   0.587424  -3.573619  -1.759594\n",
       "2000-01-11  -1.453473  -0.915335  -4.768232  -1.528825\n",
       "2000-01-12  -0.243350  -0.407529  -5.806487  -1.103142\n",
       "2000-01-13   0.216709  -0.601498  -6.622776  -1.606804\n",
       "2000-01-14   0.484006  -1.349472  -6.223206  -0.831193\n",
       "2000-01-15   0.883904   0.358876  -6.392440   0.099249\n",
       "2000-01-16   0.625897   1.972922  -5.639204   0.864659\n",
       "2000-01-17   1.061144   1.848992  -4.139782   2.033170\n",
       "2000-01-18  -0.215752  -0.337961  -5.238461   2.527930\n",
       "2000-01-19  -1.365545   0.543789  -7.661539   3.545621\n",
       "2000-01-20  -1.626346   3.071743  -7.444544   3.104770\n",
       "2000-01-21  -3.952245   2.676050  -5.744689   3.515845\n",
       "2000-01-22  -3.291661   3.960416  -6.217008   3.773190\n",
       "2000-01-23  -3.972370   4.362068  -4.515753   3.469995\n",
       "2000-01-24  -4.769343   4.575813  -3.269541   5.094504\n",
       "2000-01-25  -5.293232   4.375369  -2.844335   4.102246\n",
       "2000-01-26  -7.892518   5.578982  -3.288873   6.255684\n",
       "2000-01-27  -9.073073   4.636380  -3.616093   7.554706\n",
       "2000-01-28  -8.599542   5.761305  -1.665819   8.330339\n",
       "2000-01-29  -8.547558   6.353363  -1.659255   9.987645\n",
       "2000-01-30  -8.266521   5.932670  -3.021587   9.225753\n",
       "...               ...        ...        ...        ...\n",
       "2002-08-28 -78.402647  53.645837 -28.331848 -14.943175\n",
       "2002-08-29 -78.358571  53.838635 -28.904661 -14.821656\n",
       "2002-08-30 -79.199157  52.986559 -29.160008 -15.529478\n",
       "2002-08-31 -79.123734  52.868892 -30.774898 -14.612859\n",
       "2002-09-01 -79.517584  53.059171 -29.699648 -16.384478\n",
       "2002-09-02 -80.804362  52.958526 -30.118665 -16.940764\n",
       "2002-09-03 -80.287137  52.937308 -29.976469 -15.780993\n",
       "2002-09-04 -80.728032  52.838718 -27.828741 -16.143782\n",
       "2002-09-05 -80.609632  52.627034 -26.265754 -16.770916\n",
       "2002-09-06 -79.444614  52.857889 -27.192655 -17.625371\n",
       "2002-09-07 -80.399528  50.858373 -28.021145 -17.503917\n",
       "2002-09-08 -80.975239  50.590222 -26.305946 -18.975308\n",
       "2002-09-09 -79.961573  51.429490 -27.342697 -20.124849\n",
       "2002-09-10 -81.077026  51.436850 -26.242929 -19.828160\n",
       "2002-09-11 -79.836674  50.003259 -26.176154 -19.732620\n",
       "2002-09-12 -80.181364  50.940347 -27.462204 -20.281699\n",
       "2002-09-13 -79.804933  50.402877 -27.491399 -20.549760\n",
       "2002-09-14 -79.498711  49.910940 -28.021061 -21.882739\n",
       "2002-09-15 -79.806828  49.476017 -27.546006 -21.040003\n",
       "2002-09-16 -79.502351  50.152199 -28.113783 -22.316441\n",
       "2002-09-17 -80.361846  49.567609 -29.291891 -21.228625\n",
       "2002-09-18 -80.569408  48.453258 -28.494211 -21.033097\n",
       "2002-09-19 -82.428861  48.514497 -27.808926 -21.601703\n",
       "2002-09-20 -82.045405  47.915248 -27.186511 -19.842668\n",
       "2002-09-21 -81.738753  48.681048 -26.448175 -19.122874\n",
       "2002-09-22 -81.053111  49.242865 -25.722535 -16.828452\n",
       "2002-09-23 -78.737545  47.865602 -26.120032 -17.540907\n",
       "2002-09-24 -76.946275  46.411458 -25.504988 -17.885354\n",
       "2002-09-25 -78.159142  46.816614 -24.557009 -17.802961\n",
       "2002-09-26 -79.197336  48.532300 -24.957773 -18.112223\n",
       "\n",
       "[1000 rows x 4 columns]"
      ]
     },
     "execution_count": 193,
     "metadata": {},
     "output_type": "execute_result"
    }
   ],
   "source": [
    "pd.read_excel('foo.xlsx', 'Sheet1', index_col=None, na_values=['NA'])"
   ]
  },
  {
   "cell_type": "code",
   "execution_count": 194,
   "metadata": {
    "collapsed": false
   },
   "outputs": [
    {
     "ename": "ValueError",
     "evalue": "The truth value of a Series is ambiguous. Use a.empty, a.bool(), a.item(), a.any() or a.all().",
     "output_type": "error",
     "traceback": [
      "\u001b[1;31m---------------------------------------------------------------------------\u001b[0m",
      "\u001b[1;31mValueError\u001b[0m                                Traceback (most recent call last)",
      "\u001b[1;32m<ipython-input-194-9cae3ab0f79f>\u001b[0m in \u001b[0;36m<module>\u001b[1;34m()\u001b[0m\n\u001b[1;32m----> 1\u001b[1;33m \u001b[1;32mif\u001b[0m \u001b[0mpd\u001b[0m\u001b[1;33m.\u001b[0m\u001b[0mSeries\u001b[0m\u001b[1;33m(\u001b[0m\u001b[1;33m[\u001b[0m\u001b[1;32mFalse\u001b[0m\u001b[1;33m,\u001b[0m \u001b[1;32mTrue\u001b[0m\u001b[1;33m,\u001b[0m \u001b[1;32mFalse\u001b[0m\u001b[1;33m]\u001b[0m\u001b[1;33m)\u001b[0m\u001b[1;33m:\u001b[0m\u001b[1;33m\u001b[0m\u001b[0m\n\u001b[0m\u001b[0;32m      2\u001b[0m     \u001b[0mprint\u001b[0m\u001b[1;33m(\u001b[0m\u001b[1;34m\"I was true\"\u001b[0m\u001b[1;33m)\u001b[0m\u001b[1;33m\u001b[0m\u001b[0m\n",
      "\u001b[1;32mC:\\Anaconda3\\lib\\site-packages\\pandas\\core\\generic.py\u001b[0m in \u001b[0;36m__nonzero__\u001b[1;34m(self)\u001b[0m\n\u001b[0;32m    890\u001b[0m         raise ValueError(\"The truth value of a {0} is ambiguous. \"\n\u001b[0;32m    891\u001b[0m                          \u001b[1;34m\"Use a.empty, a.bool(), a.item(), a.any() or a.all().\"\u001b[0m\u001b[1;33m\u001b[0m\u001b[0m\n\u001b[1;32m--> 892\u001b[1;33m                          .format(self.__class__.__name__))\n\u001b[0m\u001b[0;32m    893\u001b[0m \u001b[1;33m\u001b[0m\u001b[0m\n\u001b[0;32m    894\u001b[0m     \u001b[0m__bool__\u001b[0m \u001b[1;33m=\u001b[0m \u001b[0m__nonzero__\u001b[0m\u001b[1;33m\u001b[0m\u001b[0m\n",
      "\u001b[1;31mValueError\u001b[0m: The truth value of a Series is ambiguous. Use a.empty, a.bool(), a.item(), a.any() or a.all()."
     ]
    }
   ],
   "source": [
    "if pd.Series([False, True, False]):\n",
    "    print(\"I was true\")"
   ]
  },
  {
   "cell_type": "code",
   "execution_count": null,
   "metadata": {
    "collapsed": true
   },
   "outputs": [],
   "source": []
  }
 ],
 "metadata": {
  "kernelspec": {
   "display_name": "Python [Root]",
   "language": "python",
   "name": "Python [Root]"
  },
  "language_info": {
   "codemirror_mode": {
    "name": "ipython",
    "version": 3
   },
   "file_extension": ".py",
   "mimetype": "text/x-python",
   "name": "python",
   "nbconvert_exporter": "python",
   "pygments_lexer": "ipython3",
   "version": "3.5.2"
  }
 },
 "nbformat": 4,
 "nbformat_minor": 0
}
