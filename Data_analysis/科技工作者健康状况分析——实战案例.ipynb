{
 "cells": [
  {
   "cell_type": "code",
   "execution_count": 2,
   "metadata": {
    "collapsed": false
   },
   "outputs": [
    {
     "name": "stdout",
     "output_type": "stream",
     "text": [
      "正在处理第50行数据...\n",
      "正在处理第100行数据...\n",
      "正在处理第150行数据...\n",
      "正在处理第200行数据...\n",
      "正在处理第250行数据...\n",
      "正在处理第300行数据...\n",
      "正在处理第350行数据...\n",
      "正在处理第400行数据...\n",
      "正在处理第450行数据...\n",
      "正在处理第500行数据...\n",
      "正在处理第550行数据...\n",
      "正在处理第600行数据...\n",
      "正在处理第650行数据...\n",
      "正在处理第700行数据...\n",
      "正在处理第750行数据...\n",
      "正在处理第800行数据...\n",
      "正在处理第850行数据...\n",
      "正在处理第900行数据...\n",
      "正在处理第950行数据...\n",
      "正在处理第1000行数据...\n",
      "正在处理第1050行数据...\n",
      "正在处理第1100行数据...\n",
      "正在处理第1150行数据...\n",
      "正在处理第1200行数据...\n",
      "正在处理第1250行数据...\n"
     ]
    }
   ],
   "source": [
    "# -*- coding: utf-8 -*-\n",
    "\n",
    "\"\"\"\n",
    "    作者:     梁斌\n",
    "    版本:     1.0\n",
    "    日期:     2017/02/06\n",
    "    项目名称：科技工作者心理健康数据分析 (Mental Health in Tech Survey)\n",
    "\"\"\"\n",
    "import csv\n",
    "\n",
    "# 数据集路径\n",
    "data_path = 'survey.csv'\n",
    "\n",
    "\n",
    "def run_main():\n",
    "    \"\"\"\n",
    "        主函数\n",
    "    \"\"\"\n",
    "    male_set = {'male', 'm'}  # “男性”可能的取值\n",
    "    female_set = {'female', 'f'}  # “女性”可能的取值\n",
    "\n",
    "    # 构造统计结果的数据结构 result_dict\n",
    "    # 其中每个元素是键值对，“键”是国家名称，“值”是列表结构，\n",
    "    # 列表的第一个数为该国家女性统计数据，第二个数为该国家男性统计数据\n",
    "    # 如 {'United States': [20, 50], 'Canada': [30, 40]}\n",
    "    # 思考：这里的“值”为什么用列表(list)而不用元组(tuple)\n",
    "    result_dict = {}\n",
    "\n",
    "    with open(data_path, 'r', newline='') as csvfile:\n",
    "        # 加载数据\n",
    "        rows = csv.reader(csvfile)\n",
    "        for i, row in enumerate(rows):\n",
    "            if i == 0:\n",
    "                # 跳过第一行表头数据\n",
    "                continue\n",
    "\n",
    "            if i % 50 == 0:\n",
    "                print('正在处理第{}行数据...'.format(i))\n",
    "            # 性别数据\n",
    "            gender_val = row[2]\n",
    "            country_val = row[3]\n",
    "\n",
    "            # 去掉可能存在的空格\n",
    "            gender_val = gender_val.replace(' ', '')\n",
    "            # 转换为小写\n",
    "            gender_val = gender_val.lower()\n",
    "\n",
    "            # 判断“国家”是否已经存在\n",
    "            if country_val not in result_dict:\n",
    "                # 如果不存在，初始化数据\n",
    "                result_dict[country_val] = [0, 0]\n",
    "\n",
    "            # 判断性别\n",
    "            if gender_val in female_set:\n",
    "                # 女性\n",
    "                result_dict[country_val][0] += 1\n",
    "            elif gender_val in male_set:\n",
    "                # 男性\n",
    "                result_dict[country_val][1] += 1\n",
    "            else:\n",
    "                # 噪声数据，不做处理\n",
    "                pass\n",
    "\n",
    "    # 将结果写入文件\n",
    "    with open('gender_country.csv', 'w', newline='', encoding='utf-16') as csvfile:\n",
    "        csvwriter = csv.writer(csvfile, delimiter=',')\n",
    "        # 写入表头\n",
    "        csvwriter.writerow(['国家', '男性', '女性'])\n",
    "\n",
    "        # 写入统计结果\n",
    "        for k, v in list(result_dict.items()):\n",
    "            csvwriter.writerow([k, v[0], v[1]])\n",
    "\n",
    "if __name__ == '__main__':\n",
    "    run_main()\n"
   ]
  },
  {
   "cell_type": "code",
   "execution_count": 6,
   "metadata": {
    "collapsed": false
   },
   "outputs": [
    {
     "ename": "SyntaxError",
     "evalue": "invalid syntax (<ipython-input-6-0726ea8728c8>, line 2)",
     "output_type": "error",
     "traceback": [
      "\u001b[1;36m  File \u001b[1;32m\"<ipython-input-6-0726ea8728c8>\"\u001b[1;36m, line \u001b[1;32m2\u001b[0m\n\u001b[1;33m    print('正在处理第{}行数据...'format(i))\u001b[0m\n\u001b[1;37m                              ^\u001b[0m\n\u001b[1;31mSyntaxError\u001b[0m\u001b[1;31m:\u001b[0m invalid syntax\n"
     ]
    }
   ],
   "source": [
    "for i in range(5):\n",
    "    print('正在处理第{}行数据...'.format(i))\n",
    "    "
   ]
  },
  {
   "cell_type": "code",
   "execution_count": 10,
   "metadata": {
    "collapsed": true
   },
   "outputs": [],
   "source": []
  },
  {
   "cell_type": "code",
   "execution_count": 11,
   "metadata": {
    "collapsed": false
   },
   "outputs": [],
   "source": []
  },
  {
   "cell_type": "code",
   "execution_count": null,
   "metadata": {
    "collapsed": true
   },
   "outputs": [],
   "source": []
  }
 ],
 "metadata": {
  "kernelspec": {
   "display_name": "Python [Root]",
   "language": "python",
   "name": "Python [Root]"
  },
  "language_info": {
   "codemirror_mode": {
    "name": "ipython",
    "version": 3
   },
   "file_extension": ".py",
   "mimetype": "text/x-python",
   "name": "python",
   "nbconvert_exporter": "python",
   "pygments_lexer": "ipython3",
   "version": "3.5.2"
  }
 },
 "nbformat": 4,
 "nbformat_minor": 2
}
